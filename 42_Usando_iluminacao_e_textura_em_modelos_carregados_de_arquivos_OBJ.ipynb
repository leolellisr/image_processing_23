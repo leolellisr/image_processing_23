{
 "cells": [
  {
   "cell_type": "markdown",
   "metadata": {},
   "source": [
    "## 42 Usando iluminação e textura em modelos carregados de arquivos OBJ\n",
    "\n",
    "Modelo obtido no link: https://www.cgtrader.com/free-3d-models/vehicle/sci-fi/saucer-2-and-saucer-2-advanced"
   ]
  },
  {
   "cell_type": "code",
   "execution_count": 5,
   "metadata": {
    "ExecuteTime": {
     "end_time": "2020-06-30T03:43:54.414023Z",
     "start_time": "2020-06-30T03:43:35.883575Z"
    },
    "scrolled": true
   },
   "outputs": [
    {
     "name": "stdout",
     "output_type": "stream",
     "text": [
      "material_name = Core - vertex_format = N3F_V3F - min = -2.25019907951355 - max = 2.250200033187866\n",
      "material_name = Hull - vertex_format = T2F_N3F_V3F - min = -5.9427170753479 - max = 6.9427170753479\n",
      "['Core', 'Hull']\n",
      "trying to open ./cg/models/obj/ovni/dark-metal-grid-1.jpg\n",
      "opened file: size= (2500, 2000) format= JPEG mode= RGB\n"
     ]
    },
    {
     "ename": "SystemExit",
     "evalue": "0",
     "output_type": "error",
     "traceback": [
      "An exception has occurred, use %tb to see the full traceback.\n",
      "\u001b[1;31mSystemExit\u001b[0m\u001b[1;31m:\u001b[0m 0\n"
     ]
    },
    {
     "name": "stderr",
     "output_type": "stream",
     "text": [
      "C:\\Users\\Rapha\\Anaconda3\\lib\\site-packages\\IPython\\core\\interactiveshell.py:2889: UserWarning: To exit: use 'exit', 'quit', or Ctrl-D.\n",
      "  warn(\"To exit: use 'exit', 'quit', or Ctrl-D.\", stacklevel=1)\n"
     ]
    }
   ],
   "source": [
    "import glm\n",
    "import numpy as np\n",
    "import OpenGL.GL as gl\n",
    "from PyQt5 import QtOpenGL\n",
    "from PyQt5.QtCore import QCoreApplication\n",
    "from PyQt5.QtWidgets import QApplication\n",
    "\n",
    "from cg.shader_programs.PhongShadingShaderProgram_v2 import PhongShadingShaderProgram\n",
    "from cg.models.ObjLoader_v2 import ObjLoader\n",
    "from cg.renderers.ModelRenderer_v4 import ModelRenderer\n",
    "from cg.models.SphereMesh_v2 import SphereMesh\n",
    "from cg.utils.Texture import Texture\n",
    "\n",
    "class MyWidget(QtOpenGL.QGLWidget):\n",
    "    def initializeGL(self):\n",
    "        \n",
    "        self.cameraEye   = glm.vec3(0.0, 0.0, 2.8)\n",
    "        self.cameraCenter = glm.vec3(0.0, 0.0, -1.0)\n",
    "        self.cameraUp    = glm.vec3(0.0, 1.0,  0.0)\n",
    "        self.viewMatrix = glm.lookAt(self.cameraEye, self.cameraCenter, self.cameraUp)\n",
    "\n",
    "        # carrega objeto\n",
    "        self.objLoader = ObjLoader('./cg/models/obj/ovni/Saucer_2(adv).obj')\n",
    "        \n",
    "        # recupera e imprime a lista de nomes dos itens carregados\n",
    "        print(self.objLoader.getItemNames())\n",
    "        \n",
    "        # cria um renderizador para cada objeto\n",
    "        self.ovniCoreRenderer = ModelRenderer(self.objLoader.getVertexPositions('Core'),\n",
    "                                              vertex_normal=self.objLoader.getVertexNormals('Core'),\n",
    "                                              vertex_tex=self.objLoader.getVertexTextureCoord('Core'))\n",
    "        \n",
    "        self.ovniHullRenderer = ModelRenderer(self.objLoader.getVertexPositions('Hull'),\n",
    "                                              vertex_normal=self.objLoader.getVertexNormals('Hull'),\n",
    "                                              vertex_tex=self.objLoader.getVertexTextureCoord('Hull'))\n",
    "        \n",
    "        # defini posição da luz\n",
    "        self.lightPosition = glm.vec4(0.0, 0, 2.0, 1)\n",
    "        \n",
    "        # cria um shader program \n",
    "        self.shaderProgram = PhongShadingShaderProgram()\n",
    "        \n",
    "        # ativa o shader programa para configurar uma cor única para todos os vértices\n",
    "        self.shaderProgram.bind()\n",
    "        self.shaderProgram.useUniformMaterialColor(True)\n",
    "        self.shaderProgram.setUniformLightPosition(self.viewMatrix * self.lightPosition)\n",
    "\n",
    "        # recupera o endereço da variável de entrada do shader program\n",
    "        position_loc = self.shaderProgram.getVertexPositionLoc()\n",
    "        normal_loc = self.shaderProgram.getVertexNormalLoc()\n",
    "        texture_loc = self.shaderProgram.getVertexTextureCoordLoc()\n",
    "        \n",
    "        # configura os dados dos modelos para serem os dados de entrada do shader program\n",
    "        self.ovniCoreRenderer.setVertexPositionLoc(position_loc)\n",
    "        self.ovniHullRenderer.setVertexPositionLoc(position_loc)\n",
    "        \n",
    "        # verifica quais atributos de vértices os itens carregados possuem\n",
    "        if(self.objLoader.hasVertexNormals('Core')):\n",
    "            self.ovniCoreRenderer.setVertexNormalLoc(normal_loc)\n",
    "        \n",
    "        if(self.objLoader.hasVertexNormals('Hull')):\n",
    "            self.ovniHullRenderer.setVertexNormalLoc(normal_loc)\n",
    "        \n",
    "        if(self.objLoader.hasVertexTextureCoord('Hull')):\n",
    "            self.ovniHullRenderer.setVertexTextureCoordLoc(texture_loc)\n",
    "    \n",
    "        # carrega a textura\n",
    "        self.texture = Texture('./cg/models/obj/ovni/dark-metal-grid-1.jpg')\n",
    "        \n",
    "        # inicializa a variável que contém o ângulo de rotação\n",
    "        self.angle = 0\n",
    "\n",
    "        # configura a cor de background\n",
    "        gl.glClearColor(1, 1, 1, 1)\n",
    "        \n",
    "        # ativa o teste de profundidade e culling\n",
    "        gl.glEnable(gl.GL_DEPTH_TEST)\n",
    "        gl.glEnable(gl.GL_CULL_FACE)\n",
    "        \n",
    "    def paintGL(self):\n",
    "        \n",
    "        # limpa o background com a cor especificada e o buffer de profundidade\n",
    "        gl.glClear(gl.GL_COLOR_BUFFER_BIT | gl.GL_DEPTH_BUFFER_BIT)\n",
    "        \n",
    "        # calcula as matrizes de transformação e atualiza a matriz do shader\n",
    "        trans = glm.rotate(glm.mat4(), glm.radians(self.angle), glm.vec3(1.0, 0.0, 0.0))\n",
    "        scale = glm.scale(glm.mat4(), glm.vec3(0.6, 0.6, 0.6))\n",
    "        model_matrix = trans * scale\n",
    "        self.shaderProgram.setUniformMVPMatrix(self.perspectiveMatrix * self.viewMatrix * model_matrix)\n",
    "        self.shaderProgram.setUniformModelViewMatrix(self.viewMatrix * model_matrix)\n",
    "\n",
    "        # incrementa a variável que contém o ângulo de rotação\n",
    "        self.angle += 0.01\n",
    "\n",
    "        # habilita a textura\n",
    "        self.shaderProgram.bindTexture2D(self.texture.getTextureID())\n",
    "        \n",
    "        # renderiza o primeiro item\n",
    "        self.ovniHullRenderer.render()\n",
    "        \n",
    "        # desabilita a textura\n",
    "        self.shaderProgram.releaseTexture2D()\n",
    "        \n",
    "        # mudar a cor no shader e renderiza o segundo item\n",
    "        self.shaderProgram.setUniformMaterialColor(np.array([0.0, 1.0, 0.0, 1.0], dtype=np.float32))\n",
    "        self.ovniCoreRenderer.render()\n",
    "        \n",
    "        self.update()\n",
    "\n",
    "    def resizeGL(self, width, height):\n",
    "        \n",
    "        # atualiza o viewport\n",
    "        gl.glViewport(0, 0, width, height)\n",
    "        \n",
    "        # atualiza a matriz de projeção perspectiva\n",
    "        aspectRatio = width / height\n",
    "        self.perspectiveMatrix = glm.perspective(glm.radians(60.0), aspectRatio, 0.1, 5.0)\n",
    "        \n",
    "def main():\n",
    "    import sys\n",
    "\n",
    "    #Criação de um aplicativo Qt\n",
    "    app = QCoreApplication.instance()\n",
    "    if app is None:\n",
    "        app = QApplication(sys.argv)\n",
    "\n",
    "    #Especificação do contexto OpenGL\n",
    "    glformat = QtOpenGL.QGLFormat()\n",
    "    glformat.setVersion(3, 3)\n",
    "    glformat.setDoubleBuffer(True)\n",
    "    glformat.setProfile(QtOpenGL.QGLFormat.CoreProfile)\n",
    "    \n",
    "    #Criação da janela de renderização\n",
    "    w = MyWidget(glformat)\n",
    "    w.resize(640, 480)\n",
    "    w.setWindowTitle('OpenGL example')\n",
    "    w.show()\n",
    "    \n",
    "    \n",
    "    sys.exit(app.exec_())\n",
    "\n",
    "if __name__ == '__main__':\n",
    "    main()"
   ]
  },
  {
   "cell_type": "code",
   "execution_count": 4,
   "metadata": {
    "ExecuteTime": {
     "end_time": "2020-06-30T02:20:35.481715Z",
     "start_time": "2020-06-30T02:20:10.236211Z"
    }
   },
   "outputs": [
    {
     "name": "stderr",
     "output_type": "stream",
     "text": [
      "[NbConvertApp] Converting notebook 41_Carregando_modelos_de_arquivos_OBJ_com_iluminacao_e_textura.ipynb to python\n",
      "[NbConvertApp] Writing 5543 bytes to 41_Carregando_modelos_de_arquivos_OBJ_com_iluminacao_e_textura.py\n"
     ]
    },
    {
     "name": "stdout",
     "output_type": "stream",
     "text": [
      "material_name = Core - vertex_format = N3F_V3F - min = -2.25019907951355 - max = 2.250200033187866\n",
      "material_name = Hull - vertex_format = T2F_N3F_V3F - min = -5.9427170753479 - max = 6.9427170753479\n",
      "['Core', 'Hull']\n",
      "trying to open ./models/obj/ovni/dark-metal-grid-1.jpg\n",
      "opened file: size= (2500, 2000) format= JPEG mode= RGB\n"
     ]
    }
   ],
   "source": [
    "! jupyter nbconvert --to python 42_Usando_iluminacao_e_textura_em_modelos_carregados_de_arquivos_OBJ.ipynb\n",
    "%run -i 42_Usando_iluminacao_e_textura_em_modelos_carregados_de_arquivos_OBJ.py"
   ]
  },
  {
   "cell_type": "code",
   "execution_count": null,
   "metadata": {
    "collapsed": true
   },
   "outputs": [],
   "source": []
  }
 ],
 "metadata": {
  "kernelspec": {
   "display_name": "Python 3",
   "language": "python",
   "name": "python3"
  },
  "language_info": {
   "codemirror_mode": {
    "name": "ipython",
    "version": 3
   },
   "file_extension": ".py",
   "mimetype": "text/x-python",
   "name": "python",
   "nbconvert_exporter": "python",
   "pygments_lexer": "ipython3",
   "version": "3.6.1"
  }
 },
 "nbformat": 4,
 "nbformat_minor": 2
}
