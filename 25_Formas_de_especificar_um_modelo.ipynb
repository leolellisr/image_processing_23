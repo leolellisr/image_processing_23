{
 "cells": [
  {
   "cell_type": "markdown",
   "metadata": {},
   "source": [
    "## Formas de especificar um modelo\n",
    "\n",
    "Neste exemplo, é mostrado como descrever e renderizar um objeto utilizando as primitivas de triângulo, linhas e pontos. Além disso, é mostrado também como utilizar a função 'glViewport()' para renderizar em diferentes porções da tela.\n",
    "\n",
    "Há várias formas de descrever a malha triangular de um modelo. Uma dessas formas é definir um vetor contendo todas as coordenadas dos vértices do objeto em que três coordenadas consecutivas definem um triângulo (vetor com nome 'vertex_position' deste exemplo), como temos feito até agora.  Uma desvantagem dessa abordagem é que coordenadas comuns em mais de um triângulo aparecem repetidas no vetor de dados. Para evitar essa redundância e economizar memória, a malha triangular pode ser descrita utilizando dois vetores. Um desses vetores armazena, sem redundância, todas as coordenadas dos vértices do objeto (vetor com nome 'vertex_position_02' deste exemplo). E outro vetor armazena os índices dessas coordenadas em que três índices consecutivos definem um triângulo (vetor com nome 'vertex_indices' deste exemplo). Este notebook mostra estas duas abordagens. Perceba que o recurso de culling está ativado neste exemplo e que todos os vértices foram especificados no sentido anti-horário. Caso contrário, os triângulos não seriam renderizados.\n",
    "\n",
    "Para desenhar linhas, os vértices do vetor 'vertex_position_02' foram renderizados utilizando as primitivas LINES e LINE_LOOPS como exemplo. A primeira renderiza uma nova linha a cada dois vértices. No caso do vetor 'vertex_position_02' que possui quatro vértices, duas linhas são renderizadas. A segunda primitiva renderiza uma linha que conecta um vértice com o vértice anterior e conecta o último vértice com o primeiro. No caso do vetor 'vertex_position_02', quatro linhas são renderizadas, formando um quadrado não preenchido. A abordagem de descrever um objeto utilizando um vetor de índices (apresentada na renderização de triângulos) para renderizar somente linhas pode ser usada em ambas as primitivas de linhas. No entanto, há economia de memória apenas com a primitiva LINES.\n",
    "\n",
    "Por fim, para desenhar pontos, os vértices do vetor 'vertex_position_02' também foram utilizados, mas agora utilizando a primitiva POINTS, que renderiza um ponto na tela para cada vértice. Com esta primitiva, a abordagem de descrever um objeto utilizando um vetor de índices para renderizar somente pontos não apresenta benefícios."
   ]
  },
  {
   "cell_type": "code",
   "execution_count": 3,
   "metadata": {
    "ExecuteTime": {
     "end_time": "2020-05-19T18:51:50.151994Z",
     "start_time": "2020-05-19T18:51:48.125479Z"
    }
   },
   "outputs": [
    {
     "ename": "SystemExit",
     "evalue": "0",
     "output_type": "error",
     "traceback": [
      "An exception has occurred, use %tb to see the full traceback.\n",
      "\u001b[1;31mSystemExit\u001b[0m\u001b[1;31m:\u001b[0m 0\n"
     ]
    },
    {
     "name": "stderr",
     "output_type": "stream",
     "text": [
      "C:\\Users\\Rapha\\Anaconda3\\lib\\site-packages\\IPython\\core\\interactiveshell.py:2889: UserWarning: To exit: use 'exit', 'quit', or Ctrl-D.\n",
      "  warn(\"To exit: use 'exit', 'quit', or Ctrl-D.\", stacklevel=1)\n"
     ]
    }
   ],
   "source": [
    "import numpy as np\n",
    "import OpenGL.GL as gl\n",
    "from PyQt5 import QtOpenGL\n",
    "from PyQt5.QtCore import QCoreApplication\n",
    "from PyQt5.QtWidgets import QApplication\n",
    "\n",
    "from cg.shader_programs.SimpleShaderProgram_v2 import SimpleShaderProgram\n",
    "from cg.renderers.ModelRenderer_v2 import ModelRenderer\n",
    "\n",
    "class MyWidget(QtOpenGL.QGLWidget):\n",
    "    def initializeGL(self):\n",
    "        \n",
    "        # posição dos vértices dos triângulos que compõem o quadrado \n",
    "        vertex_position = np.array([\n",
    "            -0.5, -0.5, 0.0, 1.0, # Triângulo 1 (sentido anti-horário)\n",
    "             0.5, -0.5, 0.0, 1.0,\n",
    "            -0.5,  0.5, 0.0, 1.0,\n",
    "             0.5, -0.5, 0.0, 1.0, # Triângulo 2 (sentido anti-horário)\n",
    "             0.5,  0.5, 0.0, 1.0,\n",
    "            -0.5,  0.5, 0.0, 1.0],\n",
    "            dtype=np.float32)\n",
    "        \n",
    "        # posição dos vértices do quadrado \n",
    "        vertex_position_02 = np.array([\n",
    "            -0.5, -0.5, 0.0, 1.0,  #vértice 0\n",
    "             0.5, -0.5, 0.0, 1.0,  #vértice 1\n",
    "             0.5,  0.5, 0.0, 1.0,  #vértice 2\n",
    "            -0.5,  0.5, 0.0, 1.0], #vértice 3\n",
    "            dtype=np.float32)\n",
    "        \n",
    "        # índices dos vértices dos triângulos que compõem o quadrado \n",
    "        vertex_indices = np.array([\n",
    "             0, 1, 3,  # Triângulo 1 (sentido anti-horário)\n",
    "             1, 2, 3], # Triângulo 2 (sentido anti-horário)\n",
    "            dtype=np.uint32)\n",
    "        \n",
    "        # cria os objetos responsável por carregar os dados para a GPU\n",
    "        # e renderizá-los como triângulos (primitiva padrão da classe)\n",
    "        self.squareRenderer = ModelRenderer(vertex_position)\n",
    "        self.squareIndicesRenderer = ModelRenderer(vertex_position_02,  vertex_indices=vertex_indices)\n",
    "        \n",
    "        # cria os objetos responsável por carregar os dados para a GPU e renderizá-los como linhas\n",
    "        self.lineRenderer = ModelRenderer(vertex_position_02, primitive=ModelRenderer.LINES)\n",
    "        self.lineLoopRenderer = ModelRenderer(vertex_position_02,  primitive=ModelRenderer.LINE_LOOP)\n",
    "        \n",
    "        # cria os objetos responsável por carregar os dados para a GPU e renderizá-los como pontos\n",
    "        self.pointsRenderer = ModelRenderer(vertex_position_02,  primitive=ModelRenderer.POINTS)\n",
    "        \n",
    "        # cria um shader program simples\n",
    "        self.shaderProgram = SimpleShaderProgram()\n",
    "        \n",
    "        # ativa o shader programa para configurar uma cor única para todos os vértices\n",
    "        self.shaderProgram.bind()\n",
    "        self.shaderProgram.useUniformColor(True)\n",
    "        self.shaderProgram.release()\n",
    "\n",
    "        # recupera o endereços da variável de entrada do shader program\n",
    "        position_loc = self.shaderProgram.getVertexPositionLoc()\n",
    "        \n",
    "        # configura os dados dos modelos para serem os dados de entrada do shader program\n",
    "        self.squareRenderer.setVertexPositionLoc(position_loc)\n",
    "        self.squareIndicesRenderer.setVertexPositionLoc(position_loc)\n",
    "        self.lineRenderer.setVertexPositionLoc(position_loc)\n",
    "        self.lineLoopRenderer.setVertexPositionLoc(position_loc)\n",
    "        self.pointsRenderer.setVertexPositionLoc(position_loc)\n",
    "\n",
    "    def paintGL(self):\n",
    "        \n",
    "        # configura a cor de background\n",
    "        gl.glClearColor(0, 0, 0, 1)\n",
    "        \n",
    "        # limpa o background com a cor especificada\n",
    "        gl.glClear(gl.GL_COLOR_BUFFER_BIT)\n",
    "        \n",
    "        # ativa o recurso de culling\n",
    "        gl.glEnable(gl.GL_CULL_FACE)\n",
    "        \n",
    "        # ativa o shader program que será executado pela GPU\n",
    "        self.shaderProgram.bind()\n",
    "        \n",
    "        # renderiza os objetos\n",
    "        self.renderSquare()\n",
    "        self.renderSquareWithIndices()\n",
    "        self.renderLines()\n",
    "        self.renderLineLoop()\n",
    "        self.renderPoints()\n",
    "        \n",
    "        # desativa o shader program\n",
    "        self.shaderProgram.release()\n",
    "        \n",
    "        # solicita que o método paintGL seja chamado novamente\n",
    "        self.update()\n",
    "    \n",
    "    def renderSquare(self):\n",
    "        \n",
    "        # atualiza o viewport para o objeto ser renderizado no canto superior esquerdo\n",
    "        gl.glViewport(0, int(self.height / 2), int(self.width / 2), int(self.height / 2))\n",
    "        \n",
    "        # mudar a cor no shader e renderiza o quadrado\n",
    "        self.shaderProgram.setUniformColor(np.array([0.0, 0.0, 0.5, 1.0], dtype=np.float32))\n",
    "        self.squareRenderer.render()\n",
    "        \n",
    "        # mudar a cor no shader e renderiza o wireframe do quadrado\n",
    "        self.shaderProgram.setUniformColor(np.array([1.0, 1.0, 1.0, 1.0], dtype=np.float32))\n",
    "        self.squareRenderer.renderWireframe()\n",
    "    \n",
    "    def renderSquareWithIndices(self):\n",
    "        \n",
    "        # atualiza o viewport para o objeto ser renderizado no canto superior direito\n",
    "        gl.glViewport(int(self.width / 2), int(self.height / 2), int(self.width / 2), int(self.height / 2))\n",
    "        \n",
    "        # mudar a cor no shader e renderiza o quadrado\n",
    "        self.shaderProgram.setUniformColor(np.array([0.0, 0.5, 0.0, 1.0], dtype=np.float32))\n",
    "        self.squareIndicesRenderer.render()\n",
    "        \n",
    "        # mudar a cor no shader e renderiza o wireframe do quadrado\n",
    "        self.shaderProgram.setUniformColor(np.array([1.0, 1.0, 1.0, 1.0], dtype=np.float32))\n",
    "        self.squareIndicesRenderer.renderWireframe()\n",
    "\n",
    "    def renderLines(self):\n",
    "        \n",
    "        # atualiza o viewport para o objeto ser renderizado no lado esquerdo da metade inferior\n",
    "        gl.glViewport(0, 0, int(self.width / 3), int(self.height / 2))\n",
    "        \n",
    "        # mudar a cor no shader e renderiza as linhas\n",
    "        self.shaderProgram.setUniformColor(np.array([1.0, 0.0, 0.0, 1.0], dtype=np.float32))\n",
    "        self.lineRenderer.render()\n",
    "        \n",
    "    def renderLineLoop(self):\n",
    "        \n",
    "        # atualiza o viewport para o objeto ser renderizado no centro da metade inferior\n",
    "        gl.glViewport(int(self.width / 3), 0, int(self.width / 3), int(self.height / 2))\n",
    "        \n",
    "        # mudar a cor no shader e renderiza as linhas\n",
    "        self.shaderProgram.setUniformColor(np.array([0.0, 1.0, 0.0, 1.0], dtype=np.float32))\n",
    "        self.lineLoopRenderer.render()\n",
    "\n",
    "    def renderPoints(self):\n",
    "        \n",
    "        # atualiza o viewport para o objeto ser renderizado no lado direito da metade inferior\n",
    "        gl.glViewport(int(2 * self.width / 3), 0, int(self.width / 3), int(self.height / 2))\n",
    "        \n",
    "        # mudar a cor no shader e renderiza as linhas\n",
    "        self.shaderProgram.setUniformColor(np.array([1.0, 1.0, 1.0, 1.0], dtype=np.float32))\n",
    "        self.pointsRenderer.render()\n",
    "        \n",
    "    def resizeGL(self, width, height):\n",
    "    \n",
    "        # armazena a largura e a altura da janela\n",
    "        self.width = width\n",
    "        self.height = height\n",
    "\n",
    "def main():\n",
    "    import sys\n",
    "\n",
    "    #Criação de um aplicativo Qt\n",
    "    app = QCoreApplication.instance()\n",
    "    if app is None:\n",
    "        app = QApplication(sys.argv)\n",
    "\n",
    "    #Especificação do contexto OpenGL\n",
    "    glformat = QtOpenGL.QGLFormat()\n",
    "    glformat.setVersion(3, 3)\n",
    "    glformat.setDoubleBuffer(True)\n",
    "    glformat.setProfile(QtOpenGL.QGLFormat.CoreProfile)\n",
    "    \n",
    "    #Criação da janela de renderização\n",
    "    w = MyWidget(glformat)\n",
    "    w.resize(640, 480)\n",
    "    w.setWindowTitle('OpenGL example')\n",
    "    w.show()\n",
    "    \n",
    "    sys.exit(app.exec_())\n",
    "\n",
    "if __name__ == '__main__':\n",
    "    main()"
   ]
  },
  {
   "cell_type": "code",
   "execution_count": 8,
   "metadata": {
    "ExecuteTime": {
     "end_time": "2020-05-19T18:04:41.038308Z",
     "start_time": "2020-05-19T18:04:35.196981Z"
    }
   },
   "outputs": [
    {
     "name": "stderr",
     "output_type": "stream",
     "text": [
      "[NbConvertApp] Converting notebook 25_Formas_de_especificar_um_modelo.ipynb to python\n",
      "[NbConvertApp] Writing 6532 bytes to 25_Formas_de_especificar_um_modelo.py\n"
     ]
    },
    {
     "ename": "IndentationError",
     "evalue": "expected an indented block (25_Formas_de_especificar_um_modelo.py, line 120)",
     "output_type": "error",
     "traceback": [
      "\u001b[1;36m  File \u001b[1;32m\"C:\\Users\\Rapha\\Documents\\ea979\\github\\ea979\\1S2020\\25_Formas_de_especificar_um_modelo.py\"\u001b[1;36m, line \u001b[1;32m120\u001b[0m\n\u001b[1;33m    def renderLineLoop(self):\u001b[0m\n\u001b[1;37m      ^\u001b[0m\n\u001b[1;31mIndentationError\u001b[0m\u001b[1;31m:\u001b[0m expected an indented block\n"
     ]
    }
   ],
   "source": [
    "! jupyter nbconvert --to python 25_Formas_de_especificar_um_modelo.ipynb\n",
    "%run -i 25_Formas_de_especificar_um_modelo.py"
   ]
  },
  {
   "cell_type": "code",
   "execution_count": null,
   "metadata": {
    "collapsed": true
   },
   "outputs": [],
   "source": []
  }
 ],
 "metadata": {
  "kernelspec": {
   "display_name": "Python 3",
   "language": "python",
   "name": "python3"
  },
  "language_info": {
   "codemirror_mode": {
    "name": "ipython",
    "version": 3
   },
   "file_extension": ".py",
   "mimetype": "text/x-python",
   "name": "python",
   "nbconvert_exporter": "python",
   "pygments_lexer": "ipython3",
   "version": "3.6.1"
  }
 },
 "nbformat": 4,
 "nbformat_minor": 2
}
