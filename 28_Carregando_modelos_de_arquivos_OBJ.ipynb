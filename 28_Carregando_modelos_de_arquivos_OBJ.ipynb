{
 "cells": [
  {
   "cell_type": "markdown",
   "metadata": {},
   "source": [
    "## 28 Carregando modelos de arquivos *.OBJ\n",
    "\n",
    "Este exemplo mostra como carregar um modelo pronto contido dentro de um arquivo *.obj. Esses arquivos podem conter vários itens. Para descobrir a quantidade, a lista com os nomes dos itens é impressa. Sabendo esses nomes, cada item é tratado individualmente a fim de ser renderizado.\n",
    "\n",
    "Modelo obtido no link: https://www.cgtrader.com/free-3d-models/vehicle/sci-fi/saucer-2-and-saucer-2-advanced"
   ]
  },
  {
   "cell_type": "code",
   "execution_count": 1,
   "metadata": {
    "ExecuteTime": {
     "end_time": "2020-05-19T06:05:25.674207Z",
     "start_time": "2020-05-19T06:05:21.207527Z"
    },
    "scrolled": true
   },
   "outputs": [
    {
     "name": "stdout",
     "output_type": "stream",
     "text": [
      "material_name = Core - vertex_format = N3F_V3F - min = -2.25019907951355 - max = 2.250200033187866\n",
      "material_name = Hull - vertex_format = T2F_N3F_V3F - min = -5.9427170753479 - max = 6.9427170753479\n",
      "['Core', 'Hull']\n"
     ]
    },
    {
     "ename": "SystemExit",
     "evalue": "0",
     "output_type": "error",
     "traceback": [
      "An exception has occurred, use %tb to see the full traceback.\n",
      "\u001b[1;31mSystemExit\u001b[0m\u001b[1;31m:\u001b[0m 0\n"
     ]
    },
    {
     "name": "stderr",
     "output_type": "stream",
     "text": [
      "C:\\Users\\Rapha\\Anaconda3\\lib\\site-packages\\IPython\\core\\interactiveshell.py:2889: UserWarning: To exit: use 'exit', 'quit', or Ctrl-D.\n",
      "  warn(\"To exit: use 'exit', 'quit', or Ctrl-D.\", stacklevel=1)\n"
     ]
    }
   ],
   "source": [
    "import glm\n",
    "import numpy as np\n",
    "import OpenGL.GL as gl\n",
    "from PyQt5 import QtOpenGL\n",
    "from PyQt5.QtCore import QCoreApplication\n",
    "from PyQt5.QtWidgets import QApplication\n",
    "\n",
    "from cg.shader_programs.SimpleShaderProgram_v2 import SimpleShaderProgram\n",
    "from cg.models.ObjLoader_v1 import ObjLoader\n",
    "from cg.renderers.ModelRenderer_v2 import ModelRenderer\n",
    "\n",
    "class MyWidget(QtOpenGL.QGLWidget):\n",
    "    def initializeGL(self):\n",
    "        \n",
    "        # carrega a malha de triângulos a partir de um arquivo OBJ\n",
    "        self.objLoader = ObjLoader('./cg/models/obj/ovni/Saucer_2(adv).obj')\n",
    "        \n",
    "        # recuper e imprime a lista de nomes dos objetos carregados\n",
    "        print(self.objLoader.getItemNames())\n",
    "        \n",
    "        # cria os objetos responsável por carregar os dados para a GPU e renderizá-los\n",
    "        # nesse caso, os itens carregados do arquivo possuem os nomes 'Core' e 'Hull'\n",
    "        self.ovniCoreRenderer = ModelRenderer(self.objLoader.getVertexPositions('Core'))\n",
    "        self.ovniHullRenderer = ModelRenderer(self.objLoader.getVertexPositions('Hull'))\n",
    "        \n",
    "        # cria um shader program simples\n",
    "        self.shaderProgram = SimpleShaderProgram()\n",
    "        \n",
    "        # ativa o shader programa para configurar uma cor única para todos os vértices\n",
    "        self.shaderProgram.bind()\n",
    "        self.shaderProgram.useUniformColor(True)\n",
    "\n",
    "        # recupera o endereço da variável de entrada do shader program\n",
    "        position_loc = self.shaderProgram.getVertexPositionLoc()\n",
    "        \n",
    "        # configura os dados dos modelos para serem os dados de entrada do shader program\n",
    "        self.ovniCoreRenderer.setVertexPositionLoc(position_loc)\n",
    "        self.ovniHullRenderer.setVertexPositionLoc(position_loc)\n",
    "    \n",
    "        # inicializa a variável que contém o ângulo de rotação\n",
    "        self.angle = 0\n",
    "\n",
    "    def paintGL(self):\n",
    "        \n",
    "        # configura a cor de background\n",
    "        gl.glClearColor(1, 1, 1, 1)\n",
    "        \n",
    "        # limpa o background com a cor especificada e o buffer de profundidade\n",
    "        gl.glClear(gl.GL_COLOR_BUFFER_BIT | gl.GL_DEPTH_BUFFER_BIT)\n",
    "        \n",
    "        # ativa o teste de profundidade\n",
    "        gl.glEnable(gl.GL_DEPTH_TEST)\n",
    "        \n",
    "        # calcula as matrizes de transformação e atualiza a matriz do shader\n",
    "        # nesse caso, a composição das matrizes é feita manualmente\n",
    "        trans = glm.rotate(glm.mat4(), glm.radians(self.angle), glm.vec3(1.0, 0.0, 0.0))\n",
    "        scale = glm.scale(glm.mat4(), glm.vec3(0.2, 0.2, 0.2))\n",
    "        model_matrix = trans * scale\n",
    "        self.shaderProgram.setUniformMVPMatrix(model_matrix)\n",
    "\n",
    "        # incrementa a variável que contém o ângulo de rotação\n",
    "        self.angle += 0.1\n",
    "\n",
    "        # mudar a cor no shader e renderiza o primeiro item\n",
    "        self.shaderProgram.setUniformColor(np.array([0.3, 0.3, 0.3, 1.0], dtype=np.float32)) \n",
    "        self.ovniHullRenderer.render()\n",
    "        \n",
    "        # mudar a cor no shader e renderiza o segundo item\n",
    "        self.shaderProgram.setUniformColor(np.array([1.0, 0.0, 0.0, 1.0], dtype=np.float32))\n",
    "        self.ovniCoreRenderer.render()\n",
    "\n",
    "        self.update()\n",
    "\n",
    "    def resizeGL(self, width, height):\n",
    "        gl.glViewport(0, 0, width, height)\n",
    "        \n",
    "def main():\n",
    "    import sys\n",
    "\n",
    "    #Criação de um aplicativo Qt\n",
    "    app = QCoreApplication.instance()\n",
    "    if app is None:\n",
    "        app = QApplication(sys.argv)\n",
    "\n",
    "    #Especificação do contexto OpenGL\n",
    "    glformat = QtOpenGL.QGLFormat()\n",
    "    glformat.setVersion(3, 3)\n",
    "    glformat.setDoubleBuffer(True)\n",
    "    glformat.setProfile(QtOpenGL.QGLFormat.CoreProfile)\n",
    "    \n",
    "    #Criação da janela de renderização\n",
    "    w = MyWidget(glformat)\n",
    "    w.resize(640, 480)\n",
    "    w.setWindowTitle('OpenGL example')\n",
    "    w.show()\n",
    "    \n",
    "    \n",
    "    sys.exit(app.exec_())\n",
    "\n",
    "if __name__ == '__main__':\n",
    "    main()"
   ]
  },
  {
   "cell_type": "code",
   "execution_count": null,
   "metadata": {
    "ExecuteTime": {
     "start_time": "2020-05-18T03:33:56.139Z"
    }
   },
   "outputs": [
    {
     "name": "stderr",
     "output_type": "stream",
     "text": [
      "[NbConvertApp] Converting notebook 20_OBJ_files.ipynb to python\n",
      "[NbConvertApp] Writing 2646 bytes to 20_OBJ_files.py\n"
     ]
    },
    {
     "name": "stdout",
     "output_type": "stream",
     "text": [
      "material_name = Core - vertex_format = N3F_V3F - min = -2.25019907951355 - max = 2.250200033187866\n",
      "material_name ="
     ]
    }
   ],
   "source": [
    "! jupyter nbconvert --to python 28_Carregando_modelos_de_arquivos_OBJ.ipynb\n",
    "%run -i 28_Carregando_modelos_de_arquivos_OBJ.py"
   ]
  },
  {
   "cell_type": "code",
   "execution_count": null,
   "metadata": {
    "collapsed": true
   },
   "outputs": [],
   "source": []
  }
 ],
 "metadata": {
  "kernelspec": {
   "display_name": "Python 3",
   "language": "python",
   "name": "python3"
  },
  "language_info": {
   "codemirror_mode": {
    "name": "ipython",
    "version": 3
   },
   "file_extension": ".py",
   "mimetype": "text/x-python",
   "name": "python",
   "nbconvert_exporter": "python",
   "pygments_lexer": "ipython3",
   "version": "3.6.1"
  }
 },
 "nbformat": 4,
 "nbformat_minor": 2
}
