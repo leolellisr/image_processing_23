{
 "cells": [
  {
   "cell_type": "markdown",
   "metadata": {},
   "source": [
    "## Configurando uma cor única para todos os vértices\n",
    "\n",
    "É normal querer renderizar todos os vértices de um objeto com a mesma cor. Neste caso, as coordenadas de cor do vetor de cores terão os mesmos valores. É possível evitar essa redundância de dados utilizando as variáveis uniformes do shader programa. Ao configurar esse tipo de variável com algum valor, este dado é acessível por todas as execuções do vertex shader e do fragment shader. A classe SimpleShaderProgram disponibiliza o método 'setUniformColor()' que permite configurar uma variável uniforme com a cor que é para ser igual para todos os vértices dos triângulo. E para ativar o uso dessa variável, é preciso chamar o método 'useUniformColor()' passando como argumento o valor 'True'. Se a variável uniforme de cor não estiver ativada, será usada a variável de entrada que representa o atributo de cor do vértice. Perceba que para poder usar as funções 'setUniformColor()' e 'useUniformColor()' (que alteram o estado interno do shader program), o shader program precisa estar ativado. Ou seja, o método 'bind()' tem que ser chamado antes. Se não, ocorrerá um erro de execução."
   ]
  },
  {
   "cell_type": "code",
   "execution_count": 1,
   "metadata": {
    "ExecuteTime": {
     "end_time": "2020-05-12T01:19:44.861619Z",
     "start_time": "2020-05-12T01:19:40.102132Z"
    }
   },
   "outputs": [
    {
     "ename": "SystemExit",
     "evalue": "0",
     "output_type": "error",
     "traceback": [
      "An exception has occurred, use %tb to see the full traceback.\n",
      "\u001b[1;31mSystemExit\u001b[0m\u001b[1;31m:\u001b[0m 0\n"
     ]
    },
    {
     "name": "stderr",
     "output_type": "stream",
     "text": [
      "C:\\Users\\Rapha\\Anaconda3\\lib\\site-packages\\IPython\\core\\interactiveshell.py:2889: UserWarning: To exit: use 'exit', 'quit', or Ctrl-D.\n",
      "  warn(\"To exit: use 'exit', 'quit', or Ctrl-D.\", stacklevel=1)\n"
     ]
    }
   ],
   "source": [
    "import numpy as np\n",
    "import OpenGL.GL as gl\n",
    "from PyQt5 import QtOpenGL\n",
    "from PyQt5.QtWidgets import QApplication\n",
    "\n",
    "from cg.shader_programs.SimpleShaderProgram_v1 import SimpleShaderProgram\n",
    "from cg.renderers.ModelRenderer_v1 import ModelRenderer\n",
    "\n",
    "class MyWidget(QtOpenGL.QGLWidget):\n",
    "    def initializeGL(self):\n",
    "        \n",
    "        # posição de cada vértice dos triângulos\n",
    "        vertex_position = np.array([\n",
    "            -0.90, -0.90, 0.0, 1.0, # Triângulo 1\n",
    "             0.85, -0.90, 0.0, 1.0,\n",
    "            -0.90,  0.85, 0.0, 1.0,\n",
    "             0.90, -0.85, 0.0, 1.0, # Triângulo 2\n",
    "             0.90,  0.90, 0.0, 1.0,\n",
    "            -0.85,  0.90, 0.0, 1.0],\n",
    "            dtype=np.float32)\n",
    "        \n",
    "        # cria um objeto responsável por carregar os dados para a GPU e renderizá-los\n",
    "        self.triangleRenderer = ModelRenderer(vertex_position)\n",
    "        \n",
    "        # cria um shader program simples\n",
    "        self.shaderProgram = SimpleShaderProgram()\n",
    "        \n",
    "        # ativa o shader programa para configurar uma cor única para todos os vértices\n",
    "        self.shaderProgram.bind()\n",
    "        self.shaderProgram.useUniformColor(True)\n",
    "        self.shaderProgram.setUniformColor(np.array([0.0, 0.0, 0.5, 1.0], dtype=np.float32))\n",
    "        self.shaderProgram.release()\n",
    "\n",
    "        # recupera o endereços da variável de entrada do shader program\n",
    "        position_loc = self.shaderProgram.getVertexPositionLoc()\n",
    "        \n",
    "        # configura os dados do modelo para serem os dados de entrada do shader program\n",
    "        self.triangleRenderer.setVertexPositionLoc(position_loc)\n",
    "\n",
    "    def paintGL(self):\n",
    "        # configura a cor de background\n",
    "        gl.glClearColor(0, 0, 0, 1)\n",
    "        \n",
    "        # limpa o background com a cor especificada\n",
    "        gl.glClear(gl.GL_COLOR_BUFFER_BIT)\n",
    "        \n",
    "        # ativa o shader program que será executado pela GPU\n",
    "        self.shaderProgram.bind()\n",
    "        \n",
    "        # inicia a renderização dos triângulos\n",
    "        self.triangleRenderer.render()\n",
    "        \n",
    "        # desativa o shader program\n",
    "        self.shaderProgram.release()\n",
    "        \n",
    "        # solicita que o método paintGL seja chamado novamente\n",
    "        self.update()\n",
    "\n",
    "    def resizeGL(self, width, height):\n",
    "        \n",
    "        # atualiza a área de renderização para ser a janela inteira\n",
    "        gl.glViewport(0, 0, width, height)\n",
    "\n",
    "def main():\n",
    "    import sys\n",
    "\n",
    "    #Criação de um aplicativo Qt\n",
    "    app = QApplication(sys.argv)\n",
    "\n",
    "    #Especificação do contexto OpenGL\n",
    "    glformat = QtOpenGL.QGLFormat()\n",
    "    glformat.setVersion(3, 3)\n",
    "    glformat.setDoubleBuffer(True)\n",
    "    glformat.setProfile(QtOpenGL.QGLFormat.CoreProfile)\n",
    "    \n",
    "    #Criação da janela de renderização\n",
    "    w = MyWidget(glformat)\n",
    "    w.resize(640, 480)\n",
    "    w.setWindowTitle('OpenGL example')\n",
    "    w.show()\n",
    "    \n",
    "    sys.exit(app.exec_())\n",
    "\n",
    "if __name__ == '__main__':\n",
    "    main()"
   ]
  },
  {
   "cell_type": "code",
   "execution_count": 1,
   "metadata": {
    "ExecuteTime": {
     "end_time": "2020-05-12T00:03:13.387180Z",
     "start_time": "2020-05-12T00:02:55.689881Z"
    }
   },
   "outputs": [
    {
     "name": "stderr",
     "output_type": "stream",
     "text": [
      "[NbConvertApp] Converting notebook 18_Configurando_uma_cor_unica_para_todos_os_vertices.ipynb to python\n",
      "[NbConvertApp] Writing 4186 bytes to 18_Configurando_uma_cor_unica_para_todos_os_vertices.py\n"
     ]
    }
   ],
   "source": [
    "! jupyter nbconvert --to python 18_Configurando_uma_cor_unica_para_todos_os_vertices.ipynb\n",
    "%run -i 18_Configurando_uma_cor_unica_para_todos_os_vertices.py"
   ]
  },
  {
   "cell_type": "code",
   "execution_count": null,
   "metadata": {
    "collapsed": true
   },
   "outputs": [],
   "source": []
  }
 ],
 "metadata": {
  "kernelspec": {
   "display_name": "Python 3",
   "language": "python",
   "name": "python3"
  },
  "language_info": {
   "codemirror_mode": {
    "name": "ipython",
    "version": 3
   },
   "file_extension": ".py",
   "mimetype": "text/x-python",
   "name": "python",
   "nbconvert_exporter": "python",
   "pygments_lexer": "ipython3",
   "version": "3.6.1"
  }
 },
 "nbformat": 4,
 "nbformat_minor": 2
}
