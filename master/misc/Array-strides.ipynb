{
 "cells": [
  {
   "cell_type": "markdown",
   "metadata": {
    "toc": "true"
   },
   "source": [
    "# Table of Contents\n",
    " <p><div class=\"lev1 toc-item\"><a href=\"#Indexando-o-raster-de-um-array-usando-strides\" data-toc-modified-id=\"Indexando-o-raster-de-um-array-usando-strides-1\"><span class=\"toc-item-num\">1&nbsp;&nbsp;</span>Indexando o raster de um array usando strides</a></div><div class=\"lev2 toc-item\"><a href=\"#Stride-de-um-array\" data-toc-modified-id=\"Stride-de-um-array-11\"><span class=\"toc-item-num\">1.1&nbsp;&nbsp;</span>Stride de um array</a></div><div class=\"lev2 toc-item\"><a href=\"#Produto-cartesiano-entre-2-conjuntos---coordenadas-bidimensionais\" data-toc-modified-id=\"Produto-cartesiano-entre-2-conjuntos---coordenadas-bidimensionais-12\"><span class=\"toc-item-num\">1.2&nbsp;&nbsp;</span>Produto cartesiano entre 2 conjuntos - coordenadas bidimensionais</a></div><div class=\"lev2 toc-item\"><a href=\"#Indexação-com-espelhamento-na-vertical\" data-toc-modified-id=\"Indexação-com-espelhamento-na-vertical-13\"><span class=\"toc-item-num\">1.3&nbsp;&nbsp;</span>Indexação com espelhamento na vertical</a></div><div class=\"lev2 toc-item\"><a href=\"#Matriz-transposta\" data-toc-modified-id=\"Matriz-transposta-14\"><span class=\"toc-item-num\">1.4&nbsp;&nbsp;</span>Matriz transposta</a></div><div class=\"lev2 toc-item\"><a href=\"#Exercícios\" data-toc-modified-id=\"Exercícios-15\"><span class=\"toc-item-num\">1.5&nbsp;&nbsp;</span>Exercícios</a></div>"
   ]
  },
  {
   "cell_type": "markdown",
   "metadata": {},
   "source": [
    "# Indexando o raster de um array usando strides\n",
    "\n",
    "Quando os pixels da imagem são armazenados de forma contígua na forma raster unidimensional, o cálculo da indexação N-dimensional $(n_0, n_1, ..., n_{N-1})$ é dada pelo offset:\n",
    "\n",
    "$$ n_{\\mathrm{offset}} = K_{\\mathrm{offset}} + \\sum_{k=0}^{N-1} s_k n_k $$\n",
    "\n",
    "onde $s_k$ é o stride da dimensão $k$.\n",
    "\n",
    "Neste notebook iremos verificar como o stride e $K_{offset}$ são modificados para implementar operações como espelhamento e transposta."
   ]
  },
  {
   "cell_type": "code",
   "execution_count": 1,
   "metadata": {
    "collapsed": true
   },
   "outputs": [],
   "source": [
    "import numpy as np"
   ]
  },
  {
   "cell_type": "markdown",
   "metadata": {},
   "source": [
    "Vamos criar um array com 4 linhas e 6 colunas criados com o `arange` assim, o valor de cada pixel é o valor de seu *offset raster* unidimensional:"
   ]
  },
  {
   "cell_type": "code",
   "execution_count": 2,
   "metadata": {
    "collapsed": false
   },
   "outputs": [
    {
     "name": "stdout",
     "output_type": "stream",
     "text": [
      "[[ 0  1  2  3  4  5]\n",
      " [ 6  7  8  9 10 11]\n",
      " [12 13 14 15 16 17]\n",
      " [18 19 20 21 22 23]]\n",
      "24\n"
     ]
    }
   ],
   "source": [
    "H,W = (4,6)\n",
    "a = np.arange(H*W).reshape(H,W).astype(np.uint8)\n",
    "print(a)\n",
    "print(a.size)"
   ]
  },
  {
   "cell_type": "markdown",
   "metadata": {},
   "source": [
    "## Stride de um array\n",
    "\n",
    "O stride de um array normal raster é dado por $(W,1)$ e $K_{offset} = 0$;\n",
    "\n",
    "$$  n_{\\mathrm{offset}} = 0 + W n_0 + n_1 $$\n",
    "\n",
    "onde $n_0$ é o índice das linhas e $n_1$ é o índice das colunas.\n",
    "\n",
    "No exemplo do array `a` de dimensões (4,6), o stride é dado por (W,1):"
   ]
  },
  {
   "cell_type": "code",
   "execution_count": 3,
   "metadata": {
    "collapsed": false
   },
   "outputs": [
    {
     "name": "stdout",
     "output_type": "stream",
     "text": [
      "(6, 1)\n"
     ]
    }
   ],
   "source": [
    "print(a.strides)"
   ]
  },
  {
   "cell_type": "markdown",
   "metadata": {},
   "source": [
    "Assim, a indexação [2,3] é igual ao 15:"
   ]
  },
  {
   "cell_type": "code",
   "execution_count": 4,
   "metadata": {
    "collapsed": false
   },
   "outputs": [
    {
     "data": {
      "text/plain": [
       "15"
      ]
     },
     "execution_count": 4,
     "metadata": {},
     "output_type": "execute_result"
    }
   ],
   "source": [
    "a[2,3]"
   ]
  },
  {
   "cell_type": "code",
   "execution_count": 5,
   "metadata": {
    "collapsed": false
   },
   "outputs": [
    {
     "data": {
      "text/plain": [
       "15"
      ]
     },
     "execution_count": 5,
     "metadata": {},
     "output_type": "execute_result"
    }
   ],
   "source": [
    "(a.strides * np.array([2,3])).sum()"
   ]
  },
  {
   "cell_type": "markdown",
   "metadata": {},
   "source": [
    "## Produto cartesiano entre 2 conjuntos - coordenadas bidimensionais"
   ]
  },
  {
   "cell_type": "code",
   "execution_count": 8,
   "metadata": {
    "collapsed": false
   },
   "outputs": [
    {
     "name": "stdout",
     "output_type": "stream",
     "text": [
      "[[0, 0], [0, 1], [0, 2], [0, 3], [0, 4], [0, 5], [1, 0], [1, 1], [1, 2], [1, 3], [1, 4], [1, 5], [2, 0], [2, 1], [2, 2], [2, 3], [2, 4], [2, 5], [3, 0], [3, 1], [3, 2], [3, 3], [3, 4], [3, 5]]\n",
      "[[0 0]\n",
      " [0 1]\n",
      " [0 2]\n",
      " [0 3]\n",
      " [0 4]\n",
      " [0 5]\n",
      " [1 0]\n",
      " [1 1]\n",
      " [1 2]\n",
      " [1 3]\n",
      " [1 4]\n",
      " [1 5]\n",
      " [2 0]\n",
      " [2 1]\n",
      " [2 2]\n",
      " [2 3]\n",
      " [2 4]\n",
      " [2 5]\n",
      " [3 0]\n",
      " [3 1]\n",
      " [3 2]\n",
      " [3 3]\n",
      " [3 4]\n",
      " [3 5]]\n"
     ]
    }
   ],
   "source": [
    "Rows = np.arange(H)\n",
    "Cols = np.arange(W)\n",
    "index = []\n",
    "for i in Rows:\n",
    "    for j in Cols:\n",
    "        index.append([i,j])\n",
    "print(index)\n",
    "index_all = np.array(index)\n",
    "print(index_all)"
   ]
  },
  {
   "cell_type": "code",
   "execution_count": 9,
   "metadata": {
    "collapsed": false
   },
   "outputs": [
    {
     "name": "stdout",
     "output_type": "stream",
     "text": [
      "[ 0  1  2  3  4  5  6  7  8  9 10 11 12 13 14 15 16 17 18 19 20 21 22 23]\n"
     ]
    }
   ],
   "source": [
    "i = (a.strides * index_all).sum(axis=1)\n",
    "print(i)"
   ]
  },
  {
   "cell_type": "markdown",
   "metadata": {},
   "source": [
    "## Indexação com espelhamento na vertical\n",
    "\n",
    "$$ i = (T-W) -W row + 1 col $$"
   ]
  },
  {
   "cell_type": "code",
   "execution_count": 10,
   "metadata": {
    "collapsed": false
   },
   "outputs": [
    {
     "name": "stdout",
     "output_type": "stream",
     "text": [
      "(-6, 1)\n",
      "24\n",
      "[18 19 20 21 22 23 12 13 14 15 16 17  6  7  8  9 10 11  0  1  2  3  4  5]\n"
     ]
    }
   ],
   "source": [
    "b = a[::-1,:]\n",
    "print(b.strides)\n",
    "print(b.size)\n",
    "print(b.ravel())"
   ]
  },
  {
   "cell_type": "code",
   "execution_count": 11,
   "metadata": {
    "collapsed": false
   },
   "outputs": [
    {
     "data": {
      "text/plain": [
       "7"
      ]
     },
     "execution_count": 11,
     "metadata": {},
     "output_type": "execute_result"
    }
   ],
   "source": [
    "b[2,1]"
   ]
  },
  {
   "cell_type": "code",
   "execution_count": 12,
   "metadata": {
    "collapsed": false
   },
   "outputs": [
    {
     "data": {
      "text/plain": [
       "7"
      ]
     },
     "execution_count": 12,
     "metadata": {},
     "output_type": "execute_result"
    }
   ],
   "source": [
    "np.sum(b.strides * np.array([2,1])) + b.size- b.shape[1]"
   ]
  },
  {
   "cell_type": "code",
   "execution_count": 13,
   "metadata": {
    "collapsed": false
   },
   "outputs": [
    {
     "data": {
      "text/plain": [
       "array([18, 19, 20, 21, 22, 23, 12, 13, 14, 15, 16, 17,  6,  7,  8,  9, 10,\n",
       "       11,  0,  1,  2,  3,  4,  5])"
      ]
     },
     "execution_count": 13,
     "metadata": {},
     "output_type": "execute_result"
    }
   ],
   "source": [
    "(b.strides * index_all).sum(axis=1) + b.size - b.shape[1]"
   ]
  },
  {
   "cell_type": "markdown",
   "metadata": {},
   "source": [
    "## Matriz transposta\n",
    "\n",
    "$$ i = row + W col $$"
   ]
  },
  {
   "cell_type": "code",
   "execution_count": 14,
   "metadata": {
    "collapsed": false
   },
   "outputs": [
    {
     "name": "stdout",
     "output_type": "stream",
     "text": [
      "[[ 0  6 12 18]\n",
      " [ 1  7 13 19]\n",
      " [ 2  8 14 20]\n",
      " [ 3  9 15 21]\n",
      " [ 4 10 16 22]\n",
      " [ 5 11 17 23]]\n",
      "(1, 6)\n",
      "[ 0  6 12 18  1  7 13 19  2  8 14 20  3  9 15 21  4 10 16 22  5 11 17 23]\n"
     ]
    }
   ],
   "source": [
    "c = a.T\n",
    "print(c)\n",
    "print(c.strides)\n",
    "print(c.ravel())"
   ]
  },
  {
   "cell_type": "code",
   "execution_count": 65,
   "metadata": {
    "collapsed": false
   },
   "outputs": [
    {
     "data": {
      "text/plain": [
       "array([ 0,  6, 12, 18, 24, 30,  1,  7, 13, 19, 25, 31,  2,  8, 14, 20, 26,\n",
       "       32,  3,  9, 15, 21, 27, 33])"
      ]
     },
     "execution_count": 65,
     "metadata": {},
     "output_type": "execute_result"
    }
   ],
   "source": [
    "(c.strides * index_all).sum(axis=1)"
   ]
  },
  {
   "cell_type": "markdown",
   "metadata": {},
   "source": [
    "## Exercícios\n",
    "\n",
    "1. Calcule o stride e offset de um array rotacionado de 90 graus no sentido horário. Verifique se está correto calculando todos índices rasters e comparando com o raster da imagem rotacionada.\n",
    "2. Calcule os o stride, offset e novo shape do array `d` usado para subamostrar uma imagem utilizando o fatiamento: `d = a[::2,::2]`\n"
   ]
  }
 ],
 "metadata": {
  "anaconda-cloud": {},
  "kernelspec": {
   "display_name": "Python 3",
   "language": "python",
   "name": "python3"
  },
  "language_info": {
   "codemirror_mode": {
    "name": "ipython",
    "version": 3
   },
   "file_extension": ".py",
   "mimetype": "text/x-python",
   "name": "python",
   "nbconvert_exporter": "python",
   "pygments_lexer": "ipython3",
   "version": "3.6.0"
  },
  "toc": {
   "colors": {
    "hover_highlight": "#DAA520",
    "running_highlight": "#FF0000",
    "selected_highlight": "#FFD700"
   },
   "moveMenuLeft": true,
   "nav_menu": {
    "height": "120px",
    "width": "252px"
   },
   "navigate_menu": true,
   "number_sections": true,
   "sideBar": true,
   "threshold": 4,
   "toc_cell": true,
   "toc_section_display": "block",
   "toc_window_display": false
  }
 },
 "nbformat": 4,
 "nbformat_minor": 0
}
