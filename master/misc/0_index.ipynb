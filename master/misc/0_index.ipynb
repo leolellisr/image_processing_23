{
 "cells": [
  {
   "cell_type": "markdown",
   "metadata": {
    "toc": "true"
   },
   "source": [
    " # Table of Contents\n",
    "<div class=\"toc\" style=\"margin-top: 1em;\"><ul class=\"toc-item\" id=\"toc-level0\"><li><span><a href=\"http://localhost:8888/notebooks/ia898/master/0_index.ipynb#Tutoriais-básicos-sobre-Jupyter,-Python,-NumPy,-Matplotlib,-Proc.-Imagens\" data-toc-modified-id=\"Tutoriais-básicos-sobre-Jupyter,-Python,-NumPy,-Matplotlib,-Proc.-Imagens-1\"><span class=\"toc-item-num\">1&nbsp;&nbsp;</span>Basic tutorials on Jupyter, Python, NumPy, Matplotlib, Proc. Images</a></span><ul class=\"toc-item\"><li><span><a href=\"http://localhost:8888/notebooks/ia898/master/0_index.ipynb#Jupyter\" data-toc-modified-id=\"Jupyter-1.1\"><span class=\"toc-item-num\">1.1&nbsp;&nbsp;</span>Jupyter</a></span></li><li><span><a href=\"http://localhost:8888/notebooks/ia898/master/0_index.ipynb#Python\" data-toc-modified-id=\"Python-1.2\"><span class=\"toc-item-num\">1.2&nbsp;&nbsp;</span>Python</a></span></li><li><span><a href=\"http://localhost:8888/notebooks/ia898/master/0_index.ipynb#NumPy\" data-toc-modified-id=\"NumPy-1.3\"><span class=\"toc-item-num\">1.3&nbsp;&nbsp;</span>NumPy</a></span><ul class=\"toc-item\"><li><span><a href=\"http://localhost:8888/notebooks/ia898/master/0_index.ipynb#Precisa-ser-melhorado\" data-toc-modified-id=\"Precisa-ser-melhorado-1.3.1\"><span class=\"toc-item-num\">1.3.1&nbsp;&nbsp;</span>Needs to be improved</a></span></li></ul></li><li><span><a href=\"http://localhost:8888/notebooks/ia898/master/0_index.ipynb#Revisão---Cálculo,-Álgebra\" data-toc-modified-id=\"Revisão---Cálculo,-Álgebra-1.4\"><span class=\"toc-item-num\">1.4&nbsp;&nbsp;</span>Review - Calculus, Algebra</a></span></li><li><span><a href=\"http://localhost:8888/notebooks/ia898/master/0_index.ipynb#Processamento-de-Imagens\" data-toc-modified-id=\"Processamento-de-Imagens-1.5\"><span class=\"toc-item-num\">1.5&nbsp;&nbsp;</span>Image processing</a></span></li><li><span><a href=\"http://localhost:8888/notebooks/ia898/master/0_index.ipynb#Necessitam-ajustar-para-jupyter-notebooks\" data-toc-modified-id=\"Necessitam-ajustar-para-jupyter-notebooks-1.6\"><span class=\"toc-item-num\">1.6&nbsp;&nbsp;</span>Need to adjust for jupyter notebooks</a></span></li></ul></li></ul></div>"
   ]
  },
  {
   "cell_type": "markdown",
   "metadata": {
    "collapsed": true
   },
   "source": [
    "# Basic tutorials on Jupyter, Python, NumPy, Matplotlib, Proc. Images\n",
    "\n",
    "This directory is made up of a series of small basic tutorials on Python and mainly NumPy, with applications to image processing."
   ]
  },
  {
   "cell_type": "markdown",
   "metadata": {},
   "source": []
  },
  {
   "cell_type": "markdown",
   "metadata": {},
   "source": [
    "## Python\n",
    "\n",
    "- [Python I - Variable types](../../tutorials/tutorial_python_1_1.ipynb)\n",
    "- [Python III - Function declaration](../../tutorials/tutorial_python_1_3.ipynb)"
   ]
  },
  {
   "cell_type": "markdown",
   "metadata": {},
   "source": [
    "## NumPy\n",
    "\n",
    "- [Chessboard](../function/chess.ipynb) - Motivation on NumPy matrix programming versus explicit loop programming\n",
    "- [Ramp_solutions](./Ramp_solutions.ipynb) -\n",
    "- [one_hot](../function/one_hot.ipynb) - One-hot encoding, two solutions\n",
    "- [NumPy - Introduction to ndarray](../../tutorials/tutorial_numpy_1_1.ipynb)\n",
    "- [Matplotlib](../../tutorials/tutorial_matplotlib.ipynb)\n",
    "- [NumPy - Formatting array for printing](../../tutorials/tutorial_numpy_1_11.ipynb)\n",
    "- [NumPy - One-dimensional array slicing](../../tutorials/tutorial_numpy_1_2.ipynb)\n",
    "- [NumPy - Slicing in two dimensions](../../tutorials/tutorial_numpy_1_3.ipynb)\n",
    "- [NumPy - Shallow and Deep Copy](../../tutorials/tutorial_numpy_1_4.ipynb)\n",
    "- [NumPy - Array Strides](./Array-strides.ipynb)\n",
    "- [NumPy - Axis reduction](../../tutorials/tutorial_numpy_1_5a.ipynb)\n",
    "\n",
    "### Needs to be improved\n",
    "- [NumPy - Tile usage](../../tutorials/tutorial_numpy_1_8.ipynb)\n",
    "- [NumPy - Using resize](../../tutorials/tutorial_numpy_1_9.ipynb)\n",
    "- [NumPy - Using the clip](../../tutorials/tutorial_numpy_1_10.ipynb)"
   ]
  },
  {
   "cell_type": "markdown",
   "metadata": {},
   "source": [
    "## Review - Calculus, Algebra\n",
    "\n",
    "- [Revision of Complex Numbers](Revision_of_Complex_Numbers.ipynb)"
   ]
  },
  {
   "cell_type": "markdown",
   "metadata": {},
   "source": [
    "## Image processing\n",
    "\n",
    "- [Images - Representation, Reading and Visualization](../../tutorials/tutorial_img_ds.ipynb)\n",
    "- [Proc Images with Slicing](../../tutorials/tutorial_1_imagens.ipynb)\n",
    "- [NumPy - Indices and meshgrid to generate synthetic images](../../tutorials/tutorial_numpy_1_7.ipynb) <- stoped here\n",
    "- [Histogram and Statistics](../../tutorials/tutorial_hist__stat_2.ipynb)\n",
    "- [Intensity Transformation](../../tutorials/tutorial_ti_2.ipynb)\n",
    "- [Histogram equalization](../../tutorials/tutorial_hist_eq_2.ipynb)\n",
    "- [Equalization by pixel ordering](../../tutorials/tutorial_pehist_1.ipynb)\n",
    "- [Histogram specification by pixel ordering](../../tutorials/tutorial_pehist_2.ipynb)\n",
    "- [Interactive contrast adjustment](../../tutorials/tutorial_contraste_iterativo_2.ipynb)\n",
    "- [Convolution](../../tutorials/tutorial_conv_3.ipynb)\n",
    "- [Convolution properties](../../tutorials/tutorial_convprop_3.ipynb)\n",
    "\n",
    "### DFT Properties\n",
    "- [DFT Scale Property](../function/dftscaleproperty.ipynb)\n",
    "- [Expansion interpolation (frequency domain analysis](../function/magnify.ipynb)\n",
    "- [Discrete Wavelet Transform](../function/wavelets.ipynb)"
   ]
  },
  {
   "cell_type": "markdown",
   "metadata": {},
   "source": [
    "## Need to adjust for jupyter notebooks\n",
    "\n",
    "- [tutorial_trans_geom_intro_2.ipynb](../../tutorials/tutorial_trans_geom_intro_2.ipynb)\n",
    "- [tutorial_ptrans.ipynb](../../tutorials/tutorial_ptrans.ipynb)\n",
    "- [gengaussian.ipynb](../function/gengaussian.ipynb )\n"
   ]
  },
  {
   "cell_type": "code",
   "execution_count": 1,
   "metadata": {
    "ExecuteTime": {
     "end_time": "2017-04-30T08:12:01.837582",
     "start_time": "2017-04-30T08:12:01.666325"
    }
   },
   "outputs": [
    {
     "name": "stdout",
     "output_type": "stream",
     "text": [
      "0_index.ipynb                        tutorial_numpy_1_11.ipynb\r\n",
      "Array-strides.ipynb                  tutorial_numpy_1_2.ipynb\r\n",
      "Ferramentas de Edicao HTML.ipynb     tutorial_numpy_1_3.ipynb\r\n",
      "Revisao_NumerosComplexos.ipynb       tutorial_numpy_1_4.ipynb\r\n",
      "chess.ipynb                          tutorial_numpy_1_5a.ipynb\r\n",
      "gengaussian.ipynb                    tutorial_numpy_1_7.ipynb\r\n",
      "tutorial_1_imagens.ipynb             tutorial_numpy_1_8.ipynb\r\n",
      "tutorial_contraste_iterativo_2.ipynb tutorial_numpy_1_9.ipynb\r\n",
      "tutorial_conv_3.ipynb                tutorial_pehist_1.ipynb\r\n",
      "tutorial_convprop_3.ipynb            tutorial_pehist_2.ipynb\r\n",
      "tutorial_hist__stat_2.ipynb          tutorial_ptrans.ipynb\r\n",
      "tutorial_hist_eq_2.ipynb             tutorial_python_1_1.ipynb\r\n",
      "tutorial_img_ds.ipynb                tutorial_python_1_3.ipynb\r\n",
      "tutorial_matplotlib.ipynb            tutorial_ti_2.ipynb\r\n",
      "tutorial_numpy_1_1.ipynb             tutorial_trans_geom_intro_2.ipynb\r\n",
      "tutorial_numpy_1_10.ipynb\r\n"
     ]
    }
   ],
   "source": [
    "!ls"
   ]
  }
 ],
 "metadata": {
  "anaconda-cloud": {},
  "kernelspec": {
   "display_name": "Python 3 (ipykernel)",
   "language": "python",
   "name": "python3"
  },
  "language_info": {
   "codemirror_mode": {
    "name": "ipython",
    "version": 3
   },
   "file_extension": ".py",
   "mimetype": "text/x-python",
   "name": "python",
   "nbconvert_exporter": "python",
   "pygments_lexer": "ipython3",
   "version": "3.10.12"
  },
  "latex_envs": {
   "LaTeX_envs_menu_present": true,
   "bibliofile": "biblio.bib",
   "cite_by": "apalike",
   "current_citInitial": 1,
   "eqLabelWithNumbers": true,
   "eqNumInitial": 1,
   "hotkeys": {
    "equation": "Ctrl-E",
    "itemize": "Ctrl-I"
   },
   "labels_anchors": false,
   "latex_user_defs": false,
   "report_style_numbering": false,
   "user_envs_cfg": false
  },
  "toc": {
   "nav_menu": {
    "height": "45px",
    "width": "252px"
   },
   "number_sections": true,
   "sideBar": true,
   "skip_h1_title": false,
   "toc_cell": true,
   "toc_position": {},
   "toc_section_display": "block",
   "toc_window_display": false
  }
 },
 "nbformat": 4,
 "nbformat_minor": 1
}
