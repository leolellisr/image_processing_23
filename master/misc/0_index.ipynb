{
 "cells": [
  {
   "cell_type": "markdown",
   "metadata": {
    "toc": "true"
   },
   "source": [
    " # Table of Contents\n",
    "<div class=\"toc\" style=\"margin-top: 1em;\"><ul class=\"toc-item\" id=\"toc-level0\"><li><span><a href=\"http://localhost:8888/notebooks/ia898/master/0_index.ipynb#Tutoriais-básicos-sobre-Jupyter,-Python,-NumPy,-Matplotlib,-Proc.-Imagens\" data-toc-modified-id=\"Tutoriais-básicos-sobre-Jupyter,-Python,-NumPy,-Matplotlib,-Proc.-Imagens-1\"><span class=\"toc-item-num\">1&nbsp;&nbsp;</span>Tutoriais básicos sobre Jupyter, Python, NumPy, Matplotlib, Proc. Imagens</a></span><ul class=\"toc-item\"><li><span><a href=\"http://localhost:8888/notebooks/ia898/master/0_index.ipynb#Jupyter\" data-toc-modified-id=\"Jupyter-1.1\"><span class=\"toc-item-num\">1.1&nbsp;&nbsp;</span>Jupyter</a></span></li><li><span><a href=\"http://localhost:8888/notebooks/ia898/master/0_index.ipynb#Python\" data-toc-modified-id=\"Python-1.2\"><span class=\"toc-item-num\">1.2&nbsp;&nbsp;</span>Python</a></span></li><li><span><a href=\"http://localhost:8888/notebooks/ia898/master/0_index.ipynb#NumPy\" data-toc-modified-id=\"NumPy-1.3\"><span class=\"toc-item-num\">1.3&nbsp;&nbsp;</span>NumPy</a></span><ul class=\"toc-item\"><li><span><a href=\"http://localhost:8888/notebooks/ia898/master/0_index.ipynb#Precisa-ser-melhorado\" data-toc-modified-id=\"Precisa-ser-melhorado-1.3.1\"><span class=\"toc-item-num\">1.3.1&nbsp;&nbsp;</span>Precisa ser melhorado</a></span></li></ul></li><li><span><a href=\"http://localhost:8888/notebooks/ia898/master/0_index.ipynb#Revisão---Cálculo,-Álgebra\" data-toc-modified-id=\"Revisão---Cálculo,-Álgebra-1.4\"><span class=\"toc-item-num\">1.4&nbsp;&nbsp;</span>Revisão - Cálculo, Álgebra</a></span></li><li><span><a href=\"http://localhost:8888/notebooks/ia898/master/0_index.ipynb#Processamento-de-Imagens\" data-toc-modified-id=\"Processamento-de-Imagens-1.5\"><span class=\"toc-item-num\">1.5&nbsp;&nbsp;</span>Processamento de Imagens</a></span></li><li><span><a href=\"http://localhost:8888/notebooks/ia898/master/0_index.ipynb#Necessitam-ajustar-para-jupyter-notebooks\" data-toc-modified-id=\"Necessitam-ajustar-para-jupyter-notebooks-1.6\"><span class=\"toc-item-num\">1.6&nbsp;&nbsp;</span>Necessitam ajustar para jupyter notebooks</a></span></li></ul></li></ul></div>"
   ]
  },
  {
   "cell_type": "markdown",
   "metadata": {
    "collapsed": true
   },
   "source": [
    "# Tutoriais básicos sobre Jupyter, Python, NumPy, Matplotlib, Proc. Imagens\n",
    "\n",
    "Este diretório é composto de uma série de pequenos tutoriais básicos do Python e principalmente do NumPy, com aplicação à processamento de imagens."
   ]
  },
  {
   "cell_type": "markdown",
   "metadata": {},
   "source": [
    "## Jupyter\n",
    "\n",
    "- [Edição HTML](Ferramentas de Edicao HTML.ipynb) - Ferramentas de edição multimídia, links, imagens, equações\n"
   ]
  },
  {
   "cell_type": "markdown",
   "metadata": {},
   "source": [
    "## Python\n",
    "\n",
    "- [Python I - Tipos de variáveis](tutorial_python_1_1.ipynb)\n",
    "- [Python III - Declaração de funções](tutorial_python_1_3.ipynb)"
   ]
  },
  {
   "cell_type": "markdown",
   "metadata": {},
   "source": [
    "## NumPy\n",
    "\n",
    "- [Chessboard](chess.ipynb) - Motivação sobre programação matricial NumPy versus programação com laço explícito\n",
    "- [Rampa_solucoes](Rampa_solucoes.ipynb) -\n",
    "- [one_hot](one_hot.ipynb) - Codificação one-hot, duas soluções\n",
    "- [NumPy - Introdução ao ndarray](tutorial_numpy_1_1.ipynb)\n",
    "- [Matplotlib](tutorial_matplotlib.ipynb)    \n",
    "- [NumPy - Formatando array para impressão](tutorial_numpy_1_11.ipynb) \n",
    "- [NumPy - Fatiamento array unidimensional](tutorial_numpy_1_2.ipynb)\n",
    "- [NumPy - Fatiamento em duas dimensões](tutorial_numpy_1_3.ipynb)\n",
    "- [NumPy - Cópia Rasa e Profunda](tutorial_numpy_1_4.ipynb)\n",
    "- [NumPy - Array Strides](Array-strides.ipynb)\n",
    "- [NumPy - Redução de eixo](tutorial_numpy_1_5a.ipynb)\n",
    "\n",
    "### Precisa ser melhorado\n",
    "- [NumPy - Uso do tile](tutorial_numpy_1_8.ipynb)\n",
    "- [NumPy - Uso do resize](tutorial_numpy_1_9.ipynb)\n",
    "- [NumPy - Uso do clip](tutorial_numpy_1_10.ipynb) "
   ]
  },
  {
   "cell_type": "markdown",
   "metadata": {},
   "source": [
    "## Revisão - Cálculo, Álgebra\n",
    "\n",
    "- [Revisão de Números Complexos](Revisao_NumerosComplexos.ipynb )"
   ]
  },
  {
   "cell_type": "markdown",
   "metadata": {},
   "source": [
    "## Processamento de Imagens\n",
    "\n",
    "- [Imagens - Representação, Leitura e Visualização](tutorial_img_ds.ipynb) \n",
    "- [Proc Imagens com Fatiamento](tutorial_1_imagens.ipynb)     \n",
    "- [NumPy - Indices e meshgrid para gerar imagens sintéticas](tutorial_numpy_1_7.ipynb)\n",
    "- [Histograma e Estatística](tutorial_hist__stat_2.ipynb) \n",
    "- [Transformação de Intensidade](tutorial_ti_2.ipynb)\n",
    "- [Equalização de histograma](tutorial_hist_eq_2.ipynb)\n",
    "- [Equalização por ordenação dos pixels](tutorial_pehist_1.ipynb)\n",
    "- [Especificação de histograma por ordenação dos pixels](tutorial_pehist_2.ipynb)\n",
    "- [Ajuste interativo de contraste](tutorial_contraste_iterativo_2.ipynb)\n",
    "- [Convolução](tutorial_conv_3.ipynb)\n",
    "- [Propriedades da convolução](tutorial_convprop_3.ipynb)\n",
    "- Propriedades da DFT\n",
    "- [Propriedade da escala (expansão) da DFT](dftscaleproperty.ipynb)\n",
    "- [Interpolação na expansão (análise no domínio da frequência](magnify.ipynb)\n",
    "- [Transforma Discreta de Wavelets](wavelets.ipynb)"
   ]
  },
  {
   "cell_type": "markdown",
   "metadata": {},
   "source": [
    "## Necessitam ajustar para jupyter notebooks\n",
    "\n",
    "- [tutorial_trans_geom_intro_2.ipynb](tutorial_trans_geom_intro_2.ipynb)\n",
    "- [tutorial_ptrans.ipynb](tutorial_ptrans.ipynb)\n",
    "- [gengaussian.ipynb](gengaussian.ipynb )\n"
   ]
  },
  {
   "cell_type": "code",
   "execution_count": 1,
   "metadata": {
    "ExecuteTime": {
     "end_time": "2017-04-30T08:12:01.837582",
     "start_time": "2017-04-30T08:12:01.666325"
    }
   },
   "outputs": [
    {
     "name": "stdout",
     "output_type": "stream",
     "text": [
      "0_index.ipynb                        tutorial_numpy_1_11.ipynb\r\n",
      "Array-strides.ipynb                  tutorial_numpy_1_2.ipynb\r\n",
      "Ferramentas de Edicao HTML.ipynb     tutorial_numpy_1_3.ipynb\r\n",
      "Revisao_NumerosComplexos.ipynb       tutorial_numpy_1_4.ipynb\r\n",
      "chess.ipynb                          tutorial_numpy_1_5a.ipynb\r\n",
      "gengaussian.ipynb                    tutorial_numpy_1_7.ipynb\r\n",
      "tutorial_1_imagens.ipynb             tutorial_numpy_1_8.ipynb\r\n",
      "tutorial_contraste_iterativo_2.ipynb tutorial_numpy_1_9.ipynb\r\n",
      "tutorial_conv_3.ipynb                tutorial_pehist_1.ipynb\r\n",
      "tutorial_convprop_3.ipynb            tutorial_pehist_2.ipynb\r\n",
      "tutorial_hist__stat_2.ipynb          tutorial_ptrans.ipynb\r\n",
      "tutorial_hist_eq_2.ipynb             tutorial_python_1_1.ipynb\r\n",
      "tutorial_img_ds.ipynb                tutorial_python_1_3.ipynb\r\n",
      "tutorial_matplotlib.ipynb            tutorial_ti_2.ipynb\r\n",
      "tutorial_numpy_1_1.ipynb             tutorial_trans_geom_intro_2.ipynb\r\n",
      "tutorial_numpy_1_10.ipynb\r\n"
     ]
    }
   ],
   "source": [
    "!ls"
   ]
  }
 ],
 "metadata": {
  "anaconda-cloud": {},
  "kernelspec": {
   "display_name": "Python 3",
   "language": "python",
   "name": "python3"
  },
  "language_info": {
   "codemirror_mode": {
    "name": "ipython",
    "version": 3
   },
   "file_extension": ".py",
   "mimetype": "text/x-python",
   "name": "python",
   "nbconvert_exporter": "python",
   "pygments_lexer": "ipython3",
   "version": "3.6.0"
  },
  "latex_envs": {
   "LaTeX_envs_menu_present": true,
   "bibliofile": "biblio.bib",
   "cite_by": "apalike",
   "current_citInitial": 1,
   "eqLabelWithNumbers": true,
   "eqNumInitial": 1,
   "hotkeys": {
    "equation": "Ctrl-E",
    "itemize": "Ctrl-I"
   },
   "labels_anchors": false,
   "latex_user_defs": false,
   "report_style_numbering": false,
   "user_envs_cfg": false
  },
  "toc": {
   "nav_menu": {
    "height": "45px",
    "width": "252px"
   },
   "number_sections": true,
   "sideBar": true,
   "skip_h1_title": false,
   "toc_cell": true,
   "toc_position": {},
   "toc_section_display": "block",
   "toc_window_display": false
  }
 },
 "nbformat": 4,
 "nbformat_minor": 1
}
