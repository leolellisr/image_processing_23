{
 "cells": [
  {
   "cell_type": "markdown",
   "metadata": {},
   "source": [
    "# Analysis of Ramp program solutions"
   ]
  },
  {
   "cell_type": "markdown",
   "metadata": {},
   "source": [
    "This page presents the main solutions presented in the Rampa program.\n",
    "The objective is to understand the discrepancies between them and compare their advantages and disadvantages.\n",
    "\n",
    "Conceptual solution with indices:\n",
    "===============================\n",
    "\n",
    "In this approach, the coordinate matrix of the \"c\" columns is already the desired ramp. The only care is that\n",
    "as one of the test values the ramp exceeds the value 255, it is important that the type of\n",
    "pixel is an integer with at least 16 bits."
   ]
  },
  {
   "cell_type": "code",
   "execution_count": 19,
   "metadata": {
    "ExecuteTime": {
     "end_time": "2018-05-15T23:41:26.393877Z",
     "start_time": "2018-05-15T23:41:26.385379Z"
    }
   },
   "outputs": [
    {
     "name": "stdout",
     "output_type": "stream",
     "text": [
      "[[ 0  1  2  3  4  5  6  7  8  9 10]\n",
      " [ 0  1  2  3  4  5  6  7  8  9 10]\n",
      " [ 0  1  2  3  4  5  6  7  8  9 10]\n",
      " [ 0  1  2  3  4  5  6  7  8  9 10]\n",
      " [ 0  1  2  3  4  5  6  7  8  9 10]\n",
      " [ 0  1  2  3  4  5  6  7  8  9 10]\n",
      " [ 0  1  2  3  4  5  6  7  8  9 10]\n",
      " [ 0  1  2  3  4  5  6  7  8  9 10]\n",
      " [ 0  1  2  3  4  5  6  7  8  9 10]\n",
      " [ 0  1  2  3  4  5  6  7  8  9 10]\n",
      " [ 0  1  2  3  4  5  6  7  8  9 10]]\n"
     ]
    }
   ],
   "source": [
    "def rr_indices( lado):\n",
    "    import numpy as np\n",
    "    r,c = np.indices( (lado, lado), dtype='uint16' )\n",
    "    return c\n",
    "    \n",
    "print(rr_indices(11))"
   ]
  },
  {
   "cell_type": "markdown",
   "metadata": {},
   "source": [
    "More efficient solutions:\n",
    "=========================\n",
    "\n",
    "There are at least three solutions that are classified as the most efficient.\n",
    "All of them have the cost of writing a line and then copying this line\n",
    "on every line of the output image.\n",
    "\n",
    "Broadcast copy\n",
    "-------------------\n",
    "\n",
    "The most interesting and most efficient is broadcast copying (subject of module 3).\n",
    "This solution declares the\n",
    "final image with empty and then copy a line created by range to\n",
    "each line of the image using numpy's broadcast property."
   ]
  },
  {
   "cell_type": "code",
   "execution_count": 20,
   "metadata": {
    "ExecuteTime": {
     "end_time": "2018-05-15T23:41:44.031542Z",
     "start_time": "2018-05-15T23:41:44.021571Z"
    }
   },
   "outputs": [
    {
     "name": "stdout",
     "output_type": "stream",
     "text": [
      "[[ 0  1  2  3  4  5  6  7  8  9 10]\n",
      " [ 0  1  2  3  4  5  6  7  8  9 10]\n",
      " [ 0  1  2  3  4  5  6  7  8  9 10]\n",
      " [ 0  1  2  3  4  5  6  7  8  9 10]\n",
      " [ 0  1  2  3  4  5  6  7  8  9 10]\n",
      " [ 0  1  2  3  4  5  6  7  8  9 10]\n",
      " [ 0  1  2  3  4  5  6  7  8  9 10]\n",
      " [ 0  1  2  3  4  5  6  7  8  9 10]\n",
      " [ 0  1  2  3  4  5  6  7  8  9 10]\n",
      " [ 0  1  2  3  4  5  6  7  8  9 10]\n",
      " [ 0  1  2  3  4  5  6  7  8  9 10]]\n"
     ]
    }
   ],
   "source": [
    "def rr_broadcast( side):\n",
    "    import numpy as np\n",
    "    row = np.arange(side, dtype='uint16')\n",
    "    g = np.empty ( (side,side), dtype='uint16')\n",
    "    g[:,:] = row\n",
    "    return g\n",
    "\n",
    "print(rr_broadcast(11))"
   ]
  },
  {
   "cell_type": "markdown",
   "metadata": {},
   "source": [
    "Copy in tile form\n",
    "--------------------------\n",
    "In the solution using tile, a tile is created\n",
    "with the ramp line through ``arange`` and then tile this line\n",
    "with \"side\" lines."
   ]
  },
  {
   "cell_type": "code",
   "execution_count": 21,
   "metadata": {
    "ExecuteTime": {
     "end_time": "2018-05-15T23:41:56.413712Z",
     "start_time": "2018-05-15T23:41:56.405601Z"
    }
   },
   "outputs": [
    {
     "name": "stdout",
     "output_type": "stream",
     "text": [
      "[[ 0  1  2  3  4  5  6  7  8  9 10]\n",
      " [ 0  1  2  3  4  5  6  7  8  9 10]\n",
      " [ 0  1  2  3  4  5  6  7  8  9 10]\n",
      " [ 0  1  2  3  4  5  6  7  8  9 10]\n",
      " [ 0  1  2  3  4  5  6  7  8  9 10]\n",
      " [ 0  1  2  3  4  5  6  7  8  9 10]\n",
      " [ 0  1  2  3  4  5  6  7  8  9 10]\n",
      " [ 0  1  2  3  4  5  6  7  8  9 10]\n",
      " [ 0  1  2  3  4  5  6  7  8  9 10]\n",
      " [ 0  1  2  3  4  5  6  7  8  9 10]\n",
      " [ 0  1  2  3  4  5  6  7  8  9 10]]\n"
     ]
    }
   ],
   "source": [
    "def rr_tile( side):\n",
    "    import numpy as np\n",
    "    f = np.arange(side, dtype='uint16')\n",
    "    return np.tile( f, (lado,1))\n",
    "\n",
    "print(rr_tile(11))"
   ]
  },
  {
   "cell_type": "markdown",
   "metadata": {},
   "source": [
    "Using resize\n",
    "-----------------\n",
    "\n",
    "The resize solution uses the numpy resize function property\n",
    "which completes the image raster by repeating it to the final size."
   ]
  },
  {
   "cell_type": "code",
   "execution_count": 22,
   "metadata": {
    "ExecuteTime": {
     "end_time": "2018-05-15T23:42:10.209773Z",
     "start_time": "2018-05-15T23:42:10.201810Z"
    }
   },
   "outputs": [
    {
     "name": "stdout",
     "output_type": "stream",
     "text": [
      "[[ 0  1  2  3  4  5  6  7  8  9 10]\n",
      " [ 0  1  2  3  4  5  6  7  8  9 10]\n",
      " [ 0  1  2  3  4  5  6  7  8  9 10]\n",
      " [ 0  1  2  3  4  5  6  7  8  9 10]\n",
      " [ 0  1  2  3  4  5  6  7  8  9 10]\n",
      " [ 0  1  2  3  4  5  6  7  8  9 10]\n",
      " [ 0  1  2  3  4  5  6  7  8  9 10]\n",
      " [ 0  1  2  3  4  5  6  7  8  9 10]\n",
      " [ 0  1  2  3  4  5  6  7  8  9 10]\n",
      " [ 0  1  2  3  4  5  6  7  8  9 10]\n",
      " [ 0  1  2  3  4  5  6  7  8  9 10]]\n"
     ]
    }
   ],
   "source": [
    "def rr_resize( step):\n",
    "    import numpy as np\n",
    "    f = np.arange(step, dtype='uint16')\n",
    "    return np.resize(f, (step,step))\n",
    "        \n",
    "print(rr_resize(11))"
   ]
  },
  {
   "cell_type": "markdown",
   "metadata": {},
   "source": [
    "Using repeat\n",
    "-----------------\n",
    "\n",
    "repeat to numpy repeats each pixel n times. To use it in this\n",
    "problem, repeating the ramp line (arange) on each side, after\n",
    "reformat it to two dimensions there is a need to do the transposition\n",
    "because repetition occurs horizontally and what we want is repetition in\n",
    "vertical, because in the final image the lines are repeated."
   ]
  },
  {
   "cell_type": "code",
   "execution_count": 23,
   "metadata": {
    "ExecuteTime": {
     "end_time": "2018-05-15T23:42:24.139374Z",
     "start_time": "2018-05-15T23:42:24.123961Z"
    }
   },
   "outputs": [
    {
     "name": "stdout",
     "output_type": "stream",
     "text": [
      "[[ 0  1  2  3  4  5  6  7  8  9 10]\n",
      " [ 0  1  2  3  4  5  6  7  8  9 10]\n",
      " [ 0  1  2  3  4  5  6  7  8  9 10]\n",
      " [ 0  1  2  3  4  5  6  7  8  9 10]\n",
      " [ 0  1  2  3  4  5  6  7  8  9 10]\n",
      " [ 0  1  2  3  4  5  6  7  8  9 10]\n",
      " [ 0  1  2  3  4  5  6  7  8  9 10]\n",
      " [ 0  1  2  3  4  5  6  7  8  9 10]\n",
      " [ 0  1  2  3  4  5  6  7  8  9 10]\n",
      " [ 0  1  2  3  4  5  6  7  8  9 10]\n",
      " [ 0  1  2  3  4  5  6  7  8  9 10]]\n"
     ]
    }
   ],
   "source": [
    "def rr_repeat( side):\n",
    "    import numpy as np\n",
    "    f = np.arange(side, dtype='uint16')\n",
    "    return np.repeat( f, side).reshape(side, side).transpose()\n",
    "\n",
    "print(rr_repeat(11))"
   ]
  },
  {
   "cell_type": "markdown",
   "metadata": {},
   "source": [
    "Using the modulo operation\n",
    "----------------------------\n",
    "\n",
    "A solution that was not found is the one that uses the \"module\" operator, that is,\n",
    "the rest of the division. In this solution, a unique vector of the final size of the\n",
    "image, applying the \"modulo side\" operator. Then just reformat it to\n",
    "two dimensions. The drawback of this solution is that the vector needs to be 32\n",
    "bits, as the total number of pixels is typically greater than 65535, which is the maximum\n",
    "which can be represented in 'uint16'.\n",
    "     "
   ]
  },
  {
   "cell_type": "code",
   "execution_count": 24,
   "metadata": {
    "ExecuteTime": {
     "end_time": "2018-05-15T23:42:37.867573Z",
     "start_time": "2018-05-15T23:42:37.855948Z"
    }
   },
   "outputs": [
    {
     "name": "stdout",
     "output_type": "stream",
     "text": [
      "[[ 0  1  2  3  4  5  6  7  8  9 10]\n",
      " [ 0  1  2  3  4  5  6  7  8  9 10]\n",
      " [ 0  1  2  3  4  5  6  7  8  9 10]\n",
      " [ 0  1  2  3  4  5  6  7  8  9 10]\n",
      " [ 0  1  2  3  4  5  6  7  8  9 10]\n",
      " [ 0  1  2  3  4  5  6  7  8  9 10]\n",
      " [ 0  1  2  3  4  5  6  7  8  9 10]\n",
      " [ 0  1  2  3  4  5  6  7  8  9 10]\n",
      " [ 0  1  2  3  4  5  6  7  8  9 10]\n",
      " [ 0  1  2  3  4  5  6  7  8  9 10]\n",
      " [ 0  1  2  3  4  5  6  7  8  9 10]]\n"
     ]
    }
   ],
   "source": [
    "def rr_module( side):\n",
    "    import numpy as np\n",
    "    f = np.arange(side * side, dtype='int32')\n",
    "    return (f % side).reshape(side,side)\n",
    "    \n",
    "print(rr_module(11))"
   ]
  },
  {
   "cell_type": "markdown",
   "metadata": {},
   "source": [
    "Testing\n",
    "====================="
   ]
  },
  {
   "cell_type": "code",
   "execution_count": 25,
   "metadata": {
    "ExecuteTime": {
     "end_time": "2018-05-15T23:43:04.728414Z",
     "start_time": "2018-05-15T23:42:59.783399Z"
    },
    "collapsed": true
   },
   "outputs": [],
   "source": [
    "p = [rr_broadcast, rr_resize, rr_repeat, rr_tile, rr_indices, rr_modulo]\n",
    "side = 101\n",
    "f    = rr_indices(side)\n",
    "for func in p:\n",
    "    if not (func(side) == f).all():\n",
    "        print('func %s failed' % func.__name__)"
   ]
  },
  {
   "cell_type": "markdown",
   "metadata": {},
   "source": [
    "Comparing time\n",
    "================\n",
    "\n",
    "The time for each function is calculated by running it a thousand times and calculating the 2nd percentile."
   ]
  },
  {
   "cell_type": "code",
   "execution_count": 26,
   "metadata": {
    "ExecuteTime": {
     "end_time": "2018-05-15T23:44:29.670885Z",
     "start_time": "2018-05-15T23:43:36.566903Z"
    }
   },
   "outputs": [
    {
     "name": "stdout",
     "output_type": "stream",
     "text": [
      "rr_broadcast\n",
      "1 loop, best of 3: 638 ms per loop\n",
      "\n",
      "rr_tile\n",
      "1 loop, best of 3: 621 ms per loop\n",
      "\n",
      "rr_resize\n",
      "1 loop, best of 3: 625 ms per loop\n",
      "\n",
      "rr_repeat\n",
      "1 loop, best of 3: 2.54 s per loop\n",
      "\n",
      "rr_modulo\n",
      "1 loop, best of 3: 4.59 s per loop\n",
      "\n",
      "rr_indices\n",
      "1 loop, best of 3: 1.32 s per loop\n",
      "\n"
     ]
    }
   ],
   "source": [
    "import numpy as np\n",
    "\n",
    "p = [rr_broadcast, rr_tile, rr_resize, rr_repeat, rr_modulo, rr_indices]\n",
    "side = 20057\n",
    "for func in p:\n",
    "    print(func.__name__)\n",
    "    %timeit f = func(side)\n",
    "    print()"
   ]
  },
  {
   "cell_type": "markdown",
   "metadata": {},
   "source": [
    "References\n",
    "===========\n",
    "\n",
    "- `master:tutorial_numpy_1_8 Adessowiki: tile exemplos ilustrativos`\n",
    "- `http://docs.scipy.org/doc/numpy/reference/generated/numpy.tile.html NumPy: tile`\n",
    "- `http://docs.scipy.org/doc/numpy/reference/generated/numpy.repeat.html NumPy: repeat`"
   ]
  },
  {
   "cell_type": "code",
   "execution_count": null,
   "metadata": {
    "collapsed": true
   },
   "outputs": [],
   "source": []
  }
 ],
 "metadata": {
  "kernelspec": {
   "display_name": "Python 3 (ipykernel)",
   "language": "python",
   "name": "python3"
  },
  "language_info": {
   "codemirror_mode": {
    "name": "ipython",
    "version": 3
   },
   "file_extension": ".py",
   "mimetype": "text/x-python",
   "name": "python",
   "nbconvert_exporter": "python",
   "pygments_lexer": "ipython3",
   "version": "3.10.12"
  },
  "toc": {
   "nav_menu": {},
   "number_sections": true,
   "sideBar": true,
   "skip_h1_title": false,
   "toc_cell": false,
   "toc_position": {},
   "toc_section_display": "block",
   "toc_window_display": false
  }
 },
 "nbformat": 4,
 "nbformat_minor": 2
}
