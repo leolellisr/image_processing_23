{
 "cells": [
  {
   "cell_type": "markdown",
   "metadata": {
    "toc": "true"
   },
   "source": [
    "# Table of Contents\n",
    " <p><div class=\"lev1 toc-item\"><a href=\"#IA898-Revisão-em-números-complexos\" data-toc-modified-id=\"Revisão-em-números-complexos-1\"><span class=\"toc-item-num\">1&nbsp;&nbsp;</span>Review in complex numbers</a></div><div class=\"lev2 toc-item\"><a href=\"#Representação-cartesiana\" data-toc-modified-id=\"Representação-cartesiana-11\"><span class=\"toc-item-num\">1.1&nbsp;&nbsp;</span>Cartesian representation</a></div><div class=\"lev2 toc-item\"><a href=\"#Representação-no-plano-complexo\" data-toc-modified-id=\"Representação-no-plano-complexo-12\"><span class=\"toc-item-num\">1.2&nbsp;&nbsp;</span>Representation in the complex plane</a></div><div class=\"lev2 toc-item\"><a href=\"#Representação-polar\" data-toc-modified-id=\"Representação-polar-13\"><span class=\"toc-item-num\">1.3&nbsp;&nbsp;</span>Polar representation</a></div><div class=\"lev2 toc-item\"><a href=\"#Relação-entre-representação-cartesiana-e-representação-polar\" data-toc-modified-id=\"Relação-entre-representação-cartesiana-e-representação-polar-14\"><span class=\"toc-item-num\">1.4&nbsp;&nbsp;</span>Relationship between Cartesian representation and polar representation</a></div><div class=\"lev2 toc-item\"><a href=\"#Array-de-números-complexos\" data-toc-modified-id=\"Array-de-números-complexos-15\"><span class=\"toc-item-num\">1.5&nbsp;&nbsp;</span>Array of complex numbers</a></div>"
   ]
  },
  {
   "cell_type": "markdown",
   "metadata": {},
   "source": [
    "# Review in complex numbers\n",
    "\n",
    "Before we start discussing the Fourier Transform, let's review some important concepts,\n",
    "such as complex numbers.\n",
    "\n",
    "The concept of complex numbers emerged in the 14th century basically to enable square root resolution.\n",
    "At first, complex numbers were not seen as numbers, but rather as a useful algebraic device for solving equations.\n",
    "Descartes, in the 17th century, called them imaginary numbers.\n",
    "\n",
    "The representation of complex numbers takes place in the Cartesian form (real part and imaginary part) and in the form\n",
    "polar (modulus and phase). Euler's equation gives a representation of the polar form in cosine (real part) and sine\n",
    "(imaginary part).\n",
    "The sum operation of complex numbers is easier to perform in Cartesian form, while the\n",
    "Product and potentiation operations are more easily performed in polar form. Visualizing a signal\n",
    "complex is also easier in polar form (magnitude and phase)."
   ]
  },
  {
   "cell_type": "markdown",
   "metadata": {},
   "source": [
    "## Cartesian representation\n",
    "\n",
    "The Cartesian representation of the complex number $c$ is given by:\n",
    "\n",
    "$$ c = x + yj $$\n",
    "\n",
    "where $x$ is called the Real part and $y$ is called the Imaginary part. The most immediate way to create\n",
    "a complex number using NumPy and through the *complex* function, simply passing the values of the parts\n",
    "*real* and *imaginary* of the complex number, as shown in the example below. See that the variable *C* is of type *complex*."
   ]
  },
  {
   "cell_type": "code",
   "execution_count": 1,
   "metadata": {
    "ExecuteTime": {
     "end_time": "2017-04-30T08:46:55.839349",
     "start_time": "2017-04-30T08:46:55.503647"
    }
   },
   "outputs": [
    {
     "name": "stdout",
     "output_type": "stream",
     "text": [
      "C= (3+4j)\n",
      "<class 'complex'>\n"
     ]
    }
   ],
   "source": [
    "import numpy as np\n",
    "\n",
    "C = np.complex(3,4)\n",
    "print('C=', C)\n",
    "print(type(C))"
   ]
  },
  {
   "cell_type": "markdown",
   "metadata": {},
   "source": [
    "However, as we will work with complex numbers in images, we will not only use one\n",
    "complex number, but an *array* of complex numbers. We can see in the following example that\n",
    "the way to create an *array* of complex numbers is the same as creating an *array* of numbers\n",
    "integers or real numbers (in floating point). Then we just need to use the *array* function of\n",
    "NumPy and insert each complex element, writing it in the form :eq:`x+yj`. See that now the\n",
    "variable *c* is of type *numpy.ndarray*."
   ]
  },
  {
   "cell_type": "code",
   "execution_count": 2,
   "metadata": {
    "ExecuteTime": {
     "end_time": "2017-04-30T08:46:55.856119",
     "start_time": "2017-04-30T08:46:55.841665"
    }
   },
   "outputs": [
    {
     "name": "stdout",
     "output_type": "stream",
     "text": [
      "c= [ 3.+4.j]\n",
      "<class 'numpy.ndarray'>\n",
      "Parte real: [ 3.]\n",
      "Parte imaginária: [ 4.]\n",
      "(1,)\n"
     ]
    }
   ],
   "source": [
    "c = np.array([3+4j])\n",
    "#c = 3+4j\n",
    "print('c=', c)\n",
    "print(type(c))\n",
    "print('Real part:', c.real)\n",
    "print('Imaginary part:', c.imag)\n",
    "print(c.shape)"
   ]
  },
  {
   "cell_type": "markdown",
   "metadata": {},
   "source": [
    "The conjugate of this same complex number $c$ is given by:\n",
    " \n",
    "\n",
    "$$ \\bar{c} = x - yj $$\n",
    "\n",
    "Note that the real part of a complex number and its conjugate is the same ($x$), while the\n",
    "their imaginary are opposite ($y$ and $-y$)"
   ]
  },
  {
   "cell_type": "code",
   "execution_count": 3,
   "metadata": {
    "ExecuteTime": {
     "end_time": "2017-04-30T08:46:55.870097",
     "start_time": "2017-04-30T08:46:55.858425"
    }
   },
   "outputs": [
    {
     "name": "stdout",
     "output_type": "stream",
     "text": [
      "c= [ 3.+4.j]\n",
      "Complexo conjugado: [ 3.-4.j]\n",
      "Parte real: [ 3.]\n",
      "Parte imaginária: [-4.]\n"
     ]
    }
   ],
   "source": [
    "cc = np.conjugate(c)\n",
    "print('c=', c)\n",
    "print('Complex conjugate:', cc)\n",
    "print('Real part:', cc.real)\n",
    "print('Imaginary part:', cc.imag)"
   ]
  },
  {
   "cell_type": "markdown",
   "metadata": {},
   "source": [
    "## Representation in the complex plane\n",
    "    \n",
    "Complex numbers are represented geometrically in the complex plane. In it, the real part is represented,\n",
    ":eq:`x`, on the horizontal axis and the imaginary part, :eq:`y`, on the vertical axis. If we interpret this complex number in the plane\n",
    "Cartesian as a vector, we can calculate its magnitude (modulus) and its phase (argument)."
   ]
  },
  {
   "cell_type": "code",
   "execution_count": 4,
   "metadata": {
    "ExecuteTime": {
     "end_time": "2017-04-30T08:46:55.900162",
     "start_time": "2017-04-30T08:46:55.872424"
    }
   },
   "outputs": [
    {
     "name": "stdout",
     "output_type": "stream",
     "text": [
      "c3= (2+2j)\n",
      "Módulo: 2.82842712475\n",
      "Argumento: 45.0\n"
     ]
    },
    {
     "data": {
      "text/plain": [
       "45.0"
      ]
     },
     "execution_count": 4,
     "metadata": {},
     "output_type": "execute_result"
    }
   ],
   "source": [
    "c3 = np.array(2+2j)\n",
    "print('c3=', c3)\n",
    "print('Module:', np.abs(c3))\n",
    "print('Argument:', np.rad2deg(np.angle(c3)))\n",
    "np.angle(c3)*180/np.pi"
   ]
  },
  {
   "cell_type": "markdown",
   "metadata": {},
   "source": [
    "## Polar representation\n",
    "\n",
    "The polar representation of a complex number, given by Euler's formula, is of the form:\n",
    "\n",
    "\n",
    "$$ c = \\rho (\\cos \\phi + j \\sin \\phi) $$\n",
    "\n",
    "or yet\n",
    "\n",
    "$$ c = \\rho {e}^{j\\phi } $$\n",
    "    \n",
    "where $\\rho$ is the module (magnitude) of the complex number and $\\phi$ is the argument (phase) of the complex number.\n",
    "It is also easy to see that $rho \\cos \\phi$ is the real part of the complex number and $\\rho \\sin \\phi$ is the\n",
    "imaginary part of the complex number."
   ]
  },
  {
   "cell_type": "markdown",
   "metadata": {},
   "source": [
    "## Relationship between Cartesian representation and polar representation\n",
    "\n",
    "Every complex number can be represented by its real part and its imaginary part, or by its module and argument.\n",
    "From one of these representations it is possible to obtain the other.\n",
    "To convert a complex number from its Cartesian representation to its polar representation, simply do:\n",
    "\n",
    "\n",
    "$$ \\rho = \\left|z \\right| = \\sqrt{{x}^{2}+{y}^{2}} $$\n",
    "     \n",
    "$$ \\phi = \\arctan \\left(\\frac{y}{x} \\right) $$\n",
    "    \n",
    "The conversion of the complex number from its polar form to the Cartesian form is given by:\n",
    "\n",
    "$$ x = \\rho\\cos(\\phi) $$\n",
    "    \n",
    "$$ y = \\rho\\sin(\\phi) $$\n",
    "\n",
    "To convert a complex number from its Cartesian coordinates to polar coordinates, simply use\n",
    "the *abs* and *angle* functions offered by NumPy. For the inverse conversion (from polar to\n",
    "Cartesian), not a specific function of NumPy and it is therefore necessary to perform the calculation as\n",
    "described above. It is also important to be aware of the use of the angle in radians or degrees.\n",
    "\n",
    "## Array of complex numbers\n",
    "\n",
    "So far, we have seen the concepts related to complex numbers and the main functions of NumPy\n",
    "to manipulate these numbers. Note that from the beginning we operated on a single-element array.\n",
    "But, in the case of images and the Fourier transform, instead of a single complex number we will be\n",
    "manipulating an array of complex numbers."
   ]
  },
  {
   "cell_type": "code",
   "execution_count": 5,
   "metadata": {
    "ExecuteTime": {
     "end_time": "2017-04-30T08:46:55.917166",
     "start_time": "2017-04-30T08:46:55.903072"
    }
   },
   "outputs": [
    {
     "name": "stdout",
     "output_type": "stream",
     "text": [
      "C_array=\n",
      " [[ 3.+4.j  2.+2.j]\n",
      " [ 1.-2.j -2.+2.j]]\n",
      "Módulo:\n",
      " [[ 5.          2.82842712]\n",
      " [ 2.23606798  2.82842712]]\n",
      "Argumento:\n",
      " [[  53.13010235   45.        ]\n",
      " [ -63.43494882  135.        ]]\n",
      "Shape: (2, 2)\n"
     ]
    }
   ],
   "source": [
    "C_array = np.array([[3+4j, 2+2j],[1-2j, -2+2j]])\n",
    "print('C_array=\\n', C_array)\n",
    "print('Module:\\n', np.abs(C_array))\n",
    "print('Argument:\\n', np.rad2deg(np.angle(C_array)))\n",
    "print('Shape:',C_array.shape)"
   ]
  }
 ],
 "metadata": {
  "kernelspec": {
   "display_name": "Python 3 (ipykernel)",
   "language": "python",
   "name": "python3"
  },
  "language_info": {
   "codemirror_mode": {
    "name": "ipython",
    "version": 3
   },
   "file_extension": ".py",
   "mimetype": "text/x-python",
   "name": "python",
   "nbconvert_exporter": "python",
   "pygments_lexer": "ipython3",
   "version": "3.10.12"
  },
  "toc": {
   "colors": {
    "hover_highlight": "#DAA520",
    "running_highlight": "#FF0000",
    "selected_highlight": "#FFD700"
   },
   "moveMenuLeft": true,
   "nav_menu": {
    "height": "30px",
    "width": "252px"
   },
   "navigate_menu": true,
   "number_sections": true,
   "sideBar": true,
   "threshold": 4,
   "toc_cell": true,
   "toc_section_display": "block",
   "toc_window_display": true
  }
 },
 "nbformat": 4,
 "nbformat_minor": 2
}
