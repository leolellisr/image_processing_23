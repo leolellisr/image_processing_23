{
 "cells": [
  {
   "cell_type": "markdown",
   "metadata": {},
   "source": [
    "# Análise das soluções do programa Rampa"
   ]
  },
  {
   "cell_type": "markdown",
   "metadata": {},
   "source": [
    "Esta página apresenta as principais soluções apresentadas no programa Rampa.\n",
    "O objetivo é entender as discrepâncias entre elas e comparar suas vantagens e desvantagens.\n",
    "\n",
    "Solução conceitual com indices:\n",
    "===============================\n",
    "\n",
    "Nesta abordagem, a matriz das coordenadas das colunas \"c\" já é a rampa desejada. O único cuidado é que\n",
    "como um dos valores de teste a rampa ultrapassa o valor 255, é importante que o tipo de\n",
    "pixel seja inteiro com no mínimo 16 bits."
   ]
  },
  {
   "cell_type": "code",
   "execution_count": 19,
   "metadata": {
    "ExecuteTime": {
     "end_time": "2018-05-15T23:41:26.393877Z",
     "start_time": "2018-05-15T23:41:26.385379Z"
    }
   },
   "outputs": [
    {
     "name": "stdout",
     "output_type": "stream",
     "text": [
      "[[ 0  1  2  3  4  5  6  7  8  9 10]\n",
      " [ 0  1  2  3  4  5  6  7  8  9 10]\n",
      " [ 0  1  2  3  4  5  6  7  8  9 10]\n",
      " [ 0  1  2  3  4  5  6  7  8  9 10]\n",
      " [ 0  1  2  3  4  5  6  7  8  9 10]\n",
      " [ 0  1  2  3  4  5  6  7  8  9 10]\n",
      " [ 0  1  2  3  4  5  6  7  8  9 10]\n",
      " [ 0  1  2  3  4  5  6  7  8  9 10]\n",
      " [ 0  1  2  3  4  5  6  7  8  9 10]\n",
      " [ 0  1  2  3  4  5  6  7  8  9 10]\n",
      " [ 0  1  2  3  4  5  6  7  8  9 10]]\n"
     ]
    }
   ],
   "source": [
    "def rr_indices( lado):\n",
    "    import numpy as np\n",
    "    r,c = np.indices( (lado, lado), dtype='uint16' )\n",
    "    return c\n",
    "    \n",
    "print(rr_indices(11))"
   ]
  },
  {
   "cell_type": "markdown",
   "metadata": {},
   "source": [
    "Soluções mais eficientes:\n",
    "=========================\n",
    "\n",
    "Existem no mínimo três soluções que se classificam como as mais eficientes.\n",
    "Todas elas tem o custo de escrever uma linha e depois copiar esta linha \n",
    "em todas as linhas da imagem de saída.\n",
    "\n",
    "Cópia com broadcast\n",
    "-------------------\n",
    "\n",
    "A mais interessante e mais eficiente é a cópia por broadcast (assunto do módulo 3). \n",
    "Nesta solução declara-se a\n",
    "imagem final com empty e depois copia-se uma linha criada pelo arange para\n",
    "cada linha da imagem utilizando-se da propriedade de broadcast do numpy."
   ]
  },
  {
   "cell_type": "code",
   "execution_count": 20,
   "metadata": {
    "ExecuteTime": {
     "end_time": "2018-05-15T23:41:44.031542Z",
     "start_time": "2018-05-15T23:41:44.021571Z"
    }
   },
   "outputs": [
    {
     "name": "stdout",
     "output_type": "stream",
     "text": [
      "[[ 0  1  2  3  4  5  6  7  8  9 10]\n",
      " [ 0  1  2  3  4  5  6  7  8  9 10]\n",
      " [ 0  1  2  3  4  5  6  7  8  9 10]\n",
      " [ 0  1  2  3  4  5  6  7  8  9 10]\n",
      " [ 0  1  2  3  4  5  6  7  8  9 10]\n",
      " [ 0  1  2  3  4  5  6  7  8  9 10]\n",
      " [ 0  1  2  3  4  5  6  7  8  9 10]\n",
      " [ 0  1  2  3  4  5  6  7  8  9 10]\n",
      " [ 0  1  2  3  4  5  6  7  8  9 10]\n",
      " [ 0  1  2  3  4  5  6  7  8  9 10]\n",
      " [ 0  1  2  3  4  5  6  7  8  9 10]]\n"
     ]
    }
   ],
   "source": [
    "def rr_broadcast( lado):\n",
    "    import numpy as np\n",
    "    row = np.arange(lado, dtype='uint16')\n",
    "    g = np.empty ( (lado,lado), dtype='uint16')\n",
    "    g[:,:] = row\n",
    "    return g\n",
    "\n",
    "print(rr_broadcast(11))"
   ]
  },
  {
   "cell_type": "markdown",
   "metadata": {},
   "source": [
    "Cópia na forma de ladrilho\n",
    "--------------------------        \n",
    "Na solução usando ladrilho (tile), cria-se um ladrilho\n",
    "com a linha rampa pelo ``arange`` e depois ladrilha-se esta linha\n",
    "com \"lado\" linhas."
   ]
  },
  {
   "cell_type": "code",
   "execution_count": 21,
   "metadata": {
    "ExecuteTime": {
     "end_time": "2018-05-15T23:41:56.413712Z",
     "start_time": "2018-05-15T23:41:56.405601Z"
    }
   },
   "outputs": [
    {
     "name": "stdout",
     "output_type": "stream",
     "text": [
      "[[ 0  1  2  3  4  5  6  7  8  9 10]\n",
      " [ 0  1  2  3  4  5  6  7  8  9 10]\n",
      " [ 0  1  2  3  4  5  6  7  8  9 10]\n",
      " [ 0  1  2  3  4  5  6  7  8  9 10]\n",
      " [ 0  1  2  3  4  5  6  7  8  9 10]\n",
      " [ 0  1  2  3  4  5  6  7  8  9 10]\n",
      " [ 0  1  2  3  4  5  6  7  8  9 10]\n",
      " [ 0  1  2  3  4  5  6  7  8  9 10]\n",
      " [ 0  1  2  3  4  5  6  7  8  9 10]\n",
      " [ 0  1  2  3  4  5  6  7  8  9 10]\n",
      " [ 0  1  2  3  4  5  6  7  8  9 10]]\n"
     ]
    }
   ],
   "source": [
    "def rr_tile( lado):\n",
    "    import numpy as np\n",
    "    f = np.arange(lado, dtype='uint16')\n",
    "    return np.tile( f, (lado,1))\n",
    "\n",
    "print(rr_tile(11))"
   ]
  },
  {
   "cell_type": "markdown",
   "metadata": {},
   "source": [
    "Utilizando resize\n",
    "-----------------\n",
    "\n",
    "A solução do resize utiliza-se da propriedade da função resize do numpy\n",
    "que completa o raster da imagem repetindo-o até o tamanho final."
   ]
  },
  {
   "cell_type": "code",
   "execution_count": 22,
   "metadata": {
    "ExecuteTime": {
     "end_time": "2018-05-15T23:42:10.209773Z",
     "start_time": "2018-05-15T23:42:10.201810Z"
    }
   },
   "outputs": [
    {
     "name": "stdout",
     "output_type": "stream",
     "text": [
      "[[ 0  1  2  3  4  5  6  7  8  9 10]\n",
      " [ 0  1  2  3  4  5  6  7  8  9 10]\n",
      " [ 0  1  2  3  4  5  6  7  8  9 10]\n",
      " [ 0  1  2  3  4  5  6  7  8  9 10]\n",
      " [ 0  1  2  3  4  5  6  7  8  9 10]\n",
      " [ 0  1  2  3  4  5  6  7  8  9 10]\n",
      " [ 0  1  2  3  4  5  6  7  8  9 10]\n",
      " [ 0  1  2  3  4  5  6  7  8  9 10]\n",
      " [ 0  1  2  3  4  5  6  7  8  9 10]\n",
      " [ 0  1  2  3  4  5  6  7  8  9 10]\n",
      " [ 0  1  2  3  4  5  6  7  8  9 10]]\n"
     ]
    }
   ],
   "source": [
    "def rr_resize( lado):\n",
    "    import numpy as np\n",
    "    f = np.arange(lado, dtype='uint16')\n",
    "    return np.resize(f, (lado,lado))\n",
    "        \n",
    "print(rr_resize(11))"
   ]
  },
  {
   "cell_type": "markdown",
   "metadata": {},
   "source": [
    "Utilizando repeat\n",
    "-----------------\n",
    "\n",
    "O repeat to numpy repete cada pixel n vezes. Para utilizá-lo no neste\n",
    "problema, repetindo-se a linha rampa (arange) por lado, depois de\n",
    "reformatá-lo para duas dimensões há necessidade de fazer a transposição\n",
    "pois a repetição se dá na horizontal e o que se quer é a repetição na\n",
    "veritical, pois na imagem final as linhas são repetidas."
   ]
  },
  {
   "cell_type": "code",
   "execution_count": 23,
   "metadata": {
    "ExecuteTime": {
     "end_time": "2018-05-15T23:42:24.139374Z",
     "start_time": "2018-05-15T23:42:24.123961Z"
    }
   },
   "outputs": [
    {
     "name": "stdout",
     "output_type": "stream",
     "text": [
      "[[ 0  1  2  3  4  5  6  7  8  9 10]\n",
      " [ 0  1  2  3  4  5  6  7  8  9 10]\n",
      " [ 0  1  2  3  4  5  6  7  8  9 10]\n",
      " [ 0  1  2  3  4  5  6  7  8  9 10]\n",
      " [ 0  1  2  3  4  5  6  7  8  9 10]\n",
      " [ 0  1  2  3  4  5  6  7  8  9 10]\n",
      " [ 0  1  2  3  4  5  6  7  8  9 10]\n",
      " [ 0  1  2  3  4  5  6  7  8  9 10]\n",
      " [ 0  1  2  3  4  5  6  7  8  9 10]\n",
      " [ 0  1  2  3  4  5  6  7  8  9 10]\n",
      " [ 0  1  2  3  4  5  6  7  8  9 10]]\n"
     ]
    }
   ],
   "source": [
    "def rr_repeat( lado):\n",
    "    import numpy as np\n",
    "    f = np.arange(lado, dtype='uint16')\n",
    "    return np.repeat( f, lado).reshape(lado, lado).transpose()\n",
    "\n",
    "print(rr_repeat(11))"
   ]
  },
  {
   "cell_type": "markdown",
   "metadata": {},
   "source": [
    "Utilizando a operação módulo\n",
    "----------------------------\n",
    "\n",
    "Uma solução que não foi encontrada é a que utiliza o operador \"módulo\", isto é,\n",
    "o resto da divisão. Nesta solução, cria-se um vetor único do tamanho final da\n",
    "imagem, aplicando-se o operador \"modulo lado\". Depois basta reformatar para\n",
    "duas dimensões. O inconveniente desta solução é que o vetor precisa ser de 32\n",
    "bits, pois o número total de pixels normalmente é maior que 65535, que é o máximo\n",
    "que se pode representar em 'uint16'.\n",
    "     "
   ]
  },
  {
   "cell_type": "code",
   "execution_count": 24,
   "metadata": {
    "ExecuteTime": {
     "end_time": "2018-05-15T23:42:37.867573Z",
     "start_time": "2018-05-15T23:42:37.855948Z"
    }
   },
   "outputs": [
    {
     "name": "stdout",
     "output_type": "stream",
     "text": [
      "[[ 0  1  2  3  4  5  6  7  8  9 10]\n",
      " [ 0  1  2  3  4  5  6  7  8  9 10]\n",
      " [ 0  1  2  3  4  5  6  7  8  9 10]\n",
      " [ 0  1  2  3  4  5  6  7  8  9 10]\n",
      " [ 0  1  2  3  4  5  6  7  8  9 10]\n",
      " [ 0  1  2  3  4  5  6  7  8  9 10]\n",
      " [ 0  1  2  3  4  5  6  7  8  9 10]\n",
      " [ 0  1  2  3  4  5  6  7  8  9 10]\n",
      " [ 0  1  2  3  4  5  6  7  8  9 10]\n",
      " [ 0  1  2  3  4  5  6  7  8  9 10]\n",
      " [ 0  1  2  3  4  5  6  7  8  9 10]]\n"
     ]
    }
   ],
   "source": [
    "def rr_modulo( lado):\n",
    "    import numpy as np\n",
    "    f = np.arange(lado * lado, dtype='int32')\n",
    "    return (f % lado).reshape(lado,lado)\n",
    "    \n",
    "print(rr_modulo(11))"
   ]
  },
  {
   "cell_type": "markdown",
   "metadata": {},
   "source": [
    "Testando\n",
    "====================="
   ]
  },
  {
   "cell_type": "code",
   "execution_count": 25,
   "metadata": {
    "ExecuteTime": {
     "end_time": "2018-05-15T23:43:04.728414Z",
     "start_time": "2018-05-15T23:42:59.783399Z"
    },
    "collapsed": true
   },
   "outputs": [],
   "source": [
    "p = [rr_broadcast, rr_resize, rr_repeat, rr_tile, rr_indices, rr_modulo]\n",
    "lado = 101\n",
    "f    = rr_indices(lado)\n",
    "for func in p:\n",
    "    if not (func(lado) == f).all():\n",
    "        print('func %s failed' % func.__name__)"
   ]
  },
  {
   "cell_type": "markdown",
   "metadata": {},
   "source": [
    "Comparando tempo\n",
    "================\n",
    "\n",
    "O tempo de cada função é calculado executando-a mil vezes e calculando o percentil 2."
   ]
  },
  {
   "cell_type": "code",
   "execution_count": 26,
   "metadata": {
    "ExecuteTime": {
     "end_time": "2018-05-15T23:44:29.670885Z",
     "start_time": "2018-05-15T23:43:36.566903Z"
    }
   },
   "outputs": [
    {
     "name": "stdout",
     "output_type": "stream",
     "text": [
      "rr_broadcast\n",
      "1 loop, best of 3: 638 ms per loop\n",
      "\n",
      "rr_tile\n",
      "1 loop, best of 3: 621 ms per loop\n",
      "\n",
      "rr_resize\n",
      "1 loop, best of 3: 625 ms per loop\n",
      "\n",
      "rr_repeat\n",
      "1 loop, best of 3: 2.54 s per loop\n",
      "\n",
      "rr_modulo\n",
      "1 loop, best of 3: 4.59 s per loop\n",
      "\n",
      "rr_indices\n",
      "1 loop, best of 3: 1.32 s per loop\n",
      "\n"
     ]
    }
   ],
   "source": [
    "import numpy as np\n",
    "\n",
    "p = [rr_broadcast, rr_tile, rr_resize, rr_repeat, rr_modulo, rr_indices]\n",
    "lado = 20057\n",
    "for func in p:\n",
    "    print(func.__name__)\n",
    "    %timeit f = func(lado)\n",
    "    print()"
   ]
  },
  {
   "cell_type": "markdown",
   "metadata": {},
   "source": [
    "Referências\n",
    "===========\n",
    "\n",
    "- `master:tutorial_numpy_1_8 Adessowiki: tile exemplos ilustrativos`\n",
    "- `http://docs.scipy.org/doc/numpy/reference/generated/numpy.tile.html NumPy: tile`\n",
    "- `http://docs.scipy.org/doc/numpy/reference/generated/numpy.repeat.html NumPy: repeat`"
   ]
  },
  {
   "cell_type": "code",
   "execution_count": null,
   "metadata": {
    "collapsed": true
   },
   "outputs": [],
   "source": []
  }
 ],
 "metadata": {
  "kernelspec": {
   "display_name": "Python 3",
   "language": "python",
   "name": "python3"
  },
  "language_info": {
   "codemirror_mode": {
    "name": "ipython",
    "version": 3
   },
   "file_extension": ".py",
   "mimetype": "text/x-python",
   "name": "python",
   "nbconvert_exporter": "python",
   "pygments_lexer": "ipython3",
   "version": "3.6.0"
  },
  "toc": {
   "nav_menu": {},
   "number_sections": true,
   "sideBar": true,
   "skip_h1_title": false,
   "toc_cell": false,
   "toc_position": {},
   "toc_section_display": "block",
   "toc_window_display": false
  }
 },
 "nbformat": 4,
 "nbformat_minor": 2
}
