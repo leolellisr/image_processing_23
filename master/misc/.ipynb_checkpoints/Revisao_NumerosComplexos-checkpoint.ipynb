{
 "cells": [
  {
   "cell_type": "markdown",
   "metadata": {
    "toc": "true"
   },
   "source": [
    "# Table of Contents\n",
    " <p><div class=\"lev1 toc-item\"><a href=\"#IA898-Revisão-em-números-complexos\" data-toc-modified-id=\"Revisão-em-números-complexos-1\"><span class=\"toc-item-num\">1&nbsp;&nbsp;</span>Revisão em números complexos</a></div><div class=\"lev2 toc-item\"><a href=\"#Representação-cartesiana\" data-toc-modified-id=\"Representação-cartesiana-11\"><span class=\"toc-item-num\">1.1&nbsp;&nbsp;</span>Representação cartesiana</a></div><div class=\"lev2 toc-item\"><a href=\"#Representação-no-plano-complexo\" data-toc-modified-id=\"Representação-no-plano-complexo-12\"><span class=\"toc-item-num\">1.2&nbsp;&nbsp;</span>Representação no plano complexo</a></div><div class=\"lev2 toc-item\"><a href=\"#Representação-polar\" data-toc-modified-id=\"Representação-polar-13\"><span class=\"toc-item-num\">1.3&nbsp;&nbsp;</span>Representação polar</a></div><div class=\"lev2 toc-item\"><a href=\"#Relação-entre-representação-cartesiana-e-representação-polar\" data-toc-modified-id=\"Relação-entre-representação-cartesiana-e-representação-polar-14\"><span class=\"toc-item-num\">1.4&nbsp;&nbsp;</span>Relação entre representação cartesiana e representação polar</a></div><div class=\"lev2 toc-item\"><a href=\"#Array-de-números-complexos\" data-toc-modified-id=\"Array-de-números-complexos-15\"><span class=\"toc-item-num\">1.5&nbsp;&nbsp;</span>Array de números complexos</a></div>"
   ]
  },
  {
   "cell_type": "markdown",
   "metadata": {},
   "source": [
    "# Revisão em números complexos\n",
    "\n",
    "Antes de começarmos a discutir a Transformada de Fourier, vamos fazer a revisão de alguns conceitos importantes,\n",
    "como por exemplo, os números complexos.\n",
    "\n",
    "O conceito de números complexos surgiu no século XIV basicamente para possibilitar a resolução raiz quadrada.\n",
    "No início, os números complexos não eram vistos como números, mas sim como um artifício algébrico útil para se resolver equações. \n",
    "Descartes, no século XVII, os chamou de números imaginários.\n",
    "\n",
    "A representação de números complexos se dá na forma cartesiana (parte real e parte imaginária) e a na forma\n",
    "polar (módulo e fase). A equação de Euler dá a uma representação da forma polar em cosseno (parte real) e seno\n",
    "(parte imaginária).\n",
    "A operação de soma de números complexos é mais fácil de ser realizada na forma cartesiana enquanto que as\n",
    "operações de produto e potenciação são mais facilmente realizadas na forma polar. A visualização de um sinal\n",
    "complexo também é mais fácil na forma polar (magnitude e fase)."
   ]
  },
  {
   "cell_type": "markdown",
   "metadata": {},
   "source": [
    "## Representação cartesiana\n",
    "\n",
    "A representação cartesiana do número complexo $c$ é dada por:\n",
    "\n",
    "$$    c = x + yj  $$\n",
    "\n",
    "onde $x$ é denominada parte Real e $y$ é denominada parte Imaginária. A maneira mais imediata de criar\n",
    "um número complexo usando NumPy e através da função *complex*, bastando para isso passar os valores das partes\n",
    "*real* e *imaginária* do número complexo, como mostra o exemplo abaixo. Veja que a variável *C* é do tipo *complex*."
   ]
  },
  {
   "cell_type": "code",
   "execution_count": 1,
   "metadata": {
    "ExecuteTime": {
     "end_time": "2017-04-30T08:46:55.839349",
     "start_time": "2017-04-30T08:46:55.503647"
    }
   },
   "outputs": [
    {
     "name": "stdout",
     "output_type": "stream",
     "text": [
      "C= (3+4j)\n",
      "<class 'complex'>\n"
     ]
    }
   ],
   "source": [
    "import numpy as np\n",
    "\n",
    "C = np.complex(3,4)\n",
    "print('C=', C)\n",
    "print(type(C))"
   ]
  },
  {
   "cell_type": "markdown",
   "metadata": {},
   "source": [
    "Porém, como iremos trabalhar com números complexos em imagens, utilizaremos não apenas um\n",
    "número complexo, mas um *array* de números complexos. Podemos ver no exemplo a seguir, que\n",
    "a forma de se criar um *array* de números complexos é a mesma de se criar um *array* de números \n",
    "inteiros ou números reais (em ponto flutuante). Basta então utilizarmos a função *array* do\n",
    "NumPy e inserir cada elemento complexo, escrevendo-o da forma :eq:`x+yj`. Veja que agora a \n",
    "variável *c* é do tipo *numpy.ndarray*."
   ]
  },
  {
   "cell_type": "code",
   "execution_count": 2,
   "metadata": {
    "ExecuteTime": {
     "end_time": "2017-04-30T08:46:55.856119",
     "start_time": "2017-04-30T08:46:55.841665"
    }
   },
   "outputs": [
    {
     "name": "stdout",
     "output_type": "stream",
     "text": [
      "c= [ 3.+4.j]\n",
      "<class 'numpy.ndarray'>\n",
      "Parte real: [ 3.]\n",
      "Parte imaginária: [ 4.]\n",
      "(1,)\n"
     ]
    }
   ],
   "source": [
    "c = np.array([3+4j])\n",
    "#c = 3+4j\n",
    "print('c=', c)\n",
    "print(type(c))\n",
    "print('Parte real:', c.real)\n",
    "print('Parte imaginária:', c.imag)\n",
    "print(c.shape)"
   ]
  },
  {
   "cell_type": "markdown",
   "metadata": {},
   "source": [
    "    \n",
    "O conjugado deste mesmo número complexo $c$ é dado por:\n",
    " \n",
    "\n",
    "$$    \\bar{c} = x - yj  $$\n",
    "\n",
    "Percebam que a parte real de um número complexo e de seu conjugado é a mesma ($x$), enquanto que a parte\n",
    "imaginária deles são opostas ($y$ e $-y$)"
   ]
  },
  {
   "cell_type": "code",
   "execution_count": 3,
   "metadata": {
    "ExecuteTime": {
     "end_time": "2017-04-30T08:46:55.870097",
     "start_time": "2017-04-30T08:46:55.858425"
    }
   },
   "outputs": [
    {
     "name": "stdout",
     "output_type": "stream",
     "text": [
      "c= [ 3.+4.j]\n",
      "Complexo conjugado: [ 3.-4.j]\n",
      "Parte real: [ 3.]\n",
      "Parte imaginária: [-4.]\n"
     ]
    }
   ],
   "source": [
    "cc = np.conjugate(c)\n",
    "print('c=', c)\n",
    "print('Complexo conjugado:', cc)\n",
    "print('Parte real:', cc.real)\n",
    "print('Parte imaginária:', cc.imag)"
   ]
  },
  {
   "cell_type": "markdown",
   "metadata": {},
   "source": [
    "## Representação no plano complexo\n",
    "    \n",
    "Os números complexos são representados geometricamente no plano complexo. Nele, representa-se a parte real,\n",
    ":eq:`x`, no eixo horizontal e a parte imaginária, :eq:`y`, no eixo vertical. Se interpretarmos este número complexo no plano\n",
    "cartesiano como um vetor, podemos calcular sua magnitude (módulo) e sua fase (argumento)."
   ]
  },
  {
   "cell_type": "code",
   "execution_count": 4,
   "metadata": {
    "ExecuteTime": {
     "end_time": "2017-04-30T08:46:55.900162",
     "start_time": "2017-04-30T08:46:55.872424"
    }
   },
   "outputs": [
    {
     "name": "stdout",
     "output_type": "stream",
     "text": [
      "c3= (2+2j)\n",
      "Módulo: 2.82842712475\n",
      "Argumento: 45.0\n"
     ]
    },
    {
     "data": {
      "text/plain": [
       "45.0"
      ]
     },
     "execution_count": 4,
     "metadata": {},
     "output_type": "execute_result"
    }
   ],
   "source": [
    "c3 = np.array(2+2j)\n",
    "print('c3=', c3)\n",
    "print('Módulo:', np.abs(c3))\n",
    "print('Argumento:', np.rad2deg(np.angle(c3)))\n",
    "np.angle(c3)*180/np.pi"
   ]
  },
  {
   "cell_type": "markdown",
   "metadata": {},
   "source": [
    "## Representação polar\n",
    "\n",
    "A representação polar de um número complexo, dada pela fórmula de Euler, é da forma: \n",
    "\n",
    "\n",
    "$$    c = \\rho (\\cos \\phi + j \\sin \\phi)  $$\n",
    "\n",
    "ou ainda\n",
    "\n",
    "$$    c = \\rho {e}^{j\\phi } $$\n",
    "    \n",
    "onde $\\rho$ é o módulo (magnitude) do número complexo e $\\phi$ é o argumento (fase) do número complexo.\n",
    "Também é fácil de ver que $rho \\cos \\phi$ é a parte real do número complexo e $\\rho \\sin \\phi$ é a\n",
    "parte imaginária do número complexo.\n",
    "    "
   ]
  },
  {
   "cell_type": "markdown",
   "metadata": {},
   "source": [
    "## Relação entre representação cartesiana e representação polar\n",
    "\n",
    "Todo número complexo pode ser representado por sua parte real e sua parte imaginária, ou por seu módulo e argumento.\n",
    "A partir de uma destas representações é possível obter a outra.\n",
    "Para converter um número complexo de sua representação cartesiana, para sua representação polar, basta fazermos:\n",
    "\n",
    "\n",
    "$$    \\rho = \\left|z \\right| = \\sqrt{{x}^{2}+{y}^{2}} $$\n",
    "     \n",
    "$$    \\phi = \\arctan \\left(\\frac{y}{x} \\right) $$\n",
    "    \n",
    "Já a conversão do número complexo em sua forma polar para a forma cartesiana é dada por:\n",
    "\n",
    "$$    x = \\rho\\cos(\\phi) $$\n",
    "    \n",
    "$$    y = \\rho\\sin(\\phi) $$\n",
    "\n",
    "Para conversão de um número complexo de suas coordenadas cartesianas para polares, basta usar\n",
    "as funções *abs* e *angle* oferecidas pelo NumPy. Já para a conversão inversa (de polar para\n",
    "cartesiana), não função específica do NumPy e é preciso, portanto, realizar o cálculo como \n",
    "descrito acima. É importante também ficar atento ao uso do ângulo em radianos ou em graus.\n",
    "\n",
    "## Array de números complexos\n",
    "\n",
    "Até agora, vimos os conceitos relacionados aos números complexos e as principais funções do NumPy\n",
    "para manipular estes números. Percebam que desde o começo operamos em uma array de um único elemento.\n",
    "Mas, no caso das imagens e da transformada de Fourier, ao invés de um único número complexo estaremos\n",
    "manipulando um array de números complexos."
   ]
  },
  {
   "cell_type": "code",
   "execution_count": 5,
   "metadata": {
    "ExecuteTime": {
     "end_time": "2017-04-30T08:46:55.917166",
     "start_time": "2017-04-30T08:46:55.903072"
    }
   },
   "outputs": [
    {
     "name": "stdout",
     "output_type": "stream",
     "text": [
      "C_array=\n",
      " [[ 3.+4.j  2.+2.j]\n",
      " [ 1.-2.j -2.+2.j]]\n",
      "Módulo:\n",
      " [[ 5.          2.82842712]\n",
      " [ 2.23606798  2.82842712]]\n",
      "Argumento:\n",
      " [[  53.13010235   45.        ]\n",
      " [ -63.43494882  135.        ]]\n",
      "Shape: (2, 2)\n"
     ]
    }
   ],
   "source": [
    "C_array = np.array([[3+4j, 2+2j],[1-2j, -2+2j]])\n",
    "print('C_array=\\n', C_array)\n",
    "print('Módulo:\\n', np.abs(C_array))\n",
    "print('Argumento:\\n', np.rad2deg(np.angle(C_array)))\n",
    "print('Shape:',C_array.shape)"
   ]
  }
 ],
 "metadata": {
  "kernelspec": {
   "display_name": "Python 3 (ipykernel)",
   "language": "python",
   "name": "python3"
  },
  "language_info": {
   "codemirror_mode": {
    "name": "ipython",
    "version": 3
   },
   "file_extension": ".py",
   "mimetype": "text/x-python",
   "name": "python",
   "nbconvert_exporter": "python",
   "pygments_lexer": "ipython3",
   "version": "3.10.6"
  },
  "toc": {
   "colors": {
    "hover_highlight": "#DAA520",
    "running_highlight": "#FF0000",
    "selected_highlight": "#FFD700"
   },
   "moveMenuLeft": true,
   "nav_menu": {
    "height": "30px",
    "width": "252px"
   },
   "navigate_menu": true,
   "number_sections": true,
   "sideBar": true,
   "threshold": 4,
   "toc_cell": true,
   "toc_section_display": "block",
   "toc_window_display": true
  }
 },
 "nbformat": 4,
 "nbformat_minor": 2
}
