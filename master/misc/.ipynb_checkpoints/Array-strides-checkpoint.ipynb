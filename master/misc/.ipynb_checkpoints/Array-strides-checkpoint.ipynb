{
 "cells": [
  {
   "cell_type": "markdown",
   "metadata": {
    "toc": "true"
   },
   "source": [
    "# Table of Contents\n",
    " <p><div class=\"lev1 toc-item\"><a href=\"#Indexando-o-raster-de-um-array-usando-strides\" data-toc-modified-id=\"Indexando-o-raster-de-um-array-usando-strides-1\"><span class=\"toc-item-num\">1&nbsp;&nbsp;</span>Indexing an array raster using strides</a></div><div class=\"lev2 toc-item\"><a href=\"#Stride-de-um-array\" data-toc-modified-id=\"Stride-de-um-array-11\"><span class=\"toc-item-num\">1.1&nbsp;&nbsp;</span>Stride of an array</a></div><div class=\"lev2 toc-item\"><a href=\"#Produto-cartesiano-entre-2-conjuntos---coordenadas-bidimensionais\" data-toc-modified-id=\"Produto-cartesiano-entre-2-conjuntos---coordenadas-bidimensionais-12\"><span class=\"toc-item-num\">1.2&nbsp;&nbsp;</span>Cartesian product between 2 sets - two-dimensional coordinates</a></div><div class=\"lev2 toc-item\"><a href=\"#Indexação-com-espelhamento-na-vertical\" data-toc-modified-id=\"Indexação-com-espelhamento-na-vertical-13\"><span class=\"toc-item-num\">1.3&nbsp;&nbsp;</span>Indexing with vertical mirroring</a></div><div class=\"lev2 toc-item\"><a href=\"#Matriz-transposta\" data-toc-modified-id=\"Matriz-transposta-14\"><span class=\"toc-item-num\">1.4&nbsp;&nbsp;</span>Transposed matrix</a></div><div class=\"lev2 toc-item\"><a href=\"#Exercícios\" data-toc-modified-id=\"Exercícios-15\"><span class=\"toc-item-num\">1.5&nbsp;&nbsp;</span>Exercises</a></div>"
   ]
  },
  {
   "cell_type": "markdown",
   "metadata": {},
   "source": [
    "# Indexing the raster of an array using strides\n",
    "\n",
    "When image pixels are stored contiguously in one-dimensional raster form, the N-dimensional indexing calculation $(n_0, n_1, ..., n_{N-1})$ is given by the offset:\n",
    "\n",
    "$$ n_{\\mathrm{offset}} = K_{\\mathrm{offset}} + \\sum_{k=0}^{N-1} s_k n_k $$\n",
    "\n",
    "where $s_k$ is the stride of dimension $k$.\n",
    "\n",
    "In this notebook we will check how stride and $K_{offset}$ are modified to implement operations such as mirroring and transpose."
   ]
  },
  {
   "cell_type": "code",
   "execution_count": 1,
   "metadata": {
    "collapsed": true
   },
   "outputs": [],
   "source": [
    "import numpy as np"
   ]
  },
  {
   "cell_type": "markdown",
   "metadata": {},
   "source": [
    "Let's create an array with 4 rows and 6 columns created with `arange` so, the value of each pixel is the value of its one-dimensional *raster offset*:"
   ]
  },
  {
   "cell_type": "code",
   "execution_count": 2,
   "metadata": {},
   "outputs": [
    {
     "name": "stdout",
     "output_type": "stream",
     "text": [
      "[[ 0  1  2  3  4  5]\n",
      " [ 6  7  8  9 10 11]\n",
      " [12 13 14 15 16 17]\n",
      " [18 19 20 21 22 23]]\n",
      "24\n"
     ]
    }
   ],
   "source": [
    "H,W = (4,6)\n",
    "a = np.arange(H*W).reshape(H,W).astype(np.uint8)\n",
    "print(a)\n",
    "print(a.size)"
   ]
  },
  {
   "cell_type": "markdown",
   "metadata": {},
   "source": [
    "## Stride of an array\n",
    "\n",
    "The stride of a normal raster array is given by $(W,1)$ and $K_{offset} = 0$;\n",
    "\n",
    "$$ n_{\\mathrm{offset}} = 0 + W n_0 + n_1 $$\n",
    "\n",
    "where $n_0$ is the row index and $n_1$ is the column index.\n",
    "\n",
    "In the example of array `a` of dimensions (4,6), the stride is given by (W,1):"
   ]
  },
  {
   "cell_type": "code",
   "execution_count": 3,
   "metadata": {},
   "outputs": [
    {
     "name": "stdout",
     "output_type": "stream",
     "text": [
      "(6, 1)\n"
     ]
    }
   ],
   "source": [
    "print(a.strides)"
   ]
  },
  {
   "cell_type": "markdown",
   "metadata": {},
   "source": [
    "Thus, indexing [2,3] is equal to 15:"
   ]
  },
  {
   "cell_type": "code",
   "execution_count": 4,
   "metadata": {},
   "outputs": [
    {
     "data": {
      "text/plain": [
       "15"
      ]
     },
     "execution_count": 4,
     "metadata": {},
     "output_type": "execute_result"
    }
   ],
   "source": [
    "a[2,3]"
   ]
  },
  {
   "cell_type": "code",
   "execution_count": 5,
   "metadata": {},
   "outputs": [
    {
     "data": {
      "text/plain": [
       "15"
      ]
     },
     "execution_count": 5,
     "metadata": {},
     "output_type": "execute_result"
    }
   ],
   "source": [
    "(a.strides * np.array([2,3])).sum()"
   ]
  },
  {
   "cell_type": "markdown",
   "metadata": {},
   "source": [
    "## Cartesian product between 2 sets - two-dimensional coordinates"
   ]
  },
  {
   "cell_type": "code",
   "execution_count": 8,
   "metadata": {},
   "outputs": [
    {
     "name": "stdout",
     "output_type": "stream",
     "text": [
      "[[0, 0], [0, 1], [0, 2], [0, 3], [0, 4], [0, 5], [1, 0], [1, 1], [1, 2], [1, 3], [1, 4], [1, 5], [2, 0], [2, 1], [2, 2], [2, 3], [2, 4], [2, 5], [3, 0], [3, 1], [3, 2], [3, 3], [3, 4], [3, 5]]\n",
      "[[0 0]\n",
      " [0 1]\n",
      " [0 2]\n",
      " [0 3]\n",
      " [0 4]\n",
      " [0 5]\n",
      " [1 0]\n",
      " [1 1]\n",
      " [1 2]\n",
      " [1 3]\n",
      " [1 4]\n",
      " [1 5]\n",
      " [2 0]\n",
      " [2 1]\n",
      " [2 2]\n",
      " [2 3]\n",
      " [2 4]\n",
      " [2 5]\n",
      " [3 0]\n",
      " [3 1]\n",
      " [3 2]\n",
      " [3 3]\n",
      " [3 4]\n",
      " [3 5]]\n"
     ]
    }
   ],
   "source": [
    "Rows = np.arange(H)\n",
    "Cols = np.arange(W)\n",
    "index = []\n",
    "for i in Rows:\n",
    "    for j in Cols:\n",
    "        index.append([i,j])\n",
    "print(index)\n",
    "index_all = np.array(index)\n",
    "print(index_all)"
   ]
  },
  {
   "cell_type": "code",
   "execution_count": 9,
   "metadata": {},
   "outputs": [
    {
     "name": "stdout",
     "output_type": "stream",
     "text": [
      "[ 0  1  2  3  4  5  6  7  8  9 10 11 12 13 14 15 16 17 18 19 20 21 22 23]\n"
     ]
    }
   ],
   "source": [
    "i = (a.strides * index_all).sum(axis=1)\n",
    "print(i)"
   ]
  },
  {
   "cell_type": "markdown",
   "metadata": {},
   "source": [
    "## Indexing with vertical mirroring\n",
    "\n",
    "$$ i = (T-W) -W row + 1 col $$"
   ]
  },
  {
   "cell_type": "code",
   "execution_count": 10,
   "metadata": {},
   "outputs": [
    {
     "name": "stdout",
     "output_type": "stream",
     "text": [
      "(-6, 1)\n",
      "24\n",
      "[18 19 20 21 22 23 12 13 14 15 16 17  6  7  8  9 10 11  0  1  2  3  4  5]\n"
     ]
    }
   ],
   "source": [
    "b = a[::-1,:]\n",
    "print(b.strides)\n",
    "print(b.size)\n",
    "print(b.ravel())"
   ]
  },
  {
   "cell_type": "code",
   "execution_count": 11,
   "metadata": {},
   "outputs": [
    {
     "data": {
      "text/plain": [
       "7"
      ]
     },
     "execution_count": 11,
     "metadata": {},
     "output_type": "execute_result"
    }
   ],
   "source": [
    "b[2,1]"
   ]
  },
  {
   "cell_type": "code",
   "execution_count": 12,
   "metadata": {},
   "outputs": [
    {
     "data": {
      "text/plain": [
       "7"
      ]
     },
     "execution_count": 12,
     "metadata": {},
     "output_type": "execute_result"
    }
   ],
   "source": [
    "np.sum(b.strides * np.array([2,1])) + b.size- b.shape[1]"
   ]
  },
  {
   "cell_type": "code",
   "execution_count": 13,
   "metadata": {},
   "outputs": [
    {
     "data": {
      "text/plain": [
       "array([18, 19, 20, 21, 22, 23, 12, 13, 14, 15, 16, 17,  6,  7,  8,  9, 10,\n",
       "       11,  0,  1,  2,  3,  4,  5])"
      ]
     },
     "execution_count": 13,
     "metadata": {},
     "output_type": "execute_result"
    }
   ],
   "source": [
    "(b.strides * index_all).sum(axis=1) + b.size - b.shape[1]"
   ]
  },
  {
   "cell_type": "markdown",
   "metadata": {},
   "source": [
    "## Transposed matrix\n",
    "\n",
    "$$ i = row + W col $$"
   ]
  },
  {
   "cell_type": "code",
   "execution_count": 14,
   "metadata": {},
   "outputs": [
    {
     "name": "stdout",
     "output_type": "stream",
     "text": [
      "[[ 0  6 12 18]\n",
      " [ 1  7 13 19]\n",
      " [ 2  8 14 20]\n",
      " [ 3  9 15 21]\n",
      " [ 4 10 16 22]\n",
      " [ 5 11 17 23]]\n",
      "(1, 6)\n",
      "[ 0  6 12 18  1  7 13 19  2  8 14 20  3  9 15 21  4 10 16 22  5 11 17 23]\n"
     ]
    }
   ],
   "source": [
    "c = a.T\n",
    "print(c)\n",
    "print(c.strides)\n",
    "print(c.ravel())"
   ]
  },
  {
   "cell_type": "code",
   "execution_count": 65,
   "metadata": {},
   "outputs": [
    {
     "data": {
      "text/plain": [
       "array([ 0,  6, 12, 18, 24, 30,  1,  7, 13, 19, 25, 31,  2,  8, 14, 20, 26,\n",
       "       32,  3,  9, 15, 21, 27, 33])"
      ]
     },
     "execution_count": 65,
     "metadata": {},
     "output_type": "execute_result"
    }
   ],
   "source": [
    "(c.strides * index_all).sum(axis=1)"
   ]
  },
  {
   "cell_type": "markdown",
   "metadata": {},
   "source": [
    "## Exercises\n",
    "\n",
    "1. Calculate the stride and offset of an array rotated 90 degrees clockwise. Check if it is correct by calculating all raster indexes and comparing them with the rotated image raster.\n",
    "\n",
    "2. Calculate the stride, offset and new shape of the `d` array used to subsample an image using slicing: `d = a[::2,::2]`"
   ]
  },
  {
   "cell_type": "code",
   "execution_count": null,
   "metadata": {},
   "outputs": [],
   "source": []
  }
 ],
 "metadata": {
  "anaconda-cloud": {},
  "kernelspec": {
   "display_name": "Python 3 (ipykernel)",
   "language": "python",
   "name": "python3"
  },
  "language_info": {
   "codemirror_mode": {
    "name": "ipython",
    "version": 3
   },
   "file_extension": ".py",
   "mimetype": "text/x-python",
   "name": "python",
   "nbconvert_exporter": "python",
   "pygments_lexer": "ipython3",
   "version": "3.10.12"
  },
  "toc": {
   "colors": {
    "hover_highlight": "#DAA520",
    "running_highlight": "#FF0000",
    "selected_highlight": "#FFD700"
   },
   "moveMenuLeft": true,
   "nav_menu": {
    "height": "120px",
    "width": "252px"
   },
   "navigate_menu": true,
   "number_sections": true,
   "sideBar": true,
   "threshold": 4,
   "toc_cell": true,
   "toc_section_display": "block",
   "toc_window_display": false
  }
 },
 "nbformat": 4,
 "nbformat_minor": 1
}
