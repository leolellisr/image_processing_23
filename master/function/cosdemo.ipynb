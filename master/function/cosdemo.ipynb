{
 "cells": [
  {
   "cell_type": "code",
   "execution_count": 79,
   "metadata": {
    "ExecuteTime": {
     "end_time": "2017-06-29T02:49:31.465127",
     "start_time": "2017-06-29T02:49:31.411749"
    }
   },
   "outputs": [],
   "source": [
    "def iacos(s, t, theta, phi):\n",
    "    r, c = np.indices(s)\n",
    "    tc = t / np.cos(theta)\n",
    "    tr = t / np.sin(theta)\n",
    "    f = np.cos(2*np.pi*(r/tr + c/tc) + phi)\n",
    "    return f\n",
    "def iatile(f, new_size):\n",
    "\n",
    "    f = np.array(f)\n",
    "    if len(f.shape) == 1: f = f[newaxis,:]\n",
    "\n",
    "    aux = np.resize(f, (new_size[0], f.shape[1]))\n",
    "    aux = np.transpose(aux)\n",
    "    aux = np.resize(aux, (new_size[1], new_size[0]))\n",
    "    g = np.transpose(aux)\n",
    "    return g\n",
    "def iaidft(F):\n",
    "\n",
    "    s = F.shape\n",
    "    if F.ndim == 1: F = F[np.newaxis,np.newaxis,:] \n",
    "    if F.ndim == 2: F = F[np.newaxis,:,:] \n",
    "\n",
    "    p,m,n = F.shape\n",
    "    A = ia.dftmatrix(m)\n",
    "    B = ia.dftmatrix(n)\n",
    "    C = ia.dftmatrix(p)\n",
    "    Faux = np.conjugate(A).dot(F)\n",
    "    Faux = Faux.dot(np.conjugate(B))\n",
    "    f = np.conjugate(C).dot(Faux)/(np.sqrt(p)*np.sqrt(m)*np.sqrt(n))\n",
    "\n",
    "    return f.reshape(s)"
   ]
  },
  {
   "cell_type": "markdown",
   "metadata": {},
   "source": [
    "# Illustrate discrete cosine wave and its DFT showing its periodic nature"
   ]
  },
  {
   "cell_type": "markdown",
   "metadata": {},
   "source": [
    "This demonstration illustrates the computation of the DFT - Discrete Fourier Transform of a particular discrete cosine wave. We realized that depending on the wave length and angle chosen, its DFT is not a pair of complex conjugate points. The demonstration shows the reason of this by calling the periodic nature of the DFT and when four discrete cosine waves are tiled together, it becomes evident that the wave is not an ideal discrete cosine wave. The demonstration goes on by computing the nearest normalized frequencies and and computes a new discrete cosine wave from the inverse DFT of a single pair of complex conjugate placed at the nearest normalized frequencies. In this case, when four images area tiled together, we see there are no abrupt changes in the boundaries of the images just tiled.\n",
    "\n",
    "A discrete cosine wave of an image with size 256 columns and 128 rows, with wave length of 100 pixels at 45 degrees is computed and shown below."
   ]
  },
  {
   "cell_type": "code",
   "execution_count": 1,
   "metadata": {
    "ExecuteTime": {
     "end_time": "2020-04-06T20:11:49.337241Z",
     "start_time": "2020-04-06T20:11:48.438415Z"
    }
   },
   "outputs": [],
   "source": [
    "import numpy as np\n",
    "import sys,os\n",
    "ea979path = os.path.abspath('../../')\n",
    "if ea979path not in sys.path:\n",
    "    sys.path.append(ea979path)\n",
    "import ea979.src as ia\n",
    "from math import pi, sin, cos, atan\n",
    "%matplotlib inline\n",
    "import matplotlib.image as mpimg\n",
    "import matplotlib.pyplot as plt\n",
    "import matplotlib.colors as pltc"
   ]
  },
  {
   "cell_type": "code",
   "execution_count": 81,
   "metadata": {
    "ExecuteTime": {
     "end_time": "2017-06-29T02:49:31.502591",
     "start_time": "2017-06-29T02:49:31.486420"
    }
   },
   "outputs": [
    {
     "data": {
      "text/html": [
       "<head><style>        table, th, td { border: 0px solid black;        text-align: center;border-collapse: collapse;}</style></head>        <body><table border=\"0\"><td>            <table><tr><td><img src='data:image/png;base64,iVBORw0KGgoAAAANSUhEUgAAAQAAAACACAAAAADB3ujWAAAB6klEQVR4nOXTQZIcIQxEUfigvv95SxJ4UT3jsK/wA1ZsyKdIzXvHvfee2+d0d3VVZWVlPpn55PN735fMyqqqru7T55x77h1jjDHnnMBirbXX3rF3RETE5z3vjU9EfHZE7L33XmuzWEzmnGOMMe6955xzururOquyMt/v/2Z5/glT3d19zjn3vmnmmMxvmLX33j9h/svyQe4P5P5A7g/k/kDuD+T+QO4P5P6N3L+R+zdy/0bu38j9G7l/Ifcv5P6F3L+Q+xd2P3Y/dj9y/8TuR+6fyP0DuX8i9w/k/oHcP5D7B3L/Re6/yP0Xuf93Baz+g9x/kPsPcv9B7m/k/kbub+T+dwXE/kbuL+T+dwBifyH3F3J/Ifcncn8h9ydyfyL3J3J/Ivc/yP2J3J/I/Q9yfyL3P8j9D3J/Ivc/yP0Pcn8i9z/I/fnm9vof5P53AGJ/Ivcncv+D3J/I/Yncn8j9idxfyP1p95fdn3Z/IfeX3d/I/YXc38j9jdzfyP2N3H+Q+w9y/0HuP8j93wF4/Re5/yL3X+T+gdw/kPt/GqD1fxvg9b8NEPsncv9E7p/Y/cj93xUQ+5H7F3Y/cv/bALF/Ifcv5P6F3L+Q+zdy/0bu38j9G7k/kPs3cn8g978DEPsDuT+Q+wO5P5D74w8clxaCSGKudgAAAABJRU5ErkJggg=='/></td></tr>            <tr><td align='center'>f - cosine wave</td></tr></table></td><tr></tr></table></body>"
      ],
      "text/plain": [
       "<IPython.core.display.HTML object>"
      ]
     },
     "metadata": {},
     "output_type": "display_data"
    }
   ],
   "source": [
    "s = (128,256)\n",
    "t = 100\n",
    "theta = 45 * pi/180\n",
    "f = iacos(s, t, theta, 0)\n",
    "ia.adshow(ia.normalize(f), title='f - cosine wave')"
   ]
  },
  {
   "cell_type": "markdown",
   "metadata": {},
   "source": [
    "The computation of its DFT - Discrete Fourier Transform reveals that the result is not a single pair of complex conjugate points, but also a number of points in the vertical and horizontal directions. This behavior has to do with abrupt changes in the image. As both the DFT and the image are periodic, we place four images as tiles. We can see that when these images are tiled together, there are many abrupt changes in the images as they do not fit together as a single cosine wave."
   ]
  },
  {
   "cell_type": "code",
   "execution_count": 82,
   "metadata": {
    "ExecuteTime": {
     "end_time": "2017-06-29T02:49:31.629275",
     "start_time": "2017-06-29T02:49:31.520276"
    }
   },
   "outputs": [
    {
     "data": {
      "text/html": [
       "<head><style>        table, th, td { border: 0px solid black;        text-align: center;border-collapse: collapse;}</style></head>        <body><table border=\"0\"><td>            <table><tr><td><img src='data:image/png;base64,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'/></td></tr>            <tr><td align='center'>F - DFT of f</td></tr></table></td><tr></tr></table></body>"
      ],
      "text/plain": [
       "<IPython.core.display.HTML object>"
      ]
     },
     "metadata": {},
     "output_type": "display_data"
    },
    {
     "data": {
      "text/html": [
       "<head><style>        table, th, td { border: 0px solid black;        text-align: center;border-collapse: collapse;}</style></head>        <body><table border=\"0\"><td>            <table><tr><td><img src='data:image/png;base64,iVBORw0KGgoAAAANSUhEUgAAAgAAAAEACAAAAADg+5G7AAAFFElEQVR4nO3dPbLmJhQEUGjgLcIL8/7XIf4m+N6Ma5w4cWDXUYlIgfoemljUe8u99567z9l7r73WmmuuOZ855zOfX+vzZs4111prr73PPufcc28ppZRaa03S0lrrrffR+xhjjPH1eT5rfI0xvvoYo/fee2s9LS01tdZSSin33nPOOXvvvdaea8015yf+r1me34ZZe++9zznn3s80tdTU72Fa773/HOZvs3z9ifuD+4fuD+4fuj+4f+j+4P6h+4P7h+4P7h+6P7h/6P7g/q77g/u77g/u77o/uL/r/uD+rvuD+7vuD+5vuj+4v+n+4P6m+4P7m+4P7m+6P6/f9uf12/68ftsf3F91f16/7Q/ur7o/uL/o/uD+qvuD+4vuD+4vuj+4v+j+4P6i+4P7r+4P7r+6P7j/6v7g/qv7g/uP7g/uP7o/uP/o/uD+o/uD+7fuD+7fuj+4f+v+4P6t+4P7t+4P7l+6P7h/6f7g/qX7g/uX7g/uX7o/uF/vfwb3L90f3D91f3C/3v8M7p+6P7h/6v7g/kf3B/dP3R/cP3V/cP+j+4P7p+4P7n90f3D/o/uD+6fuD+5/dH9w/6P7g/un7g/uf3R/cP/U/cH9j+4P7n90f3D/1P3B/VP3B/c/uj+4f+r+4P6p+4P7p+4P7p+6P7h/6f7g/vn6bf96/bZ/vn7bv3R/cP96/bZ/6/7g/qX7g/u37g/u37o/uH/r/uD+rfuD+4/uD+4/uj+4/+j+4P6j+4P7j+4P7r+6P7j/6v7g/qv7g/uL7g/uL7o/uL/o/uD+ovuD+4vuD+6vuj+4v+r+4P6q+/P6bX9wf9X9ef22P7i/6f68ftsf3N90f3B/0/3B/U33B/c33R/c33R/cH/X/cH9XfcH93fdH9zfdX9w/9D9wf1d9wf36/2P4H69/88BgP1D9wf3D90f3D90f3D/0P3B/UP39z/ud8g8Z++99idjfT75K+SZP0O+yXvtffY55/f71/sn5T/y/83+z/uv+/Ptv/tf8f//7p/Q/cH9Q/cH9w/dH9w/dH9w/9D9wf1D9wf3D90f3N91f3B/1/3B/V33B/d33R/c33V/cH/X/cH9TfcH9zfdH9zfdH9wf9P9wf1N9+f12/68ftuf12/7g/ur7s/rt/3B/VX3B/cX3R/cX3V/cH/R/cH9RfcH9xfdH9xfdH9w/9X9wf1X9wf3X90f3H91f3D/0f3B/Uf3B/cf3R/cf3R/cP/W/cH9W/cH92/dH9y/dX9w/9b9wf1L9wf3L90f3L90f3D/0v3B/Uv3B/fr/c/g/qX7g/un7g/u1/ufwf1T9wf3T90f3P/o/uD+qfuD+6fuD+5/dH9w/9T9wf2P7g/uf3R/cP/U/cH9j+4P7n90f3D/1P3B/Y/uD+6fuj+4/9H9wf2P7g/un7o/uH/q/uD+R/cH90/dH9w/dX9w/9T9wf1T9wf3L90f3D9fv+1fr9/2z9dv+5fuD+5fr9/2b90f3L90f3D/1v3B/Vv3B/dv3R/cv3V/cP/R/cH9R/cH9x/dH9x/dH9w/9H9wf1X9wf3X90f3H91f3B/0f3B/UX3B/cX3R/cX3R/cH/R/cH9VfcH91fdH9xfdX9ev+0P7q+6P6/f9gf3N92f12/7g/ub7g/ub7o/uL/p/uD+pvuD+5vuD+7vuj+4v+v+4P6u+4P7u+4P7h+6P7i/6/7gfr3/Edyv9/85ALB/6P7g/qH7g/uH7g/uH7o/uH/o/h/2HFmZcr/F7gAAAABJRU5ErkJggg=='/></td></tr>            <tr><td align='center'>f tiled 4 times</td></tr></table></td><tr></tr></table></body>"
      ],
      "text/plain": [
       "<IPython.core.display.HTML object>"
      ]
     },
     "metadata": {},
     "output_type": "display_data"
    }
   ],
   "source": [
    "F = ia.dft(f)\n",
    "ia.adshow(ia.dftview(F), title='F - DFT of f')\n",
    "ia.adshow(iatile(ia.normalize(f),2 * np.array(np.shape(f))),title='f tiled 4 times')"
   ]
  },
  {
   "cell_type": "markdown",
   "metadata": {},
   "source": [
    "From the wave length 100 and angle 45 degrees, we compute the value of the normalized horizontal and vertical frequencies and and noticed that they are not integers and so there is no correspondence to an ideal cosine wave in the discrete Fourier domain:"
   ]
  },
  {
   "cell_type": "code",
   "execution_count": 83,
   "metadata": {
    "ExecuteTime": {
     "end_time": "2017-06-29T02:49:31.641054",
     "start_time": "2017-06-29T02:49:31.632464"
    }
   },
   "outputs": [
    {
     "name": "stdout",
     "output_type": "stream",
     "text": [
      "u,v =  1.8101933598375617 0.9050966799187807\n"
     ]
    }
   ],
   "source": [
    "u = s[1] * cos(theta) / t\n",
    "v = s[0] * sin(theta) / t\n",
    "print('u,v = ', u,v)"
   ]
  },
  {
   "cell_type": "markdown",
   "metadata": {},
   "source": [
    "The nearest integer u and v are 2 and 1, respectively. We create an synthetic Discrete Fourier image with a single pair of complex conjugate points at this nearest integer u and v."
   ]
  },
  {
   "cell_type": "code",
   "execution_count": 84,
   "metadata": {
    "ExecuteTime": {
     "end_time": "2017-06-29T02:49:31.669221",
     "start_time": "2017-06-29T02:49:31.644583"
    }
   },
   "outputs": [
    {
     "name": "stdout",
     "output_type": "stream",
     "text": [
      "ui,vi =  2 1\n",
      "FS is complex conjugate?  True\n"
     ]
    },
    {
     "data": {
      "text/html": [
       "<head><style>        table, th, td { border: 0px solid black;        text-align: center;border-collapse: collapse;}</style></head>        <body><table border=\"0\"><td>            <table><tr><td><img src='data:image/png;base64,iVBORw0KGgoAAAANSUhEUgAAAQAAAACACAAAAADB3ujWAAAAQUlEQVR4nO3SMQEAAAjDsPk3DSJ2wJEo6NEEAAAAAAAAAAAAAAAAAAAA6Mx1AA+4AAAAAAAAAAAAAAAAAAAAgNYChnMB/1KCZk0AAAAASUVORK5CYII='/></td></tr>            <tr><td align='center'>DFT of a single pair of complex conjugate points</td></tr></table></td><tr></tr></table></body>"
      ],
      "text/plain": [
       "<IPython.core.display.HTML object>"
      ]
     },
     "metadata": {},
     "output_type": "display_data"
    }
   ],
   "source": [
    "ui, vi = round(u), round(v)\n",
    "print('ui,vi = ', ui, vi)\n",
    "FS = np.zeros(s)\n",
    "FS[vi,ui] = 1\n",
    "FS[s[0]-vi, s[1]-ui] = 1\n",
    "print('FS is complex conjugate? ',ia.isccsym(FS))\n",
    "ia.adshow(ia.dftview(FS),title='DFT of a single pair of complex conjugate points')"
   ]
  },
  {
   "cell_type": "markdown",
   "metadata": {},
   "source": [
    "Computing the inverse DFT we can find the correspondent cosine wave. We observe now that tiling 4 images together, there are no abrupt changes in the boundaries. We compute the equivalent wave length and angle, and we notice that the nearest ideal cosine wave has now a wavelength of 90.5 pixels instead of 100, in the same direction (45 degrees)."
   ]
  },
  {
   "cell_type": "code",
   "execution_count": 86,
   "metadata": {
    "ExecuteTime": {
     "end_time": "2017-06-29T02:49:45.303152",
     "start_time": "2017-06-29T02:49:45.103005"
    }
   },
   "outputs": [
    {
     "data": {
      "text/html": [
       "<head><style>        table, th, td { border: 0px solid black;        text-align: center;border-collapse: collapse;}</style></head>        <body><table border=\"0\"><td>            <table><tr><td><img src='data:image/png;base64,iVBORw0KGgoAAAANSUhEUgAAAQAAAACACAAAAADB3ujWAAAByklEQVR4nO3XO24DMAwEUWkkyvc/rkV9Ujg2coMU44bt4gGLBVhPKffec87ee6+da2VmzpxzzjmfnzNnzszMtXKvvfc+59x7Syml1gq01lpv0XtExIgxxhjj8TljxIiI6D1ab601oNZayj/nI/dX3P5ycftLQe6/yP0Xuf8i9x/k/oPcf5D7N3L/Ru7fyP0buX8h92/k/kTuX8j9C7k/kfsTuT+R+xO5fyL3J3L/qwFi/0Tun8j9E7l/Ivf/GUGn/4nc/xlBq/89glr/7wh6/e9fQOt/Ive/GiD2T+T+idw/kfsncv9E7k/k/oncn8j9idyfyP2J3L+Q+xdyfyL3b+T+hdy/kfs3cv9G7t/I/Qe5/yD3H+T+W4vbf5H7L3J/Qe4vyP0Fub8g91fk/orc/83/5tvzkfsbcn9D7m/I/Q25vyP3N+T+QO7vyP0duT+Q+wO5P5D7A7l/IPcHcv+rAWL/QO4fyP0DuX8g9/8ZQaf/gdz/GUGr/z2CWv/vCHr9719A638g978aIPYP5P6B3D+Q+wdy/0DuD+T+gdwfyP2B3B/I/YHc35H7O3J/IPc35P6O3N+Q+xtyf0Pu/+Z/8+35yP0Vub8i99cfeXUFgj5cRI8AAAAASUVORK5CYII='/></td></tr>            <tr><td align='center'>fs - ideal cosine wave</td></tr></table></td><tr></tr></table></body>"
      ],
      "text/plain": [
       "<IPython.core.display.HTML object>"
      ]
     },
     "metadata": {},
     "output_type": "display_data"
    },
    {
     "data": {
      "text/html": [
       "<head><style>        table, th, td { border: 0px solid black;        text-align: center;border-collapse: collapse;}</style></head>        <body><table border=\"0\"><td>            <table><tr><td><img src='data:image/png;base64,iVBORw0KGgoAAAANSUhEUgAAAgAAAAEACAAAAADg+5G7AAAD8klEQVR4nO3PsXWkABTAQBAL13+5hgUucwsO5idK52l9luV93+d57vu+v/f1/V7XdZ3XeZ7nef785jyv87qu6/u97u993/fzPO/7LsuyrOtabdu2fbb989n3fT/24ziO4/j3m+PYj33f989n3z7btm3Vuq7LMv6f+uH/q/6f/b+8+n/2//jh/7wf/s/74f+8H/7P++H/vB/+z/vh/7wf/s/74f+8H/7P++H/vB/+z/vh/7wf/s/74f+8H/7P++H/vB/+z/vh/7wf/s/74f+8H/7P++H/vB/+z/vh/7wf/s/74f+8H/7P++H/vB/+z/vh/7wf/s/74f+8H/7P++H/vB/+z/vh/7wf/s/74f+8H/7P++H/vB/+z/vh/7wf/s/74f+8H/7P++H/vB/+z/vh/7wf/s/74f+8H/7P++H/vB/+z/vh/7wf/s/74f+8H/7P++ti//N++D/vh//zfvg/74f/8374P++H//N++D/vh/+PP/74448/vuqH//N++D/vh//zfvg/74f/8374P++H//N++D/vh//zfvg/74f/8374P++H//N++D/vh//zfvg/74f/8374P++H//N++D/vh//zfvg/74f/8374P++H//N++D/vh//zfvg/74f/8374P++H//N++D/vh//zfvg/74f/8374P++H//N++D/vh//zfvg/74f/8374P++H//N++D/vh//zfvg/74f/8374//jjjz/++OOrfvg/74f/8374P++H//N++P+q/2f/L6/+n/0/fvg/74f/8374P++H//N++D/vh//zfvg/74f/8374P++H//N++D/vh//zfvg/74f/8374P++H//N++D/vh//zfvg/74f/8374P++H//N++D/vh//zfvg/74f/8374P++H//N++D/vh//zfvg/74f/8374P++H//N++D/vh//zfvg/74f/8374P++H//N++D/vh//zfvg/74f/8374P++H//N++D/vh//zfvg/74f/8374P++H//N++D/vh//zfvg/74f/8374P++H//P+utj/vB/+z/vh/7wf/s/74f+8H/7P++H/vB/+z/vh/+OPP/7444+v+uH/vB/+z/vh/7wf/s/74f+8H/7P++H/vB/+z/vh/7wf/s/74f+8H/7P++H/vB/+z/vh/7wf/s/74f+8H/7P++H/vB/+z/vh/7wf/s/74f+8H/7P++H/vB/+z/vh/7wf/s/74f+8H/7P++H/vB/+z/vh/7wf/s/74f+8H/7P++H/vB/+z/vh/7wf/s/74f+8H/7P++H/vB/+z/vh/7wf/s/74f+8H/4//vjjjz/++Kof/s/74f+8H/7P+/8BTcgTDrzFavoAAAAASUVORK5CYII='/></td></tr>            <tr><td align='center'>fs tiled 4 times</td></tr></table></td><tr></tr></table></body>"
      ],
      "text/plain": [
       "<IPython.core.display.HTML object>"
      ]
     },
     "metadata": {},
     "output_type": "display_data"
    },
    {
     "name": "stdout",
     "output_type": "stream",
     "text": [
      "new period and angle =  90.50966799187809 45.0\n"
     ]
    }
   ],
   "source": [
    "fs = np.real(iaidft(FS))\n",
    "ia.adshow(ia.normalize(fs), title='fs - ideal cosine wave')\n",
    "ia.adshow(iatile(ia.normalize(fs), 2 * np.array(np.shape(fs))), title='fs tiled 4 times')\n",
    "txi,tyi = s[1]/ui, s[0]/vi\n",
    "thetai = atan(tyi/txi)\n",
    "ti = txi * cos(thetai)\n",
    "print('new period and angle = ', ti, thetai * 180/pi)"
   ]
  },
  {
   "cell_type": "markdown",
   "metadata": {},
   "source": [
    "We place both the original cosine wave and the ideal cosine wave together for comparison."
   ]
  },
  {
   "cell_type": "code",
   "execution_count": 88,
   "metadata": {
    "ExecuteTime": {
     "end_time": "2017-06-29T02:50:20.491569",
     "start_time": "2017-06-29T02:50:20.476617"
    }
   },
   "outputs": [
    {
     "data": {
      "text/html": [
       "<head><style>        table, th, td { border: 0px solid black;        text-align: center;border-collapse: collapse;}</style></head>        <body><table border=\"0\"><td>            <table><tr><td><img src='data:image/png;base64,iVBORw0KGgoAAAANSUhEUgAAAQAAAACACAAAAADB3ujWAAAB6klEQVR4nOXTQZIcIQxEUfigvv95SxJ4UT3jsK/wA1ZsyKdIzXvHvfee2+d0d3VVZWVlPpn55PN735fMyqqqru7T55x77h1jjDHnnMBirbXX3rF3RETE5z3vjU9EfHZE7L33XmuzWEzmnGOMMe6955xzururOquyMt/v/2Z5/glT3d19zjn3vmnmmMxvmLX33j9h/svyQe4P5P5A7g/k/kDuD+T+QO4P5P6N3L+R+zdy/0bu38j9G7l/Ifcv5P6F3L+Q+xd2P3Y/dj9y/8TuR+6fyP0DuX8i9w/k/oHcP5D7B3L/Re6/yP0Xuf93Baz+g9x/kPsPcv9B7m/k/kbub+T+dwXE/kbuL+T+dwBifyH3F3J/Ifcncn8h9ydyfyL3J3J/Ivc/yP2J3J/I/Q9yfyL3P8j9D3J/Ivc/yP0Pcn8i9z/I/fnm9vof5P53AGJ/Ivcncv+D3J/I/Yncn8j9idxfyP1p95fdn3Z/IfeX3d/I/YXc38j9jdzfyP2N3H+Q+w9y/0HuP8j93wF4/Re5/yL3X+T+gdw/kPt/GqD1fxvg9b8NEPsncv9E7p/Y/cj93xUQ+5H7F3Y/cv/bALF/Ifcv5P6F3L+Q+zdy/0bu38j9G7k/kPs3cn8g978DEPsDuT+Q+wO5P5D74w8clxaCSGKudgAAAABJRU5ErkJggg=='/></td></tr>            <tr><td align='center'>f - cosine wave with period 100 pixels</td></tr></table></td><tr></tr></table></body>"
      ],
      "text/plain": [
       "<IPython.core.display.HTML object>"
      ]
     },
     "metadata": {},
     "output_type": "display_data"
    },
    {
     "data": {
      "text/html": [
       "<head><style>        table, th, td { border: 0px solid black;        text-align: center;border-collapse: collapse;}</style></head>        <body><table border=\"0\"><td>            <table><tr><td><img src='data:image/png;base64,iVBORw0KGgoAAAANSUhEUgAAAQAAAACACAAAAADB3ujWAAAByklEQVR4nO3XO24DMAwEUWkkyvc/rkV9Ujg2coMU44bt4gGLBVhPKffec87ee6+da2VmzpxzzjmfnzNnzszMtXKvvfc+59x7Syml1gq01lpv0XtExIgxxhjj8TljxIiI6D1ab601oNZayj/nI/dX3P5ycftLQe6/yP0Xuf8i9x/k/oPcf5D7N3L/Ru7fyP0buX8h92/k/kTuX8j9C7k/kfsTuT+R+xO5fyL3J3L/qwFi/0Tun8j9E7l/Ivf/GUGn/4nc/xlBq/89glr/7wh6/e9fQOt/Ive/GiD2T+T+idw/kfsncv9E7k/k/oncn8j9idyfyP2J3L+Q+xdyfyL3b+T+hdy/kfs3cv9G7t/I/Qe5/yD3H+T+W4vbf5H7L3J/Qe4vyP0Fub8g91fk/orc/83/5tvzkfsbcn9D7m/I/Q25vyP3N+T+QO7vyP0duT+Q+wO5P5D7A7l/IPcHcv+rAWL/QO4fyP0DuX8g9/8ZQaf/gdz/GUGr/z2CWv/vCHr9719A638g978aIPYP5P6B3D+Q+wdy/0DuD+T+gdwfyP2B3B/I/YHc35H7O3J/IPc35P6O3N+Q+xtyf0Pu/+Z/8+35yP0Vub8i99cfeXUFgj5cRI8AAAAASUVORK5CYII='/></td></tr>            <tr><td align='center'>fs - ideal cosine wave with period 90.5 pixels</td></tr></table></td><tr></tr></table></body>"
      ],
      "text/plain": [
       "<IPython.core.display.HTML object>"
      ]
     },
     "metadata": {},
     "output_type": "display_data"
    }
   ],
   "source": [
    "ia.adshow(ia.normalize(f), title='f - cosine wave with period 100 pixels')\n",
    "ia.adshow(ia.normalize(fs), title='fs - ideal cosine wave with period 90.5 pixels')"
   ]
  }
 ],
 "metadata": {
  "kernelspec": {
   "display_name": "Python 3",
   "language": "python",
   "name": "python3"
  },
  "language_info": {
   "codemirror_mode": {
    "name": "ipython",
    "version": 3
   },
   "file_extension": ".py",
   "mimetype": "text/x-python",
   "name": "python",
   "nbconvert_exporter": "python",
   "pygments_lexer": "ipython3",
   "version": "3.6.2"
  },
  "latex_envs": {
   "LaTeX_envs_menu_present": true,
   "bibliofile": "biblio.bib",
   "cite_by": "apalike",
   "current_citInitial": 1,
   "eqLabelWithNumbers": true,
   "eqNumInitial": 1,
   "hotkeys": {
    "equation": "Ctrl-E",
    "itemize": "Ctrl-I"
   },
   "labels_anchors": false,
   "latex_user_defs": false,
   "report_style_numbering": false,
   "user_envs_cfg": false
  }
 },
 "nbformat": 4,
 "nbformat_minor": 2
}
