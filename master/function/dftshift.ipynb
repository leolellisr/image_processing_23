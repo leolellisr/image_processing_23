{
 "cells": [
  {
   "cell_type": "markdown",
   "metadata": {},
   "source": [
    "# Function dftshift\n",
    "\n",
    "## Synopse\n",
    "\n",
    "Shifts zero-frequency component to center of spectrum.\n",
    "\n",
    "- **g = iafftshift(f)**\n",
    "    - **OUTPUT**\n",
    "        - **g**: Image.\n",
    "    - **INPUT**\n",
    "        - **f**: Image. n-dimensional.\n",
    "\n",
    "## Description\n",
    "\n",
    "The origin (0,0) of the DFT is normally at top-left corner of the image. For visualization\n",
    "purposes, it is common to periodically translate the origin to the image center. This is\n",
    "particularlly interesting because of the complex conjugate simmetry of the DFT of a real function.\n",
    "Note that as the image can have even or odd sizes, to translate back the DFT from the center to\n",
    "the corner, there is another correspondent function: `idftshift`."
   ]
  },
  {
   "cell_type": "code",
   "execution_count": 1,
   "metadata": {
    "ExecuteTime": {
     "end_time": "2017-05-10T23:30:13.259983",
     "start_time": "2017-05-10T23:30:12.841327"
    },
    "collapsed": true
   },
   "outputs": [],
   "source": [
    "import numpy as np\n",
    "\n",
    "def dftshift(f):\n",
    "    import ea979.src as ia\n",
    "    return ia.ptrans(f, np.array(f.shape)//2)"
   ]
  },
  {
   "cell_type": "markdown",
   "metadata": {},
   "source": [
    "## Examples"
   ]
  },
  {
   "cell_type": "code",
   "execution_count": 1,
   "metadata": {
    "ExecuteTime": {
     "end_time": "2020-03-10T20:02:20.531562Z",
     "start_time": "2020-03-10T20:02:15.981012Z"
    }
   },
   "outputs": [
    {
     "name": "stderr",
     "output_type": "stream",
     "text": [
      "[NbConvertApp] Converting notebook dftshift.ipynb to python\n",
      "[NbConvertApp] Writing 2208 bytes to dftshift.py\n"
     ]
    }
   ],
   "source": [
    "testing = (__name__ == \"__main__\")\n",
    "\n",
    "if testing:\n",
    "    ! jupyter nbconvert --to python dftshift.ipynb\n",
    "    import numpy as np\n",
    "    import sys,os\n",
    "    import matplotlib.image as mpimg\n",
    "    ea979path = os.path.abspath('../../')\n",
    "    if ea979path not in sys.path:\n",
    "        sys.path.append(ea979path)\n",
    "    import ea979.src as ia\n"
   ]
  },
  {
   "cell_type": "markdown",
   "metadata": {},
   "source": [
    "### Example 1"
   ]
  },
  {
   "cell_type": "code",
   "execution_count": 6,
   "metadata": {
    "ExecuteTime": {
     "end_time": "2017-07-02T17:44:09.575536",
     "start_time": "2017-07-02T17:44:09.501691"
    }
   },
   "outputs": [
    {
     "data": {
      "text/html": [
       "<head><style>        table, th, td { border: 0px solid black;        text-align: center;border-collapse: collapse;}</style></head>        <body><table border=\"0\"><td>            <table><tr><td><img src='data:image/png;base64,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'/></td></tr>            <tr><td align='center'></td></tr></table></td><tr></tr></table></body>"
      ],
      "text/plain": [
       "<IPython.core.display.HTML object>"
      ]
     },
     "metadata": {},
     "output_type": "display_data"
    },
    {
     "data": {
      "text/html": [
       "<head><style>        table, th, td { border: 0px solid black;        text-align: center;border-collapse: collapse;}</style></head>        <body><table border=\"0\"><td>            <table><tr><td><img src='data:image/png;base64,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'/></td></tr>            <tr><td align='center'></td></tr></table></td><tr></tr></table></body>"
      ],
      "text/plain": [
       "<IPython.core.display.HTML object>"
      ]
     },
     "metadata": {},
     "output_type": "display_data"
    }
   ],
   "source": [
    "if testing:\n",
    "    \n",
    "    f = ia.circle([120,150],6,[60,75])\n",
    "    F = ia.dft(f)\n",
    "    Fs = ia.dftshift(F)\n",
    "    ia.adshow(ia.dftview(F))\n",
    "    ia.adshow(ia.dftview(Fs))"
   ]
  },
  {
   "cell_type": "code",
   "execution_count": 7,
   "metadata": {
    "ExecuteTime": {
     "end_time": "2017-07-02T17:44:13.790004",
     "start_time": "2017-07-02T17:44:13.781053"
    }
   },
   "outputs": [
    {
     "name": "stdout",
     "output_type": "stream",
     "text": [
      "Fs=\n",
      " [[ 60.+1.j  40.+3.j  50.+2.j]\n",
      " [ 30.+4.j  10.+6.j  20.+5.j]]\n"
     ]
    }
   ],
   "source": [
    "if testing:\n",
    "    \n",
    "    F = np.array([[10+6j,20+5j,30+4j],\n",
    "                  [40+3j,50+2j,60+1j]])\n",
    "    Fs = ia.dftshift(F)\n",
    "    print('Fs=\\n',Fs)"
   ]
  },
  {
   "cell_type": "markdown",
   "metadata": {},
   "source": [
    "## Equation\n",
    "\n",
    "$$ \\begin{matrix}\n",
    "    HS &=& H_{xo,yo} \\\\xo     &=& \\lfloor W/2 \\rfloor \\\\yo     &=& \\lfloor H/2 \\rfloor\n",
    "\\end{matrix} $$"
   ]
  },
  {
   "cell_type": "markdown",
   "metadata": {},
   "source": [
    "## See Also\n",
    "\n",
    "- `iaptrans iaptrans` - Periodic translation\n",
    "- `iaifftshift iaifftshift` - Undoes the translation of iafftshift"
   ]
  },
  {
   "cell_type": "code",
   "execution_count": 8,
   "metadata": {
    "ExecuteTime": {
     "end_time": "2017-07-02T17:44:18.262115",
     "start_time": "2017-07-02T17:44:18.252757"
    }
   },
   "outputs": [
    {
     "name": "stdout",
     "output_type": "stream",
     "text": [
      "testing dftshift\n",
      "True\n"
     ]
    }
   ],
   "source": [
    "if testing:\n",
    "    print('testing dftshift')\n",
    "    print(repr(ia.dftshift(np.array([[10+6j,20+5j,30+4j],\n",
    "                                     [40+3j,50+2j,60+1j]]))) == \n",
    "          repr(np.array([[ 60.+1.j,  40.+3.j,  50.+2.j],\n",
    "                         [ 30.+4.j,  10.+6.j,  20.+5.j]])))"
   ]
  },
  {
   "cell_type": "markdown",
   "metadata": {},
   "source": [
    "## Contributions\n",
    "\n",
    "- André Luis da Costa, 1st semester 2011"
   ]
  },
  {
   "cell_type": "code",
   "execution_count": null,
   "metadata": {
    "collapsed": true
   },
   "outputs": [],
   "source": []
  }
 ],
 "metadata": {
  "kernelspec": {
   "display_name": "Python 3",
   "language": "python",
   "name": "python3"
  },
  "language_info": {
   "codemirror_mode": {
    "name": "ipython",
    "version": 3
   },
   "file_extension": ".py",
   "mimetype": "text/x-python",
   "name": "python",
   "nbconvert_exporter": "python",
   "pygments_lexer": "ipython3",
   "version": "3.6.2"
  },
  "toc": {
   "colors": {
    "hover_highlight": "#DAA520",
    "running_highlight": "#FF0000",
    "selected_highlight": "#FFD700"
   },
   "moveMenuLeft": true,
   "nav_menu": {
    "height": "30px",
    "width": "252px"
   },
   "navigate_menu": true,
   "number_sections": true,
   "sideBar": true,
   "threshold": 4,
   "toc_cell": false,
   "toc_section_display": "block",
   "toc_window_display": false
  }
 },
 "nbformat": 4,
 "nbformat_minor": 2
}
