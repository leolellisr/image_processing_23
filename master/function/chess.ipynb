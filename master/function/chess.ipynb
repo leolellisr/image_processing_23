{
 "cells": [
  {
   "cell_type": "markdown",
   "metadata": {
    "toc": "true"
   },
   "source": [
    "# Table of Contents\n",
    " <p><div class=\"lev1 toc-item\"><a href=\"#Many-ways-to-create-a-chess-like-image-in-Python/Numpy\" data-toc-modified-id=\"Many-ways-to-create-a-chess-like-image-in-Python/Numpy-1\"><span class=\"toc-item-num\">1&nbsp;&nbsp;</span>Many ways to create a chess-like image in Python/Numpy</a></div><div class=\"lev2 toc-item\"><a href=\"#Programming-styles\" data-toc-modified-id=\"Programming-styles-11\"><span class=\"toc-item-num\">1.1&nbsp;&nbsp;</span>Programming styles</a></div><div class=\"lev3 toc-item\"><a href=\"#C-style-programming\" data-toc-modified-id=\"C-style-programming-111\"><span class=\"toc-item-num\">1.1.1&nbsp;&nbsp;</span>C style programming</a></div><div class=\"lev3 toc-item\"><a href=\"#Image-coordinates\" data-toc-modified-id=\"Image-coordinates-112\"><span class=\"toc-item-num\">1.1.2&nbsp;&nbsp;</span>Image coordinates</a></div><div class=\"lev3 toc-item\"><a href=\"#Image-coordinates-and-broadcast\" data-toc-modified-id=\"Image-coordinates-and-broadcast-113\"><span class=\"toc-item-num\">1.1.3&nbsp;&nbsp;</span>Image coordinates and broadcast</a></div><div class=\"lev3 toc-item\"><a href=\"#List-implicit-loop-(list-comprehension)\" data-toc-modified-id=\"List-implicit-loop-(list-comprehension)-114\"><span class=\"toc-item-num\">1.1.4&nbsp;&nbsp;</span>List implicit loop (list comprehension)</a></div><div class=\"lev3 toc-item\"><a href=\"#Slice\" data-toc-modified-id=\"Slice-115\"><span class=\"toc-item-num\">1.1.5&nbsp;&nbsp;</span>Slice</a></div><div class=\"lev3 toc-item\"><a href=\"#Line-and-column-replication\" data-toc-modified-id=\"Line-and-column-replication-116\"><span class=\"toc-item-num\">1.1.6&nbsp;&nbsp;</span>Line and column replication</a></div><div class=\"lev3 toc-item\"><a href=\"#Tile\" data-toc-modified-id=\"Tile-117\"><span class=\"toc-item-num\">1.1.7&nbsp;&nbsp;</span>Tile</a></div><div class=\"lev3 toc-item\"><a href=\"#Resize\" data-toc-modified-id=\"Resize-118\"><span class=\"toc-item-num\">1.1.8&nbsp;&nbsp;</span>Resize</a></div><div class=\"lev2 toc-item\"><a href=\"#Comparing-execution-times\" data-toc-modified-id=\"Comparing-execution-times-12\"><span class=\"toc-item-num\">1.2&nbsp;&nbsp;</span>Comparing execution times</a></div><div class=\"lev2 toc-item\"><a href=\"#Conclusions\" data-toc-modified-id=\"Conclusions-13\"><span class=\"toc-item-num\">1.3&nbsp;&nbsp;</span>Conclusions</a></div>"
   ]
  },
  {
   "cell_type": "markdown",
   "metadata": {},
   "source": [
    "# Many ways to create a chess-like image in Python/Numpy\n",
    "\n",
    "This demonstration illustrates many different ways to create a chess-like image in Python.\n",
    "Each way has a different concept, but most of them uses the property that each pixel is 0\n",
    "or 1 depending if the sum of its coordinates is even or odd.\n",
    "The most efficient way is the technique using slices and the most general one is the one that uses indices.\n",
    "\n",
    "These examples below is a good introduction to program Python efficiently for image processing applications and verify that processing arrays in Python is very efficient.\n",
    "\n",
    "The image that we want to generate can be describe in the following equation:\n",
    "\n",
    "$$   f(row,col) = (row+col) \\bmod 2 $$"
   ]
  },
  {
   "cell_type": "markdown",
   "metadata": {},
   "source": [
    "## Programming styles\n",
    "\n",
    "We show below seven different programs, some very efficient as uses intrinsic implementation in NumPy, others not so efficient."
   ]
  },
  {
   "cell_type": "code",
   "execution_count": 1,
   "metadata": {
    "collapsed": true
   },
   "outputs": [],
   "source": [
    "import numpy as np"
   ]
  },
  {
   "cell_type": "markdown",
   "metadata": {},
   "source": [
    "### C style programming\n",
    "\n",
    "This is the traditional way that a C programmer would solve the problem - scan\n",
    "every pixel and apply the equation."
   ]
  },
  {
   "cell_type": "code",
   "execution_count": 3,
   "metadata": {
    "collapsed": false
   },
   "outputs": [
    {
     "name": "stdout",
     "output_type": "stream",
     "text": [
      "C Style:\n",
      " [[0 1 0 1 0 1 0 1]\n",
      " [1 0 1 0 1 0 1 0]\n",
      " [0 1 0 1 0 1 0 1]\n",
      " [1 0 1 0 1 0 1 0]]\n"
     ]
    }
   ],
   "source": [
    "def chessCstyle(H,W):\n",
    "   f = np.empty((H,W),'uint8')\n",
    "   for row in range(H):\n",
    "     for col in range(W):\n",
    "       f[row,col] = (row+col)%2\n",
    "   return f\n",
    "\n",
    "print(\"C Style:\\n\", chessCstyle(4,8))"
   ]
  },
  {
   "cell_type": "markdown",
   "metadata": {},
   "source": [
    "### Image coordinates\n",
    "\n",
    "This is a general way to create images when we can write the equation of each pixel value\n",
    "based on its coordinates. The function *indices* is very handy to create arrays of each coordinate\n",
    "make possible the array processing of the whole image without the explicit scanning of the pixels in the image."
   ]
  },
  {
   "cell_type": "code",
   "execution_count": 4,
   "metadata": {
    "collapsed": false
   },
   "outputs": [
    {
     "name": "stdout",
     "output_type": "stream",
     "text": [
      "Indices:\n",
      " [[0 1 0 1 0 1 0 1]\n",
      " [1 0 1 0 1 0 1 0]\n",
      " [0 1 0 1 0 1 0 1]\n",
      " [1 0 1 0 1 0 1 0]]\n"
     ]
    }
   ],
   "source": [
    "def chessIndice(H,W):\n",
    "    row,col = np.indices((H,W), 'uint16')\n",
    "    return (row+col)%2\n",
    "\n",
    "print(\"Indices:\\n\", chessIndice(4,8))"
   ]
  },
  {
   "cell_type": "markdown",
   "metadata": {},
   "source": [
    "### Image coordinates and broadcast\n",
    "\n",
    "In the previous indices example, the arrays row and col are two-dimensional arrays. It is possible to\n",
    "use the broadcast facility of NumPy. We create a row as one column 2D array and col as a one row 2D array\n",
    "and let the arithmetic operation create the full 2D array using broadcast."
   ]
  },
  {
   "cell_type": "code",
   "execution_count": 5,
   "metadata": {
    "collapsed": false
   },
   "outputs": [
    {
     "name": "stdout",
     "output_type": "stream",
     "text": [
      "IndiceBroad:\n",
      " [[0 1 0 1 0 1 0 1]\n",
      " [1 0 1 0 1 0 1 0]\n",
      " [0 1 0 1 0 1 0 1]\n",
      " [1 0 1 0 1 0 1 0]]\n"
     ]
    }
   ],
   "source": [
    "def chessIndiceBroad(H,W):\n",
    "    row = np.arange(H).reshape(H,1).astype('uint16')\n",
    "    col = np.arange(W).reshape(1,W).astype('uint16')\n",
    "    return (row+col)%2\n",
    "\n",
    "print(\"IndiceBroad:\\n\", chessIndiceBroad(4,8))"
   ]
  },
  {
   "cell_type": "markdown",
   "metadata": {},
   "source": [
    "### List implicit loop (list comprehension)\n",
    "\n",
    "This solution uses the native implicit loop in list generation.\n",
    "The list is then converted to array."
   ]
  },
  {
   "cell_type": "code",
   "execution_count": 6,
   "metadata": {
    "collapsed": false
   },
   "outputs": [
    {
     "name": "stdout",
     "output_type": "stream",
     "text": [
      "Iter:\n",
      " [[0 1 0 1 0 1 0 1]\n",
      " [1 0 1 0 1 0 1 0]\n",
      " [0 1 0 1 0 1 0 1]\n",
      " [1 0 1 0 1 0 1 0]]\n"
     ]
    }
   ],
   "source": [
    "import numpy as np\n",
    "def chessIter(H,W):\n",
    "   f = [[ (row+col)%2 for col in range(W) ] for row in range(H) ]\n",
    "   return np.array(f,'uint8')\n",
    "\n",
    "print(\"Iter:\\n\", chessIter(4,8))"
   ]
  },
  {
   "cell_type": "markdown",
   "metadata": {},
   "source": [
    "### Slice\n",
    "\n",
    "Slicing is a powerful index access to elements of an array available in *numpy*.\n",
    "This solution is one of the most efficient. The image is initially create with zeros and\n",
    "later filled with ones in the even lines and after in odd lines, always scanning the image\n",
    "every two pixels."
   ]
  },
  {
   "cell_type": "code",
   "execution_count": 8,
   "metadata": {
    "collapsed": false
   },
   "outputs": [
    {
     "name": "stdout",
     "output_type": "stream",
     "text": [
      "Slice:\n",
      " [[0 1 0 1 0 1 0 1]\n",
      " [1 0 1 0 1 0 1 0]\n",
      " [0 1 0 1 0 1 0 1]\n",
      " [1 0 1 0 1 0 1 0]]\n"
     ]
    }
   ],
   "source": [
    "def chessSlice(H,W):\n",
    "    f = np.zeros((H,W), 'uint8')\n",
    "    f[0::2,1::2] = 1\n",
    "    f[1::2,0::2] = 1\n",
    "    return f\n",
    "\n",
    "print(\"Slice:\\n\", chessSlice(4,8))"
   ]
  },
  {
   "cell_type": "markdown",
   "metadata": {},
   "source": [
    "### Line and column replication\n",
    "\n",
    "This solution has three main parts: in the first a 4 pixel basic pattern is created; in the second\n",
    "this pattern is replicated line-wise and the last and third part, the replication is done column-wise.\n",
    "Use the functions *vstack* and *hstack*.   \n",
    "       "
   ]
  },
  {
   "cell_type": "code",
   "execution_count": 11,
   "metadata": {
    "collapsed": false
   },
   "outputs": [
    {
     "name": "stdout",
     "output_type": "stream",
     "text": [
      "Replication:\n",
      " [[0 1 0 1 0 1 0 1]\n",
      " [1 0 1 0 1 0 1 0]\n",
      " [0 1 0 1 0 1 0 1]\n",
      " [1 0 1 0 1 0 1 0]]\n"
     ]
    }
   ],
   "source": [
    "def chessRep(H,W):\n",
    "    p = np.array([[0,1],\n",
    "                  [1,0]],'uint8')\n",
    "    fCol = p \n",
    "\n",
    "    # First column\n",
    "    for row in range (1, H//2):\n",
    "        fCol = np.vstack((fCol , p))\n",
    "    f = fCol\n",
    "    # Column replication\n",
    "    for col in range (1, W//2):\n",
    "        f = np.hstack((f, fCol))\n",
    "    return f\n",
    "\n",
    "print(\"Replication:\\n\", chessRep(4,8))"
   ]
  },
  {
   "cell_type": "markdown",
   "metadata": {},
   "source": [
    "### Tile\n",
    "\n",
    "This solution uses the properties of the Numpy function *tile*. It replicates the 4-pixel pattern over\n",
    "the image according to the number of replication in the vertical and horizontal directions."
   ]
  },
  {
   "cell_type": "code",
   "execution_count": 13,
   "metadata": {
    "collapsed": false
   },
   "outputs": [
    {
     "name": "stdout",
     "output_type": "stream",
     "text": [
      "Tiling:\n",
      " [[0 1 0 1 0 1 0 1]\n",
      " [1 0 1 0 1 0 1 0]\n",
      " [0 1 0 1 0 1 0 1]\n",
      " [1 0 1 0 1 0 1 0]]\n"
     ]
    }
   ],
   "source": [
    "def chessTile(H,W):\n",
    "    p = np.array([[0,1],\n",
    "                  [1,0]], 'uint8')    \n",
    "    f = np.tile(p, (H//2, W//2))\n",
    "    return f\n",
    "\n",
    "print(\"Tiling:\\n\", chessTile(4,8))"
   ]
  },
  {
   "cell_type": "markdown",
   "metadata": {},
   "source": [
    "### Resize\n",
    "\n",
    "This solution uses the Numpy function *resize* to increase the image until the desired size, replicating\n",
    "the initial raster image contents. We first create two lines of the image and then rezise it until the\n",
    "final dimension. \n",
    "   "
   ]
  },
  {
   "cell_type": "code",
   "execution_count": 15,
   "metadata": {
    "collapsed": false
   },
   "outputs": [
    {
     "name": "stdout",
     "output_type": "stream",
     "text": [
      "Resize:\n",
      " [[0 1 0 1 0 1 0 1]\n",
      " [1 0 1 0 1 0 1 0]\n",
      " [0 1 0 1 0 1 0 1]\n",
      " [1 0 1 0 1 0 1 0]]\n"
     ]
    }
   ],
   "source": [
    "def chessResize(H,W):\n",
    "    # create two lines and then apply resize\n",
    "    row1 = np.arange(W).astype('uint8') % 2\n",
    "    row2 = np.array([row1, 1 - row1])\n",
    "    f = np.resize(row2, (H,W))\n",
    "    return f\n",
    "\n",
    "print(\"Resize:\\n\", chessResize(4,8))"
   ]
  },
  {
   "cell_type": "markdown",
   "metadata": {},
   "source": [
    "## Comparing execution times\n",
    "\n",
    "We compare the speed efficiency of the implementation above. We can see that slicing, tiling and resize are the most efficient\n",
    "implementations because it is intrinsic to Numpy. Slicing is very efficient and is very recommending in most image processing\n",
    "manipulation. Coordinate processing and replication have medium efficiency with coordinate processing being a very general\n",
    "way to create images. Lastly list processing and C style programming present the worst efficiency because of its explicit\n",
    "pixel scanning. For comparison, the result of the chess image is always of an array of type *uint8*, except for the coordinates method\n",
    "where the result is in *uint16* as the coordinate values are greater than 255.  "
   ]
  },
  {
   "cell_type": "code",
   "execution_count": 17,
   "metadata": {
    "collapsed": false
   },
   "outputs": [
    {
     "name": "stdout",
     "output_type": "stream",
     "text": [
      "Resize\n",
      "100 loops, best of 3: 1.6 ms per loop\n",
      "Slicing\n",
      "100 loops, best of 3: 2.69 ms per loop\n",
      "Tiling\n",
      "100 loops, best of 3: 14.1 ms per loop\n",
      "CoordBroad\n",
      "10 loops, best of 3: 54.1 ms per loop\n",
      "Coordinates\n",
      "10 loops, best of 3: 68.3 ms per loop\n",
      "List processing\n",
      "1 loop, best of 3: 860 ms per loop\n",
      "Replication\n",
      "1 loop, best of 3: 1.85 s per loop\n",
      "C style\n",
      "1 loop, best of 3: 1.76 s per loop\n"
     ]
    }
   ],
   "source": [
    "\n",
    "H,W = 2000,2000\n",
    "funlist = (chessResize, chessSlice, chessTile, chessIndiceBroad, chessIndice,   chessIter,         chessRep,      chessCstyle)\n",
    "fundesc = (\"Resize\",    \"Slicing\",  \"Tiling\",  \"CoordBroad\"    , \"Coordinates\", \"List processing\", \"Replication\", \"C style\")\n",
    "for fun,fundesc in zip(funlist,fundesc):\n",
    "    print(fundesc)\n",
    "    %timeit f = fun(H,W)\n"
   ]
  },
  {
   "cell_type": "markdown",
   "metadata": {},
   "source": [
    "## Conclusions\n",
    "\n",
    "Numpy is very efficient for array processing and it is very suitable for image processing.\n",
    "The recommended way of programming are: avoid explicit pixel scanning; use slicing as much as possible and use\n",
    "array processing such as in the *coordinates* example. Pixel scanning programming style is not recommended."
   ]
  }
 ],
 "metadata": {
  "kernelspec": {
   "display_name": "Python 3",
   "language": "python",
   "name": "python3"
  },
  "language_info": {
   "codemirror_mode": {
    "name": "ipython",
    "version": 3
   },
   "file_extension": ".py",
   "mimetype": "text/x-python",
   "name": "python",
   "nbconvert_exporter": "python",
   "pygments_lexer": "ipython3",
   "version": "3.6.0"
  },
  "toc": {
   "colors": {
    "hover_highlight": "#DAA520",
    "running_highlight": "#FF0000",
    "selected_highlight": "#FFD700"
   },
   "moveMenuLeft": true,
   "nav_menu": {
    "height": "228px",
    "width": "252px"
   },
   "navigate_menu": true,
   "number_sections": true,
   "sideBar": true,
   "threshold": 4,
   "toc_cell": true,
   "toc_section_display": "block",
   "toc_window_display": false
  }
 },
 "nbformat": 4,
 "nbformat_minor": 2
}
