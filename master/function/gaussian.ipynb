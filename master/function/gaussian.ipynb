{
 "cells": [
  {
   "cell_type": "markdown",
   "metadata": {},
   "source": [
    "# Function iagaussian"
   ]
  },
  {
   "cell_type": "markdown",
   "metadata": {},
   "source": [
    "## Synopse"
   ]
  },
  {
   "cell_type": "markdown",
   "metadata": {},
   "source": [
    "Generate a d-dimensional Gaussian image.\n",
    "\n",
    "- **g = gaussian(s, mu, cov)**\n",
    "\n",
    "  - **g**: Image. \n",
    "\n",
    "\n",
    "  - **s**: Image shape. (rows columns)\n",
    "  - **mu**: Image. Mean vector. n-D point. Point of maximum value.\n",
    "  - **cov**: Covariance matrix (symmetric and square)."
   ]
  },
  {
   "cell_type": "code",
   "execution_count": 3,
   "metadata": {
    "ExecuteTime": {
     "end_time": "2017-07-02T17:51:18.438417",
     "start_time": "2017-07-02T17:51:18.428921"
    },
    "collapsed": true
   },
   "outputs": [],
   "source": [
    "import numpy as np\n",
    "\n",
    "def gaussian(s, mu, cov):\n",
    "    d = len(s)  # dimension\n",
    "    n = np.prod(s) # n. of samples (pixels)\n",
    "    x = np.indices(s).reshape( (d, n))\n",
    "    xc = x - mu \n",
    "    k = 1. * xc * np.dot(np.linalg.inv(cov), xc)\n",
    "    k = np.sum(k,axis=0) #the sum is only applied to the rows\n",
    "    g = (1./((2 * np.pi)**(d/2.) * np.sqrt(np.linalg.det(cov)))) * np.exp(-1./2 * k)\n",
    "    return g.reshape(s)"
   ]
  },
  {
   "cell_type": "markdown",
   "metadata": {},
   "source": [
    "## Description"
   ]
  },
  {
   "cell_type": "markdown",
   "metadata": {},
   "source": [
    "A n-dimensional Gaussian image is an image with a Gaussian distribution. It can be used to generate \n",
    "test patterns or Gaussian filters both for spatial and frequency domain. The integral of the gaussian function is 1.0."
   ]
  },
  {
   "cell_type": "markdown",
   "metadata": {},
   "source": [
    "## Examples"
   ]
  },
  {
   "cell_type": "code",
   "execution_count": 1,
   "metadata": {
    "ExecuteTime": {
     "end_time": "2020-03-10T20:03:22.238660Z",
     "start_time": "2020-03-10T20:03:17.255255Z"
    }
   },
   "outputs": [
    {
     "name": "stderr",
     "output_type": "stream",
     "text": [
      "[NbConvertApp] Converting notebook gaussian.ipynb to python\n",
      "[NbConvertApp] Writing 2732 bytes to gaussian.py\n"
     ]
    }
   ],
   "source": [
    "testing = (__name__ == \"__main__\")\n",
    "if testing:\n",
    "    ! jupyter nbconvert --to python gaussian.ipynb\n",
    "    import numpy as np\n",
    "    import sys,os\n",
    "    ea979path = os.path.abspath('../../')\n",
    "    if ea979path not in sys.path:\n",
    "        sys.path.append(ea979path)\n",
    "    import ea979.src as ia\n",
    "    \n",
    "    %matplotlib inline\n",
    "    import matplotlib.pyplot as plt"
   ]
  },
  {
   "cell_type": "markdown",
   "metadata": {},
   "source": [
    "### Example 1 - Numeric 2-dimensional"
   ]
  },
  {
   "cell_type": "code",
   "execution_count": 2,
   "metadata": {
    "ExecuteTime": {
     "end_time": "2017-07-02T17:53:26.682354",
     "start_time": "2017-07-02T17:53:26.591525"
    }
   },
   "outputs": [
    {
     "name": "stdout",
     "output_type": "stream",
     "text": [
      "f=\n",
      " [[ 0.0011  0.0018  0.0011  0.0002]\n",
      " [ 0.0131  0.0215  0.0131  0.0029]\n",
      " [ 0.0585  0.0965  0.0585  0.0131]\n",
      " [ 0.0965  0.1592  0.0965  0.0215]\n",
      " [ 0.0585  0.0965  0.0585  0.0131]\n",
      " [ 0.0131  0.0215  0.0131  0.0029]\n",
      " [ 0.0011  0.0018  0.0011  0.0002]\n",
      " [ 0.      0.0001  0.      0.    ]]\n",
      "g=\n",
      " [[  1   2   1   0]\n",
      " [ 20  34  20   4]\n",
      " [ 93 154  93  20]\n",
      " [154 255 154  34]\n",
      " [ 93 154  93  20]\n",
      " [ 20  34  20   4]\n",
      " [  1   2   1   0]\n",
      " [  0   0   0   0]]\n"
     ]
    }
   ],
   "source": [
    "if testing:\n",
    "    f = ia.gaussian((8, 4), np.transpose([[3, 1]]), [[1, 0], [0, 1]])\n",
    "    print('f=\\n', np.array2string(f, precision=4, suppress_small=1))\n",
    "    g = ia.normalize(f, [0, 255]).astype(np.uint8)\n",
    "    print('g=\\n', g)"
   ]
  },
  {
   "cell_type": "markdown",
   "metadata": {},
   "source": [
    "## Example 2 - one dimensional signal"
   ]
  },
  {
   "cell_type": "code",
   "execution_count": 3,
   "metadata": {
    "ExecuteTime": {
     "end_time": "2017-07-02T17:53:32.364751",
     "start_time": "2017-07-02T17:53:32.151416"
    }
   },
   "outputs": [
    {
     "data": {
      "image/png": "[encoded data removed]",
      "text/plain": [
       "<matplotlib.figure.Figure at 0x10579a908>"
      ]
     },
     "metadata": {},
     "output_type": "display_data"
    }
   ],
   "source": [
    "# note that for 1-D case, the tuple has extra ,\n",
    "# and the covariance matrix must be 2-D\n",
    "if testing:\n",
    "    f = ia.gaussian( (100,), 50, [[10*10]]) \n",
    "    g = ia.normalize(f, [0,1])\n",
    "    plt.plot(g)\n",
    "    plt.show()"
   ]
  },
  {
   "cell_type": "markdown",
   "metadata": {},
   "source": [
    "### Example 3 - two-dimensional image"
   ]
  },
  {
   "cell_type": "code",
   "execution_count": 4,
   "metadata": {
    "ExecuteTime": {
     "end_time": "2017-07-02T17:53:38.842355",
     "start_time": "2017-07-02T17:53:38.787669"
    }
   },
   "outputs": [
    {
     "data": {
      "text/html": [
       "<head><style>        table, th, td { border: 0px solid black;        text-align: center;border-collapse: collapse;}</style></head>        <body><table border=\"0\"><td>            <table><tr><td><img src='data:image/png;base64,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'/></td></tr>            <tr><td align='center'></td></tr></table></td><tr></tr></table></body>"
      ],
      "text/plain": [
       "<IPython.core.display.HTML object>"
      ]
     },
     "metadata": {},
     "output_type": "display_data"
    }
   ],
   "source": [
    "if testing:\n",
    "    f = ia.gaussian((150,250), np.transpose([[75,100]]), [[40*40,0],[0,30*30]])\n",
    "    g = ia.normalize(f, [0,255]).astype(np.uint8)\n",
    "    ia.adshow(g)"
   ]
  },
  {
   "cell_type": "markdown",
   "metadata": {},
   "source": [
    "## Example 4 - Numeric 3-dimensional"
   ]
  },
  {
   "cell_type": "code",
   "execution_count": 6,
   "metadata": {
    "ExecuteTime": {
     "end_time": "2017-07-02T17:53:51.592108",
     "start_time": "2017-07-02T17:53:51.577325"
    }
   },
   "outputs": [
    {
     "name": "stdout",
     "output_type": "stream",
     "text": [
      "f=\n",
      " [[[ 0.0024  0.0031  0.0037  0.0039  0.0037]\n",
      "  [ 0.0034  0.0045  0.0054  0.0057  0.0054]\n",
      "  [ 0.0039  0.0051  0.0061  0.0064  0.0061]\n",
      "  [ 0.0034  0.0045  0.0054  0.0057  0.0054]]\n",
      "\n",
      " [[ 0.0039  0.0051  0.0061  0.0064  0.0061]\n",
      "  [ 0.0057  0.0075  0.0088  0.0093  0.0088]\n",
      "  [ 0.0064  0.0085  0.01    0.0106  0.01  ]\n",
      "  [ 0.0057  0.0075  0.0088  0.0093  0.0088]]\n",
      "\n",
      " [[ 0.0024  0.0031  0.0037  0.0039  0.0037]\n",
      "  [ 0.0034  0.0045  0.0054  0.0057  0.0054]\n",
      "  [ 0.0039  0.0051  0.0061  0.0064  0.0061]\n",
      "  [ 0.0034  0.0045  0.0054  0.0057  0.0054]]]\n",
      "g=\n",
      " [[[  0  23  40  47  40]\n",
      "  [ 33  67  92 102  92]\n",
      "  [ 47  86 115 125 115]\n",
      "  [ 33  67  92 102  92]]\n",
      "\n",
      " [[ 47  86 115 125 115]\n",
      "  [102 158 200 216 200]\n",
      "  [125 189 237 254 237]\n",
      "  [102 158 200 216 200]]\n",
      "\n",
      " [[  0  23  40  47  40]\n",
      "  [ 33  67  92 102  92]\n",
      "  [ 47  86 115 125 115]\n",
      "  [ 33  67  92 102  92]]]\n"
     ]
    }
   ],
   "source": [
    "if testing:\n",
    "    f = ia.gaussian((3,4,5), np.transpose([[1,2,3]]), [[1,0,0],[0,4,0],[0,0,9]])\n",
    "    print('f=\\n', np.array2string(f, precision=4, suppress_small=1))\n",
    "    g = ia.normalize(f, [0,255]).astype(np.uint8)\n",
    "    print('g=\\n', g)"
   ]
  },
  {
   "cell_type": "markdown",
   "metadata": {},
   "source": [
    "## Equation"
   ]
  },
  {
   "cell_type": "markdown",
   "metadata": {},
   "source": [
    "$$    f(x) = \\frac{1}{\\sqrt{2 \\pi} \\sigma} exp\\left[ -\\frac{1}{2} \\left( \\frac{x - \\mu}{\\sigma} \\right)^2 \\right]\n",
    "$$\n",
    "\n",
    "$$ f({\\bf x}) = \\frac{1}{(2 \\pi)^{d/2}|\\Sigma|^{1/2}} exp\\left[ -\\frac{1}{2}\\left({\\bf x} - \\mu \\right)^t\\Sigma^{-1}\\left({\\bf x} - \\mu \\right)\\right]\n",
    "$$"
   ]
  }
 ],
 "metadata": {
  "kernelspec": {
   "display_name": "Python 3",
   "language": "python",
   "name": "python3"
  },
  "language_info": {
   "codemirror_mode": {
    "name": "ipython",
    "version": 3
   },
   "file_extension": ".py",
   "mimetype": "text/x-python",
   "name": "python",
   "nbconvert_exporter": "python",
   "pygments_lexer": "ipython3",
   "version": "3.6.2"
  },
  "toc": {
   "colors": {
    "hover_highlight": "#DAA520",
    "running_highlight": "#FF0000",
    "selected_highlight": "#FFD700"
   },
   "moveMenuLeft": true,
   "nav_menu": {
    "height": "190px",
    "width": "252px"
   },
   "navigate_menu": true,
   "number_sections": true,
   "sideBar": true,
   "threshold": 4,
   "toc_cell": false,
   "toc_section_display": "block",
   "toc_window_display": false
  }
 },
 "nbformat": 4,
 "nbformat_minor": 2
}
