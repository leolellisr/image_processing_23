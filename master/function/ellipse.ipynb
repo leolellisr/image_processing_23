{
 "cells": [
  {
   "cell_type": "markdown",
   "metadata": {},
   "source": [
    "# Function ellipse\n",
    "\n",
    "## Synopse\n",
    "\n",
    "Create a binary ellipse image.\n",
    "\n",
    "- **g = ellipse(s, r, c, theta)**\n",
    "\n",
    "  - Output:\n",
    "      - **g**: Image.\n",
    "  - Input:\n",
    "      - **s**: Image. [rows cols], output image dimensions.\n",
    "      - **r**: Double. [rRows rCols], radius for y and x directions.\n",
    "      - **c**: Image. [row0 col0], center of the circle.\n",
    "      - **theta**: Double. Angle rotation in radians. (optional)"
   ]
  },
  {
   "cell_type": "markdown",
   "metadata": {},
   "source": [
    "## Description\n",
    "\n",
    "The $ellipse$ function creates a binary image with dimensions given by $s$, radius given by $r (r[0] = rRows; r[1] = rCols)$ and center given by $c$. The pixels inside the circle are one and outside zero.\n"
   ]
  },
  {
   "cell_type": "markdown",
   "metadata": {},
   "source": [
    "## Function code"
   ]
  },
  {
   "cell_type": "code",
   "execution_count": 6,
   "metadata": {
    "ExecuteTime": {
     "end_time": "2017-07-02T17:46:33.076010",
     "start_time": "2017-07-02T17:46:33.059949"
    },
    "collapsed": true
   },
   "outputs": [],
   "source": [
    "import numpy as np\n",
    " \n",
    "def ellipse(s, r, c, theta=0):\n",
    "    rows, cols = s[0], s[1]\n",
    "    rr0,  cc0  = c[0], c[1]\n",
    "    rr, cc = np.meshgrid(range(rows), range(cols), indexing='ij')\n",
    "    rr = rr - rr0\n",
    "    cc = cc - cc0\n",
    "    cos = np.cos(theta)\n",
    "    sen = np.sin(theta)\n",
    "    i = cos/r[1]\n",
    "    j = sen/r[0]\n",
    "    m = -sen/r[1]\n",
    "    n = cos/r[0]\n",
    "    g = ((i*cc + m*rr)**2 + (j*cc + n*rr)**2) <= 1\n",
    "    return g"
   ]
  },
  {
   "cell_type": "code",
   "execution_count": 1,
   "metadata": {
    "ExecuteTime": {
     "end_time": "2020-03-10T20:03:00.322333Z",
     "start_time": "2020-03-10T20:02:54.973450Z"
    }
   },
   "outputs": [
    {
     "name": "stderr",
     "output_type": "stream",
     "text": [
      "[NbConvertApp] Converting notebook ellipse.ipynb to python\n",
      "[NbConvertApp] Writing 2381 bytes to ellipse.py\n"
     ]
    }
   ],
   "source": [
    "testing = (__name__ == \"__main__\")\n",
    "\n",
    "if testing:\n",
    "    ! jupyter nbconvert --to python ellipse.ipynb\n",
    "    import numpy as np\n",
    "    import sys,os\n",
    "    import matplotlib.image as mpimg\n",
    "    ea979path = os.path.abspath('../../')\n",
    "    if ea979path not in sys.path:\n",
    "        sys.path.append(ea979path)\n",
    "    import ea979.src as ia\n"
   ]
  },
  {
   "cell_type": "markdown",
   "metadata": {},
   "source": [
    "## Examples\n",
    "\n",
    "### Numerical example:"
   ]
  },
  {
   "cell_type": "code",
   "execution_count": 3,
   "metadata": {
    "ExecuteTime": {
     "end_time": "2017-07-02T17:48:58.632792",
     "start_time": "2017-07-02T17:48:58.620864"
    }
   },
   "outputs": [
    {
     "name": "stdout",
     "output_type": "stream",
     "text": [
      "g:\n",
      " [[0 0 0 0 0 0 0 0 0 0 0 0 0 0 0 0]\n",
      " [0 0 0 0 0 0 0 0 0 0 0 0 0 0 0 0]\n",
      " [0 0 0 0 0 0 0 0 0 0 0 0 0 0 0 0]\n",
      " [0 0 0 0 0 0 0 0 0 0 0 0 0 0 0 0]\n",
      " [0 0 0 0 0 0 0 0 0 0 0 0 0 0 0 0]\n",
      " [0 0 0 0 0 0 0 0 0 1 1 0 0 0 0 0]\n",
      " [0 0 0 0 0 0 0 0 1 1 1 1 0 0 0 0]\n",
      " [0 0 0 0 0 0 0 1 1 1 1 1 0 0 0 0]\n",
      " [0 0 0 0 0 0 1 1 1 1 1 0 0 0 0 0]\n",
      " [0 0 0 0 0 1 1 1 1 1 0 0 0 0 0 0]\n",
      " [0 0 0 0 0 1 1 1 1 0 0 0 0 0 0 0]\n",
      " [0 0 0 0 0 0 1 1 0 0 0 0 0 0 0 0]\n",
      " [0 0 0 0 0 0 0 0 0 0 0 0 0 0 0 0]\n",
      " [0 0 0 0 0 0 0 0 0 0 0 0 0 0 0 0]\n",
      " [0 0 0 0 0 0 0 0 0 0 0 0 0 0 0 0]\n",
      " [0 0 0 0 0 0 0 0 0 0 0 0 0 0 0 0]]\n"
     ]
    }
   ],
   "source": [
    "if testing:\n",
    "    g = ia.ellipse([16,16], [2,4], [8,8], np.pi * 0.25)\n",
    "    print('g:\\n', g.astype(int))"
   ]
  },
  {
   "cell_type": "markdown",
   "metadata": {},
   "source": [
    "## Measuring time:"
   ]
  },
  {
   "cell_type": "code",
   "execution_count": 4,
   "metadata": {
    "ExecuteTime": {
     "end_time": "2017-07-02T17:49:10.319178",
     "start_time": "2017-07-02T17:49:10.249178"
    }
   },
   "outputs": [
    {
     "name": "stdout",
     "output_type": "stream",
     "text": [
      "Computational time (10k, 10k) is 0.01 seconds.\n"
     ]
    },
    {
     "data": {
      "text/html": [
       "<head><style>        table, th, td { border: 0px solid black;        text-align: center;border-collapse: collapse;}</style></head>        <body><table border=\"0\"><td>            <table><tr><td><img src='data:image/png;base64,iVBORw0KGgoAAAANSUhEUgAAASwAAAEsCAAAAABcFtGpAAAFcElEQVR4nO3dy44USwwEUIP4/1+GBQ8JCdR+2xmOWLK45TwVWdVzNdMpwjAMwzAMwzAMwzAMwzAMwzAMwzAMwzAMwzAMwzDD+TI9QCTf//3PZWt6E+s/Sn+lYGXPYWmc/iR5dS9hmZx+J3OBz2C5pH4mbY1PYAWgfiVnmfux4lIikrPQ5VhJUiKSsdTNWJlSIhJf7F6sdCqR6HKXYpVIiQTXuxKrjEoktOKFWKVUElnyOqxqKhH/ondhdUiJuFe9CauLSrzL3oPVSCXOdX/NnsKbXqv5/4MRSDOViGvlK7AGqMSz9AVYM1TiWPs41hiV2Bc//YCftDJffLZZo1Qi1uWPNmvcyjjBt6IpFJmnsmZsG26hsgBMbcMtVqZBZpq1hkrEQjDSrFVWhkxgLbPSj9P/NlxGZUl7sxZaqUdqbtZCKkN6m7XUSjtWK9ZSK3UaP2dtptIx9DVrs5UybVi7rXTTdWHttlKm56MDBFVTsx6wUo3YgfWAlS4NWDBWDViPWGnGLMd6xEqVaiwkq+Ifd56i+kxR2qynrBSpxEKzqsSCsyrEes7q88BlWM9ZKVKFhWhVhQVpVYSFaVWDBWpVgvWq1ce5C7BetfqcfCxcq3wsYKvxX+1+KtlYyMXKxoK2SsbCtsrFArdKxUK3ysSCt0rEwrfi5yxL0rAOFCsN64JVFtYJqySsG1Z8wFuSgnWkWClYV6wysM5Y8ZllSRzrTrHiWEBWH3+bjdvQkCgWULE+J4h1yiqIdcuKzyxLQljHihXCArMa/j14tASwwIqlCJtliB/rXrH8WAetuA3/RPH3cV6si8XyYp204ja0xIcFWCzNn/SyWYa4sACLpQqb9TOqP6z3YF0tFptliQPrbLEcWJBW277zDyBmLMhiKcNmiai/kceKdblYbJYlxBL992IZsU7vQjbLEhsWZrHU307HZhliwjpeLDbLEgsWZrEMYbMMXz5KLEMMWJi78IVT6J6MHovFYrMsOY5VdIAt5i605XizbLmNZfw2fC0Wd6Ecb5b1mIXTWNYosSB3ofn8jsPNsp91chjLnrtYjkN0dFiQjyx7zjbLczrTWSxPVFiAu9B17BebZchRLN95cjexnGfvabAAH1m+nGyW91DHi1juAzAvYrlzEMt/supBLH8UWGAvw8CRveeaFTne+BxWJNewQudmH8OKnTF+Cyt4HvstrGA+YwF9cggW61SzolansMI5hBUu1iGsuNUdrASrO1gZuYKVUawrWClWR7ByrG5gJVndwMrKBaysYl3ASrM6gJVnhY+VaAWPlWmFjpVqBY6VawWOlRxorORiQWNlWyFjpVspsPKv2ZOCuWGbVXGPUbFK9gMoVs2zAxOr6DkLiVX1TlJgPfc6LBsYsFl1NxcPq3AjwGFVPjRU/+13fp+t9vmK1azidxEUVvV7W4X1yIeH8jGBmlV/S3GwGuqvw3pgH3aM+K3hGg3puZsY27Cp+Uqs3fuwazqEZrXdSfWF1v7I01j655vV+YBQYy19arWO9fZHh+Y7qN+GC6vVPdLDzeq/e4YH/LJqDYzz7Ntw4taZrrnns9ZMy03NWrMRhwYxXnZFt8bu2Xtvw8F6Gx/w8xtxcgLztWc34uzNMn90GB13uNiOy491a/wZ4BlgRmucyjnCgNYCKu8Q3VorqLw/GzYPv8TKPUdjt7ZQBSbp0tpDFZmlQ2uTlMTGqeZaRhUcqFRrHVV4pDKuhVTxoUq0VkpJxlzpXFupcibL5NorJVnDJXGtlpK8+eJc26UkdcSA1wNQItljurwekZKCSU1e7ziJSNG4GrDHnESkdOb/kL2oxDAMwzAMwzAMwzAMwzAMwzAMwzAMwzAMwzAMw5TmB9VNkrTYqHANAAAAAElFTkSuQmCC'/></td></tr>            <tr><td align='center'>Ellipse</td></tr></table></td><tr></tr></table></body>"
      ],
      "text/plain": [
       "<IPython.core.display.HTML object>"
      ]
     },
     "metadata": {},
     "output_type": "display_data"
    }
   ],
   "source": [
    "if testing:\n",
    "    from time import time\n",
    "    t = time()\n",
    "    g = ia.ellipse([300,300], [90,140], [150,150], np.pi * 0.25)\n",
    "    tend = time()\n",
    "    print('Computational time (10k, 10k) is {0:.2f} seconds.'.format(tend - t))\n",
    "    ia.adshow(g, \"Ellipse\")"
   ]
  },
  {
   "cell_type": "code",
   "execution_count": 6,
   "metadata": {
    "ExecuteTime": {
     "end_time": "2017-07-02T17:49:24.549402",
     "start_time": "2017-07-02T17:49:23.751104"
    }
   },
   "outputs": [
    {
     "name": "stdout",
     "output_type": "stream",
     "text": [
      "Computational time (10k, 10k) is:\n",
      "100 loops, best of 3: 1.72 ms per loop\n"
     ]
    }
   ],
   "source": [
    "if testing:\n",
    "    print('Computational time (10k, 10k) is:')\n",
    "    %timeit ia.ellipse([300,300], [90,140], [150,150], np.pi * 0.25)"
   ]
  },
  {
   "cell_type": "markdown",
   "metadata": {},
   "source": [
    "## Equation\n",
    "\n",
    "$$\n",
    "    \\begin{matrix} \n",
    "        \\frac{((x-center_x)\\cos(\\theta) - (y-center_y)\\sin(\\theta))^2}{r_x^2}\n",
    "            +\n",
    "        \\frac{((x-center_x)\\sin(\\theta) - (y-center_y)\\cos(\\theta))^2}{r_y^2} <= 1\n",
    "    \\end{matrix}\n",
    "$$"
   ]
  },
  {
   "cell_type": "markdown",
   "metadata": {
    "ExecuteTime": {
     "end_time": "2017-06-23T00:41:24.782694Z",
     "start_time": "2017-06-23T00:41:24.763225Z"
    },
    "scrolled": true
   },
   "source": [
    "## Contributions\n",
    "\n",
    "- Rafael Berri, 23sep2013: initial function."
   ]
  },
  {
   "cell_type": "code",
   "execution_count": null,
   "metadata": {
    "collapsed": true
   },
   "outputs": [],
   "source": []
  }
 ],
 "metadata": {
  "kernelspec": {
   "display_name": "Python 3",
   "language": "python",
   "name": "python3"
  },
  "language_info": {
   "codemirror_mode": {
    "name": "ipython",
    "version": 3
   },
   "file_extension": ".py",
   "mimetype": "text/x-python",
   "name": "python",
   "nbconvert_exporter": "python",
   "pygments_lexer": "ipython3",
   "version": "3.6.2"
  },
  "latex_envs": {
   "LaTeX_envs_menu_present": true,
   "autocomplete": true,
   "bibliofile": "biblio.bib",
   "cite_by": "apalike",
   "current_citInitial": 1,
   "eqLabelWithNumbers": true,
   "eqNumInitial": 1,
   "hotkeys": {
    "equation": "Ctrl-E",
    "itemize": "Ctrl-I"
   },
   "labels_anchors": false,
   "latex_user_defs": false,
   "report_style_numbering": false,
   "user_envs_cfg": false
  },
  "toc": {
   "colors": {
    "hover_highlight": "#DAA520",
    "running_highlight": "#FF0000",
    "selected_highlight": "#FFD700"
   },
   "moveMenuLeft": true,
   "nav_menu": {
    "height": "105px",
    "width": "252px"
   },
   "navigate_menu": true,
   "number_sections": true,
   "sideBar": true,
   "threshold": 4,
   "toc_cell": false,
   "toc_section_display": "block",
   "toc_window_display": false,
   "widenNotebook": false
  }
 },
 "nbformat": 4,
 "nbformat_minor": 2
}
