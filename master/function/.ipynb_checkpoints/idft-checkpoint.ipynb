{
 "cells": [
  {
   "cell_type": "markdown",
   "metadata": {},
   "source": [
    "# Function idft\n",
    "\n",
    "## Synopse\n",
    "\n",
    "Inverse Discrete Fourier Transform.\n",
    "\n",
    "- **f = iaidft(F)**\n",
    "\n",
    "  - **f**: Image. \n",
    "\n",
    "\n",
    "  - **F**: Image. "
   ]
  },
  {
   "cell_type": "code",
   "execution_count": 1,
   "metadata": {
    "ExecuteTime": {
     "end_time": "2017-07-31T20:48:55.153258",
     "start_time": "2017-07-31T20:48:54.768244"
    }
   },
   "outputs": [],
   "source": [
    "import numpy as np\n",
    "import dftmatrix\n",
    "def idft(F):\n",
    "    s = F.shape\n",
    "    if F.ndim == 1: F = F[np.newaxis,np.newaxis,:] \n",
    "    if F.ndim == 2: F = F[np.newaxis,:,:] \n",
    "\n",
    "    (p,m,n) = F.shape\n",
    "    A = dftmatrix(m)\n",
    "    B = dftmatrix(n)\n",
    "    C = dftmatrix(p)\n",
    "    Faux = np.conjugate(A).dot(F)\n",
    "    Faux = Faux.dot(np.conjugate(B))\n",
    "    f = np.conjugate(C).dot(Faux)/(np.sqrt(p)*np.sqrt(m)*np.sqrt(n))\n",
    "\n",
    "    return f.reshape(s)"
   ]
  },
  {
   "cell_type": "markdown",
   "metadata": {},
   "source": [
    "## Examples"
   ]
  },
  {
   "cell_type": "code",
   "execution_count": 2,
   "metadata": {
    "ExecuteTime": {
     "end_time": "2020-03-10T20:10:31.284604Z",
     "start_time": "2020-03-10T20:10:27.629200Z"
    }
   },
   "outputs": [
    {
     "name": "stdout",
     "output_type": "stream",
     "text": [
      "[NbConvertApp] Converting notebook idft.ipynb to python\n",
      "[NbConvertApp] Writing 2195 bytes to idft.py\n"
     ]
    }
   ],
   "source": [
    "testing = (__name__ == \"__main__\")\n",
    "\n",
    "if testing:\n",
    "    ! jupyter nbconvert --to python idft.ipynb\n",
    "    import numpy as np\n",
    "    import sys,os\n",
    "    import matplotlib.image as mpimg\n",
    "    import dft, idft\n"
   ]
  },
  {
   "cell_type": "markdown",
   "metadata": {},
   "source": [
    "### Example 1"
   ]
  },
  {
   "cell_type": "code",
   "execution_count": 3,
   "metadata": {
    "ExecuteTime": {
     "end_time": "2017-07-31T20:49:03.370639",
     "start_time": "2017-07-31T20:49:03.313908"
    }
   },
   "outputs": [
    {
     "ename": "TypeError",
     "evalue": "'module' object is not callable",
     "output_type": "error",
     "traceback": [
      "\u001b[0;31m---------------------------------------------------------------------------\u001b[0m",
      "\u001b[0;31mTypeError\u001b[0m                                 Traceback (most recent call last)",
      "Cell \u001b[0;32mIn[3], line 4\u001b[0m\n\u001b[1;32m      2\u001b[0m f \u001b[38;5;241m=\u001b[39m np\u001b[38;5;241m.\u001b[39marange(\u001b[38;5;241m24\u001b[39m)\u001b[38;5;241m.\u001b[39mreshape(\u001b[38;5;241m4\u001b[39m,\u001b[38;5;241m6\u001b[39m)\n\u001b[1;32m      3\u001b[0m F \u001b[38;5;241m=\u001b[39m dft\u001b[38;5;241m.\u001b[39mdft(f)\n\u001b[0;32m----> 4\u001b[0m g \u001b[38;5;241m=\u001b[39m \u001b[43midft\u001b[49m\u001b[38;5;241;43m.\u001b[39;49m\u001b[43midft\u001b[49m\u001b[43m(\u001b[49m\u001b[43mF\u001b[49m\u001b[43m)\u001b[49m\n\u001b[1;32m      5\u001b[0m \u001b[38;5;28mprint\u001b[39m(np\u001b[38;5;241m.\u001b[39mround(g\u001b[38;5;241m.\u001b[39mreal))\n",
      "File \u001b[0;32m~/leolellisr/PED/EA979/git/Computacao-Visual/master/function/idft.py:28\u001b[0m, in \u001b[0;36midft\u001b[0;34m(F)\u001b[0m\n\u001b[1;32m     25\u001b[0m \u001b[38;5;28;01mif\u001b[39;00m F\u001b[38;5;241m.\u001b[39mndim \u001b[38;5;241m==\u001b[39m \u001b[38;5;241m2\u001b[39m: F \u001b[38;5;241m=\u001b[39m F[np\u001b[38;5;241m.\u001b[39mnewaxis,:,:] \n\u001b[1;32m     27\u001b[0m (p,m,n) \u001b[38;5;241m=\u001b[39m F\u001b[38;5;241m.\u001b[39mshape\n\u001b[0;32m---> 28\u001b[0m A \u001b[38;5;241m=\u001b[39m \u001b[43mdftmatrix\u001b[49m\u001b[43m(\u001b[49m\u001b[43mm\u001b[49m\u001b[43m)\u001b[49m\n\u001b[1;32m     29\u001b[0m B \u001b[38;5;241m=\u001b[39m dftmatrix(n)\n\u001b[1;32m     30\u001b[0m C \u001b[38;5;241m=\u001b[39m dftmatrix(p)\n",
      "\u001b[0;31mTypeError\u001b[0m: 'module' object is not callable"
     ]
    }
   ],
   "source": [
    "if testing:\n",
    "    f = np.arange(24).reshape(4,6)\n",
    "    F = dft.dft(f)\n",
    "    g = idft.idft(F)\n",
    "    print(np.round(g.real))"
   ]
  },
  {
   "cell_type": "code",
   "execution_count": null,
   "metadata": {
    "ExecuteTime": {
     "end_time": "2017-07-31T20:49:04.991646",
     "start_time": "2017-07-31T20:49:04.979964"
    }
   },
   "outputs": [],
   "source": [
    "if False: #testing:\n",
    "    import matplotlib.image as mpimg\n",
    "    import circle, normalize, isdftsym\n",
    "    \n",
    "    f = mpimg.imread('../data/cameraman.tif')\n",
    "    F = dft.dft(f)\n",
    "    print(F.shape)\n",
    "    H = circle.circle(F.shape, 50,[F.shape[0]/2,F.shape[1]/2] )\n",
    "    H = normalize.normalize(H,[0,1])\n",
    "    FH = F * idftshift.idftshift(H)\n",
    "    print(isdftsym.isdftsym(FH))\n",
    "    g= idft.idft(FH)\n",
    "    plt.imshow(f)\n",
    "    plt.imshow(dftview(F))\n",
    "    plt.imshow(normalize(H,[0,255]))\n",
    "    plt.imshow(dftview(FH))\n",
    "    plt.imshow(normalize(abs(g)))"
   ]
  },
  {
   "cell_type": "markdown",
   "metadata": {},
   "source": [
    "## Equation\n",
    "\n",
    "$$ \\begin{matrix}\n",
    "    f(x) &=& \\frac{1}{N}\\sum_{u=0}^{N-1}F(u)\\exp(j2\\pi\\frac{ux}{N}) \\\\ & & 0 \\leq x < N, 0 \\leq u < N \\\\ \\mathbf{f}          &=& \\frac{1}{\\sqrt{N}}(A_N)^* \\mathbf{F} \n",
    "\\end{matrix} $$"
   ]
  },
  {
   "cell_type": "markdown",
   "metadata": {},
   "source": [
    "$$ \\begin{matrix}\n",
    "f(x,y) &=& \\frac{1}{NM}\\sum_{u=0}^{N-1}\\sum_{v=0}^{M-1}F(u,v)\\exp(j2\\pi(\\frac{ux}{N} + \\frac{vy}{M})) \\\\ & & (0,0) \\leq (x,y) < (N,M), (0,0) \\leq (u,v) < (N,M) \\\\ \n",
    "    \\mathbf{f} &=& \\frac{1}{\\sqrt{NM}} (A_N)^* \\mathbf{F} (A_M)^*\n",
    "\\end{matrix} $$    "
   ]
  },
  {
   "cell_type": "markdown",
   "metadata": {},
   "source": [
    "## See also\n",
    "\n",
    "- `iadft iadft`\n",
    "- `iadftview iadftview`\n",
    "- `iafftshift iafftshift`\n",
    "- `iaisdftsym iaisdftsym`\n",
    "\n",
    "## Contribution\n"
   ]
  },
  {
   "cell_type": "code",
   "execution_count": null,
   "metadata": {},
   "outputs": [],
   "source": []
  }
 ],
 "metadata": {
  "kernelspec": {
   "display_name": "Python 3 (ipykernel)",
   "language": "python",
   "name": "python3"
  },
  "language_info": {
   "codemirror_mode": {
    "name": "ipython",
    "version": 3
   },
   "file_extension": ".py",
   "mimetype": "text/x-python",
   "name": "python",
   "nbconvert_exporter": "python",
   "pygments_lexer": "ipython3",
   "version": "3.10.6"
  },
  "toc": {
   "colors": {
    "hover_highlight": "#DAA520",
    "running_highlight": "#FF0000",
    "selected_highlight": "#FFD700"
   },
   "moveMenuLeft": true,
   "nav_menu": {
    "height": "30px",
    "width": "252px"
   },
   "navigate_menu": true,
   "number_sections": true,
   "sideBar": true,
   "threshold": 4,
   "toc_cell": false,
   "toc_section_display": "block",
   "toc_window_display": false
  }
 },
 "nbformat": 4,
 "nbformat_minor": 2
}
