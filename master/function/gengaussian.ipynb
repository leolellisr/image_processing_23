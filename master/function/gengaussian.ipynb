{
 "cells": [
  {
   "cell_type": "markdown",
   "metadata": {},
   "source": [
    "# Demo Gaussian Generation\n",
    "\n",
    "Illustrate the generation of a d-dimensional Gaussian image\n",
    "\n",
    "## Description\n",
    "\n",
    "The sequence below shows a technique to a d-dimensional Gaussian image,\n",
    "understanding the difficulties in computing an equation with vector and\n",
    "matrix notation."
   ]
  },
  {
   "cell_type": "markdown",
   "metadata": {},
   "source": [
    "## One dimensional case\n",
    "\n",
    "The Gaussian function is a symmetric bell shaped function that is characterized by\n",
    "two parameters: mean and variance. The one-dimensional Gaussian function at point\n",
    "$x$ is given by the following equation, with mean $\\mu$ and variance \n",
    "$\\sigma^2$. The function is maximum at point $x=\\mu$ and it falls by the\n",
    "factor $e^{-\\frac{1}{2}}$ (approx. 0.6) at point $x=\\sigma$ away from the mean."
   ]
  },
  {
   "cell_type": "markdown",
   "metadata": {},
   "source": [
    "### Equation\n",
    "\n",
    "$$    f(x) = \\frac{1}{\\sqrt{2 \\pi} \\sigma} exp\\left[ -\\frac{1}{2}  \\frac{\\left(x - \\mu\\right)^2}{\\sigma^2}  \\right] $$\n",
    "\n",
    "As this function is scalar, it is possible to compute this function on N samples represented\n",
    "as a N x 1 vector ${\\mathbf x} = [x_0, x_1, x_2, \\ldots x_{N-1}]^\\mathrm{T}$:\n",
    "\n",
    "$$    f({\\mathbf x}) = \\frac{1}{\\sqrt{2 \\pi} \\sigma} exp\\left[ -\\frac{1}{2}  \\frac{\\left({\\mathbf x} - \\mu\\right)^2}{\\sigma^2}  \\right]$$"
   ]
  },
  {
   "cell_type": "code",
   "execution_count": 1,
   "metadata": {
    "ExecuteTime": {
     "end_time": "2020-04-06T20:16:38.368731Z",
     "start_time": "2020-04-06T20:16:37.448226Z"
    },
    "collapsed": true
   },
   "outputs": [],
   "source": [
    "%matplotlib inline\n",
    "import matplotlib.pyplot as plt\n",
    "import matplotlib.image as mpimg\n",
    "import numpy as np\n",
    "import sys,os\n",
    "ea979path = os.path.abspath('../../')\n",
    "if ea979path not in sys.path:\n",
    "    sys.path.append(ea979path)\n",
    "import ea979.src as ia"
   ]
  },
  {
   "cell_type": "code",
   "execution_count": 7,
   "metadata": {
    "ExecuteTime": {
     "end_time": "2017-03-26T16:46:30.586203",
     "start_time": "2017-03-26T16:46:30.582119"
    },
    "collapsed": true
   },
   "outputs": [],
   "source": [
    "# First case: unidimensional\n",
    "# x: single value (single sample) or a row of values (many samples)\n",
    "# mu and sigma are scalar\n",
    "def fun1(x, mu, sigma):\n",
    "    return (1./(np.sqrt(2 * np.pi) * sigma)) * np.exp(-1./2 * ((x-mu)/ sigma)**2)"
   ]
  },
  {
   "cell_type": "code",
   "execution_count": 22,
   "metadata": {
    "ExecuteTime": {
     "end_time": "2017-03-26T17:21:14.422363",
     "start_time": "2017-03-26T17:21:14.411403"
    }
   },
   "outputs": [
    {
     "name": "stdout",
     "output_type": "stream",
     "text": [
      "Computing the Gaussian function at a single point\n",
      "fun1( 10, 10, 5) => 0.0797884560803\n",
      "fun1( 15, 10, 5) => 0.0483941449038\n"
     ]
    }
   ],
   "source": [
    "print('Computing the Gaussian function at a single point')  \n",
    "ex1 = \"fun1( 10, 10, 5)\"\n",
    "print(ex1,\"=>\", eval(ex1))\n",
    "\n",
    "ex2 = \"fun1( 15, 10, 5)\"\n",
    "print(ex2,\"=>\", eval(ex2))"
   ]
  },
  {
   "cell_type": "markdown",
   "metadata": {},
   "source": [
    "### Computing the Gaussian function at many points, using the same code"
   ]
  },
  {
   "cell_type": "code",
   "execution_count": 25,
   "metadata": {
    "ExecuteTime": {
     "end_time": "2017-03-26T17:22:29.662202",
     "start_time": "2017-03-26T17:22:29.422569"
    }
   },
   "outputs": [
    {
     "name": "stdout",
     "output_type": "stream",
     "text": [
      "\n",
      "Computing the Gaussian function at many points, using the same code\n",
      "fun1( np.array([[10,15,20]]).T, 10, 5) =>\n",
      " [[ 0.07978846]\n",
      " [ 0.04839414]\n",
      " [ 0.01079819]]\n"
     ]
    },
    {
     "data": {
      "text/plain": [
       "[<matplotlib.lines.Line2D at 0x7f596ff60f60>]"
      ]
     },
     "execution_count": 25,
     "metadata": {},
     "output_type": "execute_result"
    },
    {
     "data": {
      "image/png": "[encoded data removed]",
      "text/plain": [
       "<matplotlib.figure.Figure at 0x7f596fdd44e0>"
      ]
     },
     "metadata": {},
     "output_type": "display_data"
    }
   ],
   "source": [
    "ex3 = \"fun1( np.array([[10,15,20]]).T, 10, 5)\"\n",
    "print(ex3,\"=>\\n\", eval(ex3))\n",
    "\n",
    "x = np.arange(-5,26).reshape(-1,1)\n",
    "y = fun1(x, 10, 5)\n",
    "plt.plot(x,y)"
   ]
  },
  {
   "cell_type": "markdown",
   "metadata": {},
   "source": [
    "## d-dimensional Case\n",
    "\n",
    "If a sample point is a vector of dimension d: ${\\mathbf x} = [x_0, x_1, \\ldots x_{d-1}]^T$, \n",
    "the d-dimensional Gaussian function is characterized by the mean \n",
    "vector: ${\\mathbf \\mu} = [\\mu_0, \\mu_1, \\ldots \\mu_{d-1}]^T$ and the symmetric square \n",
    "covariance matrix:\n",
    "\n",
    "$$     \\Sigma_d = \\left( \n",
    "                \\begin{array}{cccc} \n",
    "                  \\sigma_0^2           & \\sigma_0\\sigma_1     & \\ldots & \\sigma_0\\sigma_{d-1} \\\\\n",
    "                  \\sigma_1\\sigma_0     & \\sigma_1^2           & \\ldots & \\sigma_1\\sigma_{d-1} \\\\\n",
    "                  \\vdots               & \\vdots               & \\vdots & \\vdots \\\\\n",
    "                  \\sigma_{d-1}\\sigma_0 & \\sigma_{d-1}\\sigma_1 & \\ldots & \\sigma_{d-1}^2\n",
    "                \\end{array}\n",
    "                \\right) $$"
   ]
  },
  {
   "cell_type": "markdown",
   "metadata": {},
   "source": [
    "### Equation\n",
    "\n",
    "$$    f({\\mathbf x}) = \\frac{1}{(2 \\pi)^{d/2}|\\Sigma|^{1/2}} exp\\left[ -\\frac{1}{2}\\left({\\mathbf x} - {\\mathbf \\mu} \\right)^\\mathrm{T}\\Sigma^{-1}\\left({\\mathbf x} - {\\mathbf \\mu} \\right)\\right] $$"
   ]
  },
  {
   "cell_type": "code",
   "execution_count": 19,
   "metadata": {
    "ExecuteTime": {
     "end_time": "2017-03-26T17:05:50.204371",
     "start_time": "2017-03-26T17:05:50.198081"
    },
    "collapsed": true
   },
   "outputs": [],
   "source": [
    "# Second case: d-dimensional, single sample\n",
    "# x: single column vector (single sample with d characteristics)\n",
    "# mu: column vector, 1 x d\n",
    "# sigma: covariance matrix, square and symmetric, d x d\n",
    "def funn(X, MU, COV):\n",
    "    d = len(X)\n",
    "    Xc = X - MU\n",
    "    aux = np.linalg.inv(COV).dot(Xc)\n",
    "    k = 1. * (Xc.T).dot(aux)\n",
    "    return (1./((2 * np.pi)**(d/2.) * np.sqrt(np.linalg.det(COV)))) * np.exp(-1./2 * k)"
   ]
  },
  {
   "cell_type": "code",
   "execution_count": 20,
   "metadata": {
    "ExecuteTime": {
     "end_time": "2017-03-26T17:05:51.302401",
     "start_time": "2017-03-26T17:05:51.248558"
    }
   },
   "outputs": [
    {
     "name": "stdout",
     "output_type": "stream",
     "text": [
      "\n",
      "computing the Gaussian function at a single 3-D sample\n",
      "X1= [[10]\n",
      " [ 5]\n",
      " [ 3]]\n",
      "MU= [[10]\n",
      " [ 5]\n",
      " [ 3]]\n",
      "COV= [[100   0   0]\n",
      " [  0  25   0]\n",
      " [  0   0   9]]\n",
      "funn( X1, MU, COV) => [[ 0.00042329]]\n",
      "\n",
      "Computing the Gaussian function at two 3-D samples\n",
      "\n",
      "Note that it does not work\n",
      "X= [[ 10.    5. ]\n",
      " [  5.    2.5]\n",
      " [  3.    1.5]]\n",
      "funn( X, MU, COV) => [[ 0.00042329  0.00042329]\n",
      " [ 0.00042329  0.00029092]]\n"
     ]
    }
   ],
   "source": [
    "print('\\ncomputing the Gaussian function at a single 3-D sample')\n",
    "X1 = np.array([[10],\n",
    "               [5],\n",
    "               [3]])\n",
    "MU = X1\n",
    "COV = np.array([[10*10, 0,   0],\n",
    "                [0,     5*5, 0],\n",
    "                [0,     0,   3*3]])\n",
    "print('X1=',X1)\n",
    "print('MU=',MU)\n",
    "print('COV=',COV)\n",
    "ex4 = \"funn( X1, MU, COV)\"\n",
    "print(ex4,\"=>\", eval(ex4))\n",
    "\n",
    "print('\\nComputing the Gaussian function at two 3-D samples')\n",
    "print('\\nNote that it does not work')\n",
    "X2 = 1. * X1/2\n",
    "X = np.hstack([X1,X2])\n",
    "print('X=',X)\n",
    "ex5 = \"funn( X, MU, COV)\"\n",
    "print(ex5,\"=>\", eval(ex5))"
   ]
  },
  {
   "cell_type": "markdown",
   "metadata": {},
   "source": [
    "Computing d-dimensional Gaussian function on n sample points directly\n",
    "---------------------------------------------------------------------\n",
    "\n",
    "The exponent part of the d-dimensional equation is an inner product with the covariance\n",
    "matrix in the center. When the data is arranged as a block matrix of n d-dimensional points,\n",
    "we need to apply the inner product to each d-dimensional point. This is equivalent to\n",
    "use only the diagonal results of the matrix product. More information can be seen at\n",
    "`http://en.wikipedia.org/wiki/Matrix_multiplication Matrix Mulplication` wikipedia page.\n",
    "\n",
    ".. equation:: latex\n",
    "    :align: left\n",
    "\n",
    "    {\\mathbf X_{n \\times d}} = [ {\\mathbf x_0}, {\\mathbf x_1}, \\ldots {\\mathbf x_{n-1}} ]\n",
    "    \n",
    ".. equation:: latex\n",
    "    :align: left\n",
    "\n",
    "    f({\\mathbf X}) = \\frac{1}{(2 \\pi)^{d/2}|\\Sigma|^{1/2}} exp\\left[ diag ( -\\frac{1}{2} \\left({\\mathbf x} - {\\mathbf \\mu} \\right)^\\mathrm{T}\\Sigma^{-1}\\left({\\mathbf x} - {\\mathbf \\mu} \\right) ) \\right]\n",
    "\n",
    ".. code:: python\n",
    "\n",
    "    # Third case: m n-dimensional computing\n",
    "    # X: n column vectors (n samples with d characteristics)\n",
    "    # MU: column vector, 1 x M\n",
    "    # COV: covariance matrix, square and symmetric, d x d\n",
    "    def funm(X, MU, COV):\n",
    "      d = len(MU)\n",
    "      Xc = X - MU\n",
    "      k = 1. * diagonal(dot(transpose(Xc), dot(inv(COV), Xc)))\n",
    "      return (1./((2 * pi)**(d/2.) * sqrt(det(COV)))) * exp(-1./2 * k)\n",
    "    \n",
    "    print '\\ncomputing the Gaussian function on two 3-D samples'\n",
    "    X = array([[10, 5],\n",
    "               [ 5, 2.5],\n",
    "               [ 3, 1.5]])\n",
    "    MU = transpose(array([[10, 5, 3]]))\n",
    "    COV = array([[10*10, 0,   0],\n",
    "                 [0,     5*5, 0],\n",
    "                 [0,     0,   3*3]])\n",
    "    print 'X=',X\n",
    "    print 'MU=',MU\n",
    "    print 'COV=',COV\n",
    "    ex6 = \"funm( X, MU, COV)\"\n",
    "    print ex6,\"=>\", eval(ex6)\n",
    "\n",
    ".. code:: python\n",
    "    :show_code:   yes\n",
    "    :show_output: yes\n",
    "    :show_images: yes\n",
    "\n",
    "    from ia636 import ianormalize\n",
    "    # Forth case: optimized m n-dimensional computing\n",
    "    # X: n column vectors (n samples with d characteristics)\n",
    "    # MU: column vector, 1 x M\n",
    "    # COV: covariance matrix, square and symmetric, d x d\n",
    "    def funm1(X, MU, COV):\n",
    "      d = len(MU)\n",
    "      Xc = X - MU\n",
    "      k = 1. * Xc * dot(inv(COV), Xc)\n",
    "      k = sum(k,axis=0) #the sum is only applied to the rows\n",
    "      return (1./((2 * pi)**(d/2.) * sqrt(det(COV)))) * exp(-1./2 * k)\n",
    "    \n",
    "    print '\\ncomputing the Gaussian function on two 3-D samples'\n",
    "    X = array([[10, 5],\n",
    "               [ 5, 2.5],\n",
    "               [ 3, 1.5]])\n",
    "    MU = transpose(array([[10, 5, 3]]))\n",
    "    COV = array([[10*10, 0,   0],\n",
    "                 [0,     5*5, 0],\n",
    "                 [0,     0,   3*3]])\n",
    "    print 'X=',X\n",
    "    print 'MU=',MU\n",
    "    print 'COV=',COV\n",
    "    ex6 = \"funm1( X, MU, COV)\"\n",
    "    print ex6,\"=>\", eval(ex6)\n",
    "\n",
    "    i,j = indices((50,100))\n",
    "    x = vstack((ravel(i),ravel(j)))\n",
    "    MU = transpose(array([[25, 40]]))\n",
    "    COV = array([[15*15, 0, ],\n",
    "                 [0,     10*10]])\n",
    "    y = funm1(x, MU, COV).reshape((50,100))\n",
    "    adshow(ianormalize(y).astype(uint8))\n",
    "\n",
    "Suggested Exercises\n",
    "-------------------\n",
    "\n",
    "1. Compute the 2 dimensional Gaussian image using the equation of a decomposible Gaussian\n",
    "   below. You can use the meshgrid style programming where the image (coordinates and\n",
    "   value) can be stored in an image like format.\n",
    "\n",
    ".. equation:: latex\n",
    "\n",
    "    f(i,j) = \\frac{1}{2 \\pi \\sigma_i \\sigma_j} \n",
    "            exp ( -\\frac{1}{2} \\left( \\frac{\\left(i - \\mu_i\\right)^2}{\\sigma_i^2} +\n",
    "            \\frac{\\left(j - \\mu_j\\right)^2}{\\sigma_j^2} \\right) )\n",
    " \n",
    "2. Show that the previous 2 dimensional Gaussian image can be composed as an outer product \n",
    "   of two one dimensional signals\n",
    "\n",
    "3. Find the equation of a 2 dimensional Gaussian image when the covariance matrix is \n",
    "   of the form:\n",
    "\n",
    ".. equation:: latex\n",
    "\n",
    "   Cov(i,j) = \\left(\n",
    "               \\begin{array}{cc}\n",
    "                \\sigma_i^2        & \\sigma_i \\sigma_j \\\\\n",
    "                \\sigma_i \\sigma_j & \\sigma_j^2\n",
    "               \\end{array}\n",
    "              \\right)"
   ]
  }
 ],
 "metadata": {
  "kernelspec": {
   "display_name": "Python 3",
   "language": "python",
   "name": "python3"
  },
  "language_info": {
   "codemirror_mode": {
    "name": "ipython",
    "version": 3
   },
   "file_extension": ".py",
   "mimetype": "text/x-python",
   "name": "python",
   "nbconvert_exporter": "python",
   "pygments_lexer": "ipython3",
   "version": "3.6.2"
  },
  "toc": {
   "colors": {
    "hover_highlight": "#DAA520",
    "running_highlight": "#FF0000",
    "selected_highlight": "#FFD700"
   },
   "moveMenuLeft": true,
   "nav_menu": {
    "height": "138px",
    "width": "252px"
   },
   "navigate_menu": true,
   "number_sections": true,
   "sideBar": true,
   "threshold": 4,
   "toc_cell": false,
   "toc_section_display": "block",
   "toc_window_display": false
  }
 },
 "nbformat": 4,
 "nbformat_minor": 2
}
