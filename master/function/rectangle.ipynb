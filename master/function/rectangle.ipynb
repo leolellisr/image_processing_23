{
 "cells": [
  {
   "cell_type": "markdown",
   "metadata": {},
   "source": [
    "# Function rectangle"
   ]
  },
  {
   "cell_type": "markdown",
   "metadata": {},
   "source": [
    "## Synopse\n",
    "Create a binary rectangle image.\n",
    "\n",
    "- **g = rectangle(s, r, c) **\n",
    "\n",
    "    - **g**: Image.\n",
    "    - **s**: Image. [rows cols], output image dimensions.\n",
    "    - **r**: Double. [rrows ccols], rectangle image dimensions.\n",
    "    - **c**: Image. [row0 col0], center of the rectangle."
   ]
  },
  {
   "cell_type": "markdown",
   "metadata": {},
   "source": [
    "## Description\n",
    "Creates a binary image with dimensions given by s, rectangle dimensions given by r and center given by c. The pixels inside the rectangle are one and outside zero."
   ]
  },
  {
   "cell_type": "code",
   "execution_count": 1,
   "metadata": {
    "ExecuteTime": {
     "end_time": "2017-07-02T20:44:09.231435",
     "start_time": "2017-07-02T20:44:08.778097"
    }
   },
   "outputs": [],
   "source": [
    "import numpy as np\n",
    "\n",
    "def rectangle(s, r, c):\n",
    "\n",
    "    rows,  cols  = s[0], s[1]\n",
    "    rrows, rcols = r[0], r[1]\n",
    "    rr0,   cc0   = c[0], c[1]\n",
    "    rr, cc = np.meshgrid(np.arange(rows), np.arange(cols), indexing='ij')\n",
    "\n",
    "    min_row, max_row = rr0-rrows//2, rr0+rrows//2\n",
    "    min_col, max_col = cc0-rcols//2, cc0+rcols//2\n",
    "\n",
    "    g1 = (min_row <= rr) & (max_row > rr)\n",
    "    g2 = (min_col <= cc) & (max_col > cc)\n",
    "\n",
    "    g = g1 & g2\n",
    "    return g"
   ]
  },
  {
   "cell_type": "markdown",
   "metadata": {},
   "source": [
    "## Examples"
   ]
  },
  {
   "cell_type": "code",
   "execution_count": 2,
   "metadata": {
    "ExecuteTime": {
     "end_time": "2020-03-10T20:22:27.458303Z",
     "start_time": "2020-03-10T20:22:23.807488Z"
    }
   },
   "outputs": [
    {
     "name": "stderr",
     "output_type": "stream",
     "text": [
      "[NbConvertApp] Converting notebook rectangle.ipynb to python\n",
      "[NbConvertApp] Writing 1818 bytes to rectangle.py\n"
     ]
    }
   ],
   "source": [
    "testing = (__name__ == \"__main__\")\n",
    "if testing:\n",
    "    ! jupyter nbconvert --to python rectangle.ipynb\n",
    "    import numpy as np\n",
    "    import sys,os\n",
    "    ea979path = os.path.abspath('../../')\n",
    "    if ea979path not in sys.path:\n",
    "        sys.path.append(ea979path)\n",
    "    import ea979.src as ia\n"
   ]
  },
  {
   "cell_type": "markdown",
   "metadata": {},
   "source": [
    "### Example 1"
   ]
  },
  {
   "cell_type": "code",
   "execution_count": 2,
   "metadata": {
    "ExecuteTime": {
     "end_time": "2017-07-02T20:45:31.421557",
     "start_time": "2017-07-02T20:45:31.414126"
    }
   },
   "outputs": [
    {
     "name": "stdout",
     "output_type": "stream",
     "text": [
      "[[False False False False False False False False False]\n",
      " [False False False False False False False False False]\n",
      " [False False False  True  True False False False False]\n",
      " [False False False  True  True False False False False]\n",
      " [False False False False False False False False False]\n",
      " [False False False False False False False False False]\n",
      " [False False False False False False False False False]]\n"
     ]
    }
   ],
   "source": [
    "if testing:\n",
    "    F = ia.rectangle([7,9], [3,2], [3,4])\n",
    "    print(F)"
   ]
  },
  {
   "cell_type": "markdown",
   "metadata": {},
   "source": [
    "- **Example 2**"
   ]
  },
  {
   "cell_type": "code",
   "execution_count": 3,
   "metadata": {
    "ExecuteTime": {
     "end_time": "2017-07-02T20:45:38.056305",
     "start_time": "2017-07-02T20:45:37.958856"
    }
   },
   "outputs": [
    {
     "data": {
      "text/html": [
       "<head><style>        table, th, td { border: 0px solid black;        text-align: center;border-collapse: collapse;}</style></head>        <body><table border=\"0\"><td>            <table><tr><td><img src='data:image/png;base64,iVBORw0KGgoAAAANSUhEUgAAASwAAADICAAAAAB3tIOJAAAA/klEQVR4nO3Q0QmAQAwFwdP+e9YWXHIiwsx/yGPXAgAAAAAAAOCxY3J87VoRjUYPnB/9/SWxArECsQKxArECsQKxArECsQKxArECsQKxArECsQKxArECsQKxArECsQKxArECsQKxArECsQKxArECsQKxArECsQKxArECsQKxArECsQKxArECsQKxArECsQKxArECsQKxArECsQKxArECsQKxArECsQKxArECsQKxArECsQKxArECsQKxArECsQKxArECsQKxArECsQKxArECsQKxArECsQKxArECsQKxArECsQKxAAAAAAAAAAAAAAAAAAAAAAAAAAAAAAAAgHfcmF4BtA92Y8kAAAAASUVORK5CYII='/></td></tr>            <tr><td align='center'></td></tr></table></td><tr></tr></table></body>"
      ],
      "text/plain": [
       "<IPython.core.display.HTML object>"
      ]
     },
     "metadata": {},
     "output_type": "display_data"
    }
   ],
   "source": [
    "if testing:\n",
    "    F = ia.rectangle([200,300], [90,120], [70,120])\n",
    "    ia.adshow(ia.normalize(F))"
   ]
  },
  {
   "cell_type": "markdown",
   "metadata": {},
   "source": [
    "## Equation\n",
    "\n",
    "\\begin{equation}\n",
    "  g(x,y)=\\begin{cases}\n",
    "    1, & \\text{if } x_\\text{min} \\leq x < x_\\text{max} \\text{ and } y_\\text{min} \\leq y < y_\\text{max}.\\\\\n",
    "    0, & \\text{otherwise}.\n",
    "  \\end{cases}\n",
    "\\end{equation}"
   ]
  },
  {
   "cell_type": "markdown",
   "metadata": {},
   "source": [
    "## Contributions\n",
    "\n",
    "Lucas de Vasconcellos Teixeira, 1st semester 2017"
   ]
  }
 ],
 "metadata": {
  "kernelspec": {
   "display_name": "Python 3",
   "language": "python",
   "name": "python3"
  },
  "language_info": {
   "codemirror_mode": {
    "name": "ipython",
    "version": 3
   },
   "file_extension": ".py",
   "mimetype": "text/x-python",
   "name": "python",
   "nbconvert_exporter": "python",
   "pygments_lexer": "ipython3",
   "version": "3.6.2"
  },
  "toc": {
   "colors": {
    "hover_highlight": "#DAA520",
    "running_highlight": "#FF0000",
    "selected_highlight": "#FFD700"
   },
   "moveMenuLeft": true,
   "nav_menu": {
    "height": "12px",
    "width": "252px"
   },
   "navigate_menu": true,
   "number_sections": true,
   "sideBar": true,
   "threshold": 4,
   "toc_cell": false,
   "toc_section_display": "block",
   "toc_window_display": false
  }
 },
 "nbformat": 4,
 "nbformat_minor": 2
}
