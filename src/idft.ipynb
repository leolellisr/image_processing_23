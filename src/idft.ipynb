{
 "cells": [
  {
   "cell_type": "markdown",
   "metadata": {},
   "source": [
    "# Function idft\n",
    "\n",
    "## Synopse\n",
    "\n",
    "Inverse Discrete Fourier Transform.\n",
    "\n",
    "- **f = iaidft(F)**\n",
    "\n",
    "  - **f**: Image. \n",
    "\n",
    "\n",
    "  - **F**: Image. "
   ]
  },
  {
   "cell_type": "code",
   "execution_count": 1,
   "metadata": {
    "ExecuteTime": {
     "end_time": "2017-07-31T20:48:55.153258",
     "start_time": "2017-07-31T20:48:54.768244"
    },
    "collapsed": true
   },
   "outputs": [],
   "source": [
    "import numpy as np\n",
    "\n",
    "def idft(F):\n",
    "    import ea979.src as ia\n",
    "    s = F.shape\n",
    "    if F.ndim == 1: F = F[np.newaxis,np.newaxis,:] \n",
    "    if F.ndim == 2: F = F[np.newaxis,:,:] \n",
    "\n",
    "    (p,m,n) = F.shape\n",
    "    A = ia.dftmatrix(m)\n",
    "    B = ia.dftmatrix(n)\n",
    "    C = ia.dftmatrix(p)\n",
    "    Faux = np.conjugate(A).dot(F)\n",
    "    Faux = Faux.dot(np.conjugate(B))\n",
    "    f = np.conjugate(C).dot(Faux)/(np.sqrt(p)*np.sqrt(m)*np.sqrt(n))\n",
    "\n",
    "    return f.reshape(s)"
   ]
  },
  {
   "cell_type": "markdown",
   "metadata": {},
   "source": [
    "## Examples"
   ]
  },
  {
   "cell_type": "code",
   "execution_count": 1,
   "metadata": {
    "ExecuteTime": {
     "end_time": "2020-03-10T20:10:31.284604Z",
     "start_time": "2020-03-10T20:10:27.629200Z"
    }
   },
   "outputs": [
    {
     "name": "stderr",
     "output_type": "stream",
     "text": [
      "[NbConvertApp] Converting notebook idft.ipynb to python\n",
      "[NbConvertApp] Writing 2249 bytes to idft.py\n"
     ]
    }
   ],
   "source": [
    "testing = (__name__ == \"__main__\")\n",
    "\n",
    "if testing:\n",
    "    ! jupyter nbconvert --to python idft.ipynb\n",
    "    import numpy as np\n",
    "    import sys,os\n",
    "    import matplotlib.image as mpimg\n",
    "    ea979path = os.path.abspath('../../')\n",
    "    if ea979path not in sys.path:\n",
    "        sys.path.append(ea979path)\n",
    "    import ea979.src as ia\n"
   ]
  },
  {
   "cell_type": "markdown",
   "metadata": {},
   "source": [
    "### Example 1"
   ]
  },
  {
   "cell_type": "code",
   "execution_count": 3,
   "metadata": {
    "ExecuteTime": {
     "end_time": "2017-07-31T20:49:03.370639",
     "start_time": "2017-07-31T20:49:03.313908"
    }
   },
   "outputs": [
    {
     "name": "stdout",
     "output_type": "stream",
     "text": [
      "[[  0.   1.   2.   3.   4.   5.]\n",
      " [  6.   7.   8.   9.  10.  11.]\n",
      " [ 12.  13.  14.  15.  16.  17.]\n",
      " [ 18.  19.  20.  21.  22.  23.]]\n"
     ]
    }
   ],
   "source": [
    "if testing:\n",
    "    f = np.arange(24).reshape(4,6)\n",
    "    F = ia.dft(f)\n",
    "    g = ia.idft(F)\n",
    "    print(np.round(g.real))"
   ]
  },
  {
   "cell_type": "code",
   "execution_count": 4,
   "metadata": {
    "ExecuteTime": {
     "end_time": "2017-07-31T20:49:04.991646",
     "start_time": "2017-07-31T20:49:04.979964"
    }
   },
   "outputs": [],
   "source": [
    "if False: #testing:\n",
    "    import matplotlib.image as mpimg\n",
    "    \n",
    "    f = mpimg.imread('../data/cameraman.tif')\n",
    "    F = ia.dft(f)\n",
    "    print(F.shape)\n",
    "    H = ia.circle(F.shape, 50,[F.shape[0]/2,F.shape[1]/2] )\n",
    "    H = ia.normalize(H,[0,1])\n",
    "    FH = F * ia.idftshift(H)\n",
    "    print(ia.isdftsym(FH))\n",
    "    g= ia.idft(FH)\n",
    "    ia.adshow(f)\n",
    "    ia.adshow(ia.dftview(F))\n",
    "    ia.adshow(ia.normalize(H,[0,255]))\n",
    "    ia.adshow(ia.dftview(FH))\n",
    "    ia.adshow(ia.normalize(abs(g)))"
   ]
  },
  {
   "cell_type": "markdown",
   "metadata": {},
   "source": [
    "## Equation\n",
    "\n",
    "$$ \\begin{matrix}\n",
    "    f(x) &=& \\frac{1}{N}\\sum_{u=0}^{N-1}F(u)\\exp(j2\\pi\\frac{ux}{N}) \\\\ & & 0 \\leq x < N, 0 \\leq u < N \\\\ \\mathbf{f}          &=& \\frac{1}{\\sqrt{N}}(A_N)^* \\mathbf{F} \n",
    "\\end{matrix} $$"
   ]
  },
  {
   "cell_type": "markdown",
   "metadata": {},
   "source": [
    "$$ \\begin{matrix}\n",
    "f(x,y) &=& \\frac{1}{NM}\\sum_{u=0}^{N-1}\\sum_{v=0}^{M-1}F(u,v)\\exp(j2\\pi(\\frac{ux}{N} + \\frac{vy}{M})) \\\\ & & (0,0) \\leq (x,y) < (N,M), (0,0) \\leq (u,v) < (N,M) \\\\ \n",
    "    \\mathbf{f} &=& \\frac{1}{\\sqrt{NM}} (A_N)^* \\mathbf{F} (A_M)^*\n",
    "\\end{matrix} $$    "
   ]
  },
  {
   "cell_type": "markdown",
   "metadata": {},
   "source": [
    "## See also\n",
    "\n",
    "- `iadft iadft`\n",
    "- `iadftview iadftview`\n",
    "- `iafftshift iafftshift`\n",
    "- `iaisdftsym iaisdftsym`\n",
    "\n",
    "## Contribution\n"
   ]
  },
  {
   "cell_type": "code",
   "execution_count": null,
   "metadata": {
    "collapsed": true
   },
   "outputs": [],
   "source": []
  }
 ],
 "metadata": {
  "kernelspec": {
   "display_name": "Python 3",
   "language": "python",
   "name": "python3"
  },
  "language_info": {
   "codemirror_mode": {
    "name": "ipython",
    "version": 3
   },
   "file_extension": ".py",
   "mimetype": "text/x-python",
   "name": "python",
   "nbconvert_exporter": "python",
   "pygments_lexer": "ipython3",
   "version": "3.6.2"
  },
  "toc": {
   "colors": {
    "hover_highlight": "#DAA520",
    "running_highlight": "#FF0000",
    "selected_highlight": "#FFD700"
   },
   "moveMenuLeft": true,
   "nav_menu": {
    "height": "30px",
    "width": "252px"
   },
   "navigate_menu": true,
   "number_sections": true,
   "sideBar": true,
   "threshold": 4,
   "toc_cell": false,
   "toc_section_display": "block",
   "toc_window_display": false
  }
 },
 "nbformat": 4,
 "nbformat_minor": 2
}
