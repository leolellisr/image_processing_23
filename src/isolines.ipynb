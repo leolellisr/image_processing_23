{
 "cells": [
  {
   "cell_type": "markdown",
   "metadata": {},
   "source": [
    "# Function isolines\n",
    "\n",
    "## Synopse\n",
    "\n",
    "Isolines of a grayscale image.\n",
    "\n",
    "- **g = isolines(f, nc=10, np=1)**\n",
    "\n",
    "  - **g**: Image.\n",
    "\n",
    "  - **f**: Image. Input image.\n",
    "  - **nc**: Double. Number of colors.\n",
    "  - **n**: Double. Number of pixels by isoline."
   ]
  },
  {
   "cell_type": "markdown",
   "metadata": {},
   "source": [
    "## Description\n",
    "\n",
    "Shows lines where the pixels have same intensity with a unique color."
   ]
  },
  {
   "cell_type": "code",
   "execution_count": 6,
   "metadata": {
    "ExecuteTime": {
     "end_time": "2017-07-02T19:55:22.962871",
     "start_time": "2017-07-02T19:55:22.897857"
    },
    "collapsed": true
   },
   "outputs": [],
   "source": [
    "import numpy as np\n",
    "def isolines(f, nc=10, n=1):\n",
    "    from colormap import colormap\n",
    "    from applylut import applylut\n",
    "    \n",
    "    maxi = int(np.ceil(f.max()))\n",
    "    mini = int(np.floor(f.min()))\n",
    "    d = int(np.ceil(1.*(maxi-mini)/nc))\n",
    "    m = np.zeros((d,1))\n",
    "    m[0:n,:] = 1\n",
    "    m = np.resize(m, (maxi-mini, 1))\n",
    "    m = np.concatenate((np.zeros((mini,1)), m))\n",
    "    m = np.concatenate((m, np.zeros((256-maxi,1))))\n",
    "    m = np.concatenate((m,m,m), 1)\n",
    "    ct = m*colormap('hsv') + (1-m)*colormap('gray')\n",
    "    g = applylut(f, ct)\n",
    "    return g"
   ]
  },
  {
   "cell_type": "markdown",
   "metadata": {},
   "source": [
    "## Examples"
   ]
  },
  {
   "cell_type": "code",
   "execution_count": 1,
   "metadata": {
    "ExecuteTime": {
     "end_time": "2020-03-10T20:15:27.678411Z",
     "start_time": "2020-03-10T20:15:24.070644Z"
    }
   },
   "outputs": [
    {
     "name": "stderr",
     "output_type": "stream",
     "text": [
      "[NbConvertApp] Converting notebook isolines.ipynb to python\n",
      "[NbConvertApp] Writing 1474 bytes to isolines.py\n"
     ]
    }
   ],
   "source": [
    "testing = (__name__ == \"__main__\")\n",
    "if testing:\n",
    "    ! jupyter nbconvert --to python isolines.ipynb\n",
    "    import numpy as np\n",
    "    import sys,os\n",
    "    ea979path = os.path.abspath('../../')\n",
    "    if ea979path not in sys.path:\n",
    "        sys.path.append(ea979path)\n",
    "    import ea979.src as ia"
   ]
  },
  {
   "cell_type": "markdown",
   "metadata": {},
   "source": [
    "### Example 1"
   ]
  },
  {
   "cell_type": "code",
   "execution_count": 2,
   "metadata": {
    "ExecuteTime": {
     "end_time": "2017-07-02T19:58:24.255567",
     "start_time": "2017-07-02T19:58:24.141804"
    }
   },
   "outputs": [
    {
     "data": {
      "text/html": [
       "<head><style>        table, th, td { border: 0px solid black;        text-align: center;border-collapse: collapse;}</style></head>        <body><table border=\"0\"><td>            <table><tr><td><img src='data:image/png;base64,iVBORw0KGgoAAAANSUhEUgAAAJYAAACWCAAAAAAZai4+AAAOl0lEQVR4nKWc4WLruAqEQcn7P/EW7g8JmEE4ye51z2nrxJa/DCOEZbvqLiIuLu7ibu5ubm7mZmZmf2Z/8fX3t7/V8g//fL1er9fr/eKfZ1n72/lar7XWWkvX0qVLVZeqqIqKishyyQV+HV4a3v3Xy88HW/T6v6Tw9vPTq59baAffWI4bxIq7u0trnfbtx3/6ee14tX8dfO2fjnv0Fly8Xo723W+K65XaeGxrOuReWe6xsZ/9c4V28Wo8PmfD7Ct9Y6e2anfPtmsFg0iiejR4QFnsEWp8AWXAtrD9CGqtvH3vEgK5i7vD8UH40xgKMTBAlNumDm3V5uou6qIi4qIuon68lcetHT2WeDfazc85GOi2HWx6GsgUme1fB3dWC7fDoLBaJEz5xl1AIbJfRojbOm+oq2usqqurOGOlQ+vjSH1PX9YnvaLVYotbpgegXXd11+0ZRee+Jbg8A+W4lNuqSVLLGaG/UdphK2wSddE0lh7L+8GiT0efS+AjXggTqlyo0JyQYurVByqWD1inAcE10Iu3e1KLG2sq+e6E2d2ElrftGD4c0uFl2KSF8ZdXpLUELyaW6/nmlLd8VzZngV+Z8Ks2nY9Z4AgrsezUDK5brUq+iGPu7mY24V3tP5vqYQ9Td7c98tlysSViqqpJ9q7hBXa7P9j35cFUX3dzW1BBqKu4prfSj3bK05vxP8HSYtp/cVu2bJnusVkpnXK62oc3q7Xk/H/IduTU1DS5TJaLi60dQ91+V0G1JDnMzfwU8zcMrcrTMqpUqyYiIstNli0wvKuoj96y+IfrR7Cu2bOZ0KpbpyOVKcXQbZmuLZae8ZG9lRkCznzMAPHmeo4qHDqpct1C03XU0rWtld6qdBqfz+KULNY3Jar4nWukMjU1UZO0viwTFT3eEtdTedXgg4mL5MLeOXBNYKaPVIpqbbEsYxjW0rfdecuOQtElUy2L94jm5kKpdH8ra4mabLnscKkE1Tl7VWcsCS2gL24EMr2xTJ0L0tORig0vR651grhMVZd4YQlhgeUpipZqWfASGAUyAxhQ6qZqqqGWaDpeRVRUVHWZqj9guWD6NEMuCyofwS6pCMrtcIki1TG86Jl++Blre6u0i+h6BzOmKqgdPzU1FZVjLYmEqo9Y1zkGYMV/ML1lJBnMgIqglEO4qbbbAcvR8iLvvytvNSz6FmH0G8yCiqHC7SeESSWiiBVUul9/W9VblU8JK1xGDmtg58MoobHbTwiTqrB8AdXmunoiDz/g+2SyAcxCq+QhKCm/Hx4RXyK+REWDS8BbGcRzsmMURcoSTa4Glt66oC6/B5Wo+PKl6rp2KOVDELO2OTh/1pcLDLxlN1RYKIQKqi2Wr7A8BPFPWnkK3vKLp8cxBwFzt0pSDSrsnlgeVL58pbcEemKpNWSIi+uOY41OJ4gNiu2eahWVr8gOZa0ntbgrmt2RbGAZROtQQwQzjLsj6ke1Wg3BXLe/ksoTL1giUSFUx9od0ZdrqdW9FT1RmlrZGf+YBw32oBbYqhlLRNx9iWcIMz9AT6zBZ1CLzMWKYd4/qd9QpwMVRI2prEVq0eBDY3XLXOyuSzXULMYY0Gm21emLZfilPFJnEH0efgBscFfJdb4B12Ur7VCbynVR1tpykbe+RXEUi6kAKU1FadR9B7FiCOmhvAUJgs/JIDm1MP6ltQwyHHPx4Hwt7suLimKYCQJOfTDPewniz1E0wAOcHj89QTmCLdlcWpYvb52hurCkB/FzGEEu4rIWP+qFuxv68uWbirNWYWVP5Lmky/QH6g+hiDBZMn7ARNODqwyf1kJ9C6vNno7m6gZjf5kKSdVtFU2vZq1em/YsP2WuXgwOYyObq6QaMgPmLNdDVY5vPdGb562HkV1/md8xiCUVZwb0e4TQVY9glE0fsGpYvOV6EMzN3KTAxiS6M5YfqU52cP2KRVOC1BfZ9h1tb3XK4kEqsnuKBVRUyT9jReoaXd97Y/zTBLMuVdkd/I5UP2L11HXXEoPDUKYxu2dyOCGk9NCxhnw6y3WVXqTYnvU4SgGae12HXCxWSw+RTT9gfZRrNv6ARJ76JNaMddUQk1w+Qnn+j1miOhukS0wfxYKsdbDg+grPW3+W61LMbRKq2lufxMJkqvL+E6yabyyU60Mc3cxy1mN2u3wUC2oOEX3/E5nlxmpyQbYftErLz1hk90kswqoykDwv9ptck+URCwNYEWSxltz5YcaSPEm+5PoAti3/oJY8ibVc5QmrZQioIkquhLrIPH8eKruZNpRcYi3XhtWz/IAFcrFas2gyiVVDTtakIJYrYc1ZXgqryTWE8Ua7sA5S64RNrMCSlk7pvJqLrkuuK4w+Y6XRhdNoFjSrl1qYHyBvXVhVDMJJ15O/EEsSKIQiX5VYVGqh4yFvzVgkF4aRzy4o2/UO2HxVYuWsd8eiBNGxnsPYwRzV0georP04hL2On/IWVc4PYSzfd/c3rJyZkU8hpBPqh7zVsPBcA6guwUasOE8tqTbTohr+wuK8hV2Ri8HBXp1rwmKpJE+jL6odwAGrKpsL6zeuAWuiAmNdBSCEkPPWjJXeAqqLK+AKa7ZVGuuutCg/yPv1TS09t6TFnEdd2K2rSrsGtbxNOb5r3LW8b1w+ty+fO5g/qvX64i2+omtwwlVUURoj1r/gmrzVsVpPLCp/phqxJq6lE9fUE18f81ZQOU5rq4kS1YwF0UyqgCKuKW8B1p3l1clYzVZVV81Yz4HcSIuwOMu/hOSiMbHdG0NSKRZ7T1gdbOaaxsS8w/PGqvs91I+1Rqhzq1osixcAewjjVEG8nuutMYQdSlVzEDwgryZZgD2Fcaq3Km/16vQSK9SK8xvV87szVgMa/MVcU3UaCeKq5dUvsbILiioq9ogFaN1fR6lVWFTLc94qrHNDwxGLfdWc9Rlr9BfJNZ35cN6q80QWK311IckZ/0TEe+g6Gfmr5JrOEycsF+tiUQg7VlCNPDMYcI1n1Zm3aA5CvYulphnCSIOE5Us616s7bJKrcj3OQbwpP3BJc4s1yuURyRa/1+LlQa4BK/PWNL/FYj1EMDrM2pbXZ6rVu2PHgsom8tY0G8hiHbVaABMLLE9UPZCPcvFsIKVTwrrEIrWUhNr/tQT5FsdbLp47fcS6xeKRhoUaLV9UMB49yXVj9fzwIFZl+AEpLX9lCVLsWS6el3/CmsR6cHv+G4Eu5z/I9ROWNbHgjjRkSqV8bW9pV+zFipXt62nJ71hYAVbtx3bXhiXiB2yI4SBYjI3M1a6QjVinho8gplpySRVMG6zG5MFcr3oPCxy+lWXASq5TAKJYWWNNWAE2Qt2CNbnGq6+QTmlEzIJmyu6XVHFjClZXg2Cj68n0LZ32EdGu5HDlrJJqf+0garFtnNclGCYJThEZxRoTe0esmnSwOwUvvlij1hsv21+pi+6DICzoiFY1afe7o74Lv+CUa4wiuf6cZN9dUVTeZzIYuczh7jD0+2313BGoHhcetcFcwz02vSdux5O1hiXil0KB5VEu7Qa7wnjleUoQ7C18biIM342+45dsRFVhalrVI/E3F92/hT0xL6tQzjJSqcWvpNpcDe0xjJC7ehR3T6Rz6ohhzho95KxCwgnboprF6rXEHcX01qpD1VUVjCEXWV7SLhBrT4nu6SuQizWr3kgDdht+ehAhyZuPgzTnT9ApJ7X3v6bZeN6RURw9jwkis1aq1S4NXrZKndBbqNkv7sLMRQmiLJ9q7WjdJ/U31KzWA1gbscv0YK4PaoG1mKmyFUHlJV7daiEYZDBeuulntcpb5mT421hyQ4Xlb7A7X7zI9H1ULLWiJ/p+ukDNxXku+SmCuvzM/sedmksHsDuS0CG2zDHLlT2RKnl18y2WJ9U5G7wjGFB5XSKYGhjUpM3yLUOEud7rCqKah1hwNeBYCyNIUN6YCGzM+3eKmIIIPTE6ouRczGB34ImrljXv2MHI9tqwOHGdINbgk4sQVt5GLnlRcDWoQCskAIs0Vnlfn7Bo8KGR2hDLFlBBDeMXFHirg2GGAi72/OKx+sISxBJTXbffT88DqLwSdz45gimHceNo1ahfsWK0FhfPh4pPGCmE3qDg+mBEpMAWh7H1Rhh/5Ektxaf7nagwhDcUXLVcIxgWrTpgncQ1Yzk+3Z9PrC/Z15j5im6x8H1YkLVXds0t2EkHKyJYIztbXuW99gPp2BPFz4Phpqq60PCtD45UeJjWH9P0502UC7BE3yoq4ioxu+zn6f7y1mEpKvaSX1QQyMgZwKUh1sLYBlXkrZNOz1+58evpftW6Mj9S3VBNsMa1AJqHHzhT3N7akzPucj/df9QKhh+pHrhivXkea4jjLRVR8eDahqen+yuEN5Xi5DMv8E5xtTEwX62KC9QKa21x6Ol+kX7TQluVp2VWLlcX9EVS6wzVKhJ/MOk8sU5P95+EsG8i/xCz78vRDCuZcFmAyewt2d7ip/vXU3r6j2T0i3JPZG95/A2gLT8/3f/rcoXuX8MeLgqiiMSfcamn+2WK3HVsMNPtq2mPMyrhGMCD4sYqMlkmuzso9MXWfp8NvzejV4P42gx1Cm9VOvUDtck0sXKqBn4KHLcd+8srU4vTx87Bp3XsxHKUZe8xtjjQjAeMJnLDwQ6F5TkfqoWVd9BmwLPtS5BBm1u4/ERSdJLfiF1E5C0qsv9+jLiKi4rTx0qVoOUWnie1Giq2wjrtJEpjIl+Z2BOqcIc9fi5hrVAUdMGt1tlPpLVIiPFuYp10mrHcd8pF05LT5Qqn/i1gFSpt7+SWV1vRvgrGZrto1VshCW2ntWM0xloV6f0LbRqBAnMlCB880mkaS461KOc3tVIEjBYJc8e2PJB6VPthrmMvET1/wVPP4VVpJT5AtXQVDBfYSBqfD9vC9iX6aq4s0k5oJcWKX6ZuRhw3FGys1FbtXmarlcVbtZX6gNXkbaD8eb3SMKcgzsfHIJLY2Zm4BXLRjz+vHa/2r4PTH63FfS9vDMt0/KdXP7fQDi7/A49bcpv1sCrqAAAAAElFTkSuQmCC'/></td></tr>            <tr><td align='center'></td></tr></table></td><tr></tr></table></body>"
      ],
      "text/plain": [
       "<IPython.core.display.HTML object>"
      ]
     },
     "metadata": {},
     "output_type": "display_data"
    },
    {
     "data": {
      "text/html": [
       "<head><style>        table, th, td { border: 0px solid black;        text-align: center;border-collapse: collapse;}</style></head>        <body><table border=\"0\"><td>            <table><tr><td><img src='data:image/png;base64,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'/></td></tr>            <tr><td align='center'></td></tr></table></td><tr></tr></table></body>"
      ],
      "text/plain": [
       "<IPython.core.display.HTML object>"
      ]
     },
     "metadata": {},
     "output_type": "display_data"
    }
   ],
   "source": [
    "if testing:\n",
    "    f = ia.normalize(ia.bwlp([150,150], 4, 1), [0,255])\n",
    "    f = f.astype('uint8')\n",
    "    g = ia.isolines(f, 10, 3)\n",
    "    g = g.astype('uint8')\n",
    "\n",
    "    ia.adshow(f)\n",
    "    ia.adshow(g)"
   ]
  },
  {
   "cell_type": "code",
   "execution_count": null,
   "metadata": {
    "collapsed": true
   },
   "outputs": [],
   "source": []
  }
 ],
 "metadata": {
  "kernelspec": {
   "display_name": "Python 3",
   "language": "python",
   "name": "python3"
  },
  "language_info": {
   "codemirror_mode": {
    "name": "ipython",
    "version": 3
   },
   "file_extension": ".py",
   "mimetype": "text/x-python",
   "name": "python",
   "nbconvert_exporter": "python",
   "pygments_lexer": "ipython3",
   "version": "3.6.2"
  },
  "toc": {
   "colors": {
    "hover_highlight": "#DAA520",
    "running_highlight": "#FF0000",
    "selected_highlight": "#FFD700"
   },
   "moveMenuLeft": true,
   "nav_menu": {
    "height": "102px",
    "width": "252px"
   },
   "navigate_menu": true,
   "number_sections": true,
   "sideBar": true,
   "threshold": 4,
   "toc_cell": false,
   "toc_section_display": "block",
   "toc_window_display": false
  }
 },
 "nbformat": 4,
 "nbformat_minor": 2
}
