{
 "cells": [
  {
   "cell_type": "markdown",
   "metadata": {},
   "source": [
    "# Function bwlp\n",
    "\n",
    "## Synopse\n",
    "\n",
    "Low-Pass Butterworth frequency filter.\n",
    "\n",
    "- **H = iabwlp(fsize, tc, n, option='circle')**\n",
    "\n",
    "  - **H**: Image. \n",
    "   \n",
    "\n",
    "\n",
    "  - **fsize**: Image. Filter size: a col vector: first element: rows, second: cols, etc. uses same convention as the return of size.\n",
    "  - **tc**: Double. Cutoff period.\n",
    "  - **n**: Double. Filter order.\n",
    "  - **option**: String. Filter options. Possible values: 'circle' or 'square'."
   ]
  },
  {
   "cell_type": "code",
   "execution_count": 25,
   "metadata": {
    "ExecuteTime": {
     "end_time": "2017-07-02T19:44:40.136774",
     "start_time": "2017-07-02T19:44:40.120283"
    },
    "collapsed": true
   },
   "outputs": [],
   "source": [
    "import numpy as np\n",
    "\n",
    "def bwlp(fsize, tc, n, option='circle'):\n",
    "    from dftshift import dftshift\n",
    "\n",
    "    rows, cols = fsize[0], fsize[1]\n",
    "    mh, mw = rows//2, cols//2\n",
    "    rr, cc = np.meshgrid(np.arange(-mh,rows-mh), np.arange(-mw,cols-mw), indexing='ij') # center\n",
    "    if option.upper() == 'SQUARE':\n",
    "        H = 1./(1.+(np.sqrt(2)-1)*(np.maximum(abs(1.*rr/rows) , np.abs(1.*cc/cols))*tc)**(2*n))\n",
    "    else:\n",
    "        aux = np.sqrt(((((1.*rr)/rows)**2 + ((1.*cc)/cols)**2) * tc) **(2*n))\n",
    "        H = 1./(1+(np.sqrt(2)-1)*aux)\n",
    "    H = dftshift(H)\n",
    "    return H"
   ]
  },
  {
   "cell_type": "markdown",
   "metadata": {},
   "source": [
    "## Description"
   ]
  },
  {
   "cell_type": "markdown",
   "metadata": {},
   "source": [
    "This function generates a frequency domain Low Pass Butterworth Filter with cutoff period ``tc`` and order ``n``. \n",
    "At the cutoff period the filter amplitude is about 0.7 of the amplitude at H(0,0). This function returns the mask filter with H(0,0). \n",
    "As the larger the filter order, sharper will be the amplitude transition at cutoff period. The minimum cutoff period is always 2 pixels, \n",
    "despite of the size of the frequency filter."
   ]
  },
  {
   "cell_type": "markdown",
   "metadata": {},
   "source": [
    "## Examples"
   ]
  },
  {
   "cell_type": "code",
   "execution_count": 2,
   "metadata": {
    "ExecuteTime": {
     "end_time": "2020-03-10T19:47:24.225758Z",
     "start_time": "2020-03-10T19:47:20.326603Z"
    }
   },
   "outputs": [
    {
     "name": "stderr",
     "output_type": "stream",
     "text": [
      "[NbConvertApp] Converting notebook bwlp.ipynb to python\n",
      "[NbConvertApp] Writing 3516 bytes to bwlp.py\n"
     ]
    },
    {
     "ename": "ModuleNotFoundError",
     "evalue": "No module named 'ea979.src.applylut'",
     "output_type": "error",
     "traceback": [
      "\u001b[1;31m---------------------------------------------------------------------------\u001b[0m",
      "\u001b[1;31mModuleNotFoundError\u001b[0m                       Traceback (most recent call last)",
      "\u001b[1;32m<ipython-input-2-8030de65809e>\u001b[0m in \u001b[0;36m<module>\u001b[1;34m()\u001b[0m\n\u001b[0;32m      7\u001b[0m     \u001b[1;32mif\u001b[0m \u001b[0mea979path\u001b[0m \u001b[1;32mnot\u001b[0m \u001b[1;32min\u001b[0m \u001b[0msys\u001b[0m\u001b[1;33m.\u001b[0m\u001b[0mpath\u001b[0m\u001b[1;33m:\u001b[0m\u001b[1;33m\u001b[0m\u001b[0m\n\u001b[0;32m      8\u001b[0m         \u001b[0msys\u001b[0m\u001b[1;33m.\u001b[0m\u001b[0mpath\u001b[0m\u001b[1;33m.\u001b[0m\u001b[0mappend\u001b[0m\u001b[1;33m(\u001b[0m\u001b[0mea979path\u001b[0m\u001b[1;33m)\u001b[0m\u001b[1;33m\u001b[0m\u001b[0m\n\u001b[1;32m----> 9\u001b[1;33m     \u001b[1;32mimport\u001b[0m \u001b[0mea979\u001b[0m\u001b[1;33m.\u001b[0m\u001b[0msrc\u001b[0m \u001b[1;32mas\u001b[0m \u001b[0mia\u001b[0m\u001b[1;33m\u001b[0m\u001b[0m\n\u001b[0m",
      "\u001b[1;32m~\\Documents\\ea979\\github\\ea979\\src\\__init__.py\u001b[0m in \u001b[0;36m<module>\u001b[1;34m()\u001b[0m\n\u001b[0;32m      5\u001b[0m \u001b[0m__version__\u001b[0m \u001b[1;33m=\u001b[0m \u001b[1;34m'ea979 Python Toolbox for Teaching Image  Processing version 0.1 10Mar2020'\u001b[0m\u001b[1;33m\u001b[0m\u001b[0m\n\u001b[0;32m      6\u001b[0m \u001b[1;32mfrom\u001b[0m \u001b[0mea979\u001b[0m\u001b[1;33m.\u001b[0m\u001b[0msrc\u001b[0m\u001b[1;33m.\u001b[0m\u001b[0maffine\u001b[0m \u001b[1;32mimport\u001b[0m \u001b[0maffine\u001b[0m\u001b[1;33m\u001b[0m\u001b[0m\n\u001b[1;32m----> 7\u001b[1;33m \u001b[1;32mfrom\u001b[0m \u001b[0mea979\u001b[0m\u001b[1;33m.\u001b[0m\u001b[0msrc\u001b[0m\u001b[1;33m.\u001b[0m\u001b[0mapplylut\u001b[0m \u001b[1;32mimport\u001b[0m \u001b[0mapplylut\u001b[0m\u001b[1;33m\u001b[0m\u001b[0m\n\u001b[0m\u001b[0;32m      8\u001b[0m \u001b[1;32mfrom\u001b[0m \u001b[0mea979\u001b[0m\u001b[1;33m.\u001b[0m\u001b[0msrc\u001b[0m\u001b[1;33m.\u001b[0m\u001b[0mbwlp\u001b[0m \u001b[1;32mimport\u001b[0m \u001b[0mbwlp\u001b[0m\u001b[1;33m\u001b[0m\u001b[0m\n\u001b[0;32m      9\u001b[0m \u001b[1;32mfrom\u001b[0m \u001b[0mea979\u001b[0m\u001b[1;33m.\u001b[0m\u001b[0msrc\u001b[0m\u001b[1;33m.\u001b[0m\u001b[0mcolormap\u001b[0m \u001b[1;32mimport\u001b[0m \u001b[0mcolormap\u001b[0m\u001b[1;33m\u001b[0m\u001b[0m\n",
      "\u001b[1;31mModuleNotFoundError\u001b[0m: No module named 'ea979.src.applylut'"
     ]
    }
   ],
   "source": [
    "testing = (__name__ == \"__main__\")\n",
    "if testing:\n",
    "    ! jupyter nbconvert --to python bwlp.ipynb\n",
    "    import numpy as np\n",
    "    import sys,os\n",
    "    ea979path = os.path.abspath('../../')\n",
    "    if ea979path not in sys.path:\n",
    "        sys.path.append(ea979path)\n",
    "    import ea979.src as ia"
   ]
  },
  {
   "cell_type": "markdown",
   "metadata": {},
   "source": [
    "### Example 1"
   ]
  },
  {
   "cell_type": "code",
   "execution_count": 2,
   "metadata": {
    "ExecuteTime": {
     "end_time": "2017-07-02T19:46:10.176286",
     "start_time": "2017-07-02T19:46:10.071096"
    }
   },
   "outputs": [
    {
     "data": {
      "text/html": [
       "<head><style>        table, th, td { border: 0px solid black;        text-align: center;border-collapse: collapse;}</style></head>        <body><table border=\"0\"><td>            <table><tr><td><img src='data:image/png;base64,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'/></td></tr>            <tr><td align='center'></td></tr></table></td><tr></tr></table></body>"
      ],
      "text/plain": [
       "<IPython.core.display.HTML object>"
      ]
     },
     "metadata": {},
     "output_type": "display_data"
    }
   ],
   "source": [
    "if testing:\n",
    "\n",
    "    H2_10 = ia.bwlp([100,100],2,2) # cutoff period: 2 pixels, order: 10\n",
    "    ia.adshow(ia.dftview(H2_10))"
   ]
  },
  {
   "cell_type": "code",
   "execution_count": 3,
   "metadata": {
    "ExecuteTime": {
     "end_time": "2017-07-02T19:46:10.961551",
     "start_time": "2017-07-02T19:46:10.949744"
    }
   },
   "outputs": [
    {
     "data": {
      "text/html": [
       "<head><style>        table, th, td { border: 0px solid black;        text-align: center;border-collapse: collapse;}</style></head>        <body><table border=\"0\"><td>            <table><tr><td><img src='data:image/png;base64,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'/></td></tr>            <tr><td align='center'></td></tr></table></td><tr></tr></table></body>"
      ],
      "text/plain": [
       "<IPython.core.display.HTML object>"
      ]
     },
     "metadata": {},
     "output_type": "display_data"
    }
   ],
   "source": [
    "if testing:\n",
    "    H4_1 = ia.bwlp([100,100],4,1) # cutoff period: 4, order: 1\n",
    "    ia.adshow(ia.dftview(H4_1))"
   ]
  },
  {
   "cell_type": "code",
   "execution_count": 4,
   "metadata": {
    "ExecuteTime": {
     "end_time": "2017-07-02T19:46:11.834071",
     "start_time": "2017-07-02T19:46:11.822198"
    }
   },
   "outputs": [
    {
     "data": {
      "text/html": [
       "<head><style>        table, th, td { border: 0px solid black;        text-align: center;border-collapse: collapse;}</style></head>        <body><table border=\"0\"><td>            <table><tr><td><img src='data:image/png;base64,iVBORw0KGgoAAAANSUhEUgAAAGQAAABkCAAAAABVicqIAAACv0lEQVR4nO2ZMW/iMBTHXxISISFErhust3SJqMSA2oHO/Rz3DRj6TRhPHbJ27sZQKapYkMpSdSkjTO2dikCBxM4NSSBxck7suO6S/xbLfr/Y78l+fgaoVatWrVrfJ4Wps6rpekMJfM9DOPgCiNrsDq77vbahKQE6bFaLx/naxSy/WEgwb+5XLsJJIXd1f2OqohC6Zb/7OE/+u23pIhDGaObmEkK5s5FRFaFZzp6CwBjjvWNplRjmZFeAwBjj3cTkR6jDZdrZwUnpIFgOeSPAGG/zATmg7ZjPMy3boxEIjme3OBidKSpEJDFo2mFnOOUYCYrDSmkd51GASGDQlG3FDJuBcaLYLN5Xxx4L40jxxgyRPNyyMY6U7bA0w1yyMo6UpVmSoU0QMyOmoEnJfczacTBiys4qxTAcLkZMcUpF2GhfCbIflWDoM05GTJllzspsXJ9fAABjGhMpHHNxXghRb6uepsYtaTTzw+bbj9z2cgoAAP78/Jtuzczkkn3DJtW5JBpIiPqreiaVsUGabF4BAPdqReOumnRI94zTfFJnXTpkICIh1AdUiHLNu1A0K6SL+mEvfvsAANBPmyUgWo/bfFK99H5PQPS2EEg77VkSUjlDBwAAgwppVMvPY2kNGkQREVwZMwQkYLhuUkSYISA+EgJBPg3iHYRADh4VshEC2VAhaCUEskqvOgHBCwCIDjguhSMX6SoCGV2PIsKLtEJu9XMPqsubp79JyPpDAORjTYe4TwDA75Rw3JNLh+Df1Ss/GRvfk3d9Ppx68zHg4bOwo+Xy5ttRxu1mbijZVO71mXsq4Zjn1xJdZdxP5Ny0xN8Z89Lrl7twcdncEo25eynZX8Y9Xk5FQk5tRUqVSE69S07lTk4NUk41VU5dWE6FG6TU6kHOqwNIeT8BkPISBFD5TUvK65yUd8ZatWrVqvUf/QOEssj/yhWHvgAAAABJRU5ErkJggg=='/></td></tr>            <tr><td align='center'></td></tr></table></td><tr></tr></table></body>"
      ],
      "text/plain": [
       "<IPython.core.display.HTML object>"
      ]
     },
     "metadata": {},
     "output_type": "display_data"
    }
   ],
   "source": [
    "if testing:\n",
    "    H8_100 = ia.bwlp([100,100],8,100) # cutoff period: 8, order: 100\n",
    "    ia.adshow(ia.dftview(H8_100))"
   ]
  },
  {
   "cell_type": "code",
   "execution_count": 5,
   "metadata": {
    "ExecuteTime": {
     "end_time": "2017-07-02T19:46:12.517114",
     "start_time": "2017-07-02T19:46:12.506069"
    }
   },
   "outputs": [
    {
     "data": {
      "text/html": [
       "<head><style>        table, th, td { border: 0px solid black;        text-align: center;border-collapse: collapse;}</style></head>        <body><table border=\"0\"><td>            <table><tr><td><img src='data:image/png;base64,iVBORw0KGgoAAAANSUhEUgAAAGQAAABkCAAAAABVicqIAAACAElEQVR4nL3a23KDMAwEUCWl7f9/bnBvD2kCvkm7lhReAgTmzIqJsTwRecF2kS0f2UTes42ySbpS7sVKVYr8P5FEpcgDyVOKHIh85Bi7nJGcLEVqJCPLLi0Sn6U8ds6/9+As+3OvGlRClcNoRq5A5WS0w2OYcja6MThIqYx+oP+MMG71Yf82CciyN8eDV5ZbaY3he9FZsVt3ZvjydWXpckwQT5Y+xwxZV0bGdK6yWLFBrRRkLcswh4KsZBnn0BA+yySHirDK1NAnqVTFZrWyECbLPIeF4FmUHCaCKqphNw6QohtAdwIohoG0QKZiGVCfZSimgTVz6tyyaF8SiKYABtqWThXEgHvfiQIZeIM9vPDLcS96JWgwSwVv7Ylv9E5mPaK5Fs3BIXUWOAeJyPXY/SFuI5dvngpj0GtEl/vHL3UTvRB1FSFzVFXO2xaQyysQ7nksIvxGP3jymS8hfK14ZCUHi6wZHEKMicsIPravI6s5GGQ5B4E4DBjB5j4+xGWAiM/AEKcBIXZv4EfcBoD4DRsJMEwkwrCQEMNAtLWMKCQmh44E5VCRMENBomqlIXE55khgjikSmWOGxBpjJLRWEyQ4xxCJzjFC4o0eCa/VAEnI0SEpRoPkGDWSZFRIlnFGvPNEBEnLcULychxIYo4nkpnjgeQadyTZkO0Fxmv+qfYHESFeklBESZsAAAAASUVORK5CYII='/></td></tr>            <tr><td align='center'></td></tr></table></td><tr></tr></table></body>"
      ],
      "text/plain": [
       "<IPython.core.display.HTML object>"
      ]
     },
     "metadata": {},
     "output_type": "display_data"
    }
   ],
   "source": [
    "if testing:\n",
    "    H4_1box = ia.bwlp([100,100],4,1,'square') # cutoff period: 4, order: 1\n",
    "    ia.adshow(ia.dftview(H4_1box))"
   ]
  },
  {
   "cell_type": "markdown",
   "metadata": {},
   "source": [
    "### Example 2"
   ]
  },
  {
   "cell_type": "markdown",
   "metadata": {},
   "source": [
    "    f = adreadgray('cookies.pgm')\n",
    "    adshow(f)\n",
    "    F = fft.fft2(f)\n",
    "    adshow(iadftview(F))\n",
    "    H = iabwlp(F.shape,16,6)\n",
    "    adshow(iadftview(H))\n",
    "    G = F * H\n",
    "    adshow(iadftview(G))\n",
    "    g = fft.ifft2(G)\n",
    "    g = abs(g).astype(uint8)\n",
    "    adshow(g)"
   ]
  },
  {
   "cell_type": "markdown",
   "metadata": {},
   "source": [
    "## Equation"
   ]
  },
  {
   "cell_type": "markdown",
   "metadata": {},
   "source": [
    "$$ \\begin{matrix}    H(u,v) & = & \\frac{1}{1+ (\\sqrt{2}-1) (\\sqrt{(\\frac{u}{N})^2 + (\\frac{v}{M})^2} \\ \\ t_c)^{2n}} \\\\ (u,v) & \\in & \\{ -\\lfloor \\frac{N}{2}\\rfloor:N-\\lfloor \\frac{N}{2}\\rfloor - 1 , -\\lfloor \\frac{M}{2} \\rfloor:M-\\lfloor \\frac{M}{2}\\rfloor-1 \\} \\\\ t_c & \\in & \\{ 2 : \\max\\{N,M\\} \\}\n",
    "\\end{matrix} $$"
   ]
  },
  {
   "cell_type": "markdown",
   "metadata": {},
   "source": [
    "    \n",
    "    print 'testing iabwlp'\n",
    "    print `floor(0.5 + 1E4*iabwlp([5,8],2,3)) / 1E4` == `array(\n",
    "          [[ 0.9983,  0.9955,  0.9722,  0.8649,  0.6073,  0.8649,  0.9722,  0.9955],\n",
    "           [ 0.9021,  0.8744,  0.774 ,  0.5813,  0.3537,  0.5813,  0.774 ,  0.8744],\n",
    "           [ 0.9021,  0.8744,  0.774 ,  0.5813,  0.3537,  0.5813,  0.774 ,  0.8744],\n",
    "           [ 0.9983,  0.9955,  0.9722,  0.8649,  0.6073,  0.8649,  0.9722,  0.9955],\n",
    "           [ 1.    ,  0.9999,  0.9936,  0.9313,  0.7071,  0.9313,  0.9936,  0.9999]])`"
   ]
  }
 ],
 "metadata": {
  "kernelspec": {
   "display_name": "Python 3",
   "language": "python",
   "name": "python3"
  },
  "language_info": {
   "codemirror_mode": {
    "name": "ipython",
    "version": 3
   },
   "file_extension": ".py",
   "mimetype": "text/x-python",
   "name": "python",
   "nbconvert_exporter": "python",
   "pygments_lexer": "ipython3",
   "version": "3.6.2"
  },
  "toc": {
   "colors": {
    "hover_highlight": "#DAA520",
    "running_highlight": "#FF0000",
    "selected_highlight": "#FFD700"
   },
   "moveMenuLeft": true,
   "nav_menu": {
    "height": "12px",
    "width": "252px"
   },
   "navigate_menu": true,
   "number_sections": true,
   "sideBar": true,
   "threshold": 4,
   "toc_cell": false,
   "toc_section_display": "block",
   "toc_window_display": false
  }
 },
 "nbformat": 4,
 "nbformat_minor": 2
}
