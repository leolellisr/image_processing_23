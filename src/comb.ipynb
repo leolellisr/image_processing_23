{
 "cells": [
  {
   "cell_type": "markdown",
   "metadata": {},
   "source": [
    "# Function comb\n",
    "\n",
    "## Synopse\n",
    "\n",
    "Create a grid of impulses image.\n",
    "\n",
    "- **g = comb(shape, delta, offset)**\n",
    "\n",
    "  - **g**: Image. \n",
    "\n",
    "\n",
    "  - **shape**: Image. output image dimensions (1-D, 2-D or 3-D).\n",
    "  - **delta**: Image. interval between the impulses in each dimension (1-D, 2-D or 3-D).\n",
    "  - **offset**: Image. offset in each dimension (1-D, 2-D or 3-D)."
   ]
  },
  {
   "cell_type": "code",
   "execution_count": 1,
   "metadata": {
    "ExecuteTime": {
     "end_time": "2017-05-13T19:13:20.313812",
     "start_time": "2017-05-13T19:13:20.003838"
    }
   },
   "outputs": [],
   "source": [
    "import numpy as np\n",
    "def comb(shape, delta, offset):\n",
    "\n",
    "    shape = np.array(shape)\n",
    "    assert shape.size <= 3\n",
    "    g = np.zeros(shape) \n",
    "    if shape.size == 1:\n",
    "        g[offset::delta] = 1\n",
    "    elif shape.size == 2:\n",
    "        g[offset[0]::delta[0], offset[1]::delta[1]] = 1\n",
    "    elif shape.size == 3:\n",
    "        g[offset[0]::delta[0], offset[1]::delta[1], offset[2]::delta[2]] = 1\n",
    "    return g"
   ]
  },
  {
   "cell_type": "markdown",
   "metadata": {},
   "source": [
    "## Examples"
   ]
  },
  {
   "cell_type": "code",
   "execution_count": 1,
   "metadata": {
    "ExecuteTime": {
     "end_time": "2020-03-10T19:53:20.933848Z",
     "start_time": "2020-03-10T19:53:17.069030Z"
    }
   },
   "outputs": [
    {
     "name": "stderr",
     "output_type": "stream",
     "text": [
      "[NbConvertApp] Converting notebook comb.ipynb to python\n",
      "[NbConvertApp] Writing 3121 bytes to comb.py\n"
     ]
    }
   ],
   "source": [
    "testing = (__name__ == \"__main__\")\n",
    "if testing:\n",
    "    ! jupyter nbconvert --to python comb.ipynb\n",
    "    import numpy as np\n",
    "    import sys,os\n",
    "    import matplotlib.image as mpimg\n",
    "    ea979path = os.path.abspath('../../')\n",
    "    if ea979path not in sys.path:\n",
    "        sys.path.append(ea979path)\n",
    "    import ea979.src as ia"
   ]
  },
  {
   "cell_type": "markdown",
   "metadata": {},
   "source": [
    "### Example 1"
   ]
  },
  {
   "cell_type": "code",
   "execution_count": 2,
   "metadata": {
    "ExecuteTime": {
     "end_time": "2017-07-02T16:44:29.967612",
     "start_time": "2017-07-02T16:44:29.954397"
    }
   },
   "outputs": [
    {
     "name": "stdout",
     "output_type": "stream",
     "text": [
      "u1= [ 0.  0.  1.  0.  0.  1.  0.  0.  1.  0.]\n",
      "u2= [ 0.  0.  1.  0.  0.  1.  0.  0.  1.  0.]\n"
     ]
    }
   ],
   "source": [
    "if testing:\n",
    "    u1 = ia.comb(10, 3, 2)\n",
    "    print('u1=',u1)\n",
    "    u2 = ia.comb((10,), 3, 2)\n",
    "    print('u2=',u2)"
   ]
  },
  {
   "cell_type": "markdown",
   "metadata": {},
   "source": [
    "### Example 2"
   ]
  },
  {
   "cell_type": "code",
   "execution_count": 3,
   "metadata": {
    "ExecuteTime": {
     "end_time": "2017-07-02T16:44:31.711484",
     "start_time": "2017-07-02T16:44:31.701352"
    }
   },
   "outputs": [
    {
     "name": "stdout",
     "output_type": "stream",
     "text": [
      "u3=\n",
      " [[ 0.  1.  0.  1.  0.  1.  0.  1.  0.]\n",
      " [ 0.  1.  0.  1.  0.  1.  0.  1.  0.]\n",
      " [ 0.  1.  0.  1.  0.  1.  0.  1.  0.]\n",
      " [ 0.  1.  0.  1.  0.  1.  0.  1.  0.]\n",
      " [ 0.  1.  0.  1.  0.  1.  0.  1.  0.]\n",
      " [ 0.  1.  0.  1.  0.  1.  0.  1.  0.]\n",
      " [ 0.  1.  0.  1.  0.  1.  0.  1.  0.]]\n"
     ]
    }
   ],
   "source": [
    "if testing:\n",
    "    u3 = ia.comb((7,9), (1,2), (0,1))\n",
    "    print('u3=\\n',u3)"
   ]
  },
  {
   "cell_type": "markdown",
   "metadata": {},
   "source": [
    "### Example 3"
   ]
  },
  {
   "cell_type": "code",
   "execution_count": 4,
   "metadata": {
    "ExecuteTime": {
     "end_time": "2017-07-02T16:44:34.739427",
     "start_time": "2017-07-02T16:44:34.728945"
    }
   },
   "outputs": [
    {
     "name": "stdout",
     "output_type": "stream",
     "text": [
      "[[[ 0.  0.  0.  0.  0.  0.  0.  0.  0.]\n",
      "  [ 0.  0.  0.  0.  0.  0.  0.  0.  0.]\n",
      "  [ 0.  0.  0.  0.  0.  0.  0.  0.  0.]\n",
      "  [ 0.  0.  0.  0.  0.  0.  0.  0.  0.]\n",
      "  [ 0.  0.  0.  0.  0.  0.  0.  0.  0.]]\n",
      "\n",
      " [[ 0.  1.  0.  1.  0.  1.  0.  1.  0.]\n",
      "  [ 0.  1.  0.  1.  0.  1.  0.  1.  0.]\n",
      "  [ 0.  1.  0.  1.  0.  1.  0.  1.  0.]\n",
      "  [ 0.  1.  0.  1.  0.  1.  0.  1.  0.]\n",
      "  [ 0.  1.  0.  1.  0.  1.  0.  1.  0.]]\n",
      "\n",
      " [[ 0.  0.  0.  0.  0.  0.  0.  0.  0.]\n",
      "  [ 0.  0.  0.  0.  0.  0.  0.  0.  0.]\n",
      "  [ 0.  0.  0.  0.  0.  0.  0.  0.  0.]\n",
      "  [ 0.  0.  0.  0.  0.  0.  0.  0.  0.]\n",
      "  [ 0.  0.  0.  0.  0.  0.  0.  0.  0.]]\n",
      "\n",
      " [[ 0.  1.  0.  1.  0.  1.  0.  1.  0.]\n",
      "  [ 0.  1.  0.  1.  0.  1.  0.  1.  0.]\n",
      "  [ 0.  1.  0.  1.  0.  1.  0.  1.  0.]\n",
      "  [ 0.  1.  0.  1.  0.  1.  0.  1.  0.]\n",
      "  [ 0.  1.  0.  1.  0.  1.  0.  1.  0.]]]\n"
     ]
    }
   ],
   "source": [
    "if testing:\n",
    "    u4 = ia.comb((4,5,9), (2,1,2), (1,0,1))\n",
    "    print(u4)\n"
   ]
  },
  {
   "cell_type": "markdown",
   "metadata": {},
   "source": [
    "## Equation\n",
    "\n",
    "One dimension:\n",
    "\n",
    "$$ \\begin{matrix} u(x)=\\sum _{i=0}^{\\infty}\\delta \\left( x-\\left( ki+o\\right) \\right)\\\\\n",
    "    x\\in [0,S_0-1]\n",
    "    \\end{matrix}\n",
    "    $$"
   ]
  },
  {
   "cell_type": "markdown",
   "metadata": {},
   "source": [
    "$$\\begin{matrix}\n",
    "    where\\quad \\delta (i)=\\left\\{ \\begin{array}{ll}\n",
    "    1, & i=0\\\\\n",
    "    0, & otherwise\n",
    "    \\end{array}\\right.\n",
    "    \\end{matrix}\n",
    "    $$"
   ]
  },
  {
   "cell_type": "markdown",
   "metadata": {},
   "source": [
    "N-dimension:\n",
    "\n",
    "$$\n",
    "\\begin{matrix}\n",
    "u\\left( x_{0},x_{1},\\cdots ,x_{N-1}\\right) =\\sum _{i_{0}=0}^{\\infty}\\sum _{i_{1}=0}^{\\infty}\\cdots \\sum _{i_{N-1}=0}^{\\infty}\\delta \\left( x_{0}-\\left( k_{0}i_{0}+o_{0}\\right) ,x_{1}-\\left( k_{1}i_{1}+o_{1}\\right) ,\\cdots ,x_{N-1}-\\left(k_{N-1}i_{N-1}+o_{N-1}\\right) \\right)\\\\\n",
    "    \\left( x_{0},x_{1},\\cdots ,x_{N-1}\\right) \\in \\left[ \\left( 0,0,\\cdots ,0\\right) ,\\left( S_{0}-1,S_{1}-1,\\cdots ,S_{N-1}-1\\right) \\right]\n",
    "    \\end{matrix} $$"
   ]
  },
  {
   "cell_type": "markdown",
   "metadata": {},
   "source": [
    "$$\\begin{matrix}\n",
    "    where\\quad \\delta (i_0,i_1,\\ldots,i_{N-1})=\\left\\{ \\begin{array}{ll}\n",
    "    1, & i_0=i_1=i_2=\\ldots=i_{N-1}=0\\\\\n",
    "    0, & otherwise\n",
    "    \\end{array}\\right.\n",
    "    \\end{matrix}\n",
    "    $$"
   ]
  },
  {
   "cell_type": "code",
   "execution_count": 5,
   "metadata": {
    "ExecuteTime": {
     "end_time": "2017-07-02T16:44:41.327361",
     "start_time": "2017-07-02T16:44:41.309213"
    }
   },
   "outputs": [
    {
     "name": "stdout",
     "output_type": "stream",
     "text": [
      "testing comb\n",
      "True\n",
      "True\n"
     ]
    }
   ],
   "source": [
    "if testing:\n",
    "    print('testing comb')\n",
    "    print(repr(ia.comb(10, 3, 2)) == repr(np.array(\n",
    "           [0., 0., 1., 0., 0., 1., 0., 0., 1., 0.])))\n",
    "    print(repr(ia.comb((7,9), (3,4), (3,2))) == repr(np.array(\n",
    "          [[0., 0., 0., 0., 0., 0., 0., 0., 0.],\n",
    "           [0., 0., 0., 0., 0., 0., 0., 0., 0.],\n",
    "           [0., 0., 0., 0., 0., 0., 0., 0., 0.],\n",
    "           [0., 0., 1., 0., 0., 0., 1., 0., 0.],\n",
    "           [0., 0., 0., 0., 0., 0., 0., 0., 0.],\n",
    "           [0., 0., 0., 0., 0., 0., 0., 0., 0.],\n",
    "           [0., 0., 1., 0., 0., 0., 1., 0., 0.]])))"
   ]
  },
  {
   "cell_type": "code",
   "execution_count": null,
   "metadata": {
    "collapsed": true
   },
   "outputs": [],
   "source": []
  },
  {
   "cell_type": "code",
   "execution_count": null,
   "metadata": {
    "collapsed": true
   },
   "outputs": [],
   "source": []
  }
 ],
 "metadata": {
  "kernelspec": {
   "display_name": "Python 3",
   "language": "python",
   "name": "python3"
  },
  "language_info": {
   "codemirror_mode": {
    "name": "ipython",
    "version": 3
   },
   "file_extension": ".py",
   "mimetype": "text/x-python",
   "name": "python",
   "nbconvert_exporter": "python",
   "pygments_lexer": "ipython3",
   "version": "3.6.2"
  },
  "toc": {
   "colors": {
    "hover_highlight": "#DAA520",
    "running_highlight": "#FF0000",
    "selected_highlight": "#FFD700"
   },
   "moveMenuLeft": true,
   "nav_menu": {
    "height": "138px",
    "width": "252px"
   },
   "navigate_menu": true,
   "number_sections": true,
   "sideBar": true,
   "threshold": 4,
   "toc_cell": false,
   "toc_section_display": "block",
   "toc_window_display": false
  }
 },
 "nbformat": 4,
 "nbformat_minor": 2
}
