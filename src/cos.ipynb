{
 "cells": [
  {
   "cell_type": "markdown",
   "metadata": {
    "toc": "true"
   },
   "source": [
    "# Table of Contents\n",
    " <p><div class=\"lev1 toc-item\"><a href=\"#Function-cos\" data-toc-modified-id=\"Function-cos-1\"><span class=\"toc-item-num\">1&nbsp;&nbsp;</span>Function cos</a></div><div class=\"lev2 toc-item\"><a href=\"#Synopse\" data-toc-modified-id=\"Synopse-11\"><span class=\"toc-item-num\">1.1&nbsp;&nbsp;</span>Synopse</a></div><div class=\"lev2 toc-item\"><a href=\"#Description\" data-toc-modified-id=\"Description-12\"><span class=\"toc-item-num\">1.2&nbsp;&nbsp;</span>Description</a></div><div class=\"lev2 toc-item\"><a href=\"#Examples\" data-toc-modified-id=\"Examples-13\"><span class=\"toc-item-num\">1.3&nbsp;&nbsp;</span>Examples</a></div><div class=\"lev3 toc-item\"><a href=\"#Example-1\" data-toc-modified-id=\"Example-1-131\"><span class=\"toc-item-num\">1.3.1&nbsp;&nbsp;</span>Example 1</a></div><div class=\"lev2 toc-item\"><a href=\"#Equation\" data-toc-modified-id=\"Equation-14\"><span class=\"toc-item-num\">1.4&nbsp;&nbsp;</span>Equation</a></div><div class=\"lev2 toc-item\"><a href=\"#See-Also\" data-toc-modified-id=\"See-Also-15\"><span class=\"toc-item-num\">1.5&nbsp;&nbsp;</span>See Also</a></div>"
   ]
  },
  {
   "cell_type": "markdown",
   "metadata": {},
   "source": [
    "# Function cos\n",
    "\n",
    "## Synopse\n",
    "\n",
    "Create a cosine wave image.\n",
    "\n",
    "- **f = iacos(s, t, theta, phi)**\n",
    "\n",
    "  - **f**: Image. \n",
    "\n",
    "\n",
    "  - **s**: Image. size: [rows cols].\n",
    "  - **t**: Image. Period: in pixels.\n",
    "  - **theta**: Double. spatial direction of the wave, in radians. 0 is a wave on the horizontal direction.\n",
    "  - **phi**: Double. Phase"
   ]
  },
  {
   "cell_type": "code",
   "execution_count": 2,
   "metadata": {
    "ExecuteTime": {
     "end_time": "2017-07-02T22:43:57.746882",
     "start_time": "2017-07-02T22:43:57.734798"
    },
    "collapsed": true
   },
   "outputs": [],
   "source": [
    "import numpy as np\n",
    "\n",
    "def cos(s, t, theta, phi):\n",
    "    r, c = np.indices(s)\n",
    "    tc = t / np.cos(theta)\n",
    "    tr = t / np.sin(theta)\n",
    "    f = np.cos(2*np.pi*(r/tr + c/tc) + phi)\n",
    "    return f"
   ]
  },
  {
   "cell_type": "markdown",
   "metadata": {},
   "source": [
    "## Description\n",
    "\n",
    "Generate a cosine wave image of size s with amplitude 1, period T, phase phi and wave direction of theta. The output image is a double array."
   ]
  },
  {
   "cell_type": "markdown",
   "metadata": {},
   "source": [
    "## Examples"
   ]
  },
  {
   "cell_type": "code",
   "execution_count": 1,
   "metadata": {
    "ExecuteTime": {
     "end_time": "2020-03-10T19:54:38.149546Z",
     "start_time": "2020-03-10T19:54:34.005659Z"
    }
   },
   "outputs": [
    {
     "name": "stderr",
     "output_type": "stream",
     "text": [
      "[NbConvertApp] Converting notebook cos.ipynb to python\n",
      "[NbConvertApp] Writing 3916 bytes to cos.py\n"
     ]
    }
   ],
   "source": [
    "testing = (__name__ == \"__main__\")\n",
    "if testing:\n",
    "    ! jupyter nbconvert --to python cos.ipynb\n",
    "    import numpy as np\n",
    "    import sys,os\n",
    "    ea979path = os.path.abspath('../../')\n",
    "    if ea979path not in sys.path:\n",
    "        sys.path.append(ea979path)\n",
    "    import ea979.src as ia"
   ]
  },
  {
   "cell_type": "markdown",
   "metadata": {},
   "source": [
    "### Example 1"
   ]
  },
  {
   "cell_type": "code",
   "execution_count": 2,
   "metadata": {
    "ExecuteTime": {
     "end_time": "2017-07-02T22:45:34.575744",
     "start_time": "2017-07-02T22:45:34.527782"
    }
   },
   "outputs": [
    {
     "data": {
      "text/html": [
       "<head><style>        table, th, td { border: 0px solid black;        text-align: center;border-collapse: collapse;}</style></head>        <body><table border=\"0\"><td>            <table><tr><td><img src='data:image/png;base64,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'/></td></tr>            <tr><td align='center'></td></tr></table></td><tr></tr></table></body>"
      ],
      "text/plain": [
       "<IPython.core.display.HTML object>"
      ]
     },
     "metadata": {},
     "output_type": "display_data"
    }
   ],
   "source": [
    "if testing:\n",
    "\n",
    "    f = ia.cos([128,256], 100, np.pi/3, 0)\n",
    "    ia.adshow(ia.normalize(f, [0,255]))"
   ]
  },
  {
   "cell_type": "markdown",
   "metadata": {},
   "source": [
    "## Equation\n",
    "\n",
    "$$ \\begin{matrix}\n",
    "    f(r,c) & = & cos( 2\\pi (\\frac{1}{T_r}r + \\frac{1}{T_c}c) + \\phi) \\\\\n",
    "    f(r,c) & = & cos( 2\\pi (\\frac{v}{H}r + \\frac{u}{W}c) + \\phi) \\\\\n",
    "    T_r    & = & \\frac{T}{sin(\\theta)} \\\\\n",
    "    T_c    & = & \\frac{T}{cos(\\theta)} \\\\\n",
    "    u   & = & \\frac{W}{T_c} \\\\\n",
    "    v   & = & \\frac{H}{T_r}\n",
    "\\end{matrix} $$\n",
    "\n",
    "- $\\theta$ is the direction of the cosine wave.\n",
    "- $T$ is the wave period, in number of pixels.\n",
    "- $T_r$ and $T_c$ are the period or wave length in the vertical and horizontal directions, respectively, in number of pixels.\n",
    "- $H$ and $W$ are the number of image rows and columns, respectively. \n",
    "- $v$ and $u$ are the normalized frequency in the horizontal and vertical directions, respectively, in cycles per image dimension."
   ]
  },
  {
   "cell_type": "markdown",
   "metadata": {},
   "source": [
    "## See Also\n",
    "\n",
    "- `iacosdemo iacosdemo` -- Illustrate discrete cosine wave and its DFT showing its periodic nature."
   ]
  },
  {
   "cell_type": "code",
   "execution_count": 3,
   "metadata": {
    "ExecuteTime": {
     "end_time": "2017-07-02T22:45:47.384173",
     "start_time": "2017-07-02T22:45:47.365275"
    }
   },
   "outputs": [
    {
     "name": "stdout",
     "output_type": "stream",
     "text": [
      "testing cos\n",
      "True\n"
     ]
    }
   ],
   "source": [
    "if testing:\n",
    "    print('testing cos')\n",
    "    print(repr(np.floor(0.5 + 127*(ia.cos([7,10], 3, np.pi/4, 0)+1))) == repr(np.array(\n",
    "          [[ 254.,  138.,    2.,   93.,  246.,  182.,   18.,   52.,  223.,  219.],\n",
    "           [ 138.,    2.,   93.,  246.,  182.,   18.,   52.,  223.,  219.,   48.],\n",
    "           [   2.,   93.,  246.,  182.,   18.,   52.,  223.,  219.,   48.,   21.],\n",
    "           [  93.,  246.,  182.,   18.,   52.,  223.,  219.,   48.,   21.,  187.],\n",
    "           [ 246.,  182.,   18.,   52.,  223.,  219.,   48.,   21.,  187.,  244.],\n",
    "           [ 182.,   18.,   52.,  223.,  219.,   48.,   21.,  187.,  244.,   88.],\n",
    "           [  18.,   52.,  223.,  219.,   48.,   21.,  187.,  244.,   88.,    3.]])))"
   ]
  },
  {
   "cell_type": "code",
   "execution_count": null,
   "metadata": {
    "collapsed": true
   },
   "outputs": [],
   "source": []
  }
 ],
 "metadata": {
  "kernelspec": {
   "display_name": "Python 3",
   "language": "python",
   "name": "python3"
  },
  "language_info": {
   "codemirror_mode": {
    "name": "ipython",
    "version": 3
   },
   "file_extension": ".py",
   "mimetype": "text/x-python",
   "name": "python",
   "nbconvert_exporter": "python",
   "pygments_lexer": "ipython3",
   "version": "3.6.2"
  },
  "toc": {
   "colors": {
    "hover_highlight": "#DAA520",
    "running_highlight": "#FF0000",
    "selected_highlight": "#FFD700"
   },
   "moveMenuLeft": true,
   "nav_menu": {
    "height": "30px",
    "width": "252px"
   },
   "navigate_menu": true,
   "number_sections": true,
   "sideBar": true,
   "threshold": 4,
   "toc_cell": true,
   "toc_section_display": "block",
   "toc_window_display": false
  }
 },
 "nbformat": 4,
 "nbformat_minor": 2
}
