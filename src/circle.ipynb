{
 "cells": [
  {
   "cell_type": "markdown",
   "metadata": {},
   "source": [
    "# Function circle\n",
    "\n",
    "## Synopse\n",
    "\n",
    "This function creates a binary circle image.\n",
    "\n",
    "- **g = circle(s, r, c)**\n",
    "\n",
    "    - **g**:output: circle image.\n",
    "    - **s**:input: Image. [rows cols], output image dimensions.\n",
    "    - **r**:input: Double. radius.\n",
    "    - **c**:input: Image. [row0 col0], center of the circle.\n",
    "    "
   ]
  },
  {
   "cell_type": "code",
   "execution_count": 18,
   "metadata": {
    "collapsed": true
   },
   "outputs": [],
   "source": [
    "import numpy as np\n",
    "def circle(s, r, c):\n",
    "    \n",
    "    rows, cols = s[0], s[1]\n",
    "    rr0,  cc0  = c[0], c[1]\n",
    "    rr, cc = np.meshgrid(range(rows), range(cols), indexing='ij')\n",
    "    g = (rr - rr0)**2 + (cc - cc0)**2 <= r**2\n",
    "    return g"
   ]
  },
  {
   "cell_type": "markdown",
   "metadata": {},
   "source": [
    "## Description\n",
    "\n",
    "Creates a binary image with dimensions given by s, radius given by r and center given by c. The pixels inside the circle are one and outside zero."
   ]
  },
  {
   "cell_type": "markdown",
   "metadata": {},
   "source": [
    "## Equation\n",
    "\n",
    "$$ g(x,y) = (x-x_c)^2 + (y-y_c)^2 \\leq r^2 $$"
   ]
  },
  {
   "cell_type": "markdown",
   "metadata": {},
   "source": [
    "## Examples"
   ]
  },
  {
   "cell_type": "code",
   "execution_count": 1,
   "metadata": {
    "ExecuteTime": {
     "end_time": "2020-03-10T19:52:43.905919Z",
     "start_time": "2020-03-10T19:52:39.170762Z"
    }
   },
   "outputs": [
    {
     "name": "stderr",
     "output_type": "stream",
     "text": [
      "[NbConvertApp] Converting notebook circle.ipynb to python\n",
      "[NbConvertApp] Writing 1585 bytes to circle.py\n"
     ]
    }
   ],
   "source": [
    "testing = (__name__ == \"__main__\")\n",
    "if testing:\n",
    "    ! jupyter nbconvert --to python circle.ipynb\n",
    "    import numpy as np\n",
    "    import sys,os\n",
    "    ea979path = os.path.abspath('../../')\n",
    "    if ea979path not in sys.path:\n",
    "        sys.path.append(ea979path)\n",
    "    import ea979.src as ia"
   ]
  },
  {
   "cell_type": "markdown",
   "metadata": {},
   "source": [
    "## Showing a numerical example"
   ]
  },
  {
   "cell_type": "code",
   "execution_count": 2,
   "metadata": {
    "ExecuteTime": {
     "end_time": "2017-07-02T17:04:12.776716",
     "start_time": "2017-07-02T17:04:12.763416"
    }
   },
   "outputs": [
    {
     "name": "stdout",
     "output_type": "stream",
     "text": [
      "[[0 0 0 1 0 0 0]\n",
      " [0 0 1 1 1 0 0]\n",
      " [0 1 1 1 1 1 0]\n",
      " [0 0 1 1 1 0 0]\n",
      " [0 0 0 1 0 0 0]]\n"
     ]
    }
   ],
   "source": [
    "if testing:\n",
    "    F = ia.circle([5,7], 2, [2,3])\n",
    "    print (F.astype(np.uint8))"
   ]
  },
  {
   "cell_type": "markdown",
   "metadata": {},
   "source": [
    "## Printing the generated image"
   ]
  },
  {
   "cell_type": "code",
   "execution_count": 4,
   "metadata": {
    "ExecuteTime": {
     "end_time": "2017-07-02T17:04:31.806663",
     "start_time": "2017-07-02T17:04:31.661144"
    }
   },
   "outputs": [
    {
     "data": {
      "text/html": [
       "<head><style>        table, th, td { border: 0px solid black;        text-align: center;border-collapse: collapse;}</style></head>        <body><table border=\"0\"><td>            <table><tr><td><img src='data:image/png;base64,iVBORw0KGgoAAAANSUhEUgAAASwAAADICAAAAAB3tIOJAAAD10lEQVR4nO2dW25VQRADgf3vGX4QXwHhtO3uiao20J46nrnnISXfvgEAAAAAAAz5uR3gQ75vB/jDP/xcCXkix3/16EDS7QjiftuNuzr9UyfTYuK90YMzfCv00tzxr91K7pWhlhuDheT9kcZbqHb49jzz3WY3fnda4Ma8uYDmrNAzTG8JP2qTYs97vefI2mWJLqm0itKY+NWvrKOzDfM7pbIXG1ekdKjkl1JoVusAzs+JX47qO8/watLN6r4fDk8Ly2q/S8/Oy8rqf3eITozK2vhGk5wZPBLXPmfF1pRr1t6nv9jkmKzNz6Sp2SlZu5+UQ9NDsrY/v2fmZ2RtuwoliMjad5XJkJB1wVUkRfG18vsEZN0oViKHX9YVV4Ekdll3XPmzuGVdcmVPY5Z1y5U7D7+GAl5Z14plTmSVdc+VNxPbUMAp62KxrKmMsm66cuZiGwr4ZF0tljEZzRKwybpbLF82l6zLrmzp2IYCJlm3i+XKR7MEPLKuF8uUkGYJWGTdL5YnI80SQJaAQ9YLu9CSkmYJGGS9USxHTpolgCyBuaxXdqEhKc0SQJbAWNY7u3CelWYJIEtgKuulXThOS7MEkCWALAFkCQxlvXW+T/PSLAFkCSBLAFkCM1mvne/DxDRLAFkCyBJAlgCyBJAlgCwBZAkgSwBZAsgSQJbASNZ7z9GzzCNZ2/+05zNMMrMNBZAlgCwBZAkgSwBZAsgSQJYAsgSQJYAsAWQJzGS99yQ9SkyzBJAlgCwBZAkMZb12ws/y0iwBZAkgSwBZAlNZb53ww7Q0SwBZAmNZL+3DaVaaJYAsgbmsd/bhOCnNEkCWgEHWK/twnpNmCThkvVEtQ0qaJYAsAYusF/ahIyPNEvDIul8tS0KaJWCSdb1annw0S8Al63a1TOlszbpsy5WNbSjgk3W3WrZkNEvAKOtqtXy5nM26acuYim0oYJV1sVrOTN5m3bNlTcQ2FDDLulYtbx53s27ZMqexb8NLttxZ/GfWHVv2JIED/ootfw5+DQUSsm5UK5Ai0qwLthIZMttw31YkQejM2raVmZ864HdthabHfg03baVm524d9mzFJkeXtPI3AYMrit6UbpQrOTN7B9+3FZ0Yftxp28rOSz8bdm2FpxUWUzvm42spvHVolSs/p7OSQrkaC+m8z/oiF712AEfLVVpF8dcqpqu2huJr5dSaete7ex8UKFdzAe1bbLOuL3XP+wFGXV/rYeovWHwtJF96RTfWtZJ7733mwNdW6NUPC5/ytZh4+5uV6OtLfjTS+C9jB5IeiPCbfxi7E/IkL/6vKAAAAACAAr8A+htsRo6ArBoAAAAASUVORK5CYII='/></td></tr>            <tr><td align='center'>circle</td></tr></table></td><tr></tr></table></body>"
      ],
      "text/plain": [
       "<IPython.core.display.HTML object>"
      ]
     },
     "metadata": {},
     "output_type": "display_data"
    }
   ],
   "source": [
    "if testing:\n",
    "    import matplotlib.pyplot as plt\n",
    "    import matplotlib.image as mpimg\n",
    "    %matplotlib inline\n",
    "    f = ia.circle([200,300], 90, [100,150])\n",
    "    ia.adshow(f,'circle')"
   ]
  },
  {
   "cell_type": "markdown",
   "metadata": {},
   "source": [
    "## Contributions\n",
    "\n",
    "Luis Antonio Prado, 1st semester 2017"
   ]
  }
 ],
 "metadata": {
  "kernelspec": {
   "display_name": "Python 3",
   "language": "python",
   "name": "python3"
  },
  "language_info": {
   "codemirror_mode": {
    "name": "ipython",
    "version": 3
   },
   "file_extension": ".py",
   "mimetype": "text/x-python",
   "name": "python",
   "nbconvert_exporter": "python",
   "pygments_lexer": "ipython3",
   "version": "3.6.2"
  },
  "toc": {
   "colors": {
    "hover_highlight": "#DAA520",
    "running_highlight": "#FF0000",
    "selected_highlight": "#FFD700"
   },
   "moveMenuLeft": true,
   "nav_menu": {
    "height": "156px",
    "width": "252px"
   },
   "navigate_menu": true,
   "number_sections": true,
   "sideBar": true,
   "threshold": 4,
   "toc_cell": false,
   "toc_section_display": "block",
   "toc_window_display": false
  }
 },
 "nbformat": 4,
 "nbformat_minor": 2
}
