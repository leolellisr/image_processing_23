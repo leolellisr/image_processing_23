{
 "cells": [
  {
   "cell_type": "markdown",
   "metadata": {},
   "source": [
    "# sat - Summed Area Table (integral image)"
   ]
  },
  {
   "cell_type": "markdown",
   "metadata": {},
   "source": [
    "## Synopse"
   ]
  },
  {
   "cell_type": "markdown",
   "metadata": {},
   "source": [
    "The `sat` function is used to calculate from a given grayscale image, the summed area table (integral image).\n",
    "\n",
    "- **g = iasat(f)**\n",
    "    - **Output**\n",
    "        - **g**: ndarray with the summed area table.\n",
    "      \n",
    "    - **Input**\n",
    "        - **f**: ndarray with a grayscale image.\n",
    "          "
   ]
  },
  {
   "cell_type": "markdown",
   "metadata": {},
   "source": [
    "## Description"
   ]
  },
  {
   "cell_type": "markdown",
   "metadata": {},
   "source": [
    "The Integral Image is used as a quick and effective way of calculating the sum of values \n",
    "(pixel values) in a given image or a rectangular subset of a grid (the given image). \n",
    "It can also, or is mainly, used for calculating the average intensity within a given image. "
   ]
  },
  {
   "cell_type": "code",
   "execution_count": 16,
   "metadata": {
    "ExecuteTime": {
     "end_time": "2017-05-31T23:08:03.559948",
     "start_time": "2017-05-31T23:08:03.549720"
    }
   },
   "outputs": [],
   "source": [
    "def sat(f):\n",
    "    return f.cumsum(axis=1).cumsum(axis=0)\n",
    "\n",
    "def satarea(sat,r0_c0,r1_c1):\n",
    "    a,b,c,d = 0,0,0,0\n",
    "    r0,c0 = r0_c0\n",
    "    r1,c1 = r1_c1\n",
    "    if ((r0 - 1 >= 0) and (c0 - 1 >= 0)):\n",
    "        a = sat[r0-1,c0-1]\n",
    "    if (r0 - 1 >= 0):\n",
    "        b = sat[r0-1,c1]\n",
    "    if (c0 - 1 >= 0):\n",
    "        c = sat[r1,c0-1]\n",
    "    d = sat[r1,c1]\n",
    "    return a + d - c - b\n"
   ]
  },
  {
   "cell_type": "markdown",
   "metadata": {},
   "source": [
    "## Examples"
   ]
  },
  {
   "cell_type": "code",
   "execution_count": 1,
   "metadata": {
    "ExecuteTime": {
     "end_time": "2020-03-10T20:24:14.191355Z",
     "start_time": "2020-03-10T20:24:10.411897Z"
    }
   },
   "outputs": [
    {
     "name": "stderr",
     "output_type": "stream",
     "text": [
      "[NbConvertApp] Converting notebook sat.ipynb to python\n",
      "[NbConvertApp] Writing 3828 bytes to sat.py\n"
     ]
    }
   ],
   "source": [
    "testing = (__name__ == \"__main__\")\n",
    "if testing:\n",
    "    ! jupyter nbconvert --to python sat.ipynb\n",
    "    %matplotlib inline\n",
    "    import numpy as np\n",
    "    import sys,os\n",
    "    ea979path = os.path.abspath('../../')\n",
    "    if ea979path not in sys.path:\n",
    "        sys.path.append(ea979path)\n",
    "    import ea979.src as ia\n",
    "    import matplotlib.image as mpimg"
   ]
  },
  {
   "cell_type": "markdown",
   "metadata": {},
   "source": [
    "### Numerical example:"
   ]
  },
  {
   "cell_type": "code",
   "execution_count": 2,
   "metadata": {
    "ExecuteTime": {
     "end_time": "2017-07-02T22:30:21.622323",
     "start_time": "2017-07-02T22:30:21.602407"
    }
   },
   "outputs": [
    {
     "name": "stdout",
     "output_type": "stream",
     "text": [
      "f (input):\n",
      " [[0 1 1 0 0 0 0 0 0]\n",
      " [1 0 0 0 0 0 0 1 0]\n",
      " [1 0 0 1 0 0 0 1 0]\n",
      " [0 0 0 0 0 1 1 0 0]]\n",
      "s (output):\n",
      " [[0 1 2 2 2 2 2 2 2]\n",
      " [1 2 3 3 3 3 3 4 4]\n",
      " [2 3 4 5 5 5 5 7 7]\n",
      " [2 3 4 5 5 6 7 9 9]]\n",
      "area: 9.0\n"
     ]
    }
   ],
   "source": [
    "if testing:    \n",
    "    f = np.array([[0,1,1,0,0,0,0,0,0],\n",
    "                  [1,0,0,0,0,0,0,1,0],\n",
    "                  [1,0,0,1,0,0,0,1,0],\n",
    "                  [0,0,0,0,0,1,1,0,0]], dtype=np.uint8)\n",
    "\n",
    "    s = ia.sat(f)\n",
    "    print('f (input):\\n',f)\n",
    "    print('s (output):\\n',s)\n",
    "    a = ia.satarea(s,(0,0),(3,8))\n",
    "    print('area:',a)"
   ]
  },
  {
   "cell_type": "markdown",
   "metadata": {},
   "source": [
    "### Image example\n",
    "    "
   ]
  },
  {
   "cell_type": "code",
   "execution_count": 3,
   "metadata": {
    "ExecuteTime": {
     "end_time": "2017-07-02T22:30:34.267765",
     "start_time": "2017-07-02T22:30:34.203987"
    }
   },
   "outputs": [
    {
     "data": {
      "text/html": [
       "<head><style>                table, th, td { border: 0px solid black;                text-align: center;border-collapse: collapse;}</style></head>                <body><table border=\"0\"><tr><td>                    <table><tr><td><img src='data:image/png;base64,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'/></td></tr>                    <tr><td align='center'>Original Image</td></tr></table></td><td>                    <table><tr><td><img src='data:image/png;base64,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'/></td></tr>                    <tr><td align='center'>Integral Image</td></tr></table></td><tr></tr></table></body>"
      ],
      "text/plain": [
       "<IPython.core.display.HTML object>"
      ]
     },
     "metadata": {},
     "output_type": "display_data"
    }
   ],
   "source": [
    "if testing:\n",
    "    f = mpimg.imread('../data/lenina.pgm')[::2,::2]   \n",
    "    nb = ia.nbshow(2)\n",
    "    nb.nbshow(f, 'Original Image')\n",
    "    nb.nbshow(ia.normalize(ia.sat(f)), 'Integral Image')\n",
    "    nb.nbshow()"
   ]
  },
  {
   "cell_type": "markdown",
   "metadata": {},
   "source": [
    "### Calculating a rectangle area with SAT (Summed Area Table)"
   ]
  },
  {
   "cell_type": "code",
   "execution_count": 4,
   "metadata": {
    "ExecuteTime": {
     "end_time": "2017-07-02T22:31:10.436299",
     "start_time": "2017-07-02T22:31:10.385523"
    }
   },
   "outputs": [
    {
     "name": "stdout",
     "output_type": "stream",
     "text": [
      "Area Total:  1453842.0\n",
      "Area Top-left:  287879.0\n",
      "Area Bot-left:  462490.0\n",
      "Area Top-right:  309879.0\n",
      "Area Bot-right:  393594\n",
      "Area Total: 1453842.0\n"
     ]
    }
   ],
   "source": [
    "if testing:\n",
    "    f = mpimg.imread('../data/lenina.pgm')[::2,::2]\n",
    "    H,W = f.shape\n",
    "    s = ia.sat(f)\n",
    "    a0 = ia.satarea(s,(0,0),(H-1,W-1))\n",
    "    atopleft  = ia.satarea(s,(   0,0   ),(H//2-1,W//2-1))\n",
    "    abotleft  = ia.satarea(s,(H//2,0   ),(H-1,   W//2-1))\n",
    "    atopright = ia.satarea(s,(   0,W//2),(H//2-1,W-1))\n",
    "    abotright = ia.satarea(s,(H//2,W//2),(H-1,   W-1))\n",
    "    print('Area Total: ', a0)\n",
    "    print('Area Top-left: ', atopleft)\n",
    "    print('Area Bot-left: ', abotleft)\n",
    "    print('Area Top-right: ', atopright)\n",
    "    print('Area Bot-right: ', abotright)\n",
    "    print('Area Total:', atopleft+abotleft+atopright+abotright)\n"
   ]
  },
  {
   "cell_type": "markdown",
   "metadata": {},
   "source": [
    "## Equation"
   ]
  },
  {
   "cell_type": "markdown",
   "metadata": {},
   "source": [
    "The summed area table is the sum of all the pixels above and to the left of ``(r, c)``, inclusive:\n",
    "\n",
    "$$    s(r,c) = \\sum_{r'=0}^{r}\\sum_{c'=0}^{c} f(r',c') $$\n",
    "\n",
    "\n",
    "It can be computed with a single pass over the image in a raster order scanning:\n",
    "$$    \n",
    "    s(r,c) = f(r,c) + s(r,c-1) + s(r-1,c) - s(r-1,c-1)\n",
    "$$\n",
    "\n",
    "To calculate the integral over a rectangle ``(r0,c0)-(r1,c1)``, you need to operate on just four points:\n",
    "\n",
    "$$    \\begin{array}{l}\n",
    "    \\sum_{r'=r_0}^{r_1}\\sum_{c'=c_0}^{c_1} f(r',c') = s(r_0-1,c_0-1) - s(r_0-1,c_1) - s(r_1,c_0-1) + s(r_1,c_1)\\\\\n",
    "    \\\\\n",
    "    s(r,c)=0 \\ \\text{if}\\ r < 0 \\ \\text{or}\\ c < 0\n",
    "    \\end{array}\n",
    "$$\n",
    "- $f$ is the input image.\n",
    "- $s$ is the summed area table array."
   ]
  },
  {
   "cell_type": "markdown",
   "metadata": {},
   "source": [
    "## References"
   ]
  },
  {
   "cell_type": "markdown",
   "metadata": {},
   "source": [
    "- [Summed Area Table (Wikipedia)](http://en.wikipedia.org/wiki/Summed_area_table)\n",
    "- [Computer Vision - The Integral Image](http://computersciencesource.wordpress.com/2010/09/03/computer-vision-the-integral-image/)"
   ]
  },
  {
   "cell_type": "markdown",
   "metadata": {},
   "source": [
    "## See Also"
   ]
  },
  {
   "cell_type": "markdown",
   "metadata": {},
   "source": [
    "- "
   ]
  },
  {
   "cell_type": "markdown",
   "metadata": {},
   "source": [
    "## Contributions\n",
    "\n",
    "- João Marcos Gualtieri Beraquet, março de 2015"
   ]
  },
  {
   "cell_type": "code",
   "execution_count": null,
   "metadata": {
    "collapsed": true
   },
   "outputs": [],
   "source": []
  }
 ],
 "metadata": {
  "kernelspec": {
   "display_name": "Python 3",
   "language": "python",
   "name": "python3"
  },
  "language_info": {
   "codemirror_mode": {
    "name": "ipython",
    "version": 3
   },
   "file_extension": ".py",
   "mimetype": "text/x-python",
   "name": "python",
   "nbconvert_exporter": "python",
   "pygments_lexer": "ipython3",
   "version": "3.6.2"
  },
  "toc": {
   "colors": {
    "hover_highlight": "#DAA520",
    "running_highlight": "#FF0000",
    "selected_highlight": "#FFD700"
   },
   "moveMenuLeft": true,
   "nav_menu": {
    "height": "214px",
    "width": "252px"
   },
   "navigate_menu": true,
   "number_sections": true,
   "sideBar": true,
   "threshold": 4,
   "toc_cell": false,
   "toc_section_display": "block",
   "toc_window_display": false
  }
 },
 "nbformat": 4,
 "nbformat_minor": 2
}
