{
 "cells": [
  {
   "cell_type": "markdown",
   "metadata": {},
   "source": [
    "# Function ramp"
   ]
  },
  {
   "cell_type": "markdown",
   "metadata": {},
   "source": [
    "## Synopse\n",
    "Creates a 1D/2D/3D gray scale image with dimensions given by s, with n increasing gray scale bands with values varying from the specified range\n",
    "\n",
    "- **g = ramp(s, n, range) **\n",
    "\n",
    "    - **g**: Image.\n",
    "    - **s**: [S H W]: slices, height and width output image dimensions.\n",
    "    - **n**: [nz ny nx]: number of bands.\n",
    "    - **range**: [kz_min, kz_max,ky_min,ky_max,kx_min,kx_max], minimum and maximum gray scale values on z,y and x dimension."
   ]
  },
  {
   "cell_type": "code",
   "execution_count": 8,
   "metadata": {
    "ExecuteTime": {
     "end_time": "2017-07-02T20:57:53.732939",
     "start_time": "2017-07-02T20:57:53.707425"
    }
   },
   "outputs": [],
   "source": [
    "import numpy as np\n",
    "\n",
    "def ramp(s, n, range=[0,255]):\n",
    "    aux = np.array(n)\n",
    "    s_orig = s\n",
    "\n",
    "    if len(aux.shape) == 0:\n",
    "        s = [1,s[0],s[1]]\n",
    "        n = [0,0,n]\n",
    "        range = [0,0,0,0,range[0],range[1]]\n",
    "\n",
    "    slices,rows, cols = s[0], s[1], s[2]\n",
    "    z,y,x = np.indices((slices,rows,cols))\n",
    "    gz = z*n[0]//slices * (range[1]-range[0]) // (n[0]-1) + range[0]\n",
    "    gy = y*n[1]//rows   * (range[3]-range[2]) // (n[1]-1) + range[2]\n",
    "    gx = x*n[2]//cols   * (range[5]-range[4]) // (n[2]-1) + range[4]\n",
    "\n",
    "    return (gz+gy+gx).reshape(s_orig)"
   ]
  },
  {
   "cell_type": "markdown",
   "metadata": {},
   "source": [
    "## Description\n",
    "Create an 1, 2 or 3-dimensional image with increasing gray value bands. The function receives the output dimension, the number of increasing bands, and the range of values variation in each direction."
   ]
  },
  {
   "cell_type": "markdown",
   "metadata": {},
   "source": [
    "## Examples"
   ]
  },
  {
   "cell_type": "code",
   "execution_count": 1,
   "metadata": {
    "ExecuteTime": {
     "end_time": "2020-03-10T20:21:38.973681Z",
     "start_time": "2020-03-10T20:21:35.030927Z"
    }
   },
   "outputs": [
    {
     "name": "stderr",
     "output_type": "stream",
     "text": [
      "[NbConvertApp] Converting notebook ramp.ipynb to python\n",
      "[NbConvertApp] Writing 3468 bytes to ramp.py\n"
     ]
    }
   ],
   "source": [
    "testing = (__name__ == \"__main__\")\n",
    "if testing:\n",
    "    ! jupyter nbconvert --to python ramp.ipynb\n",
    "    import numpy as np\n",
    "    import sys,os\n",
    "    ea979path = os.path.abspath('../../')\n",
    "    if ea979path not in sys.path:\n",
    "        sys.path.append(ea979path)\n",
    "    import ea979.src as ia\n"
   ]
  },
  {
   "cell_type": "markdown",
   "metadata": {},
   "source": [
    "### Numeric example"
   ]
  },
  {
   "cell_type": "code",
   "execution_count": 3,
   "metadata": {
    "ExecuteTime": {
     "end_time": "2017-07-02T21:21:11.773640",
     "start_time": "2017-07-02T21:21:11.759199"
    }
   },
   "outputs": [
    {
     "name": "stdout",
     "output_type": "stream",
     "text": [
      "[[ 4  4  4  7  7 10 10]\n",
      " [ 4  4  4  7  7 10 10]\n",
      " [ 4  4  4  7  7 10 10]\n",
      " [ 4  4  4  7  7 10 10]\n",
      " [ 4  4  4  7  7 10 10]]\n",
      "[[[ 4  4  4  4  4  4  4]\n",
      "  [ 4  4  4  4  4  4  4]\n",
      "  [ 7  7  7  7  7  7  7]\n",
      "  [ 7  7  7  7  7  7  7]\n",
      "  [10 10 10 10 10 10 10]]]\n",
      "[[[4 4 4 4 4 4 4]\n",
      "  [4 4 4 4 4 4 4]\n",
      "  [4 4 4 4 4 4 4]\n",
      "  [4 4 4 4 4 4 4]\n",
      "  [4 4 4 4 4 4 4]]]\n"
     ]
    }
   ],
   "source": [
    "if testing:\n",
    "    F = ia.ramp([5,7], 3, [4,10])\n",
    "    print(F)\n",
    "    F = ia.ramp((1,5,7),(0,3,0), [0,0,4,10,0,0])\n",
    "    print(F)\n",
    "    F = ia.ramp([1,5,7],[3,0,0], [4,10,0,0,0,0])\n",
    "    print(F)"
   ]
  },
  {
   "cell_type": "markdown",
   "metadata": {},
   "source": [
    "- **Image example**"
   ]
  },
  {
   "cell_type": "code",
   "execution_count": 4,
   "metadata": {
    "ExecuteTime": {
     "end_time": "2017-07-02T21:21:18.409662",
     "start_time": "2017-07-02T21:21:18.354910"
    }
   },
   "outputs": [
    {
     "data": {
      "text/html": [
       "<head><style>        table, th, td { border: 0px solid black;        text-align: center;border-collapse: collapse;}</style></head>        <body><table border=\"0\"><td>            <table><tr><td><img src='data:image/png;base64,iVBORw0KGgoAAAANSUhEUgAAASwAAADICAAAAAB3tIOJAAABqElEQVR4nO3cwQmAMBQFQSMpQ/svU1twDxICMxV8lncK4nEAAAAAAAB/GNfqCzZyrj5gJ2IFYgViBWIFYgViBWIFYgViBWIFYgViBWIFYgViBWIFYgViBdMb/HeWFYgViBWIFYgViBWIFYgViBWIFYgViBWIFYgViBWIFYgViBWIFcx79QUbsaxArECsQKxArECsQKxArECsQKxArECsQKxArECsQKxArECsQKzAd/CBZQViBWIFYgViBWIFYgViBWIFYgViBWIFYgViBWIFYgViBWIFYgXe4APLCsQKxArECsQKxArECsQKxArECsQKxArECsQKxArECsQKxArECvyLJrCsQKxArECsQKxArECsQKxArECsQKxArECsQKxArECsQKxArECswHfwgWUFYgViBWIFYgViBWIFYgViBWIFYgViBWIFYgViBWIFYgViBWIF3uADywrECsQKxArECsQKxArECsQKxArECsQKxArECsQKxArECsQKxArGs/qCjVhWIFYgViBWIFYgViBWIFYgViBWIFYgViBWIFYgViBWIFYgViBW8AK6vgNWhABwhQAAAABJRU5ErkJggg=='/></td></tr>            <tr><td align='center'></td></tr></table></td><tr></tr></table></body>"
      ],
      "text/plain": [
       "<IPython.core.display.HTML object>"
      ]
     },
     "metadata": {},
     "output_type": "display_data"
    }
   ],
   "source": [
    "if testing:\n",
    "    F = ia.ramp([1,200,300], [0,10,0], [0,0,0,255,0,128])\n",
    "    ia.adshow(ia.normalize(F.reshape(200,300)))"
   ]
  },
  {
   "cell_type": "code",
   "execution_count": 6,
   "metadata": {
    "ExecuteTime": {
     "end_time": "2017-07-02T21:21:24.859951",
     "start_time": "2017-07-02T21:21:24.835354"
    }
   },
   "outputs": [
    {
     "data": {
      "text/html": [
       "<head><style>        table, th, td { border: 0px solid black;        text-align: center;border-collapse: collapse;}</style></head>        <body><table border=\"0\"><td>            <table><tr><td><img src='data:image/png;base64,iVBORw0KGgoAAAANSUhEUgAAASwAAADICAAAAAB3tIOJAAABt0lEQVR4nO3QMQrAIAAEQeM7zP+/mdpGWNLJTHtwxT7jaP1Y3+ue53FlI1YgViBWIFYgViBWIFYgViBWIFYgViBWIFYgViBWIFYgViBWIFYgViBWIFYgViBWIFYgViBWIFYgViBWIFYgViBWIFYgViBWIFYgViBWIFYgViBWIFYgViBWIFYgViBWIFYgViBWIFYgViBWIFYgViBWIFYgViBWIFYgViBWIFYgViBWIFYgViBWIFYgViBWIFYgViBWIFYgViBWIFYgViBWIFYgViBWIFYgViBWIFYgViBWIFYgViBWIFYgViBWIFYgViBWIFYgViBWIFYgViBWIFYgViBWIFYgViBWIFYgViBWIFYgViBWIFYgViBWIFYgViBWIFYgViBWIFYgViBWIFYgViBWIFYgViBWIFYgViBWIFYgViBWIFYgViBWIFYgViBWIFYgViBWIFYgViBWIFYgViBWIFYgViBWIFYgViBWIFYgViBWIFYgViBWIFYgViBWIFYgViBWIFYgViBWIFYgViBWIFYgViBWIFYgViBWIFYgViBWIFYgViBWIFYgViBWIFYgViBW8AFg+wKPiqYyyAAAAABJRU5ErkJggg=='/></td></tr>            <tr><td align='center'></td></tr></table></td><tr></tr></table></body>"
      ],
      "text/plain": [
       "<IPython.core.display.HTML object>"
      ]
     },
     "metadata": {},
     "output_type": "display_data"
    }
   ],
   "source": [
    "if testing:\n",
    "    F = ia.ramp([200,300], 10, [0,255])\n",
    "    ia.adshow(ia.normalize(F))"
   ]
  },
  {
   "cell_type": "code",
   "execution_count": 7,
   "metadata": {
    "ExecuteTime": {
     "end_time": "2017-07-02T21:21:32.746472",
     "start_time": "2017-07-02T21:21:32.724177"
    }
   },
   "outputs": [
    {
     "data": {
      "text/html": [
       "<head><style>        table, th, td { border: 0px solid black;        text-align: center;border-collapse: collapse;}</style></head>        <body><table border=\"0\"><td>            <table><tr><td><img src='data:image/png;base64,iVBORw0KGgoAAAANSUhEUgAAASwAAADICAAAAAB3tIOJAAABrklEQVR4nO3QQQkAIADAQLW41a3gXiLcJRibe3BrvQ74iVmBWYFZgVmBWYFZgVmBWYFZgVmBWYFZgVmBWYFZgVmBWYFZgVmBWYFZgVmBWYFZgVmBWYFZgVmBWYFZgVmBWYFZgVmBWYFZgVmBWYFZgVmBWYFZgVmBWYFZgVmBWYFZgVmBWYFZgVmBWYFZgVmBWYFZgVmBWYFZgVmBWYFZgVmBWYFZgVmBWYFZgVmBWYFZgVmBWYFZgVmBWYFZgVmBWYFZgVmBWYFZgVmBWYFZgVmBWYFZgVmBWYFZgVmBWYFZgVmBWYFZgVmBWYFZgVmBWYFZgVmBWYFZgVmBWYFZgVmBWYFZgVmBWYFZgVmBWYFZgVmBWYFZgVmBWYFZgVmBWYFZgVmBWYFZgVmBWYFZgVmBWYFZgVmBWYFZgVmBWYFZgVmBWYFZgVmBWYFZgVmBWYFZgVmBWYFZgVmBWYFZgVmBWYFZgVmBWYFZgVmBWYFZgVmBWYFZgVmBWYFZgVmBWYFZgVmBWYFZgVmBWYFZgVmBWYFZgVmBWYFZgVmBWYFZgVmBWYFZgVmBWYFZwQFcZAIPuRNfhwAAAABJRU5ErkJggg=='/></td></tr>            <tr><td align='center'></td></tr></table></td><tr></tr></table></body>"
      ],
      "text/plain": [
       "<IPython.core.display.HTML object>"
      ]
     },
     "metadata": {},
     "output_type": "display_data"
    }
   ],
   "source": [
    "if testing:\n",
    "    F = ia.ramp([1,200,300], [10,0,0], [0,255,0,0,0,0])\n",
    "    ia.adshow(ia.normalize(F.reshape(200,300)))"
   ]
  },
  {
   "cell_type": "markdown",
   "metadata": {},
   "source": [
    "### Image example - 3D"
   ]
  },
  {
   "cell_type": "code",
   "execution_count": 8,
   "metadata": {
    "ExecuteTime": {
     "end_time": "2017-07-02T21:21:37.745823",
     "start_time": "2017-07-02T21:21:37.703234"
    }
   },
   "outputs": [
    {
     "data": {
      "text/html": [
       "<head><style>        table, th, td { border: 0px solid black;        text-align: center;border-collapse: collapse;}</style></head>        <body><table border=\"0\"><td>            <table><tr><td><img src='data:image/png;base64,iVBORw0KGgoAAAANSUhEUgAAA+gAAABkCAAAAAAwUkUGAAACZklEQVR4nO3dQWobQRCGUSVMFsn9b+FL5BLOIZJLZCdvRsbGEuqu773VUAOmC/PTUNSgb5er4+Tpxza1l5O3K53vo7XfJ29XOp//x/NO9ZW/8v0CjCfoECDoECDoEHD8fHu8Pu04bNCHPm7V7tPHs05wn5obHQIEHQIEHQIEHQKOKcMGfejjEbVfS57KZhxwQtAhQNAhQNAh4DgbNuy4waQPfdyq2Yxzo0OCoEOAoEOAoEOAzbiLPh5Rm9KHzThgG4IOAYIOAYIOAaebcSsNEb6yibXS+fSx1vk+vxn3/FMZxgHvEnQIEHQIEHQIsBl30ccjalP6mDJUdKNDgKBDgKBDgKBDgM24xWr6WKtmMw7YhqBDgKBDgKBDwDFl2KAPfdyq3aePvTf83OgQIOgQIOgQIOgQYDNusZo+1qpN+VVYNzoECDoECDoECDoEHK9vj9enHYcNf59+gvvUXt99u08f/5Y81edrf07ernQ+wzjgStAhQNAhQNAhYMwPOEzexFrpfB+tzftMde8+3OgQIOgQIOgQIOgQMOYz1SlDk3l97D3kndKHGx0CBB0CBB0CBB0CbMYtVpvcx45DxSl9uNEhQNAhQNAhQNAhwGbcA2r6mLNRNqUPNzoECDoECDoECDoEHIY/aw1NpvQxZcg7pQ83OgQIOgQIOgQIOgSM2Yyb8jnhlD6mDBWn9OFGhwBBhwBBhwBBhwCbcXc7geGPzbh1a250CBB0CBB0CBB0CPADDovVpvQxb8i7dx9udAgQdAgQdAgQdAg4/Ux1x2HDlKHilD6mDBWn9OFGhwBBhwBBhwBBh4D/Ln8sn2lmkhcAAAAASUVORK5CYII='/></td></tr>            <tr><td align='center'></td></tr></table></td><tr></tr></table></body>"
      ],
      "text/plain": [
       "<IPython.core.display.HTML object>"
      ]
     },
     "metadata": {},
     "output_type": "display_data"
    }
   ],
   "source": [
    "if testing:\n",
    "    F = ia.ramp([10,50,200], [5,10,20], [0,255,0,255,0,255])\n",
    "    ia.adshow(ia.normalize(ia.mosaic(F,5)))"
   ]
  },
  {
   "cell_type": "code",
   "execution_count": 9,
   "metadata": {
    "ExecuteTime": {
     "end_time": "2017-07-02T21:21:43.152769",
     "start_time": "2017-07-02T21:21:42.719763"
    }
   },
   "outputs": [
    {
     "data": {
      "text/html": [
       "<head><style>        table, th, td { border: 0px solid black;        text-align: center;border-collapse: collapse;}</style></head>        <body><table border=\"0\"><td>            <table><tr><td><img src='data:image/png;base64,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'/></td></tr>            <tr><td align='center'></td></tr></table></td><tr></tr></table></body>"
      ],
      "text/plain": [
       "<IPython.core.display.HTML object>"
      ]
     },
     "metadata": {},
     "output_type": "display_data"
    }
   ],
   "source": [
    "if testing:\n",
    "    F = ia.ramp([50,100,200], [5,8,10], [0,255,120,250,0,255])\n",
    "    ia.adshow(ia.normalize(ia.mosaic(F,10)))"
   ]
  },
  {
   "cell_type": "code",
   "execution_count": 10,
   "metadata": {
    "ExecuteTime": {
     "end_time": "2017-07-02T21:21:47.873223",
     "start_time": "2017-07-02T21:21:47.489626"
    }
   },
   "outputs": [
    {
     "data": {
      "text/html": [
       "<head><style>        table, th, td { border: 0px solid black;        text-align: center;border-collapse: collapse;}</style></head>        <body><table border=\"0\"><td>            <table><tr><td><img src='data:image/png;base64,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'/></td></tr>            <tr><td align='center'></td></tr></table></td><tr></tr></table></body>"
      ],
      "text/plain": [
       "<IPython.core.display.HTML object>"
      ]
     },
     "metadata": {},
     "output_type": "display_data"
    }
   ],
   "source": [
    "if testing:\n",
    "    F = ia.ramp([50,100,200], [0,10,20], [0,0,0,255,0,255])\n",
    "    ia.adshow(ia.normalize(ia.mosaic(F,10)))"
   ]
  },
  {
   "cell_type": "markdown",
   "metadata": {},
   "source": [
    "### Image example 2 - 3D"
   ]
  },
  {
   "cell_type": "code",
   "execution_count": 11,
   "metadata": {
    "ExecuteTime": {
     "end_time": "2017-07-02T21:21:53.911493",
     "start_time": "2017-07-02T21:21:53.900414"
    }
   },
   "outputs": [
    {
     "data": {
      "text/html": [
       "<head><style>        table, th, td { border: 0px solid black;        text-align: center;border-collapse: collapse;}</style></head>        <body><table border=\"0\"><td>            <table><tr><td><img src='data:image/png;base64,iVBORw0KGgoAAAANSUhEUgAAASwAAAAUCAAAAAASSF/dAAAAo0lEQVR4nO2UQQ6AIAwEleL/P6P/82oDLDQbYtIsNzBDt+ngeRT7Lr+zu3NW/NceVszMHoadp2LYYSrM1grhCmNd+GqWHaZiWJxqwiZsCbLMgOv1U2HM4lQMO0mFWZnVpBrXlVkuFWZlVpNqXDdfSxsHnPCxYFZmBVmZtcjKrCArsxZZmRVkKbNytQRZasD5Hsu+X4fMcluZ5ZbMCrAyK8AyZr0WbUxgI2SHMAAAAABJRU5ErkJggg=='/></td></tr>            <tr><td align='center'></td></tr></table></td><tr></tr></table></body>"
      ],
      "text/plain": [
       "<IPython.core.display.HTML object>"
      ]
     },
     "metadata": {},
     "output_type": "display_data"
    }
   ],
   "source": [
    "if testing:\n",
    "    F = ia.ramp([10,20,30], [10,20,30], [0,255,0,255,0,255])\n",
    "    ia.adshow(ia.normalize(ia.mosaic(F, 10)))"
   ]
  },
  {
   "cell_type": "code",
   "execution_count": 12,
   "metadata": {
    "ExecuteTime": {
     "end_time": "2017-07-02T21:21:59.088173",
     "start_time": "2017-07-02T21:21:59.078731"
    }
   },
   "outputs": [
    {
     "data": {
      "text/html": [
       "<head><style>        table, th, td { border: 0px solid black;        text-align: center;border-collapse: collapse;}</style></head>        <body><table border=\"0\"><td>            <table><tr><td><img src='data:image/png;base64,iVBORw0KGgoAAAANSUhEUgAAASwAAAAUCAAAAAASSF/dAAAAjklEQVR4nO2WUQqAIBBEp/AKef//LmE361fYDB9bH8K8jyVcJmVYBzdJko5QqyTpfO22T7W1+47avtsG61Ebu1fizLvMNDYLYLMAJd5P11H1ZAFsFsBmAR4yK75N/u5S1ft/6C7zu3uyADYLYLMAJZ84a+VORuXJAtgsgM0ClEx2rJg7mTN7sgA2C2CzADeqYhpq5sjIpwAAAABJRU5ErkJggg=='/></td></tr>            <tr><td align='center'></td></tr></table></td><tr></tr></table></body>"
      ],
      "text/plain": [
       "<IPython.core.display.HTML object>"
      ]
     },
     "metadata": {},
     "output_type": "display_data"
    }
   ],
   "source": [
    "if testing:\n",
    "    F = ia.ramp([10,20,30], [5,5,5], [0,255,0,255,0,255])\n",
    "    ia.adshow(ia.normalize(ia.mosaic(F, 10)))"
   ]
  },
  {
   "cell_type": "code",
   "execution_count": 13,
   "metadata": {
    "ExecuteTime": {
     "end_time": "2017-07-02T21:22:03.616885",
     "start_time": "2017-07-02T21:22:03.606226"
    }
   },
   "outputs": [
    {
     "data": {
      "text/html": [
       "<head><style>        table, th, td { border: 0px solid black;        text-align: center;border-collapse: collapse;}</style></head>        <body><table border=\"0\"><td>            <table><tr><td><img src='data:image/png;base64,iVBORw0KGgoAAAANSUhEUgAAASwAAAAUCAAAAAASSF/dAAAAdklEQVR4nO3XsQmAMBBA0VMyhllAR3cf57HwmoAEf3UW/zWJXBM+geASaRuW6M9yFk3/eao19JmxAGMBxgKMBRgLaHtu8pXs42fVNKbTqlN5swBjAcYCjAUYCzAW0I7cvP9nX0XTmE6rTuXNAowFGAswFmAs4AZETBfP7gaksAAAAABJRU5ErkJggg=='/></td></tr>            <tr><td align='center'></td></tr></table></td><tr></tr></table></body>"
      ],
      "text/plain": [
       "<IPython.core.display.HTML object>"
      ]
     },
     "metadata": {},
     "output_type": "display_data"
    }
   ],
   "source": [
    "if testing:\n",
    "    F = ia.ramp([10,20,30], [2,3,4], [0,255,0,255,0,255])\n",
    "    ia.adshow(ia.normalize(ia.mosaic(F, 10)))"
   ]
  },
  {
   "cell_type": "markdown",
   "metadata": {},
   "source": [
    "## Equation\n",
    "\n",
    "$$ g(z,y,x) =  \\lfloor \\lfloor \\frac{n_z}{S} z \\rfloor \\frac{kz_{max}-kz_{min}}{n_z-1} \\rfloor + kz_{min} +\\lfloor \\lfloor \\frac{n_y}{H} y \\rfloor \\frac{ky_{max}-ky_{min}}{n_y-1} \\rfloor + ky_{min} + \\lfloor \\lfloor \\frac{n_x}{W} x \\rfloor \\frac{kx_{max}-kx_{min}}{n_x-1} \\rfloor + kx_{min} $$\n"
   ]
  },
  {
   "cell_type": "markdown",
   "metadata": {},
   "source": [
    "## Contributions\n",
    "\n",
    "Mariana Pinheiro, 1st semester 2011\n",
    "\n",
    "Lucas de Vasconcellos Teixeira, 1st semester 2017"
   ]
  }
 ],
 "metadata": {
  "kernelspec": {
   "display_name": "Python 3",
   "language": "python",
   "name": "python3"
  },
  "language_info": {
   "codemirror_mode": {
    "name": "ipython",
    "version": 3
   },
   "file_extension": ".py",
   "mimetype": "text/x-python",
   "name": "python",
   "nbconvert_exporter": "python",
   "pygments_lexer": "ipython3",
   "version": "3.6.2"
  },
  "toc": {
   "colors": {
    "hover_highlight": "#DAA520",
    "running_highlight": "#FF0000",
    "selected_highlight": "#FFD700"
   },
   "moveMenuLeft": true,
   "nav_menu": {
    "height": "12px",
    "width": "252px"
   },
   "navigate_menu": true,
   "number_sections": true,
   "sideBar": true,
   "threshold": 4,
   "toc_cell": false,
   "toc_section_display": "block",
   "toc_window_display": false
  }
 },
 "nbformat": 4,
 "nbformat_minor": 2
}
