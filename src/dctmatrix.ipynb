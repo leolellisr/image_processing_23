{
 "cells": [
  {
   "cell_type": "markdown",
   "metadata": {},
   "source": [
    "# Function dctmatrix\n",
    "\n",
    "## Synopse\n",
    "\n",
    "Compute the Kernel matrix for the DCT Transform.\n",
    "\n",
    "- **A = dctmatrix(N)**\n",
    "\n",
    "  - **A**:output: DCT matrix NxN. \n",
    "  - **N**:input: matrix size (NxN). "
   ]
  },
  {
   "cell_type": "code",
   "execution_count": 1,
   "metadata": {
    "ExecuteTime": {
     "end_time": "2017-07-31T20:27:26.121615",
     "start_time": "2017-07-31T20:27:25.704915"
    },
    "collapsed": true
   },
   "outputs": [],
   "source": [
    "import numpy as np\n",
    "\n",
    "def dctmatrix(N):\n",
    "    x = np.resize(range(N), (len(range(N)), len(range(N)))) #matrix with columns index\n",
    "    u = np.transpose(np.resize(range(N), (len(range(N)), len(range(N))))) #matrix with rows index\n",
    "    alpha = np.ones((N,N)) * np.sqrt(2./N) # 1/sqrt(2/N)\n",
    "    alpha[0,:] = np.sqrt(1./N) # alpha(u,x)\n",
    "    A = alpha * np.cos((2*x+1)*u*np.pi / (2.*N)) # Cn(u,x)\n",
    "    return A"
   ]
  },
  {
   "cell_type": "markdown",
   "metadata": {},
   "source": [
    "## Examples"
   ]
  },
  {
   "cell_type": "code",
   "execution_count": 1,
   "metadata": {
    "ExecuteTime": {
     "end_time": "2020-03-10T19:55:15.061558Z",
     "start_time": "2020-03-10T19:55:11.219518Z"
    }
   },
   "outputs": [
    {
     "name": "stderr",
     "output_type": "stream",
     "text": [
      "[NbConvertApp] Converting notebook dctmatrix.ipynb to python\n",
      "[NbConvertApp] Writing 1636 bytes to dctmatrix.py\n"
     ]
    }
   ],
   "source": [
    "testing = (__name__ == \"__main__\")\n",
    "if testing:\n",
    "    ! jupyter nbconvert --to python dctmatrix.ipynb\n",
    "    import numpy as np\n",
    "    import sys,os\n",
    "    ea979path = os.path.abspath('../../')\n",
    "    if ea979path not in sys.path:\n",
    "        sys.path.append(ea979path)\n",
    "    import ea979.src as ia"
   ]
  },
  {
   "cell_type": "markdown",
   "metadata": {},
   "source": [
    "### Example 1"
   ]
  },
  {
   "cell_type": "code",
   "execution_count": 3,
   "metadata": {
    "ExecuteTime": {
     "end_time": "2017-07-31T20:27:32.941066",
     "start_time": "2017-07-31T20:27:32.881617"
    }
   },
   "outputs": [
    {
     "name": "stdout",
     "output_type": "stream",
     "text": [
      "Visualiza matriz DCT 4x4:\n",
      " [[ 0.5     0.5     0.5     0.5   ]\n",
      " [ 0.6533  0.2706 -0.2706 -0.6533]\n",
      " [ 0.5    -0.5    -0.5     0.5   ]\n",
      " [ 0.2706 -0.6533  0.6533 -0.2706]]\n",
      "\n",
      "Visualiza propriedade A*A'= I:\n",
      " [[ 1.  0.  0. -0.]\n",
      " [ 0.  1.  0.  0.]\n",
      " [ 0.  0.  1.  0.]\n",
      " [-0.  0.  0.  1.]]\n"
     ]
    }
   ],
   "source": [
    "if testing:\n",
    "    np.set_printoptions(suppress=True, precision=4)\n",
    "    A = ia.dctmatrix(4)\n",
    "    print('Visualiza matriz DCT 4x4:\\n',A)\n",
    "    B = np.dot(A,np.transpose(A))\n",
    "    \n",
    "    print(\"\\nVisualiza propriedade A*A'= I:\\n\", B)"
   ]
  },
  {
   "cell_type": "markdown",
   "metadata": {},
   "source": [
    "### Example 2"
   ]
  },
  {
   "cell_type": "code",
   "execution_count": 2,
   "metadata": {
    "ExecuteTime": {
     "end_time": "2020-03-10T19:59:15.875794Z",
     "start_time": "2020-03-10T19:59:15.500828Z"
    }
   },
   "outputs": [
    {
     "data": {
      "text/html": [
       "<head><style>        table, th, td { border: 0px solid black;        text-align: center;border-collapse: collapse;}</style></head>        <body><table border=\"0\"><td>            <table><tr><td><img src='data:image/png;base64,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'/></td></tr>            <tr><td align='center'>DCT 128x128</td></tr></table></td><tr></tr></table></body>"
      ],
      "text/plain": [
       "<IPython.core.display.HTML object>"
      ]
     },
     "metadata": {},
     "output_type": "display_data"
    }
   ],
   "source": [
    "if testing:\n",
    "    %matplotlib inline\n",
    "    import matplotlib.pyplot as plt\n",
    "    import matplotlib.image as mpimg\n",
    "    import sys,os\n",
    "    ea979path = os.path.abspath('../../')\n",
    "    if ea979path not in sys.path:\n",
    "        sys.path.append(ea979path)\n",
    "    import ea979.src as ia\n",
    "    A = ia.dctmatrix(128)\n",
    "    ia.adshow(ia.normalize(A,[0,255]),'DCT 128x128')"
   ]
  },
  {
   "cell_type": "code",
   "execution_count": null,
   "metadata": {
    "collapsed": true
   },
   "outputs": [],
   "source": []
  },
  {
   "cell_type": "code",
   "execution_count": null,
   "metadata": {
    "collapsed": true
   },
   "outputs": [],
   "source": []
  }
 ],
 "metadata": {
  "kernelspec": {
   "display_name": "Python 3",
   "language": "python",
   "name": "python3"
  },
  "language_info": {
   "codemirror_mode": {
    "name": "ipython",
    "version": 3
   },
   "file_extension": ".py",
   "mimetype": "text/x-python",
   "name": "python",
   "nbconvert_exporter": "python",
   "pygments_lexer": "ipython3",
   "version": "3.6.2"
  },
  "toc": {
   "colors": {
    "hover_highlight": "#DAA520",
    "running_highlight": "#FF0000",
    "selected_highlight": "#FFD700"
   },
   "moveMenuLeft": true,
   "nav_menu": {
    "height": "102px",
    "width": "252px"
   },
   "navigate_menu": true,
   "number_sections": true,
   "sideBar": true,
   "threshold": 4,
   "toc_cell": false,
   "toc_section_display": "block",
   "toc_window_display": false
  }
 },
 "nbformat": 4,
 "nbformat_minor": 2
}
