{
 "cells": [
  {
   "cell_type": "markdown",
   "metadata": {},
   "source": [
    "# Function log\n",
    "\n",
    "Laplacian of Gaussian image.\n",
    "\n",
    "## Synopse\n",
    "1D, 2D Laplacian of Gaussian image.\n",
    "\n",
    " - **g = ialog(s, mu, sigma)**\n",
    "     - Output:\n",
    "         - **g**: Image.\n",
    "     - Input:\n",
    "        - **s**: Image. [rows cols], output image dimensions.\n",
    "        - **mu**: Image. [row0 col0], center of the function.\n",
    "        - **sigma**: Double. standart deviation."
   ]
  },
  {
   "cell_type": "markdown",
   "metadata": {},
   "source": [
    "## Description\n",
    "\n",
    "Creates a Laplacian of Gaussian image with dimensions given by s, origin given by $\\mu$ and standart deviation given by $\\sigma$ . This function is used in the Marr-Hildreth filter.\n"
   ]
  },
  {
   "cell_type": "markdown",
   "metadata": {},
   "source": [
    "## Function code"
   ]
  },
  {
   "cell_type": "code",
   "execution_count": 3,
   "metadata": {
    "ExecuteTime": {
     "end_time": "2017-07-02T20:00:39.379140",
     "start_time": "2017-07-02T20:00:39.364081"
    },
    "collapsed": true
   },
   "outputs": [],
   "source": [
    "import numpy as np\n",
    "\n",
    "def log(s, mu, sigma):\n",
    "    mu = np.array(mu)\n",
    "    s  = np.array(s)\n",
    "    if np.product(np.shape(s)) == 1:\n",
    "        x = np.arange(s)\n",
    "        coord_center = (x-mu)**2\n",
    "    else:\n",
    "        (rr, cc) = np.indices( s)\n",
    "        coord_center = (rr-mu[0])**2  + (cc-mu[1])**2\n",
    "\n",
    "    gauss_factor = coord_center/(2.*sigma**2)\n",
    "    gauss_factor_r = np.ravel(gauss_factor)\n",
    "    \n",
    "    exp_factor = np.exp(-gauss_factor_r)\n",
    "    exp_factor = exp_factor.reshape( np.shape(coord_center))\n",
    "    \n",
    "    g = -(((1 - gauss_factor )/ (sigma**4 * np.pi)) * exp_factor)\n",
    "    return g"
   ]
  },
  {
   "cell_type": "markdown",
   "metadata": {},
   "source": [
    "## Examples"
   ]
  },
  {
   "cell_type": "code",
   "execution_count": 1,
   "metadata": {
    "ExecuteTime": {
     "end_time": "2020-03-10T20:15:55.242010Z",
     "start_time": "2020-03-10T20:15:51.093446Z"
    }
   },
   "outputs": [
    {
     "name": "stderr",
     "output_type": "stream",
     "text": [
      "[NbConvertApp] Converting notebook log.ipynb to python\n",
      "[NbConvertApp] Writing 4067 bytes to log.py\n"
     ]
    }
   ],
   "source": [
    "testing = (__name__ == \"__main__\")\n",
    "\n",
    "if testing:\n",
    "    ! jupyter nbconvert --to python log.ipynb\n",
    "    import sys\n",
    "    import os\n",
    "    ea979path = os.path.abspath('../../')\n",
    "    if ea979path not in sys.path:\n",
    "        sys.path.append(ea979path)\n",
    "    import ea979.src as ia\n",
    "    \n",
    "    import matplotlib.pyplot as plt\n",
    "    %matplotlib inline"
   ]
  },
  {
   "cell_type": "markdown",
   "metadata": {},
   "source": [
    "### Example 1D\n",
    "\n",
    "#### Numerical example:"
   ]
  },
  {
   "cell_type": "code",
   "execution_count": 2,
   "metadata": {
    "ExecuteTime": {
     "end_time": "2017-07-02T20:02:34.689256",
     "start_time": "2017-07-02T20:02:34.676330"
    }
   },
   "outputs": [
    {
     "name": "stdout",
     "output_type": "stream",
     "text": [
      "image dimensions =  5\n",
      "center of function =  3\n",
      "spread factor = 0.8\n",
      "Laplacian of Gaussian image : \n",
      " [ 0.    0.07 -0.08 -0.78 -0.08]\n"
     ]
    }
   ],
   "source": [
    "if testing:\n",
    "    s, mu, sigma = 5, 3, 0.8\n",
    "    F = ia.log(s, mu, sigma)\n",
    "\n",
    "    print('image dimensions = ', s)\n",
    "    print('center of function = ', mu)\n",
    "    print('spread factor =', sigma)\n",
    "    print('Laplacian of Gaussian image : \\n', F.round(2))"
   ]
  },
  {
   "cell_type": "markdown",
   "metadata": {},
   "source": [
    "#### Image exemple:"
   ]
  },
  {
   "cell_type": "code",
   "execution_count": 3,
   "metadata": {
    "ExecuteTime": {
     "end_time": "2017-07-02T20:02:36.714447",
     "start_time": "2017-07-02T20:02:36.398881"
    },
    "scrolled": true
   },
   "outputs": [
    {
     "name": "stdout",
     "output_type": "stream",
     "text": [
      "image dimensions =  256\n",
      "center of function =  128\n",
      "spread factor = 8\n"
     ]
    },
    {
     "data": {
      "image/png": "[encoded data removed]",
      "text/plain": [
       "<matplotlib.figure.Figure at 0x10a4ad710>"
      ]
     },
     "metadata": {},
     "output_type": "display_data"
    }
   ],
   "source": [
    "if testing:\n",
    "   \n",
    "    \n",
    "    s, mu, sigma = 256, 128, 8\n",
    "    F = ia.log(s, mu, sigma)\n",
    "\n",
    "    print('image dimensions = ', s)\n",
    "    print('center of function = ', mu)\n",
    "    print('spread factor =', sigma)\n",
    "\n",
    "    plt.plot(F)\n",
    "    plt.title('Laplacian of Gaussian')"
   ]
  },
  {
   "cell_type": "markdown",
   "metadata": {},
   "source": [
    "### Example 2D\n",
    "\n",
    "#### Numerical exemple."
   ]
  },
  {
   "cell_type": "code",
   "execution_count": 4,
   "metadata": {
    "ExecuteTime": {
     "end_time": "2017-07-02T20:02:38.058250",
     "start_time": "2017-07-02T20:02:38.048513"
    }
   },
   "outputs": [
    {
     "name": "stdout",
     "output_type": "stream",
     "text": [
      "image dimensions =  [5, 7]\n",
      "center of function =  [3, 4]\n",
      "spread factor = 0.5\n",
      "Laplacian of Gaussian image : \n",
      " [[ 0.    0.    0.    0.    0.    0.    0.  ]\n",
      " [ 0.    0.    0.    0.    0.01  0.    0.  ]\n",
      " [ 0.    0.    0.    0.28  0.69  0.28  0.  ]\n",
      " [ 0.    0.    0.01  0.69 -5.09  0.69  0.01]\n",
      " [ 0.    0.    0.    0.28  0.69  0.28  0.  ]]\n"
     ]
    }
   ],
   "source": [
    "if testing:\n",
    "    s, mu, sigma = [5, 7], [3, 4], .5\n",
    "    F = ia.log(s, mu, sigma)\n",
    "    print('image dimensions = ', s)\n",
    "    print('center of function = ', mu)\n",
    "    print('spread factor =', sigma)\n",
    "    print('Laplacian of Gaussian image : \\n', F.round(2))"
   ]
  },
  {
   "cell_type": "markdown",
   "metadata": {},
   "source": [
    "#### Generating a image 2D 128x128, centered at 64x64 and sigma 4:"
   ]
  },
  {
   "cell_type": "code",
   "execution_count": 5,
   "metadata": {
    "ExecuteTime": {
     "end_time": "2017-07-02T20:02:39.665025",
     "start_time": "2017-07-02T20:02:39.625176"
    }
   },
   "outputs": [
    {
     "name": "stdout",
     "output_type": "stream",
     "text": [
      "image dimensions =  [128, 128]\n",
      "center of function =  [64, 64]\n",
      "spread factor = 4\n"
     ]
    },
    {
     "data": {
      "text/html": [
       "<head><style>        table, th, td { border: 0px solid black;        text-align: center;border-collapse: collapse;}</style></head>        <body><table border=\"0\"><td>            <table><tr><td><img src='data:image/png;base64,iVBORw0KGgoAAAANSUhEUgAAAIAAAACACAAAAADmVT4XAAACbElEQVR4nO3Yy2rjUAwG4F/SsWlqXEgWTaCLMu//PrMaptNd28V0YUzAsaQujjuTbRRwNjom5ALBH5LORaY/uO3gG98/AQlIQAISkIAEJCABCUhAAhKQgAQkIAEJSEACEpCABKBc9W+qb34bAJ1/ChvCAKqvem8HRQlRANWLAMCdHE4xQQxAAC0DcHd3h8eCEAIQQMRMzBVg5mZwRIIQTAExs7AwE+BmakpmoRxEAARiFikiUiOgqqSAReogACAQsUhTiizLmOhMAEKVGIoAMUvTFCGYOxHzUowWKMPLAQQQSymlwKbpZNy0LZfvuXBxCGIRIJYi0OMwjCpd329E3JRotRpgESE7/v14/5za7f5xd88iohaYiBcDljVAGNPw8fvl7bg5jGjKHQsz0eU5iKaAYNPw/vLzdeye0T10LVMtxUtHcBoSwU/j59vrr6HH7mk8ef1xnWlYh5tOx3EYMB4nja2C1wGIpd10Pfpu0woHgh8GOOqMb7rt4Rlj93zYdg3VH1eZhnB3c3Db70fsjpvDj33fMtzc19gNneBupsJt/4juaWq3+8e+hamZ++Vns0gKyE1ViTe75mFZCdlV1dZMgc5U5L50y14AnXWlFMAJdd2H8F3rTsRwnedZLZCBWARgpIC7cD0QmM7zaamBFQBODgPgdnYimlVtvWlIboC7np8JzUI1GF0J3dyd9PxUHIl/FOAEhznZWV8QWQPCgNoC+P/OCPWKjOhm9N2NffeG4fY0vBsu/aj/+xocV7TnfuvnA1feeRk3f0STgAQkIAEJSEACEpCABCQgAQlIQAISkIAEJCABCUjAzQFfnQA+aaDyFxMAAAAASUVORK5CYII='/></td></tr>            <tr><td align='center'>Laplacian of Gaussian</td></tr></table></td><tr></tr></table></body>"
      ],
      "text/plain": [
       "<IPython.core.display.HTML object>"
      ]
     },
     "metadata": {},
     "output_type": "display_data"
    }
   ],
   "source": [
    "if testing:\n",
    "    s, mu, sigma = [128, 128], [64, 64], 4\n",
    "    F = ia.log(s, mu, sigma)\n",
    "    print('image dimensions = ', s)\n",
    "    print('center of function = ', mu)\n",
    "    print('spread factor =', sigma)\n",
    "    ia.adshow(ia.normalize(F), 'Laplacian of Gaussian')"
   ]
  },
  {
   "cell_type": "markdown",
   "metadata": {},
   "source": [
    "#### Generating a image 2D 256x256, centered at 128x128 and sigma 20"
   ]
  },
  {
   "cell_type": "code",
   "execution_count": 6,
   "metadata": {
    "ExecuteTime": {
     "end_time": "2017-07-02T20:02:41.000992",
     "start_time": "2017-07-02T20:02:40.975892"
    },
    "scrolled": false
   },
   "outputs": [
    {
     "name": "stdout",
     "output_type": "stream",
     "text": [
      "image dimensions =  [256, 256]\n",
      "center of function =  [128, 128]\n",
      "spread factor = 20\n"
     ]
    },
    {
     "data": {
      "text/html": [
       "<head><style>        table, th, td { border: 0px solid black;        text-align: center;border-collapse: collapse;}</style></head>        <body><table border=\"0\"><td>            <table><tr><td><img src='data:image/png;base64,iVBORw0KGgoAAAANSUhEUgAAAQAAAAEACAAAAAB5Gfe6AAATBUlEQVR4nO1c7ZqDKg5OANtz/1e4lzEqkv1BgARxPhTLPnvMzLTWUcv7moQQIvgf+HeLGd2A0fIQMLoBo+UhYHQDRstDwOgGjJaHgNENGC0PAaMbMFoeAkY3YLQ8BIxuwGh5CBjdgNHyEDC6AaPlIWB0A0bLQ8DoBoyWh4DRDRgtDwGjGzBaHgJGN2C0PASMbsBoeQgY3YDR8hAwugGj5SFgdANGy0PA6AaMloeA0Q0YLQ8BoxswWh4CRjdgtPzrCXBjvhZbO+nTrQAYQEATuvzXh2n4KAHfgNcHfZCEjxHwK/Dy4A+R8BkC/oS+nPMJDj5BwBn4fOL9FNxOwGn06eybObg5DsAf8f98wDUKf5JbNeCo6Xj0oX23b7WEGwlowv/+diJAk4UbKbiNgBbS3ylz0+5vo+AmAvZQf9hDu3/VgG+i4B4CdmgPrb7aR3LPjoI7GLiDgBogHv+reSqVD7Vi9KfgBgLw6ONPRDSA15D7K0F3Ao7g7zfap1LapLST9DGdKehNALY/YfuzFkr/4Y0DCvoy0JmAprPD1ps+OGMHgnz/seiDBN2Xgb4EtPDj7vW4S6SsAZkDpuA2BnoS8AP8HzjYoUdJAX7fQ56XjgQ08Ffwv6OAkgUgv+4ouEcJ+hGA+22NXG1UJwBheYvwMfPAcLUS9GKgGwF7/Aq1/NOaICXiR/5jHqipBL0Y6EVAG7/427FwFBBk/KgouIuBTgTsgjx5+1Ey8CMBUPAjECCjV/4gnt+FgT4ENPHX8FETUIVMFRrGj0UR9krQhYEuBBzh17+Kg939x+LtolQU3MVADwJq/Or2F/h7JRDxTwtNwk+Awht0ZqADAQf41Y3HstEwggIsgs0S8ddK0JWBrqHwDr8ArwgoOpDPpDYaxk+Jmp2lXJXrBKDe0vj3P9IPSBPge4wESBVAwmMGLnNxmYAj/IWBAwr0mVn9991B/Elq0JuBqwQc4xc/4k1RoK5T4AsVoHxYVoPODFwkoIlfMlC9aPwFHUCl/9oVKjXoy0DXULjGn140Bw0viNIEmIOEi8cHSQN6e8JrBODuU8Gv0e9UoD5X94EaXeFAMqDOPS2XCNAGsMPPvzsGGvgFAyidvnQGNQN9jKDvWIANQYMvJNQ+QF+jvqtiR44JlfIPHwug2lCdfw2+qECkoEEAQDbuJrLEAMruQp53Ti4QsHMADfzlRVhA1QVEiSkgLCMepeV5gKwZKN9+moFeg6ED/OW17gNaFwGQPT9URtBgYOhgCHcbDfxKBYoHlJdRuc7Gft6oGDg46u/SLyOUtFvjlyrQvPl1w7HowL4vLKFQI2g+J6cJUAogQjsEhb+owJHuN67cNgNOlBYHqIzgLB1dB0P59gv8iQDWECHUvgxECmhPVvKTbSM4KWcJqBos+ngNX3YBQggadTBYbe454MSQcIXilHNM9BgNiuH9Dr5wgFlI/KarkEoQAEBLBYApaHeV5+QkAY1ArjiA7/FT/pEEADLk4luiGex4aCdN4CwTHYbDObhn/8f/0QQkIaD4C1QYiJaDgEjCU7ZdBntCMXgaMRxuKQAbQO7/Ib9GfqLZEwERUeIhnZ3cZ7SFdDymGbI8d5qmjZu94Ckmrg+HswesDQAAUg8AbPIJPku5q/K0SAGbeQSvKZd5g8sq0HV2WKCWToAPYPCB/4jYCApvJv4JD1i7QuaiVxQEJwmQVqoUIOk9tPAT448/FLIRIAKiQTTBoCGjTpMMRLJK/mynAmdY6Tk9Xkc/0QekxjP6QCHEN1YBPtGgMWgMIRk06YoRVLqE6kl7qcAZAurhTB3lF++Xa90JGH4RCuwFEBh/FCIDaMq9F8USsuMU2UPRlL+zcjUhIqyhuv1Q4ANBgb+FLYSwRUNgAgwaNNYYY40lYgqKI0jKL7PkSu/HJERYVCwI+c5LS874t7CFbduYhEDJB6CJ4E2wZCwBgAmZgUwEawJ/TaeMwAkCKheY4JfeT7yk/p8ChQg+STQDAkKI+I211oYQLFkgZiADRZCGAFCNCy+4we4lMskEgC2AgM0/wfeb3zwzQERFAax11sUO0gKBCSbFA9kGSKtAD+kwHOZITygAZC8AwP1fCCGC95v33m+bD5skwBpn7eaCC47tAowIgDiWQqUCLTf4Z+kzMaJ6gDwgEA4ghG3bNu+99371kYIt2kC0AGutc9u2BUclQhZugK8nVaBPevzvBDRAlxvVUADICuC9X/3q19WviYFEgLXWOTdtgQLjRwQkkR4DUIVzkN0gpA/q/ddyPR/Ad1vpf2kzCP33fk3iV795SYCzbnLbxEoBzKpJ/V9SAWkFabQwJB8AqZHqXWlA2icYWNd1XdZlXdZ19d5vIQQCQGOMdc75aSvwoxCp79Aa0McGridFywdMIQGWfVRcgPd+XZdlWZZlXdbV+21LBFjr3OSTTYiYmlIkjKk3QEp9Q5eM2N8JwOYeEfslGlji/Y8uYF2XZV6WeVmWdV39tm1EhIjWWjd5v20cGsXQOCBiGQlAgi7iwhbsvxJxOSNUawKmngAAogIEotQFruuyzPO8zAurQCLAuWl6RQWIYYFHg2goZAqwSosXwCMyQlqymaIOigGyB0guYFmWeZ7neV7WxXsfAhGiMc65l9/YJeaRUQjKCwCUuLBHBxil4+ywGBSUGIgZyJ3AMs/z1/y1zFEFog+wzk3+JaICYyMDhoiKFcg8oC6ZHDAYUlFA9vrJBECFgdkH+HVZlmWev77meVkiAYSRgNcWQoZvrd1sCCEykL4nlUtiChGVExg0L6BkbwKcA0v4owp8fX3N87ysayFgygZgLMtmA5FkACCbQK98GPydAKw+of6fxk8ke4GkAvMyz1/zPK+r30IAMMY67wMRpJjYe8fDRRPzhkLfdgzUXvCP7HSsFS74ZRQEyQfEfpD7gflrnhdJwEbEIaFzzvlt27bNxpyRCIepZuC6LvR+ZkgHAVDGgmHz2QqWeZ6/lmVdt40I0dop9n/GOre6yfvNOx4t0+7u5nmxPtKtGyzIBQecCA6lK/TruqzLEmMB76MGuC0w/sWtU0kWMAUpOajQo+oGzkuXGqES+isfQJSzwcULZC1Y5qwBEb91bp3EUDnCB+0EivpzN5B3n5SO9QGNKBnKdABTEEngUZH3kQBHgMY4N0XwAn5lAvmbqLV5Su59epx4IrhkxEVaZPWrD4HQBAI0q1U3P6bN+ewqFuwqfZ8c3esAQZkOZAZKbjD5AEDjXbz1+u7zNHr9RT0jgU+sJBXzwsofxhRxCFsAIAgb58ml5yNoFJH0lw8QQDkiKhI1PIRAhAEDT5pJST70bjm5klTT3x0eIW8mEZXuAbhShJ0979ud8/dv/L2cJODnO1M3voyZuZIoTZ2kBAKASCjvI6q/fePv5QMmIDPFSYxBg2gMBQRjDE8OS8nphZvlU8vpFeA8DWyNtXH2yxhjLWcADBYi4BP4exJA2Kjsi7VPCT1jtdZa6zZHEAKhMc5ZF3caa5mHPLva6lo7OsfuGqCjllQ+naf/4wwIT4IAciToJjfF3ZYZiDbCZ6vrd27vZQJkCUtLY/XdZ/yT9yEQoEmjwek1TdPEDGgtaH5pc/OUXCBAViskc1VmEGcxJHy++ZOP43+TRoPu9XplCooapBIDwUJRfzVO+HxOUIpa+EJugfZ8ltPf/rXF/M/qiga83u/Xa3pNU8Zf/CF/DSSgeauDPfTzATv0UbIBWGedc5OfEn40NmeEptf7/X5nLbDOZiNQ3wGSgy7SgYBcwZKWOxDj9xjbZOufvPd5/sO6khKbpvdbUsCeAGWCGdLwQPQCn0+IaEeny/oLAywIaaKnTIDHsgBANM6JrDCrwPv1ek3aCygXUOGPezQLn50a07JjIHrAEKc/t23atq2kvzkXnuYFXu/3P/+839kKbAwQtRHs8V+VswTIx7pLNyAWe0g5sqIBbtsmrowCY6zTM0PT6/365/1+ZRUo/QB/Ty4wj/6vHjB/anZYSCYhr/+UnYCYzYk+IASXSuPi/I9bJj03GI0gqkAyAlROoLgArrHNmEfUBwiRdXx1PIyAaIgZSOWxUet3s8Ov9+v9jgFB6Qp33QAl+PC/0A1WDzdRnr8Xk9qG0FgKFFwsC4vzH7v6gGl6vaITnHhsYBCNmminhgto5cz+In8moPEkEzsBiB1gMgUWBDREZCy5Uv0gKkIgV4hMr+n1eiUGRC+QvgeyI4DjnNlf6TitAfWdB+EFkkME9gKGyOY8XwwL3LSrEZqm6TVxMMgmICotAEqSjBrB0Fk9uGQCIgRKrRDrHfG+6AXIptCdZwBbVWJTkoxf11ql5GLeV72fkatOMDmBNFsj6tiSCgCaYrlcFelds07QTROPjCsG+Jar/Cr/4+MTI7vbLjy/qmOT4bABsvzBoLG2XSnqXEkLNBSg0gDlDk8rwzUNaJDBU5dlLxKW1GsaGLhmrbBzztmUHmIXIGCRSht3GhB0SIjwA478ea8CCMkKABCNN8babUvz36CrxXNuTI8FlQKIeZPLFtBtLCD8YK7hIcAUEcTq/5Qe2OzR8wI2pQZjSiyeX3o+qQCdBgQnCJB6n3IhhEoF8kvWBa7+55t9+MRIBG9TShBK7CdekjqkzhGuWMN1DcgLG5Q2iDq+4gaCAQDEgMYE+80zQyolGi8oZsukArQjoT/K1cGQzIak/aW6v1T4IRhiEwgmhGAPnxpL8OUTh5C8ACkFiP+Fjw+G6qc50zJfeQcIQ+DkICEwBebb5wYNTxoV/Er5QXxHwwWeIKJbQkSqQCljqBYGMIRIaI6eHOUflQ4vZi/nl7v5wHMEVG5QqkDuAJKIp/+QiAgDUqyBTTjKvCE/O6zUHyTqrAVFAa65wM5ZYapKlwBAMkAIgIRElPBnPVHTogf4M/iuhQPXI0GlArJdWSEIIcUDSFEPDtcPyPDzegMZtdb/hgKcknMENJMClB5wBIDUFXJ2RGQMIgVwsIIEqOiXpPeTdrBLi+RT/iyXM0I5CIhKkAPgqjVlcByLe1triEBjsRESUUDcm+tK+oQCJwloqcDeCAB4aCQzZ1G/cU9AVWZW4d8bwK4Fp5BczweIOJDk0xxaZO4whQZ1kWWV/qQWAckAoFcseH1eAIQfJP1YW5YcG+YduyOqyycFoNr9Zf9Xu4GTRHSsDxBLWjRag6RveYOEcs2iADoOSN2HuP7V/vB6UlQagUyL18dBrfWHV072X8X/Oi1eG8BZIjoFQpTWP2svbZNZ2FNQF72S0H+lAuX2Q8MATst5AvTEGG/tVnZpHKWVv7Zjef+lCkj1bxjAaTZ6TY2lieHm8kaVGfBGdZH0QsIAigpU+Pv0AACdaoT40xEDVVd55CeFbpNkAA7x63PPScfZ4R0DjRPSkc3LSQewJ6CB/7oB9HKCKj3eWvm2njRuhZKgPKDSAoEfCtwuXrDL1FjW8hQQKx1IqiGCJdwzoPEDVb8Zfx4GdIoF+kyMlE+CgaO+sMlAGdwUtDv0Cr8+97R0nRfQDCgOinE0aslkaCNVoEKv8fcJA3oMh8VWCYWwcKAOlQwcxQACdMEuwv8K/5DhcPn2FgOgsAtnoOLl70ygUgRBTWf8fQdDIBmAvRLwUdkEdPKEDiioOr+++DvNDImtKiysDi09Qp0+1SpQQ78Nf/dCyYqBgyU+Kh8oYNUESPC9/R8AdK0VhooBSPgrV5j7QNqZQG0GO9uv8V+nomedIAhguWbwYMkH7hPkHn7RsPe3vy/+PiZQM1ApQU1Bc0CgjaCJ/Q78nccCoBiAQwqqc2BvBYeW3xl/x4xQ3oRs35UifPfIsyKgIqJ9+zu5wu4lMnlbKAEU/EccCHw17Pbt79UV9Jwer7bzIqCUZshS+VCrYxRv1NyAW/B3f2aIt0WdXIKfNvISGFWQJN+aN54ah1+Xvk+O1h+kP5DTpYcpMVBoab8fGh8uSc9IsIrt9hSkyWM8QrDn4Gb4vR+dbShBpmCPvg6F5VaF+zb8vZ8d1gyUqX5Ub6mUtj652qg/Nz9dld4PT9fhDaoN1oDvQOxR1wHU1SZq6f/0eJ3oKAOerA8HE6PNIO9e+LcsoFBF+YURArn5zQWamz+fd0ruWEGingCtgX8zQ/y9s+sP/64lNHbTHvvsx64gZHeNX+zpIDetIbIvBMj+T+05PP13+zrIbYuotGoh6Fv1F0f9cmcPuXEVmWY5yPdO4AjmbfBvXkbnqCJG4vnFsmg3wr99HaGfi4J+RHcr/A8spPQ7u//m7JvlM8vpnaTgfvifIeCcGnwCPXyKAGjFAT8c/CH5GAEAvyThg+ABPkwAQML302jwc/JxAqIMwdqUkytK/v/IQ8DoBoyWh4DRDRgtDwGjGzBaHgJGN2C0PASMbsBoeQgY3YDR8hAwugGj5SFgdANGy0PA6AaMloeA0Q0YLQ8BoxswWh4CRjdgtDwEjG7AaHkIGN2A0fIQMLoBo+UhYHQDRstDwOgGjJaHgNENGC0PAaMbMFoeAkY3YLQ8BIxuwGh5CBjdgNHyX1SjwE6vc5+jAAAAAElFTkSuQmCC'/></td></tr>            <tr><td align='center'>Laplacian of Gaussian</td></tr></table></td><tr></tr></table></body>"
      ],
      "text/plain": [
       "<IPython.core.display.HTML object>"
      ]
     },
     "metadata": {},
     "output_type": "display_data"
    }
   ],
   "source": [
    "if testing:\n",
    "    s, mu, sigma = [256, 256], [128, 128], 20\n",
    "    F = ia.log(s, mu, sigma)\n",
    "    print('image dimensions = ', s)\n",
    "    print('center of function = ', mu)\n",
    "    print('spread factor =', sigma)\n",
    "    ia.adshow(ia.normalize(F), 'Laplacian of Gaussian')"
   ]
  },
  {
   "cell_type": "markdown",
   "metadata": {},
   "source": [
    "## Measuring time:"
   ]
  },
  {
   "cell_type": "code",
   "execution_count": 7,
   "metadata": {
    "ExecuteTime": {
     "end_time": "2017-07-02T20:02:46.520432",
     "start_time": "2017-07-02T20:02:45.821296"
    }
   },
   "outputs": [
    {
     "name": "stdout",
     "output_type": "stream",
     "text": [
      "Computational time is:\n",
      "100 loops, best of 3: 1.46 ms per loop\n"
     ]
    }
   ],
   "source": [
    "if testing:\n",
    "    s, mu, sigma = [256, 256], [128, 128], 20\n",
    "    print('Computational time is:')\n",
    "    %timeit ia.log(s, mu, sigma)"
   ]
  },
  {
   "cell_type": "markdown",
   "metadata": {},
   "source": [
    "## Equation\n",
    "\n",
    "\n",
    "$$\n",
    "    \\begin{matrix}\n",
    "        LoG = \\frac{1}{\\pi\\sigma^4}\n",
    "        \\left[\n",
    "            1 - \\frac{(x-\\mu_x)^2}{2\\sigma^2}\n",
    "         \\right]\n",
    "         e \\frac{-(x-\\mu_x)^2}{2\\sigma^2}\n",
    "    \\end{matrix}\n",
    "$$\n",
    "\n",
    "$$\n",
    "    \\begin{matrix}\n",
    "        LoG = \\frac{1}{\\pi\\sigma^4}\n",
    "        \\left[\n",
    "            1 - \\frac{(r-\\mu_r)^2 + (c-\\mu_c)^2}{2\\sigma^2}\n",
    "        \\right]\n",
    "        e \\frac{(r-\\mu_r)^2 + (c-\\mu_c)^2}{2\\sigma^2}\n",
    "    \\end{matrix}\n",
    "$$"
   ]
  },
  {
   "cell_type": "markdown",
   "metadata": {},
   "source": [
    "## See Also\n",
    "\n",
    " - [logfilter]() - Laplacian of Gaussian filter.\n",
    " - [Blob detection wikipedia](http://en.wikipedia.org/wiki/Blob_detection)\n",
    " - [Laplacian of Gaussian](http://homepages.inf.ed.ac.uk/rbf/HIPR2/log.htm)"
   ]
  },
  {
   "cell_type": "code",
   "execution_count": null,
   "metadata": {
    "collapsed": true
   },
   "outputs": [],
   "source": []
  }
 ],
 "metadata": {
  "kernelspec": {
   "display_name": "Python 3",
   "language": "python",
   "name": "python3"
  },
  "language_info": {
   "codemirror_mode": {
    "name": "ipython",
    "version": 3
   },
   "file_extension": ".py",
   "mimetype": "text/x-python",
   "name": "python",
   "nbconvert_exporter": "python",
   "pygments_lexer": "ipython3",
   "version": "3.6.2"
  },
  "latex_envs": {
   "LaTeX_envs_menu_present": true,
   "autocomplete": true,
   "bibliofile": "biblio.bib",
   "cite_by": "apalike",
   "current_citInitial": 1,
   "eqLabelWithNumbers": true,
   "eqNumInitial": 1,
   "hotkeys": {
    "equation": "Ctrl-E",
    "itemize": "Ctrl-I"
   },
   "labels_anchors": false,
   "latex_user_defs": false,
   "report_style_numbering": false,
   "user_envs_cfg": false
  },
  "toc": {
   "colors": {
    "hover_highlight": "#DAA520",
    "running_highlight": "#FF0000",
    "selected_highlight": "#FFD700"
   },
   "moveMenuLeft": true,
   "nav_menu": {
    "height": "303px",
    "width": "252px"
   },
   "navigate_menu": true,
   "number_sections": true,
   "sideBar": true,
   "threshold": 4,
   "toc_cell": false,
   "toc_section_display": "block",
   "toc_window_display": false,
   "widenNotebook": false
  }
 },
 "nbformat": 4,
 "nbformat_minor": 2
}
