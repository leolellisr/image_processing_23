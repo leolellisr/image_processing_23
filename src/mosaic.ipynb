{
 "cells": [
  {
   "cell_type": "markdown",
   "metadata": {},
   "source": [
    "# Function mosaic"
   ]
  },
  {
   "cell_type": "markdown",
   "metadata": {},
   "source": [
    "## Synopse\n",
    "\n",
    "Create a 2D visualization of a 3D image.\n",
    "\n",
    "- **g = mosaic(f,N,s)**\n",
    "\n",
    "  - **g**: Image. Mosaic of 2D images.\n",
    "\n",
    "  - **f**: Image. 3D image.\n",
    "  - **N**: Integer. Number of image columns in mosaic.\n",
    "  - **s**: Float. Default: 1.0. Scale factor."
   ]
  },
  {
   "cell_type": "markdown",
   "metadata": {},
   "source": [
    "## Description\n",
    "\n",
    "This function puts the slices of a 3D image side-by-side on a mosaic (2D image). The objective is to provide basic 3D visualization."
   ]
  },
  {
   "cell_type": "code",
   "execution_count": 8,
   "metadata": {
    "ExecuteTime": {
     "end_time": "2017-07-02T20:51:13.244610",
     "start_time": "2017-07-02T20:51:12.869215"
    },
    "collapsed": true
   },
   "outputs": [],
   "source": [
    "import numpy as np\n",
    "import scipy.misc\n",
    "\n",
    "def mosaic(f,N,s=1.0):\n",
    "    f = np.asarray(f)\n",
    "    d,h,w = f.shape\n",
    "    N = int(N)\n",
    "    nLines = int(np.ceil(float(d)/N))\n",
    "    nCells = int(nLines*N)\n",
    " \n",
    "    # Add black slices to match the exact number of mosaic cells\n",
    "    fullf = np.resize(f, (nCells,h,w))\n",
    "    fullf[d:nCells,:,:] = 0\n",
    "\n",
    "    Y,X = np.indices((nLines*h,N*w))\n",
    "    Pts = np.array([\n",
    "            (np.floor(Y/h)*N + np.floor(X/w)).ravel(),\n",
    "            np.mod(Y,h).ravel(),\n",
    "            np.mod(X,w).ravel() ]).astype(int).reshape((3,int(nLines*h),int(N*w)))\n",
    "    g = fullf[Pts[0],Pts[1],Pts[2]]\n",
    "    if (s != 1.0):\n",
    "        #g = scipy.ndimage.interpolation.zoom(g,s,order=5)\n",
    "        g = scipy.misc.imresize(g,s,interp='bilinear')\n",
    "    return g"
   ]
  },
  {
   "cell_type": "markdown",
   "metadata": {},
   "source": [
    "## Examples"
   ]
  },
  {
   "cell_type": "code",
   "execution_count": 1,
   "metadata": {
    "ExecuteTime": {
     "end_time": "2020-03-10T20:17:06.174041Z",
     "start_time": "2020-03-10T20:17:02.399581Z"
    }
   },
   "outputs": [
    {
     "name": "stderr",
     "output_type": "stream",
     "text": [
      "[NbConvertApp] Converting notebook mosaic.ipynb to python\n",
      "[NbConvertApp] Writing 2714 bytes to mosaic.py\n"
     ]
    }
   ],
   "source": [
    "testing = (__name__ == \"__main__\")\n",
    "if testing:\n",
    "    ! jupyter nbconvert --to python mosaic.ipynb\n",
    "    import sys\n",
    "    import os\n",
    "    import numpy as np\n",
    "    ea979path = os.path.abspath('../../')\n",
    "    if ea979path not in sys.path:\n",
    "        sys.path.append(ea979path)\n",
    "    import ea979.src as ia\n"
   ]
  },
  {
   "cell_type": "markdown",
   "metadata": {},
   "source": [
    "### Example 1"
   ]
  },
  {
   "cell_type": "code",
   "execution_count": 4,
   "metadata": {
    "ExecuteTime": {
     "end_time": "2017-07-02T20:53:36.907050",
     "start_time": "2017-07-02T20:53:36.862650"
    },
    "scrolled": false
   },
   "outputs": [
    {
     "name": "stdout",
     "output_type": "stream",
     "text": [
      "Original 3D image:\n",
      " [[[ 0  1  2  3]\n",
      "  [ 4  5  6  7]\n",
      "  [ 8  9 10 11]]\n",
      "\n",
      " [[12 13 14 15]\n",
      "  [16 17 18 19]\n",
      "  [20 21 22 23]]\n",
      "\n",
      " [[24 25 26 27]\n",
      "  [28 29 30 31]\n",
      "  [32 33 34 35]]\n",
      "\n",
      " [[36 37 38 39]\n",
      "  [40 41 42 43]\n",
      "  [44 45 46 47]]\n",
      "\n",
      " [[48 49 50 51]\n",
      "  [52 53 54 55]\n",
      "  [56 57 58 59]]] \n",
      "\n",
      "\n",
      "Mosaic with 1 image column(s):\n",
      "\n",
      "[[ 0  1  2  3]\n",
      " [ 4  5  6  7]\n",
      " [ 8  9 10 11]\n",
      " [12 13 14 15]\n",
      " [16 17 18 19]\n",
      " [20 21 22 23]\n",
      " [24 25 26 27]\n",
      " [28 29 30 31]\n",
      " [32 33 34 35]\n",
      " [36 37 38 39]\n",
      " [40 41 42 43]\n",
      " [44 45 46 47]\n",
      " [48 49 50 51]\n",
      " [52 53 54 55]\n",
      " [56 57 58 59]]\n",
      "\n",
      "Mosaic with 2 image column(s):\n",
      "\n",
      "[[ 0  1  2  3 12 13 14 15]\n",
      " [ 4  5  6  7 16 17 18 19]\n",
      " [ 8  9 10 11 20 21 22 23]\n",
      " [24 25 26 27 36 37 38 39]\n",
      " [28 29 30 31 40 41 42 43]\n",
      " [32 33 34 35 44 45 46 47]\n",
      " [48 49 50 51  0  0  0  0]\n",
      " [52 53 54 55  0  0  0  0]\n",
      " [56 57 58 59  0  0  0  0]]\n",
      "\n",
      "Mosaic with 3 image column(s):\n",
      "\n",
      "[[ 0  1  2  3 12 13 14 15 24 25 26 27]\n",
      " [ 4  5  6  7 16 17 18 19 28 29 30 31]\n",
      " [ 8  9 10 11 20 21 22 23 32 33 34 35]\n",
      " [36 37 38 39 48 49 50 51  0  0  0  0]\n",
      " [40 41 42 43 52 53 54 55  0  0  0  0]\n",
      " [44 45 46 47 56 57 58 59  0  0  0  0]]\n",
      "\n",
      "Mosaic with 4 image column(s):\n",
      "\n",
      "[[ 0  1  2  3 12 13 14 15 24 25 26 27 36 37 38 39]\n",
      " [ 4  5  6  7 16 17 18 19 28 29 30 31 40 41 42 43]\n",
      " [ 8  9 10 11 20 21 22 23 32 33 34 35 44 45 46 47]\n",
      " [48 49 50 51  0  0  0  0  0  0  0  0  0  0  0  0]\n",
      " [52 53 54 55  0  0  0  0  0  0  0  0  0  0  0  0]\n",
      " [56 57 58 59  0  0  0  0  0  0  0  0  0  0  0  0]]\n",
      "\n",
      "Mosaic with 5 image column(s):\n",
      "\n",
      "[[ 0  1  2  3 12 13 14 15 24 25 26 27 36 37 38 39 48 49 50 51]\n",
      " [ 4  5  6  7 16 17 18 19 28 29 30 31 40 41 42 43 52 53 54 55]\n",
      " [ 8  9 10 11 20 21 22 23 32 33 34 35 44 45 46 47 56 57 58 59]]\n",
      "\n",
      "Mosaic with 6 image column(s):\n",
      "\n",
      "[[ 0  1  2  3 12 13 14 15 24 25 26 27 36 37 38 39 48 49 50 51  0  0  0  0]\n",
      " [ 4  5  6  7 16 17 18 19 28 29 30 31 40 41 42 43 52 53 54 55  0  0  0  0]\n",
      " [ 8  9 10 11 20 21 22 23 32 33 34 35 44 45 46 47 56 57 58 59  0  0  0  0]]\n",
      "\n",
      "Mosaic with 1 image column(s):\n",
      "\n",
      "[[  5  11  16]\n",
      " [ 26  31  37]\n",
      " [ 46  51  57]\n",
      " [ 67  73  78]\n",
      " [ 90  96 101]\n",
      " [112 118 123]\n",
      " [132 138 143]\n",
      " [154 159 165]\n",
      " [177 183 188]\n",
      " [198 204 209]\n",
      " [218 224 229]\n",
      " [239 245 250]]\n",
      "\n",
      "Mosaic with 2 image column(s):\n",
      "\n",
      "[[  6  12  20  55  64  69]\n",
      " [ 26  32  40  75  84  89]\n",
      " [ 80  85  94 129 137 143]\n",
      " [122 128 136 171 180 185]\n",
      " [164 170 170 127 125 129]\n",
      " [218 223 208  21   0   0]\n",
      " [238 244 227  23   0   0]]\n",
      "\n",
      "Mosaic with 3 image column(s):\n",
      "\n",
      "[[  7  13  21  56  65  73 108 117 122]\n",
      " [ 43  49  57  92 101 106 117 123 128]\n",
      " [149 155 163 198 206 193  34  16  17]\n",
      " [185 191 199 234 242 225  23   0   0]]\n",
      "\n",
      "Mosaic with 4 image column(s):\n",
      "\n",
      "[[  7  13  21  56  65  73 108 117 125 160 169 174]\n",
      " [ 49  55  61  71  77  84 115 123 130 161 169 174]\n",
      " [195 200 188  28  10  11  15  16  17  21  22  22]\n",
      " [237 242 225  23   0   0   0   0   0   0   0   0]]\n",
      "\n",
      "Mosaic with 5 image column(s):\n",
      "\n",
      "[[  7  13  17  49  63  69  94 113 120 139 164 170 184 216 220 226]\n",
      " [ 29  35  39  71  85  91 116 135 142 161 186 192 206 238 242 248]]\n",
      "\n",
      "Mosaic with 6 image column(s):\n",
      "\n",
      "[[  7  13  17  51  63  69  96 114 120 143 165 171 189 216 221 181   0   0\n",
      "    0]\n",
      " [ 29  35  39  73  85  91 118 136 142 165 187 193 211 238 243 199   0   0\n",
      "    0]]\n",
      "\n"
     ]
    }
   ],
   "source": [
    "if testing:\n",
    "    t = np.arange(60)\n",
    "    t.shape = (5,3,4)\n",
    "\n",
    "    print('Original 3D image:\\n', t, '\\n\\n')\n",
    "\n",
    "    for i in range(1,7):\n",
    "        g = ia.mosaic(t,i)\n",
    "        print('Mosaic with %d image column(s):\\n' % i)\n",
    "        print(g)\n",
    "        print()\n",
    "\n",
    "    for i in range(1,7):\n",
    "        g = ia.mosaic(t,i,0.8)\n",
    "        print('Mosaic with %d image column(s):\\n' % i)\n",
    "        print(g)\n",
    "        print()"
   ]
  },
  {
   "cell_type": "markdown",
   "metadata": {},
   "source": [
    "### Example 2"
   ]
  },
  {
   "cell_type": "code",
   "execution_count": 5,
   "metadata": {
    "ExecuteTime": {
     "end_time": "2017-07-02T20:53:43.551673",
     "start_time": "2017-07-02T20:53:43.531065"
    }
   },
   "outputs": [
    {
     "name": "stdout",
     "output_type": "stream",
     "text": [
      "Mosaic with 1 image column(s):\n",
      "\n",
      "[[102 128 153]\n",
      " [136 128 119]\n",
      " [ 76 128 179]\n",
      " [147 128 108]\n",
      " [ 84 128 171]\n",
      " [119 128 136]\n",
      " [119 128 136]\n",
      " [ 84 128 171]\n",
      " [147 128 108]\n",
      " [ 76 128 179]\n",
      " [136 128 119]\n",
      " [102 128 153]]\n",
      "\n",
      "Mosaic with 2 image column(s):\n",
      "\n",
      "[[104 128 143 112 128 151]\n",
      " [132 128 124 131 128 123]\n",
      " [ 76 128 162  93 128 179]\n",
      " [147 128 114 141 128 108]\n",
      " [ 76 128 162  68  81 114]\n",
      " [132 128 112  10   0   0]\n",
      " [104 128 137  17   0   0]]\n",
      "\n",
      "Mosaic with 3 image column(s):\n",
      "\n",
      "[[115 128 136 119 128 136 119 128 140]\n",
      " [110 128 139 116 128 139 108 114 125]\n",
      " [110 128 139 116 128 131  23  14  20]\n",
      " [115 128 136 119 128 128  14   0   0]]\n",
      "\n",
      "Mosaic with 4 image column(s):\n",
      "\n",
      "[[115 128 136 119 128 136 119 128 136 119 128 140]\n",
      " [110 128 139 108 114 121 106 114 121 106 114 125]\n",
      " [110 128 131  23  14  18  10  14  18  10  14  20]\n",
      " [115 128 128  14   0   0   0   0   0   0   0   0]]\n",
      "\n",
      "Mosaic with 5 image column(s):\n",
      "\n",
      "[[112 133 133 115 140 122 122 140 115 133 133 115 140 122 122 143]\n",
      " [112 133 133 115 140 122 122 140 115 133 133 115 140 122 122 143]]\n",
      "\n",
      "Mosaic with 6 image column(s):\n",
      "\n",
      "[[112 132 134 115 138 125 119 140 117 128 138 115 136 130 117 121   0   0\n",
      "    0]\n",
      " [112 132 134 115 138 125 119 140 117 128 138 115 136 130 117 121   0   0\n",
      "    0]]\n",
      "\n"
     ]
    }
   ],
   "source": [
    "if testing:\n",
    "    d,r,c = np.indices((5,3,4))\n",
    "    t = ((r + c)%2) >0\n",
    "\n",
    "    for i in range(1,7):\n",
    "       g = ia.mosaic(t,i,0.8)\n",
    "       print('Mosaic with %d image column(s):\\n' % i)\n",
    "       print(g)\n",
    "       print()"
   ]
  },
  {
   "cell_type": "markdown",
   "metadata": {},
   "source": [
    "## Equation\n",
    "\n",
    "Each element of the original 3D image $(x_{0},y_{0},z_{0})$ is mapped to an element on the destination 2D image (mosaic) $(x_{d},y_{d})$ by the equations.\n",
    "\n",
    "$$ \\begin{matrix}\n",
    "    x_{0} &=& x_{d} &mod& w \\\\\n",
    "    y_{0} &=& y_{d} &mod& h \\\\\n",
    "    z_{0} &=& \\lfloor \\frac{y_{d}}{h} \\rfloor N + \\lfloor \\frac{x_{d}}{w} \\rfloor\n",
    "    \\end{matrix} $$\n",
    "    \n",
    "were $N$ is the number of image columns in mosaic, $w$ is the original image width and $h$ is the original image height."
   ]
  },
  {
   "cell_type": "code",
   "execution_count": null,
   "metadata": {
    "collapsed": true
   },
   "outputs": [],
   "source": []
  }
 ],
 "metadata": {
  "kernelspec": {
   "display_name": "Python 3",
   "language": "python",
   "name": "python3"
  },
  "language_info": {
   "codemirror_mode": {
    "name": "ipython",
    "version": 3
   },
   "file_extension": ".py",
   "mimetype": "text/x-python",
   "name": "python",
   "nbconvert_exporter": "python",
   "pygments_lexer": "ipython3",
   "version": "3.6.2"
  },
  "toc": {
   "colors": {
    "hover_highlight": "#DAA520",
    "running_highlight": "#FF0000",
    "selected_highlight": "#FFD700"
   },
   "moveMenuLeft": true,
   "nav_menu": {
    "height": "138px",
    "width": "252px"
   },
   "navigate_menu": true,
   "number_sections": true,
   "sideBar": true,
   "threshold": 4,
   "toc_cell": false,
   "toc_section_display": "block",
   "toc_window_display": false
  }
 },
 "nbformat": 4,
 "nbformat_minor": 2
}
