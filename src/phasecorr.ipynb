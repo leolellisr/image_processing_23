{
 "cells": [
  {
   "cell_type": "markdown",
   "metadata": {},
   "source": [
    "# Function phasecorr"
   ]
  },
  {
   "cell_type": "markdown",
   "metadata": {},
   "source": [
    "## Synopse"
   ]
  },
  {
   "cell_type": "markdown",
   "metadata": {},
   "source": [
    "Computes the phase correlation of two images.\n",
    "\n",
    "- **g = phasecorr(f,h)**\n",
    "    - **OUTPUT**\n",
    "        - **g**: Image. Phase correlation map.\n",
    "    - **INPUT**\n",
    "        - **f**: Image. n-dimensional.\n",
    "        - **h**: Image. n-dimensional."
   ]
  },
  {
   "cell_type": "markdown",
   "metadata": {},
   "source": [
    "## Description"
   ]
  },
  {
   "cell_type": "markdown",
   "metadata": {},
   "source": [
    "Computes the phase correlation of two n-dimensional images. Notice that the input images must have\n",
    "the same dimension and size. The output is an image with same dimension and size of the input image.\n",
    "This output image is a phase correlation map were the point of maximum value corresponds to the\n",
    "translation between the input images.\n",
    "        "
   ]
  },
  {
   "cell_type": "code",
   "execution_count": 2,
   "metadata": {
    "ExecuteTime": {
     "end_time": "2017-05-25T10:53:09.137319",
     "start_time": "2017-05-25T10:53:08.989307"
    },
    "collapsed": true
   },
   "outputs": [],
   "source": [
    "import numpy as np\n",
    "def phasecorr(f,h):\n",
    "    F = np.fft.fftn(f)\n",
    "    H = np.fft.fftn(h)\n",
    "    T = F * np.conjugate(H)\n",
    "    R = T/np.abs(T)\n",
    "    g = np.fft.ifftn(R)\n",
    "    return g.real"
   ]
  },
  {
   "cell_type": "markdown",
   "metadata": {},
   "source": [
    "## Examples"
   ]
  },
  {
   "cell_type": "code",
   "execution_count": 1,
   "metadata": {
    "ExecuteTime": {
     "end_time": "2020-03-10T20:20:00.120489Z",
     "start_time": "2020-03-10T20:19:59.358924Z"
    }
   },
   "outputs": [],
   "source": [
    "testing = (__name__ == \"__main__\")\n",
    "if testing:\n",
    "    import numpy as np\n",
    "    import sys,os\n",
    "    ea979path = os.path.abspath('../../')\n",
    "    if ea979path not in sys.path:\n",
    "        sys.path.append(ea979path)\n",
    "    import ea979.src as ia\n",
    "    \n",
    "    %matplotlib inline\n",
    "    import matplotlib.image as mpimg\n"
   ]
  },
  {
   "cell_type": "markdown",
   "metadata": {},
   "source": [
    "### Example 1"
   ]
  },
  {
   "cell_type": "markdown",
   "metadata": {},
   "source": [
    "Show that the point of maximum correlation for two equal images is the origin.\n",
    "        \n",
    "    "
   ]
  },
  {
   "cell_type": "code",
   "execution_count": 4,
   "metadata": {
    "ExecuteTime": {
     "end_time": "2017-05-25T10:53:12.318472",
     "start_time": "2017-05-25T10:53:12.259463"
    }
   },
   "outputs": [
    {
     "name": "stdout",
     "output_type": "stream",
     "text": [
      "[255  50]\n"
     ]
    }
   ],
   "source": [
    "if testing:\n",
    "    # 2D example\n",
    "    f1 = mpimg.imread(\"../data/cameraman.tif\")\n",
    "    noise = np.random.rand(f1.shape[0],f1.shape[1])\n",
    "    f2 = ia.normalize(ia.ptrans(f1,(-1,50)) + 300 * noise)\n",
    "    g1 = ia.phasecorr(f1,f2)\n",
    "    i = np.argmax(g1)\n",
    "    row,col = np.unravel_index(i,g1.shape)\n",
    "    v = g1[row,col]\n",
    "    print(np.array(f1.shape) - np.array((row,col)))"
   ]
  },
  {
   "cell_type": "code",
   "execution_count": null,
   "metadata": {
    "ExecuteTime": {
     "start_time": "2017-05-25T13:52:50.345Z"
    }
   },
   "outputs": [],
   "source": [
    "if testing:\n",
    "    print('max at:(%d, %d)' % (row,col))\n",
    "\n",
    "    ia.adshow(ia.normalize(f1), \"input image\")\n",
    "    ia.adshow(ia.normalize(f2), \"input image\")\n",
    "    ia.adshow(ia.normalize(g1), \"Correlation peak at (%d,%d) with %d\" % (row,col,v))"
   ]
  },
  {
   "cell_type": "markdown",
   "metadata": {},
   "source": [
    "### Exemplo 3"
   ]
  },
  {
   "cell_type": "markdown",
   "metadata": {},
   "source": [
    "Show how to perform Template Matching using phase correlation."
   ]
  },
  {
   "cell_type": "code",
   "execution_count": null,
   "metadata": {
    "ExecuteTime": {
     "end_time": "2017-05-25T09:36:11.304533",
     "start_time": "2017-05-25T09:36:11.237484"
    }
   },
   "outputs": [],
   "source": [
    "if testing:\n",
    "    # 2D example\n",
    "    w1 = f1[27:69,83:147]\n",
    "    \n",
    "    h3 = np.zeros_like(f1)\n",
    "    h3[:w1.shape[0],:w1.shape[1]] = w1\n",
    "    noise = np.random.rand(h3.shape[0],h3.shape[1])\n",
    "    h3 = ia.normalize(h3 + 100 * noise)\n",
    "\n",
    "    h3 = ia.ptrans(h3, - np.array(w1.shape, dtype=int)//2)\n",
    "    \n",
    "    g9 = ia.phasecorr(f1,h3)\n",
    "    \n",
    "    p3 = np.unravel_index(np.argmax(g9), g9.shape)\n",
    "    g11 = ia.ptrans(h3,p3)\n",
    "    \n",
    "    ia.adshow(ia.normalize(f1), \"Original 2D image - Cameraman\")\n",
    "    ia.adshow(ia.normalize(w1), \"2D Template\")\n",
    "    ia.adshow(ia.normalize(h3), \"2D Template same size as f1\")\n",
    "    ia.adshow(ia.normalize(g9), \"Cameraman - Correlation peak: %s\"%str(p3))\n",
    "    ia.adshow(ia.normalize((g11*2.+f1)/3.), \"Template translated mixed with original image\")"
   ]
  },
  {
   "cell_type": "markdown",
   "metadata": {},
   "source": [
    "## Equation"
   ]
  },
  {
   "cell_type": "markdown",
   "metadata": {},
   "source": [
    "We calculate the discrete Fourier transform of the input images $f$ and $h$:\n",
    "\n",
    "$$    F = \\mathcal{F}(f); $$\n",
    "\n",
    "$$    H = \\mathcal{F}(h). $$\n",
    "\n",
    "Next, the following equation compute $R$\n",
    "\n",
    "$$    R = \\dfrac{F H^*}{|F H^*|}. $$\n",
    "    \n",
    "Finally, the result is given by applying the inverse discrete Fourier transform to $R$\n",
    "\n",
    "$$    g = \\mathcal{F}^{-1}(R). $$\n",
    "\n",
    "The displacement (not implemented in this function) can be obtained by:\n",
    "\n",
    "$$ (row, col) = arg max\\{g\\} $$"
   ]
  },
  {
   "cell_type": "markdown",
   "metadata": {},
   "source": [
    "## See also"
   ]
  },
  {
   "cell_type": "markdown",
   "metadata": {},
   "source": [
    "- `ia636:iadft iadft` -- Discrete Fourier Transform.\n",
    "- `ia636:iaidft iaidft` -- Inverse Discrete Fourier Transform.\n",
    "- `ia636:iaptrans iaptrans` -- Periodic translation.\n",
    "- `ia636:iamosaic iamosaic` -- Creates a mosaic of images from the input volume (3D).\n",
    "- `ia636:iacorrdemo iacorrdemo` -- Illustrate the Template Matching technique."
   ]
  },
  {
   "cell_type": "markdown",
   "metadata": {},
   "source": [
    "## References"
   ]
  },
  {
   "cell_type": "markdown",
   "metadata": {},
   "source": [
    "- E. De Castro and C. Morandi \"Registration of Translated and Rotated Images Using Finite Fourier Transforms\", IEEE Transactions on pattern analysis and machine intelligence, Sept. 1987."
   ]
  },
  {
   "cell_type": "markdown",
   "metadata": {},
   "source": [
    "## Contributions"
   ]
  },
  {
   "cell_type": "markdown",
   "metadata": {},
   "source": [
    "- André Luis da Costa, 1st semester 2011"
   ]
  }
 ],
 "metadata": {
  "kernelspec": {
   "display_name": "Python 3",
   "language": "python",
   "name": "python3"
  },
  "language_info": {
   "codemirror_mode": {
    "name": "ipython",
    "version": 3
   },
   "file_extension": ".py",
   "mimetype": "text/x-python",
   "name": "python",
   "nbconvert_exporter": "python",
   "pygments_lexer": "ipython3",
   "version": "3.6.2"
  },
  "toc": {
   "colors": {
    "hover_highlight": "#DAA520",
    "running_highlight": "#FF0000",
    "selected_highlight": "#FFD700"
   },
   "moveMenuLeft": true,
   "nav_menu": {
    "height": "325px",
    "width": "252px"
   },
   "navigate_menu": true,
   "number_sections": true,
   "sideBar": true,
   "threshold": 4,
   "toc_cell": false,
   "toc_section_display": "block",
   "toc_window_display": false
  }
 },
 "nbformat": 4,
 "nbformat_minor": 2
}
