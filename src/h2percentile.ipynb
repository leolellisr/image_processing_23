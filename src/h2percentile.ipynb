{
 "cells": [
  {
   "cell_type": "markdown",
   "metadata": {},
   "source": [
    "# Function h2percentile\n",
    "\n",
    "## Synopse\n",
    "\n",
    "The *h2percentile* function computes the percentile given an image histogram.\n",
    "\n",
    "- **g = iapercentile(h,q)**\n",
    "    - **Output**\n",
    "        - **g**: percentile value(s)\n",
    "      \n",
    "    - **Input**\n",
    "        - **h**: 1D ndarray: histogram\n",
    "        - **q**: 1D float ndarray in range of [0,100]. Default value = 1.\n",
    "    \n",
    "## Description\n",
    "\n",
    "The *h2percentile* function computes the percentiles from a given histogram.\n",
    "\n",
    "## Function Code"
   ]
  },
  {
   "cell_type": "code",
   "execution_count": null,
   "metadata": {
    "collapsed": true
   },
   "outputs": [],
   "source": [
    "def h2percentile(h,p):\n",
    "\n",
    "    import numpy as np\n",
    "    s = h.sum()\n",
    "    k = ((s-1) * p/100.)+1\n",
    "    dw = np.floor(k)\n",
    "    up = np.ceil(k)\n",
    "    hc = np.cumsum(h)\n",
    "    if isinstance(p, int):\n",
    "        k1 = np.argmax(hc>=dw)\n",
    "        k2 = np.argmax(hc>=up)\n",
    "    else:   \n",
    "        k1 = np.argmax(hc>=dw[:,np.newaxis],axis=1)\n",
    "        k2 = np.argmax(hc>=up[:,np.newaxis],axis=1)\n",
    "    d0 = k1 * (up-k)\n",
    "    d1 = k2 * (k -dw)\n",
    "    return np.where(dw==up,k1,d0+d1)     "
   ]
  },
  {
   "cell_type": "markdown",
   "metadata": {},
   "source": [
    "## Examples"
   ]
  },
  {
   "cell_type": "code",
   "execution_count": 1,
   "metadata": {
    "ExecuteTime": {
     "end_time": "2020-03-10T20:06:04.368357Z",
     "start_time": "2020-03-10T20:06:00.218598Z"
    }
   },
   "outputs": [
    {
     "name": "stderr",
     "output_type": "stream",
     "text": [
      "[NbConvertApp] Converting notebook h2percentile.ipynb to python\n",
      "[NbConvertApp] Writing 3005 bytes to h2percentile.py\n"
     ]
    }
   ],
   "source": [
    "testing = (__name__ == \"__main__\")\n",
    "\n",
    "if testing:\n",
    "    ! jupyter nbconvert --to python h2percentile.ipynb\n",
    "    import numpy as np\n",
    "    import sys,os\n",
    "    import matplotlib.image as mpimg\n",
    "    ea979path = os.path.abspath('../../')\n",
    "    if ea979path not in sys.path:\n",
    "        sys.path.append(ea979path)\n",
    "    import ea979.src as ia\n"
   ]
  },
  {
   "cell_type": "markdown",
   "metadata": {},
   "source": [
    "### Numeric Example\n",
    "\n",
    "Comparison with the NumPy percentile implementation:\n",
    "\n"
   ]
  },
  {
   "cell_type": "code",
   "execution_count": 2,
   "metadata": {
    "ExecuteTime": {
     "end_time": "2017-07-02T17:56:21.874258",
     "start_time": "2017-07-02T17:56:21.849013"
    }
   },
   "outputs": [
    {
     "name": "stdout",
     "output_type": "stream",
     "text": [
      "h2percentile  1 = 0.080000, np.percentile  1 = 0.080000\n",
      "h2percentile 10 = 0.800000, np.percentile 10 = 0.800000\n",
      "h2percentile 50 = 4.000000, np.percentile 50 = 4.000000\n",
      "h2percentile 90 = 7.200000, np.percentile 90 = 7.200000\n",
      "h2percentile 99 = 7.920000, np.percentile 99 = 7.920000\n"
     ]
    }
   ],
   "source": [
    "if testing:\n",
    "    f = np.array([0,1,2,3,4,5,6,7,8])\n",
    "    h = ia.histogram(f)\n",
    "    print('h2percentile  1 = %f, np.percentile  1 = %f'%(ia.h2percentile(h,1),np.percentile(f,1)))\n",
    "    print('h2percentile 10 = %f, np.percentile 10 = %f'%(ia.h2percentile(h,10),np.percentile(f,10)))\n",
    "    print('h2percentile 50 = %f, np.percentile 50 = %f'%(ia.h2percentile(h,50),np.percentile(f,50)))\n",
    "    print('h2percentile 90 = %f, np.percentile 90 = %f'%(ia.h2percentile(h,90),np.percentile(f,90)))\n",
    "    print('h2percentile 99 = %f, np.percentile 99 = %f'%(ia.h2percentile(h,99),np.percentile(f,99)))"
   ]
  },
  {
   "cell_type": "code",
   "execution_count": 3,
   "metadata": {
    "ExecuteTime": {
     "end_time": "2017-07-02T17:56:23.148118",
     "start_time": "2017-07-02T17:56:23.136899"
    }
   },
   "outputs": [
    {
     "name": "stdout",
     "output_type": "stream",
     "text": [
      "percentiles: [1, 10, 50, 90, 99]\n",
      "h2percentile [ 0.09  0.9   4.5   8.1   8.91]\n",
      "np.percentile [ 0.09  0.9   4.5   8.1   8.91]\n"
     ]
    }
   ],
   "source": [
    "if testing:\n",
    "    f = np.array([0, 1, 2, 3, 4, 5, 6, 7, 8, 9])\n",
    "    h = ia.histogram(f)\n",
    "    p = [1, 10, 50, 90, 99]\n",
    "    print('percentiles:', p)\n",
    "    print('h2percentile', ia.h2percentile(h,np.array(p)))\n",
    "    print('np.percentile', np.percentile(f,p))"
   ]
  },
  {
   "cell_type": "markdown",
   "metadata": {},
   "source": [
    "### Image Example"
   ]
  },
  {
   "cell_type": "code",
   "execution_count": 4,
   "metadata": {
    "ExecuteTime": {
     "end_time": "2017-07-02T17:56:28.277863",
     "start_time": "2017-07-02T17:56:28.216496"
    }
   },
   "outputs": [
    {
     "name": "stdout",
     "output_type": "stream",
     "text": [
      "percentiles: [1, 10, 50, 90, 99]\n",
      "h2percentile [   2.    8.  180.  222.  251.]\n",
      "np.percentile [   2.    8.  180.  222.  251.]\n",
      "median 180.0\n"
     ]
    }
   ],
   "source": [
    "if testing:\n",
    "    import matplotlib.image as mpimg\n",
    "    f = mpimg.imread('../data/cameraman.tif')  \n",
    "    h = ia.histogram(f)\n",
    "    p = [1, 10, 50, 90, 99]\n",
    "    print('percentiles:', p)\n",
    "    print('h2percentile', ia.h2percentile(h,np.array(p)))\n",
    "    print('np.percentile', np.percentile(f,p))\n",
    "    print('median', np.median(f))"
   ]
  },
  {
   "cell_type": "markdown",
   "metadata": {},
   "source": [
    "## See also\n",
    "\n",
    "- `ia636:iahistogram iahistogram`\n",
    "- `ia636:iapercentile` - Computes the percentile from the image\n",
    "\n",
    "## References\n",
    "\n",
    "- `http://docs.scipy.org/doc/scipy/reference/stats.html SciPy Stats`\n",
    "- `http://docs.scipy.org/doc/numpy-dev/reference/generated/numpy.percentile.html numpy percentile`\n",
    "\n",
    "## Contributions\n",
    "\n",
    "- Mariana Bento, August 2013"
   ]
  },
  {
   "cell_type": "code",
   "execution_count": null,
   "metadata": {
    "collapsed": true
   },
   "outputs": [],
   "source": []
  }
 ],
 "metadata": {
  "kernelspec": {
   "display_name": "Python 3",
   "language": "python",
   "name": "python3"
  },
  "language_info": {
   "codemirror_mode": {
    "name": "ipython",
    "version": 3
   },
   "file_extension": ".py",
   "mimetype": "text/x-python",
   "name": "python",
   "nbconvert_exporter": "python",
   "pygments_lexer": "ipython3",
   "version": "3.6.2"
  },
  "toc": {
   "colors": {
    "hover_highlight": "#DAA520",
    "running_highlight": "#FF0000",
    "selected_highlight": "#FFD700"
   },
   "moveMenuLeft": true,
   "nav_menu": {
    "height": "192px",
    "width": "252px"
   },
   "navigate_menu": true,
   "number_sections": true,
   "sideBar": true,
   "threshold": 4,
   "toc_cell": false,
   "toc_section_display": "block",
   "toc_window_display": false
  }
 },
 "nbformat": 4,
 "nbformat_minor": 2
}
