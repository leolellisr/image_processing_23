{
 "cells": [
  {
   "cell_type": "markdown",
   "metadata": {},
   "source": [
    "# Function iainterpollin\n",
    "\n",
    "## Synopse\n",
    "\n",
    "Perform linear interpolation\n",
    "\n",
    "- **v = iainterpollin(f, pts)**\n",
    "    - **f:** 1D, 2D or 3D image to be interpolated\n",
    "    - **pts:** array DxN with the points to interpolate (one in each column)\n",
    "    - **v:** array of the interpolated values\n",
    "    \n",
    "\n",
    "For each cell the following equation needs to be solved:\n",
    "\n",
    "1D: $ v = a + bx $\n",
    "\n",
    "2D: $ v = a + bx + cy + exy $\n",
    "\n",
    "3D: $ v = a + bx + cy + dz + exy + fxz + gyz + hxyz $\n",
    "\n",
    "where $x, y$ and $z$ are the fractional part of the coordinate.\n",
    "    "
   ]
  },
  {
   "cell_type": "code",
   "execution_count": 1,
   "metadata": {
    "ExecuteTime": {
     "end_time": "2017-05-24T21:27:15.760595",
     "start_time": "2017-05-24T21:27:15.360485"
    },
    "collapsed": true
   },
   "outputs": [],
   "source": [
    "import numpy as np\n",
    "\n",
    "def interpollin(f, pts):\n",
    "    # f - one, two or three dimention array\n",
    "    # pts - array of points to interpolate:\n",
    "    # throws IndexError if there are indices out of range in pts\n",
    "    #from iainterpollin import iainterpollin1D, iainterpollin2D, iainterpollin3D\n",
    "    f = f.astype(float)\n",
    "    if f.ndim == 1:\n",
    "        return interpollin1D(f, np.ravel(pts))\n",
    "    if f.ndim == 2:\n",
    "        return interpollin2D(f, pts)\n",
    "    if f.ndim == 3:\n",
    "        return interpollin3D(f, pts)"
   ]
  },
  {
   "cell_type": "code",
   "execution_count": 2,
   "metadata": {
    "ExecuteTime": {
     "end_time": "2017-05-24T21:27:16.087819",
     "start_time": "2017-05-24T21:27:16.070417"
    },
    "collapsed": true
   },
   "outputs": [],
   "source": [
    "def interpollin1D(f, pts):\n",
    "    # f - one dimention array\n",
    "    # pts - array of points to interpolate:\n",
    "    # throws IndexError if there are indices out of range in pts\n",
    "    import numpy as np\n",
    "\n",
    "    # integer indices\n",
    "    ipts = np.floor(pts).astype(int)\n",
    "\n",
    "    # fractional indices\n",
    "    fpts = pts - ipts\n",
    "\n",
    "    # workaround for the case some index equals the last valid index\n",
    "    fpts[ipts>=f.shape[0]-1] += 1\n",
    "    ipts[ipts>=f.shape[0]-1] -= 1\n",
    "\n",
    "    I = ipts.copy()\n",
    "    Ix = ipts.copy()+1\n",
    "\n",
    "    a = f[I]\n",
    "    b = f[Ix] - a\n",
    "\n",
    "    return a + b*fpts\n"
   ]
  },
  {
   "cell_type": "code",
   "execution_count": 3,
   "metadata": {
    "ExecuteTime": {
     "end_time": "2017-05-24T21:27:17.029327",
     "start_time": "2017-05-24T21:27:17.003788"
    },
    "collapsed": true
   },
   "outputs": [],
   "source": [
    "def interpollin2D(f, pts):\n",
    "    # f - bi-dimentional image\n",
    "    # pts - array (2xN) of points to interpolate:\n",
    "    # throws IndexError if there are indices out of range in pts\n",
    "    # let's consider x the first and y the second dimention\n",
    "    import numpy as np\n",
    "\n",
    "    # integer indices\n",
    "    ipts = np.floor(pts).astype(int)\n",
    "\n",
    "    # fractional indices\n",
    "    fpts = pts - ipts\n",
    "\n",
    "    # workaround for the case some index equals the last valid index in the respective dimension\n",
    "    fpts[0][ipts[0]>=f.shape[0]-1] += 1\n",
    "    ipts[0][ipts[0]>=f.shape[0]-1] -= 1\n",
    "    fpts[1][ipts[1]>=f.shape[1]-1] += 1\n",
    "    ipts[1][ipts[1]>=f.shape[1]-1] -= 1\n",
    "\n",
    "    I = ipts.copy()\n",
    "    Ix = ipts.copy()\n",
    "    Ix[0] += 1\n",
    "    Iy = ipts.copy()\n",
    "    Iy[1] += 1\n",
    "    Ixy = Ix.copy()\n",
    "    Ixy[1] += 1\n",
    "\n",
    "    a = f[I[0], I[1]]\n",
    "    b = f[Ix[0], Ix[1]] - a\n",
    "    c = f[Iy[0], Iy[1]] - a\n",
    "    e = f[Ixy[0], Ixy[1]] - a - b - c\n",
    "\n",
    "    return a + b*fpts[0] + c*fpts[1] + e*fpts[0]*fpts[1]"
   ]
  },
  {
   "cell_type": "code",
   "execution_count": 4,
   "metadata": {
    "ExecuteTime": {
     "end_time": "2017-05-24T21:27:17.974653",
     "start_time": "2017-05-24T21:27:17.918580"
    }
   },
   "outputs": [],
   "source": [
    "def interpollin3D(ff, pts):\n",
    "    # ff - tri dimentional image\n",
    "    # pts - array (3xN) of points to interpolate:\n",
    "    # throws IndexError if there are indices out of range in pts\n",
    "    # let's consider x the first dimension, y the second and z the third\n",
    "    import numpy as np\n",
    "\n",
    "    # integer indices\n",
    "    ipts = np.floor(pts).astype(int)\n",
    "\n",
    "    # fractional indices\n",
    "    fpts = pts - ipts\n",
    "\n",
    "    # workaround for the case some index equals the last valid index in the respective dimension\n",
    "    fpts[0][ipts[0]>=ff.shape[0]-1] += 1\n",
    "    ipts[0][ipts[0]>=ff.shape[0]-1] -= 1\n",
    "    fpts[1][ipts[1]>=ff.shape[1]-1] += 1\n",
    "    ipts[1][ipts[1]>=ff.shape[1]-1] -= 1\n",
    "    fpts[2][ipts[2]>=ff.shape[2]-1] += 1\n",
    "    ipts[2][ipts[2]>=ff.shape[2]-1] -= 1\n",
    "\n",
    "    I = ipts.copy()\n",
    "    Ix = ipts.copy()\n",
    "    Ix[0] += 1\n",
    "    Iy = ipts.copy()\n",
    "    Iy[1] += 1\n",
    "    Iz = ipts.copy()\n",
    "    Iz[2] += 1\n",
    "    Ixy = Ix.copy()\n",
    "    Ixy[1] += 1\n",
    "    Ixz = Ix.copy()\n",
    "    Ixz[2] += 1\n",
    "    Iyz = Iy.copy()\n",
    "    Iyz[2] += 1\n",
    "    Ixyz = Ixy.copy()\n",
    "    Ixyz[2] += 1\n",
    "\n",
    "    a = ff[I[0], I[1], I[2]]\n",
    "    b = ff[Ix[0], Ix[1], Ix[2]] - a\n",
    "    c = ff[Iy[0], Iy[1], Iy[2]] - a\n",
    "    d = ff[Iz[0], Iz[1], Iz[2]] - a\n",
    "    e = ff[Ixy[0], Ixy[1], Ixy[2]] - a - b - c\n",
    "    f = ff[Ixz[0], Ixz[1], Ixz[2]] - a - b - d\n",
    "    g = ff[Iyz[0], Iyz[1], Iyz[2]] - a - c - d\n",
    "    h = ff[Ixyz[0], Ixyz[1], Ixyz[2]] - a - b - c - d - e - f - g\n",
    "\n",
    "    return a + b*fpts[0] + c*fpts[1] + d*fpts[2] + e*fpts[0]*fpts[1] + \\\n",
    "               f*fpts[0]*fpts[2] + g*fpts[1]*fpts[2] + h*fpts[0]*fpts[1]*fpts[2]"
   ]
  },
  {
   "cell_type": "markdown",
   "metadata": {},
   "source": [
    "## Example"
   ]
  },
  {
   "cell_type": "code",
   "execution_count": 1,
   "metadata": {
    "ExecuteTime": {
     "end_time": "2020-03-10T20:14:01.618780Z",
     "start_time": "2020-03-10T20:13:57.380692Z"
    }
   },
   "outputs": [
    {
     "name": "stderr",
     "output_type": "stream",
     "text": [
      "[NbConvertApp] Converting notebook interpollin.ipynb to python\n",
      "[NbConvertApp] Writing 5469 bytes to interpollin.py\n"
     ]
    }
   ],
   "source": [
    "testing = (__name__ == \"__main__\")\n",
    "if testing:\n",
    "    ! jupyter nbconvert --to python interpollin.ipynb\n",
    "    import numpy as np\n",
    "    import sys,os\n",
    "    ea979path = os.path.abspath('../../')\n",
    "    if ea979path not in sys.path:\n",
    "        sys.path.append(ea979path)\n",
    "    import ea979.src as ia\n"
   ]
  },
  {
   "cell_type": "code",
   "execution_count": 2,
   "metadata": {
    "ExecuteTime": {
     "end_time": "2017-07-02T18:56:20.110717",
     "start_time": "2017-07-02T18:56:20.068108"
    }
   },
   "outputs": [
    {
     "name": "stdout",
     "output_type": "stream",
     "text": [
      "1D interpolation\n",
      "Im=  [ 1  7 10  5  3  0 -5  6]\n",
      "points=  [ 1.5  2.1  2.5  2.9  0.1]\n",
      "Interpol vaules=  [ 8.5  9.5  7.5  5.5  1.6]\n",
      "\n",
      "\n",
      "2D interpolation\n",
      "Im=\n",
      " [[0 1 2]\n",
      " [3 4 5]\n",
      " [6 7 8]]\n",
      "points=\n",
      " [[ 0.   0.5  0.   0.5  1.5  2. ]\n",
      " [ 0.   0.   0.5  0.5  1.5  2. ]]\n",
      "Interpol vaules=  [ 0.   1.5  0.5  2.   6.   8. ]\n",
      "\n",
      "\n",
      "3D interpolation\n",
      "Im=\n",
      " [[[ 0  1  2]\n",
      "  [ 3  4  5]\n",
      "  [ 6  7  8]]\n",
      "\n",
      " [[ 9 10 11]\n",
      "  [12 13 14]\n",
      "  [15 16 17]]\n",
      "\n",
      " [[18 19 20]\n",
      "  [21 22 23]\n",
      "  [24 25 26]]]\n",
      "points=\n",
      " [[ 0.   0.5  0.   0.   0.5  0.5  2. ]\n",
      " [ 0.   0.   0.5  0.   0.5  0.5  2. ]\n",
      " [ 0.   0.   0.   0.5  0.   0.5  2. ]]\n",
      "Interpol vaules=  [  0.    4.5   1.5   0.5   6.    6.5  26. ]\n"
     ]
    }
   ],
   "source": [
    "if testing:\n",
    "    print(\"1D interpolation\")\n",
    "    Im = np.array([1, 7, 10, 5, 3, 0, -5, 6])\n",
    "    points = np.array([1.5, 2.1, 2.5, 2.9, 0.1])\n",
    "    print(\"Im= \", Im)\n",
    "    print(\"points= \", points)\n",
    "    print(\"Interpol vaules= \", ia.interpollin(Im, points))\n",
    "    print(\"\\n\")\n",
    "\n",
    "    print(\"2D interpolation\")\n",
    "    Im = np.arange(0, 9)\n",
    "    Im.shape = (3, 3)\n",
    "    print(\"Im=\\n\", Im)\n",
    "    points = np.array([[0, 0.5, 0,   0.5, 1.5, 2],\n",
    "                       [0, 0,   0.5, 0.5, 1.5, 2]])\n",
    "    print(\"points=\\n\", points)\n",
    "    print(\"Interpol vaules= \", ia.interpollin(Im, points))\n",
    "    print(\"\\n\")\n",
    "\n",
    "    print(\"3D interpolation\")\n",
    "    Im = np.arange(0, 27)\n",
    "    Im.shape = (3, 3, 3)\n",
    "    print(\"Im=\\n\", Im)\n",
    "    points = np.array([[0, 0.5, 0,   0, 0.5, 0.5, 2],\n",
    "                       [0, 0,   0.5, 0, 0.5, 0.5, 2],\n",
    "                       [0, 0,   0,   0.5, 0, 0.5, 2]])\n",
    "    print(\"points=\\n\", points)\n",
    "    print(\"Interpol vaules= \", ia.interpollin(Im, points))"
   ]
  },
  {
   "cell_type": "markdown",
   "metadata": {},
   "source": [
    "## See Also\n",
    "\n",
    "- `iaffine3` - 3D affine geometric transform\n",
    "- `iainterpolclosest` - Interpolate closest"
   ]
  },
  {
   "cell_type": "code",
   "execution_count": null,
   "metadata": {
    "collapsed": true
   },
   "outputs": [],
   "source": []
  }
 ],
 "metadata": {
  "kernelspec": {
   "display_name": "Python 3",
   "language": "python",
   "name": "python3"
  },
  "language_info": {
   "codemirror_mode": {
    "name": "ipython",
    "version": 3
   },
   "file_extension": ".py",
   "mimetype": "text/x-python",
   "name": "python",
   "nbconvert_exporter": "python",
   "pygments_lexer": "ipython3",
   "version": "3.6.2"
  },
  "toc": {
   "colors": {
    "hover_highlight": "#DAA520",
    "running_highlight": "#FF0000",
    "selected_highlight": "#FFD700"
   },
   "moveMenuLeft": true,
   "nav_menu": {
    "height": "86px",
    "width": "252px"
   },
   "navigate_menu": true,
   "number_sections": true,
   "sideBar": true,
   "threshold": 4,
   "toc_cell": false,
   "toc_section_display": "block",
   "toc_window_display": false
  }
 },
 "nbformat": 4,
 "nbformat_minor": 2
}
