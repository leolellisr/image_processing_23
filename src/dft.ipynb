{
 "cells": [
  {
   "cell_type": "markdown",
   "metadata": {},
   "source": [
    "# dft"
   ]
  },
  {
   "cell_type": "markdown",
   "metadata": {},
   "source": [
    "## Synopse\n",
    "\n",
    "Discrete 1D/2D/3D Fourier Transform.\n",
    "\n",
    "- **F = dft(f)**\n",
    "\n",
    "  - **F**: Output Image. \n",
    "  - **f**: Original Image. "
   ]
  },
  {
   "cell_type": "markdown",
   "metadata": {},
   "source": [
    "## Function Code"
   ]
  },
  {
   "cell_type": "code",
   "execution_count": 3,
   "metadata": {
    "ExecuteTime": {
     "end_time": "2017-05-10T23:40:30.150996",
     "start_time": "2017-05-10T23:40:30.132074"
    },
    "collapsed": true
   },
   "outputs": [],
   "source": [
    "import numpy as np\n",
    "\n",
    "def dft(f):\n",
    "    import ea979.src as ia\n",
    "    f = np.asarray(f).astype(np.float64)\n",
    "    if (len(f.shape) == 1):\n",
    "        m = len(f)\n",
    "        A = ia.dftmatrix(f.shape[0])\n",
    "        F = np.sqrt(m) * A.dot(f)\n",
    "    elif (len(f.shape) == 2):\n",
    "        (m, n) = f.shape\n",
    "        A = ia.dftmatrix(m)\n",
    "        B = ia.dftmatrix(n)\n",
    "        F = np.sqrt(m * n) * (A.dot(f)).dot(B)\n",
    "    else:\n",
    "        (p,m,n) = f.shape\n",
    "        A = ia.dftmatrix(m)\n",
    "        B = ia.dftmatrix(n)\n",
    "        C = ia.dftmatrix(p)\n",
    "        Faux = A.dot(f)\n",
    "        Faux = Faux.dot(B)\n",
    "        F = np.sqrt(p)*np.sqrt(m)*np.sqrt(n)*C.dot(Faux)   \n",
    "    return F"
   ]
  },
  {
   "cell_type": "markdown",
   "metadata": {},
   "source": [
    "## Examples"
   ]
  },
  {
   "cell_type": "code",
   "execution_count": 1,
   "metadata": {
    "ExecuteTime": {
     "end_time": "2020-03-10T20:01:15.741413Z",
     "start_time": "2020-03-10T20:01:11.749978Z"
    }
   },
   "outputs": [
    {
     "name": "stderr",
     "output_type": "stream",
     "text": [
      "[NbConvertApp] Converting notebook dft.ipynb to python\n",
      "[NbConvertApp] Writing 3521 bytes to dft.py\n"
     ]
    }
   ],
   "source": [
    "testing = (__name__ == \"__main__\")\n",
    "if testing:\n",
    "    ! jupyter nbconvert --to python dft.ipynb\n",
    "    import numpy as np\n",
    "    import sys,os\n",
    "    ea979path = os.path.abspath('../../')\n",
    "    if ea979path not in sys.path:\n",
    "        sys.path.append(ea979path)\n",
    "    import ea979.src as ia"
   ]
  },
  {
   "cell_type": "markdown",
   "metadata": {},
   "source": [
    "### Numeric Example: comparing proposed with numpy function"
   ]
  },
  {
   "cell_type": "code",
   "execution_count": 4,
   "metadata": {
    "ExecuteTime": {
     "end_time": "2017-07-02T17:12:47.705724",
     "start_time": "2017-07-02T17:12:47.640742"
    }
   },
   "outputs": [
    {
     "name": "stdout",
     "output_type": "stream",
     "text": [
      "ia.dft: \n",
      " [[[ 276. +0.j    -12.+12.j    -12. -0.j    -12.-12.j  ]\n",
      "  [ -48.+27.71j    0. -0.j      0. +0.j     -0. +0.j  ]\n",
      "  [ -48.-27.71j    0. +0.j     -0. +0.j     -0. +0.j  ]]\n",
      "\n",
      " [[-144. -0.j      0. +0.j     -0. +0.j     -0. +0.j  ]\n",
      "  [   0. +0.j     -0. +0.j      0. -0.j     -0. +0.j  ]\n",
      "  [  -0. +0.j     -0. +0.j     -0. -0.j     -0. -0.j  ]]] \n",
      "\n",
      "fft.fftn: \n",
      " [[[ 276. +0.j    -12.+12.j    -12. +0.j    -12.-12.j  ]\n",
      "  [ -48.+27.71j    0. +0.j      0. +0.j      0. +0.j  ]\n",
      "  [ -48.-27.71j    0. +0.j      0. +0.j      0. +0.j  ]]\n",
      "\n",
      " [[-144. +0.j      0. +0.j      0. +0.j      0. +0.j  ]\n",
      "  [   0. +0.j      0. +0.j      0. +0.j      0. +0.j  ]\n",
      "  [   0. +0.j      0. +0.j      0. +0.j      0. +0.j  ]]] \n",
      "\n",
      "Equal Results? (max error) 1.20844499575e-13\n"
     ]
    }
   ],
   "source": [
    "if testing:\n",
    "    \n",
    "    f = np.arange(24).reshape(2,3,4) # original image with generic axis\n",
    "    F = ia.dft(f)   # proposed dft\n",
    "    F1 = np.fft.fftn(f) # numpy dft\n",
    "    \n",
    "    print('ia.dft:','\\n',F.round(2),'\\n')\n",
    "    print('fft.fftn:','\\n',F1.round(2),'\\n')\n",
    "    print('Equal Results? (max error)',abs(F1-F).max())"
   ]
  },
  {
   "cell_type": "markdown",
   "metadata": {},
   "source": [
    "### Image example: 2d circle"
   ]
  },
  {
   "cell_type": "code",
   "execution_count": 5,
   "metadata": {
    "ExecuteTime": {
     "end_time": "2017-07-02T17:12:49.206125",
     "start_time": "2017-07-02T17:12:49.065633"
    }
   },
   "outputs": [
    {
     "data": {
      "text/html": [
       "<head><style>        table, th, td { border: 0px solid black;        text-align: center;border-collapse: collapse;}</style></head>        <body><table border=\"0\"><td>            <table><tr><td><img src='data:image/png;base64,iVBORw0KGgoAAAANSUhEUgAAAQAAAAEACAAAAAB5Gfe6AAAAwElEQVR4nO3YMQ6AIAxAUfT+d9bNRDSOfob3NqeW0hpgDAAAAAAAAAAAAAAAAAAAAAAAAAAAAAAAAAAAAAAA4HK04bc0+rX4Lo2yALe9rxLZo7hj7v1qEroCzCuOKhB2wBqyAjw3vGkBHVAnUFOAKO7bwCc/gaoAb+ee5CxkBOoEagpQBX4OfHMd0gFZ5HnDo/tw2AHbx1eVxd8WeBHqxW+CAAAAAAAAAAAAAAAAAAAAAAAAAAAAAAAAAAAAAMBaTpIiDSL54DilAAAAAElFTkSuQmCC'/></td></tr>            <tr><td align='center'></td></tr></table></td><tr></tr></table></body>"
      ],
      "text/plain": [
       "<IPython.core.display.HTML object>"
      ]
     },
     "metadata": {},
     "output_type": "display_data"
    },
    {
     "data": {
      "text/html": [
       "<head><style>        table, th, td { border: 0px solid black;        text-align: center;border-collapse: collapse;}</style></head>        <body><table border=\"0\"><td>            <table><tr><td><img src='data:image/png;base64,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'/></td></tr>            <tr><td align='center'></td></tr></table></td><tr></tr></table></body>"
      ],
      "text/plain": [
       "<IPython.core.display.HTML object>"
      ]
     },
     "metadata": {},
     "output_type": "display_data"
    }
   ],
   "source": [
    "if testing:    \n",
    "    f = ia.circle([256,256], 10, [129,129])   \n",
    "    ia.adshow(f)\n",
    "    F = ia.dft(f)\n",
    "    Fv = ia.dftview(F)\n",
    "    ia.adshow(Fv)"
   ]
  },
  {
   "cell_type": "markdown",
   "metadata": {},
   "source": [
    "### Image example: 3d square "
   ]
  },
  {
   "cell_type": "code",
   "execution_count": 6,
   "metadata": {
    "ExecuteTime": {
     "end_time": "2017-07-02T17:12:51.709634",
     "start_time": "2017-07-02T17:12:51.702767"
    }
   },
   "outputs": [],
   "source": [
    "if False: #testing:\n",
    "    \n",
    "    f = np.zeros((25,30,40))\n",
    "    f[10:15,20:26,21:27] = 1\n",
    "    F = ia.dft(f)\n",
    "    ia.adshow(ia.normalize(ia.mosaic(f,5)),'Original Image')\n",
    "    ia.adshow(ia.mosaic(ia.dftview(F),5),'Fourier Transformation')"
   ]
  },
  {
   "cell_type": "markdown",
   "metadata": {},
   "source": [
    "### Comparison with other implementations"
   ]
  },
  {
   "cell_type": "code",
   "execution_count": 7,
   "metadata": {
    "ExecuteTime": {
     "end_time": "2017-07-02T17:12:53.759890",
     "start_time": "2017-07-02T17:12:53.529999"
    }
   },
   "outputs": [
    {
     "name": "stdout",
     "output_type": "stream",
     "text": [
      "CPU times: user 26.5 ms, sys: 526 µs, total: 27.1 ms\n",
      "Wall time: 22.4 ms\n",
      "CPU times: user 5.41 ms, sys: 177 µs, total: 5.59 ms\n",
      "Wall time: 2.77 ms\n",
      "Max difference is: 4.95793675189e-06\n"
     ]
    }
   ],
   "source": [
    "if testing:\n",
    "    import matplotlib.image as mpimg\n",
    "   \n",
    "    f = mpimg.imread('../data/cameraman.tif')\n",
    "    %time F1 = ia.dft(f)\n",
    "    %time F2 = np.fft.fft2(f)\n",
    "    print('Max difference is:', np.abs(F1-F2).max())"
   ]
  },
  {
   "cell_type": "markdown",
   "metadata": {},
   "source": [
    "## Equation\n",
    "\n",
    "### 1D transformation\n",
    "\n",
    "$$ \\begin{matrix}\n",
    "    F(u) &=& \\sum_{x=0}^{N-1}f(x)\\exp(-j2\\pi\\frac{ux}{N}) \\\\ \n",
    "    & & 0 \\leq x < N, 0 \\leq u < N \\\\ \n",
    "    \\mathbf{F} &=& \\sqrt{N} A_N \\mathbf{f} \n",
    "\\end{matrix} $$"
   ]
  },
  {
   "cell_type": "markdown",
   "metadata": {},
   "source": [
    "### 2D transformation\n",
    "\n",
    "$$ \\begin{matrix}\n",
    "    F(u,v) &=& \\sum_{x=0}^{N-1}\\sum_{y=0}^{M-1}f(x,y)\\exp(-j2\\pi(\\frac{ux}{N} + \\frac{vy}{M})) \\\\\n",
    "     & & (0,0) \\leq (x,y) < (N,M), (0,0) \\leq (u,v) < (N,M) \\\\ \n",
    "    \\mathbf{F} &=& \\sqrt{NM} A_N \\mathbf{f} A_M\n",
    "\\end{matrix} $$"
   ]
  },
  {
   "cell_type": "markdown",
   "metadata": {},
   "source": [
    "### 3D transformation\n",
    "\n",
    "$$ \\begin{matrix}\n",
    "    F(w,u,v) &=& \\sum_{z=0}^{P-1}\\sum_{y=0}^{M-1}\\sum_{x=0}^{N-1}f(z,y,x)\\exp(-j2\\pi(\\frac{wz}{P} + \\frac{uy}{M} + \\frac{vx}{N}))\\\\\n",
    "     & & (0,0,0) \\leq (z,y,x) < (P,M,N), (0,0,0) \\leq (w,u,v) < (P,M,N) \\\\ \n",
    "    \\mathbf{F} &=& \\sqrt{PMN}   (A_P((A_M \\mathbf{f})A_N)) \n",
    "\\end{matrix} $$"
   ]
  },
  {
   "cell_type": "markdown",
   "metadata": {},
   "source": [
    "## See Also\n",
    "\n",
    "* `dftmatrix dftmatrix`  -- Kernel matrix for the DFT Transform.\n",
    "* `iaidft iaidft` -- Inverse Discrete Fourier Transform.\n",
    "* `dftview dftview` -- Discrete Fourier Transform Visualization.\n",
    "\n",
    "## References\n",
    "\n",
    "- http://en.wikipedia.org/wiki/Discrete_Fourier_transform\n",
    "\n",
    "## Contributions\n",
    "\n",
    "- Mariana Pinheiro, 1st semester 2011"
   ]
  },
  {
   "cell_type": "code",
   "execution_count": null,
   "metadata": {
    "collapsed": true
   },
   "outputs": [],
   "source": []
  }
 ],
 "metadata": {
  "kernelspec": {
   "display_name": "Python 3",
   "language": "python",
   "name": "python3"
  },
  "language_info": {
   "codemirror_mode": {
    "name": "ipython",
    "version": 3
   },
   "file_extension": ".py",
   "mimetype": "text/x-python",
   "name": "python",
   "nbconvert_exporter": "python",
   "pygments_lexer": "ipython3",
   "version": "3.6.2"
  },
  "toc": {
   "colors": {
    "hover_highlight": "#DAA520",
    "running_highlight": "#FF0000",
    "selected_highlight": "#FFD700"
   },
   "moveMenuLeft": true,
   "nav_menu": {
    "height": "84px",
    "width": "252px"
   },
   "navigate_menu": true,
   "number_sections": true,
   "sideBar": true,
   "threshold": 4,
   "toc_cell": false,
   "toc_section_display": "block",
   "toc_window_display": false
  }
 },
 "nbformat": 4,
 "nbformat_minor": 2
}
