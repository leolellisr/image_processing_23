{
 "cells": [
  {
   "cell_type": "markdown",
   "metadata": {},
   "source": [
    "# Function normalize\n",
    "\n",
    "## Synopse\n",
    "\n",
    "Normalize the pixels values between the specified range.\n",
    "\n",
    "- **g = normalize(f, range)**\n",
    "\n",
    "  - **g**: Output: ndmage, same type as f. If range==[0,255], dtype is set to 'uint8'\n",
    "  - **f**: Input: ndimage.\n",
    "  - **range**: Input: vector with two elements, minimum and maximum values in the output image, respectively.\n",
    "\n",
    "## Description\n",
    "\n",
    "Normalize the input image f. The minimum value of f is assigned to the minimum desired value and the \n",
    "maximum value of f, to the maximum desired value. The minimum and maximum desired values are given by the \n",
    "parameter range. The data type of the normalized image is the same data type of input image, unless the\n",
    "range is [0,255], in which case the dtype is set to 'uint8'.\n",
    "\n"
   ]
  },
  {
   "cell_type": "code",
   "execution_count": 1,
   "metadata": {},
   "outputs": [],
   "source": [
    "import numpy as np\n",
    "\n",
    "def normalize(f, range=[0,255]):\n",
    "\n",
    "    f = np.asarray(f)\n",
    "    range = np.asarray(range)\n",
    "    if f.dtype.char in ['D', 'F']:\n",
    "        raise Exception('error: cannot normalize complex data')\n",
    "    faux = np.ravel(f).astype(float)\n",
    "    minimum = faux.min()\n",
    "    maximum = faux.max()\n",
    "    lower = range[0]\n",
    "    upper = range[1]\n",
    "    if upper == lower:\n",
    "        g = np.ones(f.shape) * maximum\n",
    "    if minimum == maximum:\n",
    "        g = np.ones(f.shape) * (upper + lower) / 2.\n",
    "    else:\n",
    "        g = (faux-minimum)*(upper-lower) / (maximum-minimum) + lower\n",
    "    g = g.reshape(f.shape)\n",
    "\n",
    "    if f.dtype == np.uint8:\n",
    "        if upper > 255: \n",
    "            raise Exception('normalize: warning, upper valuer larger than 255. Cannot fit in uint8 image')\n",
    "    if lower == 0 and upper == 255:\n",
    "        g = g.astype(np.uint8)\n",
    "    else:\n",
    "        g = g.astype(f.dtype) # set data type of result the same as the input image\n",
    "    return g"
   ]
  },
  {
   "cell_type": "markdown",
   "metadata": {},
   "source": [
    "## Examples"
   ]
  },
  {
   "cell_type": "code",
   "execution_count": 1,
   "metadata": {
    "ExecuteTime": {
     "end_time": "2020-03-10T20:17:43.850047Z",
     "start_time": "2020-03-10T20:17:43.336823Z"
    }
   },
   "outputs": [],
   "source": [
    "testing = (__name__ == \"__main__\")\n",
    "\n",
    "if testing:\n",
    "    import numpy as np\n",
    "    import sys,os\n",
    "    ea979path = os.path.abspath('../../')\n",
    "    if ea979path not in sys.path:\n",
    "        sys.path.append(ea979path)\n",
    "    import ea979.src as ia\n"
   ]
  },
  {
   "cell_type": "markdown",
   "metadata": {},
   "source": [
    "### Example 1"
   ]
  },
  {
   "cell_type": "code",
   "execution_count": 2,
   "metadata": {},
   "outputs": [
    {
     "name": "stdout",
     "output_type": "stream",
     "text": [
      "[  0 113 255]\n"
     ]
    }
   ],
   "source": [
    "if testing:\n",
    "    f = np.array([100., 500., 1000.])\n",
    "    g1 = ia.normalize(f, [0,255])\n",
    "    print(g1)"
   ]
  },
  {
   "cell_type": "code",
   "execution_count": 3,
   "metadata": {},
   "outputs": [
    {
     "name": "stdout",
     "output_type": "stream",
     "text": [
      "[-1.         -0.11111111  1.        ]\n"
     ]
    }
   ],
   "source": [
    "if testing:\n",
    "    g2 = ia.normalize(f, [-1,1])\n",
    "    print(g2)"
   ]
  },
  {
   "cell_type": "code",
   "execution_count": 4,
   "metadata": {},
   "outputs": [
    {
     "name": "stdout",
     "output_type": "stream",
     "text": [
      "[ 0.          0.44444444  1.        ]\n"
     ]
    }
   ],
   "source": [
    "if testing:\n",
    "    g3 = ia.normalize(f, [0,1])\n",
    "    print(g3)"
   ]
  },
  {
   "cell_type": "code",
   "execution_count": 5,
   "metadata": {},
   "outputs": [
    {
     "name": "stdout",
     "output_type": "stream",
     "text": [
      "[  0 127 255]\n",
      "[-1.  0.  1.]\n",
      "[-0.5  0.   0.5]\n",
      "[  0  28  56  85 113 141 170 198 226 255]\n",
      "[127 127 127]\n"
     ]
    }
   ],
   "source": [
    "if testing:\n",
    "    #\n",
    "    f = np.array([-100., 0., 100.])\n",
    "    g4 = ia.normalize(f, [0,255])\n",
    "    print(g4)\n",
    "    g5 = ia.normalize(f, [-1,1])\n",
    "    print(g5)\n",
    "    g6 = ia.normalize(f, [-0.5,0.5])\n",
    "    print(g6)\n",
    "    #\n",
    "    f = np.arange(10).astype('uint8')\n",
    "    g7 = ia.normalize(f)\n",
    "    print(g7)\n",
    "    #\n",
    "    f = np.array([1,1,1])\n",
    "    g8 = ia.normalize(f)\n",
    "    print(g8)"
   ]
  },
  {
   "cell_type": "markdown",
   "metadata": {},
   "source": [
    "## Equation\n",
    "\n",
    "$$    g = f|_{gmin}^{gmax}$$  \n",
    "$$    g(p) = \\frac{g_{max} - g_{min}}{f_{max}-f_{min}} (f(p) - f_{min}) + g_{min}  $$"
   ]
  },
  {
   "cell_type": "markdown",
   "metadata": {},
   "source": [
    "## See Also\n",
    "\n",
    "* `iaimginfo` - Print image size and pixel data type information\n",
    "* `iait` - Illustrate the contrast transform function\n",
    "\n",
    "## References\n",
    "\n",
    "* [Wikipedia - Normalization](http://en.wikipedia.org/wiki/Normalization_(image_processing))\n",
    "\n",
    "## Contributions\n",
    "\n",
    "- Marcos Fernandes, course IA368S, 1st semester 2013"
   ]
  },
  {
   "cell_type": "code",
   "execution_count": 7,
   "metadata": {},
   "outputs": [
    {
     "name": "stdout",
     "output_type": "stream",
     "text": [
      "testing normalize\n",
      "True\n"
     ]
    }
   ],
   "source": [
    "if testing:\n",
    "    print('testing normalize')\n",
    "    print(repr(ia.normalize(np.array([-100., 0., 100.]), [0,255])) == repr(np.array([   0. ,  127.5,  255. ])))"
   ]
  },
  {
   "cell_type": "code",
   "execution_count": null,
   "metadata": {
    "collapsed": true
   },
   "outputs": [],
   "source": []
  }
 ],
 "metadata": {
  "kernelspec": {
   "display_name": "Python 3",
   "language": "python",
   "name": "python3"
  },
  "language_info": {
   "codemirror_mode": {
    "name": "ipython",
    "version": 3
   },
   "file_extension": ".py",
   "mimetype": "text/x-python",
   "name": "python",
   "nbconvert_exporter": "python",
   "pygments_lexer": "ipython3",
   "version": "3.6.2"
  },
  "toc": {
   "colors": {
    "hover_highlight": "#DAA520",
    "running_highlight": "#FF0000",
    "selected_highlight": "#FFD700"
   },
   "moveMenuLeft": true,
   "nav_menu": {
    "height": "174px",
    "width": "252px"
   },
   "navigate_menu": true,
   "number_sections": true,
   "sideBar": true,
   "threshold": 4,
   "toc_cell": false,
   "toc_section_display": "block",
   "toc_window_display": false
  }
 },
 "nbformat": 4,
 "nbformat_minor": 2
}
