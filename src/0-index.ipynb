{
 "cells": [
  {
   "cell_type": "code",
   "execution_count": 2,
   "metadata": {
    "ExecuteTime": {
     "end_time": "2017-07-02T22:54:14.175592",
     "start_time": "2017-07-02T22:54:14.172053"
    },
    "collapsed": true
   },
   "outputs": [],
   "source": [
    "from IPython.core.display import HTML,display\n",
    "import glob"
   ]
  },
  {
   "cell_type": "code",
   "execution_count": 3,
   "metadata": {
    "ExecuteTime": {
     "end_time": "2017-07-02T22:54:19.328983",
     "start_time": "2017-07-02T22:54:19.325312"
    }
   },
   "outputs": [],
   "source": [
    "notyet = []"
   ]
  },
  {
   "cell_type": "code",
   "execution_count": 4,
   "metadata": {
    "ExecuteTime": {
     "end_time": "2017-07-02T22:54:19.997245",
     "start_time": "2017-07-02T22:54:19.968709"
    }
   },
   "outputs": [
    {
     "name": "stdout",
     "output_type": "stream",
     "text": [
      "n of files: 46\n"
     ]
    },
    {
     "data": {
      "text/html": [
       "<ol></ol><ol><li><a target=\"_blank\" href=0-index.ipynb>0-index.ipynb</a></li><li><a target=\"_blank\" href=affine.ipynb>affine.ipynb</a></li><li><a target=\"_blank\" href=applylut.ipynb>applylut.ipynb</a></li><li><a target=\"_blank\" href=bwlp.ipynb>bwlp.ipynb</a></li><li><a target=\"_blank\" href=circle.ipynb>circle.ipynb</a></li><li><a target=\"_blank\" href=colormap.ipynb>colormap.ipynb</a></li><li><a target=\"_blank\" href=comb.ipynb>comb.ipynb</a></li><li><a target=\"_blank\" href=conv.ipynb>conv.ipynb</a></li><li><a target=\"_blank\" href=cos.ipynb>cos.ipynb</a></li><li><a target=\"_blank\" href=dct.ipynb>dct.ipynb</a></li><li><a target=\"_blank\" href=dctmatrix.ipynb>dctmatrix.ipynb</a></li><li><a target=\"_blank\" href=dft.ipynb>dft.ipynb</a></li><li><a target=\"_blank\" href=dftmatrix.ipynb>dftmatrix.ipynb</a></li><li><a target=\"_blank\" href=dftshift.ipynb>dftshift.ipynb</a></li><li><a target=\"_blank\" href=dftview.ipynb>dftview.ipynb</a></li><li><a target=\"_blank\" href=ellipse.ipynb>ellipse.ipynb</a></li><li><a target=\"_blank\" href=gaussian.ipynb>gaussian.ipynb</a></li><li><a target=\"_blank\" href=GenerateLibrary.ipynb>GenerateLibrary.ipynb</a></li><li><a target=\"_blank\" href=gshow.ipynb>gshow.ipynb</a></li><li><a target=\"_blank\" href=h2percentile.ipynb>h2percentile.ipynb</a></li><li><a target=\"_blank\" href=h2stats.ipynb>h2stats.ipynb</a></li><li><a target=\"_blank\" href=haarmatrix.ipynb>haarmatrix.ipynb</a></li><li><a target=\"_blank\" href=hadamard.ipynb>hadamard.ipynb</a></li><li><a target=\"_blank\" href=hadamardmatrix.ipynb>hadamardmatrix.ipynb</a></li><li><a target=\"_blank\" href=histogram.ipynb>histogram.ipynb</a></li><li><a target=\"_blank\" href=idct.ipynb>idct.ipynb</a></li><li><a target=\"_blank\" href=idft.ipynb>idft.ipynb</a></li><li><a target=\"_blank\" href=idftshift.ipynb>idftshift.ipynb</a></li><li><a target=\"_blank\" href=ihadamard.ipynb>ihadamard.ipynb</a></li><li><a target=\"_blank\" href=interpollin.ipynb>interpollin.ipynb</a></li><li><a target=\"_blank\" href=isccsym.ipynb>isccsym.ipynb</a></li><li><a target=\"_blank\" href=isolines.ipynb>isolines.ipynb</a></li><li><a target=\"_blank\" href=log.ipynb>log.ipynb</a></li><li><a target=\"_blank\" href=logfilter.ipynb>logfilter.ipynb</a></li><li><a target=\"_blank\" href=mosaic.ipynb>mosaic.ipynb</a></li><li><a target=\"_blank\" href=normalize.ipynb>normalize.ipynb</a></li><li><a target=\"_blank\" href=pca.ipynb>pca.ipynb</a></li><li><a target=\"_blank\" href=pconv.ipynb>pconv.ipynb</a></li><li><a target=\"_blank\" href=phasecorr.ipynb>phasecorr.ipynb</a></li><li><a target=\"_blank\" href=polar.ipynb>polar.ipynb</a></li><li><a target=\"_blank\" href=ptrans.ipynb>ptrans.ipynb</a></li><li><a target=\"_blank\" href=ramp.ipynb>ramp.ipynb</a></li><li><a target=\"_blank\" href=rectangle.ipynb>rectangle.ipynb</a></li><li><a target=\"_blank\" href=rgb2hsv.ipynb>rgb2hsv.ipynb</a></li><li><a target=\"_blank\" href=sat.ipynb>sat.ipynb</a></li><li><a target=\"_blank\" href=sobel.ipynb>sobel.ipynb</a></li></ol>"
      ],
      "text/plain": [
       "<IPython.core.display.HTML object>"
      ]
     },
     "metadata": {},
     "output_type": "display_data"
    }
   ],
   "source": [
    "files = glob.glob('*.ipynb')\n",
    "print('n of files:',len(files))\n",
    "s = '<ol>'\n",
    "for ny in notyet:\n",
    "    s = s + '<li><a target=\"_blank\" href='+ ny + '>' + ny + '</a></li>'\n",
    "s = s + '</ol>'\n",
    "s = s + '<ol>'\n",
    "for f in files:\n",
    "    if f not in notyet:\n",
    "        s = s + '<li><a target=\"_blank\" href='+ f + '>' + f + '</a></li>'\n",
    "s = s + '</ol>'\n",
    "display(HTML(s))"
   ]
  },
  {
   "cell_type": "markdown",
   "metadata": {},
   "source": [
    "- [Generate Library](GeneratyLibrary.ipynb) - Gera os arquivos .py a partir dos .ipynb\n",
    "- [`__init__.py`](__init__.py) - Lista das funções do package"
   ]
  },
  {
   "cell_type": "code",
   "execution_count": 6,
   "metadata": {
    "ExecuteTime": {
     "end_time": "2017-07-02T22:55:37.728687",
     "start_time": "2017-07-02T22:55:37.714617"
    }
   },
   "outputs": [
    {
     "name": "stdout",
     "output_type": "stream",
     "text": [
      "! jupyter nbconvert --to 'python' affine.ipynb\n",
      "! jupyter nbconvert --to 'python' applylut.ipynb\n",
      "! jupyter nbconvert --to 'python' bwlp.ipynb\n",
      "! jupyter nbconvert --to 'python' circle.ipynb\n",
      "! jupyter nbconvert --to 'python' colormap.ipynb\n",
      "! jupyter nbconvert --to 'python' comb.ipynb\n",
      "! jupyter nbconvert --to 'python' conv.ipynb\n",
      "! jupyter nbconvert --to 'python' cos.ipynb\n",
      "! jupyter nbconvert --to 'python' dct.ipynb\n",
      "! jupyter nbconvert --to 'python' dctmatrix.ipynb\n",
      "! jupyter nbconvert --to 'python' dft.ipynb\n",
      "! jupyter nbconvert --to 'python' dftmatrix.ipynb\n",
      "! jupyter nbconvert --to 'python' dftshift.ipynb\n",
      "! jupyter nbconvert --to 'python' dftview.ipynb\n",
      "! jupyter nbconvert --to 'python' ellipse.ipynb\n",
      "! jupyter nbconvert --to 'python' gaussian.ipynb\n",
      "! jupyter nbconvert --to 'python' gshow.ipynb\n",
      "! jupyter nbconvert --to 'python' h2percentile.ipynb\n",
      "! jupyter nbconvert --to 'python' h2stats.ipynb\n",
      "! jupyter nbconvert --to 'python' haarmatrix.ipynb\n",
      "! jupyter nbconvert --to 'python' hadamard.ipynb\n",
      "! jupyter nbconvert --to 'python' hadamardmatrix.ipynb\n",
      "! jupyter nbconvert --to 'python' histogram.ipynb\n",
      "! jupyter nbconvert --to 'python' idct.ipynb\n",
      "! jupyter nbconvert --to 'python' idft.ipynb\n",
      "! jupyter nbconvert --to 'python' idftshift.ipynb\n",
      "! jupyter nbconvert --to 'python' ihadamard.ipynb\n",
      "! jupyter nbconvert --to 'python' interpollin.ipynb\n",
      "! jupyter nbconvert --to 'python' isccsym.ipynb\n",
      "! jupyter nbconvert --to 'python' isolines.ipynb\n",
      "! jupyter nbconvert --to 'python' log.ipynb\n",
      "! jupyter nbconvert --to 'python' logfilter.ipynb\n",
      "! jupyter nbconvert --to 'python' mosaic.ipynb\n",
      "! jupyter nbconvert --to 'python' normalize.ipynb\n",
      "! jupyter nbconvert --to 'python' pca.ipynb\n",
      "! jupyter nbconvert --to 'python' pconv.ipynb\n",
      "! jupyter nbconvert --to 'python' phasecorr.ipynb\n",
      "! jupyter nbconvert --to 'python' polar.ipynb\n",
      "! jupyter nbconvert --to 'python' ptrans.ipynb\n",
      "! jupyter nbconvert --to 'python' ramp.ipynb\n",
      "! jupyter nbconvert --to 'python' rectangle.ipynb\n",
      "! jupyter nbconvert --to 'python' rgb2hsv.ipynb\n",
      "! jupyter nbconvert --to 'python' sat.ipynb\n",
      "! jupyter nbconvert --to 'python' sobel.ipynb\n",
      "\n"
     ]
    }
   ],
   "source": [
    "files = glob.glob('*.ipynb')\n",
    "notgo = ['0-index.ipynb','GenerateLibrary.ipynb' ]\n",
    "s = ''\n",
    "for f in files:\n",
    "    if f not in notgo:\n",
    "        s = s + \"! jupyter nbconvert --to 'python' \" + f + \"\\n\"\n",
    "print(s)"
   ]
  },
  {
   "cell_type": "code",
   "execution_count": null,
   "metadata": {
    "collapsed": true
   },
   "outputs": [],
   "source": []
  }
 ],
 "metadata": {
  "kernelspec": {
   "display_name": "Python 3",
   "language": "python",
   "name": "python3"
  },
  "language_info": {
   "codemirror_mode": {
    "name": "ipython",
    "version": 3
   },
   "file_extension": ".py",
   "mimetype": "text/x-python",
   "name": "python",
   "nbconvert_exporter": "python",
   "pygments_lexer": "ipython3",
   "version": "3.6.1"
  },
  "toc": {
   "colors": {
    "hover_highlight": "#DAA520",
    "running_highlight": "#FF0000",
    "selected_highlight": "#FFD700"
   },
   "moveMenuLeft": true,
   "nav_menu": {
    "height": "30px",
    "width": "252px"
   },
   "navigate_menu": true,
   "number_sections": true,
   "sideBar": true,
   "threshold": 4,
   "toc_cell": false,
   "toc_section_display": "block",
   "toc_window_display": false
  }
 },
 "nbformat": 4,
 "nbformat_minor": 2
}
