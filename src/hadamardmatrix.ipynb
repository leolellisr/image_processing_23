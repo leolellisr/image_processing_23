{
 "cells": [
  {
   "cell_type": "markdown",
   "metadata": {},
   "source": [
    "# Function hadamardmatrix"
   ]
  },
  {
   "cell_type": "markdown",
   "metadata": {},
   "source": [
    "## Synopse\n",
    "Kernel matrix for the Hadamard Transform.\n",
    "\n",
    "   - **A = hadamardmatrix(N)**\n",
    "       - Output:\n",
    "           - **A**: Image.\n",
    "       - Input:\n",
    "           - **N**: Double."
   ]
  },
  {
   "cell_type": "markdown",
   "metadata": {},
   "source": [
    "## Function code"
   ]
  },
  {
   "cell_type": "code",
   "execution_count": 5,
   "metadata": {
    "ExecuteTime": {
     "end_time": "2017-07-02T18:03:55.964298",
     "start_time": "2017-07-02T18:03:55.949271"
    },
    "collapsed": true
   },
   "outputs": [],
   "source": [
    "import numpy as np\n",
    " \n",
    "def hadamardmatrix(N):\n",
    " \n",
    "    def bitsum(x):\n",
    "        s = 0 * x\n",
    "        while x.any():\n",
    "            s += x & 1\n",
    "            x >>= 1\n",
    "        return s\n",
    " \n",
    "    n = np.floor(np.log(N)/np.log(2))\n",
    " \n",
    "    if 2**n != N:\n",
    "        raise Exception('error: size {0} is not multiple of power of 2'.format(N))\n",
    " \n",
    "    u, x = np.meshgrid(range(N), range(N))\n",
    " \n",
    "    A = ((-1)**(bitsum(x & u)))/np.sqrt(N)\n",
    "    return A"
   ]
  },
  {
   "cell_type": "code",
   "execution_count": 1,
   "metadata": {
    "ExecuteTime": {
     "end_time": "2020-03-10T20:08:24.960675Z",
     "start_time": "2020-03-10T20:08:20.887778Z"
    }
   },
   "outputs": [
    {
     "name": "stderr",
     "output_type": "stream",
     "text": [
      "[NbConvertApp] Converting notebook hadamardmatrix.ipynb to python\n",
      "[NbConvertApp] Writing 1445 bytes to hadamardmatrix.py\n"
     ]
    }
   ],
   "source": [
    "testing = (__name__ == \"__main__\")\n",
    "\n",
    "if testing:\n",
    "    ! jupyter nbconvert --to python hadamardmatrix.ipynb\n",
    "    import numpy as np\n",
    "    import sys,os\n",
    "    import matplotlib.image as mpimg\n",
    "    ea979path = os.path.abspath('../../')\n",
    "    if ea979path not in sys.path:\n",
    "        sys.path.append(ea979path)\n",
    "    import ea979.src as ia\n"
   ]
  },
  {
   "cell_type": "markdown",
   "metadata": {},
   "source": [
    "## Examples\n",
    "\n",
    "### Example 1"
   ]
  },
  {
   "cell_type": "code",
   "execution_count": 2,
   "metadata": {
    "ExecuteTime": {
     "end_time": "2017-07-02T18:07:37.712562",
     "start_time": "2017-07-02T18:07:37.664864"
    }
   },
   "outputs": [
    {
     "data": {
      "text/html": [
       "<head><style>        table, th, td { border: 0px solid black;        text-align: center;border-collapse: collapse;}</style></head>        <body><table border=\"0\"><td>            <table><tr><td><img src='data:image/png;base64,iVBORw0KGgoAAAANSUhEUgAAAIAAAACACAAAAADmVT4XAAAD1UlEQVR4nMVa27KEIAwr///RnIez9ZJaY4kIjIOll1k3hiLT1m1x64u79cXX8t/Qupm1/x+yZPzhYH3V2PrS5++2+Pm7tf6jY9to+a184ON//1pu3Zr5e9B+2HwqOx+dmV/L2zqwAv/u78Aq/Lt1a0vxt7avAyvw7/bLBcfWQJ6tdzgM8UHcZum3dQDXA79stt5xQXwQt1n6sB+ww/2Rt9P0jgvy84jfTH3YDzQ7/yez9fD7dtyQt7P0YT+w0/PcpulX8d9vwn7gM/77/Cr++13YD3zGf59fxX+/D/uBr/i/6Vfx3+/DfgBbyN/QVH+HJ+3MQPUP+wG2P8AL+V72R74y/jK+V/3p+YDd6K74XvZHvjL+4qj60/OBkL9hVP3J74/8ZXyv+tPzAUvmkf/D/sjXjL+ZnepPzwdC/rZr/o/6n3BEXK/4zvJ91Z+eD4T8DbLqf4vfFd9RVv3p+QDyHe2Q72X/O/yu+M7yfdWfng9gQ3tsZf+Mz1kn6rI/PR94Pf+jfcbnWfkfZ+j5wOv5H+0zPmfjnW7En54P4Pj6/iHj86z8j3P0fOD1/I/2GX9xPuO76k/PB8wS/iZ2Zf+Mv9n6nc2P+tPzAcQT7dGu7J/xN8P5Dv8Rf3o+8Hr+R/uMvxnOd/iP+NPzAdZY/qcN+VntagB6PsAu5H/12vAZvTTvzs8H2GiC72kdGB0V39M6MPoM9PufjdrzR/5XR7l+wB7aZbLDeMKzIo/6uSzXD9DvfybfrdtP5FE/l+X6AZb/qazgf3yfR+PI9QM26LetPwr+Rz6PxpHrB7BV4zkshjghXpm+ao96uX6Afv8z/ZnNO06IV6av2qNerh8I+b0a7/wu7zgd8brTV+1RL9cP4FiNF54h43emr9qjXq4fCPm9Gm+U/zhf5b/fyPUDVrQP+49R/uP86Hoi1w/g+1CNF3BEfJm+ao96uX6Afv8z/Sj/r/AfWU/k+gHWWHyHI+3UgHRmINcP0O9/Fh/5yfhcvZiFXD/ARmPxkZ+Mz9WR2cj1A2xk8ekzaM8f+Y+jXD/AZCN2DvMJ7yv+M7tMZnZy/QCTWfwTTlfrPMv/1f0BynL9AJNZfIqjgv8xRmYn1w/Q738Wn+Go4H+1nqAs1w+w/T+2ED/ja9aZPXEP9nL9QLZePN1fbLhk/Gf5vZr/cUauH0B71LP4Gy4Z/3Fk9ne+V/Zy/QD9/mfxM74+ze/V/I9zcv0A2qOexXdYUj6j/JT/WRycl+sH6Pc/i8/4PMr/LA7Oy/UDbH3AOCE+4zPKT/mfxcF5uX6ArQ8s/vabnub/p/zP4uD8H3euMQysMmNEAAAAAElFTkSuQmCC'/></td></tr>            <tr><td align='center'></td></tr></table></td><tr></tr></table></body>"
      ],
      "text/plain": [
       "<IPython.core.display.HTML object>"
      ]
     },
     "metadata": {},
     "output_type": "display_data"
    }
   ],
   "source": [
    "if testing:\n",
    "    A = ia.hadamardmatrix(128)\n",
    "    ia.adshow(ia.normalize(A, [0, 255]))"
   ]
  },
  {
   "cell_type": "markdown",
   "metadata": {},
   "source": [
    "### Example 2"
   ]
  },
  {
   "cell_type": "code",
   "execution_count": 4,
   "metadata": {
    "ExecuteTime": {
     "end_time": "2017-07-02T18:07:44.988561",
     "start_time": "2017-07-02T18:07:44.952153"
    }
   },
   "outputs": [
    {
     "name": "stdout",
     "output_type": "stream",
     "text": [
      "[[ 0.5  0.5  0.5  0.5]\n",
      " [ 0.5 -0.5  0.5 -0.5]\n",
      " [ 0.5  0.5 -0.5 -0.5]\n",
      " [ 0.5 -0.5 -0.5  0.5]]\n",
      "[[ 1.  0.  0.  0.]\n",
      " [ 0.  1.  0.  0.]\n",
      " [ 0.  0.  1.  0.]\n",
      " [ 0.  0.  0.  1.]]\n"
     ]
    }
   ],
   "source": [
    "if testing:\n",
    "    A = ia.hadamardmatrix(4)\n",
    "    print(A)\n",
    "    print(np.dot(A, np.transpose(A)))"
   ]
  },
  {
   "cell_type": "markdown",
   "metadata": {},
   "source": [
    "## Measuring time:"
   ]
  },
  {
   "cell_type": "code",
   "execution_count": 5,
   "metadata": {
    "ExecuteTime": {
     "end_time": "2017-07-02T18:07:53.786963",
     "start_time": "2017-07-02T18:07:50.280173"
    }
   },
   "outputs": [
    {
     "name": "stdout",
     "output_type": "stream",
     "text": [
      "Computational time is:\n",
      "1000 loops, best of 3: 802 µs per loop\n"
     ]
    }
   ],
   "source": [
    "if testing:\n",
    "    print('Computational time is:')\n",
    "    %timeit ia.hadamardmatrix(128)"
   ]
  },
  {
   "cell_type": "code",
   "execution_count": null,
   "metadata": {
    "collapsed": true
   },
   "outputs": [],
   "source": []
  }
 ],
 "metadata": {
  "kernelspec": {
   "display_name": "Python 3",
   "language": "python",
   "name": "python3"
  },
  "language_info": {
   "codemirror_mode": {
    "name": "ipython",
    "version": 3
   },
   "file_extension": ".py",
   "mimetype": "text/x-python",
   "name": "python",
   "nbconvert_exporter": "python",
   "pygments_lexer": "ipython3",
   "version": "3.6.2"
  },
  "latex_envs": {
   "LaTeX_envs_menu_present": true,
   "autocomplete": true,
   "bibliofile": "biblio.bib",
   "cite_by": "apalike",
   "current_citInitial": 1,
   "eqLabelWithNumbers": true,
   "eqNumInitial": 1,
   "hotkeys": {
    "equation": "Ctrl-E",
    "itemize": "Ctrl-I"
   },
   "labels_anchors": false,
   "latex_user_defs": false,
   "report_style_numbering": false,
   "user_envs_cfg": false
  },
  "toc": {
   "colors": {
    "hover_highlight": "#DAA520",
    "running_highlight": "#FF0000",
    "selected_highlight": "#FFD700"
   },
   "moveMenuLeft": true,
   "nav_menu": {
    "height": "142px",
    "width": "252px"
   },
   "navigate_menu": true,
   "number_sections": true,
   "sideBar": true,
   "threshold": 4,
   "toc_cell": false,
   "toc_section_display": "block",
   "toc_window_display": false,
   "widenNotebook": false
  }
 },
 "nbformat": 4,
 "nbformat_minor": 2
}
