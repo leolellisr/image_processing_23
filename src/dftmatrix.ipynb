{
 "cells": [
  {
   "cell_type": "markdown",
   "metadata": {},
   "source": [
    "# Function dftmatrix\n",
    "\n",
    "## Synopse\n",
    "\n",
    "Kernel matrix for the 1-D Discrete Fourier Transform DFT.\n",
    "\n",
    "- **A = dftmatrix(N)**\n",
    "\n",
    "  - **A**: Output image, square N x N, complex\n",
    "\n",
    "\n",
    "  - **N**: Integer, number of points of the DFT"
   ]
  },
  {
   "cell_type": "code",
   "execution_count": 1,
   "metadata": {
    "ExecuteTime": {
     "end_time": "2017-05-06T06:01:41.428395",
     "start_time": "2017-05-06T06:01:41.113668"
    },
    "collapsed": true
   },
   "outputs": [],
   "source": [
    "import numpy as np\n",
    "\n",
    "def dftmatrix(N):\n",
    "    x = np.arange(N).reshape(N,1)\n",
    "    u = x\n",
    "    Wn = np.exp(-1j*2*np.pi/N)\n",
    "    A = (1./np.sqrt(N)) * (Wn ** u.dot(x.T))\n",
    "    return A"
   ]
  },
  {
   "cell_type": "markdown",
   "metadata": {},
   "source": [
    "## Examples"
   ]
  },
  {
   "cell_type": "code",
   "execution_count": 1,
   "metadata": {
    "ExecuteTime": {
     "end_time": "2020-03-10T20:01:47.575319Z",
     "start_time": "2020-03-10T20:01:43.546333Z"
    }
   },
   "outputs": [
    {
     "name": "stderr",
     "output_type": "stream",
     "text": [
      "[NbConvertApp] Converting notebook dftmatrix.ipynb to python\n",
      "[NbConvertApp] Writing 2441 bytes to dftmatrix.py\n"
     ]
    }
   ],
   "source": [
    "testing = (__name__ == \"__main__\")\n",
    "\n",
    "if testing:\n",
    "    ! jupyter nbconvert --to python dftmatrix.ipynb\n",
    "    import numpy as np\n",
    "    import sys,os\n",
    "    import matplotlib.image as mpimg\n",
    "    ea979path = os.path.abspath('../../')\n",
    "    if ea979path not in sys.path:\n",
    "        sys.path.append(ea979path)\n",
    "    import ea979.src as ia\n"
   ]
  },
  {
   "cell_type": "markdown",
   "metadata": {},
   "source": [
    "### Example 1"
   ]
  },
  {
   "cell_type": "code",
   "execution_count": 2,
   "metadata": {
    "ExecuteTime": {
     "end_time": "2017-07-02T17:41:03.967806",
     "start_time": "2017-07-02T17:41:03.910295"
    }
   },
   "outputs": [
    {
     "data": {
      "text/html": [
       "<head><style>        table, th, td { border: 0px solid black;        text-align: center;border-collapse: collapse;}</style></head>        <body><table border=\"0\"><td>            <table><tr><td><img src='data:image/png;base64,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'/></td></tr>            <tr><td align='center'>A.real</td></tr></table></td><tr></tr></table></body>"
      ],
      "text/plain": [
       "<IPython.core.display.HTML object>"
      ]
     },
     "metadata": {},
     "output_type": "display_data"
    },
    {
     "data": {
      "text/html": [
       "<head><style>        table, th, td { border: 0px solid black;        text-align: center;border-collapse: collapse;}</style></head>        <body><table border=\"0\"><td>            <table><tr><td><img src='data:image/png;base64,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'/></td></tr>            <tr><td align='center'>A.imag</td></tr></table></td><tr></tr></table></body>"
      ],
      "text/plain": [
       "<IPython.core.display.HTML object>"
      ]
     },
     "metadata": {},
     "output_type": "display_data"
    }
   ],
   "source": [
    "if testing:\n",
    "    A = ia.dftmatrix(128)\n",
    "    ia.adshow(ia.normalize(A.real),'A.real')\n",
    "    ia.adshow(ia.normalize(A.imag),'A.imag')"
   ]
  },
  {
   "cell_type": "markdown",
   "metadata": {},
   "source": [
    "Example 2\n",
    "---------"
   ]
  },
  {
   "cell_type": "code",
   "execution_count": 3,
   "metadata": {
    "ExecuteTime": {
     "end_time": "2017-07-02T17:41:05.981327",
     "start_time": "2017-07-02T17:41:05.912405"
    }
   },
   "outputs": [
    {
     "name": "stdout",
     "output_type": "stream",
     "text": [
      "A=\n",
      " [[ 0.5+0.j   0.5+0.j   0.5+0.j   0.5+0.j ]\n",
      " [ 0.5+0.j   0.0-0.5j -0.5-0.j  -0.0+0.5j]\n",
      " [ 0.5+0.j  -0.5-0.j   0.5+0.j  -0.5-0.j ]\n",
      " [ 0.5+0.j  -0.0+0.5j -0.5-0.j   0.0-0.5j]]\n",
      "A-A.T=\n",
      " [[ 0.+0.j  0.+0.j  0.+0.j  0.+0.j]\n",
      " [ 0.+0.j  0.+0.j  0.+0.j  0.+0.j]\n",
      " [ 0.+0.j  0.+0.j  0.+0.j  0.+0.j]\n",
      " [ 0.+0.j  0.+0.j  0.+0.j  0.+0.j]]\n",
      "True\n"
     ]
    }
   ],
   "source": [
    "if testing:\n",
    "    A = ia.dftmatrix(4)\n",
    "    print('A=\\n', A.round(1))\n",
    "    print('A-A.T=\\n', A - A.T)\n",
    "    print((np.abs(np.linalg.inv(A)-np.conjugate(A))).max() < 10E-15)"
   ]
  },
  {
   "cell_type": "markdown",
   "metadata": {},
   "source": [
    "### Example 3\n",
    "\n",
    "Showing the product $\\mathbf{x}\\mathbf{u}^T$:"
   ]
  },
  {
   "cell_type": "code",
   "execution_count": 4,
   "metadata": {
    "ExecuteTime": {
     "end_time": "2017-07-02T17:41:07.736458",
     "start_time": "2017-07-02T17:41:07.727626"
    }
   },
   "outputs": [
    {
     "name": "stdout",
     "output_type": "stream",
     "text": [
      "u xT=\n",
      " [[ 0  0  0  0  0  0  0  0  0  0]\n",
      " [ 0  1  2  3  4  5  6  7  8  9]\n",
      " [ 0  2  4  6  8 10 12 14 16 18]\n",
      " [ 0  3  6  9 12 15 18 21 24 27]\n",
      " [ 0  4  8 12 16 20 24 28 32 36]\n",
      " [ 0  5 10 15 20 25 30 35 40 45]\n",
      " [ 0  6 12 18 24 30 36 42 48 54]\n",
      " [ 0  7 14 21 28 35 42 49 56 63]\n",
      " [ 0  8 16 24 32 40 48 56 64 72]\n",
      " [ 0  9 18 27 36 45 54 63 72 81]]\n"
     ]
    }
   ],
   "source": [
    "if testing:\n",
    "    u = x = np.arange(10).reshape(10,1)\n",
    "    print('u xT=\\n', u.dot(x.T))"
   ]
  },
  {
   "cell_type": "markdown",
   "metadata": {},
   "source": [
    "## Equation\n",
    "\n",
    "\n",
    "$$ \\begin{matrix}\n",
    "    W_N &=& \\exp{\\frac{-j2\\pi}{N}} \\\\ A_N &=& \\frac{1}{\\sqrt{N}} (W_N)^{\\mathbf{u} \\mathbf{x}^T} \\\\ \\mathbf{u} &=& \\mathbf{x} = [0, 1, 2, \\ldots, N-1]^T \n",
    "\\end{matrix} $$"
   ]
  },
  {
   "cell_type": "markdown",
   "metadata": {},
   "source": [
    "$$ \\begin{matrix}\n",
    "        A_N       &=& A_N^T \\ \\mbox{symmetric} \\\\\n",
    "       (A_N)^{-1} &=& (A_N)^*\\ \\mbox{column orthogonality, unitary matrix}\n",
    "\\end{matrix} $$"
   ]
  },
  {
   "cell_type": "markdown",
   "metadata": {},
   "source": [
    "## See Also\n",
    "\n",
    "- `dft` - Discrete Fourier Transform\n",
    "- `dftmatrixexamples` - Visualization of the DFT matrix\n",
    "\n",
    "## References\n",
    "\n",
    "- http://en.wikipedia.org/wiki/DFT_matrix"
   ]
  },
  {
   "cell_type": "code",
   "execution_count": 6,
   "metadata": {
    "ExecuteTime": {
     "end_time": "2017-05-06T06:01:41.569296",
     "start_time": "2017-05-06T06:01:41.549917"
    }
   },
   "outputs": [
    {
     "name": "stdout",
     "output_type": "stream",
     "text": [
      "testing dftmatrix\n",
      "True\n",
      "True\n"
     ]
    }
   ],
   "source": [
    "if testing:    \n",
    "    print('testing dftmatrix')\n",
    "    print(repr(np.floor(0.5 + 10E4*ia.dftmatrix(4).real) / 10E4) == repr(np.array(\n",
    "          [[ 0.5,  0.5,  0.5,  0.5],\n",
    "           [ 0.5,  0. , -0.5,  0. ],\n",
    "           [ 0.5, -0.5,  0.5, -0.5],\n",
    "           [ 0.5,  0. , -0.5,  0. ]])))\n",
    "    print(repr(np.floor(0.5 + 10E4*ia.dftmatrix(4).imag) / 10E4) == repr(np.array(\n",
    "          [[ 0. ,  0. ,  0. ,  0. ],\n",
    "           [ 0. , -0.5,  0. ,  0.5],\n",
    "           [ 0. ,  0. ,  0. ,  0. ],\n",
    "           [ 0. ,  0.5,  0. , -0.5]])))"
   ]
  },
  {
   "cell_type": "code",
   "execution_count": null,
   "metadata": {
    "collapsed": true
   },
   "outputs": [],
   "source": []
  }
 ],
 "metadata": {
  "kernelspec": {
   "display_name": "Python 3",
   "language": "python",
   "name": "python3"
  },
  "language_info": {
   "codemirror_mode": {
    "name": "ipython",
    "version": 3
   },
   "file_extension": ".py",
   "mimetype": "text/x-python",
   "name": "python",
   "nbconvert_exporter": "python",
   "pygments_lexer": "ipython3",
   "version": "3.6.2"
  },
  "toc": {
   "colors": {
    "hover_highlight": "#DAA520",
    "running_highlight": "#FF0000",
    "selected_highlight": "#FFD700"
   },
   "moveMenuLeft": true,
   "nav_menu": {
    "height": "30px",
    "width": "252px"
   },
   "navigate_menu": true,
   "number_sections": true,
   "sideBar": true,
   "threshold": 4,
   "toc_cell": false,
   "toc_section_display": "block",
   "toc_window_display": false
  }
 },
 "nbformat": 4,
 "nbformat_minor": 2
}
