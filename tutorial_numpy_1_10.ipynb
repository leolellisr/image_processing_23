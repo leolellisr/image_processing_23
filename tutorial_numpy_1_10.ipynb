{
 "cells": [
  {
   "cell_type": "markdown",
   "metadata": {
    "toc": "true"
   },
   "source": [
    "# Table of Contents\n",
    " <p><div class=\"lev1 toc-item\"><a href=\"#Clip\" data-toc-modified-id=\"Clip-1\"><span class=\"toc-item-num\">1&nbsp;&nbsp;</span>Clip</a></div><div class=\"lev2 toc-item\"><a href=\"#Exemplos\" data-toc-modified-id=\"Exemplos-11\"><span class=\"toc-item-num\">1.1&nbsp;&nbsp;</span>Exemplos</a></div><div class=\"lev2 toc-item\"><a href=\"#Exemplo-com-ponto-flutuante\" data-toc-modified-id=\"Exemplo-com-ponto-flutuante-12\"><span class=\"toc-item-num\">1.2&nbsp;&nbsp;</span>Exemplo com ponto flutuante</a></div><div class=\"lev1 toc-item\"><a href=\"#Documentação-Oficial-Numpy\" data-toc-modified-id=\"Documentação-Oficial-Numpy-2\"><span class=\"toc-item-num\">2&nbsp;&nbsp;</span>Documentação Oficial Numpy</a></div>"
   ]
  },
  {
   "cell_type": "markdown",
   "metadata": {},
   "source": [
    "# Clip\n",
    "\n",
    "A função clip substitui os valores de um array que estejam abaixo de um limiar mínimo ou que estejam acima de um limiar máximo, por esses limiares mínimo e máximo, respectivamente. Esta função é especialmente útil em processamento de imagens para evitar que os índices ultrapassem os limites das imagens.\n",
    "\n",
    "## Exemplos"
   ]
  },
  {
   "cell_type": "code",
   "execution_count": 1,
   "metadata": {
    "collapsed": false
   },
   "outputs": [
    {
     "name": "stdout",
     "output_type": "stream",
     "text": [
      "a =  [11  1  2  3  4  5 12 -3 -4  7  4]\n",
      "np.clip(a,0,10) =  [10  1  2  3  4  5 10  0  0  7  4]\n"
     ]
    }
   ],
   "source": [
    "import numpy as np\n",
    "\n",
    "a = np.array([11,1,2,3,4,5,12,-3,-4,7,4])\n",
    "print('a = ',a)\n",
    "print('np.clip(a,0,10) = ', np.clip(a,0,10))"
   ]
  },
  {
   "cell_type": "markdown",
   "metadata": {},
   "source": [
    "## Exemplo com ponto flutuante\n",
    "\n",
    "Observe que se os parâmetros do clip estiverem em ponto flutuante, o resultado também será em ponto flutuante:"
   ]
  },
  {
   "cell_type": "code",
   "execution_count": 3,
   "metadata": {
    "collapsed": false
   },
   "outputs": [
    {
     "name": "stdout",
     "output_type": "stream",
     "text": [
      "a= [0 1 2 3 4 5 6 7 8 9]\n",
      "np.clip(a,2.5,7.5)= [ 2.5  2.5  2.5  3.   4.   5.   6.   7.   7.5  7.5]\n"
     ]
    }
   ],
   "source": [
    "a = np.arange(10).astype(np.int)\n",
    "print('a=',a)\n",
    "print('np.clip(a,2.5,7.5)=',np.clip(a,2.5,7.5))"
   ]
  },
  {
   "cell_type": "markdown",
   "metadata": {},
   "source": [
    "# Documentação Oficial Numpy\n",
    "\n",
    "- [clip](http://docs.scipy.org/doc/numpy/reference/generated/numpy.clip.html)"
   ]
  }
 ],
 "metadata": {
  "kernelspec": {
   "display_name": "Python 3",
   "language": "python",
   "name": "python3"
  },
  "language_info": {
   "codemirror_mode": {
    "name": "ipython",
    "version": 3
   },
   "file_extension": ".py",
   "mimetype": "text/x-python",
   "name": "python",
   "nbconvert_exporter": "python",
   "pygments_lexer": "ipython3",
   "version": "3.6.0"
  },
  "toc": {
   "colors": {
    "hover_highlight": "#DAA520",
    "running_highlight": "#FF0000",
    "selected_highlight": "#FFD700"
   },
   "moveMenuLeft": true,
   "nav_menu": {
    "height": "86px",
    "width": "252px"
   },
   "navigate_menu": true,
   "number_sections": true,
   "sideBar": true,
   "threshold": 4,
   "toc_cell": true,
   "toc_section_display": "block",
   "toc_window_display": false
  }
 },
 "nbformat": 4,
 "nbformat_minor": 2
}
