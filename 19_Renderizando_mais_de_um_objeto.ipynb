{
 "cells": [
  {
   "cell_type": "markdown",
   "metadata": {},
   "source": [
    "## Renderizando mais de um objeto\n",
    "\n",
    "Para poder renderizar mais de um objeto, é preciso criar uma variável do tipo ModelRenderer para cada objeto. Neste exemplo, o objetivo é renderizar dois triângulos como dois objetos separados. Então, foram criados dois objetos do tipo ModelRenderer (triangleRenderer01 e triangleRenderer02). Apesar de haver dois objetos para serem renderizados, é preciso apenas de um shader program, porque o processamento para renderizar os triângulos será o mesmo. Por isso, é passado o mesmo endereço da variável de entrada do shader program (position_loc) para os dois objetos de renderização (triangleRenderer01 e triangleRenderer02) através do método 'setVertexPositionLoc()'. Na execução do método 'paintGL()', cada triângulo será renderizado com uma cor diferente. Para isso, é preciso, primeiramente, configurar a cor na variável uniforme do shader program e depois iniciar a renderização. Este procedimento é realizado para os dois triângulos."
   ]
  },
  {
   "cell_type": "code",
   "execution_count": 1,
   "metadata": {
    "ExecuteTime": {
     "end_time": "2020-05-12T01:20:06.881581Z",
     "start_time": "2020-05-12T01:20:02.165739Z"
    }
   },
   "outputs": [
    {
     "ename": "SystemExit",
     "evalue": "0",
     "output_type": "error",
     "traceback": [
      "An exception has occurred, use %tb to see the full traceback.\n",
      "\u001b[1;31mSystemExit\u001b[0m\u001b[1;31m:\u001b[0m 0\n"
     ]
    },
    {
     "name": "stderr",
     "output_type": "stream",
     "text": [
      "C:\\Users\\Rapha\\Anaconda3\\lib\\site-packages\\IPython\\core\\interactiveshell.py:2889: UserWarning: To exit: use 'exit', 'quit', or Ctrl-D.\n",
      "  warn(\"To exit: use 'exit', 'quit', or Ctrl-D.\", stacklevel=1)\n"
     ]
    }
   ],
   "source": [
    "import numpy as np\n",
    "import OpenGL.GL as gl\n",
    "from PyQt5 import QtOpenGL\n",
    "from PyQt5.QtWidgets import QApplication\n",
    "\n",
    "from cg.shader_programs.SimpleShaderProgram_v1 import SimpleShaderProgram\n",
    "from cg.renderers.ModelRenderer_v1 import ModelRenderer\n",
    "\n",
    "class MyWidget(QtOpenGL.QGLWidget):\n",
    "    def initializeGL(self):\n",
    "        \n",
    "        # posição de cada vértice do primeiro triângulos\n",
    "        vertex_position_01 = np.array([\n",
    "            -0.90, -0.90, 0.2, 1.0, # Triângulo 1\n",
    "             0.85, -0.90, 0.2, 1.0,\n",
    "            -0.90,  0.85, 0.2, 1.0],\n",
    "            dtype=np.float32)\n",
    "        \n",
    "        # posição de cada vértice do segundo triângulos\n",
    "        vertex_position_02 = np.array([\n",
    "             0.90, -0.85, 0.0, 1.0, # Triângulo 2\n",
    "             0.90,  0.90, 0.0, 1.0,\n",
    "            -0.85,  0.90, 0.0, 1.0],\n",
    "            dtype=np.float32)\n",
    "        \n",
    "        # cria para cada triângulo um objeto responsável por carregar os dados para a GPU e renderizá-los\n",
    "        self.triangleRenderer01 = ModelRenderer(vertex_position_01)\n",
    "        self.triangleRenderer02 = ModelRenderer(vertex_position_02)\n",
    "        \n",
    "        # cria um shader program simples\n",
    "        self.shaderProgram = SimpleShaderProgram()\n",
    "        \n",
    "        # ativa o shader programa para permitir configurar uma cor única para todos os vértices\n",
    "        self.shaderProgram.bind()\n",
    "        self.shaderProgram.useUniformColor(True)\n",
    "        self.shaderProgram.release()\n",
    "\n",
    "        # recupera o endereços da variável de entrada do shader program\n",
    "        position_loc = self.shaderProgram.getVertexPositionLoc()\n",
    "        \n",
    "        # configura os dados do modelo para serem os dados de entrada do shader program\n",
    "        self.triangleRenderer01.setVertexPositionLoc(position_loc)\n",
    "        self.triangleRenderer02.setVertexPositionLoc(position_loc)\n",
    "\n",
    "    def paintGL(self):\n",
    "        \n",
    "        # configura a cor de background\n",
    "        gl.glClearColor(0, 0, 0, 1)\n",
    "        \n",
    "        # limpa o background com a cor especificada\n",
    "        gl.glClear(gl.GL_COLOR_BUFFER_BIT)\n",
    "        \n",
    "        # ativa o shader program que será executado pela GPU\n",
    "        self.shaderProgram.bind()\n",
    "        \n",
    "        # configura a cor do primeiro triângulo\n",
    "        self.shaderProgram.setUniformColor(np.array([0.0, 0.0, 0.5, 1.0], dtype=np.float32))\n",
    "        \n",
    "        # renderiza o primeiro triângulo\n",
    "        self.triangleRenderer01.render()\n",
    "        \n",
    "        #configura a cor do segundo triângulo\n",
    "        self.shaderProgram.setUniformColor(np.array([0.5, 0.0, 0.0, 1.0], dtype=np.float32))\n",
    "        \n",
    "        # renderiza o segundo triângulo\n",
    "        self.triangleRenderer02.render()\n",
    "        \n",
    "        # desativa o shader program\n",
    "        self.shaderProgram.release()\n",
    "        \n",
    "        # solicita que o método paintGL seja chamado novamente\n",
    "        self.update()\n",
    "\n",
    "    def resizeGL(self, width, height):\n",
    "        \n",
    "        # atualiza a área de renderização para ser a janela inteira\n",
    "        gl.glViewport(0, 0, width, height)\n",
    "\n",
    "def main():\n",
    "    import sys\n",
    "\n",
    "    #Criação de um aplicativo Qt\n",
    "    app = QApplication(sys.argv)\n",
    "\n",
    "    #Especificação do contexto OpenGL\n",
    "    glformat = QtOpenGL.QGLFormat()\n",
    "    glformat.setVersion(3, 3)\n",
    "    glformat.setDoubleBuffer(True)\n",
    "    glformat.setProfile(QtOpenGL.QGLFormat.CoreProfile)\n",
    "    \n",
    "    #Criação da janela de renderização\n",
    "    w = MyWidget(glformat)\n",
    "    w.resize(640, 480)\n",
    "    w.setWindowTitle('OpenGL example')\n",
    "    w.show()\n",
    "    sys.exit(app.exec_())\n",
    "\n",
    "if __name__ == '__main__':\n",
    "    main()"
   ]
  },
  {
   "cell_type": "code",
   "execution_count": 1,
   "metadata": {
    "ExecuteTime": {
     "end_time": "2020-05-12T00:04:14.642431Z",
     "start_time": "2020-05-12T00:04:03.058398Z"
    }
   },
   "outputs": [
    {
     "name": "stderr",
     "output_type": "stream",
     "text": [
      "[NbConvertApp] Converting notebook 19_Renderizando_mais_de_um_objeto.ipynb to python\n",
      "[NbConvertApp] Writing 4595 bytes to 19_Renderizando_mais_de_um_objeto.py\n"
     ]
    }
   ],
   "source": [
    "! jupyter nbconvert --to python 19_Renderizando_mais_de_um_objeto.ipynb\n",
    "%run -i 19_Renderizando_mais_de_um_objeto.py"
   ]
  },
  {
   "cell_type": "code",
   "execution_count": null,
   "metadata": {
    "collapsed": true
   },
   "outputs": [],
   "source": []
  }
 ],
 "metadata": {
  "kernelspec": {
   "display_name": "Python 3",
   "language": "python",
   "name": "python3"
  },
  "language_info": {
   "codemirror_mode": {
    "name": "ipython",
    "version": 3
   },
   "file_extension": ".py",
   "mimetype": "text/x-python",
   "name": "python",
   "nbconvert_exporter": "python",
   "pygments_lexer": "ipython3",
   "version": "3.6.1"
  }
 },
 "nbformat": 4,
 "nbformat_minor": 2
}
