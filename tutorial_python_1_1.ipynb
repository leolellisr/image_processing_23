{
 "cells": [
  {
   "cell_type": "markdown",
   "metadata": {
    "toc": "true"
   },
   "source": [
    "# Table of Contents\n",
    " <p><div class=\"lev1 toc-item\"><a href=\"#Introdução-ao-Python-no-ambiente-Adessowiki\" data-toc-modified-id=\"Introdução-ao-Python-no-ambiente-Adessowiki-1\"><span class=\"toc-item-num\">1&nbsp;&nbsp;</span>Introdução ao Python no ambiente Adessowiki</a></div><div class=\"lev2 toc-item\"><a href=\"#Tipos-de-variáveis-em-Python-com-ênfase-nos-tipos-sequênciais\" data-toc-modified-id=\"Tipos-de-variáveis-em-Python-com-ênfase-nos-tipos-sequênciais-11\"><span class=\"toc-item-num\">1.1&nbsp;&nbsp;</span>Tipos de variáveis em Python com ênfase nos tipos sequênciais</a></div><div class=\"lev2 toc-item\"><a href=\"#Tipos-Númericos:\" data-toc-modified-id=\"Tipos-Númericos:-12\"><span class=\"toc-item-num\">1.2&nbsp;&nbsp;</span>Tipos Númericos:</a></div><div class=\"lev2 toc-item\"><a href=\"#Tipos-Sequenciais:\" data-toc-modified-id=\"Tipos-Sequenciais:-13\"><span class=\"toc-item-num\">1.3&nbsp;&nbsp;</span>Tipos Sequenciais:</a></div><div class=\"lev3 toc-item\"><a href=\"#Strings:\" data-toc-modified-id=\"Strings:-131\"><span class=\"toc-item-num\">1.3.1&nbsp;&nbsp;</span>Strings:</a></div><div class=\"lev3 toc-item\"><a href=\"#Listas:\" data-toc-modified-id=\"Listas:-132\"><span class=\"toc-item-num\">1.3.2&nbsp;&nbsp;</span>Listas:</a></div><div class=\"lev3 toc-item\"><a href=\"#Tuplas:\" data-toc-modified-id=\"Tuplas:-133\"><span class=\"toc-item-num\">1.3.3&nbsp;&nbsp;</span>Tuplas:</a></div><div class=\"lev4 toc-item\"><a href=\"#Atenção:\" data-toc-modified-id=\"Atenção:-1331\"><span class=\"toc-item-num\">1.3.3.1&nbsp;&nbsp;</span>Atenção:</a></div><div class=\"lev2 toc-item\"><a href=\"#Slicing-em-tipos-sequenciais\" data-toc-modified-id=\"Slicing-em-tipos-sequenciais-14\"><span class=\"toc-item-num\">1.4&nbsp;&nbsp;</span>Slicing em tipos sequenciais</a></div><div class=\"lev3 toc-item\"><a href=\"#Atenção:\" data-toc-modified-id=\"Atenção:-141\"><span class=\"toc-item-num\">1.4.1&nbsp;&nbsp;</span>Atenção:</a></div><div class=\"lev2 toc-item\"><a href=\"#Atribuição-em-tipos-sequenciais\" data-toc-modified-id=\"Atribuição-em-tipos-sequenciais-15\"><span class=\"toc-item-num\">1.5&nbsp;&nbsp;</span>Atribuição em tipos sequenciais</a></div><div class=\"lev2 toc-item\"><a href=\"#Formatação-de-string-para-impressão\" data-toc-modified-id=\"Formatação-de-string-para-impressão-16\"><span class=\"toc-item-num\">1.6&nbsp;&nbsp;</span>Formatação de string para impressão</a></div><div class=\"lev2 toc-item\"><a href=\"#Outros-tipos\" data-toc-modified-id=\"Outros-tipos-17\"><span class=\"toc-item-num\">1.7&nbsp;&nbsp;</span>Outros tipos</a></div><div class=\"lev2 toc-item\"><a href=\"#Dicionários:\" data-toc-modified-id=\"Dicionários:-18\"><span class=\"toc-item-num\">1.8&nbsp;&nbsp;</span>Dicionários:</a></div><div class=\"lev2 toc-item\"><a href=\"#Conjuntos\" data-toc-modified-id=\"Conjuntos-19\"><span class=\"toc-item-num\">1.9&nbsp;&nbsp;</span>Conjuntos</a></div>"
   ]
  },
  {
   "cell_type": "markdown",
   "metadata": {},
   "source": [
    "# Introdução ao Python no ambiente Adessowiki\n",
    "\n",
    "\n",
    "## Tipos de variáveis em Python com ênfase nos tipos sequênciais\n",
    "\n",
    "O Python é uma linguagem de programação de alto nível, interpretada, imperativa, orientada a objetos, \n",
    "de tipagem dinâmica e forte, que possui ainda as seguintes características:\n",
    "\n",
    "    - Não há pré-declaração de variáveis, e os tipos das variáveis são determinados dinamicamente.\n",
    "    - O controle de bloco é feito apenas por indentação; não há delimitadores do tipo BEGIN e END ou { e }.\n",
    "    - Oferece tipos de dados de alto nível: strings, listas, tuplas, dicionários, arquivos, classes.\n",
    "    - É orientada a objetos.\n",
    "    \n",
    "É uma linguagem moderna e adaptada para o desenvolvimento tanto de aplicações genéricas como científicas. Para aplicações\n",
    "científicas, o Python possui um pacote muito importante e eficiente para o processamento de arrays multidimensionais: *Numpy*.\n",
    "  \n",
    "Em sua forma nativa, o Python suporta os seguintes tipos de variáveis:\n",
    "  \n",
    "| Tipo Variável | Descrição                                   | Exemplo de sintaxe      |\n",
    "|---------------|---------------------------------------------|-------------------------|\n",
    "| *int*         | Variável inteira                            | a = 103458              |\n",
    "| *float*       | Variável de ponto flutuante                 | pi = 3.14159265         |\n",
    "| *bool*        | Variável *booleana* - *True* ou *False*     | a = False               |\n",
    "| *complex*     | Variável de número complexo                 | c = 2+3j                |\n",
    "| *str*         | Variável para cadeia de caracteres ASCII    | a = \"Exemplo\"           |\n",
    "| *list*        | Lista heterogênea pode alterar os valores   | lista = [4,'eu',1]      |\n",
    "| *tuple*       | Tupla heterogênea imutável                  | tupla = (1,'eu',2)      |\n",
    "| *dict*        |Conjunto associativo de valores              | dic = {1:'eu',2:'você'} |        "
   ]
  },
  {
   "cell_type": "markdown",
   "metadata": {},
   "source": [
    "## Tipos Númericos:\n",
    "\n",
    "- Declarando variáveis dos tipos inteiro, booleano, ponto flutuante e complexo e realizando algumas \n",
    "  operações simples"
   ]
  },
  {
   "cell_type": "code",
   "execution_count": 1,
   "metadata": {},
   "outputs": [
    {
     "name": "stdout",
     "output_type": "stream",
     "text": [
      "<class 'int'>\n",
      "<class 'float'>\n",
      "<class 'complex'>\n",
      "<class 'bool'>\n",
      "6.140000000000001\n",
      "(9.42+12.56j)\n",
      "(1+1.3333333333333333j)\n"
     ]
    }
   ],
   "source": [
    "a = 3\n",
    "print(type(a))\n",
    "b = 3.14\n",
    "print(type(b))\n",
    "c = 3 + 4j\n",
    "print(type(c))\n",
    "d = False\n",
    "print(type(d))\n",
    "print(a + b)  \n",
    "print(b * c) \n",
    "print(c / a)"
   ]
  },
  {
   "cell_type": "markdown",
   "metadata": {},
   "source": [
    "  \n",
    "Observe que em operações envolvendo elementos de tipos diferentes a linguagem realiza a \n",
    "conversão dos elementos ao tipo adequado, conforme a seguinte hierarquia: complexo > ponto flutuante > inteiro\n",
    "\n",
    "## Tipos Sequenciais:\n",
    "\n",
    "Python possui três tipos sequenciais principais: listas, tuplas e cadeia de caracteres (string).\n",
    "\n",
    "### Strings:\n",
    "\n",
    "Pode-se declarar strings tanto usando aspas simples como duplas ou triplas.\n",
    "Strings são vetores imutáveis compostos de caracteres. Pode-se calcular o tamanho do \n",
    "string usando-se *len*."
   ]
  },
  {
   "cell_type": "code",
   "execution_count": 2,
   "metadata": {},
   "outputs": [
    {
     "name": "stdout",
     "output_type": "stream",
     "text": [
      "string do tipo: <class 'str'> nome1: Faraday comprimento: 7\n"
     ]
    }
   ],
   "source": [
    "nome1 = 'Faraday'\n",
    "nome2 = \"Maxwell\"\n",
    "print('string do tipo:', type(nome1), 'nome1:', nome1, \"comprimento:\", len(nome1))"
   ]
  },
  {
   "cell_type": "markdown",
   "metadata": {},
   "source": [
    "String é um vetor imutável de caracteres. É possível indexar um caractere único e é possível aplicar regras\n",
    "consistentes do Python no tratamento de sequências, tais como fatiamento (slicing) e formas de indexação.\n",
    "Em Python, o primeiro elemento é sempre indexado como zero, assim quando tenho um string de 5 caracteres, ele\n",
    "é indexado de 0 a 4. É possível também indexar os elementos da direita para a esquerda utilizando índices\n",
    "negativos. Assim, o último elemento do vetor pode ser indexado pelo índice -1."
   ]
  },
  {
   "cell_type": "code",
   "execution_count": 3,
   "metadata": {},
   "outputs": [
    {
     "name": "stdout",
     "output_type": "stream",
     "text": [
      "Primeiro caractere de  Faraday  é:  F\n",
      "Último caractere de  Faraday  é:  y\n",
      "Repetindo-se strings 3 vezes FaradayFaradayFaraday\n"
     ]
    }
   ],
   "source": [
    "print('Primeiro caractere de ', nome1, ' é: ', nome1[0])\n",
    "print('Último caractere de ', nome1, ' é: ', nome1[-1])\n",
    "print('Repetindo-se strings 3 vezes', 3 * nome1)"
   ]
  },
  {
   "cell_type": "markdown",
   "metadata": {},
   "source": [
    "### Listas:\n",
    "\n",
    "Lista é uma sequência de elementos de diferentes tipos que podem ser indexados, alterados e operados.\n",
    "Listas são definidas por elementos separados por vírgulas iniciado e terminado por colchetes."
   ]
  },
  {
   "cell_type": "code",
   "execution_count": 4,
   "metadata": {},
   "outputs": [
    {
     "name": "stdout",
     "output_type": "stream",
     "text": [
      "tipo da lista1= <class 'list'>\n",
      "lista2= [(3+4j), [1, 1.1, 'um']]\n",
      "lista2= [(3+4j), 'Faraday']\n",
      "lista3= [1, 1.1, 'um', (3+4j), 'Faraday']\n",
      "concatenando 2 vezes: [1, 1.1, 'um', (3+4j), 'Faraday', 1, 1.1, 'um', (3+4j), 'Faraday']\n"
     ]
    }
   ],
   "source": [
    "lista1 = [1, 1.1, 'um'] # Listas podem conter elementos de diferentes tipos.\n",
    "lista2 = [3+4j, lista1] # Inclusive uma lista pode conter outras listas como elementos!\n",
    "print('tipo da lista1=', type(lista1))\n",
    "print('lista2=', lista2)\n",
    "lista2[1] = 'Faraday' #Diferentemente das strings, pode-se atribuir novos valores a elementos da lista.\n",
    "print('lista2=', lista2)\n",
    "lista3 = lista1 + lista2 # Concatenando 2 listas\n",
    "print('lista3=',lista3)\n",
    "print('concatenando 2 vezes:',2*lista3)"
   ]
  },
  {
   "cell_type": "markdown",
   "metadata": {},
   "source": [
    "### Tuplas:\n",
    "\n",
    "Tupla é similar a lista, porém seus valores são imutáveis. Tupla é uma sequência de objetos separados\n",
    "por vírgulas que podem, opcionalmente, serem iniciados e terminados por parênteses. Tupla contendo \n",
    "um único elemento precisa ser seguido de uma vírgula. \n",
    "\n",
    "#### Atenção:\n",
    "O entendimento da tupla é muito importante e ela\n",
    "será bastante utilizada neste curso, pois muitos parâmetros do ``ndarray`` do NumPy utilizando tuplas."
   ]
  },
  {
   "cell_type": "code",
   "execution_count": 5,
   "metadata": {},
   "outputs": [
    {
     "name": "stdout",
     "output_type": "stream",
     "text": [
      "tupla1= ()\n",
      "tupla2= ('Gauss',)\n",
      "tupla3= (1.1, 'Ohm', (3+4j))\n",
      "tupla4= (3, 'aqui', True)\n",
      "tipo da tupla3= <class 'tuple'>\n"
     ]
    }
   ],
   "source": [
    "#Declarando tuplas\n",
    "tupla1 = () # tupla vazia\n",
    "tupla2 = ('Gauss',)  # tupla com apenas um elemento. Note a vírgula.\n",
    "tupla3 = (1.1, 'Ohm', 3+4j)\n",
    "tupla4 = 3, 'aqui', True\n",
    "print('tupla1=', tupla1)\n",
    "print('tupla2=', tupla2)\n",
    "print('tupla3=', tupla3)\n",
    "print('tupla4=', tupla4)\n",
    "print('tipo da tupla3=', type(tupla3))"
   ]
  },
  {
   "cell_type": "markdown",
   "metadata": {},
   "source": [
    "## Slicing em tipos sequenciais\n",
    "\n",
    "Além dos tipos sequenciais como listas, tuplas e strings poderem ser indexados, é possível também\n",
    "selecionar subconjuntos através do conceito de *slicing* (fatiamento).\n",
    "\n",
    "Por exemplo:"
   ]
  },
  {
   "cell_type": "code",
   "execution_count": 6,
   "metadata": {},
   "outputs": [
    {
     "name": "stdout",
     "output_type": "stream",
     "text": [
      "s= abcdefg\n",
      "s[0:2] = ab\n",
      "s[2:5] = cde\n"
     ]
    }
   ],
   "source": [
    "s = 'abcdefg'\n",
    "print('s=',s)\n",
    "print('s[0:2] =', s[0:2])  # caracteres a partir da posição 0 (inclusivo) até 2 (exclusivo)\n",
    "print('s[2:5] =', s[2:5])  # caracteres a partir da posição 2 (inclusivo) até 5 (exclusivo)"
   ]
  },
  {
   "cell_type": "markdown",
   "metadata": {},
   "source": [
    "Quando o início for zero e o final for o comprimento do string, ele pode ser omitido. Veja os\n",
    "exemplos:"
   ]
  },
  {
   "cell_type": "code",
   "execution_count": 7,
   "metadata": {},
   "outputs": [
    {
     "name": "stdout",
     "output_type": "stream",
     "text": [
      "s= abcdefg\n",
      "s[:2] = ab\n",
      "s[2:] = cdefg\n",
      "s[-2:] = fg\n"
     ]
    }
   ],
   "source": [
    "s = 'abcdefg'\n",
    "print('s=',s)\n",
    "print('s[:2] =', s[:2])  # caracteres a partir do início até 2 (exclusivo)\n",
    "print('s[2:] =', s[2:])  # caracteres a partir da posição 2 (inclusivo) até o final do string\n",
    "print('s[-2:] =', s[-2:]) # últimos 2 caracteres"
   ]
  },
  {
   "cell_type": "markdown",
   "metadata": {},
   "source": [
    "Note que a posição de início é sempre inclusiva e a posição final é sempre exclusiva. \n",
    "Isto é feito para que a concatenação entre ``s[:i]`` e ``s[i:]`` seja igual a ``s``.\n",
    "\n",
    "O *slicing* permite ainda um terceiro valor que é opcional: ``step``. \n",
    "\n",
    "Para quem é familiarizado com a linguagem C, os 3 parâmetros do *slicing* é similar ao ``for``:\n",
    "\n",
    "\n",
    "|comando ``for``                            |  *slicing*            |\n",
    "|-------------------------------------------|-----------------------|\n",
    "|`for (i=inicio; i < fim; i += passo) a[i]` | `a[inicio:fim:passo]` |\n",
    "\n",
    "Veja exemplos de indexação usando *slicing* num string de 7 caracteres, indexados de 0 a 6:\n",
    "\n",
    "|slice    | indices     | explicação                            |\n",
    "|---------|-------------|---------------------------------------|\n",
    "|   0:5   |0,1,2,3,4    |vai de 0 até 4 que é menor que 5       |\n",
    "|   2:5   |2,3,4        |vai de 2 até 4                         |\n",
    "|   0:5:2 |0,2,4        |vai de 0 até 4, pulando de 2 em 2      |\n",
    "|   ::2   |0,2,4,6      |vai do início até o final de 2 em 2    |\n",
    "|   :5    |0,1,2,3,4    |vai do início até 4, que é menor que 5 |\n",
    "|   3:    |3,4,5,6      |vai de 3 até o final                   |\n",
    "|   ::-1  |6,5,4,3,2,1,0|vai do final (6) até o início          |\n",
    "\n",
    "Veja estes exemplos aplicados no string 'abcdefg':"
   ]
  },
  {
   "cell_type": "code",
   "execution_count": 8,
   "metadata": {},
   "outputs": [
    {
     "name": "stdout",
     "output_type": "stream",
     "text": [
      "s= abcdefg\n",
      "s[2:5]= cde\n",
      "s[0:5:2]= ace\n",
      "s[::2]= aceg\n",
      "s[:5]= abcde\n",
      "s[3:]= defg\n",
      "s[::-1]= gfedcba\n"
     ]
    }
   ],
   "source": [
    "s = 'abcdefg'\n",
    "print('s=',s)\n",
    "print('s[2:5]=',  s[2:5])\n",
    "print('s[0:5:2]=',s[0:5:2])\n",
    "print('s[::2]=',  s[::2])\n",
    "print('s[:5]=',   s[:5])\n",
    "print('s[3:]=',   s[3:])\n",
    "print('s[::-1]=', s[::-1])"
   ]
  },
  {
   "cell_type": "markdown",
   "metadata": {},
   "source": [
    "-----\n",
    "### Atenção:\n",
    "\n",
    "    Este conceito de *slicing* será essencial neste curso. Ele pode ser aplicado em strings, \n",
    "    tuplas, listas e principalmente no ``ndarray`` do NumPy. Procure entendê-lo integralmente.\n",
    "-----\n",
    "\n",
    "## Atribuição em tipos sequenciais\n",
    "\n",
    "Tanto strings, tuplas como listas podem ser desempacotados através de atribuição.\n",
    "O importante é que o mapeamento seja consistente. Lembrar que a única sequência\n",
    "que é mutável, isto é, pode ser modificada por atribuição é a lista. \n",
    "Procure estudar os exemplos abaixo:"
   ]
  },
  {
   "cell_type": "code",
   "execution_count": 9,
   "metadata": {},
   "outputs": [
    {
     "name": "stdout",
     "output_type": "stream",
     "text": [
      "s1: a\n",
      "s2: b\n",
      "s3: c\n",
      "list= [1, 2, 3]\n",
      "list= (8, 9, True)\n",
      "a= 9\n"
     ]
    }
   ],
   "source": [
    "s = \"abc\"\n",
    "s1,s2,s3 = s\n",
    "print('s1:',s1)\n",
    "print('s2:',s2)\n",
    "print('s3:',s3)\n",
    "list = [1,2,3]\n",
    "t = 8,9,True\n",
    "print('list=',list)\n",
    "list = t\n",
    "print('list=',list)\n",
    "(_,a,_) = t\n",
    "print('a=',a)"
   ]
  },
  {
   "cell_type": "markdown",
   "metadata": {},
   "source": [
    "## Formatação de string para impressão\n",
    "\n",
    "Um string pode ser formatado de modo parecido com a sintaxe do sprintf em C/C++ na forma:\n",
    "string % tupla. Iremos usar bastante este modelo para colocar legendas nas imagens. Exemplos:\n",
    "\n",
    ".. code:: python"
   ]
  },
  {
   "cell_type": "code",
   "execution_count": 10,
   "metadata": {},
   "outputs": [
    {
     "name": "stdout",
     "output_type": "stream",
     "text": [
      "formatação inteiro:5, float:3.200000, string:alo\n"
     ]
    }
   ],
   "source": [
    "s = 'formatação inteiro:%d, float:%f, string:%s' % (5, 3.2, 'alo')\n",
    "print(s)"
   ]
  },
  {
   "cell_type": "markdown",
   "metadata": {},
   "source": [
    "## Outros tipos\n",
    "\n",
    "Existem ainda os Dicionários e Conjuntos, entretanto eles não serão utilizados durante este curso.\n",
    "   \n",
    "\n",
    "## Dicionários:\n",
    "\n",
    "Dicionários podem ser definidos como sendo listas associativas que ao invés de associar os seus elementos \n",
    "a índices númericos, associa os seus elementos a palavras-chave.\n",
    "\n",
    "- Declarando dicionários e realizando algumas operações simples"
   ]
  },
  {
   "cell_type": "code",
   "execution_count": 22,
   "metadata": {},
   "outputs": [
    {
     "name": "stdout",
     "output_type": "stream",
     "text": [
      "<class 'dict'>\n",
      "{'blue': 135, 'green': 12.34, 'red': 'ocean'}\n",
      "135\n",
      "dict_keys(['blue', 'green', 'red'])\n",
      "dict_keys(['green', 'red'])\n"
     ]
    }
   ],
   "source": [
    "dict1 = {'blue':135,'green':12.34,'red':'ocean'} #definindo um dicionário\n",
    "print(type(dict1))\n",
    "print(dict1)\n",
    "print(dict1['blue'])\n",
    "print(dict1.keys()) # Mostra as chaves do dicionário\n",
    "del dict1['blue'] # Deleta o elemento com  a chave 'blue'\n",
    "print(dict1.keys()) # Mostra as chaves do dicionário após o elemento com a chave 'blue' ser apagado"
   ]
  },
  {
   "cell_type": "markdown",
   "metadata": {},
   "source": [
    "## Conjuntos\n",
    "\n",
    "Conjuntos são coleções de elementos que não possuem ordenação e também não apresentam\n",
    "elementos repetidos.\n",
    "\n",
    "- Declarando conjuntos e realizando algumas operações simples"
   ]
  },
  {
   "cell_type": "code",
   "execution_count": 23,
   "metadata": {},
   "outputs": [
    {
     "name": "stdout",
     "output_type": "stream",
     "text": [
      "{'banana', 'apple', 'pear', 'orange'}\n",
      "<class 'set'>\n",
      "{'banana', 'blue', 'apple', 'green', 'pear', 'red', 'orange'}\n"
     ]
    }
   ],
   "source": [
    "lista1 = ['apple', 'orange', 'apple', 'pear', 'orange', 'banana'] \n",
    "lista2 = ['red', 'blue', 'green','red','red']\n",
    "conjunto1 = set(lista1) # Definindo um conjunto\n",
    "conjunto2 = set(lista2)\n",
    "print(conjunto1) # Observe que os elementos repetidos são contados apenas uma vez\n",
    "print((type(conjunto1)))\n",
    "print((conjunto1 | conjunto2)) # União de 2 conjuntos"
   ]
  },
  {
   "cell_type": "code",
   "execution_count": null,
   "metadata": {
    "collapsed": true
   },
   "outputs": [],
   "source": []
  }
 ],
 "metadata": {
  "kernelspec": {
   "display_name": "Python 3",
   "language": "python",
   "name": "python3"
  },
  "language_info": {
   "codemirror_mode": {
    "name": "ipython",
    "version": 3
   },
   "file_extension": ".py",
   "mimetype": "text/x-python",
   "name": "python",
   "nbconvert_exporter": "python",
   "pygments_lexer": "ipython3",
   "version": "3.6.2"
  },
  "toc": {
   "colors": {
    "hover_highlight": "#DAA520",
    "running_highlight": "#FF0000",
    "selected_highlight": "#FFD700"
   },
   "moveMenuLeft": true,
   "nav_menu": {
    "height": "279px",
    "width": "252px"
   },
   "navigate_menu": true,
   "number_sections": true,
   "sideBar": true,
   "threshold": 4,
   "toc_cell": true,
   "toc_section_display": "block",
   "toc_window_display": false
  }
 },
 "nbformat": 4,
 "nbformat_minor": 2
}
