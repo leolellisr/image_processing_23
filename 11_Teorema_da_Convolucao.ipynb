{
 "cells": [
  {
   "cell_type": "markdown",
   "metadata": {},
   "source": [
    "# Teorema da Convolução\n",
    "\n",
    "## Convolução periódica\n",
    "\n",
    "Antes de falarmos sobre o Teorema da Convolução, precisamos entender a convolução periódica ([pconv](../src/pconv.ipynb)). Até agora, vimos a convolução linear ([conv](../src/conv.ipynb) ou [scipy.signal.convolve2d](https://docs.scipy.org/doc/scipy-0.16.0/reference/generated/scipy.signal.convolve2d.html)), onde o kernel $h$ tem sua origem no centro e a imagem $f$ tem sua origem no canto superior esquerdo. Na convolução periódica, a origem do kernel $h$ está na origem da imagem $f$. Ambos kernel e imagem são periódicos, com o mesmo período. Como normalmente o kernel $h$ é muito menor que a imagem $f$, ele é preenchido com zeros até o tamanho de $f$. "
   ]
  },
  {
   "cell_type": "code",
   "execution_count": 1,
   "metadata": {
    "ExecuteTime": {
     "end_time": "2020-03-10T20:30:46.459930Z",
     "start_time": "2020-03-10T20:30:45.671689Z"
    },
    "collapsed": true
   },
   "outputs": [],
   "source": [
    "%matplotlib inline\n",
    "import matplotlib.pyplot as plt\n",
    "import matplotlib.image as mpimg\n",
    "import numpy as np\n",
    "from numpy.fft import *\n",
    "import sys,os\n",
    "ea979path = os.path.abspath('../../')\n",
    "if ea979path not in sys.path:\n",
    "    sys.path.append(ea979path)\n",
    "import ea979.src as ia"
   ]
  },
  {
   "cell_type": "code",
   "execution_count": 28,
   "metadata": {},
   "outputs": [
    {
     "name": "stdout",
     "output_type": "stream",
     "text": [
      "Image (f):\n",
      "[[1 0 0 0 0 0 0 0 0]\n",
      " [0 0 0 0 0 0 0 0 0]\n",
      " [0 0 0 1 0 0 0 0 0]\n",
      " [0 0 0 0 0 0 0 0 1]\n",
      " [0 0 0 0 0 0 0 0 0]]\n",
      "\n",
      " Image Kernel (h):\n",
      "[[1 2 3]\n",
      " [4 5 6]]\n",
      "Image Output (pconv):\n",
      "[[ 1.  2.  3.  0.  0.  0.  0.  0.  0.]\n",
      " [ 4.  5.  6.  0.  0.  0.  0.  0.  0.]\n",
      " [ 0.  0.  0.  1.  2.  3.  0.  0.  0.]\n",
      " [ 2.  3.  0.  4.  5.  6.  0.  0.  1.]\n",
      " [ 5.  6.  0.  0.  0.  0.  0.  0.  4.]]\n"
     ]
    }
   ],
   "source": [
    "f = np.array([[1,0,0,0,0,0,0,0,0],\n",
    "             [0,0,0,0,0,0,0,0,0],\n",
    "             [0,0,0,1,0,0,0,0,0],\n",
    "             [0,0,0,0,0,0,0,0,1],\n",
    "             [0,0,0,0,0,0,0,0,0]])\n",
    "print(\"Image (f):\")\n",
    "print(f)\n",
    "    \n",
    "h = np.array([[1,2,3],\n",
    "             [4,5,6]])\n",
    "print(\"\\n Image Kernel (h):\")\n",
    "print(h)\n",
    "    \n",
    "g1 = ia.pconv(f,h)\n",
    "print(\"Image Output (pconv):\")\n",
    "print(g1)"
   ]
  },
  {
   "cell_type": "markdown",
   "metadata": {},
   "source": [
    "## Teorema da convolução\n",
    "\n",
    "O teorema da convolução diz que \n",
    "$$ F(f * g) = F(f) \\cdot F(g) $$\n",
    "$$ F(f\\cdot g) = F(f) * F(g) $$ "
   ]
  },
  {
   "cell_type": "markdown",
   "metadata": {},
   "source": [
    "onde $F$ indica o operador da transformada de Fourier, ou seja, $F(f)$ and $F(g)$ são as transformdas de $f$ e $g$. É importante perceber que a convolução usada aqui é a convolução periódica. \n",
    "\n",
    "Vamos ilustrar o Teorema da Convolução com um exemplo numérico. Primeiro, vamos calcular a convolução periódica de uma imagem $f$ com um kernel $h$"
   ]
  },
  {
   "cell_type": "code",
   "execution_count": 29,
   "metadata": {},
   "outputs": [
    {
     "name": "stdout",
     "output_type": "stream",
     "text": [
      "[[-1.  -0.6 -0.2  0.2  0.6  1. ]\n",
      " [-2.  -1.2 -0.4  0.4  1.2  2. ]\n",
      " [-1.  -0.6 -0.2  0.2  0.6  1. ]\n",
      " [-1.  -0.6 -0.2  0.2  0.6  1. ]]\n"
     ]
    }
   ],
   "source": [
    "fr = np.linspace(-1,1,6)\n",
    "f  = np.array([fr,2*fr,fr,fr]) \n",
    "print(f)"
   ]
  },
  {
   "cell_type": "code",
   "execution_count": 30,
   "metadata": {},
   "outputs": [
    {
     "name": "stdout",
     "output_type": "stream",
     "text": [
      "[[-1  0  1]\n",
      " [-2  0  2]\n",
      " [-1  0  1]]\n"
     ]
    }
   ],
   "source": [
    "hh = np.array([-1,0,+1])\n",
    "h = np.array([hh,2*hh,hh])\n",
    "print(h)"
   ]
  },
  {
   "cell_type": "code",
   "execution_count": 31,
   "metadata": {},
   "outputs": [
    {
     "name": "stdout",
     "output_type": "stream",
     "text": [
      "[[ 6.4  6.4 -3.2 -3.2 -3.2 -3.2]\n",
      " [ 8.   8.  -4.  -4.  -4.  -4. ]\n",
      " [ 9.6  9.6 -4.8 -4.8 -4.8 -4.8]\n",
      " [ 8.   8.  -4.  -4.  -4.  -4. ]]\n"
     ]
    }
   ],
   "source": [
    "g = ia.pconv(f,h)\n",
    "print(g)"
   ]
  },
  {
   "cell_type": "markdown",
   "metadata": {},
   "source": [
    "Agora, vamos calcular a transformada de Fourier $F(f)$ da imagem e $F(h)$ do kernel. Antes de mais nada, precisamos garantir que a imagem $f$ e o kernel $h$ sejam periódicos e tenham o mesmo tamanho."
   ]
  },
  {
   "cell_type": "code",
   "execution_count": 32,
   "metadata": {},
   "outputs": [
    {
     "name": "stdout",
     "output_type": "stream",
     "text": [
      "Result gg: \n",
      " [[  6.-0.j   6.-0.j  -3.-0.j  -3.+0.j  -3.+0.j  -3.-0.j]\n",
      " [  8.-0.j   8.-0.j  -4.-0.j  -4.+0.j  -4.+0.j  -4.-0.j]\n",
      " [ 10.-0.j  10.-0.j  -5.-0.j  -5.-0.j  -5.+0.j  -5.-0.j]\n",
      " [  8.-0.j   8.-0.j  -4.-0.j  -4.+0.j  -4.+0.j  -4.-0.j]]\n"
     ]
    }
   ],
   "source": [
    "# Aumentando h para o tamanho de f\n",
    "aux = np.zeros(f.shape)\n",
    "r,c = h.shape\n",
    "aux[:r,:c] = h\n",
    "\n",
    "# Calculando a Transformada de Fourier da f e h\n",
    "F = fft2(f)\n",
    "H = fft2(aux)\n",
    "\n",
    "# Multiplicando-se as Tranformadas\n",
    "G = F * H\n",
    "\n",
    "# Calculando a Transformada inversa\n",
    "gg = ifft2(G)\n",
    "\n",
    "print(\"Result gg: \\n\",np.around(gg))"
   ]
  },
  {
   "cell_type": "markdown",
   "metadata": {},
   "source": [
    "Pelo teorema da convolução, gg e g deveriam ser iguais:"
   ]
  },
  {
   "cell_type": "code",
   "execution_count": 33,
   "metadata": {},
   "outputs": [
    {
     "name": "stdout",
     "output_type": "stream",
     "text": [
      "O teorema da convolução funcionou? True\n"
     ]
    }
   ],
   "source": [
    "print('O teorema da convolução funcionou?', np.allclose(gg.real,g))"
   ]
  }
 ],
 "metadata": {
  "kernelspec": {
   "display_name": "Python 3 (ipykernel)",
   "language": "python",
   "name": "python3"
  },
  "language_info": {
   "codemirror_mode": {
    "name": "ipython",
    "version": 3
   },
   "file_extension": ".py",
   "mimetype": "text/x-python",
   "name": "python",
   "nbconvert_exporter": "python",
   "pygments_lexer": "ipython3",
   "version": "3.10.6"
  }
 },
 "nbformat": 4,
 "nbformat_minor": 2
}
