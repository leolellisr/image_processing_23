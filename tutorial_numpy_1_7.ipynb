{
 "cells": [
  {
   "cell_type": "markdown",
   "metadata": {
    "toc": "true"
   },
   "source": [
    "# Table of Contents\n",
    " <p><div class=\"lev1 toc-item\"><a href=\"#Numpy:-Funções-indices-e-meshgrid\" data-toc-modified-id=\"Numpy:-Funções-indices-e-meshgrid-1\"><span class=\"toc-item-num\">1&nbsp;&nbsp;</span>Numpy: Funções indices e meshgrid</a></div><div class=\"lev2 toc-item\"><a href=\"#Operador-indices-em-pequenos-exemplos-numéricos\" data-toc-modified-id=\"Operador-indices-em-pequenos-exemplos-numéricos-11\"><span class=\"toc-item-num\">1.1&nbsp;&nbsp;</span>Operador indices em pequenos exemplos numéricos</a></div><div class=\"lev2 toc-item\"><a href=\"#Operador-indices-em-exemplo-de-imagens-sintéticas\" data-toc-modified-id=\"Operador-indices-em-exemplo-de-imagens-sintéticas-12\"><span class=\"toc-item-num\">1.2&nbsp;&nbsp;</span>Operador indices em exemplo de imagens sintéticas</a></div><div class=\"lev2 toc-item\"><a href=\"#Soma\" data-toc-modified-id=\"Soma-13\"><span class=\"toc-item-num\">1.3&nbsp;&nbsp;</span>Soma</a></div><div class=\"lev2 toc-item\"><a href=\"#Subtração\" data-toc-modified-id=\"Subtração-14\"><span class=\"toc-item-num\">1.4&nbsp;&nbsp;</span>Subtração</a></div><div class=\"lev2 toc-item\"><a href=\"#Xadrez\" data-toc-modified-id=\"Xadrez-15\"><span class=\"toc-item-num\">1.5&nbsp;&nbsp;</span>Xadrez</a></div><div class=\"lev2 toc-item\"><a href=\"#Reta\" data-toc-modified-id=\"Reta-16\"><span class=\"toc-item-num\">1.6&nbsp;&nbsp;</span>Reta</a></div><div class=\"lev2 toc-item\"><a href=\"#Parábola\" data-toc-modified-id=\"Parábola-17\"><span class=\"toc-item-num\">1.7&nbsp;&nbsp;</span>Parábola</a></div><div class=\"lev2 toc-item\"><a href=\"#Círculo\" data-toc-modified-id=\"Círculo-18\"><span class=\"toc-item-num\">1.8&nbsp;&nbsp;</span>Círculo</a></div><div class=\"lev2 toc-item\"><a href=\"#Meshgrid\" data-toc-modified-id=\"Meshgrid-19\"><span class=\"toc-item-num\">1.9&nbsp;&nbsp;</span>Meshgrid</a></div><div class=\"lev2 toc-item\"><a href=\"#Gerando-os-vetores-com-linspace\" data-toc-modified-id=\"Gerando-os-vetores-com-linspace-110\"><span class=\"toc-item-num\">1.10&nbsp;&nbsp;</span>Gerando os vetores com linspace</a></div><div class=\"lev2 toc-item\"><a href=\"#Exemplo-na-geração-da-imagem-sinc-com-meshgrid\" data-toc-modified-id=\"Exemplo-na-geração-da-imagem-sinc-com-meshgrid-111\"><span class=\"toc-item-num\">1.11&nbsp;&nbsp;</span>Exemplo na geração da imagem sinc com meshgrid</a></div><div class=\"lev2 toc-item\"><a href=\"#Exemplo-na-geração-da-imagem-sinc-com-indices\" data-toc-modified-id=\"Exemplo-na-geração-da-imagem-sinc-com-indices-112\"><span class=\"toc-item-num\">1.12&nbsp;&nbsp;</span>Exemplo na geração da imagem sinc com indices</a></div><div class=\"lev2 toc-item\"><a href=\"#Documentação-Oficial-Numpy\" data-toc-modified-id=\"Documentação-Oficial-Numpy-113\"><span class=\"toc-item-num\">1.13&nbsp;&nbsp;</span>Documentação Oficial Numpy</a></div><div class=\"lev2 toc-item\"><a href=\"#Referências\" data-toc-modified-id=\"Referências-114\"><span class=\"toc-item-num\">1.14&nbsp;&nbsp;</span>Referências</a></div><div class=\"lev2 toc-item\"><a href=\"#Para-usuários-avançados\" data-toc-modified-id=\"Para-usuários-avançados-115\"><span class=\"toc-item-num\">1.15&nbsp;&nbsp;</span>Para usuários avançados</a></div><div class=\"lev2 toc-item\"><a href=\"#Exemplos-com-Imagem\" data-toc-modified-id=\"Exemplos-com-Imagem-116\"><span class=\"toc-item-num\">1.16&nbsp;&nbsp;</span>Exemplos com Imagem</a></div>"
   ]
  },
  {
   "cell_type": "markdown",
   "metadata": {},
   "source": [
    "# Numpy: Funções indices e meshgrid\n",
    "\n",
    "As funções ``indices`` e ``meshgrid`` são extremamente úteis na geração de imagens sintéticas e o seu aprendizado permite também\n",
    "entender as vantagens de programação matricial, evitando-se a varredura seqüencial da imagem muito usual na programação na linguagem C.\n",
    "\n",
    "## Operador indices em pequenos exemplos numéricos\n",
    "\n",
    "A função ``indices`` recebe como parâmetros uma tupla com as dimensões (H,W) das matrizes a serem criadas. No exemplo a seguir, estamos\n",
    "gerando matrizes de 5 linhas e 10 colunas. Esta função retorna uma tupla de duas matrizes que podem ser obtidas fazendo suas atribuições\n",
    "como no exemplo a seguir onde criamos as matrizes ``r`` e ``c``, ambas de tamanho (5,10), isto é, 5 linhas e 10 colunas:"
   ]
  },
  {
   "cell_type": "code",
   "execution_count": 1,
   "metadata": {},
   "outputs": [
    {
     "name": "stdout",
     "output_type": "stream",
     "text": [
      "r=\n",
      " [[0 0 0 0 0 0 0 0 0 0]\n",
      " [1 1 1 1 1 1 1 1 1 1]\n",
      " [2 2 2 2 2 2 2 2 2 2]\n",
      " [3 3 3 3 3 3 3 3 3 3]\n",
      " [4 4 4 4 4 4 4 4 4 4]]\n",
      "c=\n",
      " [[0 1 2 3 4 5 6 7 8 9]\n",
      " [0 1 2 3 4 5 6 7 8 9]\n",
      " [0 1 2 3 4 5 6 7 8 9]\n",
      " [0 1 2 3 4 5 6 7 8 9]\n",
      " [0 1 2 3 4 5 6 7 8 9]]\n"
     ]
    }
   ],
   "source": [
    "import numpy as np\n",
    "r,c = np.indices( (5, 10) )\n",
    "print('r=\\n', r)\n",
    "print('c=\\n', c)"
   ]
  },
  {
   "cell_type": "markdown",
   "metadata": {},
   "source": [
    "Note que a matriz ``r`` é uma matriz onde cada elemento é a sua coordenada linha e a matriz ``c`` é uma matriz onde cada elemento é\n",
    "a sua coordenada coluna. Desta forma, qualquer operação matricial feita com ``r`` e ``c``, na realidade você está processando as\n",
    "coordenadas da matriz. Assim, é possível gerar diversas imagens sintéticas a partir de uma função de suas coordenadas.\n",
    "\n",
    "Como o NumPy processa as matrizes diretamente, sem a necessidade de fazer um ``for`` explícito, a notação do programa fica bem simples\n",
    "e a eficiência também. O único inconveniente é o uso da memória para se calcular as matrizes de índices ``r`` e ``c``. Iremos\n",
    "ver mais à frente que isto pode ser minimizado. \n",
    "\n",
    "Por exemplo seja a função que seja a soma de suas coordenadas $f(r,c) = r + c$:"
   ]
  },
  {
   "cell_type": "code",
   "execution_count": 2,
   "metadata": {},
   "outputs": [],
   "source": [
    "f = r + c\n",
    "print('f=\\n', f)"
   ]
  },
  {
   "cell_type": "markdown",
   "metadata": {},
   "source": [
    "Ou ainda a função diferença entre a coordenada linha e coluna $f(r,c) = r - c$:"
   ]
  },
  {
   "cell_type": "code",
   "execution_count": 3,
   "metadata": {},
   "outputs": [
    {
     "name": "stdout",
     "output_type": "stream",
     "text": [
      "f=\n",
      " [[ 0 -1 -2 -3 -4 -5 -6 -7 -8 -9]\n",
      " [ 1  0 -1 -2 -3 -4 -5 -6 -7 -8]\n",
      " [ 2  1  0 -1 -2 -3 -4 -5 -6 -7]\n",
      " [ 3  2  1  0 -1 -2 -3 -4 -5 -6]\n",
      " [ 4  3  2  1  0 -1 -2 -3 -4 -5]]\n"
     ]
    }
   ],
   "source": [
    "f = r - c\n",
    "print('f=\\n', f)"
   ]
  },
  {
   "cell_type": "markdown",
   "metadata": {},
   "source": [
    "Ou ainda a função $f(r,c) = (r + c) \\% 2$ onde % é operador módulo. Esta função retorna 1 se a soma das coordenadas for ímpar e 0 caso contrário.\n",
    "É uma imagem no estilo de um tabuleiro de xadrez de valores 0 e 1:"
   ]
  },
  {
   "cell_type": "code",
   "execution_count": 4,
   "metadata": {},
   "outputs": [
    {
     "name": "stdout",
     "output_type": "stream",
     "text": [
      "f=\n",
      " [[0 1 0 1 0 1 0 1 0 1]\n",
      " [1 0 1 0 1 0 1 0 1 0]\n",
      " [0 1 0 1 0 1 0 1 0 1]\n",
      " [1 0 1 0 1 0 1 0 1 0]\n",
      " [0 1 0 1 0 1 0 1 0 1]]\n"
     ]
    }
   ],
   "source": [
    "f = (r + c) % 2\n",
    "print('f=\\n', f)"
   ]
  },
  {
   "cell_type": "markdown",
   "metadata": {},
   "source": [
    "Ou ainda a função de uma reta $ f(r,c) = (r = \\frac{1}{2}c)$:"
   ]
  },
  {
   "cell_type": "code",
   "execution_count": 6,
   "metadata": {},
   "outputs": [
    {
     "name": "stdout",
     "output_type": "stream",
     "text": [
      "f=\n",
      " [[ True  True False False False False False False False False]\n",
      " [False False  True  True False False False False False False]\n",
      " [False False False False  True  True False False False False]\n",
      " [False False False False False False  True  True False False]\n",
      " [False False False False False False False False  True  True]]\n",
      "f=\n",
      " [[1 1 0 0 0 0 0 0 0 0]\n",
      " [0 0 1 1 0 0 0 0 0 0]\n",
      " [0 0 0 0 1 1 0 0 0 0]\n",
      " [0 0 0 0 0 0 1 1 0 0]\n",
      " [0 0 0 0 0 0 0 0 1 1]]\n"
     ]
    }
   ],
   "source": [
    "f = (r == c//2)\n",
    "print('f=\\n', f)\n",
    "print('f=\\n',f.astype(np.int16))"
   ]
  },
  {
   "cell_type": "markdown",
   "metadata": {},
   "source": [
    "Ou ainda a função parabólica dada pela soma do quadrado de suas coordenadas \n",
    "$$ f(r,c) = r^2 + c^2 $$:"
   ]
  },
  {
   "cell_type": "code",
   "execution_count": 7,
   "metadata": {},
   "outputs": [
    {
     "name": "stdout",
     "output_type": "stream",
     "text": [
      "f=\n",
      " [[ 0  1  4  9 16 25 36 49 64 81]\n",
      " [ 1  2  5 10 17 26 37 50 65 82]\n",
      " [ 4  5  8 13 20 29 40 53 68 85]\n",
      " [ 9 10 13 18 25 34 45 58 73 90]\n",
      " [16 17 20 25 32 41 52 65 80 97]]\n"
     ]
    }
   ],
   "source": [
    "f = r**2 + c**2\n",
    "print('f=\\n', f)"
   ]
  },
  {
   "cell_type": "markdown",
   "metadata": {},
   "source": [
    "   \n",
    "Ou ainda a função do círculo de raio 4, com centro em (0,0) $f(r,c) = (r^2 + c^2 < 4^2)$:"
   ]
  },
  {
   "cell_type": "code",
   "execution_count": 8,
   "metadata": {},
   "outputs": [
    {
     "name": "stdout",
     "output_type": "stream",
     "text": [
      "f=\n",
      " [[1 1 1 1 0 0 0 0 0 0]\n",
      " [1 1 1 1 0 0 0 0 0 0]\n",
      " [1 1 1 1 0 0 0 0 0 0]\n",
      " [1 1 1 0 0 0 0 0 0 0]\n",
      " [0 0 0 0 0 0 0 0 0 0]]\n"
     ]
    }
   ],
   "source": [
    "f = ((r**2 + c**2) < 4**2)\n",
    "print('f=\\n', f * 1)"
   ]
  },
  {
   "cell_type": "markdown",
   "metadata": {},
   "source": [
    "## Operador indices em exemplo de imagens sintéticas\n",
    "\n",
    "Vejamos os exemplos acima, porém gerados em imagens. A diferença será no tamanho da matriz, iremos utilizar matriz (200,300), e\n",
    "a forma de visualizá-la através do ``adshow``, ao invés de imprimir os valores como fizemos acima. \n",
    "Como muitas vezes o resultado das funções poderão estar fora\n",
    "da faixa 0-255 admitida pelo ``adshow``, iremos sempre normalizar os valores finais da imagem calculada para a faixa 0-255 utilizando\n",
    "a função `ia636:ianormalize ianormalize` da toolbox ia636.\n",
    "\n",
    "Gerando as coordenadas utilizando ``indices``:\n",
    "\n",
    "Observe que o parâmetro de ``indices`` é uma tupla. Verifique o número de parêntesis utilizados:"
   ]
  },
  {
   "cell_type": "code",
   "execution_count": null,
   "metadata": {
    "ExecuteTime": {
     "end_time": "2020-04-06T20:31:54.888315Z",
     "start_time": "2020-04-06T20:31:53.271505Z"
    }
   },
   "outputs": [],
   "source": [
    "import numpy as np\n",
    "import sys,os\n"
   ]
  },
  {
   "cell_type": "code",
   "execution_count": 9,
   "metadata": {},
   "outputs": [
    {
     "ename": "NameError",
     "evalue": "name 'ia' is not defined",
     "output_type": "error",
     "traceback": [
      "\u001b[0;31m---------------------------------------------------------------------------\u001b[0m",
      "\u001b[0;31mNameError\u001b[0m                                 Traceback (most recent call last)",
      "Cell \u001b[0;32mIn[9], line 2\u001b[0m\n\u001b[1;32m      1\u001b[0m r,c \u001b[38;5;241m=\u001b[39m np\u001b[38;5;241m.\u001b[39mindices( (\u001b[38;5;241m200\u001b[39m, \u001b[38;5;241m300\u001b[39m) )\n\u001b[0;32m----> 2\u001b[0m rn \u001b[38;5;241m=\u001b[39m \u001b[43mia\u001b[49m\u001b[38;5;241m.\u001b[39mnormalize(r)\n\u001b[1;32m      3\u001b[0m cn \u001b[38;5;241m=\u001b[39m ia\u001b[38;5;241m.\u001b[39mnormalize(c)\n\u001b[1;32m      4\u001b[0m plt\u001b[38;5;241m.\u001b[39mimshow(rn,\u001b[38;5;124m'\u001b[39m\u001b[38;5;124mrn:linhas\u001b[39m\u001b[38;5;124m'\u001b[39m)\n",
      "\u001b[0;31mNameError\u001b[0m: name 'ia' is not defined"
     ]
    }
   ],
   "source": [
    "r,c = np.indices( (200, 300) )\n",
    "rn = normalize.normalize(r)\n",
    "cn = normalize.normalize(c)\n",
    "plt.imshow(rn,'rn:linhas')\n"
   ]
  },
  {
   "cell_type": "code",
   "execution_count": null,
   "metadata": {},
   "outputs": [],
   "source": [
    "nb.nbshow(cn,'cn:colunas',flush=True)"
   ]
  },
  {
   "cell_type": "markdown",
   "metadata": {},
   "source": [
    "## Soma\n",
    "\n",
    "Função soma: $f(r,c) = r + c$:"
   ]
  },
  {
   "cell_type": "code",
   "execution_count": null,
   "metadata": {},
   "outputs": [],
   "source": [
    "f = r + c\n",
    "ia.adshow(ia.normalize(f),'r + c')"
   ]
  },
  {
   "cell_type": "markdown",
   "metadata": {},
   "source": [
    "## Subtração\n",
    "\n",
    "Função subtração $f(r,c) = r - c$:"
   ]
  },
  {
   "cell_type": "code",
   "execution_count": null,
   "metadata": {},
   "outputs": [],
   "source": [
    "f = r - c\n",
    "ia.adshow(ia.normalize(f),'r - c')"
   ]
  },
  {
   "cell_type": "code",
   "execution_count": null,
   "metadata": {},
   "outputs": [],
   "source": [
    "%matplotlib inline\n",
    "import matplotlib.pyplot as plt\n",
    "plt.imshow(f,cmap='gray')\n",
    "plt.colorbar()"
   ]
  },
  {
   "cell_type": "markdown",
   "metadata": {},
   "source": [
    "## Xadrez\n",
    "\n",
    "Função xadrez $f(r,c) = \\frac{(r + c)}{8} \\% 2$. Aqui foi feita a divisão por 8 para que o tamanho das casas do xadrez fique 8 x 8, caso\n",
    "contrário é muito difícil de visualizar o efeito xadrez pois a imagem possui muitos pixels.:"
   ]
  },
  {
   "cell_type": "code",
   "execution_count": null,
   "metadata": {},
   "outputs": [],
   "source": [
    "f = (r//8 + c//8) % 2\n",
    "ia.adshow(ia.normalize(f),'(r//8 + c//8) % 2')"
   ]
  },
  {
   "cell_type": "markdown",
   "metadata": {},
   "source": [
    "## Reta\n",
    "\n",
    "Ou ainda a função de uma reta $f(r,c) = (r = \\frac{1}{2} c)$:"
   ]
  },
  {
   "cell_type": "code",
   "execution_count": null,
   "metadata": {},
   "outputs": [],
   "source": [
    "f = (r == c//2)\n",
    "ia.adshow(f,'r == c//2')"
   ]
  },
  {
   "cell_type": "markdown",
   "metadata": {},
   "source": [
    "## Parábola\n",
    "\n",
    "Função parabólica: $f(r,c) = r^2 + c^2$:"
   ]
  },
  {
   "cell_type": "code",
   "execution_count": null,
   "metadata": {},
   "outputs": [],
   "source": [
    "f = r**2 + c**2\n",
    "ia.adshow(ia.normalize(f),'r**2 + c**2')"
   ]
  },
  {
   "cell_type": "markdown",
   "metadata": {},
   "source": [
    "## Círculo\n",
    "\n",
    "Função do círculo de raio 190, $f(r,c) = (r^2 + c^2 < 190^2)$:"
   ]
  },
  {
   "cell_type": "code",
   "execution_count": null,
   "metadata": {},
   "outputs": [],
   "source": [
    "f = (r**2 + c**2 < 190**2)\n",
    "ia.adshow(ia.normalize(f),'r**2 + c**2) < 190**2')"
   ]
  },
  {
   "cell_type": "markdown",
   "metadata": {},
   "source": [
    "## Meshgrid\n",
    "   \n",
    "A função ``meshgrid`` é semelhante à  função ``indices`` visto\n",
    "anteriormente, porém, enquanto ``indices`` gera as coordenadas inteiras não negativas a partir de um ``shape(H,W)``, \n",
    "o ``meshgrid`` gera os valores das matrizes a partir de dois vetores de valores reais quaisquer, um para as linhas e outro para as colunas.\n",
    "\n",
    "Veja a seguir um pequeno exemplo numérico. Para que o ``meshgrid`` fique compatível com a nossa convenção de (linhas,colunas), deve-se\n",
    "usar o parâmetro ``indexing='ij'``."
   ]
  },
  {
   "cell_type": "code",
   "execution_count": null,
   "metadata": {},
   "outputs": [],
   "source": [
    "import numpy as np\n",
    "r, c = np.meshgrid( np.array([-1.5, -1.0, -0.5, 0.0, 0.5]), \n",
    "                    np.array([ -20,  -10,    0,  10,  20, 30]), indexing='ij')\n",
    "print('r=\\n',r)\n",
    "print('c=\\n',c)"
   ]
  },
  {
   "cell_type": "markdown",
   "metadata": {},
   "source": [
    "## Gerando os vetores com linspace\n",
    "\n",
    "A função ``linspace`` gera vetor em ponto flutuante recebendo os parâmetro de valor inicial, valor final e número de pontos do vetor.\n",
    "Desta forma ele é bastante usado para gerar os parâmetro para o ``meshgrid``.\n",
    " \n",
    "Repetindo os mesmos valores do exemplo anterior, porém usando ``linspace``. Observe que o primeiro vetor possui 5 pontos,\n",
    "começando com valor -1.5 e o valor final é 0.5 (inclusive). O segundo vetor possui 6 pontos, começando de -20 até 30:"
   ]
  },
  {
   "cell_type": "code",
   "execution_count": null,
   "metadata": {},
   "outputs": [],
   "source": [
    "rows = np.linspace(-1.5, 0.5, 5)\n",
    "cols = np.linspace(-20, 30, 6)\n",
    "\n",
    "print('rows:', rows)\n",
    "print('cols:', cols)"
   ]
  },
  {
   "cell_type": "markdown",
   "metadata": {},
   "source": [
    "Usando os dois vetores gerados pelo ``linspace`` no ``meshgrid``:\n",
    "   "
   ]
  },
  {
   "cell_type": "code",
   "execution_count": null,
   "metadata": {},
   "outputs": [],
   "source": [
    "r, c = np.meshgrid(rows, cols, indexing='ij')\n",
    "print('r = \\n', r)\n",
    "print('c = \\n', c)"
   ]
  },
  {
   "cell_type": "markdown",
   "metadata": {},
   "source": [
    "Podemos agora gerar uma matriz ou imagem que seja função destes valores. Por exemplo ser o produto deles:"
   ]
  },
  {
   "cell_type": "code",
   "execution_count": null,
   "metadata": {},
   "outputs": [],
   "source": [
    "f = r * c\n",
    "print('f=\\n', f)"
   ]
  },
  {
   "cell_type": "markdown",
   "metadata": {},
   "source": [
    "## Exemplo na geração da imagem sinc com meshgrid\n",
    "\n",
    "Neste exemplo, geramos a imagem da função $ sinc(r,c)$ em duas dimensões, nos intervalos na vertical, de -5 a 5 e na\n",
    "horizontal de -6 a 6. A função sinc é uma função trigonométrica que pode ser utilizada para filtragens.\n",
    "\n",
    "A equação é dada por:\n",
    "\n",
    "$$    sinc(r,c) = \\frac{\\sin(r^2 + c^2)}{r^2 + c^2}, \\text{para\\ } -5 \\leq r \\leq 5, -6 \\leq c \\leq 6 $$\n",
    "\n",
    "Na origem, tanto r como c são zeros, resultando uma divisão por zero. Entretanto pela teoria dos limites, $\\frac{sin(x)}{x}$ é\n",
    "igual a 1 quando $x$ é igual a zero.\n",
    "Uma forma de se obter isto em ponto flutuante é somar tanto no numerador como no denominador um *epsilon*, que é a\n",
    "menor valor em ponto flutuante. Epsilon pode ser obtido pela função ``np.spacing``. "
   ]
  },
  {
   "cell_type": "code",
   "execution_count": null,
   "metadata": {},
   "outputs": [],
   "source": [
    "e = np.spacing(1) # epsilon to avoid 0/0\n",
    "rows = np.linspace(-5.0, 5.0, 150) # coordenadas das linhas\n",
    "cols = np.linspace(-6.0, 6.0, 180) # coordenadas das colunas\n",
    "r, c = np.meshgrid(rows, cols, indexing='ij') # Grid de coordenadas estilo numpy\n",
    "z = np.sin(r**2 + c**2 + e) / (r**2 + c**2 + e) # epsilon is added to avoid 0/0\n",
    "ia.adshow(ia.normalize(z),'Função sinc: sen(r² + c²)/(r²+c²) em duas dimensões')"
   ]
  },
  {
   "cell_type": "code",
   "execution_count": null,
   "metadata": {},
   "outputs": [],
   "source": [
    "plt.imshow(z)\n",
    "plt.colorbar()"
   ]
  },
  {
   "cell_type": "markdown",
   "metadata": {},
   "source": [
    "## Exemplo na geração da imagem sinc com indices\n",
    "\n",
    "Outra forma de gerar a mesma imagem, usando a função ``indices`` é processar os\n",
    "indices de modo a gerar os mesmos valores relativos à grade de espaçamento regular\n",
    "acima, conforme ilustrado abaixo:"
   ]
  },
  {
   "cell_type": "code",
   "execution_count": null,
   "metadata": {},
   "outputs": [],
   "source": [
    "n_rows = len(rows)\n",
    "n_cols = len(cols)\n",
    "r,c = np.indices((n_rows,n_cols))\n",
    "r = -5. + 10.*r.astype(float)/(n_rows-1)\n",
    "c = -6. + 12.*c.astype(float)/(n_cols-1)\n",
    "zi = np.sin(r**2 + c**2 + e) / (r**2 + c**2 + e) # epsilon is addes to avoid 0/0\n",
    "ia.adshow(ia.normalize(zi),'Função sinc: sin(r² + c²)/(r²+c²) em duas dimensões')   "
   ]
  },
  {
   "cell_type": "markdown",
   "metadata": {},
   "source": [
    "Verificando que as duas funções são iguais:"
   ]
  },
  {
   "cell_type": "code",
   "execution_count": null,
   "metadata": {},
   "outputs": [],
   "source": [
    "print('Máxima diferença entre z e zi?', abs(z - zi).max())"
   ]
  },
  {
   "cell_type": "code",
   "execution_count": null,
   "metadata": {},
   "outputs": [],
   "source": [
    "np.exp(-1/2.)"
   ]
  },
  {
   "cell_type": "markdown",
   "metadata": {},
   "source": [
    "## Documentação Oficial Numpy\n",
    " \n",
    "- [meshgrid](http://docs.scipy.org/doc/numpy/reference/generated/numpy.meshgrid.html)\n",
    "- [indices](http://docs.scipy.org/doc/numpy/reference/generated/numpy.indices.html) \n",
    "- [linspace](http://docs.scipy.org/doc/numpy/reference/generated/numpy.linspace.html)"
   ]
  },
  {
   "cell_type": "markdown",
   "metadata": {},
   "source": [
    "## Referências\n",
    "\n",
    "- [Wikipedia: Sinc Function](http://en.wikipedia.org/wiki/Sinc_function)"
   ]
  },
  {
   "cell_type": "markdown",
   "metadata": {},
   "source": [
    "## Para usuários avançados\n",
    "\n",
    "Na realidade a função `indices` retorna um único array n-dimensional com uma dimensão a mais que o indicado pelo\n",
    "shape usado como parâmetro. Assim, quando é feito ``r,c = np.indices((rows,cols))``, r é atribuído para o elemento 0 e\n",
    "c é atribuído para o elemento 1 do ndarray. No caso do ``meshgrid``, ele retorna tantos arrays quanto forem o número\n",
    "de vetores passados como parâmetro para ``meshgrid``.\n",
    "\n"
   ]
  },
  {
   "cell_type": "code",
   "execution_count": null,
   "metadata": {},
   "outputs": [],
   "source": []
  }
 ],
 "metadata": {
  "kernelspec": {
   "display_name": "Python 3 (ipykernel)",
   "language": "python",
   "name": "python3"
  },
  "language_info": {
   "codemirror_mode": {
    "name": "ipython",
    "version": 3
   },
   "file_extension": ".py",
   "mimetype": "text/x-python",
   "name": "python",
   "nbconvert_exporter": "python",
   "pygments_lexer": "ipython3",
   "version": "3.10.6"
  },
  "toc": {
   "colors": {
    "hover_highlight": "#DAA520",
    "running_highlight": "#FF0000",
    "selected_highlight": "#FFD700"
   },
   "moveMenuLeft": true,
   "nav_menu": {
    "height": "156px",
    "width": "252px"
   },
   "navigate_menu": true,
   "number_sections": true,
   "sideBar": true,
   "threshold": 4,
   "toc_cell": true,
   "toc_section_display": "block",
   "toc_window_display": false
  }
 },
 "nbformat": 4,
 "nbformat_minor": 2
}
