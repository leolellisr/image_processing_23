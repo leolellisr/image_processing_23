{
 "cells": [
  {
   "cell_type": "markdown",
   "metadata": {
    "toc": "true"
   },
   "source": [
    "# Table of Contents\n",
    " <p><div class=\"lev1 toc-item\"><a href=\"#Tile\" data-toc-modified-id=\"Tile-1\"><span class=\"toc-item-num\">1&nbsp;&nbsp;</span>Tile</a></div><div class=\"lev2 toc-item\"><a href=\"#Exemplo-unidimensional---replicando-as-colunas\" data-toc-modified-id=\"Exemplo-unidimensional---replicando-as-colunas-11\"><span class=\"toc-item-num\">1.1&nbsp;&nbsp;</span>Exemplo unidimensional - replicando as colunas</a></div><div class=\"lev2 toc-item\"><a href=\"#Exemplo-unidimensional---replicando-as-linhas\" data-toc-modified-id=\"Exemplo-unidimensional---replicando-as-linhas-12\"><span class=\"toc-item-num\">1.2&nbsp;&nbsp;</span>Exemplo unidimensional - replicando as linhas</a></div><div class=\"lev2 toc-item\"><a href=\"#Exemplo-bidimensional---replicando-as-colunas\" data-toc-modified-id=\"Exemplo-bidimensional---replicando-as-colunas-13\"><span class=\"toc-item-num\">1.3&nbsp;&nbsp;</span>Exemplo bidimensional - replicando as colunas</a></div><div class=\"lev2 toc-item\"><a href=\"#Exemplo-bidimensional---replicando-as-linhas\" data-toc-modified-id=\"Exemplo-bidimensional---replicando-as-linhas-14\"><span class=\"toc-item-num\">1.4&nbsp;&nbsp;</span>Exemplo bidimensional - replicando as linhas</a></div><div class=\"lev2 toc-item\"><a href=\"#Exemplo-bidimensional---replicando-as-linhas-e-colunas-simultaneamente\" data-toc-modified-id=\"Exemplo-bidimensional---replicando-as-linhas-e-colunas-simultaneamente-15\"><span class=\"toc-item-num\">1.5&nbsp;&nbsp;</span>Exemplo bidimensional - replicando as linhas e colunas simultaneamente</a></div><div class=\"lev1 toc-item\"><a href=\"#Documentação-Oficial-Numpy\" data-toc-modified-id=\"Documentação-Oficial-Numpy-2\"><span class=\"toc-item-num\">2&nbsp;&nbsp;</span>Documentação Oficial Numpy</a></div>"
   ]
  },
  {
   "cell_type": "markdown",
   "metadata": {},
   "source": [
    "# Tile\n",
    "\n",
    "Uma função importante da biblioteca numpy é a tile, que gera repetições do array passado com parâmetro. A quantidade de repetições é dada pelo parâmetro reps\n",
    "\n",
    "## Exemplo unidimensional - replicando as colunas"
   ]
  },
  {
   "cell_type": "code",
   "execution_count": 10,
   "metadata": {},
   "outputs": [
    {
     "name": "stdout",
     "output_type": "stream",
     "text": [
      "a = \n",
      " [0 1 2]\n",
      "\n",
      "Resultado da operação np.tile(a,2): \n",
      " [0 1 2 0 1 2]\n"
     ]
    }
   ],
   "source": [
    "import numpy as np\n",
    "\n",
    "a = np.array([0, 1, 2])\n",
    "print('a = \\n', a)\n",
    "\n",
    "print()\n",
    "print('Resultado da operação np.tile(a,2): \\n',np.tile(a,2))"
   ]
  },
  {
   "cell_type": "markdown",
   "metadata": {},
   "source": [
    "## Exemplo unidimensional - replicando as linhas\n",
    "\n",
    "Para modificar as dimensões na quais a replicação será realizada modifica-se o parâmetro reps, passando ao invés de um int, uma tupla com as dimensões que se deseja alterar"
   ]
  },
  {
   "cell_type": "code",
   "execution_count": 9,
   "metadata": {},
   "outputs": [
    {
     "name": "stdout",
     "output_type": "stream",
     "text": [
      "a = \n",
      " [[0 1]\n",
      " [2 3]]\n",
      "\n",
      "Resultado da operação np.tile(a,(2,1)):\n",
      " [[0 1]\n",
      " [2 3]\n",
      " [0 1]\n",
      " [2 3]]\n"
     ]
    }
   ],
   "source": [
    "print('a = \\n', a)\n",
    "print()\n",
    "print(\"Resultado da operação np.tile(a,(2,1)):\\n\" , np.tile(a,(2,1)))"
   ]
  },
  {
   "cell_type": "markdown",
   "metadata": {},
   "source": [
    "## Exemplo bidimensional - replicando as colunas"
   ]
  },
  {
   "cell_type": "code",
   "execution_count": 8,
   "metadata": {},
   "outputs": [
    {
     "name": "stdout",
     "output_type": "stream",
     "text": [
      "a = \n",
      " [[0 1]\n",
      " [2 3]]\n",
      "\n",
      "Resultado da operação np.tile(a,2):\n",
      " [[0 1 0 1]\n",
      " [2 3 2 3]]\n"
     ]
    }
   ],
   "source": [
    "a = np.array([[0, 1], [2, 3]])\n",
    "print('a = \\n', a)\n",
    "print()\n",
    "\n",
    "print(\"Resultado da operação np.tile(a,2):\\n\", np.tile(a,2))"
   ]
  },
  {
   "cell_type": "markdown",
   "metadata": {},
   "source": [
    "## Exemplo bidimensional - replicando as linhas"
   ]
  },
  {
   "cell_type": "code",
   "execution_count": 14,
   "metadata": {},
   "outputs": [
    {
     "name": "stdout",
     "output_type": "stream",
     "text": [
      "a = \n",
      " [[0 1]\n",
      " [2 3]]\n",
      "\n",
      "Resultado da operação np.tile(a,(3,1)):\n",
      " [[0 1]\n",
      " [2 3]\n",
      " [0 1]\n",
      " [2 3]\n",
      " [0 1]\n",
      " [2 3]]\n"
     ]
    }
   ],
   "source": [
    "a = np.array([[0, 1], [2, 3]])\n",
    "print('a = \\n', a)\n",
    "\n",
    "print()\n",
    "print(\"Resultado da operação np.tile(a,(3,1)):\\n\", np.tile(a,(3,1)))"
   ]
  },
  {
   "cell_type": "markdown",
   "metadata": {},
   "source": [
    "## Exemplo bidimensional - replicando as linhas e colunas simultaneamente"
   ]
  },
  {
   "cell_type": "code",
   "execution_count": 16,
   "metadata": {},
   "outputs": [
    {
     "name": "stdout",
     "output_type": "stream",
     "text": [
      "a = \n",
      " [[0 1]\n",
      " [2 3]]\n",
      "\n",
      "Resultado da operação np.tile(a,(2,2)):\n",
      " [[0 1 0 1]\n",
      " [2 3 2 3]\n",
      " [0 1 0 1]\n",
      " [2 3 2 3]]\n"
     ]
    }
   ],
   "source": [
    "a = np.array([[0, 1], [2, 3]])\n",
    "print('a = \\n', a)\n",
    "\n",
    "print()\n",
    "print(\"Resultado da operação np.tile(a,(2,2)):\\n\", np.tile(a,(2,2)))"
   ]
  },
  {
   "cell_type": "markdown",
   "metadata": {},
   "source": [
    "# Documentação Oficial Numpy\n",
    "\n",
    "- [tile](http://docs.scipy.org/doc/numpy/reference/generated/numpy.tile.html)\n",
    "- [repeat](http://docs.scipy.org/doc/numpy/reference/generated/numpy.repeat.html)\n"
   ]
  }
 ],
 "metadata": {
  "kernelspec": {
   "display_name": "Python 3 (ipykernel)",
   "language": "python",
   "name": "python3"
  },
  "language_info": {
   "codemirror_mode": {
    "name": "ipython",
    "version": 3
   },
   "file_extension": ".py",
   "mimetype": "text/x-python",
   "name": "python",
   "nbconvert_exporter": "python",
   "pygments_lexer": "ipython3",
   "version": "3.10.6"
  },
  "toc": {
   "colors": {
    "hover_highlight": "#DAA520",
    "running_highlight": "#FF0000",
    "selected_highlight": "#FFD700"
   },
   "moveMenuLeft": true,
   "nav_menu": {
    "height": "158px",
    "width": "252px"
   },
   "navigate_menu": true,
   "number_sections": true,
   "sideBar": true,
   "threshold": 4,
   "toc_cell": true,
   "toc_section_display": "block",
   "toc_window_display": false
  }
 },
 "nbformat": 4,
 "nbformat_minor": 2
}
