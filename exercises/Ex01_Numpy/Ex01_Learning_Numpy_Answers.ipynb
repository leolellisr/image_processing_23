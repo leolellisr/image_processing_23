{
 "cells": [
  {
   "cell_type": "markdown",
   "metadata": {
    "id": "YtINjzumUi4s"
   },
   "source": [
    "# Ex01 - Learning Numpy\n"
   ]
  },
  {
   "cell_type": "markdown",
   "metadata": {
    "id": "o-W-I1kiT-8G"
   },
   "source": [
    "## Part 1 - Exercizing the use of Numpy"
   ]
  },
  {
   "cell_type": "markdown",
   "metadata": {
    "id": "HFhzTar2Ui4v"
   },
   "source": [
    "### Visualize arrays as images"
   ]
  },
  {
   "cell_type": "code",
   "execution_count": null,
   "metadata": {
    "colab": {
     "base_uri": "https://localhost:8080/"
    },
    "id": "lyw-0E6yUi4v",
    "outputId": "14680d60-fef6-426c-9dbf-85e9a4c643b5"
   },
   "outputs": [
    {
     "name": "stdout",
     "output_type": "stream",
     "text": [
      "Imagem constante:\n",
      " [[1. 1. 1. ... 1. 1. 1.]\n",
      " [1. 1. 1. ... 1. 1. 1.]\n",
      " [1. 1. 1. ... 1. 1. 1.]\n",
      " ...\n",
      " [1. 1. 1. ... 1. 1. 1.]\n",
      " [1. 1. 1. ... 1. 1. 1.]\n",
      " [1. 1. 1. ... 1. 1. 1.]]\n"
     ]
    }
   ],
   "source": [
    "import numpy as np\n",
    "\n",
    "f = np.ones((100,120))\n",
    "print(\"Constant image:\\n\",f)"
   ]
  },
  {
   "cell_type": "code",
   "execution_count": null,
   "metadata": {
    "id": "fweBLKx5LWzw"
   },
   "outputs": [],
   "source": []
  },
  {
   "cell_type": "code",
   "execution_count": null,
   "metadata": {
    "colab": {
     "base_uri": "https://localhost:8080/",
     "height": 437
    },
    "id": "_c7eUOHlUi4x",
    "outputId": "7b48ec56-4470-4fce-de4f-ac69304999a7"
   },
   "outputs": [
    {
     "data": {
      "text/plain": [
       "<matplotlib.colorbar.Colorbar at 0x7f367a0ac280>"
      ]
     },
     "execution_count": 16,
     "metadata": {},
     "output_type": "execute_result"
    },
    {
     "data": {
      "image/png": "[encoded data removed]",
      "text/plain": [
       "<Figure size 640x480 with 2 Axes>"
      ]
     },
     "metadata": {},
     "output_type": "display_data"
    }
   ],
   "source": [
    "%matplotlib inline\n",
    "import matplotlib.pyplot as plt\n",
    "\n",
    "plt.title('Constant image')\n",
    "plt.imshow(f,cmap='gray')\n",
    "plt.colorbar()"
   ]
  },
  {
   "cell_type": "markdown",
   "metadata": {
    "id": "_vDIgFwYTXzP"
   },
   "source": [
    "## Part 2 - Manipulating arrays with Numpy\n"
   ]
  },
  {
   "cell_type": "markdown",
   "metadata": {
    "id": "OtRAq-XPTn07"
   },
   "source": [
    "In this section, the methods used in the Numpy library will be discussed."
   ]
  },
  {
   "cell_type": "markdown",
   "metadata": {
    "id": "k_cZ4ps0Z3rT"
   },
   "source": [
    "### Ex. 1.2.1"
   ]
  },
  {
   "cell_type": "markdown",
   "metadata": {
    "id": "jKpq0f_3Ue83"
   },
   "source": [
    "Create an np.array **a**, formed only by \"1\" elements, of type \"int16\", with 5 rows and 3 columns.\n",
    "\n",
    "**a)** Print the created array;"
   ]
  },
  {
   "cell_type": "code",
   "execution_count": null,
   "metadata": {
    "colab": {
     "base_uri": "https://localhost:8080/"
    },
    "id": "vJl90QuiVrVw",
    "outputId": "08ebd9f4-5b90-48c4-dd4a-f9136f5653d3"
   },
   "outputs": [
    {
     "name": "stdout",
     "output_type": "stream",
     "text": [
      "a: \n",
      "[[1 1 1]\n",
      " [1 1 1]\n",
      " [1 1 1]\n",
      " [1 1 1]\n",
      " [1 1 1]]\n"
     ]
    }
   ],
   "source": [
    "a = np.ones((5,3),dtype='int16')\n",
    "print(f\"a: \\n{a}\")"
   ]
  },
  {
   "cell_type": "markdown",
   "metadata": {
    "id": "w7KelNqGVr-F"
   },
   "source": [
    "**b)** Create a new array **b** from array **a**. Change the element of the 3rd row and 2nd column of the **b** array to zero (0), without the **a** array being changed. Comment on the methodology used and print the arrays **a** and **b**;"
   ]
  },
  {
   "cell_type": "code",
   "execution_count": null,
   "metadata": {
    "colab": {
     "base_uri": "https://localhost:8080/"
    },
    "id": "eotdHqZFWG6n",
    "outputId": "52164624-8d7a-48e6-87dc-f3b24392b36f"
   },
   "outputs": [
    {
     "name": "stdout",
     "output_type": "stream",
     "text": [
      "a: \n",
      "[[1 1 1]\n",
      " [1 1 1]\n",
      " [1 1 1]\n",
      " [1 1 1]\n",
      " [1 1 1]]\n",
      "b: \n",
      "[[1 1 1]\n",
      " [1 1 1]\n",
      " [1 0 1]\n",
      " [1 1 1]\n",
      " [1 1 1]]\n"
     ]
    }
   ],
   "source": [
    "b = a.copy()\n",
    "b[2,1] = 0\n",
    "print(f\"a: \\n{a}\")\n",
    "print(f\"b: \\n{b}\")"
   ]
  },
  {
   "cell_type": "markdown",
   "metadata": {
    "id": "e_lO8LLNXFkt"
   },
   "source": [
    ":**c)** Change the value of all elements in the 2nd column of the **b** array to 2. Use slicing and an auxiliary array **c**, derived from **b**. Comment on the methodology used and print the arrays **b** and **c**;"
   ]
  },
  {
   "cell_type": "code",
   "execution_count": null,
   "metadata": {
    "colab": {
     "base_uri": "https://localhost:8080/"
    },
    "id": "a3e-ElKkXc-p",
    "outputId": "854ff623-aa5a-47f9-c922-f9b135620a00"
   },
   "outputs": [
    {
     "name": "stdout",
     "output_type": "stream",
     "text": [
      "b: \n",
      "[[1 2 1]\n",
      " [1 2 1]\n",
      " [1 2 1]\n",
      " [1 2 1]\n",
      " [1 2 1]]\n",
      "c: \n",
      "[2 2 2 2 2]\n"
     ]
    }
   ],
   "source": [
    "c = b[:,1]\n",
    "c[:] = 2\n",
    "print(f\"b: \\n{b}\")\n",
    "print(f\"c: \\n{c}\")"
   ]
  },
  {
   "cell_type": "markdown",
   "metadata": {
    "id": "B7A683XvZ-Dc"
   },
   "source": [
    "### Ex. 1.2.2\n",
    "\n"
   ]
  },
  {
   "cell_type": "markdown",
   "metadata": {
    "id": "0suXWMvmaDiq"
   },
   "source": [
    "Create an np.array **d**, formed by 21 sequential elements, with initial value 0, final value 100 and step 5.\n",
    "\n",
    "**a)** Print the created array and comment on the methodology used;"
   ]
  },
  {
   "cell_type": "code",
   "execution_count": null,
   "metadata": {
    "colab": {
     "base_uri": "https://localhost:8080/"
    },
    "id": "-2iDWc4MamOu",
    "outputId": "21f1ab78-7483-44e3-8df3-9e15e12c91b6"
   },
   "outputs": [
    {
     "name": "stdout",
     "output_type": "stream",
     "text": [
      "d: \n",
      "[  0   5  10  15  20  25  30  35  40  45  50  55  60  65  70  75  80  85\n",
      "  90  95 100]\n"
     ]
    }
   ],
   "source": [
    "d = np.arange(0, 105, 5)\n",
    "print(f\"d: \\n{d}\")"
   ]
  },
  {
   "cell_type": "code",
   "execution_count": null,
   "metadata": {
    "colab": {
     "base_uri": "https://localhost:8080/"
    },
    "id": "QI2HC8SUbRAm",
    "outputId": "a2192909-a4f1-4785-9b8a-1855694f4bd5"
   },
   "outputs": [
    {
     "name": "stdout",
     "output_type": "stream",
     "text": [
      "d: \n",
      "[  0.   5.  10.  15.  20.  25.  30.  35.  40.  45.  50.  55.  60.  65.\n",
      "  70.  75.  80.  85.  90.  95. 100.]\n"
     ]
    }
   ],
   "source": [
    "d = np.linspace(0, 100, 21)\n",
    "print(f\"d: \\n{d}\")"
   ]
  },
  {
   "cell_type": "markdown",
   "metadata": {
    "id": "s59pBLm8bszk"
   },
   "source": [
    "**b)** Change the matrix **d** so that it has 7 rows and 3 columns. Print the resulting array and comment on the methodology used;"
   ]
  },
  {
   "cell_type": "code",
   "execution_count": null,
   "metadata": {
    "colab": {
     "base_uri": "https://localhost:8080/"
    },
    "id": "KV4aP8eAbr4_",
    "outputId": "4e120ce3-2bf2-402c-e4cc-1ca3aad43fae"
   },
   "outputs": [
    {
     "name": "stdout",
     "output_type": "stream",
     "text": [
      "d: \n",
      "[[  0.   5.  10.]\n",
      " [ 15.  20.  25.]\n",
      " [ 30.  35.  40.]\n",
      " [ 45.  50.  55.]\n",
      " [ 60.  65.  70.]\n",
      " [ 75.  80.  85.]\n",
      " [ 90.  95. 100.]]\n"
     ]
    }
   ],
   "source": [
    "d = d.reshape(7,3)\n",
    "print(f\"d: \\n{d}\")"
   ]
  },
  {
   "cell_type": "markdown",
   "metadata": {
    "id": "1uaiRjh5eUxZ"
   },
   "source": [
    "**c)** Using slicing, invert the elements of the **d** array (first element becomes the last, second element becomes the penultimate, ...) without changing the original shape of the array. Print the resulting array and comment on the methodology used;"
   ]
  },
  {
   "cell_type": "code",
   "execution_count": null,
   "metadata": {
    "colab": {
     "base_uri": "https://localhost:8080/"
    },
    "id": "m3Jo40jvekOk",
    "outputId": "0dc26d42-9e80-4f49-ccb8-5102e2a97072"
   },
   "outputs": [
    {
     "name": "stdout",
     "output_type": "stream",
     "text": [
      "d: \n",
      "[[100.  95.  90.]\n",
      " [ 85.  80.  75.]\n",
      " [ 70.  65.  60.]\n",
      " [ 55.  50.  45.]\n",
      " [ 40.  35.  30.]\n",
      " [ 25.  20.  15.]\n",
      " [ 10.   5.   0.]]\n"
     ]
    }
   ],
   "source": [
    "d = d[::-1, ::-1]\n",
    "print(f\"d: \\n{d}\")"
   ]
  },
  {
   "cell_type": "markdown",
   "metadata": {
    "id": "GMRsUlg-iKxm"
   },
   "source": [
    "**d)** Using slicing on the resulting array in the previous item, print only the elements from the 4th to 5th lines and the 2nd to 3rd columns. Comment on the methodology used."
   ]
  },
  {
   "cell_type": "code",
   "execution_count": null,
   "metadata": {
    "colab": {
     "base_uri": "https://localhost:8080/"
    },
    "id": "GLxbKKcaiJlB",
    "outputId": "aa338099-5004-4ebd-f496-48ad0e106c14"
   },
   "outputs": [
    {
     "name": "stdout",
     "output_type": "stream",
     "text": [
      "[[50. 45.]\n",
      " [35. 30.]]\n"
     ]
    }
   ],
   "source": [
    "print(d[3:5,1:])"
   ]
  },
  {
   "cell_type": "markdown",
   "metadata": {
    "id": "WNAmIzl8lJnB"
   },
   "source": [
    "### Ex. 1.2.3"
   ]
  },
  {
   "cell_type": "markdown",
   "metadata": {
    "id": "fvQjE07olNT3"
   },
   "source": [
    "Create an np.array **e**, formed by 35 sequential elements, with:\n",
    "\n",
    "- initial value 0;\n",
    "- final value 34;\n",
    "- step 1;\n",
    "- shape (5,7).\n",
    "\n",
    "**a)** Print the created array, its shape and comment on the methodology used;"
   ]
  },
  {
   "cell_type": "code",
   "execution_count": null,
   "metadata": {
    "colab": {
     "base_uri": "https://localhost:8080/"
    },
    "id": "ULw_XlJrlccS",
    "outputId": "8337b8f5-346c-4ba9-b306-30804fa4abbc"
   },
   "outputs": [
    {
     "name": "stdout",
     "output_type": "stream",
     "text": [
      "e: \n",
      "[[ 0  1  2  3  4  5  6]\n",
      " [ 7  8  9 10 11 12 13]\n",
      " [14 15 16 17 18 19 20]\n",
      " [21 22 23 24 25 26 27]\n",
      " [28 29 30 31 32 33 34]]\n",
      "e.shape: \n",
      "(5, 7)\n"
     ]
    }
   ],
   "source": [
    "e = np.arange(35).reshape(5,7)\n",
    "print(f\"e: \\n{e}\")\n",
    "print(f\"e.shape: \\n{e.shape}\")"
   ]
  },
  {
   "cell_type": "markdown",
   "metadata": {
    "id": "3_dNSbW0lpJ8"
   },
   "source": [
    "**b)** Use a Boolean array and indexing to print only the elements of the array **e** that are greater than 20. Comment on the methodology used."
   ]
  },
  {
   "cell_type": "code",
   "execution_count": null,
   "metadata": {
    "colab": {
     "base_uri": "https://localhost:8080/"
    },
    "id": "AF-u7y9tmyaS",
    "outputId": "5c822147-2043-46c8-aca2-86575708a473"
   },
   "outputs": [
    {
     "name": "stdout",
     "output_type": "stream",
     "text": [
      "[21 22 23 24 25 26 27 28 29 30 31 32 33 34]\n"
     ]
    }
   ],
   "source": [
    "f = e > 20\n",
    "print(e[f==True])"
   ]
  },
  {
   "cell_type": "markdown",
   "metadata": {
    "id": "ecPXEkB5oP9h"
   },
   "source": [
    "**c)** Use a Boolean array and indexing to print only the columns of the array **e** that have an even sum. Comment on the methodology used."
   ]
  },
  {
   "cell_type": "code",
   "execution_count": null,
   "metadata": {
    "colab": {
     "base_uri": "https://localhost:8080/"
    },
    "id": "aKWnIetUoPP-",
    "outputId": "5374bf4c-202d-4c81-a468-c3bd45cc5df6"
   },
   "outputs": [
    {
     "name": "stdout",
     "output_type": "stream",
     "text": [
      "[[ 0  2  4  6]\n",
      " [ 7  9 11 13]\n",
      " [14 16 18 20]\n",
      " [21 23 25 27]\n",
      " [28 30 32 34]]\n"
     ]
    }
   ],
   "source": [
    "g = (e.sum(-2) % 2) == 0\n",
    "print(e[:,g])"
   ]
  },
  {
   "cell_type": "code",
   "execution_count": null,
   "metadata": {
    "colab": {
     "base_uri": "https://localhost:8080/"
    },
    "id": "tvz8qM8AeaKx",
    "outputId": "8f2e5b28-6952-4cb7-e935-45edc8208468"
   },
   "outputs": [
    {
     "name": "stdout",
     "output_type": "stream",
     "text": [
      "[[ 0  2  4  6]\n",
      " [ 7  9 11 13]\n",
      " [14 16 18 20]\n",
      " [21 23 25 27]\n",
      " [28 30 32 34]]\n"
     ]
    }
   ],
   "source": [
    "g = (e.sum(0) % 2) == 0\n",
    "print(e[:,g])"
   ]
  },
  {
   "cell_type": "markdown",
   "metadata": {
    "id": "GxpElKJsxgNF"
   },
   "source": [
    "### Ex. 1.2.4\n",
    "\n"
   ]
  },
  {
   "cell_type": "markdown",
   "metadata": {
    "id": "DwWkABHIxiIX"
   },
   "source": [
    "Create a function that has as inputs:\n",
    "- Integer **m** that corresponds to the rows of a matrix;\n",
    "- Integer **n** that corresponds to the columns of a matrix;\n",
    "\n",
    "and it returns:\n",
    "- A matrix **X** of shape (m, n), where each element X[i,j] is the Euclidean distance between position [i,j] and position [0,0].\n",
    "\n",
    "Tip: create new matrices with the np.meshgrid and np.arrange functions to perform the operations and obtain the values that will make up the X matrix.\n",
    "\n",
    "Test the function with the values **m=5** and **n=4**."
   ]
  },
  {
   "cell_type": "code",
   "execution_count": null,
   "metadata": {
    "colab": {
     "base_uri": "https://localhost:8080/"
    },
    "id": "qX8f43wIy9iq",
    "outputId": "f283388b-7bf0-4849-c9c4-baeded8f2acb"
   },
   "outputs": [
    {
     "name": "stdout",
     "output_type": "stream",
     "text": [
      "[[0.         1.         2.         3.        ]\n",
      " [1.         1.41421356 2.23606798 3.16227766]\n",
      " [2.         2.23606798 2.82842712 3.60555128]\n",
      " [3.         3.16227766 3.60555128 4.24264069]\n",
      " [4.         4.12310563 4.47213595 5.        ]]\n"
     ]
    }
   ],
   "source": [
    "def euclidian(m, n):\n",
    "  # Compute Euclidean distance matrix B using matrix operations\n",
    "  A, B = np.meshgrid(np.arange(n), np.arange(m))\n",
    "  X = np.sqrt(A**2 + B**2)\n",
    "  return X\n",
    "\n",
    "print(euclidian(5, 4))"
   ]
  },
  {
   "cell_type": "markdown",
   "metadata": {
    "id": "KB8fyJwRUi4y"
   },
   "source": [
    "## Part 3 - Synthetic images"
   ]
  },
  {
   "cell_type": "markdown",
   "metadata": {
    "id": "c_NCzACp1qkY"
   },
   "source": [
    "See an example of creating a synthetic image with Numpy and how to visualize it with matplotlib.pyplot:"
   ]
  },
  {
   "cell_type": "code",
   "execution_count": null,
   "metadata": {
    "colab": {
     "base_uri": "https://localhost:8080/",
     "height": 286
    },
    "id": "Ng_kDFFR1qEA",
    "outputId": "93f51057-52dd-4641-ea20-3e1461936989"
   },
   "outputs": [
    {
     "data": {
      "text/plain": [
       "<matplotlib.image.AxesImage at 0x7f677c3d42b0>"
      ]
     },
     "execution_count": 17,
     "metadata": {},
     "output_type": "execute_result"
    },
    {
     "data": {
      "image/png": "[encoded data removed]",
      "text/plain": [
       "<Figure size 432x288 with 1 Axes>"
      ]
     },
     "metadata": {
      "needs_background": "light"
     },
     "output_type": "display_data"
    }
   ],
   "source": [
    "# Creation of a gray square with dimensions 100 x 100\n",
    "from PIL import Image\n",
    "array = np.zeros([100, 100], dtype=np.uint8)\n",
    "array[:,:] = [100]\n",
    "plt.imshow(array,vmin=0, vmax=255, cmap='gray')"
   ]
  },
  {
   "cell_type": "markdown",
   "metadata": {
    "id": "G74vgkCq2Fww"
   },
   "source": [
    "### Ex. 1.3.1"
   ]
  },
  {
   "cell_type": "markdown",
   "metadata": {
    "id": "UtFMNrlk59IU"
   },
   "source": [
    "**a)** Create a rectangle of size 100 x 200 that is formed by two squares, one light gray and one dark gray. Plot the result obtained and comment on the methodology used."
   ]
  },
  {
   "cell_type": "code",
   "execution_count": null,
   "metadata": {
    "colab": {
     "base_uri": "https://localhost:8080/",
     "height": 236
    },
    "id": "DXLxgPHp580i",
    "outputId": "fa65594b-053c-48c5-c82f-7fdd33447c59"
   },
   "outputs": [
    {
     "data": {
      "text/plain": [
       "<matplotlib.image.AxesImage at 0x7f677c3bde20>"
      ]
     },
     "execution_count": 18,
     "metadata": {},
     "output_type": "execute_result"
    },
    {
     "data": {
      "image/png": "[encoded data removed]",
      "text/plain": [
       "<Figure size 432x288 with 1 Axes>"
      ]
     },
     "metadata": {
      "needs_background": "light"
     },
     "output_type": "display_data"
    }
   ],
   "source": [
    "array = np.zeros([100, 200], dtype=np.uint8)\n",
    "array[:,:100] = 100 #light gray left side\n",
    "array[:,100:] = 200   #dark gray right side\n",
    "plt.imshow(array,vmin=0, vmax=255, cmap='gray')"
   ]
  },
  {
   "cell_type": "markdown",
   "metadata": {
    "id": "w8M4gfD12gpi"
   },
   "source": [
    "**b)** Using the previous image (rectangle created), insert a light gray square in the middle of the dark gray square and a dark gray square in the middle of the light gray square. Plot the result obtained and comment on the methodology used."
   ]
  },
  {
   "cell_type": "code",
   "execution_count": null,
   "metadata": {
    "colab": {
     "base_uri": "https://localhost:8080/",
     "height": 236
    },
    "id": "W47Rdz6k20Rk",
    "outputId": "9679b7dd-9ed1-4055-a923-09344feacf9a"
   },
   "outputs": [
    {
     "data": {
      "text/plain": [
       "<matplotlib.image.AxesImage at 0x7f677c33f7f0>"
      ]
     },
     "execution_count": 19,
     "metadata": {},
     "output_type": "execute_result"
    },
    {
     "data": {
      "image/png": "[encoded data removed]",
      "text/plain": [
       "<Figure size 432x288 with 1 Axes>"
      ]
     },
     "metadata": {
      "needs_background": "light"
     },
     "output_type": "display_data"
    }
   ],
   "source": [
    "array[25:75,25:75] = 200 #Red left side with blue square in the middle\n",
    "array[25:75,125:175] = 100   #Blue right side with red square in the middle\n",
    "plt.imshow(array,vmin=0, vmax=255, cmap='gray')"
   ]
  },
  {
   "cell_type": "markdown",
   "metadata": {
    "id": "46syqzIg59gz"
   },
   "source": [
    "### Ex. 1.3.2"
   ]
  },
  {
   "cell_type": "markdown",
   "metadata": {
    "collapsed": true,
    "id": "4CFqWZAaUi4z"
   },
   "source": [
    "Using the meshgrid and indices functions, create the following synthetic images, plotting the result and commenting on the methods used.\n",
    "\n",
    "**a)** Chessboard;\n"
   ]
  },
  {
   "cell_type": "code",
   "execution_count": null,
   "metadata": {
    "colab": {
     "base_uri": "https://localhost:8080/",
     "height": 426
    },
    "id": "g_INUD2FUi4z",
    "outputId": "0fa33a41-8fa5-42b8-ea8d-8dd59b3f905d"
   },
   "outputs": [
    {
     "name": "stdout",
     "output_type": "stream",
     "text": [
      "[[0 1 0 1 0 1 0 1]\n",
      " [1 0 1 0 1 0 1 0]\n",
      " [0 1 0 1 0 1 0 1]\n",
      " [1 0 1 0 1 0 1 0]\n",
      " [0 1 0 1 0 1 0 1]\n",
      " [1 0 1 0 1 0 1 0]\n",
      " [0 1 0 1 0 1 0 1]\n",
      " [1 0 1 0 1 0 1 0]]\n"
     ]
    },
    {
     "data": {
      "text/plain": [
       "<matplotlib.image.AxesImage at 0x7f677c2b5280>"
      ]
     },
     "execution_count": 20,
     "metadata": {},
     "output_type": "execute_result"
    },
    {
     "data": {
      "image/png": "[encoded data removed]",
      "text/plain": [
       "<Figure size 432x288 with 1 Axes>"
      ]
     },
     "metadata": {
      "needs_background": "light"
     },
     "output_type": "display_data"
    }
   ],
   "source": [
    "r,c = np.indices( (8, 8) )\n",
    "f = (r + c) % 2\n",
    "print(f)\n",
    "plt.imshow(f, cmap='gray')"
   ]
  },
  {
   "cell_type": "markdown",
   "metadata": {
    "id": "R9YXSfIn69BT"
   },
   "source": [
    "**b)** parabolic function given by the sum of the square of its coordinates;"
   ]
  },
  {
   "cell_type": "code",
   "execution_count": null,
   "metadata": {
    "colab": {
     "base_uri": "https://localhost:8080/",
     "height": 361
    },
    "id": "LLIaMUvq7AFv",
    "outputId": "aea52237-4fea-462a-b670-83b44f0f4a64"
   },
   "outputs": [
    {
     "name": "stdout",
     "output_type": "stream",
     "text": [
      "[[    0     1     4 ...  9409  9604  9801]\n",
      " [    1     2     5 ...  9410  9605  9802]\n",
      " [    4     5     8 ...  9413  9608  9805]\n",
      " ...\n",
      " [ 2209  2210  2213 ... 11618 11813 12010]\n",
      " [ 2304  2305  2308 ... 11713 11908 12105]\n",
      " [ 2401  2402  2405 ... 11810 12005 12202]]\n"
     ]
    },
    {
     "data": {
      "text/plain": [
       "<matplotlib.image.AxesImage at 0x7f677c22f880>"
      ]
     },
     "execution_count": 21,
     "metadata": {},
     "output_type": "execute_result"
    },
    {
     "data": {
      "image/png": "[encoded data removed]",
      "text/plain": [
       "<Figure size 432x288 with 1 Axes>"
      ]
     },
     "metadata": {
      "needs_background": "light"
     },
     "output_type": "display_data"
    }
   ],
   "source": [
    "r,c = np.indices( (50, 100) )\n",
    "\n",
    "f = r**2 + c**2\n",
    "print(f)\n",
    "plt.imshow(f, cmap='gray')"
   ]
  },
  {
   "cell_type": "markdown",
   "metadata": {
    "id": "T3sM-6Vm6sBD"
   },
   "source": [
    "**c)** circle of radius 40, with center at (0,0);"
   ]
  },
  {
   "cell_type": "code",
   "execution_count": null,
   "metadata": {
    "colab": {
     "base_uri": "https://localhost:8080/",
     "height": 361
    },
    "id": "gU3PvfW76WPF",
    "outputId": "7b59bba7-2e70-43e5-9082-6bd96c1a7c06"
   },
   "outputs": [
    {
     "name": "stdout",
     "output_type": "stream",
     "text": [
      "[[ True  True  True ... False False False]\n",
      " [ True  True  True ... False False False]\n",
      " [ True  True  True ... False False False]\n",
      " ...\n",
      " [False False False ... False False False]\n",
      " [False False False ... False False False]\n",
      " [False False False ... False False False]]\n"
     ]
    },
    {
     "data": {
      "text/plain": [
       "<matplotlib.image.AxesImage at 0x7f677c20f670>"
      ]
     },
     "execution_count": 22,
     "metadata": {},
     "output_type": "execute_result"
    },
    {
     "data": {
      "image/png": "[encoded data removed]",
      "text/plain": [
       "<Figure size 432x288 with 1 Axes>"
      ]
     },
     "metadata": {
      "needs_background": "light"
     },
     "output_type": "display_data"
    }
   ],
   "source": [
    "r,c = np.indices( (50, 100) )\n",
    "f = ((r**2 + c**2) < 40**2)\n",
    "print(f)\n",
    "plt.imshow(f, cmap='gray')"
   ]
  },
  {
   "cell_type": "markdown",
   "metadata": {
    "id": "yJDCwVDbnggD"
   },
   "source": [
    "## Part 4 - Manipulating images with PIL and Numpy"
   ]
  },
  {
   "cell_type": "markdown",
   "metadata": {
    "id": "_vFdIne5nnea"
   },
   "source": [
    "It is possible to load images using **PIL.Image** and convert them to a **[numpy array]**.\n"
   ]
  },
  {
   "cell_type": "code",
   "execution_count": null,
   "metadata": {},
   "outputs": [],
   "source": []
  },
  {
   "cell_type": "code",
   "execution_count": null,
   "metadata": {
    "colab": {
     "base_uri": "https://localhost:8080/"
    },
    "id": "VlSQsh4cn426",
    "outputId": "5f0d9e78-e9bc-42b5-83d1-689a77070a3a"
   },
   "outputs": [
    {
     "name": "stdout",
     "output_type": "stream",
     "text": [
      "Mounted at /content/gdrive\n"
     ]
    }
   ],
   "source": [
    "from google.colab import drive \n",
    "drive.mount('/content/gdrive')"
   ]
  },
  {
   "cell_type": "code",
   "execution_count": null,
   "metadata": {
    "id": "vjeJFtr4n72E"
   },
   "outputs": [],
   "source": [
    "path = \"./Ex01_Numpy/Ex01_imagens/arco-iris-duplo.jpg\"\n",
    "from PIL import Image\n",
    "img = Image.open(path)"
   ]
  },
  {
   "cell_type": "markdown",
   "metadata": {
    "id": "9xYtSKP-oAFi"
   },
   "source": [
    "### Ex. 1.4.1"
   ]
  },
  {
   "cell_type": "markdown",
   "metadata": {
    "id": "gSNa5nd8oEXA"
   },
   "source": [
    "Convert the image **img** to a [**np.array**](https://numpy.org/doc/stable/reference/generated/numpy.array.html), print the number of image dimensions , its shape and its dtype. Comment on the methods used."
   ]
  },
  {
   "cell_type": "code",
   "execution_count": null,
   "metadata": {
    "colab": {
     "base_uri": "https://localhost:8080/"
    },
    "id": "9AaLCnDAoLTZ",
    "outputId": "a9eb6c8f-28a8-4a92-e4da-7b0214781436"
   },
   "outputs": [
    {
     "name": "stdout",
     "output_type": "stream",
     "text": [
      "dims:  3\n",
      "img shape:  (480, 640, 3)\n",
      "dtype:  uint8\n"
     ]
    }
   ],
   "source": [
    "img = np.array(img)\n",
    "print('dims: ',img.ndim)\n",
    "print('img shape: ',img.shape)\n",
    "print('dtype: ',img.dtype)"
   ]
  },
  {
   "cell_type": "markdown",
   "metadata": {
    "id": "Lbt0s6jXoV3t"
   },
   "source": [
    "### Ex. 1.4.2"
   ]
  },
  {
   "cell_type": "markdown",
   "metadata": {
    "id": "5A48Eku_oa4C"
   },
   "source": [
    "To view the image, you can use [**matplotlib.pyplot**](https://matplotlib.org/3.5.3/api/_as_gen/matplotlib.pyplot.html).\n",
    "\n",
    "View the previous image with a size of 2 x 2. Comment your code using the official documentation."
   ]
  },
  {
   "cell_type": "code",
   "execution_count": null,
   "metadata": {
    "colab": {
     "base_uri": "https://localhost:8080/",
     "height": 154
    },
    "id": "A9CO2EIRogfr",
    "outputId": "02a3797c-270b-402c-95f3-7194ebb56b5e"
   },
   "outputs": [
    {
     "data": {
      "text/plain": [
       "<matplotlib.image.AxesImage at 0x7f675cdc9ac0>"
      ]
     },
     "execution_count": 26,
     "metadata": {},
     "output_type": "execute_result"
    },
    {
     "data": {
      "image/png": "[encoded data removed]",
      "text/plain": [
       "<Figure size 144x144 with 1 Axes>"
      ]
     },
     "metadata": {
      "needs_background": "light"
     },
     "output_type": "display_data"
    }
   ],
   "source": [
    "plt.figure(figsize=(2,2))\n",
    "plt.imshow(img)"
   ]
  },
  {
   "cell_type": "markdown",
   "metadata": {
    "id": "2qdeBsmTpPxu"
   },
   "source": [
    "### Ex. 1.4.3"
   ]
  },
  {
   "cell_type": "markdown",
   "metadata": {
    "id": "QARxjMKmouK7"
   },
   "source": [
    "Select and view just one region of the image, using Numpy slicing. Comment on the methods used."
   ]
  },
  {
   "cell_type": "code",
   "execution_count": null,
   "metadata": {
    "colab": {
     "base_uri": "https://localhost:8080/",
     "height": 265
    },
    "id": "IvKlJR19pZWP",
    "outputId": "9e60d7b4-e444-4e43-a3da-eb8a18524d26"
   },
   "outputs": [
    {
     "data": {
      "text/plain": [
       "<matplotlib.image.AxesImage at 0x7f675cda6550>"
      ]
     },
     "execution_count": 27,
     "metadata": {},
     "output_type": "execute_result"
    },
    {
     "data": {
      "image/png": "[encoded data removed]",
      "text/plain": [
       "<Figure size 432x288 with 1 Axes>"
      ]
     },
     "metadata": {
      "needs_background": "light"
     },
     "output_type": "display_data"
    }
   ],
   "source": [
    "plt.imshow(img[128:-128, 128:-128, :])"
   ]
  },
  {
   "cell_type": "markdown",
   "metadata": {
    "collapsed": true,
    "id": "gU9455qnUi4x"
   },
   "source": [
    "# Tips: Using Colab\n",
    "\n",
    "Google Colaboratory (Colab) allows Jupyter Notebooks to be run in the cloud, through browsers, without the need to install Jupyter on the machine. In this discipline, tutorials and exercises will be carried out in the form of Jupyter Notebooks through Colab."
   ]
  },
  {
   "cell_type": "markdown",
   "metadata": {
    "id": "LY4t5ltzZbE3"
   },
   "source": [
    "## Colab Connectivity\n",
    "\n",
    "Colab reports that it can stay connected for up to 12 hours. However, this period varies according to the use of the Notebook and the iterative nature of the code. In some cases, after a long run, the Colab account may be limited for use. In these cases, it is advisable to share the Notebook using the \"Share\" button in the upper right corner, and run it with another Google account."
   ]
  },
  {
   "cell_type": "markdown",
   "metadata": {
    "id": "60WI3Xl1Ui4x"
   },
   "source": [
    "## Inserting new cells\n",
    "\n",
    "Colab allows the insertion of code or text cells. Code cells can execute commands in Python or bash shell (commands for Linux terminal). Text cells allow you to enter data in text, links, topics, and images.\n",
    "\n",
    "To insert a new cell, position the mouse between two cells and click on the desired cell type (Code or Text):\n",
    "\n",
    "![imagem_2023-02-02_112708896.png](data:image/png;base64,iVBORw0KGgoAAAANSUhEUgAAAWMAAABJCAIAAABn4NBSAAALR0lEQVR4nO3df0wT5x8H8Ke9a2mLAopEFFH8gRIn0ej+ISiaSiJkE6KCUkWjxDg7x+IEmqmJxEQTqmA1goZodAwCA02Mxh/J5g/8BZvRZTq3gFpdCSwMf4Sfpb1e2+8fz9dLA9LnaAvtHZ/XX/S4O5778PR9d89dr5L+/n4EAABuSf3dAACAAEBSAADIICkAAGSQFAAAMkgKAAAZJAUAgAySAgBABkkBACCDpAAAkEFSAADIICkAAGSQFAAAMkgKAAAZJAUAgAySAgBARvu7AQLjdDr93QQ/kEgkPlmPWKvnq/oEMkgKvrheLtbuPhSJRII32Zv3g4ir55P6BD5ICl5wV3B+5DpRrLh+L/nI6XR69mYQZfV8WB9BgKQgcw7BdQY/Ns+3XPu6ZBA0/D2nyKrn8/oIBSQFgev+0OFwdHd3W61Wh8Ph73aNEqlUGhQUFBISIpVK0ccjbf5vBtFXz8v6CIgEnrjrHtfL7XZ7V1eXXC6PiIigKMrf7Roldrv97du3DMOEhoZSFCWVSrmdJx+ir56X9REQuErqjusukWVZm80mso5ORFFURESEzWZjWZY7a+B5vjAWqudNfYQFkoKA2yuyLOtwOETW0fmgKIrb/AFDDERjoXre1EdAICl4wV3B363wJ/xO8GzZsVA9b+ojCJAUvOAdo79b4U94h+nZsmOhet7URxDg2gfZaJ583rp1q6am5t9//508efLq1avXrFnjOjz24cOHnJycnTt3pqSkDF5Wr9fb7fZ9+/a1tLQUFBScOnUqPDzcVw3zuAijU72DBw/eu3dv8PQbN27I5fIR/dOYiEcoMEiKAHLt2rWysjKtVrtgwYLXr1+XlpZarVaNRsPNcPLkyfXr138yJlxNmjQpMzMzNDR0hNsbQL755ptt27YhhK5du9bY2Hjo0CE8XSaT8V+JwWDo7u4uLCwckSYKHK1QKPzdhsCFB6jsdrtUKrXZbFardViL6/V6jUYzffp0PjPbbLYzZ85s27Zt9erVCKGZM2f29/eXl5dv2LABX6tHCO3bt49P11epVBkZGcNqKlFQUFBQUJBcLqcoiueFwNGsXnh4OD6ACgsLk8lkPJfyIQ/qIywwTjGCmpubzWYzz5mfPXvW09OzatUqbkpCQoJare7s7EQItba26nS69PT0DRs21NbWcvM8ffoUh0thYWF3dzee+OrVq5UrV3Z1dSGEOjo69uzZk5KSsn379h9++IFLkP7+/pKSkvT09LS0tOLi4gC8rWZY1XPj8ePH27dv//LLL3fv3v3mzRuEUH19fWpqant7O0KoqakpOTn5jz/+SEtLu3r16r1791auXImrUVtbm5WVlZqaWlBQ0Nra6n1LBA2SIlC0t7erVKqQkBBuSnh4+HfffTdx4kSz2ZyXlzdx4sTTp0/v2rWrurr6+vXrCCGz2XzgwIG4uLhjx44lJCT8/vvvg1dbVFRksViKi4u1Wu3Nmze56YcPH37x4oVery8qKmpqajIYDKOwjaPPaDQWFhZmZWWVl5fHxsbu37+fZdkVK1YsXLjwzJkzCKGysjK1Wr1o0aK6urrU1NTExMSrV68qlcqLFy/W1NTk5uaePn06NDT0+++/F/3lG/cgKQKFxWJRqVSf/NXt27ftdnteXt6MGTOSkpKys7Orq6sRQnfu3KEoKi8vLzY2NiUlZdmyZQMWbG1tffr0aV5e3oIFC5YsWbJ582ZuemNjo06ni4uLmz9/vk6nu3379n///TeiG+gXFy9eTE5OTk5OjoqK0mq1PT09f/75J0IoNze3oaGhrKzMZDJptVqEkEKhoCiKoiilUul0Ouvq6rZs2ZKYmBgTE6PT6fr7++/cuePvrfEnGNH0Mb1e39zczL08cuQI9/O5c+fcLCiTyYY6BXj9+vW8efO4EYr4+Pjy8nKr1drW1jZ79mya/v8/kaIou93uumBbWxtN07NmzeJmwD8YjUaFQjF79mz8cu7cuXK53GQyTZ48mf+WjgSPqzcUo9FoMpm4gymr1YoDMSoqSqPRVFRUfPvttxMmTBiwVFdX1/v37z/77DP8Ui6Xz507F5+5jFl0XV2dv9sQuPBFL3zjkMViWbFiBXERjUbDnV0fOXJEo9FER0fz+VuRkZF9fX09PT3jx4/HUzo7Oy9cuJCZmSmTyVzvbsSX7m02GyKN7UulUvxJhAHTZTIZN0qKPg494hUO5cqVKwqFgqZp7qNQxC0azeq5sW7dui+++IJ7yeVCb28vQqivr2/wIvjC6oCa+7w+wkKvX7/e320IXNzoPcMwvb293JChGwNG3aOjo+Pi4vj8rfj4eKVS+csvv6xduxZPaWhouHz5ck5OTkxMTH19Pcuy+PDh+fPnERER48aNi46Orq+vd/PhxWnTpjEM8+bNm5kzZyKEuDPtGTNmmM3mlpYW3NoXL14wDIPnGUpaWtq4ceM8u/YxCtVzs0KTyRQVFYVfms1mfIr36tWry5cva7Xac+fOqdXqyMhI5PL2VqlUERERf//995w5cxBCDMO8fPnSfdJ5UB9hgXGKQKFUKrdu3Xr+/Pmff/75n3/+uXXr1tmzZzdu3EhRlFqtlkgkBoOhpaXl4cOH1dXVON+XL19uNpurqqrMZvOzZ88aGhoGrHPKlCmLFy8uKSn566+/njx5UlVVhadHRUUlJSUVFRU1Nzc3NTWVlJQkJiZOnTp1tLd55GVmZv7222+VlZVtbW3379/Pzs5+9+6d0+k8fvx4SkpKRkbG559/fvLkSTxzSEiI0Whsbm5mWTYrK6uioqKxsbGlpaW4uFgul/M5JhIxGKcIIBkZGTKZrLKy8t27d5GRkdnZ2WvWrEEIBQUF6fX6EydO7NixIywsbNOmTfi4Q6VSHTx40GAw/PTTT/Pnz1+0aNHgdep0uqKiooKCgpiYmISEhLt37+Lp+fn5paWl+fn5FEUlJSV9/fXXo7mlo2bevHkHDhw4f/58VVXVlClTcnNzJ02adOXKFZPJhO/O+uqrr3Jych48eLB06dJVq1bV19fn5+dXVVWlp6f39vYaDIbe3t74+PiSkhKlUunvrfEniYjvP/Xe4OPn2NhYfzdqeGw2GzeW8eOPPz569Ki0tHS4K3n58mVISIj3Zx+Cqx5PntVHWODsgxfh/uP37t1bW1vb3t7+66+/Xrp0Sa1We7wqj4sg3OoNi7g3E84+RG7nzp3l5eUVFRVhYWHr1q3DpzMADBdtsVj83YbAxT2IhWEYhmH83RxPzJkz5+jRo96vh2EYi8XicDj4PwBOBNXjz4P6CAucffDCPXZ5wK1NY4HdbvfyqdPirp739REESApeJBKJVCplWbajo0OU3X0odru9o6ODZdlP3sHFk4ir55P6CAKMUxBwX+WA79j78OEDvrdv7GAYBn8gwvVbLXgaC9Xzpj4CAknhDvf1DVKplKZphULR2dlpNBr7+vpE/zQ0vNXBwcHTp08PDg7G9ykP6zBb3NXzvj7CAklBhvuETCZTKpUSiUQul7s+sl2s8O6Rpung4GCFQoE/KuLBe0Cs1fNVfYQCvhmIzPXrbViWxR3d9RGyQu/0rlz7Ou76NE3TNO3x196IrHo+r49QQFLwwj1P1eFwcL1cWF18uLge7/qBVM/eBqKsng/rIwiQFHxxPVvoXXy4uN7vzdtAxNXzSX0CH4xT8IX7gZuPeIuY95ss7uqJcqMGgKQYnrHQJ0YOVE+44M4rAAAZJAUAgAySAgBABkkBACCDpAAAkEFSAADIICkAAGSQFAAAMkgKAAAZJAUAgAySAgBABkkBACCDpAAAkEFSAADIICkAAGSQFAAAMkgKAAAZJAUAgAySAgBABkkBACCDpAAAkEFSAADI/gfdJSt5y15e9AAAAABJRU5ErkJggg==)\n",
    "\n",
    "It is also possible to insert new code cells with the commands \"Ctrl+M B\".\n",
    "\n",
    "Cells may have their execution order changed if they are pressed and \"dragged\". Furthermore, the order change can be carried out using the arrows in the following figure, or with the commands \"Ctrl+M K\" (move up) or \"Ctrl+M J\" (Move down).\n",
    "\n",
    "![image.png](data:image/png;base64,iVBORw0KGgoAAAANSUhEUgAAADwAAAAqCAYAAADvczj0AAAABHNCSVQICAgIfAhkiAAAABl0RVh0U29mdHdhcmUAZ25vbWUtc2NyZWVuc2hvdO8Dvz4AAAAtdEVYdENyZWF0aW9uIFRpbWUAVGh1IDAyIEZlYiAyMDIzIDA0OjAxOjA4IFBNIC0wMx+tw6kAAAJMSURBVGiB7ZpPjoIwFId/rWgCGyWSuIKtZ2LrIeQOXIQrsRWWmmhETeRfZzEpAsMgMqjQ8UsaEyHlfbxa+oqEMcbwj6DvDuDVfIRF5yMsOlLVlyJP3AXhvKio0pkwF2SMZa18TAQkoChZ1fIMXV4qZzZNU1BKIUkSCCFvDq97KHCTTZIEhBBhZYGScBzHkKTKiVsYaH4oR1EkbGY5ND+coyh6dzxPJ1tp8Sw/yuVygW3b8Dyv08CqcF0Xq9UKruu27iP7Dec/m8JlXdd9mfRfoXXP3DrKmX1lpv9CYdJqKszlttstTNMEAJimCcZY76UfznBe1rIs6LoOANB1HZZl9V6apmkK3u4Jl2UNwygcNwyjM2nP87Ber+/20fQ8zsMZlmW5UpbDpXVdh6ZpjYKoQtM0yLJce+M8z4Nt2zifz437pXEcI9/qUBSlVpbDpRVFaRzIb9eaz+eV0lyWMdYoJg4NwxBhGCKKot4tPMrSvu8DAHzfbyULAFRVVaiqitlshul0+qzYW5OXdhwHAOA4TitZYCB7WlyaPxHuzSN1ZMJ9Lxq49HK5bC0LACRJEsYLhyAIsFgsOg61X1Dglt2+Z7kLfgzpNhXTkCgIU0pxPB7fGc/ToYQQ8DYajbDf77Hb7e4uQoYKSdOU8R2P6/WKIAhwOByw2WxwOp0eqqKGgATchvN4PIaiKCCEYDKZII7jh+vkvkPYN1lNnCRJtq7mVVSeocsT/peH/DZPWXToknkyYeB/vEwrCHNElQV+eT8s8oprENVSl3yERecL+CX+lbRL4o4AAAAASUVORK5CYII=)"
   ]
  },
  {
   "cell_type": "markdown",
   "metadata": {
    "id": "4yfq2NMkhYij"
   },
   "source": [
    "## Executing code cells\n",
    "\n",
    "Code cells can be executed by clicking the \"Play\" icon on the left side of the cell, or using the \"Shift+Enter\" or \"Ctrl+Enter\" commands. After the cell has been executed, the execution index will be enclosed in square brackets [ ].\n",
    "\n",
    "It is also possible:\n",
    "1. Execute all cells: Execution Environment > Execute all (or using Ctrl+F9);\n",
    "2. Execute all cells after the cell where the cursor is: Execution Environment > Execute after (or using Ctrl+F10);\n",
    "3. Execute all cells before the cell where the cursor is: Execution Environment > Execute before (or using Ctrl+F8);\n",
    "\n",
    "In case of correct execution, an ok icon will be on the left side.\n",
    "\n",
    "In case of errors, an exclamation mark will appear on the left side and the error will be detailed below the cell. Execution stops with the error."
   ]
  },
  {
   "cell_type": "code",
   "execution_count": null,
   "metadata": {
    "colab": {
     "base_uri": "https://localhost:8080/"
    },
    "id": "msTNHMqThysV",
    "outputId": "697bbc78-07cd-440b-bc1e-67419e4f4fbc"
   },
   "outputs": [
    {
     "name": "stdout",
     "output_type": "stream",
     "text": [
      "Exemplo de execução\n"
     ]
    }
   ],
   "source": [
    "print(\"Execution example\")"
   ]
  },
  {
   "cell_type": "code",
   "execution_count": null,
   "metadata": {
    "colab": {
     "base_uri": "https://localhost:8080/",
     "height": 169
    },
    "id": "9sGn1tBZhzWi",
    "outputId": "855d48e7-e63b-40b8-f703-50940fa3cf0e"
   },
   "outputs": [
    {
     "ename": "NameError",
     "evalue": "ignored",
     "output_type": "error",
     "traceback": [
      "\u001b[0;31m---------------------------------------------------------------------------\u001b[0m",
      "\u001b[0;31mNameError\u001b[0m                                 Traceback (most recent call last)",
      "\u001b[0;32m<ipython-input-29-deb6e9f60348>\u001b[0m in \u001b[0;36m<module>\u001b[0;34m\u001b[0m\n\u001b[0;32m----> 1\u001b[0;31m \u001b[0mprint\u001b[0m\u001b[0;34m(\u001b[0m\u001b[0;34mf\"Exemplo de erro de execução (variável não declarada): {m}\"\u001b[0m\u001b[0;34m)\u001b[0m\u001b[0;34m\u001b[0m\u001b[0;34m\u001b[0m\u001b[0m\n\u001b[0m",
      "\u001b[0;31mNameError\u001b[0m: name 'm' is not defined"
     ]
    }
   ],
   "source": [
    "print(f\"Example of execution error (variable not declared): {m}\")"
   ]
  },
  {
   "cell_type": "markdown",
   "metadata": {
    "id": "-G11ytwzbMID"
   },
   "source": [
    "To execute bash shell commands, use the \"!\" before the code.\n",
    "\n",
    "Below are examples for:\n",
    "\n",
    "1. List files in current directory\n",
    "2. Print the current directory path\n",
    "3. Print the settings of the GPU used (it is necessary to have the GPU enabled: Execution Environment > Change the type of execution environment > Hardware Accelerator)."
   ]
  },
  {
   "cell_type": "code",
   "execution_count": null,
   "metadata": {
    "colab": {
     "base_uri": "https://localhost:8080/"
    },
    "id": "kv80kU7Xbvpl",
    "outputId": "fbe9ebd2-4b77-4cf8-f2dc-9ddd7358c452"
   },
   "outputs": [
    {
     "name": "stdout",
     "output_type": "stream",
     "text": [
      "gdrive\tsample_data\n"
     ]
    }
   ],
   "source": [
    "!ls"
   ]
  },
  {
   "cell_type": "code",
   "execution_count": null,
   "metadata": {
    "colab": {
     "base_uri": "https://localhost:8080/"
    },
    "id": "-Z0__P2nbwn9",
    "outputId": "4d85060b-2a28-43c8-c3de-1a6bd1651168"
   },
   "outputs": [
    {
     "name": "stdout",
     "output_type": "stream",
     "text": [
      "/content\n"
     ]
    }
   ],
   "source": [
    "!pwd"
   ]
  },
  {
   "cell_type": "code",
   "execution_count": null,
   "metadata": {
    "colab": {
     "base_uri": "https://localhost:8080/"
    },
    "id": "zpf0BnBsb3Dz",
    "outputId": "37224dcc-207d-45cf-bbc6-19a98803b4a2"
   },
   "outputs": [
    {
     "name": "stdout",
     "output_type": "stream",
     "text": [
      "NVIDIA-SMI has failed because it couldn't communicate with the NVIDIA driver. Make sure that the latest NVIDIA driver is installed and running.\n",
      "\n"
     ]
    }
   ],
   "source": [
    "!nvidia-smi\n"
   ]
  },
  {
   "cell_type": "markdown",
   "metadata": {
    "id": "xcEtElqnatCq"
   },
   "source": [
    "## Using Colab with Google Drive\n",
    "\n",
    "Colab allows you to link a Google Drive account to upload or save files. It is necessary to import the colab drive package and mount it, as follows. In the first run after connecting the notebook, it will be necessary to authenticate the account and allow the colab to connect to the drive.\n",
    "\n",
    "By default, notebooks generated by colab are saved in the 'Colab Notebooks' folder in Drive. However, it is possible to change the location where the notebook will be saved.\n",
    "\n",
    "You can check the files in the working folder using the bash shell command \"ls\". You can also change the current working folder with the \"cd\" command. Practice executing these commands using your Google Drive."
   ]
  },
  {
   "cell_type": "code",
   "execution_count": null,
   "metadata": {
    "colab": {
     "base_uri": "https://localhost:8080/"
    },
    "id": "VVMjB3wshY5L",
    "outputId": "1996e52d-21ad-4fd7-ad2e-c187419dd055"
   },
   "outputs": [
    {
     "name": "stdout",
     "output_type": "stream",
     "text": [
      "Drive already mounted at /content/gdrive; to attempt to forcibly remount, call drive.mount(\"/content/gdrive\", force_remount=True).\n"
     ]
    }
   ],
   "source": [
    "from google.colab import drive \n",
    "drive.mount('/content/gdrive')"
   ]
  },
  {
   "cell_type": "markdown",
   "metadata": {
    "id": "7LPGJJI9gxlo"
   },
   "source": [
    "## Using shared files\n",
    "\n",
    "Colab only allows files to be used from the account's own Drive, or from shared drives. To use shared files or folders, you can add a shortcut to your Drive account.\n",
    "\n",
    "Add a shortcut to your shared folder Google Drive. List the files that are contained in the \"Ex01_images\" folder using the **os.listdir** function."
   ]
  },
  {
   "cell_type": "code",
   "execution_count": null,
   "metadata": {
    "colab": {
     "base_uri": "https://localhost:8080/"
    },
    "id": "GQ2B8nKpMY8c",
    "outputId": "24529a7f-0f41-443c-8d1f-9482cbd288f1"
   },
   "outputs": [
    {
     "name": "stdout",
     "output_type": "stream",
     "text": [
      "UNICAMP_logo.png\n",
      "arco-iris-duplo.jpg\n"
     ]
    }
   ],
   "source": [
    "import os\n",
    "list_files = os.listdir(\"gdrive/MyDrive/Atalho_Pasta_Compartilhada/Ex01_imagens\")\n",
    "for file in list_files:\n",
    "  print(file)\n",
    "  "
   ]
  },
  {
   "cell_type": "markdown",
   "metadata": {
    "id": "dcIlGzopQlAy"
   },
   "source": [
    "### Saving files in Drive"
   ]
  },
  {
   "cell_type": "markdown",
   "metadata": {
    "id": "oNEB9mfb46iw"
   },
   "source": [
    "A file, such as a PIL.Image image, can be saved with the save method. However, the path must exist.\n",
    "\n",
    "NOTE: a path can be created via the bash shell with **!mkdir -p path**.\n",
    "-p promotes the creation of subdirectories that do not yet exist."
   ]
  },
  {
   "cell_type": "code",
   "execution_count": null,
   "metadata": {
    "id": "guJ6V5yNQxwe"
   },
   "outputs": [],
   "source": [
    "!mkdir -p 'gdrive/MyDrive/save_folder/Ex01'\n",
    "path = \"gdrive/MyDrive/save_folder/Ex01/Ex1_arco_iris.png\"\n",
    "pil_img = Image.fromarray(np.array(Image.open(path)))\n",
    "pil_img.save(path)"
   ]
  },
  {
   "cell_type": "markdown",
   "metadata": {
    "id": "mmVLAS3A8XZu"
   },
   "source": [
    "## Code snippets\n",
    "\n",
    "NO Colab provides several ready-made codes in Help > Search Code Snippets. Snippets are also accessible via the Ctrl+Alt+P commands."
   ]
  },
  {
   "cell_type": "markdown",
   "metadata": {
    "id": "fhD_2SXXEFZM"
   },
   "source": [
    "# References\n",
    "\n",
    "- [Numpy Array](https://numpy.org/doc/stable/reference/generated/numpy.array.html)\n",
    "\n",
    "- [Basic Indexing - Numpy](https://numpy.org/doc/stable/user/basics.indexing.html)\n",
    "\n",
    "- [Matplotlib and Pyplot](https://matplotlib.org/3.5.3/api/_as_gen/matplotlib.pyplot.html)\n",
    "\n",
    "- [Meshgrid tutorial and indices](https://github.com/lrittner/Computacao-Visual/blob/bec40a68fa966e094c31227b098055f6c93dccc9/master/tutorial_numpy_1_7.ipynb)\n",
    "\n",
    "- [Learning Numpy Tutorial](https://github.com/lrittner/Computacao-Visual/blob/master/tutoriais/02_Aprendê_Numpy.ipynb)\n",
    "\n",
    "- [Synthetic Image Creation Tutorial](https://github.com/lrittner/Computacao-Visual/blob/bec40a68fa966e094c31227b098055f6c93dccc9/tutoriais/04_Gerando_imagens_sinteticas.ipynb)"
   ]
  }
 ],
 "metadata": {
  "colab": {
   "provenance": []
  },
  "kernelspec": {
   "display_name": "Python 3 (ipykernel)",
   "language": "python",
   "name": "python3"
  },
  "language_info": {
   "codemirror_mode": {
    "name": "ipython",
    "version": 3
   },
   "file_extension": ".py",
   "mimetype": "text/x-python",
   "name": "python",
   "nbconvert_exporter": "python",
   "pygments_lexer": "ipython3",
   "version": "3.10.12"
  }
 },
 "nbformat": 4,
 "nbformat_minor": 1
}
