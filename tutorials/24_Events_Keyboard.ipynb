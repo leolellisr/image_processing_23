{
 "cells": [
  {
   "cell_type": "markdown",
   "metadata": {},
   "source": [
    "## Eventos de teclado\n",
    "\n",
    "Além de fornecer uma superfície onde a renderização acontece, a janela do Qt também fornece métodos que são chamados quando diferentes eventos de interação acontecem. 'keyPressEvent()' é um desses métodos. Ele é chamado quando alguma tecla do teclado é pressionada e o objeto contendo as informações do evento é passado como parâmetro. A tecla pressionada pode ser recupera através do método 'key()' deste objeto. Neste exemplo, esta funcionalidade foi utilizada para alterar as cores de dois triângulos. Sempre que algumas das setas do teclado é pressionada, um valor de passo igual à 0.2 é decrementado ou incrementado à alguma componente de cor de um dos triângulos."
   ]
  },
  {
   "cell_type": "code",
   "execution_count": 2,
   "metadata": {
    "ExecuteTime": {
     "end_time": "2020-05-12T01:23:38.477498Z",
     "start_time": "2020-05-12T01:23:32.007186Z"
    }
   },
   "outputs": [
    {
     "ename": "SystemExit",
     "evalue": "0",
     "output_type": "error",
     "traceback": [
      "An exception has occurred, use %tb to see the full traceback.\n",
      "\u001b[1;31mSystemExit\u001b[0m\u001b[1;31m:\u001b[0m 0\n"
     ]
    },
    {
     "name": "stderr",
     "output_type": "stream",
     "text": [
      "C:\\Users\\Rapha\\Anaconda3\\lib\\site-packages\\IPython\\core\\interactiveshell.py:2889: UserWarning: To exit: use 'exit', 'quit', or Ctrl-D.\n",
      "  warn(\"To exit: use 'exit', 'quit', or Ctrl-D.\", stacklevel=1)\n"
     ]
    }
   ],
   "source": [
    "import numpy as np\n",
    "import OpenGL.GL as gl\n",
    "from PyQt5 import QtOpenGL, QtCore\n",
    "from PyQt5.QtWidgets import QApplication\n",
    "\n",
    "from cg.shader_programs.SimpleShaderProgram_v1 import SimpleShaderProgram\n",
    "from cg.renderers.ModelRenderer_v1 import ModelRenderer\n",
    "\n",
    "class MyWidget(QtOpenGL.QGLWidget):\n",
    "    def initializeGL(self):\n",
    "        \n",
    "        # posição de cada vértice do primeiro triângulos\n",
    "        vertex_position_01 = np.array([\n",
    "            -0.90, -0.90, 0.2, 1.0, # Triângulo 1\n",
    "             0.85, -0.90, 0.2, 1.0,\n",
    "            -0.90,  0.85, 0.2, 1.0],\n",
    "            dtype=np.float32)\n",
    "        \n",
    "        # posição de cada vértice do segundo triângulos\n",
    "        vertex_position_02 = np.array([\n",
    "             0.90, -0.85, 0.0, 1.0, # Triângulo 2\n",
    "             0.90,  0.90, 0.0, 1.0,\n",
    "            -0.85,  0.90, 0.0, 1.0],\n",
    "            dtype=np.float32)\n",
    "        \n",
    "        # cria para cada triângulo um objeto responsável por carregar os dados para a GPU e renderizá-los\n",
    "        self.triangleRenderer01 = ModelRenderer(vertex_position_01)\n",
    "        self.triangleRenderer02 = ModelRenderer(vertex_position_02)\n",
    "        \n",
    "        # cria um shader program simples\n",
    "        self.shaderProgram = SimpleShaderProgram()\n",
    "        \n",
    "        # ativa o shader programa para permitir configurar uma cor única para todos os vértices\n",
    "        self.shaderProgram.bind()\n",
    "        self.shaderProgram.useUniformColor(True)\n",
    "        self.shaderProgram.release()\n",
    "\n",
    "        # recupera o endereços da variável de entrada do shader program\n",
    "        position_loc = self.shaderProgram.getVertexPositionLoc()\n",
    "        \n",
    "        # configura os dados do modelo para serem os dados de entrada do shader program\n",
    "        self.triangleRenderer01.setVertexPositionLoc(position_loc)\n",
    "        self.triangleRenderer02.setVertexPositionLoc(position_loc)\n",
    "\n",
    "        self.colorTriangle01 = np.array([0.0, 0.0, 0.5, 1.0], dtype=np.float32)\n",
    "        self.colorTriangle02 = np.array([0.5, 0.0, 0.0, 1.0], dtype=np.float32)\n",
    "        \n",
    "    def paintGL(self):\n",
    "        \n",
    "        # configura a cor de background\n",
    "        gl.glClearColor(0, 0, 0, 1)\n",
    "        \n",
    "        # limpa o background com a cor especificada\n",
    "        gl.glClear(gl.GL_COLOR_BUFFER_BIT | gl.GL_DEPTH_BUFFER_BIT)\n",
    "        \n",
    "        # ativa o shader program que será executado pela GPU\n",
    "        self.shaderProgram.bind()\n",
    "        \n",
    "        # configura a cor do primeiro triângulo\n",
    "        self.shaderProgram.setUniformColor(self.colorTriangle01)\n",
    "        \n",
    "        # renderiza o primeiro triângulo\n",
    "        self.triangleRenderer01.render()\n",
    "        \n",
    "        #configura a cor do segundo triângulo\n",
    "        self.shaderProgram.setUniformColor(self.colorTriangle02)\n",
    "        \n",
    "        # renderiza o segundo triângulo\n",
    "        self.triangleRenderer02.render()\n",
    "        \n",
    "        # desativa o shader program\n",
    "        self.shaderProgram.release()\n",
    "        \n",
    "        # solicita que o método paintGL seja chamado novamente\n",
    "        self.update()\n",
    "\n",
    "    def resizeGL(self, width, height):\n",
    "        \n",
    "        # atualiza a área de renderização para ser a janela inteira\n",
    "        gl.glViewport(0, 0, width, height)\n",
    "        \n",
    "    def keyPressEvent(self, event):\n",
    "        super(MyWidget, self).keyPressEvent(event)\n",
    "        \n",
    "        # passo \n",
    "        step = 0.2\n",
    "        \n",
    "        # verifica se foi pressionada a tecla de seta 'para cima'\n",
    "        if event.key() == QtCore.Qt.Key_Up:\n",
    "            if(self.colorTriangle01[1] < 1.0):\n",
    "                self.colorTriangle01[1] += step\n",
    "\n",
    "        # verifica se foi pressionada a tecla de seta 'para baixo'\n",
    "        elif event.key() == QtCore.Qt.Key_Down:\n",
    "            if(self.colorTriangle01[1] > 0.0):\n",
    "                self.colorTriangle01[1] -= step\n",
    "        \n",
    "        # verifica se foi pressionada a tecla de seta 'para esquerda'\n",
    "        elif event.key() == QtCore.Qt.Key_Left:\n",
    "            if(self.colorTriangle02[1] > 0.0):\n",
    "                self.colorTriangle02[1] -= step\n",
    "        \n",
    "        # verifica se foi pressionada a tecla de seta 'para direita'\n",
    "        elif event.key() == QtCore.Qt.Key_Right:\n",
    "            if(self.colorTriangle02[1] < 1.0):\n",
    "                self.colorTriangle02[1] += step\n",
    "\n",
    "def main():\n",
    "    import sys\n",
    "\n",
    "    #Criação de um aplicativo Qt\n",
    "    app = QApplication(sys.argv)\n",
    "\n",
    "    #Especificação do contexto OpenGL\n",
    "    glformat = QtOpenGL.QGLFormat()\n",
    "    glformat.setVersion(3, 3)\n",
    "    glformat.setDoubleBuffer(True)\n",
    "    glformat.setProfile(QtOpenGL.QGLFormat.CoreProfile)\n",
    "    \n",
    "    #Criação da janela de renderização\n",
    "    w = MyWidget(glformat)\n",
    "    w.resize(640, 480)\n",
    "    w.setWindowTitle('OpenGL example')\n",
    "    w.show()\n",
    "    sys.exit(app.exec_())\n",
    "\n",
    "if __name__ == '__main__':\n",
    "    main()"
   ]
  },
  {
   "cell_type": "code",
   "execution_count": 1,
   "metadata": {
    "ExecuteTime": {
     "end_time": "2020-05-12T00:10:06.145585Z",
     "start_time": "2020-05-12T00:09:41.583858Z"
    }
   },
   "outputs": [
    {
     "name": "stderr",
     "output_type": "stream",
     "text": [
      "[NbConvertApp] Converting notebook 24_Eventos_do_teclado.ipynb to python\n",
      "[NbConvertApp] Writing 5443 bytes to 24_Eventos_do_teclado.py\n"
     ]
    }
   ],
   "source": [
    "! jupyter nbconvert --to python 24_Eventos_do_teclado.ipynb\n",
    "%run -i 24_Eventos_do_teclado.py"
   ]
  },
  {
   "cell_type": "code",
   "execution_count": null,
   "metadata": {
    "collapsed": true
   },
   "outputs": [],
   "source": []
  }
 ],
 "metadata": {
  "kernelspec": {
   "display_name": "Python 3",
   "language": "python",
   "name": "python3"
  },
  "language_info": {
   "codemirror_mode": {
    "name": "ipython",
    "version": 3
   },
   "file_extension": ".py",
   "mimetype": "text/x-python",
   "name": "python",
   "nbconvert_exporter": "python",
   "pygments_lexer": "ipython3",
   "version": "3.6.1"
  }
 },
 "nbformat": 4,
 "nbformat_minor": 2
}
