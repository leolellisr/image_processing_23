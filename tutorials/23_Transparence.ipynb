{
 "cells": [
  {
   "cell_type": "markdown",
   "metadata": {},
   "source": [
    "## Transparência\n",
    "\n",
    "Em alguns casos, quando dois objetos se sobrepõem, não se quer simplesmente descartar os fragmentos do objeto que foi sobreposto e, sim, utilizá-los para criar um efeito de transparência. Esse efeito é obtido ao misturar a cor do novo fragmento e a cor do fragmento que será sobreposto. Essa mistura é realizada pelo OpenGL utilizando como base a componente (a)lpha das coordenadas de cores. Para ativar essa funcionalidade, deve-se chamar a função 'glEnable()' passando o parâmetro 'GL_BLEND'. Além disso, deve-se também definir a equação de blending. Uma das formas de defini-la é através da função 'glBlendFunc()' e os parâmetros normalmente utilizados em conjunto são GL_SRC_ALPHA e GL_ONE_MINUS_SRC_ALPHA. Além disso, os objetos opacos deve ser renderizados primeiros e, depois, os objetos transparentes ordenados do mais distante para o mais perto."
   ]
  },
  {
   "cell_type": "code",
   "execution_count": 1,
   "metadata": {
    "ExecuteTime": {
     "end_time": "2020-05-12T01:21:43.224614Z",
     "start_time": "2020-05-12T01:21:39.421676Z"
    }
   },
   "outputs": [
    {
     "ename": "SystemExit",
     "evalue": "0",
     "output_type": "error",
     "traceback": [
      "An exception has occurred, use %tb to see the full traceback.\n",
      "\u001b[1;31mSystemExit\u001b[0m\u001b[1;31m:\u001b[0m 0\n"
     ]
    },
    {
     "name": "stderr",
     "output_type": "stream",
     "text": [
      "C:\\Users\\Rapha\\Anaconda3\\lib\\site-packages\\IPython\\core\\interactiveshell.py:2889: UserWarning: To exit: use 'exit', 'quit', or Ctrl-D.\n",
      "  warn(\"To exit: use 'exit', 'quit', or Ctrl-D.\", stacklevel=1)\n"
     ]
    }
   ],
   "source": [
    "import numpy as np\n",
    "import OpenGL.GL as gl\n",
    "from PyQt5 import QtOpenGL\n",
    "from PyQt5.QtWidgets import QApplication\n",
    "\n",
    "from cg.shader_programs.SimpleShaderProgram_v1 import SimpleShaderProgram\n",
    "from cg.renderers.ModelRenderer_v1 import ModelRenderer\n",
    "\n",
    "class MyWidget(QtOpenGL.QGLWidget):\n",
    "    def initializeGL(self):\n",
    "        \n",
    "        # posição de cada vértice do primeiro triângulos\n",
    "        vertex_position_01 = np.array([\n",
    "            -0.90, -0.90, 0.2, 1.0, # Triângulo 1\n",
    "             0.85, -0.90, 0.2, 1.0,\n",
    "            -0.90,  0.85, 0.2, 1.0],\n",
    "            dtype=np.float32)\n",
    "        \n",
    "        # posição de cada vértice do segundo triângulos\n",
    "        vertex_position_02 = np.array([\n",
    "            -0.85, -0.90, 0.1, 1.0, # Triângulo 2\n",
    "             0.90, -0.90, 0.1, 1.0,\n",
    "             0.90,  0.85, 0.1, 1.0],\n",
    "            dtype=np.float32)\n",
    "        \n",
    "        # cria para cada triângulo um objeto responsável por carregar os dados para a GPU e renderizá-los\n",
    "        self.triangleRenderer01 = ModelRenderer(vertex_position_01)\n",
    "        self.triangleRenderer02 = ModelRenderer(vertex_position_02)\n",
    "        \n",
    "        # cria um shader program simples\n",
    "        self.shaderProgram = SimpleShaderProgram()\n",
    "        \n",
    "        # ativa o shader programa para permitir configurar uma cor única para todos os vértices\n",
    "        self.shaderProgram.bind()\n",
    "        self.shaderProgram.useUniformColor(True)\n",
    "        self.shaderProgram.release()\n",
    "\n",
    "        # recupera o endereços da variável de entrada do shader program\n",
    "        position_loc = self.shaderProgram.getVertexPositionLoc()\n",
    "        \n",
    "        # configura os dados do modelo para serem os dados de entrada do shader program\n",
    "        self.triangleRenderer01.setVertexPositionLoc(position_loc)\n",
    "        self.triangleRenderer02.setVertexPositionLoc(position_loc)\n",
    "\n",
    "    def paintGL(self):\n",
    "        # configura a cor de background\n",
    "        gl.glClearColor(0, 0, 0, 1.0)\n",
    "        \n",
    "        # limpa o buffer de cor e o buffer de profundidade\n",
    "        gl.glClear(gl.GL_COLOR_BUFFER_BIT | gl.GL_DEPTH_BUFFER_BIT)\n",
    "        \n",
    "        # habilita o teste de profundidade\n",
    "        gl.glEnable(gl.GL_DEPTH_TEST);\n",
    "        \n",
    "        # habilita a mistura de cores\n",
    "        gl.glEnable(gl.GL_BLEND)\n",
    "        \n",
    "        #configura função de mistura de cores\n",
    "        gl.glBlendFunc(gl.GL_SRC_ALPHA, gl.GL_ONE_MINUS_SRC_ALPHA)\n",
    "        \n",
    "        # ativa o shader program que será executado pela GPU\n",
    "        self.shaderProgram.bind()\n",
    "        \n",
    "        # configura a cor do primeiro triângulo sem transparência\n",
    "        self.shaderProgram.setUniformColor(np.array([1.0, 0.0, 0.0, 1.0], dtype=np.float32))\n",
    "        \n",
    "        # renderiza o primeiro triângulo\n",
    "        self.triangleRenderer01.render()\n",
    "        \n",
    "        #configura a cor do segundo triângulo com transparência\n",
    "        self.shaderProgram.setUniformColor(np.array([0.0, 1.0, 0.0, 0.4], dtype=np.float32))\n",
    "        \n",
    "        # renderiza o segundo triângulo\n",
    "        self.triangleRenderer02.render()\n",
    "        \n",
    "        # desativa o shader program\n",
    "        self.shaderProgram.release()\n",
    "        \n",
    "        # solicita que o método paintGL seja chamado novamente\n",
    "        self.update()\n",
    "\n",
    "    def resizeGL(self, width, height):\n",
    "        \n",
    "        # atualiza a área de renderização para ser a janela inteira\n",
    "        gl.glViewport(0, 0, width, height)\n",
    "\n",
    "def main():\n",
    "    import sys\n",
    "\n",
    "    #Criação de um aplicativo Qt\n",
    "    app = QApplication(sys.argv)\n",
    "\n",
    "    #Especificação do contexto OpenGL\n",
    "    glformat = QtOpenGL.QGLFormat()\n",
    "    glformat.setVersion(3, 3)\n",
    "    glformat.setDepth(True)\n",
    "#     glformat.setAlpha(True)\n",
    "    glformat.setDoubleBuffer(True)\n",
    "    glformat.setProfile(QtOpenGL.QGLFormat.CoreProfile)\n",
    "    \n",
    "    #Criação da janela de renderização\n",
    "    w = MyWidget(glformat)\n",
    "    w.resize(640, 480)\n",
    "    w.setWindowTitle('OpenGL example')\n",
    "    w.show()\n",
    "    sys.exit(app.exec_())\n",
    "\n",
    "if __name__ == '__main__':\n",
    "    main()"
   ]
  },
  {
   "cell_type": "code",
   "execution_count": 1,
   "metadata": {
    "ExecuteTime": {
     "end_time": "2020-05-12T00:08:13.698689Z",
     "start_time": "2020-05-12T00:07:53.261283Z"
    }
   },
   "outputs": [
    {
     "name": "stderr",
     "output_type": "stream",
     "text": [
      "[NbConvertApp] Converting notebook 23_Transparencia.ipynb to python\n",
      "[NbConvertApp] Writing 4871 bytes to 23_Transparencia.py\n"
     ]
    }
   ],
   "source": [
    "! jupyter nbconvert --to python 23_Transparencia.ipynb\n",
    "%run -i 23_Transparencia.py"
   ]
  },
  {
   "cell_type": "code",
   "execution_count": null,
   "metadata": {
    "collapsed": true
   },
   "outputs": [],
   "source": []
  }
 ],
 "metadata": {
  "kernelspec": {
   "display_name": "Python 3",
   "language": "python",
   "name": "python3"
  },
  "language_info": {
   "codemirror_mode": {
    "name": "ipython",
    "version": 3
   },
   "file_extension": ".py",
   "mimetype": "text/x-python",
   "name": "python",
   "nbconvert_exporter": "python",
   "pygments_lexer": "ipython3",
   "version": "3.6.1"
  }
 },
 "nbformat": 4,
 "nbformat_minor": 2
}
