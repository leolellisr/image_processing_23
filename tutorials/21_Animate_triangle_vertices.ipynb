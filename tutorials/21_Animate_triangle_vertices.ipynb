{
 "cells": [
  {
   "cell_type": "markdown",
   "metadata": {},
   "source": [
    "## Animando os vértice do triângulo\n",
    "\n",
    "Neste exemplo, é utilizada a mesma abordagem de animação do notebook ([20_Animando_as_cores_dos_triangulos](20_Animando_as_cores_dos_triangulos.ipynb)). A diferença está no dado que foi animado. Neste exemplo, foi animada a posição de um dos vértices de cada triângulo. Para isso, foi utilizada a variável 'interpolation_factor' para calcular as novas posições de vértices ('triangle01_new_vertex_v3' e 'triangle02_new_vertex_v1'), um para cada triângulo. Os vetores de posição de cada triângulo (vertexPosition01 e vertexPosition02) são atualizados com as novas posições e depois esses vetores são utilizados para atualizar os dados que estão na GPU através do método 'updateVertexPositions()'."
   ]
  },
  {
   "cell_type": "code",
   "execution_count": 1,
   "metadata": {
    "ExecuteTime": {
     "end_time": "2020-05-12T01:20:56.745914Z",
     "start_time": "2020-05-12T01:20:51.650902Z"
    }
   },
   "outputs": [
    {
     "ename": "SystemExit",
     "evalue": "0",
     "output_type": "error",
     "traceback": [
      "An exception has occurred, use %tb to see the full traceback.\n",
      "\u001b[1;31mSystemExit\u001b[0m\u001b[1;31m:\u001b[0m 0\n"
     ]
    },
    {
     "name": "stderr",
     "output_type": "stream",
     "text": [
      "C:\\Users\\Rapha\\Anaconda3\\lib\\site-packages\\IPython\\core\\interactiveshell.py:2889: UserWarning: To exit: use 'exit', 'quit', or Ctrl-D.\n",
      "  warn(\"To exit: use 'exit', 'quit', or Ctrl-D.\", stacklevel=1)\n"
     ]
    }
   ],
   "source": [
    "import time\n",
    "import math\n",
    "import numpy as np\n",
    "import OpenGL.GL as gl\n",
    "from PyQt5 import QtOpenGL\n",
    "from PyQt5.QtWidgets import QApplication\n",
    "\n",
    "from cg.shader_programs.SimpleShaderProgram_v1 import SimpleShaderProgram\n",
    "from cg.renderers.ModelRenderer_v1 import ModelRenderer\n",
    "\n",
    "class MyWidget(QtOpenGL.QGLWidget):\n",
    "    \n",
    "    def initializeGL(self):\n",
    "        \n",
    "        # posição de cada vértice do primeiro triângulos\n",
    "        self.vertexPosition01 = np.array([\n",
    "            -0.90, -0.90, 0.0, 1.0, # Triângulo 1\n",
    "             0.85, -0.90, 0.0, 1.0,\n",
    "            -0.90,  0.85, 0.0, 1.0],\n",
    "            dtype=np.float32)\n",
    "        \n",
    "        # posição de cada vértice do segundo triângulos\n",
    "        self.vertexPosition02 = np.array([\n",
    "             0.90, -0.85, 0.0, 1.0, # Triângulo 2\n",
    "             0.90,  0.90, 0.0, 1.0,\n",
    "            -0.85,  0.90, 0.0, 1.0],\n",
    "            dtype=np.float32)\n",
    "        \n",
    "        # cria para cada triângulo um objeto responsável por carregar os dados para a GPU e renderizá-los\n",
    "        self.triangleRenderer01 = ModelRenderer(self.vertexPosition01)\n",
    "        self.triangleRenderer02 = ModelRenderer(self.vertexPosition02)\n",
    "        \n",
    "        # cria um shader program simples\n",
    "        self.shaderProgram = SimpleShaderProgram()\n",
    "        \n",
    "        # ativa o shader programa para permitir configurar uma cor única para todos os vértices\n",
    "        self.shaderProgram.bind()\n",
    "        self.shaderProgram.useUniformColor(True)\n",
    "        self.shaderProgram.setUniformColor(np.array([0.0, 0.0, 0.5, 1.0], dtype=np.float32))\n",
    "        self.shaderProgram.release()\n",
    "\n",
    "        # recupera o endereços da variável de entrada do shader program\n",
    "        position_loc = self.shaderProgram.getVertexPositionLoc()\n",
    "        \n",
    "        # configura os dados do modelo para serem os dados de entrada do shader program\n",
    "        self.triangleRenderer01.setVertexPositionLoc(position_loc)\n",
    "        self.triangleRenderer02.setVertexPositionLoc(position_loc)\n",
    "\n",
    "        # armazena o momento que o programa começou\n",
    "        self.startTime = time.time()\n",
    "        \n",
    "    def paintGL(self):\n",
    "        \n",
    "        # configura a cor de background\n",
    "        gl.glClearColor(0, 0, 0, 1)\n",
    "        \n",
    "        # limpa o background com a cor especificada\n",
    "        gl.glClear(gl.GL_COLOR_BUFFER_BIT)\n",
    "        \n",
    "        # calcula o tempo de execução do programa\n",
    "        self.currentTime = time.time()\n",
    "        time_difference = self.currentTime - self.startTime\n",
    "        \n",
    "        # calcula o fator de interpolação\n",
    "        interpolation_factor = (math.sin(time_difference) + 1) / 2\n",
    "        \n",
    "        triangle01_v1 = np.array([-0.90, -0.90, 0.0, 1.0], dtype=np.float32)\n",
    "        triangle01_v3 = np.array([-0.90,  0.85, 0.0, 1.0], dtype=np.float32)\n",
    "        \n",
    "        triangle02_v1 = np.array([0.90, -0.85, 0.0, 1.0], dtype=np.float32)\n",
    "        triangle02_v2 = np.array([0.90,  0.90, 0.0, 1.0], dtype=np.float32)\n",
    "        \n",
    "        # calcula o novo vértice de cada triângulo\n",
    "        triangle01_new_vertex_v3 = interpolation_factor * triangle01_v3 + (1 - interpolation_factor) * triangle01_v1\n",
    "        triangle02_new_vertex_v1 = interpolation_factor * triangle02_v1 + (1 - interpolation_factor) * triangle02_v2\n",
    "        \n",
    "        # atualiza os dados nos vetores\n",
    "        self.vertexPosition01[8:] = triangle01_new_vertex_v3\n",
    "        self.vertexPosition02[0:4] = triangle02_new_vertex_v1\n",
    "        \n",
    "        # atualiza os dados dos triângulso na GPU\n",
    "        self.triangleRenderer01.updateVertexPositions(self.vertexPosition01)\n",
    "        self.triangleRenderer02.updateVertexPositions(self.vertexPosition02)\n",
    "        \n",
    "        # ativa o shader program que será executado pela GPU\n",
    "        self.shaderProgram.bind()\n",
    "        \n",
    "        # renderiza o primeiro triângulo\n",
    "        self.triangleRenderer01.render()\n",
    "        \n",
    "        # renderiza o segundo triângulo\n",
    "        self.triangleRenderer02.render()\n",
    "        \n",
    "        # desativa o shader program\n",
    "        self.shaderProgram.release()\n",
    "        \n",
    "        # solicita que o método paintGL seja chamado novamente\n",
    "        self.update()\n",
    "\n",
    "    def resizeGL(self, width, height):\n",
    "        \n",
    "        # atualiza a área de renderização para ser a janela inteira\n",
    "        gl.glViewport(0, 0, width, height)\n",
    "\n",
    "def main():\n",
    "    import sys\n",
    "\n",
    "    #Criação de um aplicativo Qt\n",
    "    app = QApplication(sys.argv)\n",
    "\n",
    "    #Especificação do contexto OpenGL\n",
    "    glformat = QtOpenGL.QGLFormat()\n",
    "    glformat.setVersion(3, 3)\n",
    "    glformat.setDoubleBuffer(True)\n",
    "    glformat.setProfile(QtOpenGL.QGLFormat.CoreProfile)\n",
    "    \n",
    "    #Criação da janela de renderização\n",
    "    w = MyWidget(glformat)\n",
    "    w.resize(640, 480)\n",
    "    w.setWindowTitle('OpenGL example')\n",
    "    w.show()\n",
    "    sys.exit(app.exec_())\n",
    "\n",
    "if __name__ == '__main__':\n",
    "    main()"
   ]
  },
  {
   "cell_type": "code",
   "execution_count": 1,
   "metadata": {
    "ExecuteTime": {
     "end_time": "2020-05-12T00:05:55.388962Z",
     "start_time": "2020-05-12T00:05:40.378256Z"
    }
   },
   "outputs": [
    {
     "name": "stderr",
     "output_type": "stream",
     "text": [
      "[NbConvertApp] Converting notebook 21_Animando_as_posicoes_do_vertice_do_triangulo.ipynb to python\n",
      "[NbConvertApp] Writing 5561 bytes to 21_Animando_as_posicoes_do_vertice_do_triangulo.py\n"
     ]
    }
   ],
   "source": [
    "! jupyter nbconvert --to python 21_Animando_os_vertice_do_triangulo.ipynb\n",
    "%run -i 21_Animando_os_vertice_do_triangulo.py"
   ]
  },
  {
   "cell_type": "code",
   "execution_count": null,
   "metadata": {
    "collapsed": true
   },
   "outputs": [],
   "source": []
  }
 ],
 "metadata": {
  "kernelspec": {
   "display_name": "Python 3",
   "language": "python",
   "name": "python3"
  },
  "language_info": {
   "codemirror_mode": {
    "name": "ipython",
    "version": 3
   },
   "file_extension": ".py",
   "mimetype": "text/x-python",
   "name": "python",
   "nbconvert_exporter": "python",
   "pygments_lexer": "ipython3",
   "version": "3.6.1"
  }
 },
 "nbformat": 4,
 "nbformat_minor": 2
}
