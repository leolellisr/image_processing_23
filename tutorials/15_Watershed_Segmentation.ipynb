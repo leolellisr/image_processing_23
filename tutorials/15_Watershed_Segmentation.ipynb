{
 "cells": [
  {
   "cell_type": "markdown",
   "metadata": {},
   "source": []
  },
  {
   "cell_type": "markdown",
   "metadata": {},
   "source": [
    "# Watershed Segmentation Example\n",
    "\n",
    "The watershed technique for image segmentation is based on the topography of the image and, to obtain good results, it is usually necessary to define markers (seeds) to guide the segmentation. This is a reasonably complex technique, and the results obtained are often not good, due to a lack of knowledge of the correct way to apply it. The example below presents just one of the ways to use it."
   ]
  },
  {
   "cell_type": "code",
   "execution_count": 1,
   "metadata": {},
   "outputs": [
    {
     "ename": "ModuleNotFoundError",
     "evalue": "No module named 'skimage'",
     "output_type": "error",
     "traceback": [
      "\u001b[0;31m---------------------------------------------------------------------------\u001b[0m",
      "\u001b[0;31mModuleNotFoundError\u001b[0m                       Traceback (most recent call last)",
      "Cell \u001b[0;32mIn[1], line 7\u001b[0m\n\u001b[1;32m      4\u001b[0m \u001b[38;5;28;01mfrom\u001b[39;00m \u001b[38;5;21;01mPIL\u001b[39;00m \u001b[38;5;28;01mimport\u001b[39;00m Image\n\u001b[1;32m      5\u001b[0m get_ipython()\u001b[38;5;241m.\u001b[39mrun_line_magic(\u001b[38;5;124m'\u001b[39m\u001b[38;5;124mmatplotlib\u001b[39m\u001b[38;5;124m'\u001b[39m, \u001b[38;5;124m'\u001b[39m\u001b[38;5;124minline\u001b[39m\u001b[38;5;124m'\u001b[39m)\n\u001b[0;32m----> 7\u001b[0m \u001b[38;5;28;01mimport\u001b[39;00m \u001b[38;5;21;01mskimage\u001b[39;00m\u001b[38;5;21;01m.\u001b[39;00m\u001b[38;5;21;01mmorphology\u001b[39;00m \u001b[38;5;28;01mas\u001b[39;00m \u001b[38;5;21;01mmm\u001b[39;00m\n\u001b[1;32m      8\u001b[0m \u001b[38;5;28;01mfrom\u001b[39;00m \u001b[38;5;21;01mskimage\u001b[39;00m\u001b[38;5;21;01m.\u001b[39;00m\u001b[38;5;21;01msegmentation\u001b[39;00m \u001b[38;5;28;01mimport\u001b[39;00m watershed, join_segmentations\n\u001b[1;32m      9\u001b[0m \u001b[38;5;28;01mfrom\u001b[39;00m \u001b[38;5;21;01mskimage\u001b[39;00m\u001b[38;5;21;01m.\u001b[39;00m\u001b[38;5;21;01msegmentation\u001b[39;00m \u001b[38;5;28;01mimport\u001b[39;00m mark_boundaries\n",
      "\u001b[0;31mModuleNotFoundError\u001b[0m: No module named 'skimage'"
     ]
    }
   ],
   "source": [
    "import numpy as np\n",
    "import matplotlib.image as mpimg\n",
    "import matplotlib.pyplot as plt\n",
    "from PIL import Image\n",
    "%matplotlib inline\n",
    "\n",
    "import skimage.morphology as mm\n",
    "from skimage.segmentation import watershed, join_segmentations\n",
    "from skimage.segmentation import mark_boundaries"
   ]
  },
  {
   "cell_type": "markdown",
   "metadata": {},
   "source": [
    "### Segmentation using Watershed by markers\n",
    "\n",
    "Let's try to solve the problem of segmenting lean meat in an image of a steak using the Watershed Transform. Many of the functions we will use here are derived from Mathematical Morphology, and can be consulted in the skimage library documentation [(link)](http://scikit-image.org/docs/dev/api/skimage.morphology.html#skimage .morphology.opening). Before using the watershed algorithm, we have to first find the internal and external markers."
   ]
  },
  {
   "cell_type": "code",
   "execution_count": null,
   "metadata": {
    "scrolled": true
   },
   "outputs": [],
   "source": [
    "a_pil = Image.open('../figures/beef.tif')\n",
    "a_pil"
   ]
  },
  {
   "cell_type": "markdown",
   "metadata": {},
   "source": [
    "First we use a closing operation (*closing*, from mathematical morphology) and a thresholding to obtain the entire steak."
   ]
  },
  {
   "cell_type": "code",
   "execution_count": null,
   "metadata": {},
   "outputs": [],
   "source": [
    "a = np.array(a_pil)\n",
    "b = mm.closing(a, mm.disk(2))\n",
    "Image.fromarray(b)\n",
    "c = (a >= 10)\n",
    "d = mm.remove_small_holes(c,30)\n",
    "Image.fromarray(d.astype(np.uint8)*255)"
   ]
  },
  {
   "cell_type": "markdown",
   "metadata": {},
   "source": [
    "Then, calculate the outer edge of the steak, using the erosion operation. The result of the thresholded image minus its erosion provides us with the external marker."
   ]
  },
  {
   "cell_type": "code",
   "execution_count": null,
   "metadata": {},
   "outputs": [],
   "source": [
    "e = np.logical_xor(d,mm.erosion(d, mm.square(13)))\n",
    "Image.fromarray(e.astype(np.uint8)*255)"
   ]
  },
  {
   "cell_type": "markdown",
   "metadata": {},
   "source": [
    "Using the external marker and an erosion operation with a very large structuring element, we obtain the internal marker (in relation to the object we want to segment)."
   ]
  },
  {
   "cell_type": "code",
   "execution_count": null,
   "metadata": {},
   "outputs": [],
   "source": [
    "f = mm.erosion(d, mm.diamond(80))\n",
    "m_int = f.astype(np.uint8)*1\n",
    "m_ext = e.astype(np.uint8)*2\n",
    "g = m_int + m_ext\n",
    "#g = e + f\n",
    "Image.fromarray(g.astype(np.uint8)*255)"
   ]
  },
  {
   "cell_type": "markdown",
   "metadata": {},
   "source": [
    "Finally, after calculating the external and internal markers, we combine the two into a single image and use watershed to find the edge of the object of interest."
   ]
  },
  {
   "cell_type": "code",
   "execution_count": null,
   "metadata": {},
   "outputs": [],
   "source": [
    "h = b - mm.erosion(b, mm.diamond(3))\n",
    "markers = g.astype(np.uint8)*255\n",
    "i = watershed(h,markers)\n",
    "\n",
    "\n",
    "plt.figure(1, figsize=(14,8))\n",
    "\n",
    "plt.subplot(1,3,1)\n",
    "plt.imshow(a, cmap='gray')\n",
    "plt.title('Original image')\n",
    "plt.subplot(1,3,2)\n",
    "plt.imshow(i, cmap='gray')\n",
    "plt.title('Segmented region')\n",
    "plt.subplot(1,3,3)\n",
    "plt.imshow(mark_boundaries(a,i))\n",
    "plt.title('Overlapped watershed line')\n"
   ]
  },
  {
   "cell_type": "code",
   "execution_count": null,
   "metadata": {},
   "outputs": [],
   "source": []
  }
 ],
 "metadata": {
  "kernelspec": {
   "display_name": "Python 3 (ipykernel)",
   "language": "python",
   "name": "python3"
  },
  "language_info": {
   "codemirror_mode": {
    "name": "ipython",
    "version": 3
   },
   "file_extension": ".py",
   "mimetype": "text/x-python",
   "name": "python",
   "nbconvert_exporter": "python",
   "pygments_lexer": "ipython3",
   "version": "3.10.12"
  }
 },
 "nbformat": 4,
 "nbformat_minor": 2
}
