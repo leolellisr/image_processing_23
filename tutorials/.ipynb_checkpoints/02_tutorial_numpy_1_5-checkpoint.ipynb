{
 "cells": [
  {
   "cell_type": "markdown",
   "metadata": {},
   "source": [
    "Introduction to NumPy\n",
    "===========\n"
   ]
  },
  {
   "cell_type": "markdown",
   "metadata": {},
   "source": [
    "Matrix operations\n",
    "====================\n",
    "\n",
    "\n",
    "One of the main advantages of the *ndarray* structure is its matrix processing ability.\n",
    "Thus, to multiply all the elements of an array by a scalar, just write *a * 5* by\n",
    "example. To perform any logical or arithmetic operation between arrays, simply write *a <oper> b*:"
   ]
  },
  {
   "cell_type": "code",
   "execution_count": 1,
   "metadata": {},
   "outputs": [
    {
     "name": "stdout",
     "output_type": "stream",
     "text": [
      "a=\n",
      " [[ 0  1  2  3]\n",
      " [ 4  5  6  7]\n",
      " [ 8  9 10 11]\n",
      " [12 13 14 15]\n",
      " [16 17 18 19]]\n",
      "b=\n",
      " [[2. 2. 2. 2.]\n",
      " [2. 2. 2. 2.]\n",
      " [2. 2. 2. 2.]\n",
      " [2. 2. 2. 2.]\n",
      " [2. 2. 2. 2.]]\n",
      "c=\n",
      " [[12 11 10]\n",
      " [ 9  8  7]\n",
      " [ 6  5  4]\n",
      " [ 3  2  1]]\n"
     ]
    }
   ],
   "source": [
    "import numpy as np\n",
    "a = np.arange(20).reshape(5,4)\n",
    "b = 2 * np.ones((5,4))    \n",
    "c = np.arange(12,0,-1).reshape(4,3)\n",
    "print('a=\\n', a )\n",
    "print('b=\\n', b )\n",
    "print('c=\\n', c )"
   ]
  },
  {
   "cell_type": "markdown",
   "metadata": {},
   "source": [
    "Matrix multiplication by scalar: *b x 5*\n",
    "--------------------------------------------------"
   ]
  },
  {
   "cell_type": "code",
   "execution_count": 2,
   "metadata": {},
   "outputs": [
    {
     "name": "stdout",
     "output_type": "stream",
     "text": [
      "b5=\n",
      " [[10. 10. 10. 10.]\n",
      " [10. 10. 10. 10.]\n",
      " [10. 10. 10. 10.]\n",
      " [10. 10. 10. 10.]\n",
      " [10. 10. 10. 10.]]\n"
     ]
    }
   ],
   "source": [
    "b5 = 5 * b\n",
    "\n",
    "print('b5=\\n', b5 )"
   ]
  },
  {
   "cell_type": "markdown",
   "metadata": {},
   "source": [
    "Sum of arrays: *a + b*\n",
    "---------------------------"
   ]
  },
  {
   "cell_type": "code",
   "execution_count": 3,
   "metadata": {},
   "outputs": [
    {
     "name": "stdout",
     "output_type": "stream",
     "text": [
      "amb=\n",
      " [[ 2.  3.  4.  5.]\n",
      " [ 6.  7.  8.  9.]\n",
      " [10. 11. 12. 13.]\n",
      " [14. 15. 16. 17.]\n",
      " [18. 19. 20. 21.]]\n"
     ]
    }
   ],
   "source": [
    "amb = a + b\n",
    "\n",
    "print('amb=\\n', amb )"
   ]
  },
  {
   "cell_type": "markdown",
   "metadata": {},
   "source": [
    "Transposed of a matrix: *a.T*\n",
    "-----------------------------------\n",
    "\n",
    "Transposing a matrix swaps the coordinate axes. The element that\n",
    "was in position *(r,c)* will now be in position *(c,r)*. The shape\n",
    "The resulting matrix will therefore have the swapped values. The operation\n",
    "transposition is done through shallow copying, therefore it is a\n",
    "very efficient and should be used whenever possible.\n",
    "\n",
    "See the following example:"
   ]
  },
  {
   "cell_type": "code",
   "execution_count": 4,
   "metadata": {},
   "outputs": [
    {
     "name": "stdout",
     "output_type": "stream",
     "text": [
      "a.shape= (5, 4)\n",
      "a.T.shape= (4, 5)\n",
      "a=\n",
      " [[ 0  1  2  3]\n",
      " [ 4  5  6  7]\n",
      " [ 8  9 10 11]\n",
      " [12 13 14 15]\n",
      " [16 17 18 19]]\n",
      "at=\n",
      " [[ 0  4  8 12 16]\n",
      " [ 1  5  9 13 17]\n",
      " [ 2  6 10 14 18]\n",
      " [ 3  7 11 15 19]]\n"
     ]
    }
   ],
   "source": [
    "at = a.T\n",
    "print('a.shape=',a.shape )\n",
    "print('a.T.shape=',a.T.shape )    \n",
    "print('a=\\n', a )\n",
    "print('at=\\n', at )"
   ]
  },
  {
   "cell_type": "markdown",
   "metadata": {},
   "source": [
    "Matrix multiplication: *a x c*\n",
    "------------------------------------\n",
    "\n",
    "Matrix multiplication is done using the *dot* operator.\n",
    "For multiplication to be possible, it is important that the number of\n",
    "columns of the first *ndarray* is equal to the number of rows of\n",
    "second. The dimensions of the result will be the number of lines in the\n",
    "first *ndarray* by the number of columns in the second *ndarray*. Check out:"
   ]
  },
  {
   "cell_type": "code",
   "execution_count": 5,
   "metadata": {},
   "outputs": [
    {
     "name": "stdout",
     "output_type": "stream",
     "text": [
      "a.shape: (5, 4)\n",
      "c.shape: (4, 3)\n",
      "a=\n",
      " [[ 0  1  2  3]\n",
      " [ 4  5  6  7]\n",
      " [ 8  9 10 11]\n",
      " [12 13 14 15]\n",
      " [16 17 18 19]]\n",
      "c=\n",
      " [[12 11 10]\n",
      " [ 9  8  7]\n",
      " [ 6  5  4]\n",
      " [ 3  2  1]]\n",
      "ac=\n",
      " [[ 30  24  18]\n",
      " [150 128 106]\n",
      " [270 232 194]\n",
      " [390 336 282]\n",
      " [510 440 370]]\n",
      "ac.shape: (5, 3)\n"
     ]
    }
   ],
   "source": [
    "ac = a.dot(c)\n",
    "\n",
    "print('a.shape:',a.shape )\n",
    "print('c.shape:',c.shape )\n",
    "print('a=\\n',a )\n",
    "print('c=\\n',c )\n",
    "print('ac=\\n', ac )\n",
    "print('ac.shape:',ac.shape )"
   ]
  },
  {
   "cell_type": "markdown",
   "metadata": {},
   "source": [
    "Linspace and Orange\n",
    "==================\n",
    "\n",
    "\n",
    "The numpy functions **linspace** and **arange** have the same objective: generating numpy.arrays linearly\n",
    "spaced in an interval indicated as a parameter.\n",
    "\n",
    "The primary difference between these functions is how the division will be performed in the specified range.\n",
    "In the linspace function, this division is done by defining the closed interval [start, end], that is, it contains the\n",
    "beginning and end, and the amount of\n",
    "elements that the final numpy.array will have. The step is therefore calculated as (end - start)/(n - 1).\n",
    "This way, if we want to generate a numpy.array between 0 and 1 with 10 elements, we will use linspace as follows\n"
   ]
  },
  {
   "cell_type": "code",
   "execution_count": 6,
   "metadata": {},
   "outputs": [
    {
     "name": "stdout",
     "output_type": "stream",
     "text": [
      "[0.   0.11 0.22 0.33 0.44 0.56 0.67 0.78 0.89 1.  ]\n"
     ]
    }
   ],
   "source": [
    "# generates a numpy.array of 10 elements, linearly spaced between 0 and 1\n",
    "print(np.linspace(0, 1.0, num=10).round(2) ) "
   ]
  },
  {
   "cell_type": "markdown",
   "metadata": {},
   "source": [
    "In the range function, the semi-open interval [start, end) and the step that will be taken between one element and another are defined.\n",
    "In this way, to generate\n",
    "a numpy.array between 0 and 1 with 10 elements, we have to calculate the step (0.1) and pass this step as a parameter."
   ]
  },
  {
   "cell_type": "code",
   "execution_count": 7,
   "metadata": {},
   "outputs": [
    {
     "name": "stdout",
     "output_type": "stream",
     "text": [
      "[0.  0.1 0.2 0.3 0.4 0.5 0.6 0.7 0.8 0.9]\n"
     ]
    }
   ],
   "source": [
    "# generates a numpy.array linearly spaced between 0 to 1 with step 0.1\n",
    "\n",
    "print(np.arange(0, 1.0, 0.1) )\n"
   ]
  },
  {
   "cell_type": "markdown",
   "metadata": {},
   "source": [
    "Confirm that the main difference between the two that can be seen in the examples above is that\n",
    "in linspace the upper limit of the distribution is inclusive (closed range),\n",
    "while in arange this does not occur (semi-open range)."
   ]
  },
  {
   "cell_type": "markdown",
   "metadata": {},
   "source": [
    "Index and meshgrid functions\n",
    "=================================\n",
    "\n",
    "The *indices* and *meshgrid* functions are extremely useful in generating synthetic images and learning them also allows\n",
    "understand the advantages of matrix programming, avoiding the sequential scanning of the image that is very common in programming in the C language.\n",
    "\n",
    "Index operator in small numeric examples\n",
    "===========================================================\n",
    "\n",
    "The *indices* function receives as parameters a tuple with the dimensions (H,W) of the matrices to be created. In the following example, we are\n",
    "generating matrices of 5 rows and 10 columns. This function returns a tuple of two matrices that can be obtained by doing their assignments\n",
    "as in the following example where we create the matrices *r* and *c*, both of size (5,10), that is, 5 rows and 10 columns:"
   ]
  },
  {
   "cell_type": "code",
   "execution_count": 8,
   "metadata": {},
   "outputs": [
    {
     "name": "stdout",
     "output_type": "stream",
     "text": [
      "r=\n",
      " [[0 0 0 0 0 0 0 0 0 0]\n",
      " [1 1 1 1 1 1 1 1 1 1]\n",
      " [2 2 2 2 2 2 2 2 2 2]\n",
      " [3 3 3 3 3 3 3 3 3 3]\n",
      " [4 4 4 4 4 4 4 4 4 4]]\n",
      "c=\n",
      " [[0 1 2 3 4 5 6 7 8 9]\n",
      " [0 1 2 3 4 5 6 7 8 9]\n",
      " [0 1 2 3 4 5 6 7 8 9]\n",
      " [0 1 2 3 4 5 6 7 8 9]\n",
      " [0 1 2 3 4 5 6 7 8 9]]\n"
     ]
    }
   ],
   "source": [
    "r,c = np.indices( (5, 10) )\n",
    "print('r=\\n', r )\n",
    "print('c=\\n', c )"
   ]
  },
  {
   "cell_type": "markdown",
   "metadata": {},
   "source": [
    "Note that the matrix *r* is a matrix where each element is its row coordinate and the matrix *c* is a matrix where each element is\n",
    "its column coordinate. This way, any matrix operation done with *r* and *c*, in reality you are processing the\n",
    "matrix coordinates. Thus, it is possible to generate several synthetic images from a function of their coordinates.\n",
    "\n",
    "As NumPy processes matrices directly, without the need to do an explicit *for*, the program's notation is very simple\n",
    "and efficiency too. The only drawback is the use of memory to calculate the index matrices *r* and *c*. We will\n",
    "See later that this can be minimized.\n",
    "\n",
    "For example, let the function be the sum of its coordinates $f(r,c) = r + c$:"
   ]
  },
  {
   "cell_type": "code",
   "execution_count": 9,
   "metadata": {},
   "outputs": [
    {
     "name": "stdout",
     "output_type": "stream",
     "text": [
      "f=\n",
      " [[ 0  1  2  3  4  5  6  7  8  9]\n",
      " [ 1  2  3  4  5  6  7  8  9 10]\n",
      " [ 2  3  4  5  6  7  8  9 10 11]\n",
      " [ 3  4  5  6  7  8  9 10 11 12]\n",
      " [ 4  5  6  7  8  9 10 11 12 13]]\n"
     ]
    }
   ],
   "source": [
    "f = r + c\n",
    "print('f=\\n', f )"
   ]
  },
  {
   "cell_type": "markdown",
   "metadata": {},
   "source": [
    "Or even the difference function between the row and column coordinates $f(r,c) = r - c$:"
   ]
  },
  {
   "cell_type": "code",
   "execution_count": 10,
   "metadata": {},
   "outputs": [
    {
     "name": "stdout",
     "output_type": "stream",
     "text": [
      "f=\n",
      " [[ 0 -1 -2 -3 -4 -5 -6 -7 -8 -9]\n",
      " [ 1  0 -1 -2 -3 -4 -5 -6 -7 -8]\n",
      " [ 2  1  0 -1 -2 -3 -4 -5 -6 -7]\n",
      " [ 3  2  1  0 -1 -2 -3 -4 -5 -6]\n",
      " [ 4  3  2  1  0 -1 -2 -3 -4 -5]]\n"
     ]
    }
   ],
   "source": [
    "f = r - c\n",
    "print('f=\\n', f )"
   ]
  },
  {
   "cell_type": "markdown",
   "metadata": {},
   "source": [
    "Or even the function $f(r,c) = (r + c) \\% 2$ where % is the modulus operator. This function returns 1 if the sum of the coordinates is odd and 0 otherwise.\n",
    "It's a chessboard-style image of values 0 and 1:"
   ]
  },
  {
   "cell_type": "code",
   "execution_count": 11,
   "metadata": {},
   "outputs": [
    {
     "name": "stdout",
     "output_type": "stream",
     "text": [
      "f=\n",
      " [[0 1 0 1 0 1 0 1 0 1]\n",
      " [1 0 1 0 1 0 1 0 1 0]\n",
      " [0 1 0 1 0 1 0 1 0 1]\n",
      " [1 0 1 0 1 0 1 0 1 0]\n",
      " [0 1 0 1 0 1 0 1 0 1]]\n"
     ]
    }
   ],
   "source": [
    "f = (r + c) % 2\n",
    "print('f=\\n', f )"
   ]
  },
  {
   "cell_type": "markdown",
   "metadata": {},
   "source": [
    "Or even the straight line function $f(r,c) = (r = \\frac{1}{2}c)$:"
   ]
  },
  {
   "cell_type": "code",
   "execution_count": 12,
   "metadata": {},
   "outputs": [
    {
     "name": "stdout",
     "output_type": "stream",
     "text": [
      "f=\n",
      " [[ True  True False False False False False False False False]\n",
      " [False False  True  True False False False False False False]\n",
      " [False False False False  True  True False False False False]\n",
      " [False False False False False False  True  True False False]\n",
      " [False False False False False False False False  True  True]]\n"
     ]
    }
   ],
   "source": [
    "f = (r == c//2)\n",
    "print('f=\\n', f )"
   ]
  },
  {
   "cell_type": "markdown",
   "metadata": {},
   "source": [
    "Or even the parabolic function given by the sum of the square of its coordinates $f(r,c) = r^2 + c^2$:"
   ]
  },
  {
   "cell_type": "code",
   "execution_count": 13,
   "metadata": {},
   "outputs": [
    {
     "name": "stdout",
     "output_type": "stream",
     "text": [
      "f=\n",
      " [[ 0  1  4  9 16 25 36 49 64 81]\n",
      " [ 1  2  5 10 17 26 37 50 65 82]\n",
      " [ 4  5  8 13 20 29 40 53 68 85]\n",
      " [ 9 10 13 18 25 34 45 58 73 90]\n",
      " [16 17 20 25 32 41 52 65 80 97]]\n"
     ]
    }
   ],
   "source": [
    "f = r**2 + c**2\n",
    "print('f=\\n', f )"
   ]
  },
  {
   "cell_type": "markdown",
   "metadata": {},
   "source": [
    "Or even the function of a circle with radius 4, with center at (0,0) $f(r,c) = (r^2 + c^2 < 4^2)$:"
   ]
  },
  {
   "cell_type": "code",
   "execution_count": 14,
   "metadata": {},
   "outputs": [
    {
     "name": "stdout",
     "output_type": "stream",
     "text": [
      "f=\n",
      " [[1 1 1 1 0 0 0 0 0 0]\n",
      " [1 1 1 1 0 0 0 0 0 0]\n",
      " [1 1 1 1 0 0 0 0 0 0]\n",
      " [1 1 1 0 0 0 0 0 0 0]\n",
      " [0 0 0 0 0 0 0 0 0 0]]\n"
     ]
    }
   ],
   "source": [
    "f = ((r**2 + c**2) < 4**2)\n",
    "print('f=\\n', f * 1 )"
   ]
  },
  {
   "cell_type": "code",
   "execution_count": 15,
   "metadata": {},
   "outputs": [
    {
     "name": "stdout",
     "output_type": "stream",
     "text": [
      "a = \n",
      " [[0 1]\n",
      " [2 3]]\n",
      "\n",
      "np.resize(a,(1,7)) = \n",
      " [[0 1 2 3 0 1 2]]\n",
      "\n",
      "np.resize(a,(2,5)) = \n",
      " [[0 1 2 3 0]\n",
      " [1 2 3 0 1]]\n"
     ]
    }
   ],
   "source": [
    "a = np.array([[0,1],[2,3]])\n",
    "\n",
    "print('a = \\n', a )\n",
    "print()\n",
    "\n",
    "print('np.resize(a,(1,7)) = \\n', np.resize(a,(1,7)) )\n",
    "print()\n",
    "\n",
    "print('np.resize(a,(2,5)) = \\n', np.resize(a,(2,5)) )"
   ]
  },
  {
   "cell_type": "markdown",
   "metadata": {},
   "source": [
    "Clip\n",
    "======\n",
    "\n",
    "\n",
    "The clip function replaces values in an array that are below a minimum threshold or above a maximum threshold,\n",
    "by these minimum and maximum thresholds, respectively. This function is especially useful in image processing to avoid\n",
    "that the indexes exceed the limits of the images.\n",
    "\n",
    "Examples\n",
    "========"
   ]
  },
  {
   "cell_type": "code",
   "execution_count": 16,
   "metadata": {},
   "outputs": [
    {
     "name": "stdout",
     "output_type": "stream",
     "text": [
      "a =  [11  1  2  3  4  5 12 -3 -4  7  4]\n",
      "np.clip(a,0,10) =  [10  1  2  3  4  5 10  0  0  7  4]\n"
     ]
    }
   ],
   "source": [
    "a = np.array([11,1,2,3,4,5,12,-3,-4,7,4])\n",
    "print('a = ',a )\n",
    "print('np.clip(a,0,10) = ', np.clip(a,0,10) )"
   ]
  },
  {
   "cell_type": "markdown",
   "metadata": {},
   "source": [
    "Example with floating point\n",
    "=============================\n",
    "\n",
    "Note that if the clip parameters are floating point, the result will also be floating point:"
   ]
  },
  {
   "cell_type": "code",
   "execution_count": 17,
   "metadata": {},
   "outputs": [
    {
     "ename": "AttributeError",
     "evalue": "module 'numpy' has no attribute 'int'",
     "output_type": "error",
     "traceback": [
      "\u001b[0;31m---------------------------------------------------------------------------\u001b[0m",
      "\u001b[0;31mAttributeError\u001b[0m                            Traceback (most recent call last)",
      "Cell \u001b[0;32mIn[17], line 1\u001b[0m\n\u001b[0;32m----> 1\u001b[0m a \u001b[38;5;241m=\u001b[39m np\u001b[38;5;241m.\u001b[39marange(\u001b[38;5;241m10\u001b[39m)\u001b[38;5;241m.\u001b[39mastype(\u001b[43mnp\u001b[49m\u001b[38;5;241;43m.\u001b[39;49m\u001b[43mint\u001b[49m)\n\u001b[1;32m      2\u001b[0m \u001b[38;5;28mprint\u001b[39m(\u001b[38;5;124m'\u001b[39m\u001b[38;5;124ma=\u001b[39m\u001b[38;5;124m'\u001b[39m,a )\n\u001b[1;32m      3\u001b[0m \u001b[38;5;28mprint\u001b[39m(\u001b[38;5;124m'\u001b[39m\u001b[38;5;124mnp.clip(a,2.5,7.5)=\u001b[39m\u001b[38;5;124m'\u001b[39m,np\u001b[38;5;241m.\u001b[39mclip(a,\u001b[38;5;241m2.5\u001b[39m,\u001b[38;5;241m7.5\u001b[39m) )\n",
      "File \u001b[0;32m~/.local/lib/python3.10/site-packages/numpy/__init__.py:284\u001b[0m, in \u001b[0;36m__getattr__\u001b[0;34m(attr)\u001b[0m\n\u001b[1;32m    281\u001b[0m     \u001b[38;5;28;01mfrom\u001b[39;00m \u001b[38;5;21;01m.\u001b[39;00m\u001b[38;5;21;01mtesting\u001b[39;00m \u001b[38;5;28;01mimport\u001b[39;00m Tester\n\u001b[1;32m    282\u001b[0m     \u001b[38;5;28;01mreturn\u001b[39;00m Tester\n\u001b[0;32m--> 284\u001b[0m \u001b[38;5;28;01mraise\u001b[39;00m \u001b[38;5;167;01mAttributeError\u001b[39;00m(\u001b[38;5;124m\"\u001b[39m\u001b[38;5;124mmodule \u001b[39m\u001b[38;5;132;01m{!r}\u001b[39;00m\u001b[38;5;124m has no attribute \u001b[39m\u001b[38;5;124m\"\u001b[39m\n\u001b[1;32m    285\u001b[0m                      \u001b[38;5;124m\"\u001b[39m\u001b[38;5;132;01m{!r}\u001b[39;00m\u001b[38;5;124m\"\u001b[39m\u001b[38;5;241m.\u001b[39mformat(\u001b[38;5;18m__name__\u001b[39m, attr))\n",
      "\u001b[0;31mAttributeError\u001b[0m: module 'numpy' has no attribute 'int'"
     ]
    }
   ],
   "source": [
    "a = np.arange(10).astype(np.int)\n",
    "print('a=',a )\n",
    "print('np.clip(a,2.5,7.5)=',np.clip(a,2.5,7.5) )"
   ]
  },
  {
   "cell_type": "markdown",
   "metadata": {},
   "source": [
    "Formatting arrays for printing\n",
    "=================================\n",
    "\n",
    "Printing floating point arrays\n",
    "=======================================\n",
    "\n",
    "When printing arrays with floating point values, NumPy generally prints the array with many places\n",
    "decimals and with scientific notation, which makes visualization difficult."
   ]
  },
  {
   "cell_type": "code",
   "execution_count": 18,
   "metadata": {},
   "outputs": [
    {
     "name": "stdout",
     "output_type": "stream",
     "text": [
      "A: \n",
      " [[3.68390306e-04 5.06993321e-04 6.97744275e-04 9.60263289e-04\n",
      "  1.32155235e-03 1.81877265e-03 2.50306691e-03 3.44481975e-03]\n",
      " [4.74089730e-03 6.52461051e-03 8.97942724e-03 1.23578432e-02\n",
      "  1.70073529e-02 2.34061923e-02 3.22125283e-02 4.43321564e-02]\n",
      " [6.10116684e-02 8.39666729e-02 1.15558259e-01 1.59035850e-01\n",
      "  2.18871431e-01 3.01219527e-01 4.14550236e-01 5.70520443e-01]\n",
      " [7.85172815e-01 1.08058591e+00 1.48714510e+00 2.04666794e+00\n",
      "  2.81670543e+00 3.87646151e+00 5.33493976e+00 7.34215526e+00]]\n"
     ]
    }
   ],
   "source": [
    "A = np.exp(np.linspace(0.1,10,32)).reshape(4,8)/3000.\n",
    "print('A: \\n', A )"
   ]
  },
  {
   "cell_type": "markdown",
   "metadata": {},
   "source": [
    "It is possible to reduce the number of decimal places and suppress exponential notation using\n",
    "numpy's **set_printoption** function:"
   ]
  },
  {
   "cell_type": "code",
   "execution_count": 19,
   "metadata": {},
   "outputs": [
    {
     "name": "stdout",
     "output_type": "stream",
     "text": [
      "A: \n",
      " [[0.    0.001 0.001 0.001 0.001 0.002 0.003 0.003]\n",
      " [0.005 0.007 0.009 0.012 0.017 0.023 0.032 0.044]\n",
      " [0.061 0.084 0.116 0.159 0.219 0.301 0.415 0.571]\n",
      " [0.785 1.081 1.487 2.047 2.817 3.876 5.335 7.342]]\n"
     ]
    }
   ],
   "source": [
    "np.set_printoptions(suppress=True, precision=3)\n",
    "\n",
    "print('A: \\n', A )"
   ]
  },
  {
   "cell_type": "markdown",
   "metadata": {},
   "source": [
    "Printing binary arrays\n",
    "===========================================\n",
    "\n",
    "Boolean arrays are printed with the words **True** and **False**, as in the following example:"
   ]
  },
  {
   "cell_type": "code",
   "execution_count": 20,
   "metadata": {},
   "outputs": [
    {
     "name": "stdout",
     "output_type": "stream",
     "text": [
      "A = \n",
      " [[ True  True False  True False False False  True False False]\n",
      " [False False False False False  True  True False  True False]\n",
      " [False False False False False  True False  True  True  True]\n",
      " [ True False False False  True  True  True False False False]\n",
      " [ True  True  True False False False False False  True  True]]\n"
     ]
    }
   ],
   "source": [
    "A = np.random.rand(5,10) > 0.5\n",
    "print('A = \\n', A )"
   ]
  },
  {
   "cell_type": "markdown",
   "metadata": {},
   "source": [
    "To facilitate the visualization of these arrays, it is possible to convert the values to integers using\n",
    "the **astype(int)** method:"
   ]
  },
  {
   "cell_type": "code",
   "execution_count": 21,
   "metadata": {},
   "outputs": [
    {
     "name": "stdout",
     "output_type": "stream",
     "text": [
      "A = \n",
      " [[1 1 0 1 0 0 0 1 0 0]\n",
      " [0 0 0 0 0 1 1 0 1 0]\n",
      " [0 0 0 0 0 1 0 1 1 1]\n",
      " [1 0 0 0 1 1 1 0 0 0]\n",
      " [1 1 1 0 0 0 0 0 1 1]]\n"
     ]
    }
   ],
   "source": [
    "print ('A = \\n', A.astype(int))"
   ]
  },
  {
   "cell_type": "code",
   "execution_count": null,
   "metadata": {},
   "outputs": [],
   "source": []
  }
 ],
 "metadata": {
  "kernelspec": {
   "display_name": "Python 3 (ipykernel)",
   "language": "python",
   "name": "python3"
  },
  "language_info": {
   "codemirror_mode": {
    "name": "ipython",
    "version": 3
   },
   "file_extension": ".py",
   "mimetype": "text/x-python",
   "name": "python",
   "nbconvert_exporter": "python",
   "pygments_lexer": "ipython3",
   "version": "3.10.12"
  },
  "vscode": {
   "interpreter": {
    "hash": "31f2aee4e71d21fbe5cf8b01ff0e069b9275f58929596ceb00d14d90e3e16cd6"
   }
  }
 },
 "nbformat": 4,
 "nbformat_minor": 1
}
