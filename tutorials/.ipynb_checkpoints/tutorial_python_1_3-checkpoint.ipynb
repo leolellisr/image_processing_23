{
 "cells": [
  {
   "cell_type": "markdown",
   "metadata": {
    "toc": "true"
   },
   "source": [
    "# Table of Contents\n",
    " <p><div class=\"lev1 toc-item\"><a href=\"#Funções-em-Python\" data-toc-modified-id=\"Funções-em-Python-1\"><span class=\"toc-item-num\">1&nbsp;&nbsp;</span>Functions in Python</a></div><div class=\"lev2 toc-item\"><a href=\"#Sintaxe-para-definir-funções\" data-toc-modified-id=\"Sintaxe-para-definir-funções-11\"><span class=\"toc-item-num\">1.1&nbsp;&nbsp;</span>Syntax for defining functions</a></div><div class=\"lev2 toc-item\"><a href=\"#Parâmetros-da-função\" data-toc-modified-id=\"Parâmetros-da-função-12\"><span class=\"toc-item-num\">1.2&nbsp;&nbsp;</span>Function parameters</a></div><div class=\"lev2 toc-item\"><a href=\"#Referências\" data-toc-modified-id=\"Referências-13\"><span class=\"toc-item-num\">1.3&nbsp;&nbsp;</span>References</a></div>"
   ]
  },
  {
   "cell_type": "markdown",
   "metadata": {},
   "source": [
    "# Functions in Python\n",
    "\n",
    "## Syntax for defining functions\n",
    "\n",
    "Functions in Python use the keyword def followed by the name of the function and the parameters in parentheses ending with a colon as in the following example where the sum function is defined to return the sum of its two parameters. Note that the function body is indented from the function definition:"
   ]
  },
  {
   "cell_type": "code",
   "execution_count": 4,
   "metadata": {
    "collapsed": true
   },
   "outputs": [],
   "source": [
    "def sum1( x, y):\n",
    "    s = x + y\n",
    "    return s"
   ]
  },
  {
   "cell_type": "markdown",
   "metadata": {},
   "source": [
    "To call the sum function, simply use it by its name passing the parameters as arguments to the function. See the following example"
   ]
  },
  {
   "cell_type": "code",
   "execution_count": 5,
   "metadata": {},
   "outputs": [
    {
     "name": "stdout",
     "output_type": "stream",
     "text": [
      "70\n"
     ]
    }
   ],
   "source": [
    "r = sum1(50, 20)\n",
    "print (r)"
   ]
  },
  {
   "cell_type": "markdown",
   "metadata": {},
   "source": [
    "## Function parameters\n",
    "\n",
    "There are two types of parameters: positional and keyword. Positionals are those that are identified by the order in which they appear in the list of function parameters. Those with a keyword are identified by name=. Keyword parameters can also be positional, but they have the advantage that if they are not passed, they assume the default value mentioned. See the example below:"
   ]
  },
  {
   "cell_type": "code",
   "execution_count": 7,
   "metadata": {
    "collapsed": true
   },
   "outputs": [],
   "source": [
    "def sum2( x, y, squared=False):\n",
    "    if squared:\n",
    "        s = (x + y)**2\n",
    "    else:\n",
    "        s = (x + y)\n",
    "    return s"
   ]
  },
  {
   "cell_type": "markdown",
   "metadata": {},
   "source": [
    "Note that the parameters x and y are positional and will be the first 2 arguments of the function call. The third parameter is per keyword and therefore optional, I can use it both in positional form and in explicit form with the keyword. The big advantage in this scheme is that I can have a large number of parameters with keywords and when using the function, explicitly leave only the desired parameters.\n",
    "\n",
    "See the examples:"
   ]
  },
  {
   "cell_type": "code",
   "execution_count": 10,
   "metadata": {},
   "outputs": [
    {
     "name": "stdout",
     "output_type": "stream",
     "text": [
      "soma(2, 3): 5\n",
      "soma(2, 3, False): 5\n",
      "soma(2, 3, True): 25\n",
      "soma(2, 3, squared= True): 25\n"
     ]
    }
   ],
   "source": [
    "print ('sum2(2, 3):', sum2(2, 3))\n",
    "print ('sum2(2, 3, False):', sum2(2, 3, False))\n",
    "print ('sum2(2, 3, True):', sum2(2, 3, True))\n",
    "print ('sum2(2, 3, squared= True):', sum2(2, 3, squared= True))"
   ]
  },
  {
   "cell_type": "markdown",
   "metadata": {},
   "source": [
    "## References\n",
    "\n",
    "The following references are from the official Python documentation. In this course, we will use very little of your standard library, so there is no need (or conditions) to study all these references. Our focus in this course will be on NumPy and we will gradually offer these materials.\n",
    "\n",
    " - [Python Language Reference](https://docs.python.org/2/reference/)\n",
    " - [Python Standard Library](https://docs.python.org/2/library/index.html)\n"
   ]
  }
 ],
 "metadata": {
  "kernelspec": {
   "display_name": "Python 3 (ipykernel)",
   "language": "python",
   "name": "python3"
  },
  "language_info": {
   "codemirror_mode": {
    "name": "ipython",
    "version": 3
   },
   "file_extension": ".py",
   "mimetype": "text/x-python",
   "name": "python",
   "nbconvert_exporter": "python",
   "pygments_lexer": "ipython3",
   "version": "3.10.12"
  },
  "toc": {
   "colors": {
    "hover_highlight": "#DAA520",
    "running_highlight": "#FF0000",
    "selected_highlight": "#FFD700"
   },
   "moveMenuLeft": true,
   "nav_menu": {
    "height": "86px",
    "width": "252px"
   },
   "navigate_menu": true,
   "number_sections": true,
   "sideBar": true,
   "threshold": 4,
   "toc_cell": true,
   "toc_section_display": "block",
   "toc_window_display": false
  }
 },
 "nbformat": 4,
 "nbformat_minor": 2
}
