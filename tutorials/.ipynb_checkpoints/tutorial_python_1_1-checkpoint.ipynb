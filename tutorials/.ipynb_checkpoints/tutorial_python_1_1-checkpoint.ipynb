{
 "cells": [
  {
   "cell_type": "markdown",
   "metadata": {
    "toc": "true"
   },
   "source": [
    "# Table of Contents\n",
    " <p><div class=\"lev1 toc-item\"><a href=\"#Introdução-ao-Python-no-ambiente-Adessowiki\" data-toc-modified-id=\"Introdução-ao-Python-no-ambiente-Adessowiki-1\"><span class=\"toc-item-num\">1&nbsp;&nbsp;</span>Introduction to Python in the Adessowiki environment</a></div><div class=\"lev2 toc-item\"><a href=\"#Tipos-de-variáveis-em-Python-com-ênfase-nos-tipos-sequênciais\" data-toc-modified-id=\"Tipos-de-variáveis-em-Python-com-ênfase-nos-tipos-sequênciais-11\"><span class=\"toc-item-num\">1.1&nbsp;&nbsp;</span>Tipos de variáveis em Python com ênfase nos tipos sequênciais</a></div><div class=\"lev2 toc-item\"><a href=\"#Tipos-Númericos:\" data-toc-modified-id=\"Tipos-Númericos:-12\"><span class=\"toc-item-num\">1.2&nbsp;&nbsp;</span>Numerical Types:</a></div><div class=\"lev2 toc-item\"><a href=\"#Tipos-Sequenciais:\" data-toc-modified-id=\"Tipos-Sequenciais:-13\"><span class=\"toc-item-num\">1.3&nbsp;&nbsp;</span>Sequential Types:</a></div><div class=\"lev3 toc-item\"><a href=\"#Strings:\" data-toc-modified-id=\"Strings:-131\"><span class=\"toc-item-num\">1.3.1&nbsp;&nbsp;</span>Strings:</a></div><div class=\"lev3 toc-item\"><a href=\"#Listas:\" data-toc-modified-id=\"Listas:-132\"><span class=\"toc-item-num\">1.3.2&nbsp;&nbsp;</span>Lists:</a></div><div class=\"lev3 toc-item\"><a href=\"#Tuplas:\" data-toc-modified-id=\"Tuplas:-133\"><span class=\"toc-item-num\">1.3.3&nbsp;&nbsp;</span>Tuplas:</a></div><div class=\"lev4 toc-item\"><a href=\"#Atenção:\" data-toc-modified-id=\"Atenção:-1331\"><span class=\"toc-item-num\">1.3.3.1&nbsp;&nbsp;</span>Attention:</a></div><div class=\"lev2 toc-item\"><a href=\"#Slicing-em-tipos-sequenciais\" data-toc-modified-id=\"Slicing-em-tipos-sequenciais-14\"><span class=\"toc-item-num\">1.4&nbsp;&nbsp;</span>Slicing in sequential types</a></div><div class=\"lev3 toc-item\"><a href=\"#Atenção:\" data-toc-modified-id=\"Atenção:-141\"><span class=\"toc-item-num\">1.4.1&nbsp;&nbsp;</span>Attention:</a></div><div class=\"lev2 toc-item\"><a href=\"#Atribuição-em-tipos-sequenciais\" data-toc-modified-id=\"Atribuição-em-tipos-sequenciais-15\"><span class=\"toc-item-num\">1.5&nbsp;&nbsp;</span>Assignment in sequential types</a></div><div class=\"lev2 toc-item\"><a href=\"#Formatação-de-string-para-impressão\" data-toc-modified-id=\"Formatação-de-string-para-impressão-16\"><span class=\"toc-item-num\">1.6&nbsp;&nbsp;</span>String formatting for printing</a></div><div class=\"lev2 toc-item\"><a href=\"#Outros-tipos\" data-toc-modified-id=\"Outros-tipos-17\"><span class=\"toc-item-num\">1.7&nbsp;&nbsp;</span>Other types</a></div><div class=\"lev2 toc-item\"><a href=\"#Dicionários:\" data-toc-modified-id=\"Dicionários:-18\"><span class=\"toc-item-num\">1.8&nbsp;&nbsp;</span>Dictionaries:</a></div><div class=\"lev2 toc-item\"><a href=\"#Conjuntos\" data-toc-modified-id=\"Conjuntos-19\"><span class=\"toc-item-num\">1.9&nbsp;&nbsp;</span>Sets</a></div>"
   ]
  },
  {
   "cell_type": "markdown",
   "metadata": {},
   "source": [
    "# Introduction to Python in the Adessowiki environment\n",
    "\n",
    "\n",
    "## Variable types in Python with emphasis on sequential types\n",
    "\n",
    "Python is a high-level, interpreted, imperative, object-oriented, programming language.\n",
    "dynamic and strong typing, which also has the following characteristics:\n",
    "\n",
    "     - There is no pre-declaration of variables, and variable types are determined dynamically.\n",
    "     - Block control is done only by indentation; there are no delimiters of the type BEGIN and END or { and }.\n",
    "     - Offers high-level data types: strings, lists, tuples, dictionaries, files, classes.\n",
    "     - It is object-oriented.\n",
    "    \n",
    "It is a modern language adapted for the development of both generic and scientific applications. For applications\n",
    "scientific, Python has a very important and efficient package for processing multidimensional arrays: *Numpy*.\n",
    "  \n",
    "In its native form, Python supports the following types of variables:\n",
    "  \n",
    "|Variable Type  | Description                                 | Syntax Example          |\n",
    "|---------------|---------------------------------------------|-------------------------|\n",
    "| *int*         | Integer variable                            | a = 103458              |\n",
    "| *float*       | Floating point variable                     | pi = 3.14159265         |\n",
    "| *bool*        |  *boolean* variable - *True* ou *False*     | a = False               |\n",
    "| *complex*     | Complex number variable                     | c = 2+3j                |\n",
    "| *str*         | Variable for ASCII string                   | a = \"Exemple\"           |\n",
    "| *list*        | Variable for ASCII string                   | list  = [4,'I',1]       |\n",
    "| *tuple*       | Immutable heterogeneous tuple               | tuple = (1,'I',2)       |\n",
    "| *dict*        | Associative set of values                   | dic = {1:'I',2:'you'}   |        "
   ]
  },
  {
   "cell_type": "markdown",
   "metadata": {},
   "source": [
    "## Number Types:\n",
    "\n",
    "- Declaring variables of integer, boolean, floating point and complex types and performing some\n",
    "   simple operations"
   ]
  },
  {
   "cell_type": "code",
   "execution_count": 1,
   "metadata": {},
   "outputs": [
    {
     "name": "stdout",
     "output_type": "stream",
     "text": [
      "<class 'int'>\n",
      "<class 'float'>\n",
      "<class 'complex'>\n",
      "<class 'bool'>\n",
      "6.140000000000001\n",
      "(9.42+12.56j)\n",
      "(1+1.3333333333333333j)\n"
     ]
    }
   ],
   "source": [
    "a = 3\n",
    "print(type(a))\n",
    "b = 3.14\n",
    "print(type(b))\n",
    "c = 3 + 4j\n",
    "print(type(c))\n",
    "d = False\n",
    "print(type(d))\n",
    "print(a + b)  \n",
    "print(b * c) \n",
    "print(c / a)"
   ]
  },
  {
   "cell_type": "markdown",
   "metadata": {},
   "source": [
    "Note that in operations involving elements of different types the language performs the\n",
    "conversion of elements to the appropriate type, according to the following hierarchy: complex > floating point > integer\n",
    "\n",
    "## Sequential Types:\n",
    "\n",
    "Python has three main sequential types: lists, tuples, and strings.\n",
    "\n",
    "### Strings:\n",
    "\n",
    "You can declare strings using single, double or triple quotes.\n",
    "Strings are immutable vectors made up of characters. You can calculate the size of the\n",
    "string using *len*."
   ]
  },
  {
   "cell_type": "code",
   "execution_count": 1,
   "metadata": {},
   "outputs": [
    {
     "name": "stdout",
     "output_type": "stream",
     "text": [
      "string type: <class 'str'> name1: Faraday lenght: 7\n"
     ]
    }
   ],
   "source": [
    "name1 = 'Faraday'\n",
    "name2 = \"Maxwell\"\n",
    "print('string type:', type(name1), 'name1:', name1, \"lenght:\", len(name1))"
   ]
  },
  {
   "cell_type": "markdown",
   "metadata": {},
   "source": [
    "String is an immutable vector of characters. You can index a single character and you can apply rules\n",
    "Python's consistent handling of sequences, such as slicing and forms of indexing.\n",
    "In Python, the first element is always zero-indexed, so when I have a 5-character string, it\n",
    "is indexed from 0 to 4. It is also possible to index elements from right to left using indices\n",
    "negatives. Thus, the last element of the vector can be indexed by index -1."
   ]
  },
  {
   "cell_type": "code",
   "execution_count": 3,
   "metadata": {},
   "outputs": [
    {
     "name": "stdout",
     "output_type": "stream",
     "text": [
      "Primeiro caractere de  Faraday  é:  F\n",
      "Último caractere de  Faraday  é:  y\n",
      "Repetindo-se strings 3 vezes FaradayFaradayFaraday\n"
     ]
    }
   ],
   "source": [
    "print('First character of ', name1, ' is: ', name1[0])\n",
    "print('Last character of ', name1, ' is: ', name1[-1])\n",
    "print('Repeating strings 3 times', 3 * name1)"
   ]
  },
  {
   "cell_type": "markdown",
   "metadata": {},
   "source": [
    "### Lists:\n",
    "\n",
    "List is a sequence of elements of different types that can be indexed, changed and operated on.\n",
    "Lists are defined by comma-separated elements beginning and ending with square brackets."
   ]
  },
  {
   "cell_type": "code",
   "execution_count": 4,
   "metadata": {},
   "outputs": [
    {
     "name": "stdout",
     "output_type": "stream",
     "text": [
      "tipo da lista1= <class 'list'>\n",
      "lista2= [(3+4j), [1, 1.1, 'um']]\n",
      "lista2= [(3+4j), 'Faraday']\n",
      "lista3= [1, 1.1, 'um', (3+4j), 'Faraday']\n",
      "concatenando 2 vezes: [1, 1.1, 'um', (3+4j), 'Faraday', 1, 1.1, 'um', (3+4j), 'Faraday']\n"
     ]
    }
   ],
   "source": [
    "list1 = [1, 1.1, 'one'] # Lists can contain elements of different types.\n",
    "list2 = [3+4j, list1] # Even a list can contain other lists as elements!\n",
    "print('type of list1=', type(list1))\n",
    "print('list2=', list2)\n",
    "list2[1] = 'Faraday' #Unlike strings, you can assign new values to list elements.\n",
    "print('list2=', list2)\n",
    "list3 = list1 + list2 # Concatenating 2 lists\n",
    "print('lista3=',lista3)\n",
    "print('concatenating 2 times:',2*list3)"
   ]
  },
  {
   "cell_type": "markdown",
   "metadata": {},
   "source": [
    "### Tuples:\n",
    "\n",
    "Tuple is similar to list, but its values are immutable. Tuple is a sequence of separate objects\n",
    "by commas that can, optionally, be started and ended by parentheses. Tuple containing\n",
    "a single element must be followed by a comma.\n",
    "\n",
    "#### Attention:\n",
    "Understanding the tuple is very important and it\n",
    "will be widely used in this course, as many parameters of NumPy's ``ndarray`` use tuples."
   ]
  },
  {
   "cell_type": "code",
   "execution_count": 5,
   "metadata": {},
   "outputs": [
    {
     "name": "stdout",
     "output_type": "stream",
     "text": [
      "tupla1= ()\n",
      "tupla2= ('Gauss',)\n",
      "tupla3= (1.1, 'Ohm', (3+4j))\n",
      "tupla4= (3, 'aqui', True)\n",
      "tipo da tupla3= <class 'tuple'>\n"
     ]
    }
   ],
   "source": [
    "#Declaring tuples\n",
    "tuple1 = () # empty tuple\n",
    "tuple2 = ('Gauss',) # tuple with only one element. Note the comma.\n",
    "tuple3 = (1.1, 'Ohm', 3+4j)\n",
    "tuple4 = 3, 'here', True\n",
    "print('tuple1=', tuple1)\n",
    "print('tuple2=', tuple2)\n",
    "print('tuple3=', tuple3)\n",
    "print('tuple4=', tuple4)\n",
    "print('tuple3 type=', type(tuple3))"
   ]
  },
  {
   "cell_type": "markdown",
   "metadata": {},
   "source": [
    "## Slicing in sequential types\n",
    "\n",
    "In addition to sequential types such as lists, tuples and strings being indexed, it is also possible\n",
    "select subsets through the concept of *slicing* (slicing).\n",
    "\n",
    "For example:"
   ]
  },
  {
   "cell_type": "code",
   "execution_count": 6,
   "metadata": {},
   "outputs": [
    {
     "name": "stdout",
     "output_type": "stream",
     "text": [
      "s= abcdefg\n",
      "s[0:2] = ab\n",
      "s[2:5] = cde\n"
     ]
    }
   ],
   "source": [
    "s = 'abcdefg'\n",
    "print('s=',s)\n",
    "print('s[0:2] =', s[0:2]) # characters from position 0 (inclusive) to 2 (exclusive)\n",
    "print('s[2:5] =', s[2:5]) # characters from position 2 (inclusive) to 5 (exclusive)"
   ]
  },
  {
   "cell_type": "markdown",
   "metadata": {},
   "source": [
    "Quando o início for zero e o final for o comprimento do string, ele pode ser omitido. Veja os\n",
    "exemplos:"
   ]
  },
  {
   "cell_type": "code",
   "execution_count": 7,
   "metadata": {},
   "outputs": [
    {
     "name": "stdout",
     "output_type": "stream",
     "text": [
      "s= abcdefg\n",
      "s[:2] = ab\n",
      "s[2:] = cdefg\n",
      "s[-2:] = fg\n"
     ]
    }
   ],
   "source": [
    "s = 'abcdefg'\n",
    "print('s=',s)\n",
    "print('s[:2] =', s[:2]) # characters from start to 2 (unique)\n",
    "print('s[2:] =', s[2:]) # characters from position 2 (inclusive) to the end of the string\n",
    "print('s[-2:] =', s[-2:]) # last 2 characters"
   ]
  },
  {
   "cell_type": "markdown",
   "metadata": {},
   "source": [
    "Note that the starting position is always inclusive and the ending position is always exclusive.\n",
    "This is done so that the concatenation between ``s[:i]`` and ``s[i:]`` is equal to ``s``.\n",
    "\n",
    "*slicing* also allows a third value that is optional: ``step``.\n",
    "\n",
    "For those familiar with the C language, the 3 parameters of *slicing* are similar to``for``:\n",
    "\n",
    "\n",
    "|command ``for``                            |  *slicing*            |\n",
    "|-------------------------------------------|-----------------------|\n",
    "|`for (i=begin; i < end; i += step) a[i]`   | `a[begin:end:step]`   |\n",
    "\n",
    "See examples of indexing using *slicing* in a 7-character string, indexed from 0 to 6:\n",
    "\n",
    "|slice    | indices     | explanation                                |\n",
    "|---------|-------------|--------------------------------------------|\n",
    "|   0:5   |0,1,2,3,4    | goes from 0 to 4 which is less than 5      |\n",
    "|   2:5   |2,3,4        | goes from 2 to 4                           |\n",
    "|   0:5:2 |0,2,4        | goes from 0 to 4, jumping from 2 to 2      |\n",
    "|   ::2   |0,2,4,6      | goes from the beginning to the end 2 by 2  |\n",
    "|   :5    |0,1,2,3,4    | goes from start to 4, which is less than 5 |\n",
    "|   3:    |3,4,5,6      | goes from 3 to the end                     |\n",
    "|   ::-1  |6,5,4,3,2,1,0| goes from the end (6) to the beginning     |\n",
    "\n",
    "See these examples applied to the string 'abcdefg':"
   ]
  },
  {
   "cell_type": "code",
   "execution_count": 8,
   "metadata": {},
   "outputs": [
    {
     "name": "stdout",
     "output_type": "stream",
     "text": [
      "s= abcdefg\n",
      "s[2:5]= cde\n",
      "s[0:5:2]= ace\n",
      "s[::2]= aceg\n",
      "s[:5]= abcde\n",
      "s[3:]= defg\n",
      "s[::-1]= gfedcba\n"
     ]
    }
   ],
   "source": [
    "s = 'abcdefg'\n",
    "print('s=',s)\n",
    "print('s[2:5]=',  s[2:5])\n",
    "print('s[0:5:2]=',s[0:5:2])\n",
    "print('s[::2]=',  s[::2])\n",
    "print('s[:5]=',   s[:5])\n",
    "print('s[3:]=',   s[3:])\n",
    "print('s[::-1]=', s[::-1])"
   ]
  },
  {
   "cell_type": "markdown",
   "metadata": {},
   "source": [
    "-----\n",
    "### Attention:\n",
    "\n",
    "     This concept of *slicing* will be essential in this course. It can be applied to strings,\n",
    "     tuples, lists and mainly in NumPy's ``ndarray``. Try to understand it fully.\n",
    "-----\n",
    "\n",
    "## Assignment to sequential types\n",
    "\n",
    "Both strings, tuples and lists can be unpacked through assignment.\n",
    "The important thing is that the mapping is consistent. Remember that the only sequence\n",
    "which is mutable, that is, can be modified by assignment is the list.\n",
    "Try studying the examples below:"
   ]
  },
  {
   "cell_type": "code",
   "execution_count": 9,
   "metadata": {},
   "outputs": [
    {
     "name": "stdout",
     "output_type": "stream",
     "text": [
      "s1: a\n",
      "s2: b\n",
      "s3: c\n",
      "list= [1, 2, 3]\n",
      "list= (8, 9, True)\n",
      "a= 9\n"
     ]
    }
   ],
   "source": [
    "s = \"abc\"\n",
    "s1,s2,s3 = s\n",
    "print('s1:',s1)\n",
    "print('s2:',s2)\n",
    "print('s3:',s3)\n",
    "list = [1,2,3]\n",
    "t = 8,9,True\n",
    "print('list=',list)\n",
    "list = t\n",
    "print('list=',list)\n",
    "(_,a,_) = t\n",
    "print('a=',a)"
   ]
  },
  {
   "cell_type": "markdown",
   "metadata": {},
   "source": [
    "## String formatting for printing\n",
    "\n",
    "A string can be formatted similar to the sprintf syntax in C/C++ in the form:\n",
    "string % tuple. We will use this model a lot to put captions on images.\n",
    "\n",
    "Examples:"
   ]
  },
  {
   "cell_type": "code",
   "execution_count": 10,
   "metadata": {},
   "outputs": [
    {
     "name": "stdout",
     "output_type": "stream",
     "text": [
      "formatação inteiro:5, float:3.200000, string:alo\n"
     ]
    }
   ],
   "source": [
    "s = 'integer formatting:%d, float:%f, string:%s' % (5, 3.2, 'alo')\n",
    "print(s)"
   ]
  },
  {
   "cell_type": "markdown",
   "metadata": {},
   "source": [
    "## Other types\n",
    "\n",
    "There are also Dictionaries and Sets, however they will not be used during this course.\n",
    "   \n",
    "\n",
    "## Dictionaries:\n",
    "\n",
    "Dictionaries can be defined as being associative lists that, instead of associating their elements,\n",
    "to numeric indexes, associates its elements with keywords.\n",
    "\n",
    "- Declaring dictionaries and performing some simple operations"
   ]
  },
  {
   "cell_type": "code",
   "execution_count": 22,
   "metadata": {},
   "outputs": [
    {
     "name": "stdout",
     "output_type": "stream",
     "text": [
      "<class 'dict'>\n",
      "{'blue': 135, 'green': 12.34, 'red': 'ocean'}\n",
      "135\n",
      "dict_keys(['blue', 'green', 'red'])\n",
      "dict_keys(['green', 'red'])\n"
     ]
    }
   ],
   "source": [
    "dict1 = {'blue':135,'green':12.34,'red':'ocean'} #defining a dictionary\n",
    "print(type(dict1))\n",
    "print(dict1)\n",
    "print(dict1['blue'])\n",
    "print(dict1.keys()) # Show the dictionary keys\n",
    "del dict1['blue'] # Deletes the element with the key 'blue'\n",
    "print(dict1.keys()) # Shows the dictionary keys after the element with the key 'blue' is deleted"
   ]
  },
  {
   "cell_type": "markdown",
   "metadata": {},
   "source": [
    "## Sets\n",
    "\n",
    "Sets are collections of elements that have no ordering and also do not present\n",
    "repeated elements.\n",
    "\n",
    "- Declaring sets and performing some simple operations"
   ]
  },
  {
   "cell_type": "code",
   "execution_count": 23,
   "metadata": {},
   "outputs": [
    {
     "name": "stdout",
     "output_type": "stream",
     "text": [
      "{'banana', 'apple', 'pear', 'orange'}\n",
      "<class 'set'>\n",
      "{'banana', 'blue', 'apple', 'green', 'pear', 'red', 'orange'}\n"
     ]
    }
   ],
   "source": [
    "list1 = ['apple', 'orange', 'apple', 'pear', 'orange', 'banana']\n",
    "list2 = ['red', 'blue', 'green','red','red']\n",
    "set1 = set(list1) # Defining a set\n",
    "set2 = set(list2)\n",
    "print(set1) # Note that repeated elements are only counted once\n",
    "print((type(set1)))\n",
    "print((set1 | set2)) # Union of 2 sets"
   ]
  },
  {
   "cell_type": "code",
   "execution_count": null,
   "metadata": {
    "collapsed": true
   },
   "outputs": [],
   "source": []
  }
 ],
 "metadata": {
  "kernelspec": {
   "display_name": "Python 3 (ipykernel)",
   "language": "python",
   "name": "python3"
  },
  "language_info": {
   "codemirror_mode": {
    "name": "ipython",
    "version": 3
   },
   "file_extension": ".py",
   "mimetype": "text/x-python",
   "name": "python",
   "nbconvert_exporter": "python",
   "pygments_lexer": "ipython3",
   "version": "3.10.12"
  },
  "toc": {
   "colors": {
    "hover_highlight": "#DAA520",
    "running_highlight": "#FF0000",
    "selected_highlight": "#FFD700"
   },
   "moveMenuLeft": true,
   "nav_menu": {
    "height": "279px",
    "width": "252px"
   },
   "navigate_menu": true,
   "number_sections": true,
   "sideBar": true,
   "threshold": 4,
   "toc_cell": true,
   "toc_section_display": "block",
   "toc_window_display": false
  }
 },
 "nbformat": 4,
 "nbformat_minor": 2
}
