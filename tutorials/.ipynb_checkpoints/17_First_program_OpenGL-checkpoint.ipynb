{
 "cells": [
  {
   "cell_type": "markdown",
   "metadata": {
    "ExecuteTime": {
     "end_time": "2020-05-10T01:54:34.654100Z",
     "start_time": "2020-05-10T01:54:34.648113Z"
    }
   },
   "source": [
    "\n",
    "# First OpenGL program\n",
    "\n",
    "This notebook presents the first steps to create an OpenGL program. The name of OpenGL functions follows the pattern 'gl + function_name'. As the objective of this course is to focus on computer graphics concepts and not on programming with OpenGL, some classes will be used throughout the course that encapsulate a large part of the OpenGL code to facilitate programming.\n",
    "\n",
    "## 1) Creating and configuring the render window\n",
    "\n",
    "When programming a graphics application, creating the rendering window is the first thing to be done. The way this window is created changes depending on the operating system (OS). To avoid having to worry about these differences between OSes, it is common to use third-party libraries that allow you to create these windows in a way that is independent of the OS. In this course, the Qt library will be used to create them. The 'main' function is where the render window is created. This function can be divided into two parts: setting the OpenGL context and creating the window itself.\n",
    "\n",
    "OpenGL works as a state machine and data from this machine is stored in the OpenGL context. The QGLFormat class is used to configure this context with the desired resources. In this first program, this context was configured to be compatible with OpenGL 3.3, only with modern functionality (Core profile) and with 'double buffer'. Double buffering is a feature that allows rendering in one framebuffer while another is used to display an already rendered image on the screen. When the rendering ends, these framebuffers change places and the one that was being viewed becomes the framebuffer where the new rendering will be carried out. Once the OpenGL context is configured, it's time to create the rendering window with the desired context.\n",
    "    \n",
    "Qt provides the QGLWidget class which has the basics for creating an OpenGL window. For this class to perform the desired rendering, it needs to be 'customized' or inherited (using object-oriented jargon). The MyWidget class is this customization, that is, it inherits all the functionality of QGLWidget and adds the desired rendering code. Basically, there are three functions (or methods) that need to be defined: initializeGL(), resizeGL(), paintGL(). Below, these three methods are detailed.\n",
    "\n",
    "## 2) Initializing rendering\n",
    "\n",
    "'initializeGL()' is called the moment the render window appears on the screen. It is during the execution of this method that the necessary initializations are made to render the desired scene.\n",
    "\n",
    "### 2.1) Defining model data\n",
    "\n",
    "In this example, it was defined that the model to be rendered consists of 2 triangles (6 vertices). Each vertex has two attributes, position and color, stored in the one-dimensional vectors 'vertex_position' and 'vertex_color', respectively. The coordinates of each attribute are composed of four components. Thus, there is a new coordinate every four values in both the 'vertex_position' vector and the 'vertex_color' vector. The position coordinate of each vertex is made up of components (x, y, z, w), in which the function of the w component will be explained throughout the course. And the color coordinate of each vertex is composed of components (R, G, B, A), where component A represents the transparency of the vertex and its use will be explained better later in the discipline.\n",
    "\n",
    "### 2.2) Loading model data into the GPU\n",
    "\n",
    "Once the model data is defined, it needs to be loaded into the GPU. To perform this task, the ‘triangleRenderer’ object was created, which belongs to the ModelRenderer class. This class receives as parameters the two vectors containing the triangle data. This class is also responsible for rendering objects, as will be seen later.\n",
    "\n",
    "### 2.3) Creating the “shader program”\n",
    "\n",
    "The shader program is the program that runs inside the GPU. To create this program you need at least the vertex shader and fragment shader codes. During program execution, these codes are compiled and linked to create the final shader program. The SimpleShaderProgram class performs this compilation procedure internally, and the vertex shader and fragment shader of this class perform no processing on the data. That is, they simply receive the data and deliver it to the next stage of the rendering pipeline. SimpleShaderProgram has as input two vertex attribute variables, position and color, and the 'address' of these variables can be retrieved through the 'getVertexPositionLoc()' and 'getVertexColorLoc()' methods, respectively.\n",
    "\n",
    "### 2.4) Specifying the model data as the “shader program” input data\n",
    "\n",
    "Using the addresses of the shader program input variables, you can specify the model data as the shader program input data. This is done through the 'setVertexPositionLoc()' and 'setVertexColorLoc()' methods of the 'triangleRenderer' object.\n",
    "\n",
    "## 3) Resizing the window\n",
    "\n",
    "The ‘resizeGL()’ method is called right after ‘initializeGL()’ and whenever the window is resized. ‘resizeGL()’ takes the current width and height of the window as parameters. The 'glViewport()' function uses these values to specify in pixels the area of the window where the rendering will be performed. This function considers that the origin of the window is in the lower left corner. In this example, ‘glViewport()’ was used to specify that rendering should occur across the entire window.\n",
    "\n",
    "## 4) Rendering the scene\n",
    "\n",
    "After the first time ‘resizeGL()’ is called, it is ‘paintGL()’’s turn. This method is used to perform the rendering itself and is called whenever the rendered scene needs to be updated. At this stage, you must first clear the framebuffer's color buffer with a default color. This procedure is used to clean up junk values or erase the previous rendering. For this, the 'glClearColor()' and 'glClear()' functions are used. With the first function, the color black (0, 0, 0, 1) is set as the background color. And the second is the function that actually clears the color buffer (specified as GL_COLOR_BUFFER_BIT) with the color that was set with 'glClearColor()'.\n",
    "\n",
    "Then the rendering procedure starts. First, you need to specify which shader program will be executed by the GPU. Although the shader program has already been created (the ‘shaderProgram’ object), it is not active on the GPU. To activate it, the ‘bind()’ method of ‘shaderProgram’ must be called. Once this is done, the triangles can be rendered by calling the 'render()' method of 'triangleRenderer'. It is during the call of this method that the rendering pipeline starts to work based on the active program shader and using the data that the 'triangleRenderer' object configured as input data. When rendering is finished, the shader program can be disabled with the 'release()' method. If the program has only one shader program, deactivating it is optional. Finally, the 'paintGL()' method is requested to be called again via the 'update()' method."
   ]
  },
  {
   "cell_type": "code",
   "execution_count": 2,
   "metadata": {
    "ExecuteTime": {
     "end_time": "2020-05-14T18:01:50.337170Z",
     "start_time": "2020-05-14T18:01:27.778200Z"
    }
   },
   "outputs": [
    {
     "ename": "ModuleNotFoundError",
     "evalue": "No module named 'OpenGL'",
     "output_type": "error",
     "traceback": [
      "\u001b[0;31m---------------------------------------------------------------------------\u001b[0m",
      "\u001b[0;31mModuleNotFoundError\u001b[0m                       Traceback (most recent call last)",
      "Cell \u001b[0;32mIn[2], line 2\u001b[0m\n\u001b[1;32m      1\u001b[0m \u001b[38;5;28;01mimport\u001b[39;00m \u001b[38;5;21;01mnumpy\u001b[39;00m \u001b[38;5;28;01mas\u001b[39;00m \u001b[38;5;21;01mnp\u001b[39;00m\n\u001b[0;32m----> 2\u001b[0m \u001b[38;5;28;01mimport\u001b[39;00m \u001b[38;5;21;01mOpenGL\u001b[39;00m\u001b[38;5;21;01m.\u001b[39;00m\u001b[38;5;21;01mGL\u001b[39;00m \u001b[38;5;28;01mas\u001b[39;00m \u001b[38;5;21;01mgl\u001b[39;00m\n\u001b[1;32m      3\u001b[0m \u001b[38;5;28;01mfrom\u001b[39;00m \u001b[38;5;21;01mPyQt5\u001b[39;00m \u001b[38;5;28;01mimport\u001b[39;00m QtOpenGL\n\u001b[1;32m      4\u001b[0m \u001b[38;5;28;01mfrom\u001b[39;00m \u001b[38;5;21;01mPyQt5\u001b[39;00m\u001b[38;5;21;01m.\u001b[39;00m\u001b[38;5;21;01mQtWidgets\u001b[39;00m \u001b[38;5;28;01mimport\u001b[39;00m QApplication\n",
      "\u001b[0;31mModuleNotFoundError\u001b[0m: No module named 'OpenGL'"
     ]
    }
   ],
   "source": [
    "import numpy as np\n",
    "import OpenGL.GL as gl\n",
    "from PyQt5 import QtOpenGL\n",
    "from PyQt5.QtWidgets import QApplication\n",
    "\n",
    "from cg.shader_programs.SimpleShaderProgram_v1 import SimpleShaderProgram\n",
    "from cg.renderers.ModelRenderer_v1 import ModelRenderer\n",
    "\n",
    "class MyWidget(QtOpenGL.QGLWidget):\n",
    "    def initializeGL(self):\n",
    "        \n",
    "        # position of each vertex of the triangles\n",
    "        vertex_position = np.array([\n",
    "            -0.90, -0.90, 0.0, 1.0, # triangle 1\n",
    "             0.85, -0.90, 0.0, 1.0,\n",
    "            -0.90,  0.85, 0.0, 1.0,\n",
    "             0.90, -0.85, 0.0, 1.0, # triangle 2\n",
    "             0.90,  0.90, 0.0, 1.0,\n",
    "            -0.85,  0.90, 0.0, 1.0],\n",
    "            dtype=np.float32)\n",
    "        \n",
    "        # color of each vertex of the triangles\n",
    "        vertex_color = np.array([\n",
    "            1.0, 0.0, 0.0, 1.0, # triangle 1\n",
    "            0.0, 1.0, 0.0, 1.0,\n",
    "            0.0, 0.0, 1.0, 1.0,\n",
    "            1.0, 0.0, 0.0, 1.0, # triangle 2\n",
    "            0.0, 1.0, 0.0, 1.0,\n",
    "            0.0, 0.0, 1.0, 1.0],\n",
    "            dtype=np.float32)\n",
    "        \n",
    "        # creates an object responsible for loading data to the GPU and rendering it\n",
    "        self.triangleRenderer = ModelRenderer(vertex_position, vertex_color=vertex_color)\n",
    "        \n",
    "        # create a simple shader program\n",
    "        self.shaderProgram = SimpleShaderProgram()\n",
    "\n",
    "        # retrieves the addresses of the shader program's input variables\n",
    "        position_loc = self.shaderProgram.getVertexPositionLoc()\n",
    "        color_loc = self.shaderProgram.getVertexColorLoc()\n",
    "        \n",
    "        # configures the model data to be the input data of the shader program\n",
    "        self.triangleRenderer.setVertexPositionLoc(position_loc)\n",
    "        self.triangleRenderer.setVertexColorLoc(color_loc)\n",
    "\n",
    "    def paintGL(self):\n",
    "        \n",
    "# configure the background color\n",
    "        gl.glClearColor(0, 0, 0, 1)\n",
    "        \n",
    "         # clear the background with the specified color\n",
    "        gl.glClear(gl.GL_COLOR_BUFFER_BIT)\n",
    "        \n",
    "         # activate the shader program that will be executed by the GPU\n",
    "        self.shaderProgram.bind()\n",
    "        \n",
    "         # start rendering triangles\n",
    "        self.triangleRenderer.render()\n",
    "        \n",
    "         # disable the shader program\n",
    "        self.shaderProgram.release()\n",
    "        \n",
    "         # request the paintGL method to be called again\n",
    "        self.update()\n",
    "\n",
    "    def resizeGL(self, width, height):\n",
    "        \n",
    "         # update the rendering area to be the entire window\n",
    "        gl.glViewport(0, 0, width, height)\n",
    "\n",
    "def main():\n",
    "    import sys\n",
    "\n",
    "#Creating a Qt application\n",
    "    app = QApplication(sys.argv)\n",
    "\n",
    "#OpenGL context specification\n",
    "    glformat = QtOpenGL.QGLFormat()\n",
    "    glformat.setVersion(3, 3)\n",
    "    glformat.setDoubleBuffer(True)\n",
    "    glformat.setProfile(QtOpenGL.QGLFormat.CoreProfile)\n",
    "    \n",
    "#Creation of the rendering window\n",
    "    w = MyWidget(glformat)\n",
    "    w.resize(640, 480)\n",
    "    w.setWindowTitle('OpenGL example')\n",
    "    w.show()\n",
    "    \n",
    "    sys.exit(app.exec_())\n",
    "\n",
    "if __name__ == '__main__':\n",
    "    main()"
   ]
  },
  {
   "cell_type": "code",
   "execution_count": null,
   "metadata": {
    "ExecuteTime": {
     "start_time": "2020-05-12T18:05:19.416Z"
    }
   },
   "outputs": [],
   "source": [
    "! jupyter nbconvert --to python 17_Primeiro_programa_OpenGL.ipynb\n",
    "%run -i 17_Primeiro_programa_OpenGL.py"
   ]
  },
  {
   "cell_type": "code",
   "execution_count": null,
   "metadata": {},
   "outputs": [],
   "source": []
  }
 ],
 "metadata": {
  "kernelspec": {
   "display_name": "Python 3 (ipykernel)",
   "language": "python",
   "name": "python3"
  },
  "language_info": {
   "codemirror_mode": {
    "name": "ipython",
    "version": 3
   },
   "file_extension": ".py",
   "mimetype": "text/x-python",
   "name": "python",
   "nbconvert_exporter": "python",
   "pygments_lexer": "ipython3",
   "version": "3.10.12"
  }
 },
 "nbformat": 4,
 "nbformat_minor": 2
}
