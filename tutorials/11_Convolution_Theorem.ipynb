{
 "cells": [
  {
   "cell_type": "markdown",
   "metadata": {},
   "source": [
    "# Convolution Theorem\n",
    "\n",
    "## Periodic convolution\n",
    "\n",
    "Before we talk about the Convolution Theorem, we need to understand periodic convolution ([pconv](../src/pconv.ipynb)). So far, we have seen linear convolution ([conv](../src/conv.ipynb) or [scipy.signal.convolve2d](https://docs.scipy.org/doc/scipy-0.16.0/reference/ generated/scipy.signal.convolve2d.html)), where the kernel $h$ has its origin in the center and the image $f$ has its origin in the top left corner. In periodic convolution, the origin of the kernel $h$ is at the origin of the image $f$. Both kernel and image are periodic, with the same period. Since the kernel $h$ is normally much smaller than the image $f$, it is padded with zeros up to the size of $f$."
   ]
  },
  {
   "cell_type": "code",
   "execution_count": 1,
   "metadata": {
    "ExecuteTime": {
     "end_time": "2020-03-10T20:30:46.459930Z",
     "start_time": "2020-03-10T20:30:45.671689Z"
    }
   },
   "outputs": [],
   "source": [
    "%matplotlib inline\n",
    "import matplotlib.pyplot as plt\n",
    "import matplotlib.image as mpimg\n",
    "import numpy as np\n",
    "from numpy.fft import *\n",
    "import sys,os\n"
   ]
  },
  {
   "cell_type": "code",
   "execution_count": 2,
   "metadata": {},
   "outputs": [
    {
     "name": "stdout",
     "output_type": "stream",
     "text": [
      "Image (f):\n",
      "[[1 0 0 0 0 0 0 0 0]\n",
      " [0 0 0 0 0 0 0 0 0]\n",
      " [0 0 0 1 0 0 0 0 0]\n",
      " [0 0 0 0 0 0 0 0 1]\n",
      " [0 0 0 0 0 0 0 0 0]]\n",
      "\n",
      " Image Kernel (h):\n",
      "[[1 2 3]\n",
      " [4 5 6]]\n"
     ]
    }
   ],
   "source": [
    "f = np.array([[1,0,0,0,0,0,0,0,0],\n",
    "             [0,0,0,0,0,0,0,0,0],\n",
    "             [0,0,0,1,0,0,0,0,0],\n",
    "             [0,0,0,0,0,0,0,0,1],\n",
    "             [0,0,0,0,0,0,0,0,0]])\n",
    "print(\"Image (f):\")\n",
    "print(f)\n",
    "    \n",
    "h = np.array([[1,2,3],\n",
    "             [4,5,6]])\n",
    "print(\"\\n Image Kernel (h):\")\n",
    "print(h)\n",
    "    "
   ]
  },
  {
   "cell_type": "markdown",
   "metadata": {},
   "source": [
    "## Convolution theorem\n",
    "\n",
    "The convolution theorem says that\n",
    "$$ F(f * g) = F(f) \\cdot F(g) $$\n",
    "$$ F(f\\cdot g) = F(f) * F(g) $$"
   ]
  },
  {
   "cell_type": "markdown",
   "metadata": {},
   "source": [
    "where $F$ indicates the Fourier transform operator, that is, $F(f)$ and $F(g)$ are the transforms of $f$ and $g$. It is important to realize that the convolution used here is periodic convolution.\n",
    "\n",
    "Let's illustrate the Convolution Theorem with a numerical example. First, let's calculate the periodic convolution of an image $f$ with a kernel $h$"
   ]
  },
  {
   "cell_type": "code",
   "execution_count": 3,
   "metadata": {},
   "outputs": [
    {
     "name": "stdout",
     "output_type": "stream",
     "text": [
      "[[-1.  -0.6 -0.2  0.2  0.6  1. ]\n",
      " [-2.  -1.2 -0.4  0.4  1.2  2. ]\n",
      " [-1.  -0.6 -0.2  0.2  0.6  1. ]\n",
      " [-1.  -0.6 -0.2  0.2  0.6  1. ]]\n"
     ]
    }
   ],
   "source": [
    "fr = np.linspace(-1,1,6)\n",
    "f  = np.array([fr,2*fr,fr,fr]) \n",
    "print(f)"
   ]
  },
  {
   "cell_type": "code",
   "execution_count": 4,
   "metadata": {},
   "outputs": [
    {
     "name": "stdout",
     "output_type": "stream",
     "text": [
      "[[-1  0  1]\n",
      " [-2  0  2]\n",
      " [-1  0  1]]\n"
     ]
    }
   ],
   "source": [
    "hh = np.array([-1,0,+1])\n",
    "h = np.array([hh,2*hh,hh])\n",
    "print(h)"
   ]
  },
  {
   "cell_type": "code",
   "execution_count": null,
   "metadata": {},
   "outputs": [],
   "source": []
  },
  {
   "cell_type": "markdown",
   "metadata": {},
   "source": [
    "Now, let's calculate the Fourier transform $F(f)$ of the image and $F(h)$ of the kernel. First of all, we need to ensure that the image $f$ and the kernel $h$ are periodic and have the same size."
   ]
  },
  {
   "cell_type": "code",
   "execution_count": 5,
   "metadata": {},
   "outputs": [
    {
     "name": "stdout",
     "output_type": "stream",
     "text": [
      "Result gg: \n",
      " [[ 6.+0.j  6.-0.j -3.-0.j -3.-0.j -3.+0.j -3.+0.j]\n",
      " [ 8.-0.j  8.-0.j -4.-0.j -4.+0.j -4.+0.j -4.+0.j]\n",
      " [10.-0.j 10.-0.j -5.-0.j -5.+0.j -5.+0.j -5.+0.j]\n",
      " [ 8.-0.j  8.-0.j -4.-0.j -4.+0.j -4.+0.j -4.+0.j]]\n"
     ]
    }
   ],
   "source": [
    "# Increasing h to the size of f\n",
    "aux = np.zeros(f.shape)\n",
    "r,c = h.shape\n",
    "aux[:r,:c] = h\n",
    "\n",
    "# Calculating the Fourier Transform of f and h\n",
    "F = fft2(f)\n",
    "H = fft2(aux)\n",
    "\n",
    "# Multiplying the Transforms\n",
    "G = F * H\n",
    "\n",
    "# Calculating the inverse transform\n",
    "gg = ifft2(G)\n",
    "\n",
    "print(\"Result gg: \\n\",np.around(gg))"
   ]
  },
  {
   "cell_type": "markdown",
   "metadata": {},
   "source": []
  },
  {
   "cell_type": "code",
   "execution_count": null,
   "metadata": {},
   "outputs": [],
   "source": []
  }
 ],
 "metadata": {
  "kernelspec": {
   "display_name": "Python 3 (ipykernel)",
   "language": "python",
   "name": "python3"
  },
  "language_info": {
   "codemirror_mode": {
    "name": "ipython",
    "version": 3
   },
   "file_extension": ".py",
   "mimetype": "text/x-python",
   "name": "python",
   "nbconvert_exporter": "python",
   "pygments_lexer": "ipython3",
   "version": "3.10.12"
  }
 },
 "nbformat": 4,
 "nbformat_minor": 2
}
