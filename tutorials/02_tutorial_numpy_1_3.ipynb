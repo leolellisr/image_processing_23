{
 "cells": [
  {
   "cell_type": "markdown",
   "metadata": {},
   "source": [
    "# Slicing in two-dimensional ndarray\n",
    "\n",
    "An important feature of numpy is slicing, in which it is possible to access parts of the array in different ways, as can be seen below:\n",
    "\n",
    "## Initializing an array and changing its shape"
   ]
  },
  {
   "cell_type": "code",
   "execution_count": 1,
   "metadata": {
    "ExecuteTime": {
     "end_time": "2018-05-16T08:44:19.524595Z",
     "start_time": "2018-05-16T08:44:19.002229Z"
    }
   },
   "outputs": [],
   "source": [
    "%matplotlib inline\n",
    "import numpy as np\n",
    "from PIL import Image"
   ]
  },
  {
   "cell_type": "code",
   "execution_count": 2,
   "metadata": {
    "ExecuteTime": {
     "end_time": "2018-05-16T08:44:20.779033Z",
     "start_time": "2018-05-16T08:44:20.773707Z"
    }
   },
   "outputs": [
    {
     "name": "stdout",
     "output_type": "stream",
     "text": [
      "[ 0  1  2  3  4  5  6  7  8  9 10 11 12 13 14 15 16 17 18 19]\n"
     ]
    }
   ],
   "source": [
    "a = np.arange(20) # a is a one-dimensional vector of 20 elements\n",
    "print(a)"
   ]
  },
  {
   "cell_type": "code",
   "execution_count": 3,
   "metadata": {
    "ExecuteTime": {
     "end_time": "2018-05-16T08:44:22.771996Z",
     "start_time": "2018-05-16T08:44:22.764026Z"
    }
   },
   "outputs": [
    {
     "name": "stdout",
     "output_type": "stream",
     "text": [
      "a.reshape(4,5) = \n",
      " [[ 0  1  2  3  4]\n",
      " [ 5  6  7  8  9]\n",
      " [10 11 12 13 14]\n",
      " [15 16 17 18 19]]\n"
     ]
    }
   ],
   "source": [
    "a = a.reshape(4,5) # a is now a 4x5 matrix (4 rows by 5 columns)\n",
    "print('a.reshape(4,5) = \\n', a)"
   ]
  },
  {
   "cell_type": "markdown",
   "metadata": {},
   "source": [
    "## Slicing rows and columns of an array\n",
    "\n",
    "The : operator indicates that all elements in that dimension must be accessed."
   ]
  },
  {
   "cell_type": "code",
   "execution_count": 4,
   "metadata": {},
   "outputs": [
    {
     "name": "stdout",
     "output_type": "stream",
     "text": [
      "The second line of the array: \n",
      " [5 6 7 8 9]\n",
      " The first column of the array: \n",
      " [ 0  5 10 15]\n"
     ]
    }
   ],
   "source": [
    "print('The second line of the array: \\n', a[1,:]) # The second line is index 1\n",
    "\n",
    "print(' The first column of the array: \\n', a[:,0]) # The first column corresponds to index 0"
   ]
  },
  {
   "cell_type": "markdown",
   "metadata": {},
   "source": [
    "## Slicing specific elements of an array"
   ]
  },
  {
   "cell_type": "code",
   "execution_count": 5,
   "metadata": {
    "ExecuteTime": {
     "end_time": "2018-05-16T08:45:11.938269Z",
     "start_time": "2018-05-16T08:45:11.917529Z"
    }
   },
   "outputs": [
    {
     "name": "stdout",
     "output_type": "stream",
     "text": [
      "Accessing the rows of the array 2 by 2 starting at index 0: \n",
      " [[ 0  1  2  3  4]\n",
      " [10 11 12 13 14]]\n",
      " Accessing the rows and columns of the array 2 by 2 starting with row 0 and column 1: \n",
      " [[ 1  3]\n",
      " [11 13]]\n"
     ]
    }
   ],
   "source": [
    "print('Accessing the rows of the array 2 by 2 starting at index 0: \\n',\n",
    "       a[0::2,:])\n",
    "\n",
    "print(' Accessing the rows and columns of the array 2 by 2 starting with row 0 and column 1: \\n',\n",
    "       a[0::2,1::2])"
   ]
  },
  {
   "cell_type": "markdown",
   "metadata": {},
   "source": [
    "## Fatiamento com índices invertidos"
   ]
  },
  {
   "cell_type": "code",
   "execution_count": 6,
   "metadata": {
    "ExecuteTime": {
     "end_time": "2018-05-16T08:45:24.748248Z",
     "start_time": "2018-05-16T08:45:24.738838Z"
    }
   },
   "outputs": [
    {
     "name": "stdout",
     "output_type": "stream",
     "text": [
      "Access the last two lines of the array in reverse order:\n",
      " [[15 16 17 18 19]\n",
      " [10 11 12 13 14]]\n",
      "Access element in the last row and column of the array:\n",
      " 19\n",
      "Reversing the order of the array rows:\n",
      " [[15 16 17 18 19]\n",
      " [10 11 12 13 14]\n",
      " [ 5  6  7  8  9]\n",
      " [ 0  1  2  3  4]]\n"
     ]
    }
   ],
   "source": [
    "print(\"Access the last two lines of the array in reverse order:\\n\",\n",
    "       a[-1:-3:-1,:])\n",
    "print(\"Access element in the last row and column of the array:\\n\",\n",
    "       a[-1,-1])\n",
    "print(\"Reversing the order of the array rows:\\n\",\n",
    "      a[::-1,:])"
   ]
  },
  {
   "cell_type": "markdown",
   "metadata": {},
   "source": [
    "# Numpy Official Documentation\n",
    "\n",
    "[Scipy.org Array Indexing Basics](https://docs.scipy.org/doc/numpy/user/basics.indexing.html)\n",
    "\n",
    "# Interesting Links\n",
    "\n",
    "[Scipy-lectures: advanced operations with slicing](http://scipy-lectures.github.io/intro/numpy/array_object.html#fancy-indexing)"
   ]
  }
 ],
 "metadata": {
  "kernelspec": {
   "display_name": "Python 3 (ipykernel)",
   "language": "python",
   "name": "python3"
  },
  "language_info": {
   "codemirror_mode": {
    "name": "ipython",
    "version": 3
   },
   "file_extension": ".py",
   "mimetype": "text/x-python",
   "name": "python",
   "nbconvert_exporter": "python",
   "pygments_lexer": "ipython3",
   "version": "3.10.12"
  },
  "toc": {
   "nav_menu": {
    "height": "158px",
    "width": "252px"
   },
   "number_sections": true,
   "sideBar": true,
   "skip_h1_title": false,
   "toc_cell": true,
   "toc_position": {},
   "toc_section_display": "block",
   "toc_window_display": false
  },
  "vscode": {
   "interpreter": {
    "hash": "31f2aee4e71d21fbe5cf8b01ff0e069b9275f58929596ceb00d14d90e3e16cd6"
   }
  }
 },
 "nbformat": 4,
 "nbformat_minor": 2
}
