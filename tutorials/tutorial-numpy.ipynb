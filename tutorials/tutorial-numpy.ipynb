{
 "cells": [
  {
   "cell_type": "markdown",
   "metadata": {},
   "source": [
    "Introdução ao NumPy \n",
    "===========\n",
    "\n",
    "O tipo *ndarray*\n",
    "--------------------\n",
    "\n",
    "\n",
    "O tipo *ndarray*, ou apenas *array* é um arranjo de itens homogêneos de dimensionalidade N, indexados por uma tupla de N inteiros. Existem 3 informações essenciais associadas ao *ndarray*: o tipo dos dados, suas dimensões e seus dados em si. A propriedade *dtype* permite saber o tipo de dados\n",
    "enquanto que *shape* é uma tupla que indica o tamanho de cada dimensão do arranjo. O acesso aos dados em si deve ser feito por indexação, por fatiamento ou pela variável em si. \n",
    "\n",
    "\n",
    "Existem várias maneiras de criar uma variável do tipo *ndarray*.\n",
    "Por exemplo, é possível criar uma a partir de uma lista (1D) ou lista de listas usando a função *array*. \n",
    "O tipo de matriz resultante é deduzida a partir do tipo de elementos nas sequências.\n",
    "\n",
    "Veja a seguir um vetor de inteiros com 5 elementos. Note que o vetor é uma linha com 5 colunas. Observe também que o shape é uma tupla de um único elemento (veja a vírgula que aparece por ser uma tupla).\n"
   ]
  },
  {
   "cell_type": "code",
   "execution_count": 65,
   "metadata": {
    "collapsed": false
   },
   "outputs": [
    {
     "name": "stdout",
     "output_type": "stream",
     "text": [
      "Dimensões: a.shape= (5,)\n",
      "Tipo dos elementos: a.dtype= int64\n",
      "Imprimindo o array completo:\n",
      " a= [ 2  3  4 -1 -2]\n"
     ]
    }
   ],
   "source": [
    "import numpy as np\n",
    "a = np.array( [2,3,4,-1,-2] )\n",
    "print('Dimensões: a.shape=', a.shape )\n",
    "print('Tipo dos elementos: a.dtype=', a.dtype )\n",
    "print('Imprimindo o array completo:\\n a=',a )"
   ]
  },
  {
   "cell_type": "markdown",
   "metadata": {},
   "source": [
    "Veja a seguir uma matriz bidimensional de dados ponto flutuante de 2 linhas e 3 colunas. Observe que a tupla do shape aumenta para a esquerda,\n",
    "isto é, se eu tiver um vetor de 3 elementos, o seu shape é (3,) e se uma nova dimensão for adicionada, por exemplo 2 linhas e 3 colunas, o\n",
    "shape passa a ser (3,2). O que antes shape[0] no vetor unidimensional era colunas, já na matriz bidimensional shape[0] passou a ser o número\n",
    "de linhas.\n",
    "Assim o último elemento da tupla do ``shape`` indica o número de colunas, a penúltima o número de linhas. Assim se quisermos sempre buscar\n",
    "o número de colunas, independentemente do número de dimensões, shape[-1] informa sempre o número de colunas, shape[-2], o número de linhas."
   ]
  },
  {
   "cell_type": "code",
   "execution_count": 66,
   "metadata": {
    "collapsed": false
   },
   "outputs": [
    {
     "name": "stdout",
     "output_type": "stream",
     "text": [
      "Um array bidimensional, dimensões:(b.shape= (2, 3)\n",
      "Tipo dos elementos: b.dtype float64\n",
      "Número de colunas: 3\n",
      "Número de linhas: 2\n",
      "Elementos, b=\n",
      " [[ 1.5  2.3  5.2]\n",
      " [ 4.2  5.6  4.4]]\n"
     ]
    }
   ],
   "source": [
    "b = np.array( [ [1.5, 2.3, 5.2],\n",
    "                [4.2, 5.6, 4.4] ] )\n",
    "print('Um array bidimensional, dimensões:(b.shape=', b.shape )\n",
    "print('Tipo dos elementos: b.dtype', b.dtype )\n",
    "print('Número de colunas:', b.shape[-1] )\n",
    "print('Número de linhas:', b.shape[-2] )\n",
    "print('Elementos, b=\\n', b )"
   ]
  },
  {
   "cell_type": "markdown",
   "metadata": {},
   "source": [
    "Manipulação de arrays\n",
    "=====================\n",
    "\n",
    "Criando arrays inicializados\n",
    "-------------------------------\n",
    "\n",
    "É possível criar arrays de zeros, uns ou valores não inicializados usando as funções *zeros*, *ones* ou *empty*. As dimensões\n",
    "do array são obrigatórias e é dado por uma tupla e o tipo dos elementos é opcional, sendo que o default é tipo float. \n",
    "\n",
    "O código a seguir cria 3 arrays. O primeiro possui 2 linhas e 4 colunas. O segundo tem 3 dimensões: 3 fatias (ou imagens) onde cada\n",
    "uma tem 2 linhas e 5 colunas. Por último, é criado uma matriz booleana (True e False) de valores não inicializados \n",
    "de 2 linhas e 3 colunas. A vantagem do *empty* é que ele é mais rápido que o *zeros* ou *ones*. No caso abaixo, os valores\n",
    "mostrados na matrix criada pelo *empty* são aleatórios."
   ]
  },
  {
   "cell_type": "code",
   "execution_count": 67,
   "metadata": {
    "collapsed": false
   },
   "outputs": [
    {
     "name": "stdout",
     "output_type": "stream",
     "text": [
      "Array de 0s: \n",
      " [[ 0.  0.  0.  0.]\n",
      " [ 0.  0.  0.  0.]]\n",
      "\n",
      "\n",
      "Array de 1s: \n",
      " [[[1 1 1 1 1]\n",
      "  [1 1 1 1 1]]\n",
      "\n",
      " [[1 1 1 1 1]\n",
      "  [1 1 1 1 1]]\n",
      "\n",
      " [[1 1 1 1 1]\n",
      "  [1 1 1 1 1]]]\n",
      "Array não inicializado (vazio):\n",
      " [[False False False]\n",
      " [False False False]]\n"
     ]
    }
   ],
   "source": [
    "d = np.zeros( (2,4) )\n",
    "print('Array de 0s: \\n', d )\n",
    "\n",
    "d = np.ones( (3,2,5), dtype='int16' )    \n",
    "print('\\n\\nArray de 1s: \\n', d )\n",
    "\n",
    "d = np.empty( (2,3), 'bool' )\n",
    "print('Array não inicializado (vazio):\\n', d )"
   ]
  },
  {
   "cell_type": "markdown",
   "metadata": {},
   "source": [
    "Note que o Numpy permite arrays n-dimensionais. Em imagens em níveis de cinza iremos trabalhar com matrizes bidimensionais mas\n",
    "se a imagem for colorida, iremos representá-la em 3 canais, R, G e B, representados na estrutura com 3 dimensões. \n",
    "Se for um vídeo, isto é, uma sequência de imagens, teremos que adicionar mais uma dimensão. \n",
    "Se for uma tomografia, também podemos representar em 3 dimensões: largura, altura e profundidade.\n",
    "    \n",
    "Criando arrays com valores sequenciais\n",
    "=======================================\n",
    "\n",
    "As funções *arange* e *linspace* geram um vetor sequencial. Eles diferem apenas nos parâmetros. Enquanto o *arange* gera uma sequência a partir dos valores inicial (includente e opcional), final( excludente) e passo (opcional), *linspace* gera uma sequência com valores inicial e final e número de elementos. Note as diferenças nos exemplos a seguir:\n"
   ]
  },
  {
   "cell_type": "code",
   "execution_count": 68,
   "metadata": {
    "collapsed": false
   },
   "outputs": [
    {
     "name": "stdout",
     "output_type": "stream",
     "text": [
      "np.arange( 10) =  [0 1 2 3 4 5 6 7 8 9]\n",
      "np.arange( 3, 8) =  [3 4 5 6 7]\n",
      "np.arange( 0, 2, 0.5) =  [ 0.   0.5  1.   1.5]\n",
      "np.linspace( 0, 2, 5 ) =  [ 0.   0.5  1.   1.5  2. ]\n"
     ]
    }
   ],
   "source": [
    "print('np.arange( 10) = ', np.arange(10) )\n",
    "print('np.arange( 3, 8) = ', np.arange(3,8) )\n",
    "print('np.arange( 0, 2, 0.5) = ', np.arange(0, 2, 0.5) )\n",
    "print('np.linspace( 0, 2, 5 ) = ', np.linspace( 0, 2, 5 ) )"
   ]
  },
  {
   "cell_type": "markdown",
   "metadata": {},
   "source": [
    "Veja que no último caso, usando o linspace, a sequência começa em 0 e termina em 2 e deve possuir 5 elementos. Veja que\n",
    "para isto o passo a ser utilizado será 0.5, calculado automaticamente. Já no exemplo anterior, a sequência começa em 0 e deve terminar antes de 2 e o passo é 0.5. \n"
   ]
  },
  {
   "cell_type": "markdown",
   "metadata": {
    "collapsed": true
   },
   "source": [
    "Fatiamento em narray unidimensional\n",
    "======================================\n",
    "\n",
    "\n",
    "Um recurso importante do numpy é o fatiamento no qual é possível acessar\n",
    "um subconjunto do array de diversas formas. O fatiamento define os índices\n",
    "onde o array será acessado definindo o ponto inicial, final e o passo entre\n",
    "eles, nesta ordem: [inicial:final:passo].\n",
    "\n",
    "Inicializando um array unidimensional\n",
    "========================================\n"
   ]
  },
  {
   "cell_type": "code",
   "execution_count": 69,
   "metadata": {
    "collapsed": false
   },
   "outputs": [
    {
     "name": "stdout",
     "output_type": "stream",
     "text": [
      "a = \n",
      " [ 0  1  2  3  4  5  6  7  8  9 10 11 12 13 14 15 16 17 18 19]\n"
     ]
    }
   ],
   "source": [
    "a = np.arange(20) # a é um vetor de dimensão 20\n",
    "print('a = \\n', a )"
   ]
  },
  {
   "cell_type": "markdown",
   "metadata": {},
   "source": [
    "Exemplo simples de fatiamento\n",
    "===============================\n",
    "\n",
    "Para a realização do fatiamento são utilizados 3 parâmetros, colocados no local do índice do array.\n",
    "Os 3 parâmetros são separados por dois pontos \":\". Todos os 3 parâmetros podem ser opcionais que ocorrem\n",
    "quando o valor inicial é 0, o valor final é o tamanho do array e o passo é 1. Lembrar que a ordem deles \n",
    "é: [inicial:final:passo]. Se o passo for 1 fica: [inicial:final]. Se o início for 0 fica: [:final] e se\n",
    "o final for o último fica: [inicio:] e se forem todos [:].\n",
    "\n",
    "O fatiamento é feito começando pelo primeiro valor, adicionando-se o passo até antes do último valor. Três\n",
    "aspectos são extremamente importantes de serem lembrados: O índice inicial começa em zero, o índice final\n",
    "nunca é atingido, o último índice utilizado é sempre o imediatamente anterior e o Numpy admite índices negativos, que\n",
    "é uma indexação do último (-1) até o primeiro elemento (-W).\n",
    "\n",
    "Os exemplos a seguir ajudam a fixar estes conceitos.\n",
    "\n",
    "O código abaixo acessa os elementos ímpares começando de 1 até 14:"
   ]
  },
  {
   "cell_type": "code",
   "execution_count": 70,
   "metadata": {
    "collapsed": false
   },
   "outputs": [
    {
     "name": "stdout",
     "output_type": "stream",
     "text": [
      "Resultado da operação a[1:15:2]\n",
      "[ 1  3  5  7  9 11 13]\n"
     ]
    }
   ],
   "source": [
    "a = np.arange(20)\n",
    "print('Resultado da operação a[1:15:2]' )\n",
    "print(a[1:15:2]  )"
   ]
  },
  {
   "cell_type": "markdown",
   "metadata": {},
   "source": [
    "Exemplo de fatiamento com indices negativos\n",
    "=============================================\n",
    "\n",
    "Acessando o último elemento com índice negativo\n",
    "-----------------------------------------------------------------------------\n",
    "\n",
    "O código abaixo acessa os elementos ímpares até antes do último elemento:"
   ]
  },
  {
   "cell_type": "code",
   "execution_count": 71,
   "metadata": {
    "collapsed": false
   },
   "outputs": [
    {
     "name": "stdout",
     "output_type": "stream",
     "text": [
      "Resultado da operação a[1:-1:2]\n",
      "[ 1  3  5  7  9 11 13 15 17]\n",
      "Note que o fatiamento termina antes do último elemento (-1)\n"
     ]
    }
   ],
   "source": [
    "a = np.arange(20)\n",
    "print('Resultado da operação a[1:-1:2]' )\n",
    "print(a[1:-1:2] )\n",
    "print('Note que o fatiamento termina antes do último elemento (-1)'  )"
   ]
  },
  {
   "cell_type": "markdown",
   "metadata": {},
   "source": [
    "Inversão do array com step negativo (step = -1)\n",
    "------------------------------------------------------"
   ]
  },
  {
   "cell_type": "code",
   "execution_count": 72,
   "metadata": {
    "collapsed": false
   },
   "outputs": [
    {
     "name": "stdout",
     "output_type": "stream",
     "text": [
      "Resultado da operação a[-3:2:-1]\n",
      "[17 16 15 14 13 12 11 10  9  8  7  6  5  4  3]\n",
      "Note que o fatiamento retorna o array invertido\n",
      "Antepenúltimo até o terceiro elemento com step = -1\n"
     ]
    }
   ],
   "source": [
    "a = np.arange(20)\n",
    "print('Resultado da operação a[-3:2:-1]' )\n",
    "print(a[-3:2:-1] )\n",
    "print( 'Note que o fatiamento retorna o array invertido' )\n",
    "print( 'Antepenúltimo até o terceiro elemento com step = -1' )"
   ]
  },
  {
   "cell_type": "markdown",
   "metadata": {},
   "source": [
    "Fatiamento avançado\n",
    "========================================\n",
    "\n",
    "É possível realizar o fatiamento utilizando os 3 parâmetros explícitos\n",
    "( o limite inferior, limite superior e o step), ou podemos suprimir algum \n",
    "desses parâmetros. Nestes casos a função toma o valor defaut: limite \n",
    "inferior = primeiro elemento, limite superior = último elemento e step = 1.\n",
    "\n",
    "\n",
    "|Proposta inicial     | Equivalente |\n",
    "|---------------------|-------------|\n",
    "|a[0:len(a):1]        | a[:]        |\n",
    "|a[0:10:1]            | a[:10]      |\n",
    "|a[0:10:2]            | a[:10:2]    |\n",
    "|a[2:len(a):1]        | a[2::]      |\n",
    "|a[2:len(a):2]        | a[2::2]     |\n",
    "\n",
    "\n",
    "Supressão do indice limite inferior\n",
    "----------------------------------------------\n",
    "\n",
    "Quando o índice do limite inferior é omitido, é subentendido que é 0:"
   ]
  },
  {
   "cell_type": "code",
   "execution_count": 73,
   "metadata": {
    "collapsed": false
   },
   "outputs": [
    {
     "name": "stdout",
     "output_type": "stream",
     "text": [
      "Resultado da operação a[:15:2]\n",
      "[ 0  2  4  6  8 10 12 14]\n",
      "Note que o fatiamento inicia do primeiro elemento\n",
      "Primeiro elemento até antes do 15o com passo duplo\n"
     ]
    }
   ],
   "source": [
    "a = np.arange(20)\n",
    "print('Resultado da operação a[:15:2]' )\n",
    "print(a[:15:2] )\n",
    "print('Note que o fatiamento inicia do primeiro elemento' )\n",
    "print('Primeiro elemento até antes do 15o com passo duplo' )"
   ]
  },
  {
   "cell_type": "markdown",
   "metadata": {},
   "source": [
    "Supressão do indice limite superior\n",
    "----------------------------------------------\n",
    "\n",
    "Quando o índice do limite superior é omitido, fica implícito \n",
    "que é o último elemento:"
   ]
  },
  {
   "cell_type": "code",
   "execution_count": 74,
   "metadata": {
    "collapsed": false
   },
   "outputs": [
    {
     "name": "stdout",
     "output_type": "stream",
     "text": [
      "Resultado da operação a[1::2]\n",
      "[ 1  3  5  7  9 11 13 15 17 19]\n",
      "Note que o fatiamento termina último elemento\n",
      "Primeiro elemento até o último com passo duplo\n"
     ]
    }
   ],
   "source": [
    "a = np.arange(20)\n",
    "print('Resultado da operação a[1::2]' )\n",
    "print(a[1::2] )\n",
    "print('Note que o fatiamento termina último elemento' )\n",
    "print('Primeiro elemento até o último com passo duplo' )"
   ]
  },
  {
   "cell_type": "markdown",
   "metadata": {},
   "source": [
    "Supressão do indice do step\n",
    "---------------------------\n",
    "\n",
    "O índice do step é opcional e quando não é indicado, seu valor é 1:"
   ]
  },
  {
   "cell_type": "code",
   "execution_count": 75,
   "metadata": {
    "collapsed": false
   },
   "outputs": [
    {
     "name": "stdout",
     "output_type": "stream",
     "text": [
      "Resultado da operação a[1:15]\n",
      "[ 1  2  3  4  5  6  7  8  9 10 11 12 13 14]\n",
      "Note que o fatiamento tem step unitário\n",
      "Primeiro elemento até antes do 15o com passo um\n"
     ]
    }
   ],
   "source": [
    "a = np.arange(20)\n",
    "print('Resultado da operação a[1:15]' )\n",
    "print(a[1:15] )\n",
    "print('Note que o fatiamento tem step unitário' )\n",
    "print('Primeiro elemento até antes do 15o com passo um' )"
   ]
  },
  {
   "cell_type": "markdown",
   "metadata": {},
   "source": [
    "Todos os elementos com passo unitário\n",
    "----------------------------------------------------"
   ]
  },
  {
   "cell_type": "code",
   "execution_count": 76,
   "metadata": {
    "collapsed": false
   },
   "outputs": [
    {
     "name": "stdout",
     "output_type": "stream",
     "text": [
      "Resultado da operação a[:]\n",
      "[ 0  1  2  3  4  5  6  7  8  9 10 11 12 13 14 15 16 17 18 19]\n",
      "Todos os elementos com passo unitário\n"
     ]
    }
   ],
   "source": [
    "a = np.arange(20)\n",
    "print('Resultado da operação a[:]' )\n",
    "print(a[:]  )\n",
    "print('Todos os elementos com passo unitário' )"
   ]
  },
  {
   "cell_type": "markdown",
   "metadata": {},
   "source": [
    "Fatiamento no ndarray bidimensional\n",
    "======================================\n",
    "\n",
    "Um recurso importante do numpy é o fatiamento no qual é possível acessar\n",
    "partes do array de diversas formas, como pode ser visto abaixo:\n",
    "\n",
    "Inicializando um array e mudando o seu shape\n",
    "---------------------------------------------------"
   ]
  },
  {
   "cell_type": "code",
   "execution_count": 77,
   "metadata": {
    "collapsed": false
   },
   "outputs": [
    {
     "name": "stdout",
     "output_type": "stream",
     "text": [
      "a = \n",
      " [ 0  1  2  3  4  5  6  7  8  9 10 11 12 13 14 15 16 17 18 19]\n",
      "a.reshape(4,5) = \n",
      " [[ 0  1  2  3  4]\n",
      " [ 5  6  7  8  9]\n",
      " [10 11 12 13 14]\n",
      " [15 16 17 18 19]]\n"
     ]
    }
   ],
   "source": [
    "a = np.arange(20) # a é um vetor unidimensional de 20 elementos\n",
    "print('a = \\n', a )\n",
    "\n",
    "a = a.reshape(4,5) # a agora é um array 4x5 (4 linhas por 5 colunas)\n",
    "print('a.reshape(4,5) = \\n', a )"
   ]
  },
  {
   "cell_type": "markdown",
   "metadata": {},
   "source": [
    "Fatiamento de linhas e colunas de um array\n",
    "--------------------------------------------------\n",
    "\n",
    "O operador **:** indica que todos os elementos naquela dimensão devem ser acessados."
   ]
  },
  {
   "cell_type": "code",
   "execution_count": 78,
   "metadata": {
    "collapsed": false
   },
   "outputs": [
    {
     "name": "stdout",
     "output_type": "stream",
     "text": [
      "A segunda linha do array: \n",
      " [5 6 7 8 9]\n",
      " A primeira coluna do array: \n",
      " [ 0  5 10 15]\n"
     ]
    }
   ],
   "source": [
    "print('A segunda linha do array: \\n', a[1,:] )  # A segunda linha é o índice 1\n",
    "\n",
    "print(' A primeira coluna do array: \\n', a[:,0] ) # A primeira coluna corresponde ao índice 0"
   ]
  },
  {
   "cell_type": "markdown",
   "metadata": {},
   "source": [
    "Fatiamento de elementos específicos de um array\n",
    "------------------------------------------------------"
   ]
  },
  {
   "cell_type": "code",
   "execution_count": 79,
   "metadata": {
    "collapsed": false
   },
   "outputs": [
    {
     "name": "stdout",
     "output_type": "stream",
     "text": [
      "Acessando as linhas do array de 2 em 2 começando pelo índice 0: \n",
      " [[ 0  1  2  3  4]\n",
      " [10 11 12 13 14]]\n",
      " Acessando as linhas e colunas do array de 2 em 2 começando pela linha 0 e coluna 1: \n",
      " [[ 1  3]\n",
      " [11 13]]\n"
     ]
    }
   ],
   "source": [
    "print('Acessando as linhas do array de 2 em 2 começando pelo índice 0: \\n', a[0::2,:]  )\n",
    "\n",
    "print(' Acessando as linhas e colunas do array de 2 em 2 começando \\\n",
    "pela linha 0 e coluna 1: \\n', a[0::2,1::2] )"
   ]
  },
  {
   "cell_type": "markdown",
   "metadata": {},
   "source": [
    "Fatiamento com índices invertidos\n",
    "--------------------------------------"
   ]
  },
  {
   "cell_type": "code",
   "execution_count": 80,
   "metadata": {
    "collapsed": false
   },
   "outputs": [
    {
     "name": "stdout",
     "output_type": "stream",
     "text": [
      "Acesso as duas últimas linhas do array em ordem reversa, b = a[-1:-3:-1,:] = \n",
      " [[15 16 17 18 19]\n",
      " [10 11 12 13 14]]\n",
      "Acesso elemento na última linha e coluna do array, a[-1,-1] = 19\n",
      "Invertendo a ordem das linhas do array: c = a[::-1,:] = \n",
      " [[15 16 17 18 19]\n",
      " [10 11 12 13 14]\n",
      " [ 5  6  7  8  9]\n",
      " [ 0  1  2  3  4]]\n"
     ]
    }
   ],
   "source": [
    "b = a[-1:-3:-1,:]\n",
    "print('Acesso as duas últimas linhas do array em ordem reversa, \\\n",
    "b = a[-1:-3:-1,:] = \\n',a[-1:-3:-1,:] )\n",
    "\n",
    "print('Acesso elemento na última linha e coluna do array, a[-1,-1] =', a[-1,-1] )\n",
    "\n",
    "c = a[::-1,:]\n",
    "print('Invertendo a ordem das linhas do array: c = a[::-1,:] = \\n', a[::-1,:] )"
   ]
  },
  {
   "cell_type": "markdown",
   "metadata": {},
   "source": [
    "Copiando variáveis *ndarray*\n",
    "=================\n",
    "\n",
    "\n",
    "O *ndarray* foi projetado para acesso otimizado a uma grande quantidade de dados. Neste sentido, os conceitos\n",
    "descritos a seguir sobre as três formas de cópias entre variáveis ditas sem cópia, cópia rasa (*shallow*) e\n",
    "cópia profunda (*deep*) são fundamentais para uma codificação eficiente. Podemos dizer que um *ndarray* possui\n",
    "o cabeçalho que contém dados pelas informações sobre o tipo do elemento, a dimensionalidade (*shape*) e \n",
    "passo ou deslocamento para o próximo elemento (*strides*) e os dados raster em si. A tabela\n",
    "a seguir mostra a situação do cabeçalho e dos dados nos três tipos de cópias.\n",
    "\n",
    "|Tipo                 | Cabeçalho:Type,Shape,Strides|Dados raster      | Exemplo    |\n",
    "|---------------------|-----------------------------|------------------|------------|\n",
    "|Sem cópia, apenas ref| apontador original          |apontador original| a = b      |\n",
    "|Cópia rasa           | novo                        |apontador original|b=a.reshape |\n",
    "|                     |                             |                  |slicing, a.T|\n",
    "|Cópia profunda       | novo                        |novo              |a = b.copy()|\n",
    "\n",
    "Sem cópia explícita, apenas referência\n",
    "======================================\n",
    "\n",
    "No caso abaixo, usaremos o comando normal de igual como atribuição do array *a* para o array *b*.\n",
    "Verifica-se que tanto o shape como os dados de *b* são os mesmos de *a*. Tudo se passa como *b*\n",
    "fosse apenas um apontador para *a*. Qualquer modificação em *b* é refletida em *a*. "
   ]
  },
  {
   "cell_type": "code",
   "execution_count": 81,
   "metadata": {
    "collapsed": false
   },
   "outputs": [
    {
     "name": "stdout",
     "output_type": "stream",
     "text": [
      "a =\n",
      " [0 1 2 3 4 5]\n",
      "b =\n",
      " [0 1 2 3 4 5]\n",
      "\n",
      "a shape = (2, 3)\n",
      "a =\n",
      " [[-1  1  2]\n",
      " [ 3  4  5]]\n",
      "\n",
      "id de a =  4763474800\n",
      "id de b =  4763474800\n",
      "np.may_share_memory(a,b): True\n"
     ]
    }
   ],
   "source": [
    "a = np.arange(6) \n",
    "b = a\n",
    "print(\"a =\\n\",a )\n",
    "print(\"b =\\n\",b )\n",
    "b.shape = (2,3)                             # mudança no shape de b,\n",
    "print(\"\\na shape =\",a.shape )               # altera o shape de a\n",
    "\n",
    "b[0,0] = -1                                 # mudança no conteúdo de b\n",
    "print(\"a =\\n\",a )                           # altera o conteudo de a  \n",
    "\n",
    "print(\"\\nid de a = \",id(a) )                # id é um identificador único de objeto\n",
    "print(\"id de b = \",id(b) )                  # a e b possuem o mesmo id\n",
    "\n",
    "print('np.may_share_memory(a,b):',np.may_share_memory(a,b) )"
   ]
  },
  {
   "cell_type": "markdown",
   "metadata": {},
   "source": [
    "Observe que mesmo no retorno de uma função, a cópia explícita pode não acontecer. Veja o exemplo a\n",
    "seguir de uma função que apenas retorna a variável de entrada:"
   ]
  },
  {
   "cell_type": "code",
   "execution_count": 82,
   "metadata": {
    "collapsed": false
   },
   "outputs": [
    {
     "name": "stdout",
     "output_type": "stream",
     "text": [
      "id de a =  4763474800\n",
      "id de b =  4763474800\n",
      "np.may_share_memory(a,b): True\n"
     ]
    }
   ],
   "source": [
    "def cc(a):\n",
    "  return a\n",
    "b = cc(a)\n",
    "print(\"id de a = \",id(a) )\n",
    "print(\"id de b = \",id(b) )\n",
    "print('np.may_share_memory(a,b):',np.may_share_memory(a,b) )"
   ]
  },
  {
   "cell_type": "markdown",
   "metadata": {},
   "source": [
    "Cópia rasa\n",
    "==========\n",
    "\n",
    "A cópia rasa é muito útil e extensivamente utilizada. É usada quando se quer indexar o array original \n",
    "através da mudança de dimensionalidade ou do \n",
    "refatiamento, porém sem a necessidade de realizar uma cópia dos dados raster. Desta forma consegue-se\n",
    "uma otimização no acesso ao array n-dimensional. Existem várias formas onde a cópia rasa acontece,\n",
    "sendo as principais:\n",
    "1) no caso do *reshape* onde o número de elementos do *ndarray* é o mesmo, porém sua dimensionalidade\n",
    "é alterada; 2) no caso de fatiamento onde um subarray é indexado; 3) no caso de transposição do array;\n",
    "4) no caso de linearização do raster através do *ravel()*.\n",
    "entre outros.\n",
    "\n",
    "Reshape\n",
    "-------\n",
    "\n",
    "O exemplo a seguir mostra inicialmente a criação de um vetor unidimensional sequencial sendo \"visto\" de\n",
    "forma bidimensional ou tridimensional."
   ]
  },
  {
   "cell_type": "code",
   "execution_count": 83,
   "metadata": {
    "collapsed": false
   },
   "outputs": [
    {
     "name": "stdout",
     "output_type": "stream",
     "text": [
      "a =\n",
      " [ 0  1  2  3  4  5  6  7  8  9 10 11 12 13 14 15 16 17 18 19 20 21 22 23 24\n",
      " 25 26 27 28 29]\n",
      "b =\n",
      " [[ 0  1  2  3  4  5]\n",
      " [ 6  7  8  9 10 11]\n",
      " [12 13 14 15 16 17]\n",
      " [18 19 20 21 22 23]\n",
      " [24 25 26 27 28 29]]\n",
      "a =\n",
      " [-1  1  2  3  4  5 -1  7  8  9 10 11 -1 13 14 15 16 17 -1 19 20 21 22 23 -1\n",
      " 25 26 27 28 29]\n",
      "c =\n",
      " [[[-1  1  2  3  4]\n",
      "  [ 5 -1  7  8  9]\n",
      "  [10 11 -1 13 14]]\n",
      "\n",
      " [[15 16 17 -1 19]\n",
      "  [20 21 22 23 -1]\n",
      "  [25 26 27 28 29]]]\n",
      "c.base is a: True\n",
      "np.may_share_memory(a,c): True\n"
     ]
    }
   ],
   "source": [
    "a = np.arange(30)\n",
    "print(\"a =\\n\", a )\n",
    "b = a.reshape( (5, 6))\n",
    "print(\"b =\\n\", b )\n",
    "b[:, 0] = -1\n",
    "print(\"a =\\n\", a )\n",
    "c = a.reshape( (2, 3, 5) )\n",
    "print(\"c =\\n\", c )\n",
    "print('c.base is a:',c.base is a )\n",
    "print('np.may_share_memory(a,c):',np.may_share_memory(a,c) )"
   ]
  },
  {
   "cell_type": "markdown",
   "metadata": {},
   "source": [
    "Slice - Fatiamento\n",
    "------------------\n",
    "\n",
    "O exemplo a seguir mostra a cópia rasa no uso de fatiamento. No exemplo, todos os elementos de linhas\n",
    "e colunas pares são modificados para 1. CUIDADO: quando é feita a atribuição de b = 1., é importante\n",
    "que b seja referenciado como ndarray na forma b[:,:], caso contrário, se fizermos b = 1., uma nova \n",
    "variável é criada."
   ]
  },
  {
   "cell_type": "code",
   "execution_count": 84,
   "metadata": {
    "collapsed": false
   },
   "outputs": [
    {
     "name": "stdout",
     "output_type": "stream",
     "text": [
      "<class 'numpy.ndarray'> (5, 6) float64 0.0 0.0\n",
      "<class 'numpy.ndarray'> (3, 3) float64 0.0 0.0\n",
      "b=\n",
      " [[ 1.  1.  1.]\n",
      " [ 1.  1.  1.]\n",
      " [ 1.  1.  1.]]\n",
      "a=\n",
      " [[ 1.  0.  1.  0.  1.  0.]\n",
      " [ 0.  0.  0.  0.  0.  0.]\n",
      " [ 1.  0.  1.  0.  1.  0.]\n",
      " [ 0.  0.  0.  0.  0.  0.]\n",
      " [ 1.  0.  1.  0.  1.  0.]]\n",
      "b.base is a: True\n",
      "np.may_share_memory(a,b): True\n"
     ]
    }
   ],
   "source": [
    "a = np.zeros( (5, 6))\n",
    "print('%s %s %s %s %s' % (type(a), np.shape(a), a.dtype, a.min(), a.max()) )\n",
    "b = a[::2,::2]\n",
    "print('%s %s %s %s %s' % (type(b), np.shape(b), b.dtype, b.min(), b.max()) )\n",
    "b[:,:] = 1.\n",
    "print('b=\\n', b )\n",
    "print('a=\\n', a )\n",
    "print('b.base is a:',b.base is a )\n",
    "print('np.may_share_memory(a,b):',np.may_share_memory(a,b) )"
   ]
  },
  {
   "cell_type": "markdown",
   "metadata": {},
   "source": [
    "Este outro exemplo é uma forma atraente de processar uma coluna de uma matriz bidimensional,\n",
    "porém é preciso CUIDADO, pois o uso de b deve ser com b[:] se for atribuído um novo valor para\n",
    "ele, caso contrário, se fizermos b = arange(5), uma nova variável é criada."
   ]
  },
  {
   "cell_type": "code",
   "execution_count": 85,
   "metadata": {
    "collapsed": false
   },
   "outputs": [
    {
     "name": "stdout",
     "output_type": "stream",
     "text": [
      "a=\n",
      " [[ 0  1  2  3  4]\n",
      " [ 5  6  7  8  9]\n",
      " [10 11 12 13 14]\n",
      " [15 16 17 18 19]\n",
      " [20 21 22 23 24]]\n",
      "b= [ 0  5 10 15 20]\n",
      "b= [0 1 2 3 4]\n",
      "a=\n",
      " [[ 0  1  2  3  4]\n",
      " [ 1  6  7  8  9]\n",
      " [ 2 11 12 13 14]\n",
      " [ 3 16 17 18 19]\n",
      " [ 4 21 22 23 24]]\n"
     ]
    }
   ],
   "source": [
    "a = np.arange(25).reshape((5,5))\n",
    "print('a=\\n',a )\n",
    "b = a[:,0]\n",
    "print('b=',b )\n",
    "b[:] = np.arange(5)\n",
    "print('b=',b )\n",
    "print('a=\\n',a  )"
   ]
  },
  {
   "cell_type": "markdown",
   "metadata": {},
   "source": [
    "Transposto\n",
    "----------\n",
    "\n",
    "A operação matricial de transposição que troca linhas por colunas produz também um *view* \n",
    "da imagem, sem necessidade de cópia:"
   ]
  },
  {
   "cell_type": "code",
   "execution_count": 86,
   "metadata": {
    "collapsed": false
   },
   "outputs": [
    {
     "name": "stdout",
     "output_type": "stream",
     "text": [
      "a:\n",
      " [[ 0  1  2  3  4  5]\n",
      " [ 6  7  8  9 10 11]\n",
      " [12 13 14 15 16 17]\n",
      " [18 19 20 21 22 23]]\n",
      "a.T:\n",
      " [[ 0  6 12 18]\n",
      " [ 1  7 13 19]\n",
      " [ 2  8 14 20]\n",
      " [ 3  9 15 21]\n",
      " [ 4 10 16 22]\n",
      " [ 5 11 17 23]]\n",
      "np.may_share_memory(a,a.T): True\n"
     ]
    }
   ],
   "source": [
    "a = np.arange(24).reshape((4,6))\n",
    "print('a:\\n',a )\n",
    "print('a.T:\\n',a.T )\n",
    "print('np.may_share_memory(a,a.T):',np.may_share_memory(a,a.T) )"
   ]
  },
  {
   "cell_type": "markdown",
   "metadata": {},
   "source": [
    "Ravel\n",
    "-------\n",
    "\n",
    "Aplicando-se o método *ravel()* a um *ndarray*, gera-se um *view* do raster\n",
    "linearizado (i.e. uma única dimensão) do *ndarray*."
   ]
  },
  {
   "cell_type": "code",
   "execution_count": 87,
   "metadata": {
    "collapsed": false
   },
   "outputs": [
    {
     "name": "stdout",
     "output_type": "stream",
     "text": [
      "a:\n",
      " [[ 0  1  2  3  4  5]\n",
      " [ 6  7  8  9 10 11]\n",
      " [12 13 14 15 16 17]\n",
      " [18 19 20 21 22 23]]\n",
      "av.shape: (24,)\n",
      "av:\n",
      " [ 0  1  2  3  4  5  6  7  8  9 10 11 12 13 14 15 16 17 18 19 20 21 22 23]\n",
      "np.may_share_memory(a,av): True\n"
     ]
    }
   ],
   "source": [
    "a = np.arange(24).reshape((4,6))\n",
    "print('a:\\n',a )\n",
    "av = a.ravel()\n",
    "print('av.shape:',av.shape )\n",
    "print('av:\\n',av )\n",
    "print('np.may_share_memory(a,av):',np.may_share_memory(a,av) )"
   ]
  },
  {
   "cell_type": "markdown",
   "metadata": {},
   "source": [
    "Cópia profunda\n",
    "==============\n",
    "\n",
    "Cria uma copia completa do array, do seu shape e conteúdo. A recomendação é utilizar a \n",
    "função *copy()* para realizar a copia profunda, entretanto é possível conseguir a\n",
    "copia profunda pelo *np.array*."
   ]
  },
  {
   "cell_type": "code",
   "execution_count": 88,
   "metadata": {
    "collapsed": false
   },
   "outputs": [
    {
     "name": "stdout",
     "output_type": "stream",
     "text": [
      "id de a =  4756726288\n",
      "id de b =  4761102336\n",
      "id de c =  4760406256\n"
     ]
    }
   ],
   "source": [
    "b = a.copy()\n",
    "c = np.array(a, copy=True)\n",
    "\n",
    "print(\"id de a = \",id(a) )\n",
    "print(\"id de b = \",id(b) )\n",
    "print(\"id de c = \",id(c) )"
   ]
  },
  {
   "cell_type": "markdown",
   "metadata": {},
   "source": [
    "Operações matriciais\n",
    "====================\n",
    "\n",
    "\n",
    "Uma das principais vantagens da estrutura *ndarray* é sua habilidade de processamento matricial.\n",
    "Assim, para se multiplicar todos os elementos de um array por um escalar basta escrever *a * 5* por\n",
    "exemplo. Para se fazer qualquer operação lógica ou aritmética entre arrays, basta escrever *a <oper> b*:\n"
   ]
  },
  {
   "cell_type": "code",
   "execution_count": 89,
   "metadata": {
    "collapsed": false
   },
   "outputs": [
    {
     "name": "stdout",
     "output_type": "stream",
     "text": [
      "a=\n",
      " [[ 0  1  2  3]\n",
      " [ 4  5  6  7]\n",
      " [ 8  9 10 11]\n",
      " [12 13 14 15]\n",
      " [16 17 18 19]]\n",
      "b=\n",
      " [[ 2.  2.  2.  2.]\n",
      " [ 2.  2.  2.  2.]\n",
      " [ 2.  2.  2.  2.]\n",
      " [ 2.  2.  2.  2.]\n",
      " [ 2.  2.  2.  2.]]\n",
      "c=\n",
      " [[12 11 10]\n",
      " [ 9  8  7]\n",
      " [ 6  5  4]\n",
      " [ 3  2  1]]\n"
     ]
    }
   ],
   "source": [
    "a = np.arange(20).reshape(5,4)\n",
    "b = 2 * np.ones((5,4))    \n",
    "c = np.arange(12,0,-1).reshape(4,3)\n",
    "print('a=\\n', a )\n",
    "print('b=\\n', b )\n",
    "print('c=\\n', c )"
   ]
  },
  {
   "cell_type": "markdown",
   "metadata": {},
   "source": [
    "Multiplicação de array por escalar: *b x 5*\n",
    "--------------------------------------------------"
   ]
  },
  {
   "cell_type": "code",
   "execution_count": 90,
   "metadata": {
    "collapsed": false
   },
   "outputs": [
    {
     "name": "stdout",
     "output_type": "stream",
     "text": [
      "b5=\n",
      " [[ 10.  10.  10.  10.]\n",
      " [ 10.  10.  10.  10.]\n",
      " [ 10.  10.  10.  10.]\n",
      " [ 10.  10.  10.  10.]\n",
      " [ 10.  10.  10.  10.]]\n"
     ]
    }
   ],
   "source": [
    "b5 = 5 * b\n",
    "\n",
    "print('b5=\\n', b5 )"
   ]
  },
  {
   "cell_type": "markdown",
   "metadata": {},
   "source": [
    "Soma de arrays: *a + b*\n",
    "---------------------------"
   ]
  },
  {
   "cell_type": "code",
   "execution_count": 91,
   "metadata": {
    "collapsed": false
   },
   "outputs": [
    {
     "name": "stdout",
     "output_type": "stream",
     "text": [
      "amb=\n",
      " [[  2.   3.   4.   5.]\n",
      " [  6.   7.   8.   9.]\n",
      " [ 10.  11.  12.  13.]\n",
      " [ 14.  15.  16.  17.]\n",
      " [ 18.  19.  20.  21.]]\n"
     ]
    }
   ],
   "source": [
    "amb = a + b\n",
    "\n",
    "print('amb=\\n', amb )"
   ]
  },
  {
   "cell_type": "markdown",
   "metadata": {},
   "source": [
    "Transposta de uma matriz: *a.T*\n",
    "-----------------------------------\n",
    "\n",
    "A transposta de uma matriz, troca os eixos das coordenadas. O elemento que\n",
    "estava na posição *(r,c)* vai agora estar na posição *(c,r)*. O shape\n",
    "da matriz resultante ficará portanto com os valores trocados. A operação\n",
    "de transposição é feita através de cópia rasa, portanto é uma operação\n",
    "muito eficiente e deve ser utilizada sempre que possível.\n",
    "\n",
    "Veja o exemplo a seguir:"
   ]
  },
  {
   "cell_type": "code",
   "execution_count": 92,
   "metadata": {
    "collapsed": false
   },
   "outputs": [
    {
     "name": "stdout",
     "output_type": "stream",
     "text": [
      "a.shape= (5, 4)\n",
      "a.T.shape= (4, 5)\n",
      "a=\n",
      " [[ 0  1  2  3]\n",
      " [ 4  5  6  7]\n",
      " [ 8  9 10 11]\n",
      " [12 13 14 15]\n",
      " [16 17 18 19]]\n",
      "at=\n",
      " [[ 0  4  8 12 16]\n",
      " [ 1  5  9 13 17]\n",
      " [ 2  6 10 14 18]\n",
      " [ 3  7 11 15 19]]\n"
     ]
    }
   ],
   "source": [
    "at = a.T\n",
    "print('a.shape=',a.shape )\n",
    "print('a.T.shape=',a.T.shape )    \n",
    "print('a=\\n', a )\n",
    "print('at=\\n', at )"
   ]
  },
  {
   "cell_type": "markdown",
   "metadata": {},
   "source": [
    "Multiplicação de matrizes: *a x c*\n",
    "------------------------------------\n",
    "\n",
    "A multiplicação de matrizes é feita através do operador *dot*. \n",
    "Para que a multiplicação seja possível é importante que o número de\n",
    "colunas do primeiro *ndarray* seja igual ao número de linhas do\n",
    "segundo. As dimensões do resultado será o número de linhas do \n",
    "primeiro *ndarray* pelo número de colunas do segundo *ndarray*. Confira:"
   ]
  },
  {
   "cell_type": "code",
   "execution_count": 93,
   "metadata": {
    "collapsed": false
   },
   "outputs": [
    {
     "name": "stdout",
     "output_type": "stream",
     "text": [
      "a.shape: (5, 4)\n",
      "c.shape: (4, 3)\n",
      "a=\n",
      " [[ 0  1  2  3]\n",
      " [ 4  5  6  7]\n",
      " [ 8  9 10 11]\n",
      " [12 13 14 15]\n",
      " [16 17 18 19]]\n",
      "c=\n",
      " [[12 11 10]\n",
      " [ 9  8  7]\n",
      " [ 6  5  4]\n",
      " [ 3  2  1]]\n",
      "ac=\n",
      " [[ 30  24  18]\n",
      " [150 128 106]\n",
      " [270 232 194]\n",
      " [390 336 282]\n",
      " [510 440 370]]\n",
      "ac.shape: (5, 3)\n"
     ]
    }
   ],
   "source": [
    "ac = a.dot(c)\n",
    "\n",
    "print('a.shape:',a.shape )\n",
    "print('c.shape:',c.shape )\n",
    "print('a=\\n',a )\n",
    "print('c=\\n',c )\n",
    "print('ac=\\n', ac )\n",
    "print('ac.shape:',ac.shape )"
   ]
  },
  {
   "cell_type": "markdown",
   "metadata": {},
   "source": [
    "Linspace e Arange\n",
    "==================\n",
    "\n",
    "\n",
    "As funções do numpy **linspace** e **arange** tem o mesmo objetivo: gerar numpy.arrays linearmente\n",
    "espaçados em um intervalo indicado como parâmetro.\n",
    "\n",
    "A diferença primordial entre essas funções é como será realizada a divisão no intervalo especificado. \n",
    "Na função linspace essa divisão é feita através da definição do intervalo fechado [inicio,fim], isto é, contém o\n",
    "início e o fim, e da quantidade de \n",
    "elementos que o numpy.array final terá. O passo portanto é calculado como (fim - inicio)/(n - 1). \n",
    "Dessa forma, se queremos gerar um numpy.array entre 0 e 1 com 10 elementos, utilizaremos o linspace da seguinte forma\n"
   ]
  },
  {
   "cell_type": "code",
   "execution_count": 94,
   "metadata": {
    "collapsed": false
   },
   "outputs": [
    {
     "name": "stdout",
     "output_type": "stream",
     "text": [
      "[ 0.    0.11  0.22  0.33  0.44  0.56  0.67  0.78  0.89  1.  ]\n"
     ]
    }
   ],
   "source": [
    "# gera um numpy.array de 10 elementos, linearmente espaçados entre 0 a 1\n",
    "print(np.linspace(0, 1.0, num=10).round(2) ) "
   ]
  },
  {
   "cell_type": "markdown",
   "metadata": {},
   "source": [
    "Já na função arange, define-se o intervalo semi-aberto [inicio,fim) e o passo que será dado entre um elemento e outro. \n",
    "Dessa forma, para gerar\n",
    "um numpy.array entre 0 e 1 com 10 elementos, temos que calcular o passo (0.1) e passar esse passo como parâmetro.\n"
   ]
  },
  {
   "cell_type": "code",
   "execution_count": 95,
   "metadata": {
    "collapsed": false
   },
   "outputs": [
    {
     "name": "stdout",
     "output_type": "stream",
     "text": [
      "[ 0.   0.1  0.2  0.3  0.4  0.5  0.6  0.7  0.8  0.9]\n"
     ]
    }
   ],
   "source": [
    "# gera um numpy.array linearmente espaçados entre 0 a 1 com passo 0.1\n",
    "\n",
    "print(np.arange(0, 1.0, 0.1) )\n"
   ]
  },
  {
   "cell_type": "markdown",
   "metadata": {},
   "source": [
    "Confirme que a principal diferença entre os dois que pode ser verificada nos exemplos acima é que \n",
    "no linspace o limite superior da distribuição é inclusivo (intervalo fechado), \n",
    "enquanto no arange isso não ocorre (intervalo semi-aberto)."
   ]
  },
  {
   "cell_type": "markdown",
   "metadata": {},
   "source": [
    "Funções indices e meshgrid\n",
    "=================================\n",
    "\n",
    "As funções *indices* e *meshgrid* são extremamente úteis na geração de imagens sintéticas e o seu aprendizado permite também\n",
    "entender as vantagens de programação matricial, evitando-se a varredura seqüencial da imagem muito usual na programação na linguagem C.\n",
    "\n",
    "Operador indices em pequenos exemplos numéricos\n",
    "===============================================\n",
    "\n",
    "A função *indices* recebe como parâmetros uma tupla com as dimensões (H,W) das matrizes a serem criadas. No exemplo a seguir, estamos\n",
    "gerando matrizes de 5 linhas e 10 colunas. Esta função retorna uma tupla de duas matrizes que podem ser obtidas fazendo suas atribuições\n",
    "como no exemplo a seguir onde criamos as matrizes *r* e *c*, ambas de tamanho (5,10), isto é, 5 linhas e 10 colunas:"
   ]
  },
  {
   "cell_type": "code",
   "execution_count": 96,
   "metadata": {
    "collapsed": false
   },
   "outputs": [
    {
     "name": "stdout",
     "output_type": "stream",
     "text": [
      "r=\n",
      " [[0 0 0 0 0 0 0 0 0 0]\n",
      " [1 1 1 1 1 1 1 1 1 1]\n",
      " [2 2 2 2 2 2 2 2 2 2]\n",
      " [3 3 3 3 3 3 3 3 3 3]\n",
      " [4 4 4 4 4 4 4 4 4 4]]\n",
      "c=\n",
      " [[0 1 2 3 4 5 6 7 8 9]\n",
      " [0 1 2 3 4 5 6 7 8 9]\n",
      " [0 1 2 3 4 5 6 7 8 9]\n",
      " [0 1 2 3 4 5 6 7 8 9]\n",
      " [0 1 2 3 4 5 6 7 8 9]]\n"
     ]
    }
   ],
   "source": [
    "r,c = np.indices( (5, 10) )\n",
    "print('r=\\n', r )\n",
    "print('c=\\n', c )"
   ]
  },
  {
   "cell_type": "markdown",
   "metadata": {},
   "source": [
    "Note que a matriz *r* é uma matriz onde cada elemento é a sua coordenada linha e a matriz *c* é uma matriz onde cada elemento é\n",
    "a sua coordenada coluna. Desta forma, qualquer operação matricial feita com *r* e *c*, na realidade você está processando as\n",
    "coordenadas da matriz. Assim, é possível gerar diversas imagens sintéticas a partir de uma função de suas coordenadas.\n",
    "\n",
    "Como o NumPy processa as matrizes diretamente, sem a necessidade de fazer um *for* explícito, a notação do programa fica bem simples\n",
    "e a eficiência também. O único inconveniente é o uso da memória para se calcular as matrizes de índices *r* e *c*. Iremos\n",
    "ver mais à frente que isto pode ser minimizado. \n",
    "\n",
    "Por exemplo seja a função que seja a soma de suas coordenadas $f(r,c) = r + c$:"
   ]
  },
  {
   "cell_type": "code",
   "execution_count": 97,
   "metadata": {
    "collapsed": false
   },
   "outputs": [
    {
     "name": "stdout",
     "output_type": "stream",
     "text": [
      "f=\n",
      " [[ 0  1  2  3  4  5  6  7  8  9]\n",
      " [ 1  2  3  4  5  6  7  8  9 10]\n",
      " [ 2  3  4  5  6  7  8  9 10 11]\n",
      " [ 3  4  5  6  7  8  9 10 11 12]\n",
      " [ 4  5  6  7  8  9 10 11 12 13]]\n"
     ]
    }
   ],
   "source": [
    "f = r + c\n",
    "print('f=\\n', f )"
   ]
  },
  {
   "cell_type": "markdown",
   "metadata": {},
   "source": [
    "Ou ainda a função diferença entre a coordenada linha e coluna $f(r,c) = r - c$:"
   ]
  },
  {
   "cell_type": "code",
   "execution_count": 98,
   "metadata": {
    "collapsed": false
   },
   "outputs": [
    {
     "name": "stdout",
     "output_type": "stream",
     "text": [
      "f=\n",
      " [[ 0 -1 -2 -3 -4 -5 -6 -7 -8 -9]\n",
      " [ 1  0 -1 -2 -3 -4 -5 -6 -7 -8]\n",
      " [ 2  1  0 -1 -2 -3 -4 -5 -6 -7]\n",
      " [ 3  2  1  0 -1 -2 -3 -4 -5 -6]\n",
      " [ 4  3  2  1  0 -1 -2 -3 -4 -5]]\n"
     ]
    }
   ],
   "source": [
    "f = r - c\n",
    "print('f=\\n', f )"
   ]
  },
  {
   "cell_type": "markdown",
   "metadata": {},
   "source": [
    "Ou ainda a função $f(r,c) = (r + c) \\% 2$ onde % é operador módulo. Esta função retorna 1 se a soma das coordenadas for ímpar e 0 caso contrário.\n",
    "É uma imagem no estilo de um tabuleiro de xadrez de valores 0 e 1:"
   ]
  },
  {
   "cell_type": "code",
   "execution_count": 99,
   "metadata": {
    "collapsed": false
   },
   "outputs": [
    {
     "name": "stdout",
     "output_type": "stream",
     "text": [
      "f=\n",
      " [[0 1 0 1 0 1 0 1 0 1]\n",
      " [1 0 1 0 1 0 1 0 1 0]\n",
      " [0 1 0 1 0 1 0 1 0 1]\n",
      " [1 0 1 0 1 0 1 0 1 0]\n",
      " [0 1 0 1 0 1 0 1 0 1]]\n"
     ]
    }
   ],
   "source": [
    "f = (r + c) % 2\n",
    "print('f=\\n', f )"
   ]
  },
  {
   "cell_type": "markdown",
   "metadata": {},
   "source": [
    "Ou ainda a função de uma reta $f(r,c) = (r = \\frac{1}{2}c)$:"
   ]
  },
  {
   "cell_type": "code",
   "execution_count": 100,
   "metadata": {
    "collapsed": false
   },
   "outputs": [
    {
     "name": "stdout",
     "output_type": "stream",
     "text": [
      "f=\n",
      " [[ True  True False False False False False False False False]\n",
      " [False False  True  True False False False False False False]\n",
      " [False False False False  True  True False False False False]\n",
      " [False False False False False False  True  True False False]\n",
      " [False False False False False False False False  True  True]]\n"
     ]
    }
   ],
   "source": [
    "f = (r == c//2)\n",
    "print('f=\\n', f )"
   ]
  },
  {
   "cell_type": "markdown",
   "metadata": {},
   "source": [
    "Ou ainda a função parabólica dada pela soma do quadrado de suas coordenadas $f(r,c) = r^2 + c^2$:"
   ]
  },
  {
   "cell_type": "code",
   "execution_count": 101,
   "metadata": {
    "collapsed": false
   },
   "outputs": [
    {
     "name": "stdout",
     "output_type": "stream",
     "text": [
      "f=\n",
      " [[ 0  1  4  9 16 25 36 49 64 81]\n",
      " [ 1  2  5 10 17 26 37 50 65 82]\n",
      " [ 4  5  8 13 20 29 40 53 68 85]\n",
      " [ 9 10 13 18 25 34 45 58 73 90]\n",
      " [16 17 20 25 32 41 52 65 80 97]]\n"
     ]
    }
   ],
   "source": [
    "f = r**2 + c**2\n",
    "print('f=\\n', f )"
   ]
  },
  {
   "cell_type": "markdown",
   "metadata": {},
   "source": [
    "Ou ainda a função do círculo de raio 4, com centro em (0,0) $f(r,c) = (r^2 + c^2 < 4^2)$:"
   ]
  },
  {
   "cell_type": "code",
   "execution_count": 102,
   "metadata": {
    "collapsed": false
   },
   "outputs": [
    {
     "name": "stdout",
     "output_type": "stream",
     "text": [
      "f=\n",
      " [[1 1 1 1 0 0 0 0 0 0]\n",
      " [1 1 1 1 0 0 0 0 0 0]\n",
      " [1 1 1 1 0 0 0 0 0 0]\n",
      " [1 1 1 0 0 0 0 0 0 0]\n",
      " [0 0 0 0 0 0 0 0 0 0]]\n"
     ]
    }
   ],
   "source": [
    "f = ((r**2 + c**2) < 4**2)\n",
    "print('f=\\n', f * 1 )"
   ]
  },
  {
   "cell_type": "markdown",
   "metadata": {},
   "source": [
    "Operador indices em exemplo de imagens sintéticas\n",
    "=================================================\n",
    "\n",
    "Vejamos os exemplos acima, porém gerados em imagens. A diferença será no tamanho da matriz, iremos utilizar matriz (200,300), e\n",
    "a forma de visualizá-la através do *adshow*, ao invés de imprimir os valores como fizemos acima. Gerando as coordenadas utilizando *indices*:\n",
    "\n",
    "Observe que o parâmetro de *indices* é uma tupla. Verifique o número de parêntesis utilizados:"
   ]
  },
  {
   "cell_type": "code",
   "execution_count": 103,
   "metadata": {
    "collapsed": false
   },
   "outputs": [
    {
     "data": {
      "image/png": "[encoded data removed]",
      "text/plain": [
       "<matplotlib.figure.Figure at 0x11bdb1588>"
      ]
     },
     "metadata": {},
     "output_type": "display_data"
    }
   ],
   "source": [
    "# Diretiva para mostrar gráficos inline no notebook\n",
    "%matplotlib inline \n",
    "import matplotlib.pylab as plt\n",
    "r,c = np.indices( (200, 300) )\n",
    "plt.subplot(121)\n",
    "plt.imshow(r,cmap = 'gray')\n",
    "plt.title(\"linhas\")\n",
    "plt.axis('off')\n",
    "plt.subplot(122)\n",
    "plt.imshow(c,cmap = 'gray')\n",
    "plt.axis('off')\n",
    "plt.title(\"colunas\");"
   ]
  },
  {
   "cell_type": "markdown",
   "metadata": {},
   "source": [
    "Soma\n",
    "----\n",
    "Função soma: $f(r,c) = r + c$:"
   ]
  },
  {
   "cell_type": "code",
   "execution_count": 104,
   "metadata": {
    "collapsed": false
   },
   "outputs": [
    {
     "data": {
      "text/plain": [
       "(-0.5, 299.5, 199.5, -0.5)"
      ]
     },
     "execution_count": 104,
     "metadata": {},
     "output_type": "execute_result"
    },
    {
     "data": {
      "image/png": "[encoded data removed]",
      "text/plain": [
       "<matplotlib.figure.Figure at 0x11c1060b8>"
      ]
     },
     "metadata": {},
     "output_type": "display_data"
    }
   ],
   "source": [
    "f = r + c\n",
    "plt.imshow(f,cmap = 'gray')\n",
    "plt.title(\"r+c\")\n",
    "plt.axis(\"off\")"
   ]
  },
  {
   "cell_type": "markdown",
   "metadata": {},
   "source": [
    "Subtração\n",
    "---------\n",
    "Função subtração $f(r,c) = r - c$:"
   ]
  },
  {
   "cell_type": "code",
   "execution_count": 105,
   "metadata": {
    "collapsed": false
   },
   "outputs": [
    {
     "data": {
      "text/plain": [
       "(-0.5, 299.5, 199.5, -0.5)"
      ]
     },
     "execution_count": 105,
     "metadata": {},
     "output_type": "execute_result"
    },
    {
     "data": {
      "image/png": "[encoded data removed]",
      "text/plain": [
       "<matplotlib.figure.Figure at 0x11beddac8>"
      ]
     },
     "metadata": {},
     "output_type": "display_data"
    }
   ],
   "source": [
    "f = r - c\n",
    "plt.imshow(f,cmap = 'gray')\n",
    "plt.title(\"r-c\")\n",
    "plt.axis(\"off\")"
   ]
  },
  {
   "cell_type": "markdown",
   "metadata": {},
   "source": [
    "Xadrez\n",
    "------\n",
    "Função xadrez $f(r,c) = \\frac{(r + c)}{8} \\% 2$. Aqui foi feita a divisão por 8 para que o tamanho das casas do xadrez fique 8 x 8, caso\n",
    "contrário é muito difícil de visualizar o efeito xadrez pois a imagem possui muitos pixels.:"
   ]
  },
  {
   "cell_type": "code",
   "execution_count": 106,
   "metadata": {
    "collapsed": false
   },
   "outputs": [
    {
     "data": {
      "text/plain": [
       "(-0.5, 299.5, 199.5, -0.5)"
      ]
     },
     "execution_count": 106,
     "metadata": {},
     "output_type": "execute_result"
    },
    {
     "data": {
      "image/png": "[encoded data removed]",
      "text/plain": [
       "<matplotlib.figure.Figure at 0x11be4ecf8>"
      ]
     },
     "metadata": {},
     "output_type": "display_data"
    }
   ],
   "source": [
    "f = (r//8 + c//8) % 2\n",
    "plt.imshow(f,cmap = 'gray')\n",
    "plt.title(\"(r+c)%2\")\n",
    "plt.axis(\"off\")"
   ]
  },
  {
   "cell_type": "markdown",
   "metadata": {},
   "source": [
    "Reta\n",
    "----\n",
    "Ou ainda a função de uma reta $f(r,c) = (r = \\frac{1}{2} c)$:"
   ]
  },
  {
   "cell_type": "code",
   "execution_count": 107,
   "metadata": {
    "collapsed": false
   },
   "outputs": [
    {
     "data": {
      "text/plain": [
       "(-0.5, 299.5, 199.5, -0.5)"
      ]
     },
     "execution_count": 107,
     "metadata": {},
     "output_type": "execute_result"
    },
    {
     "data": {
      "image/png": "[encoded data removed]",
      "text/plain": [
       "<matplotlib.figure.Figure at 0x11b58b6a0>"
      ]
     },
     "metadata": {},
     "output_type": "display_data"
    }
   ],
   "source": [
    "f = (r == c//2)\n",
    "plt.imshow(f,cmap = 'gray')\n",
    "plt.title('r == c//2')\n",
    "plt.axis(\"off\")"
   ]
  },
  {
   "cell_type": "markdown",
   "metadata": {},
   "source": [
    "Parábola\n",
    "--------   \n",
    "Função parabólica: $f(r,c) = r^2 + c^2$:"
   ]
  },
  {
   "cell_type": "code",
   "execution_count": 108,
   "metadata": {
    "collapsed": false
   },
   "outputs": [
    {
     "data": {
      "text/plain": [
       "(-0.5, 299.5, 199.5, -0.5)"
      ]
     },
     "execution_count": 108,
     "metadata": {},
     "output_type": "execute_result"
    },
    {
     "data": {
      "image/png": "[encoded data removed]",
      "text/plain": [
       "<matplotlib.figure.Figure at 0x11bc469e8>"
      ]
     },
     "metadata": {},
     "output_type": "display_data"
    }
   ],
   "source": [
    "f = r**2 + c**2\n",
    "plt.imshow(f,cmap = 'gray')\n",
    "plt.title('r**2 + c**2')\n",
    "plt.axis(\"off\")"
   ]
  },
  {
   "cell_type": "markdown",
   "metadata": {},
   "source": [
    "Círculo\n",
    "-------\n",
    "Função do círculo de raio 190, $f(r,c) = (r^2 + c^2 < 190^2)$:"
   ]
  },
  {
   "cell_type": "code",
   "execution_count": 109,
   "metadata": {
    "collapsed": false
   },
   "outputs": [
    {
     "data": {
      "text/plain": [
       "(-0.5, 299.5, 199.5, -0.5)"
      ]
     },
     "execution_count": 109,
     "metadata": {},
     "output_type": "execute_result"
    },
    {
     "data": {
      "image/png": "[encoded data removed]",
      "text/plain": [
       "<matplotlib.figure.Figure at 0x11b4a2710>"
      ]
     },
     "metadata": {},
     "output_type": "display_data"
    }
   ],
   "source": [
    "f = (((r-100)**2 + (c-100)**2) < 19**2)\n",
    "plt.imshow(f,cmap = 'gray')\n",
    "plt.title('((r-100)**2 + (c-100)**2) < 19**2')\n",
    "plt.axis(\"off\")"
   ]
  },
  {
   "cell_type": "markdown",
   "metadata": {},
   "source": [
    "Meshgrid\n",
    "========\n",
    "   \n",
    "A função *meshgrid* é semelhante à  função *indices* visto\n",
    "anteriormente, porém, enquanto *indices* gera as coordenadas inteiras não negativas a partir de um *shape(H,W)*, \n",
    "o *meshgrid* gera os valores das matrizes a partir de dois vetores de valores reais quaisquer, um para as linhas e outro para as colunas.\n",
    "\n",
    "Veja a seguir um pequeno exemplo numérico. Para que o *meshgrid* fique compatível com a nossa convenção de (linhas,colunas), deve-se\n",
    "usar o parâmetro *indexing='ij'*."
   ]
  },
  {
   "cell_type": "code",
   "execution_count": 110,
   "metadata": {
    "collapsed": false
   },
   "outputs": [
    {
     "name": "stdout",
     "output_type": "stream",
     "text": [
      "r=\n",
      " [[-1.5 -1.5 -1.5 -1.5 -1.5 -1.5]\n",
      " [-1.  -1.  -1.  -1.  -1.  -1. ]\n",
      " [-0.5 -0.5 -0.5 -0.5 -0.5 -0.5]\n",
      " [ 0.   0.   0.   0.   0.   0. ]\n",
      " [ 0.5  0.5  0.5  0.5  0.5  0.5]]\n",
      "c=\n",
      " [[-20 -10   0  10  20  30]\n",
      " [-20 -10   0  10  20  30]\n",
      " [-20 -10   0  10  20  30]\n",
      " [-20 -10   0  10  20  30]\n",
      " [-20 -10   0  10  20  30]]\n"
     ]
    }
   ],
   "source": [
    "import numpy as np\n",
    "r, c = np.meshgrid( np.array([-1.5, -1.0, -0.5, 0.0, 0.5]), \n",
    "                    np.array([-20, -10, 0, 10, 20, 30]), indexing='ij')\n",
    "print('r=\\n',r )\n",
    "print('c=\\n',c )"
   ]
  },
  {
   "cell_type": "markdown",
   "metadata": {},
   "source": [
    "Gerando os vetores com linspace\n",
    "================================\n",
    "\n",
    "A função *linspace* gera vetor em ponto flutuante recebendo os parâmetro de valor inicial, valor final e número de pontos do vetor.\n",
    "Desta forma ele é bastante usado para gerar os parâmetro para o *meshgrid*.\n",
    " \n",
    "Repetindo os mesmos valores do exemplo anterior, porém usando *linspace*. Observe que o primeiro vetor possui 5 pontos,\n",
    "começando com valor -1.5 e o valor final é 0.5 (inclusive). O segundo vetor possui 6 pontos, começando de -20 até 30:"
   ]
  },
  {
   "cell_type": "code",
   "execution_count": 111,
   "metadata": {
    "collapsed": false
   },
   "outputs": [
    {
     "name": "stdout",
     "output_type": "stream",
     "text": [
      "rows: [-1.5 -1.  -0.5  0.   0.5]\n",
      "cols: [-20. -10.   0.  10.  20.  30.]\n"
     ]
    }
   ],
   "source": [
    "rows = np.linspace(-1.5, 0.5, 5)\n",
    "cols = np.linspace(-20, 30, 6)\n",
    "\n",
    "print('rows:', rows )\n",
    "print('cols:', cols )"
   ]
  },
  {
   "cell_type": "markdown",
   "metadata": {},
   "source": [
    "Usando os dois vetores gerados pelo *linspace* no *meshgrid*:"
   ]
  },
  {
   "cell_type": "code",
   "execution_count": 112,
   "metadata": {
    "collapsed": false
   },
   "outputs": [
    {
     "name": "stdout",
     "output_type": "stream",
     "text": [
      "r = \n",
      " [[-1.5 -1.5 -1.5 -1.5 -1.5 -1.5]\n",
      " [-1.  -1.  -1.  -1.  -1.  -1. ]\n",
      " [-0.5 -0.5 -0.5 -0.5 -0.5 -0.5]\n",
      " [ 0.   0.   0.   0.   0.   0. ]\n",
      " [ 0.5  0.5  0.5  0.5  0.5  0.5]]\n",
      "c = \n",
      " [[-20. -10.   0.  10.  20.  30.]\n",
      " [-20. -10.   0.  10.  20.  30.]\n",
      " [-20. -10.   0.  10.  20.  30.]\n",
      " [-20. -10.   0.  10.  20.  30.]\n",
      " [-20. -10.   0.  10.  20.  30.]]\n"
     ]
    }
   ],
   "source": [
    "r, c = np.meshgrid(rows, cols, indexing='ij')\n",
    "print('r = \\n', r )\n",
    "print('c = \\n', c )"
   ]
  },
  {
   "cell_type": "markdown",
   "metadata": {},
   "source": [
    "Podemos agora gerar uma matriz ou imagem que seja função destes valores. Por exemplo ser o produto deles:"
   ]
  },
  {
   "cell_type": "code",
   "execution_count": 113,
   "metadata": {
    "collapsed": false
   },
   "outputs": [
    {
     "name": "stdout",
     "output_type": "stream",
     "text": [
      "f=\n",
      " [[ 30.  15.  -0. -15. -30. -45.]\n",
      " [ 20.  10.  -0. -10. -20. -30.]\n",
      " [ 10.   5.  -0.  -5. -10. -15.]\n",
      " [ -0.  -0.   0.   0.   0.   0.]\n",
      " [-10.  -5.   0.   5.  10.  15.]]\n"
     ]
    }
   ],
   "source": [
    "f = r * c\n",
    "print('f=\\n', f )"
   ]
  },
  {
   "cell_type": "markdown",
   "metadata": {},
   "source": [
    "Exemplo na geração da imagem sinc com meshgrid\n",
    "==============================================\n",
    "\n",
    "Neste exemplo, geramos a imagem da função $sinc(r,c)$ em duas dimensões, nos intervalos na vertical, de -5 a 5 e na\n",
    "horizontal de -6 a 6. A função sinc é uma função trigonométrica que pode ser utilizada para filtragens.\n",
    "A equação é dada por:\n",
    "\n",
    "$$ sinc(r,c) = \\frac{\\sin(r^2 + c^2)}{r^2 + c^2}, \\text{para\\ } -5 \\leq r \\leq 5, -6 \\leq c \\leq 6\n",
    "$$\n",
    "\n",
    "Na origem, tanto r como c são zeros, resultando uma divisão por zero. Entretanto pela teoria dos limites, $\\frac{sin(x)}{x}$ é\n",
    "igual a 1 quando $x$ é igual a zero.\n",
    "Uma forma de se obter isto em ponto flutuante é somar tanto no numerador como no denominador um *epsilon*, que é a\n",
    "menor valor em ponto flutuante. Epsilon pode ser obtido pela função *np.spacing*. "
   ]
  },
  {
   "cell_type": "code",
   "execution_count": 114,
   "metadata": {
    "collapsed": false
   },
   "outputs": [
    {
     "data": {
      "text/plain": [
       "(-0.5, 179.5, 149.5, -0.5)"
      ]
     },
     "execution_count": 114,
     "metadata": {},
     "output_type": "execute_result"
    },
    {
     "data": {
      "image/png": "[encoded data removed]",
      "text/plain": [
       "<matplotlib.figure.Figure at 0x11b498160>"
      ]
     },
     "metadata": {},
     "output_type": "display_data"
    }
   ],
   "source": [
    "e = np.spacing(1) # epsilon to avoid 0/0\n",
    "rows = np.linspace(-5.0, 5.0, 150) # coordenadas das linhas\n",
    "cols = np.linspace(-6.0, 6.0, 180) # coordenadas das colunas\n",
    "r, c = np.meshgrid(rows, cols, indexing='ij') # Grid de coordenadas estilo numpy\n",
    "z = np.sin(r**2 + c**2 + e) / (r**2 + c**2 + e) # epsilon is added to avoid 0/0\n",
    "plt.imshow(z,cmap = 'gray')\n",
    "plt.title('Função sinc: sen(r² + c²)/(r²+c²) em duas dimensões')\n",
    "plt.axis(\"off\")"
   ]
  },
  {
   "cell_type": "markdown",
   "metadata": {},
   "source": [
    "Exemplo na geração da imagem sinc com indices\n",
    "==============================================\n",
    "\n",
    "Outra forma de gerar a mesma imagem, usando a função *indices* é processar os\n",
    "indices de modo a gerar os mesmos valores relativos à grade de espaçamento regular\n",
    "acima, conforme ilustrado abaixo:"
   ]
  },
  {
   "cell_type": "code",
   "execution_count": 115,
   "metadata": {
    "collapsed": false
   },
   "outputs": [
    {
     "data": {
      "text/plain": [
       "(-0.5, 179.5, 149.5, -0.5)"
      ]
     },
     "execution_count": 115,
     "metadata": {},
     "output_type": "execute_result"
    },
    {
     "data": {
      "image/png": "[encoded data removed]",
      "text/plain": [
       "<matplotlib.figure.Figure at 0x11b59f208>"
      ]
     },
     "metadata": {},
     "output_type": "display_data"
    }
   ],
   "source": [
    "n_rows = len(rows)\n",
    "n_cols = len(cols)\n",
    "r,c = np.indices((n_rows,n_cols))\n",
    "r = -5. + 10.*r.astype(float)/(n_rows-1)\n",
    "c = -6. + 12.*c.astype(float)/(n_cols-1)\n",
    "zi = np.sin(r**2 + c**2 + e) / (r**2 + c**2 + e) # epsilon is addes to avoid 0/0\n",
    "plt.imshow(zi,cmap = 'gray')\n",
    "plt.title('Função sinc: sin(r² + c²)/(r²+c²) em duas dimensões')\n",
    "plt.axis(\"off\")"
   ]
  },
  {
   "cell_type": "markdown",
   "metadata": {},
   "source": [
    "Verificando que as duas funções são iguais:"
   ]
  },
  {
   "cell_type": "code",
   "execution_count": 116,
   "metadata": {
    "collapsed": false
   },
   "outputs": [
    {
     "name": "stdout",
     "output_type": "stream",
     "text": [
      "Máxima diferença entre z e zi? 1.38777878078e-15\n"
     ]
    }
   ],
   "source": [
    "print('Máxima diferença entre z e zi?', abs(z - zi).max() )"
   ]
  },
  {
   "cell_type": "markdown",
   "metadata": {},
   "source": [
    "Para usuários avançados\n",
    "========================\n",
    "\n",
    "Na realidade a função *indices* retorna um único array n-dimensional com uma dimensão a mais que o indicado pelo\n",
    "shape usado como parâmetro. Assim, quando é feito *r,c = np.indices((rows,cols))*, r é atribuído para o elemento 0 e\n",
    "c é atribuído para o elemento 1 do ndarray. No caso do *meshgrid*, ele retorna tantos arrays quanto forem o número\n",
    "de vetores passados como parâmetro para *meshgrid*.\n",
    "\n",
    "\n",
    "Tile\n",
    "==================\n",
    "\n",
    "\n",
    "Uma função importante da biblioteca numpy é a tile, que gera repetições\n",
    "do array passado com parâmetro. A quantidade de repetições é dada pelo \n",
    "parâmetro reps\n",
    "\n",
    "Exemplo unidimensional - replicando as colunas\n",
    "===================================================="
   ]
  },
  {
   "cell_type": "code",
   "execution_count": 117,
   "metadata": {
    "collapsed": false
   },
   "outputs": [
    {
     "name": "stdout",
     "output_type": "stream",
     "text": [
      "a = \n",
      " [0 1 2]\n",
      "\n",
      "Resultado da operação np.tile(a,2): \n",
      " [0 1 2 0 1 2]\n"
     ]
    }
   ],
   "source": [
    "a = np.array([0, 1, 2])\n",
    "print('a = \\n', a )\n",
    "\n",
    "print()\n",
    "print('Resultado da operação np.tile(a,2): \\n',np.tile(a,2) )"
   ]
  },
  {
   "cell_type": "markdown",
   "metadata": {},
   "source": [
    "Exemplo unidimensional - replicando as linhas\n",
    "====================================================\n",
    "\n",
    "Para modificar as dimensões na quais a replicação será realizada\n",
    "modifica-se o parâmetro reps, passando ao invés de um int, uma tupla\n",
    "com as dimensões que se deseja alterar"
   ]
  },
  {
   "cell_type": "code",
   "execution_count": 118,
   "metadata": {
    "collapsed": false
   },
   "outputs": [
    {
     "name": "stdout",
     "output_type": "stream",
     "text": [
      "a = \n",
      " [0 1 2]\n",
      "\n",
      "Resultado da operação np.tile(a,(2,1)): \n",
      " [[0 1 2]\n",
      " [0 1 2]]\n"
     ]
    }
   ],
   "source": [
    "a = np.array([0, 1, 2])\n",
    "print('a = \\n', a )\n",
    "\n",
    "print()\n",
    "print('Resultado da operação np.tile(a,(2,1)): \\n',np.tile(a,(2,1)) )"
   ]
  },
  {
   "cell_type": "markdown",
   "metadata": {},
   "source": [
    "Exemplo bidimensional - replicando as colunas\n",
    "=================================================="
   ]
  },
  {
   "cell_type": "code",
   "execution_count": 119,
   "metadata": {
    "collapsed": false
   },
   "outputs": [
    {
     "name": "stdout",
     "output_type": "stream",
     "text": [
      "a = \n",
      " [[0 1]\n",
      " [2 3]]\n",
      "\n",
      "Resultado da operação np.tile(a,2): \n",
      " [[0 1 0 1]\n",
      " [2 3 2 3]]\n"
     ]
    }
   ],
   "source": [
    "a = np.arange(4).reshape(2,2)\n",
    "print('a = \\n', a )\n",
    "\n",
    "print()\n",
    "print('Resultado da operação np.tile(a,2): \\n',np.tile(a,2) )"
   ]
  },
  {
   "cell_type": "markdown",
   "metadata": {},
   "source": [
    "Exemplo bidimensional - replicando as linhas\n",
    "=================================================="
   ]
  },
  {
   "cell_type": "code",
   "execution_count": 120,
   "metadata": {
    "collapsed": false
   },
   "outputs": [
    {
     "name": "stdout",
     "output_type": "stream",
     "text": [
      "a = \n",
      " [[0 1]\n",
      " [2 3]]\n",
      "\n",
      "Resultado da operação np.tile(a,(3,1)): \n",
      " [[0 1]\n",
      " [2 3]\n",
      " [0 1]\n",
      " [2 3]\n",
      " [0 1]\n",
      " [2 3]]\n"
     ]
    }
   ],
   "source": [
    "a = np.arange(4).reshape(2,2)\n",
    "print('a = \\n', a )\n",
    "\n",
    "print()\n",
    "print('Resultado da operação np.tile(a,(3,1)): \\n',np.tile(a,(3,1)) )"
   ]
  },
  {
   "cell_type": "markdown",
   "metadata": {},
   "source": [
    "Exemplo bidimensional - replicando as linhas e colunas simultaneamente\n",
    "============================================================="
   ]
  },
  {
   "cell_type": "code",
   "execution_count": 121,
   "metadata": {
    "collapsed": false
   },
   "outputs": [
    {
     "name": "stdout",
     "output_type": "stream",
     "text": [
      "a = \n",
      " [[0 1]\n",
      " [2 3]]\n",
      "\n",
      "Resultado da operação np.tile(a,(2,2)): \n",
      " [[0 1 0 1]\n",
      " [2 3 2 3]\n",
      " [0 1 0 1]\n",
      " [2 3 2 3]]\n"
     ]
    }
   ],
   "source": [
    "a = np.arange(4).reshape(2,2)\n",
    "print('a = \\n', a )\n",
    "\n",
    "print()\n",
    "print('Resultado da operação np.tile(a,(2,2)): \\n',np.tile(a,(2,2)) )"
   ]
  },
  {
   "cell_type": "markdown",
   "metadata": {},
   "source": [
    "Resize\n",
    "=======\n",
    "\n",
    "\n",
    "A função *np.resize* recebe um array  *a* e retorna um array com o shape desejado. Caso o novo array\n",
    "seja maior que o array original o novo array é preenchido com cópias de *a*. "
   ]
  },
  {
   "cell_type": "code",
   "execution_count": 122,
   "metadata": {
    "collapsed": false
   },
   "outputs": [
    {
     "name": "stdout",
     "output_type": "stream",
     "text": [
      "a = \n",
      " [[0 1]\n",
      " [2 3]]\n",
      "\n",
      "np.resize(a,(1,7)) = \n",
      " [[0 1 2 3 0 1 2]]\n",
      "\n",
      "np.resize(a,(2,5)) = \n",
      " [[0 1 2 3 0]\n",
      " [1 2 3 0 1]]\n"
     ]
    }
   ],
   "source": [
    "a = np.array([[0,1],[2,3]])\n",
    "\n",
    "print('a = \\n', a )\n",
    "print()\n",
    "\n",
    "print('np.resize(a,(1,7)) = \\n', np.resize(a,(1,7)) )\n",
    "print()\n",
    "\n",
    "print('np.resize(a,(2,5)) = \\n', np.resize(a,(2,5)) )"
   ]
  },
  {
   "cell_type": "markdown",
   "metadata": {},
   "source": [
    "Clip\n",
    "======\n",
    "\n",
    "\n",
    "A função clip substitui os valores de um array que estejam abaixo de um limiar mínimo ou que estejam acima de um limiar máximo,\n",
    "por esses limiares mínimo e máximo, respectivamente. Esta função é especialmente útil em processamento de imagens para evitar \n",
    "que os índices ultrapassem os limites das imagens.\n",
    "\n",
    "Exemplos\n",
    "========"
   ]
  },
  {
   "cell_type": "code",
   "execution_count": 123,
   "metadata": {
    "collapsed": false
   },
   "outputs": [
    {
     "name": "stdout",
     "output_type": "stream",
     "text": [
      "a =  [11  1  2  3  4  5 12 -3 -4  7  4]\n",
      "np.clip(a,0,10) =  [10  1  2  3  4  5 10  0  0  7  4]\n"
     ]
    }
   ],
   "source": [
    "a = np.array([11,1,2,3,4,5,12,-3,-4,7,4])\n",
    "print('a = ',a )\n",
    "print('np.clip(a,0,10) = ', np.clip(a,0,10) )"
   ]
  },
  {
   "cell_type": "markdown",
   "metadata": {},
   "source": [
    "Exemplo com ponto flutuante\n",
    "=============================\n",
    "\n",
    "Observe que se os parâmetros do clip estiverem em ponto flutuante, o resultado também será em ponto flutuante:\n",
    "\n"
   ]
  },
  {
   "cell_type": "code",
   "execution_count": 124,
   "metadata": {
    "collapsed": false
   },
   "outputs": [
    {
     "name": "stdout",
     "output_type": "stream",
     "text": [
      "a= [0 1 2 3 4 5 6 7 8 9]\n",
      "np.clip(a,2.5,7.5)= [ 2.5  2.5  2.5  3.   4.   5.   6.   7.   7.5  7.5]\n"
     ]
    }
   ],
   "source": [
    "a = np.arange(10).astype(np.int)\n",
    "print('a=',a )\n",
    "print('np.clip(a,2.5,7.5)=',np.clip(a,2.5,7.5) )"
   ]
  },
  {
   "cell_type": "markdown",
   "metadata": {},
   "source": [
    "Formatando arrays para impressão\n",
    "=================================\n",
    "\n",
    "Imprimindo arrays de ponto flutuante\n",
    "=======================================\n",
    "\n",
    "Ao se imprimir arrays com valores em ponto flutuante, o NumPy em geral, imprime o array com muitas as casas\n",
    "decimais e com notação científica, o que dificulta a visualização."
   ]
  },
  {
   "cell_type": "code",
   "execution_count": 125,
   "metadata": {
    "collapsed": false
   },
   "outputs": [
    {
     "name": "stdout",
     "output_type": "stream",
     "text": [
      "A: \n",
      " [[ 0.     0.001  0.001  0.001  0.001  0.002  0.003  0.003]\n",
      " [ 0.005  0.007  0.009  0.012  0.017  0.023  0.032  0.044]\n",
      " [ 0.061  0.084  0.116  0.159  0.219  0.301  0.415  0.571]\n",
      " [ 0.785  1.081  1.487  2.047  2.817  3.876  5.335  7.342]]\n"
     ]
    }
   ],
   "source": [
    "A = np.exp(np.linspace(0.1,10,32)).reshape(4,8)/3000.\n",
    "print('A: \\n', A )"
   ]
  },
  {
   "cell_type": "markdown",
   "metadata": {},
   "source": [
    "É possível diminuir o número de casas decimais e suprimir a notação exponencial utilizando\n",
    "a função **set_printoption** do numpy:"
   ]
  },
  {
   "cell_type": "code",
   "execution_count": 126,
   "metadata": {
    "collapsed": false
   },
   "outputs": [
    {
     "name": "stdout",
     "output_type": "stream",
     "text": [
      "A: \n",
      " [[ 0.     0.001  0.001  0.001  0.001  0.002  0.003  0.003]\n",
      " [ 0.005  0.007  0.009  0.012  0.017  0.023  0.032  0.044]\n",
      " [ 0.061  0.084  0.116  0.159  0.219  0.301  0.415  0.571]\n",
      " [ 0.785  1.081  1.487  2.047  2.817  3.876  5.335  7.342]]\n"
     ]
    }
   ],
   "source": [
    "np.set_printoptions(suppress=True, precision=3)\n",
    "\n",
    "print('A: \\n', A )"
   ]
  },
  {
   "cell_type": "markdown",
   "metadata": {},
   "source": [
    "Imprimindo arrays binários\n",
    "============================\n",
    "\n",
    "Array booleanos são impressos com as palavras **True** e **False**, como no exemplo a seguir:"
   ]
  },
  {
   "cell_type": "code",
   "execution_count": 127,
   "metadata": {
    "collapsed": false
   },
   "outputs": [
    {
     "name": "stdout",
     "output_type": "stream",
     "text": [
      "A = \n",
      " [[ True  True  True  True False  True  True False  True False]\n",
      " [False  True False False False  True  True False False False]\n",
      " [ True False  True False False False  True False False  True]\n",
      " [False False False  True  True False  True  True  True  True]\n",
      " [False  True  True False  True False False  True  True False]]\n"
     ]
    }
   ],
   "source": [
    "A = np.random.rand(5,10) > 0.5\n",
    "print('A = \\n', A )"
   ]
  },
  {
   "cell_type": "markdown",
   "metadata": {},
   "source": [
    "Para facilitar a visualização destes arrays, é possível converter os valores para inteiros utilizando\n",
    "o método **astype(int)**:"
   ]
  },
  {
   "cell_type": "code",
   "execution_count": 128,
   "metadata": {
    "collapsed": false
   },
   "outputs": [
    {
     "name": "stdout",
     "output_type": "stream",
     "text": [
      "A = \n",
      " [[1 1 1 1 0 1 1 0 1 0]\n",
      " [0 1 0 0 0 1 1 0 0 0]\n",
      " [1 0 1 0 0 0 1 0 0 1]\n",
      " [0 0 0 1 1 0 1 1 1 1]\n",
      " [0 1 1 0 1 0 0 1 1 0]]\n"
     ]
    }
   ],
   "source": [
    "print ('A = \\n', A.astype(int))"
   ]
  },
  {
   "cell_type": "code",
   "execution_count": null,
   "metadata": {
    "collapsed": true
   },
   "outputs": [],
   "source": []
  }
 ],
 "metadata": {
  "kernelspec": {
   "display_name": "Python 3",
   "language": "python",
   "name": "python3"
  },
  "language_info": {
   "codemirror_mode": {
    "name": "ipython",
    "version": 3
   },
   "file_extension": ".py",
   "mimetype": "text/x-python",
   "name": "python",
   "nbconvert_exporter": "python",
   "pygments_lexer": "ipython3",
   "version": "3.6.0"
  }
 },
 "nbformat": 4,
 "nbformat_minor": 0
}
