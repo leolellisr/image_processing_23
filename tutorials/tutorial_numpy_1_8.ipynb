{
 "cells": [
  {
   "cell_type": "markdown",
   "metadata": {
    "toc": "true"
   },
   "source": [
    "# Table of Contents\n",
    " <p><div class=\"lev1 toc-item\"><a href=\"#Tile\" data-toc-modified-id=\"Tile-1\"><span class=\"toc-item-num\">1&nbsp;&nbsp;</span>Tile</a></div><div class=\"lev2 toc-item\"><a href=\"#Exemplo-unidimensional---replicando-as-colunas\" data-toc-modified-id=\"Exemplo-unidimensional---replicando-as-colunas-11\"><span class=\"toc-item-num\">1.1&nbsp;&nbsp;</span>One-dimensional example - replicating the columns</a></div><div class=\"lev2 toc-item\"><a href=\"#Exemplo-unidimensional---replicando-as-linhas\" data-toc-modified-id=\"Exemplo-unidimensional---replicando-as-linhas-12\"><span class=\"toc-item-num\">1.2&nbsp;&nbsp;</span>One-dimensional example - replicating the lines</a></div><div class=\"lev2 toc-item\"><a href=\"#Exemplo-bidimensional---replicando-as-colunas\" data-toc-modified-id=\"Exemplo-bidimensional---replicando-as-colunas-13\"><span class=\"toc-item-num\">1.3&nbsp;&nbsp;</span>Two-dimensional example - replicating the columns</a></div><div class=\"lev2 toc-item\"><a href=\"#Exemplo-bidimensional---replicando-as-linhas\" data-toc-modified-id=\"Exemplo-bidimensional---replicando-as-linhas-14\"><span class=\"toc-item-num\">1.4&nbsp;&nbsp;</span>Two-dimensional example - replicating the lines</a></div><div class=\"lev2 toc-item\"><a href=\"#Exemplo-bidimensional---replicando-as-linhas-e-colunas-simultaneamente\" data-toc-modified-id=\"Exemplo-bidimensional---replicando-as-linhas-e-colunas-simultaneamente-15\"><span class=\"toc-item-num\">1.5&nbsp;&nbsp;</span>Two-dimensional example - replicating the rows and columns simultaneously</a></div><div class=\"lev1 toc-item\"><a href=\"#Documentação-Oficial-Numpy\" data-toc-modified-id=\"Documentação-Oficial-Numpy-2\"><span class=\"toc-item-num\">2&nbsp;&nbsp;</span>Numpy Official Documentation</a></div>"
   ]
  },
  {
   "cell_type": "markdown",
   "metadata": {},
   "source": [
    "# Tile\n",
    "\n",
    "An important function of the numpy library is tile, which generates repetitions of the array passed with a parameter. The number of repetitions is given by the reps parameter\n",
    "\n",
    "## One-dimensional example - replicating the columns"
   ]
  },
  {
   "cell_type": "code",
   "execution_count": 10,
   "metadata": {},
   "outputs": [
    {
     "name": "stdout",
     "output_type": "stream",
     "text": [
      "a = \n",
      " [0 1 2]\n",
      "\n",
      "Resultado da operação np.tile(a,2): \n",
      " [0 1 2 0 1 2]\n"
     ]
    }
   ],
   "source": [
    "import numpy as np\n",
    "\n",
    "a = np.array([0, 1, 2])\n",
    "print('a = \\n', a)\n",
    "\n",
    "print()\n",
    "print('Result of operation np.tile(a,2): \\n',np.tile(a,2))"
   ]
  },
  {
   "cell_type": "markdown",
   "metadata": {},
   "source": [
    "## One-dimensional example - replicating the lines\n",
    "\n",
    "To modify the dimensions in which the replication will be carried out, modify the reps parameter, passing instead of an int, a tuple with the dimensions you want to change"
   ]
  },
  {
   "cell_type": "code",
   "execution_count": 9,
   "metadata": {},
   "outputs": [
    {
     "name": "stdout",
     "output_type": "stream",
     "text": [
      "a = \n",
      " [[0 1]\n",
      " [2 3]]\n",
      "\n",
      "Resultado da operação np.tile(a,(2,1)):\n",
      " [[0 1]\n",
      " [2 3]\n",
      " [0 1]\n",
      " [2 3]]\n"
     ]
    }
   ],
   "source": [
    "print('a = \\n', a)\n",
    "print()\n",
    "print(\"Result of operation np.tile(a,(2,1)):\\n\" , np.tile(a,(2,1)))"
   ]
  },
  {
   "cell_type": "markdown",
   "metadata": {},
   "source": [
    "## Two-dimensional example - replicating the columns"
   ]
  },
  {
   "cell_type": "code",
   "execution_count": 8,
   "metadata": {},
   "outputs": [
    {
     "name": "stdout",
     "output_type": "stream",
     "text": [
      "a = \n",
      " [[0 1]\n",
      " [2 3]]\n",
      "\n",
      "Resultado da operação np.tile(a,2):\n",
      " [[0 1 0 1]\n",
      " [2 3 2 3]]\n"
     ]
    }
   ],
   "source": [
    "a = np.array([[0, 1], [2, 3]])\n",
    "print('a = \\n', a)\n",
    "print()\n",
    "\n",
    "print(\"Result of operation np.tile(a,2):\\n\", np.tile(a,2))"
   ]
  },
  {
   "cell_type": "markdown",
   "metadata": {},
   "source": [
    "## Two-dimensional example - replicating the lines"
   ]
  },
  {
   "cell_type": "code",
   "execution_count": 14,
   "metadata": {},
   "outputs": [
    {
     "name": "stdout",
     "output_type": "stream",
     "text": [
      "a = \n",
      " [[0 1]\n",
      " [2 3]]\n",
      "\n",
      "Resultado da operação np.tile(a,(3,1)):\n",
      " [[0 1]\n",
      " [2 3]\n",
      " [0 1]\n",
      " [2 3]\n",
      " [0 1]\n",
      " [2 3]]\n"
     ]
    }
   ],
   "source": [
    "a = np.array([[0, 1], [2, 3]])\n",
    "print('a = \\n', a)\n",
    "\n",
    "print()\n",
    "print(\"Result of operation np.tile(a,(3,1)):\\n\", np.tile(a,(3,1)))"
   ]
  },
  {
   "cell_type": "markdown",
   "metadata": {},
   "source": [
    "## Two-dimensional example - replicating rows and columns simultaneously"
   ]
  },
  {
   "cell_type": "code",
   "execution_count": 16,
   "metadata": {},
   "outputs": [
    {
     "name": "stdout",
     "output_type": "stream",
     "text": [
      "a = \n",
      " [[0 1]\n",
      " [2 3]]\n",
      "\n",
      "Resultado da operação np.tile(a,(2,2)):\n",
      " [[0 1 0 1]\n",
      " [2 3 2 3]\n",
      " [0 1 0 1]\n",
      " [2 3 2 3]]\n"
     ]
    }
   ],
   "source": [
    "a = np.array([[0, 1], [2, 3]])\n",
    "print('a = \\n', a)\n",
    "\n",
    "print()\n",
    "print(\"Result of operation np.tile(a,(2,2)):\\n\", np.tile(a,(2,2)))"
   ]
  },
  {
   "cell_type": "markdown",
   "metadata": {},
   "source": [
    "# Numpy Official Documentation\n",
    "\n",
    "- [tile](http://docs.scipy.org/doc/numpy/reference/generated/numpy.tile.html)\n",
    "- [repeat](http://docs.scipy.org/doc/numpy/reference/generated/numpy.repeat.html)\n"
   ]
  }
 ],
 "metadata": {
  "kernelspec": {
   "display_name": "Python 3 (ipykernel)",
   "language": "python",
   "name": "python3"
  },
  "language_info": {
   "codemirror_mode": {
    "name": "ipython",
    "version": 3
   },
   "file_extension": ".py",
   "mimetype": "text/x-python",
   "name": "python",
   "nbconvert_exporter": "python",
   "pygments_lexer": "ipython3",
   "version": "3.10.12"
  },
  "toc": {
   "colors": {
    "hover_highlight": "#DAA520",
    "running_highlight": "#FF0000",
    "selected_highlight": "#FFD700"
   },
   "moveMenuLeft": true,
   "nav_menu": {
    "height": "158px",
    "width": "252px"
   },
   "navigate_menu": true,
   "number_sections": true,
   "sideBar": true,
   "threshold": 4,
   "toc_cell": true,
   "toc_section_display": "block",
   "toc_window_display": false
  }
 },
 "nbformat": 4,
 "nbformat_minor": 2
}
