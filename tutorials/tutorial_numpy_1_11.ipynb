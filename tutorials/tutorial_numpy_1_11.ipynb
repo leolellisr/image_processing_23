{
 "cells": [
  {
   "cell_type": "markdown",
   "metadata": {
    "toc": "true"
   },
   "source": [
    "# Table of Contents\n",
    " <p><div class=\"lev1 toc-item\"><a href=\"#Formatando-arrays-para-impressão\" data-toc-modified-id=\"Formatando-arrays-para-impressão-1\"><span class=\"toc-item-num\">1&nbsp;&nbsp;</span>Formatting arrays for printing</a></div><div class=\"lev2 toc-item\"><a href=\"#Imprimindo-arrays-de-ponto-flutuante\" data-toc-modified-id=\"Imprimindo-arrays-de-ponto-flutuante-11\"><span class=\"toc-item-num\">1.1&nbsp;&nbsp;</span>Printing floating point arrays</a></div><div class=\"lev2 toc-item\"><a href=\"#Imprimindo-arrays-binários\" data-toc-modified-id=\"Imprimindo-arrays-binários-12\"><span class=\"toc-item-num\">1.2&nbsp;&nbsp;</span>Printing binary arrays</a></div>"
   ]
  },
  {
   "cell_type": "markdown",
   "metadata": {},
   "source": [
    "# Formatting arrays for printing"
   ]
  },
  {
   "cell_type": "markdown",
   "metadata": {
    "collapsed": true
   },
   "source": [
    "## Printing floating point arrays\n",
    "\n",
    "When printing arrays with floating point values, NumPy generally prints the array with many decimal places and with scientific notation, which makes viewing difficult."
   ]
  },
  {
   "cell_type": "code",
   "execution_count": 2,
   "metadata": {},
   "outputs": [
    {
     "name": "stdout",
     "output_type": "stream",
     "text": [
      "A: \n",
      " [[  3.68390306e-04   5.06993321e-04   6.97744275e-04   9.60263289e-04\n",
      "    1.32155235e-03   1.81877265e-03   2.50306691e-03   3.44481975e-03]\n",
      " [  4.74089730e-03   6.52461051e-03   8.97942724e-03   1.23578432e-02\n",
      "    1.70073529e-02   2.34061923e-02   3.22125283e-02   4.43321564e-02]\n",
      " [  6.10116684e-02   8.39666729e-02   1.15558259e-01   1.59035850e-01\n",
      "    2.18871431e-01   3.01219527e-01   4.14550236e-01   5.70520443e-01]\n",
      " [  7.85172815e-01   1.08058591e+00   1.48714510e+00   2.04666794e+00\n",
      "    2.81670543e+00   3.87646151e+00   5.33493976e+00   7.34215526e+00]]\n"
     ]
    }
   ],
   "source": [
    "import numpy as np\n",
    "\n",
    "A = np.exp(np.linspace(0.1,10,32)).reshape(4,8)/3000.\n",
    "print('A: \\n', A)"
   ]
  },
  {
   "cell_type": "markdown",
   "metadata": {},
   "source": [
    "It is possible to reduce the number of decimal places and suppress exponential notation using the numpy function <b>set_printoption</b>:"
   ]
  },
  {
   "cell_type": "code",
   "execution_count": 6,
   "metadata": {},
   "outputs": [
    {
     "name": "stdout",
     "output_type": "stream",
     "text": [
      "A: \n",
      " [[ 0.     0.001  0.001  0.001  0.001  0.002  0.003  0.003]\n",
      " [ 0.005  0.007  0.009  0.012  0.017  0.023  0.032  0.044]\n",
      " [ 0.061  0.084  0.116  0.159  0.219  0.301  0.415  0.571]\n",
      " [ 0.785  1.081  1.487  2.047  2.817  3.876  5.335  7.342]]\n"
     ]
    }
   ],
   "source": [
    "np.set_printoptions(suppress=True, precision=3)\n",
    "\n",
    "print('A: \\n', A)"
   ]
  },
  {
   "cell_type": "markdown",
   "metadata": {},
   "source": [
    "## Printing binary arrays\n",
    "\n",
    "Boolean arrays are printed with the words <b>True</b> and <b>False</b>, as in the following example:"
   ]
  },
  {
   "cell_type": "code",
   "execution_count": 7,
   "metadata": {},
   "outputs": [
    {
     "name": "stdout",
     "output_type": "stream",
     "text": [
      "A = \n",
      " [[ True False  True False False  True False False False False]\n",
      " [False  True False  True  True False  True False  True False]\n",
      " [ True False False False False  True False False False False]\n",
      " [ True  True  True  True  True  True False  True  True False]\n",
      " [False  True False  True False False False  True False False]]\n"
     ]
    }
   ],
   "source": [
    "A = np.random.rand(5,10) > 0.5\n",
    "print('A = \\n', A)"
   ]
  },
  {
   "cell_type": "markdown",
   "metadata": {},
   "source": [
    "To facilitate the visualization of these arrays, it is possible to convert the values to integers using the <b>astype(int)</b> method:"
   ]
  },
  {
   "cell_type": "code",
   "execution_count": 9,
   "metadata": {},
   "outputs": [
    {
     "name": "stdout",
     "output_type": "stream",
     "text": [
      "A = \n",
      " [[1 0 1 0 0 1 0 0 0 0]\n",
      " [0 1 0 1 1 0 1 0 1 0]\n",
      " [1 0 0 0 0 1 0 0 0 0]\n",
      " [1 1 1 1 1 1 0 1 1 0]\n",
      " [0 1 0 1 0 0 0 1 0 0]]\n"
     ]
    }
   ],
   "source": [
    "print('A = \\n', A.astype(int))"
   ]
  }
 ],
 "metadata": {
  "kernelspec": {
   "display_name": "Python 3 (ipykernel)",
   "language": "python",
   "name": "python3"
  },
  "language_info": {
   "codemirror_mode": {
    "name": "ipython",
    "version": 3
   },
   "file_extension": ".py",
   "mimetype": "text/x-python",
   "name": "python",
   "nbconvert_exporter": "python",
   "pygments_lexer": "ipython3",
   "version": "3.10.12"
  },
  "toc": {
   "colors": {
    "hover_highlight": "#DAA520",
    "running_highlight": "#FF0000",
    "selected_highlight": "#FFD700"
   },
   "moveMenuLeft": true,
   "nav_menu": {
    "height": "84px",
    "width": "252px"
   },
   "navigate_menu": true,
   "number_sections": true,
   "sideBar": true,
   "threshold": 4,
   "toc_cell": true,
   "toc_section_display": "block",
   "toc_window_display": false
  }
 },
 "nbformat": 4,
 "nbformat_minor": 2
}
