{
 "cells": [
  {
   "cell_type": "markdown",
   "metadata": {
    "toc": "true"
   },
   "source": [
    "# Table of Contents\n",
    " <p><div class=\"lev1 toc-item\"><a href=\"#My-first-image-processing-programs-using-Numpy\" data-toc-modified-id=\"My-first-image-processing-programs-using-Numpy-1\"><span class=\"toc-item-num\">1&nbsp;&nbsp;</span>My-first-image-processing-programs-using-Numpy</a></div><div class=\"lev2 toc-item\"><a href=\"#Learning-to-program-using-NumPy\" data-toc-modified-id=\"Learning-to-program-using-NumPy-11\"><span class=\"toc-item-num\">1.1&nbsp;&nbsp;</span>Learning-to-program-using-NumPy</a></div><div class=\"lev2 toc-item\"></div>"
   ]
  },
  {
   "cell_type": "markdown",
   "metadata": {},
   "source": [
    "# My first image processing programs using Numpy\n",
    "\n",
    "In this course we will explore the NumPy package, which added the **ndarray** type to Python. Contrary to\n",
    "use a specific image processing package or library, where the image is a class\n",
    "specific, where the functions are primarily used for image processing, we will\n",
    "use NumPy's ndarray to represent our image.\n",
    "\n",
    "In this course, we will practice matrix style programming, that is, trying to solve the problem\n",
    "in a matrix form. With this we intend to show that this style of programming helps to reuse\n",
    "known matrix operations and manipulations, increases code clarity, reducing the number of\n",
    "lines and favors execution efficiency given the increasing availability of hardware\n",
    "that processes vector operations."
   ]
  },
  {
   "cell_type": "markdown",
   "metadata": {},
   "source": [
    "## Learning to program using NumPy\n",
    "\n",
    "There are important concepts and functions to be learned in NumPy and they will be introduced little by little as you go.\n",
    "that the course evolves. This week, the focus is on the use of slicing. To do this, some reading is necessary.\n",
    "fundamentals:\n",
    "\n",
    "- [ndarray organization](02_tutorial_numpy_1_1.ipynb)\n",
    "- [ndarray 1D slicing](02_tutorial_numpy_1_2.ipynb)\n",
    "- [ndarray 2D slicing](02_tutorial_numpy_1_3.ipynb)\n",
    "- [Shallow copy and deep copy of ndarray](02_tutorial_numpy_1_4.ipynb)\n",
    "- [Matrix operations](02_tutorial_numpy_1_5.ipynb)"
   ]
  },
  {
   "cell_type": "code",
   "execution_count": null,
   "metadata": {},
   "outputs": [],
   "source": []
  }
 ],
 "metadata": {
  "kernelspec": {
   "display_name": "Python 3 (ipykernel)",
   "language": "python",
   "name": "python3"
  },
  "language_info": {
   "codemirror_mode": {
    "name": "ipython",
    "version": 3
   },
   "file_extension": ".py",
   "mimetype": "text/x-python",
   "name": "python",
   "nbconvert_exporter": "python",
   "pygments_lexer": "ipython3",
   "version": "3.10.12"
  },
  "toc": {
   "colors": {
    "hover_highlight": "#DAA520",
    "running_highlight": "#FF0000",
    "selected_highlight": "#FFD700"
   },
   "moveMenuLeft": true,
   "nav_menu": {
    "height": "83px",
    "width": "252px"
   },
   "navigate_menu": true,
   "number_sections": true,
   "sideBar": true,
   "threshold": 4,
   "toc_cell": true,
   "toc_section_display": "block",
   "toc_window_display": false
  }
 },
 "nbformat": 4,
 "nbformat_minor": 2
}
