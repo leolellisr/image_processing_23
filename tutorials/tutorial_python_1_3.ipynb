{
 "cells": [
  {
   "cell_type": "markdown",
   "metadata": {
    "toc": "true"
   },
   "source": [
    "# Table of Contents\n",
    " <p><div class=\"lev1 toc-item\"><a href=\"#Funções-em-Python\" data-toc-modified-id=\"Funções-em-Python-1\"><span class=\"toc-item-num\">1&nbsp;&nbsp;</span>Funções em Python</a></div><div class=\"lev2 toc-item\"><a href=\"#Sintaxe-para-definir-funções\" data-toc-modified-id=\"Sintaxe-para-definir-funções-11\"><span class=\"toc-item-num\">1.1&nbsp;&nbsp;</span>Sintaxe para definir funções</a></div><div class=\"lev2 toc-item\"><a href=\"#Parâmetros-da-função\" data-toc-modified-id=\"Parâmetros-da-função-12\"><span class=\"toc-item-num\">1.2&nbsp;&nbsp;</span>Parâmetros da função</a></div><div class=\"lev2 toc-item\"><a href=\"#Referências\" data-toc-modified-id=\"Referências-13\"><span class=\"toc-item-num\">1.3&nbsp;&nbsp;</span>Referências</a></div>"
   ]
  },
  {
   "cell_type": "markdown",
   "metadata": {},
   "source": [
    "# Funções em Python\n",
    "\n",
    "## Sintaxe para definir funções\n",
    "\n",
    "As funções em Python utilizam a palavra chave def seguida do nome da função e os parâmetros entre parêntesis terminado por dois pontos como no exemplo a seguir onde a função soma é definida para retornar a soma de seus dois parâmetros. Observe que o corpo da função é indentado da definição da função:"
   ]
  },
  {
   "cell_type": "code",
   "execution_count": 4,
   "metadata": {
    "collapsed": true
   },
   "outputs": [],
   "source": [
    "def soma( x, y):\n",
    "    s = x + y\n",
    "    return s"
   ]
  },
  {
   "cell_type": "markdown",
   "metadata": {},
   "source": [
    "Para se realizar a chamada da função soma, basta utilizá-la pelo seu nome passando os parâmetros como argumentos da função. Veja o exemplo a seguir"
   ]
  },
  {
   "cell_type": "code",
   "execution_count": 5,
   "metadata": {},
   "outputs": [
    {
     "name": "stdout",
     "output_type": "stream",
     "text": [
      "70\n"
     ]
    }
   ],
   "source": [
    "r = soma(50, 20)\n",
    "print (r)"
   ]
  },
  {
   "cell_type": "markdown",
   "metadata": {},
   "source": [
    "## Parâmetros da função\n",
    "\n",
    "Existem dois tipos de parâmetros: posicional e com palavra chave. Os posicionais são aqueles que são identificados pela ordem em que aparecem na lista dos parâmetros da função. Já os com palavra chave, são identificados por nome=. Os parâmetros por palavra chave podem também ser posicionais, mas tem a vantagem que se não forem passados, ele assumem o valor mencionado por falta (default). Veja o exemplo abaixo:"
   ]
  },
  {
   "cell_type": "code",
   "execution_count": 7,
   "metadata": {
    "collapsed": true
   },
   "outputs": [],
   "source": [
    "def soma( x, y, squared=False):\n",
    "    if squared:\n",
    "        s = (x + y)**2\n",
    "    else:\n",
    "        s = (x + y)\n",
    "    return s"
   ]
  },
  {
   "cell_type": "markdown",
   "metadata": {},
   "source": [
    "Observe que os parâmetros, x e y são posicionais e serão os 2 primeiros argumentos da chamada da função. O terceiro parâmetro é por palavra chave e portanto opcional, posso usá-lo tanto na forma posicional, como na forma explícita com a palavra chave. A grande vantagem neste esquema é que posso ter um grande número de parâmetros com palavra chave e na hora de usar a função deixar explicitamente só os parâmetros desejados.\n",
    "\n",
    "Veja os exemplos:"
   ]
  },
  {
   "cell_type": "code",
   "execution_count": 10,
   "metadata": {},
   "outputs": [
    {
     "name": "stdout",
     "output_type": "stream",
     "text": [
      "soma(2, 3): 5\n",
      "soma(2, 3, False): 5\n",
      "soma(2, 3, True): 25\n",
      "soma(2, 3, squared= True): 25\n"
     ]
    }
   ],
   "source": [
    "print ('soma(2, 3):', soma(2, 3))\n",
    "print ('soma(2, 3, False):', soma(2, 3, False))\n",
    "print ('soma(2, 3, True):', soma(2, 3, True))\n",
    "print ('soma(2, 3, squared= True):', soma(2, 3, squared= True))"
   ]
  },
  {
   "cell_type": "markdown",
   "metadata": {},
   "source": [
    "## Referências\n",
    "\n",
    "As referências a seguir são da documentação oficial do Python. Neste curso, iremos utilizar muito pouco de sua biblioteca padrão, assim não há necessidade (nem condições) de se estudar estas referências todas. O nosso foco neste curso será no NumPy e aos poucos iremos oferecer estes materiais.\n",
    "\n",
    " - [Python Language Reference](https://docs.python.org/2/reference/)\n",
    " - [Python Standard Library](https://docs.python.org/2/library/index.html)\n"
   ]
  }
 ],
 "metadata": {
  "kernelspec": {
   "display_name": "Python 3",
   "language": "python",
   "name": "python3"
  },
  "language_info": {
   "codemirror_mode": {
    "name": "ipython",
    "version": 3
   },
   "file_extension": ".py",
   "mimetype": "text/x-python",
   "name": "python",
   "nbconvert_exporter": "python",
   "pygments_lexer": "ipython3",
   "version": "3.6.2"
  },
  "toc": {
   "colors": {
    "hover_highlight": "#DAA520",
    "running_highlight": "#FF0000",
    "selected_highlight": "#FFD700"
   },
   "moveMenuLeft": true,
   "nav_menu": {
    "height": "86px",
    "width": "252px"
   },
   "navigate_menu": true,
   "number_sections": true,
   "sideBar": true,
   "threshold": 4,
   "toc_cell": true,
   "toc_section_display": "block",
   "toc_window_display": false
  }
 },
 "nbformat": 4,
 "nbformat_minor": 2
}
