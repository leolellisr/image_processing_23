{
 "cells": [
  {
   "cell_type": "markdown",
   "metadata": {},
   "source": [
    "# Slicing in one-dimensional narray\n",
    "\n",
    "An important feature of numpy is slicing, in which it is possible to access a subset of the array in different ways. Slicing defines the indexes where the array will be accessed, defining the starting point, ending point and the step between them, in this order: [initial:end:step]."
   ]
  },
  {
   "cell_type": "markdown",
   "metadata": {},
   "source": [
    "# Initializing a one-dimensional array"
   ]
  },
  {
   "cell_type": "code",
   "execution_count": 2,
   "metadata": {},
   "outputs": [
    {
     "name": "stdout",
     "output_type": "stream",
     "text": [
      "a = \n",
      " [ 0  1  2  3  4  5  6  7  8  9 10 11 12 13 14 15 16 17 18 19]\n"
     ]
    }
   ],
   "source": [
    "import numpy as np\n",
    "\n",
    "a = np.arange(20) # a é um vetor de dimensão 20\n",
    "print('a = \\n', a)"
   ]
  },
  {
   "cell_type": "markdown",
   "metadata": {},
   "source": [
    "# Simple slicing example\n",
    "\n",
    "To perform the slicing, 3 parameters are used, placed at the location of the array index. The 3 parameters are separated by a colon \":\". All 3 parameters can be optional that occur when the initial value is 0, the final value is the size of the array and the step is 1. Remember that their order is: [initial:end:step]. If the step is 1 it is: [initial:final]. If the start is 0 it is: [:final] and if the end is the last it is: [start:] and if they are all [:].\n",
    "\n",
    "Slicing is done starting with the first value, adding the step until before the last value. Three aspects are extremely important to remember: The initial index starts at zero, the final index is never reached, the last index used is always the one immediately previous and Numpy supports negative indices, which is an indexing from the last (-1) to the first element (-W).\n",
    "\n",
    "The following examples help to establish these concepts.\n",
    "\n",
    "The code below accesses the odd elements starting from 1 to 14:"
   ]
  },
  {
   "cell_type": "code",
   "execution_count": 5,
   "metadata": {},
   "outputs": [
    {
     "name": "stdout",
     "output_type": "stream",
     "text": [
      "Resultado da operação a[1:15:2]\n",
      "[ 1  3  5  7  9 11 13]\n"
     ]
    }
   ],
   "source": [
    "a = np.arange(20)\n",
    "print('Result of operation a[1:15:2]')\n",
    "print(a[1:15:2])"
   ]
  },
  {
   "cell_type": "markdown",
   "metadata": {},
   "source": [
    "# Example of slicing with negative indices\n",
    "\n",
    "## Accessing the last element with negative index\n",
    "\n",
    "The code below accesses the odd elements up to before the last element:"
   ]
  },
  {
   "cell_type": "code",
   "execution_count": 11,
   "metadata": {},
   "outputs": [
    {
     "name": "stdout",
     "output_type": "stream",
     "text": [
      "Resultado da operação a[1:-1:2]\n",
      "[ 1  3  5  7  9 11 13 15 17]\n",
      "Note que o fatiamento termina antes do último elemento (-1)\n"
     ]
    }
   ],
   "source": [
    "a = np.arange(20)\n",
    "print('Result of operation a[1:-1:2]')\n",
    "print(a[1:-1:2])\n",
    "print('Note that slicing ends before the last element (-1)')"
   ]
  },
  {
   "cell_type": "markdown",
   "metadata": {},
   "source": [
    "## Matrix inversion with negative step (step = -1)"
   ]
  },
  {
   "cell_type": "code",
   "execution_count": 12,
   "metadata": {},
   "outputs": [
    {
     "name": "stdout",
     "output_type": "stream",
     "text": [
      "Resultado da operação a[-3:2:-1]\n",
      "[17 16 15 14 13 12 11 10  9  8  7  6  5  4  3]\n",
      "Note que o fatiamento retorna o array invertido\n",
      "Antepenúltimo até o terceiro elemento com step = -1\n"
     ]
    }
   ],
   "source": [
    "a = np.arange(20)\n",
    "print('Result of operation a[-3:2:-1]')\n",
    "print(a[-3:2:-1])\n",
    "print('Note that slicing returns the array inverted')\n",
    "print('Second-to-last to third element with step = -1')"
   ]
  },
  {
   "cell_type": "markdown",
   "metadata": {},
   "source": [
    "# Advanced slicing\n",
    "\n",
    "It is possible to perform slicing using the 3 explicit parameters (lower limit, upper limit and step), or we can suppress some of these parameters. In these cases, the function takes the value defaut: lower limit = first element, upper limit = last element and step = 1.\n",
    "\n",
    "It is possible to perform slicing using the 3 explicit parameters\n",
    "(the lower limit, upper limit and the step), or we can suppress some\n",
    "of these parameters. In these cases the function takes the default value: limit\n",
    "bottom = first element, upper limit = last element and step = 1.\n",
    "\n",
    "\n",
    "|Initial proposal     | Equivalent  |\n",
    "|---------------------|-------------|\n",
    "|a[0:len(a):1]        | a[:]        |\n",
    "|a[0:10:1]            | a[:10]      |\n",
    "|a[0:10:2]            | a[:10:2]    |\n",
    "|a[2:len(a):1]        | a[2::]      |\n",
    "|a[2:len(a):2]        | a[2::2]     |"
   ]
  },
  {
   "cell_type": "markdown",
   "metadata": {},
   "source": [
    "## Supressão do indice limite inferior\n",
    "\n",
    "Quando o índice do limite inferior é omitido, é subentendido que é 0:"
   ]
  },
  {
   "cell_type": "code",
   "execution_count": 13,
   "metadata": {},
   "outputs": [
    {
     "name": "stdout",
     "output_type": "stream",
     "text": [
      "Resultado da operação a[:15:2]\n",
      "[ 0  2  4  6  8 10 12 14]\n",
      "Note que o fatiamento inicia do primeiro elemento\n",
      "Primeiro elemento até antes do 15o com passo duplo\n"
     ]
    }
   ],
   "source": [
    "a = np.arange(20)\n",
    "print('Resultado da operação a[:15:2]')\n",
    "print(a[:15:2])\n",
    "print('Note que o fatiamento inicia do primeiro elemento')\n",
    "print('Primeiro elemento até antes do 15o com passo duplo')"
   ]
  },
  {
   "cell_type": "markdown",
   "metadata": {},
   "source": [
    "## Suppression of the lower limit index\n",
    "\n",
    "When the lower bound index is omitted, it is assumed to be 0:"
   ]
  },
  {
   "cell_type": "code",
   "execution_count": 14,
   "metadata": {},
   "outputs": [
    {
     "name": "stdout",
     "output_type": "stream",
     "text": [
      "Resultado da operação a[1::2]\n",
      "[ 1  3  5  7  9 11 13 15 17 19]\n",
      "Note que o fatiamento termina último elemento\n",
      "Primeiro elemento até o último com passo duplo\n"
     ]
    }
   ],
   "source": [
    "a = np.arange(20)\n",
    "print('Result of operation a[1::2]')\n",
    "print(a[1::2])\n",
    "print('Note that slicing ends last element')\n",
    "print('First element to last with double step')"
   ]
  },
  {
   "cell_type": "markdown",
   "metadata": {},
   "source": [
    "## Step index suppression\n",
    "\n",
    "The step index is optional and when it is not indicated, its value is 1:"
   ]
  },
  {
   "cell_type": "code",
   "execution_count": 15,
   "metadata": {},
   "outputs": [
    {
     "name": "stdout",
     "output_type": "stream",
     "text": [
      "Resultado da operação a[1:15]\n",
      "[ 1  2  3  4  5  6  7  8  9 10 11 12 13 14]\n",
      "Note que o fatiamento tem step unitário\n",
      "Primeiro elemento até antes do 15o com passo um\n"
     ]
    }
   ],
   "source": [
    "a = np.arange(20)\n",
    "print('Result of operation a[1:15]')\n",
    "print(a[1:15])\n",
    "print('Note that slicing has unit step')\n",
    "print('First element before the 15th with step one')"
   ]
  },
  {
   "cell_type": "markdown",
   "metadata": {},
   "source": [
    "## All elements with unit pitch"
   ]
  },
  {
   "cell_type": "code",
   "execution_count": 16,
   "metadata": {},
   "outputs": [
    {
     "name": "stdout",
     "output_type": "stream",
     "text": [
      "Resultado da operação a[:]\n",
      "[ 0  1  2  3  4  5  6  7  8  9 10 11 12 13 14 15 16 17 18 19]\n",
      "Todos os elementos com passo unitário\n"
     ]
    }
   ],
   "source": [
    "a = np.arange(20)\n",
    "print('Result of operation a[:]')\n",
    "print(a[:])\n",
    "print('All elements with unit step')"
   ]
  },
  {
   "cell_type": "markdown",
   "metadata": {},
   "source": [
    "# Numpy Official Documentation\n",
    "\n",
    "[Scipy.org: indexing](https://docs.scipy.org/doc/numpy/reference/arrays.indexing.html)\n",
    "\n",
    "# Interesting Links\n",
    "\n",
    "[Scipy Lectures: Indexing and Slicing](http://www.scipy-lectures.org/intro/numpy/array_object.html#indexing-and-slicing)\n"
   ]
  },
  {
   "cell_type": "markdown",
   "metadata": {
    "collapsed": true
   },
   "source": []
  }
 ],
 "metadata": {
  "kernelspec": {
   "display_name": "Python 3 (ipykernel)",
   "language": "python",
   "name": "python3"
  },
  "language_info": {
   "codemirror_mode": {
    "name": "ipython",
    "version": 3
   },
   "file_extension": ".py",
   "mimetype": "text/x-python",
   "name": "python",
   "nbconvert_exporter": "python",
   "pygments_lexer": "ipython3",
   "version": "3.10.12"
  },
  "toc": {
   "colors": {
    "hover_highlight": "#DAA520",
    "running_highlight": "#FF0000",
    "selected_highlight": "#FFD700"
   },
   "moveMenuLeft": true,
   "nav_menu": {
    "height": "65px",
    "width": "252px"
   },
   "navigate_menu": true,
   "number_sections": true,
   "sideBar": true,
   "threshold": 4,
   "toc_cell": true,
   "toc_section_display": "block",
   "toc_window_display": false
  },
  "vscode": {
   "interpreter": {
    "hash": "31f2aee4e71d21fbe5cf8b01ff0e069b9275f58929596ceb00d14d90e3e16cd6"
   }
  }
 },
 "nbformat": 4,
 "nbformat_minor": 2
}
