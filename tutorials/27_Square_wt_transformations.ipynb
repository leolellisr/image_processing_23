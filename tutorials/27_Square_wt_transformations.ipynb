{
 "cells": [
  {
   "cell_type": "markdown",
   "metadata": {},
   "source": [
    "## 27 Quadrado com transformações\n",
    "\n",
    "Neste exemplo, a biblioteca glm é utilizada para criar e combinar matrizes a fim de transformar um único quadrado de diferentes formas."
   ]
  },
  {
   "cell_type": "code",
   "execution_count": 1,
   "metadata": {
    "ExecuteTime": {
     "end_time": "2020-05-19T06:00:01.116380Z",
     "start_time": "2020-05-19T05:59:44.037413Z"
    }
   },
   "outputs": [
    {
     "ename": "SystemExit",
     "evalue": "0",
     "output_type": "error",
     "traceback": [
      "An exception has occurred, use %tb to see the full traceback.\n",
      "\u001b[1;31mSystemExit\u001b[0m\u001b[1;31m:\u001b[0m 0\n"
     ]
    },
    {
     "name": "stderr",
     "output_type": "stream",
     "text": [
      "C:\\Users\\Rapha\\Anaconda3\\lib\\site-packages\\IPython\\core\\interactiveshell.py:2889: UserWarning: To exit: use 'exit', 'quit', or Ctrl-D.\n",
      "  warn(\"To exit: use 'exit', 'quit', or Ctrl-D.\", stacklevel=1)\n"
     ]
    }
   ],
   "source": [
    "import glm\n",
    "import numpy as np\n",
    "import OpenGL.GL as gl\n",
    "from PyQt5 import QtOpenGL\n",
    "from PyQt5.QtCore import QCoreApplication\n",
    "from PyQt5.QtWidgets import QApplication\n",
    "\n",
    "from cg.shader_programs.SimpleShaderProgram_v2 import SimpleShaderProgram\n",
    "from cg.renderers.ModelRenderer_v2 import ModelRenderer\n",
    "from cg.models.SquareMesh_v1 import SquareMesh\n",
    "\n",
    "class MyWidget(QtOpenGL.QGLWidget):\n",
    "    def initializeGL(self):\n",
    "        \n",
    "        # cria uma malha quadrada\n",
    "        square_mesh = SquareMesh(0.5, 0.5, 5, 5)\n",
    "        \n",
    "        # cria o objeto responsável por carregar os dados para a GPU e renderizá-los\n",
    "        self.squareRenderer = ModelRenderer(square_mesh.getVertexPositions(), vertex_indices=square_mesh.getVertexIndices())\n",
    "        \n",
    "        # cria um shader program simples\n",
    "        self.shaderProgram = SimpleShaderProgram()\n",
    "        \n",
    "        # ativa o shader programa para configurar uma cor única para todos os vértices\n",
    "        self.shaderProgram.bind()\n",
    "        self.shaderProgram.useUniformColor(True)\n",
    "        self.shaderProgram.release()\n",
    "\n",
    "        # recupera o endereço da variável de entrada do shader program\n",
    "        position_loc = self.shaderProgram.getVertexPositionLoc()\n",
    "        \n",
    "        # configura os dados do modelo para serem os dados de entrada do shader program\n",
    "        self.squareRenderer.setVertexPositionLoc(position_loc)\n",
    "\n",
    "        # inicializa a variável que contém o ângulo de rotação\n",
    "        self.angle = 0\n",
    "        \n",
    "    def paintGL(self):\n",
    "        \n",
    "        # configura a cor de background\n",
    "        gl.glClearColor(0, 0, 0, 1)\n",
    "        \n",
    "        # limpa o background com a cor especificada\n",
    "        gl.glClear(gl.GL_COLOR_BUFFER_BIT)\n",
    "        \n",
    "        # ativa o recurso de culling\n",
    "        gl.glEnable(gl.GL_CULL_FACE)\n",
    "        \n",
    "        # incrementa a variável que contém o ângulo de rotação\n",
    "        self.angle += 0.05\n",
    "        \n",
    "        # ativa o shader program que será executado pela GPU\n",
    "        self.shaderProgram.bind()\n",
    "        \n",
    "        # renderiza um quadrado com wireframe no centro\n",
    "        self.renderCentralTriangleWithWireframe()\n",
    "        \n",
    "        # renderiza um quadrado no canto superior direito\n",
    "        self.renderUpperRightTriangle()\n",
    "        \n",
    "        # renderiza um quadrado no canto inferior esquerdo\n",
    "        self.renderBottomLeftTriangle()\n",
    "        \n",
    "        # renderiza um quadrado no canto superior esquerdo\n",
    "        self.renderUpperLeftWireframe()\n",
    "        \n",
    "        # renderiza um quadrado no canto inferior direito\n",
    "        self.renderBottomRightWireframe()\n",
    "        \n",
    "        # desativa o shader program\n",
    "        self.shaderProgram.release()\n",
    "        \n",
    "        # solicita que o método paintGL seja chamado novamente\n",
    "        self.update()\n",
    "    \n",
    "    def renderCentralTriangleWithWireframe(self):\n",
    "        \n",
    "        # calcula as matrizes de rotação do quadrado\n",
    "        model_matrix = glm.rotate(glm.mat4(), glm.radians(self.angle), glm.vec3(0.0, 1.0, 0.0))\n",
    "        self.shaderProgram.setUniformMVPMatrix(model_matrix)\n",
    "        \n",
    "        # mudar a cor no shader e renderiza o quadrado\n",
    "        self.shaderProgram.setUniformColor(np.array([0.0, 0.0, 0.5, 1.0], dtype=np.float32))\n",
    "        self.squareRenderer.render()\n",
    "        \n",
    "        # mudar a cor no shader e renderiza o wireframe do quadrado\n",
    "        self.shaderProgram.setUniformColor(np.array([1.0, 1.0, 1.0, 1.0], dtype=np.float32))\n",
    "        self.squareRenderer.renderWireframe()\n",
    "    \n",
    "    def renderUpperRightTriangle(self):\n",
    "        \n",
    "        # calcula as matrizes de transformação do quadrado e atualiza a matriz do shader\n",
    "        # nesse caso, a composição das matrizes é feita manualmente\n",
    "        transl = glm.translate(glm.mat4(), glm.vec3(0.5, 0.5, 0.0))\n",
    "        rot = glm.rotate(glm.mat4(), glm.radians(self.angle), glm.vec3(0.0, 0.0, 1.0))\n",
    "        model_matrix = transl * rot\n",
    "        self.shaderProgram.setUniformMVPMatrix(model_matrix)\n",
    "        \n",
    "        # mudar a cor no shader e renderiza o quadrado\n",
    "        self.shaderProgram.setUniformColor(np.array([0.0, 0.0, 0.5, 1.0], dtype=np.float32))\n",
    "        self.squareRenderer.render()\n",
    "    \n",
    "    def renderBottomLeftTriangle(self):\n",
    "        \n",
    "        # calcula as matrizes de transformação do quadrado e atualiza a matriz do shader\n",
    "        # nesse caso, a composição das matrizes é feita manualmente\n",
    "        transl = glm.translate(glm.mat4(), glm.vec3(-0.5, -0.5, 0.0))\n",
    "        rot = glm.rotate(glm.mat4(), glm.radians(self.angle), glm.vec3(0.0, 0.0, 1.0))\n",
    "        scale = glm.scale(glm.mat4(), glm.vec3(0.5, 0.5, 0.0))\n",
    "        model_matrix = transl * rot * scale\n",
    "        self.shaderProgram.setUniformMVPMatrix(model_matrix)\n",
    "        \n",
    "        # mudar a cor no shader e renderiza o quadrado\n",
    "        self.shaderProgram.setUniformColor(np.array([0.0, 0.0, 0.5, 1.0], dtype=np.float32))\n",
    "        self.squareRenderer.render()\n",
    "    \n",
    "    def renderUpperLeftWireframe(self):\n",
    "        \n",
    "        # calcula a matriz de transformação do wireframe e atualiza a matriz do shader\n",
    "        # perceba que a matriz criada na linha anterior é passada como parâmetro para a função que gera a próxima matriz\n",
    "        # nesse caso, a composição das matrizes é feita pelo próprio glm\n",
    "        transl = glm.translate(glm.mat4(), glm.vec3(-0.5, 0.5, 0.0))\n",
    "        rot = glm.rotate(transl, glm.radians(-self.angle), glm.vec3(0.0, 0.0, 1.0))\n",
    "        model_matrix = glm.scale(rot, glm.vec3(1.0, 0.3, 0.0))\n",
    "        self.shaderProgram.setUniformMVPMatrix(model_matrix)\n",
    "        \n",
    "        # mudar a cor no shader e renderiza o wireframe do quadrado\n",
    "        self.shaderProgram.setUniformColor(np.array([1.0, 1.0, 1.0, 1.0], dtype=np.float32))\n",
    "        self.squareRenderer.renderWireframe()\n",
    "    \n",
    "    def renderBottomRightWireframe(self):\n",
    "        \n",
    "        # calcula a matriz de transformação do wireframe e atualiza a matriz do shader\n",
    "        # perceba que a matriz criada na linha anterior é passada como parâmetro para a função que gera a próxima matriz\n",
    "        # nesse caso, a composição das matrizes é feita pelo próprio glm\n",
    "        transl = glm.translate(glm.mat4(), glm.vec3(0.5, -0.5, 0.0))\n",
    "        model_matrix = glm.rotate(transl, glm.radians(-self.angle), glm.vec3(0.0, 0.0, 1.0))\n",
    "        self.shaderProgram.setUniformMVPMatrix(model_matrix)\n",
    "        \n",
    "        # mudar a cor no shader e renderiza o wireframe do quadrado\n",
    "        self.shaderProgram.setUniformColor(np.array([1.0, 1.0, 1.0, 1.0], dtype=np.float32))\n",
    "        self.squareRenderer.renderWireframe()\n",
    "\n",
    "    def resizeGL(self, width, height):\n",
    "        gl.glViewport(0, 0, width, height)\n",
    "\n",
    "def main():\n",
    "    import sys\n",
    "\n",
    "    #Criação de um aplicativo Qt\n",
    "    app = QCoreApplication.instance()\n",
    "    if app is None:\n",
    "        app = QApplication(sys.argv)\n",
    "\n",
    "    #Especificação do contexto OpenGL\n",
    "    glformat = QtOpenGL.QGLFormat()\n",
    "    glformat.setVersion(3, 3)\n",
    "    glformat.setDoubleBuffer(True)\n",
    "    glformat.setProfile(QtOpenGL.QGLFormat.CoreProfile)\n",
    "    \n",
    "    #Criação da janela de renderização\n",
    "    w = MyWidget(glformat)\n",
    "    w.resize(640, 480)\n",
    "    w.setWindowTitle('OpenGL example')\n",
    "    w.show()\n",
    "    \n",
    "    sys.exit(app.exec_())\n",
    "\n",
    "if __name__ == '__main__':\n",
    "    main()"
   ]
  },
  {
   "cell_type": "code",
   "execution_count": null,
   "metadata": {
    "ExecuteTime": {
     "start_time": "2020-05-18T18:56:16.542Z"
    }
   },
   "outputs": [
    {
     "name": "stderr",
     "output_type": "stream",
     "text": [
      "[NbConvertApp] Converting notebook 27_Varios_quadrados.ipynb to python\n",
      "[NbConvertApp] Writing 4298 bytes to 27_Varios_quadrados.py\n"
     ]
    }
   ],
   "source": [
    "! jupyter nbconvert --to python 27_Quadrado_com_transformacoes.ipynb\n",
    "%run -i 27_Quadrado_com_transformacoes.py"
   ]
  },
  {
   "cell_type": "code",
   "execution_count": null,
   "metadata": {
    "collapsed": true
   },
   "outputs": [],
   "source": []
  }
 ],
 "metadata": {
  "kernelspec": {
   "display_name": "Python 3",
   "language": "python",
   "name": "python3"
  },
  "language_info": {
   "codemirror_mode": {
    "name": "ipython",
    "version": 3
   },
   "file_extension": ".py",
   "mimetype": "text/x-python",
   "name": "python",
   "nbconvert_exporter": "python",
   "pygments_lexer": "ipython3",
   "version": "3.6.1"
  }
 },
 "nbformat": 4,
 "nbformat_minor": 2
}
