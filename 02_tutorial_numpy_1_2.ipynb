{
 "cells": [
  {
   "cell_type": "markdown",
   "metadata": {},
   "source": [
    "# Fatiamento em narray unidimensional\n",
    "\n",
    "Um recurso importante do numpy é o fatiamento no qual é possível acessar um subconjunto do array de diversas formas. O fatiamento define os índices onde o array será acessado definindo o ponto inicial, final e o passo entre eles, nesta ordem: [inicial:final:passo]."
   ]
  },
  {
   "cell_type": "markdown",
   "metadata": {},
   "source": [
    "# Inicializando um array unidimensional"
   ]
  },
  {
   "cell_type": "code",
   "execution_count": 1,
   "metadata": {},
   "outputs": [
    {
     "name": "stdout",
     "output_type": "stream",
     "text": [
      "a = \n",
      " [ 0  1  2  3  4  5  6  7  8  9 10 11 12 13 14 15 16 17 18 19]\n"
     ]
    }
   ],
   "source": [
    "import numpy as np\n",
    "\n",
    "a = np.arange(20) # a é um vetor de dimensão 20\n",
    "print('a = \\n', a)"
   ]
  },
  {
   "cell_type": "markdown",
   "metadata": {},
   "source": [
    "# Exemplo simples de fatiamento\n",
    "\n",
    "Para a realização do fatiamento são utilizados 3 parâmetros, colocados no local do índice do array. Os 3 parâmetros são separados por dois pontos \":\". Todos os 3 parâmetros podem ser opcionais que ocorrem quando o valor inicial é 0, o valor final é o tamanho do array e o passo é 1. Lembrar que a ordem deles é: [inicial:final:passo]. Se o passo for 1 fica: [inicial:final]. Se o início for 0 fica: [:final] e se o final for o último fica: [inicio:] e se forem todos [:].\n",
    "\n",
    "O fatiamento é feito começando pelo primeiro valor, adicionando-se o passo até antes do último valor. Três aspectos são extremamente importantes de serem lembrados: O índice inicial começa em zero, o índice final nunca é atingido, o último índice utilizado é sempre o imediatamente anterior e o Numpy admite índices negativos, que é uma indexação do último (-1) até o primeiro elemento (-W).\n",
    "\n",
    "Os exemplos a seguir ajudam a fixar estes conceitos.\n",
    "\n",
    "O código abaixo acessa os elementos ímpares começando de 1 até 14:"
   ]
  },
  {
   "cell_type": "code",
   "execution_count": 2,
   "metadata": {},
   "outputs": [
    {
     "name": "stdout",
     "output_type": "stream",
     "text": [
      "Resultado da operação a[1:15:2]\n",
      "[ 1  3  5  7  9 11 13]\n"
     ]
    }
   ],
   "source": [
    "a = np.arange(20)\n",
    "print('Resultado da operação a[1:15:2]')\n",
    "print(a[1:15:2])"
   ]
  },
  {
   "cell_type": "markdown",
   "metadata": {},
   "source": [
    "# Exemplo de fatiamento com indices negativos\n",
    "\n",
    "## Acessando o último elemento com índice negativo\n",
    "\n",
    "O código abaixo acessa os elementos ímpares até antes do último elemento:"
   ]
  },
  {
   "cell_type": "code",
   "execution_count": 3,
   "metadata": {},
   "outputs": [
    {
     "name": "stdout",
     "output_type": "stream",
     "text": [
      "Resultado da operação a[1:-1:2]\n",
      "[ 1  3  5  7  9 11 13 15 17]\n",
      "Note que o fatiamento termina antes do último elemento (-1)\n"
     ]
    }
   ],
   "source": [
    "a = np.arange(20)\n",
    "print('Resultado da operação a[1:-1:2]')\n",
    "print(a[1:-1:2])\n",
    "print('Note que o fatiamento termina antes do último elemento (-1)')"
   ]
  },
  {
   "cell_type": "markdown",
   "metadata": {},
   "source": [
    "## Inversão do array com step negativo (step = -1)"
   ]
  },
  {
   "cell_type": "code",
   "execution_count": 4,
   "metadata": {},
   "outputs": [
    {
     "name": "stdout",
     "output_type": "stream",
     "text": [
      "Resultado da operação a[-3:2:-1]\n",
      "[17 16 15 14 13 12 11 10  9  8  7  6  5  4  3]\n",
      "Note que o fatiamento retorna o array invertido\n",
      "Antepenúltimo até o terceiro elemento com step = -1\n"
     ]
    }
   ],
   "source": [
    "a = np.arange(20)\n",
    "print('Resultado da operação a[-3:2:-1]')\n",
    "print(a[-3:2:-1])\n",
    "print('Note que o fatiamento retorna o array invertido')\n",
    "print('Antepenúltimo até o terceiro elemento com step = -1')"
   ]
  },
  {
   "cell_type": "markdown",
   "metadata": {},
   "source": [
    "# Fatiamento avançado\n",
    "\n",
    "É possível realizar o fatiamento utilizando os 3 parâmetros explícitos ( o limite inferior, limite superior e o step), ou podemos suprimir algum desses parâmetros. Nestes casos a função toma o valor defaut: limite inferior = primeiro elemento, limite superior = último elemento e step = 1.\n",
    "\n",
    "É possível realizar o fatiamento utilizando os 3 parâmetros explícitos\n",
    "( o limite inferior, limite superior e o step), ou podemos suprimir algum \n",
    "desses parâmetros. Nestes casos a função toma o valor defaut: limite \n",
    "inferior = primeiro elemento, limite superior = último elemento e step = 1.\n",
    "\n",
    "\n",
    "|Proposta inicial     | Equivalente |\n",
    "|---------------------|-------------|\n",
    "|a[0:len(a):1]        | a[:]        |\n",
    "|a[0:10:1]            | a[:10]      |\n",
    "|a[0:10:2]            | a[:10:2]    |\n",
    "|a[2:len(a):1]        | a[2::]      |\n",
    "|a[2:len(a):2]        | a[2::2]     |"
   ]
  },
  {
   "cell_type": "markdown",
   "metadata": {},
   "source": [
    "## Supressão do indice limite inferior\n",
    "\n",
    "Quando o índice do limite inferior é omitido, é subentendido que é 0:"
   ]
  },
  {
   "cell_type": "code",
   "execution_count": 5,
   "metadata": {},
   "outputs": [
    {
     "name": "stdout",
     "output_type": "stream",
     "text": [
      "Resultado da operação a[:15:2]\n",
      "[ 0  2  4  6  8 10 12 14]\n",
      "Note que o fatiamento inicia do primeiro elemento\n",
      "Primeiro elemento até antes do 15o com passo duplo\n"
     ]
    }
   ],
   "source": [
    "a = np.arange(20)\n",
    "print('Resultado da operação a[:15:2]')\n",
    "print(a[:15:2])\n",
    "print('Note que o fatiamento inicia do primeiro elemento')\n",
    "print('Primeiro elemento até antes do 15o com passo duplo')"
   ]
  },
  {
   "cell_type": "markdown",
   "metadata": {},
   "source": [
    "## Supressão do indice limite superior\n",
    "\n",
    "Quando o índice do limite superior é omitido, fica implícito que é o último elemento:"
   ]
  },
  {
   "cell_type": "code",
   "execution_count": 6,
   "metadata": {},
   "outputs": [
    {
     "name": "stdout",
     "output_type": "stream",
     "text": [
      "Resultado da operação a[1::2]\n",
      "[ 1  3  5  7  9 11 13 15 17 19]\n",
      "Note que o fatiamento termina último elemento\n",
      "Primeiro elemento até o último com passo duplo\n"
     ]
    }
   ],
   "source": [
    "a = np.arange(20)\n",
    "print('Resultado da operação a[1::2]')\n",
    "print(a[1::2])\n",
    "print('Note que o fatiamento termina último elemento')\n",
    "print('Primeiro elemento até o último com passo duplo')"
   ]
  },
  {
   "cell_type": "markdown",
   "metadata": {},
   "source": [
    "## Supressão do indice do step\n",
    "\n",
    "O índice do step é opcional e quando não é indicado, seu valor é 1:"
   ]
  },
  {
   "cell_type": "code",
   "execution_count": 7,
   "metadata": {},
   "outputs": [
    {
     "name": "stdout",
     "output_type": "stream",
     "text": [
      "Resultado da operação a[1:15]\n",
      "[ 1  2  3  4  5  6  7  8  9 10 11 12 13 14]\n",
      "Note que o fatiamento tem step unitário\n",
      "Primeiro elemento até antes do 15o com passo um\n"
     ]
    }
   ],
   "source": [
    "a = np.arange(20)\n",
    "print('Resultado da operação a[1:15]')\n",
    "print(a[1:15])\n",
    "print('Note que o fatiamento tem step unitário')\n",
    "print('Primeiro elemento até antes do 15o com passo um')"
   ]
  },
  {
   "cell_type": "markdown",
   "metadata": {},
   "source": [
    "## Todos os elementos com passo unitário"
   ]
  },
  {
   "cell_type": "code",
   "execution_count": 8,
   "metadata": {},
   "outputs": [
    {
     "name": "stdout",
     "output_type": "stream",
     "text": [
      "Resultado da operação a[:]\n",
      "[ 0  1  2  3  4  5  6  7  8  9 10 11 12 13 14 15 16 17 18 19]\n",
      "Todos os elementos com passo unitário\n"
     ]
    }
   ],
   "source": [
    "a = np.arange(20)\n",
    "print('Resultado da operação a[:]')\n",
    "print(a[:])\n",
    "print('Todos os elementos com passo unitário')"
   ]
  },
  {
   "cell_type": "markdown",
   "metadata": {},
   "source": [
    "# Documentação Oficial Numpy\n",
    "\n",
    "[Scipy.org: indexação](https://docs.scipy.org/doc/numpy/reference/arrays.indexing.html)\n",
    "\n",
    "# Links Interessantes\n",
    "\n",
    "[Scipy Lectures: Indexação e fatiamento](http://www.scipy-lectures.org/intro/numpy/array_object.html#indexing-and-slicing)\n"
   ]
  },
  {
   "cell_type": "markdown",
   "metadata": {
    "collapsed": true
   },
   "source": []
  }
 ],
 "metadata": {
  "kernelspec": {
   "display_name": "Python 3 (ipykernel)",
   "language": "python",
   "name": "python3"
  },
  "language_info": {
   "codemirror_mode": {
    "name": "ipython",
    "version": 3
   },
   "file_extension": ".py",
   "mimetype": "text/x-python",
   "name": "python",
   "nbconvert_exporter": "python",
   "pygments_lexer": "ipython3",
   "version": "3.10.6"
  },
  "toc": {
   "colors": {
    "hover_highlight": "#DAA520",
    "running_highlight": "#FF0000",
    "selected_highlight": "#FFD700"
   },
   "moveMenuLeft": true,
   "nav_menu": {
    "height": "65px",
    "width": "252px"
   },
   "navigate_menu": true,
   "number_sections": true,
   "sideBar": true,
   "threshold": 4,
   "toc_cell": true,
   "toc_section_display": "block",
   "toc_window_display": false
  },
  "vscode": {
   "interpreter": {
    "hash": "31f2aee4e71d21fbe5cf8b01ff0e069b9275f58929596ceb00d14d90e3e16cd6"
   }
  }
 },
 "nbformat": 4,
 "nbformat_minor": 2
}
