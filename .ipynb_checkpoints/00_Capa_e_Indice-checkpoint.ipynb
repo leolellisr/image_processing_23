{
 "cells": [
  {
   "cell_type": "markdown",
   "metadata": {},
   "source": [
    "# Introduction to Computer Graphics and Image Processing\n",
    "\n"
   ]
  },
  {
   "cell_type": "markdown",
   "metadata": {},
   "source": [
    "## Introduction to Image Processing\n",
    "\n",
    "1. [Overview](01_Image_Processing.ipynb)\n",
    "\n",
    "### Introduction to Digital Images\n",
    "    \n",
    "1. [Introduction to NumPy](02_Learning_Numpy.ipynb)\n",
    "2. [Manipulating images: open, save, view, create](03_Read_and_Visualize_Images.ipynb)\n",
    "3. [Generation of synthetic images](04_Generate_sintetic_images.ipynb)\n",
    "\n",
    "### Radiometric transformations (point-to-point)\n",
    "\n",
    "1. [Image Histogram](05_Histogram.ipynb)\n",
    "2. [Intensity Transformation](tutorial_ti_2.ipynb)\n",
    "3. [Histogram Equalization Tutorial](tutorial_hist_eq_2.ipynb)\n",
    "4. [Histogram equalization tutorial by mosaic assembly](tutorial_pehist_1.ipynb)\n",
    "5. [Color transformations](06_Histogram_Color.ipynb)\n",
    "\n",
    "### Spatial transformations (neighborhood)\n",
    "\n",
    "1. [Filtering in the spatial domain](07_Filtering_spacial.ipynb)\n",
    "2. [Convolution as weighted average of image translations](tutorial_conv_3.ipynb)\n",
    "\n",
    "### Frequency domain transformations - Fourier transform\n",
    "\n",
    "1. [Generation of 1D and 2D sine waves](08_Sine_waves.ipynb)\n",
    "2. [Periodic Translation](09_periodic_Translation.ipynb)\n",
    "3. [DFT Properties](10_discret_Fourier_DFT.ipynb)\n",
    "4. [Convolution Theorem](11_Convolution_Theorem.ipynb)\n",
    "5. [Frequency filters](12_frequency_Filters.ipynb)\n",
    "\n",
    "### Segmentation\n",
    "\n",
    "1. [Segmentation by Otsu](14_Otsu_Segmentation.ipynb)\n",
    "2. [Example of segmentation by Watershed](15_Watershed_Segmentation.ipynb)\n",
    "3. [Comparing Otsu and Watershed](16_Comparing_Otsu_and_Watershed.ipynb)\n",
    "\n",
    "## Introduction to Computer Graphics\n",
    "\n",
    "### Introduction to OpenGL\n",
    "\n",
    "1. [First OpenGL program](17_First_program_OpenGL.ipynb)\n",
    "2. [Setting a single color for all vertices](18_Set_single_color.ipynb)\n",
    "3. [Rendering more than one object](19_Rendering_more_than_an_object.ipynb)\n",
    "4. [Animating the colors of triangles](20_Animate_triangle_colors.ipynb)\n",
    "5. [Animating the vertices of the triangle](21_Animate_triangle_vertices.ipynb)\n",
    "6. [Rendering order and depth test](22_Rendering_order_and_depth_test.ipynb)\n",
    "7. [Transparency](23_Transparence.ipynb)\n",
    "8. [Keyboard Events](24_Events_Keyboard.ipynb)\n",
    "9. [Describing a model](25_Describing_Model.ipynb)\n",
    "10. [Sphere with wireframe (culling and depth testing enabled)](26_Sphere_wireframe_culling_depth.ipynb)\n",
    "11. [Model transformations](27_Square_wt_transformations.ipynb)\n",
    "12. [Loading models from *.OBJ files](28_Loading_OBJ_models.ipynb)\n",
    "13. [Vision Transformation](29_Transformation_vision.ipynb)\n",
    "14. [Orthogonal projection transformation](30_Transformation_ortogonal.ipynb)\n",
    "15. [Perspective projection transformation](31_Transformation_perspective.ipynb)\n",
    "16. [Rendering with different shader programs](32_Spheres_differents_shader_programs.ipynb)\n",
    "17. [Terrain with spheres and point light source](33_Terrain_with_light_source.ipynb)\n",
    "18. [Terreno with spheres and directional light source](34_Terrain_with_direct_light_source.ipynb)\n",
    "19. [Land with spheres and spotlight light source](35_Terrain_with_spot_light_source.ipynb)\n",
    "20. [Terreno with spheres and multiple light sources](36_Terrain_with_multiple_light_sources.ipynb)\n",
    "21. [Rendering a full texture](37_Rendering_Full_Texture.ipynb)\n",
    "22. [Rendering part of a texture](38_Rendering_Part_Texture.ipynb)\n",
    "23. [Rendering animated sprites](39_Rendering_Animated_Sprites.ipynb)\n",
    "24. [Objects with textures](40_Objects_with_textures.ipynb)\n",
    "25. [Objects with textures and height maps](41_Objects_with_textures_and_height_maps.ipynb)\n",
    "26. [Using lighting and texture in models loaded from OBJ files](42_Light_and_texture_OBJ.ipynb)\n",
    "27. [Solar_System - final](43_solar_System_final.ipynb)"
   ]
  },
  {
   "cell_type": "markdown",
   "metadata": {},
   "source": [
    "# Basic tutorials on Jupyter, Python, NumPy, Matplotlib, Proc. Images\n",
    "\n",
    "A series of short basic tutorials on Python and mainly NumPy, with applications to image processing."
   ]
  },
  {
   "cell_type": "markdown",
   "metadata": {},
   "source": [
    "## Python\n",
    "\n",
    "- [Python I - Variable types](tutorial_python_1_1.ipynb)\n",
    "- [Python III - Function declaration](tutorial_python_1_3.ipynb)"
   ]
  },
  {
   "cell_type": "markdown",
   "metadata": {},
   "source": [
    "## NumPy\n",
    "\n",
    "- [Chessboard](../master/function/chess.ipynb) - Motivation on NumPy matrix programming versus explicit loop programming\n",
    "- [Rampa_solucoes](../master/misc/Rampa_solucoes.ipynb)\n",
    "- [one_hot](../master/function/one_hot.ipynb) - One-hot encoding, two solutions\n",
    "- [NumPy - Introduction to ndarray](tutorial_numpy_1_1.ipynb)\n",
    "- [Matplotlib](tutorial_matplotlib.ipynb)\n",
    "- [NumPy - Formatting array for printing](tutorial_numpy_1_11.ipynb)\n",
    "- [NumPy - One-dimensional array slicing](tutorial_numpy_1_2.ipynb)\n",
    "- [NumPy - Slicing in two dimensions](tutorial_numpy_1_3.ipynb)\n",
    "- [NumPy - Shallow and Deep Copy](tutorial_numpy_1_4.ipynb)\n",
    "- [NumPy - Array Strides](../master/misc/Array-strides.ipynb)\n",
    "- [NumPy - Axis reduction](tutorial_numpy_1_5a.ipynb)\n",
    "\n",
    "- [NumPy - Tile usage](tutorial_numpy_1_8.ipynb)\n",
    "- [NumPy - Using resize](tutorial_numpy_1_9.ipynb)\n",
    "- [NumPy - Using the clip](tutorial_numpy_1_10.ipynb)"
   ]
  },
  {
   "cell_type": "markdown",
   "metadata": {},
   "source": [
    "## Review - Calculus, Algebra\n",
    "\n",
    "- [Revision of Complex Numbers](../master/misc/Revisao_NumerosComplexos.ipynb )"
   ]
  },
  {
   "cell_type": "markdown",
   "metadata": {},
   "source": [
    "## Image processing\n",
    "\n",
    "- [Images - Representation, Reading and Visualization](tutorial_img_ds.ipynb)\n",
    "- [Proc Images with Slicing](tutorial_1_imagens.ipynb)\n",
    "- [NumPy - Indices and meshgrid to generate synthetic images](tutorial_numpy_1_7.ipynb)\n",
    "- [Histogram and Statistics](tutorial_hist__stat_2.ipynb)\n",
    "- [Intensity Transformation](tutorial_ti_2.ipynb)\n",
    "- [Histogram equalization](tutorial_hist_eq_2.ipynb)\n",
    "- [Equalization by pixel ordering](tutorial_pehist_1.ipynb)\n",
    "- [Specification of histogram by pixel ordering](tutorial_pehist_2.ipynb)\n",
    "- [Interactive contrast adjustment](tutorial_contraste_iterativo_2.ipynb)\n",
    "- [Convolution](tutorial_conv_3.ipynb)\n",
    "- [Convolution properties](tutorial_convprop_3.ipynb)\n",
    "\n",
    "- Properties of DFT\n",
    "- [DFT Scale (Expansion) Property](../master/function/dftscaleproperty.ipynb)\n",
    "- [Interpolation in expansion (frequency domain analysis](../master/function/magnify.ipynb)\n",
    "- [Discrete Wavelet Transform](../master/function/wavelets.ipynb)"
   ]
  },
  {
   "cell_type": "markdown",
   "metadata": {},
   "source": [
    "## Useful links\n",
    "\n",
    "- [Jupyter Notebook - documentation](http://jupyter-notebook.readthedocs.io/en/latest/notebook.html)\n",
    "- [Jupyter notebook - tips and tricks](https://www.dataquest.io/blog/jupyter-notebook-tips-tricks-shortcuts/)"
   ]
  },
  {
   "cell_type": "code",
   "execution_count": null,
   "metadata": {},
   "outputs": [],
   "source": []
  }
 ],
 "metadata": {
  "anaconda-cloud": {},
  "kernelspec": {
   "display_name": "Python 3 (ipykernel)",
   "language": "python",
   "name": "python3"
  },
  "language_info": {
   "codemirror_mode": {
    "name": "ipython",
    "version": 3
   },
   "file_extension": ".py",
   "mimetype": "text/x-python",
   "name": "python",
   "nbconvert_exporter": "python",
   "pygments_lexer": "ipython3",
   "version": "3.10.12"
  },
  "vscode": {
   "interpreter": {
    "hash": "31f2aee4e71d21fbe5cf8b01ff0e069b9275f58929596ceb00d14d90e3e16cd6"
   }
  }
 },
 "nbformat": 4,
 "nbformat_minor": 1
}
