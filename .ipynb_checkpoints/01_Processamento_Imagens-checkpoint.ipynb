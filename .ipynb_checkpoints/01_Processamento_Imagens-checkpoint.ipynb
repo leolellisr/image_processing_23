{
 "cells": [
  {
   "cell_type": "markdown",
   "metadata": {},
   "source": [
    "# Digital Image Processing\n",
    "\n",
    "Processing digital images means performing mathematical or logical operations using the values that represent each of the pixels. The main purposes of processing are:\n",
    "\n",
    "- Image enhancement\n",
    "- Image restoration\n",
    "- Image Segmentation\n",
    "\n",
    "## Types of processing\n",
    "\n",
    "### Radiometric transformation (point-to-point)\n",
    "\n",
    "- in gray levels\n",
    "- in color\n",
    "\n",
    "### Spatial transformation (neighborhood)\n",
    "\n",
    "- filtering in the spatial domain\n",
    "- frequency domain filtering\n",
    "\n",
    "### Arithmetic and logical operations\n",
    "\n",
    "- addition\n",
    "- subtraction\n",
    "\n",
    "### Segmentation\n",
    "\n",
    "- edge detection\n",
    "\n",
    "\n",
    "## Bibliography\n",
    "\n",
    "- GONZALEZ, R.C., WOODS, R. “Digital Image Processing” Edgard Blücher Ltda, 2000.\n",
    "- H. PEDRINI, W.R. SCHWARTZ, \"Digital Image Analysis: Principles, Algorithms and Applications\", Thomson Learning Edições Ltda, 2007."
   ]
  }
 ],
 "metadata": {
  "kernelspec": {
   "display_name": "Python 3 (ipykernel)",
   "language": "python",
   "name": "python3"
  },
  "language_info": {
   "codemirror_mode": {
    "name": "ipython",
    "version": 3
   },
   "file_extension": ".py",
   "mimetype": "text/x-python",
   "name": "python",
   "nbconvert_exporter": "python",
   "pygments_lexer": "ipython3",
   "version": "3.10.12"
  }
 },
 "nbformat": 4,
 "nbformat_minor": 2
}
