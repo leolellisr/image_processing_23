{
 "cells": [
  {
   "cell_type": "markdown",
   "metadata": {},
   "source": [
    "# Introduction to Numpy\n",
    "   \n",
    "## Copying ``ndarray`` variables\n",
    "\n",
    "``ndarray`` is designed for optimized access to large amounts of data. In this sense, the concepts\n",
    "described below about the three forms of copying between variables called no copy, shallow copy (*shallow*) and\n",
    "deep copy (*deep*) are fundamental for efficient coding. We can say that an ``ndarray`` has\n",
    "the header that contains data such as information about the element's type, dimensionality (``shape``) and\n",
    "step or offset to the next element (``strides``) and the raster data itself. The table\n",
    "The following shows the status of the header and data in the three types of copies.\n",
    "\n",
    "\n",
    "Type |Header: Type, Shape, Strides| Raster data |Example\n",
    "-----------------------|-------------------------- -----|------------------|------------------------- --\n",
    "No copy, just ref |original pointer |original pointer|a = b\n",
    "Shallow copy |new |original sharpener|b = a.reshape, slicing, a.T\n",
    "Deep copy |new |new |a = b.copy()\n",
    "\n",
    "\n",
    "## No explicit copy, reference only\n",
    "\n",
    "In the case below, we will use the normal equals command as assignment from the array ``a`` to the array ``b``.\n",
    "It is verified that both the shape and the data of ``b`` are the same as ``a``. Everything goes like ``b``\n",
    "was just a pointer to ``a``. Any modification to ``b`` is reflected in ``a``.\n",
    "   "
   ]
  },
  {
   "cell_type": "code",
   "execution_count": 1,
   "metadata": {},
   "outputs": [
    {
     "name": "stdout",
     "output_type": "stream",
     "text": [
      "a =\n",
      " [0 1 2 3 4 5]\n",
      "b =\n",
      " [0 1 2 3 4 5]\n",
      "\n",
      "a shape = (2, 3)\n",
      "a =\n",
      " [[-1  1  2]\n",
      " [ 3  4  5]]\n",
      "\n",
      "id of a =  140623771507216\n",
      "id of b =  140623771507216\n",
      "np.may_share_memory(a,b): True\n"
     ]
    }
   ],
   "source": [
    "import numpy as np\n",
    "    \n",
    "a = np.arange(6) \n",
    "b = a\n",
    "print(\"a =\\n\",a)\n",
    "print(\"b =\\n\",b)\n",
    "b.shape = (2,3) # change in the shape of b,\n",
    "print(\"\\na shape =\",a.shape) # change the shape of a\n",
    "\n",
    "b[0,0] = -1 # change in the content of b\n",
    "print(\"a =\\n\",a) # change the content of a\n",
    "\n",
    "print(\"\\nid of a = \",id(a)) # id is a unique object identifier\n",
    "print(\"id of b = \",id(b)) # a and b have the same id\n",
    "\n",
    "print('np.may_share_memory(a,b):',np.may_share_memory(a,b))"
   ]
  },
  {
   "cell_type": "markdown",
   "metadata": {},
   "source": [
    "Note that even upon return from a function, explicit copying may not happen. See the example at\n",
    "following from a function that just returns the input variable:"
   ]
  },
  {
   "cell_type": "code",
   "execution_count": 2,
   "metadata": {},
   "outputs": [
    {
     "name": "stdout",
     "output_type": "stream",
     "text": [
      "id of a =  140623771507216\n",
      "id of b =  140623771507216\n",
      "np.may_share_memory(a,b): True\n"
     ]
    }
   ],
   "source": [
    "def cc(a):\n",
    "  return a\n",
    "\n",
    "b = cc(a)\n",
    "print(\"id of a = \",id(a))\n",
    "print(\"id of b = \",id(b))\n",
    "print('np.may_share_memory(a,b):',np.may_share_memory(a,b))"
   ]
  },
  {
   "cell_type": "markdown",
   "metadata": {},
   "source": [
    "## Shallow copy\n",
    "\n",
    "Shallow copying is very useful and extensively used. It is used when you want to index the original array\n",
    "through the change of dimensionality or the\n",
    "reslicing, but without the need to make a copy of the raster data. In this way you can\n",
    "an optimization in accessing the n-dimensional array. There are several ways in which shallow copying happens,\n",
    "the main ones being:\n",
    "\n",
    "1) in the case of ``reshape`` where the number of ``ndarray`` elements is the same, but their dimensionality\n",
    "is changed;\n",
    "2) in the case of slicing where a subarray is indexed;\n",
    "3) in the case of array transposition;\n",
    "4) in the case of raster linearization using ``ravel()``.\n",
    "between others.\n",
    "\n",
    "##Reshape\n",
    "\n",
    "The following example initially shows the creation of a sequential one-dimensional vector being \"seen\" from\n",
    "two-dimensional or three-dimensional form."
   ]
  },
  {
   "cell_type": "code",
   "execution_count": 3,
   "metadata": {},
   "outputs": [
    {
     "name": "stdout",
     "output_type": "stream",
     "text": [
      "a =\n",
      " [ 0  1  2  3  4  5  6  7  8  9 10 11 12 13 14 15 16 17 18 19 20 21 22 23\n",
      " 24 25 26 27 28 29]\n",
      "a.shape: (30,)\n"
     ]
    }
   ],
   "source": [
    "a = np.arange(30)\n",
    "print(\"a =\\n\", a)\n",
    "print('a.shape:',a.shape)"
   ]
  },
  {
   "cell_type": "code",
   "execution_count": 4,
   "metadata": {},
   "outputs": [
    {
     "name": "stdout",
     "output_type": "stream",
     "text": [
      "b =\n",
      " [[ 0  1  2  3  4  5]\n",
      " [ 6  7  8  9 10 11]\n",
      " [12 13 14 15 16 17]\n",
      " [18 19 20 21 22 23]\n",
      " [24 25 26 27 28 29]]\n"
     ]
    }
   ],
   "source": [
    "b = a.reshape( (5, 6))\n",
    "print(\"b =\\n\", b)"
   ]
  },
  {
   "cell_type": "code",
   "execution_count": 5,
   "metadata": {},
   "outputs": [
    {
     "name": "stdout",
     "output_type": "stream",
     "text": [
      "b=\n",
      " [[-1  1  2  3  4  5]\n",
      " [-1  7  8  9 10 11]\n",
      " [-1 13 14 15 16 17]\n",
      " [-1 19 20 21 22 23]\n",
      " [-1 25 26 27 28 29]]\n",
      "a =\n",
      " [-1  1  2  3  4  5 -1  7  8  9 10 11 -1 13 14 15 16 17 -1 19 20 21 22 23\n",
      " -1 25 26 27 28 29]\n"
     ]
    }
   ],
   "source": [
    "b[:, 0] = -1\n",
    "print('b=\\n',b)\n",
    "print(\"a =\\n\", a)"
   ]
  },
  {
   "cell_type": "code",
   "execution_count": 6,
   "metadata": {},
   "outputs": [
    {
     "name": "stdout",
     "output_type": "stream",
     "text": [
      "c =\n",
      " [[[-1  1  2  3  4]\n",
      "  [ 5 -1  7  8  9]\n",
      "  [10 11 -1 13 14]]\n",
      "\n",
      " [[15 16 17 -1 19]\n",
      "  [20 21 22 23 -1]\n",
      "  [25 26 27 28 29]]]\n",
      "c.base is a: True\n",
      "np.may_share_memory(a,c): True\n",
      "id(a),id(c): 140623606554352 140623606556752\n"
     ]
    }
   ],
   "source": [
    "c = a.reshape( (2, 3, 5) )\n",
    "print(\"c =\\n\", c)\n",
    "print('c.base is a:',c.base is a)\n",
    "print('np.may_share_memory(a,c):',np.may_share_memory(a,c))\n",
    "print('id(a),id(c):',id(a),id(c))"
   ]
  },
  {
   "cell_type": "markdown",
   "metadata": {},
   "source": [
    "## Slice - Slicing\n",
    "\n",
    "The following example shows shallow copying when using slicing. In the example, all line elements\n",
    "and even columns are changed to 1. CAUTION: when assigning b = 1., it is important\n",
    "that b be referenced as ndarray in the form b[:,:], otherwise, if we set b = 1., a new\n",
    "variable is created."
   ]
  },
  {
   "cell_type": "code",
   "execution_count": 7,
   "metadata": {},
   "outputs": [
    {
     "name": "stdout",
     "output_type": "stream",
     "text": [
      "a.shape: (5, 6)\n",
      "b.shape: (3, 3)\n",
      "b=\n",
      " [[1. 1. 1.]\n",
      " [1. 1. 1.]\n",
      " [1. 1. 1.]]\n",
      "a=\n",
      " [[1. 0. 1. 0. 1. 0.]\n",
      " [0. 0. 0. 0. 0. 0.]\n",
      " [1. 0. 1. 0. 1. 0.]\n",
      " [0. 0. 0. 0. 0. 0.]\n",
      " [1. 0. 1. 0. 1. 0.]]\n",
      "b.base is a: True\n",
      "np.may_share_memory(a,b): True\n"
     ]
    }
   ],
   "source": [
    "a = np.zeros( (5, 6))\n",
    "print('a.shape:',a.shape)\n",
    "b = a[::2,::2]\n",
    "print('b.shape:',b.shape)\n",
    "b[:,:] = 1.\n",
    "print('b=\\n', b) \n",
    "print('a=\\n', a) \n",
    "print('b.base is a:',b.base is a)\n",
    "print('np.may_share_memory(a,b):',np.may_share_memory(a,b))"
   ]
  },
  {
   "cell_type": "markdown",
   "metadata": {},
   "source": [
    "This other example is an attractive way to process a column of a two-dimensional array,\n",
    "however, CAUTION is necessary, as the use of b must be with b[:] if a new value is assigned to\n",
    "it, otherwise, if we do b = arange(5), a new variable is created."
   ]
  },
  {
   "cell_type": "code",
   "execution_count": 8,
   "metadata": {},
   "outputs": [
    {
     "name": "stdout",
     "output_type": "stream",
     "text": [
      "a=\n",
      " [[ 0  1  2  3  4]\n",
      " [ 5  6  7  8  9]\n",
      " [10 11 12 13 14]\n",
      " [15 16 17 18 19]\n",
      " [20 21 22 23 24]]\n",
      "b= [ 0  5 10 15 20]\n"
     ]
    }
   ],
   "source": [
    "a = np.arange(25).reshape((5,5))\n",
    "print('a=\\n',a)\n",
    "b = a[:,0]\n",
    "print('b=',b)"
   ]
  },
  {
   "cell_type": "code",
   "execution_count": 9,
   "metadata": {},
   "outputs": [
    {
     "name": "stdout",
     "output_type": "stream",
     "text": [
      "b= [  0   1 100   3   4]\n",
      "a=\n",
      " [[  0   1   2   3   4]\n",
      " [  1   6   7   8   9]\n",
      " [100  11  12  13  14]\n",
      " [  3  16  17  18  19]\n",
      " [  4  21  22  23  24]]\n"
     ]
    }
   ],
   "source": [
    "b[:] = np.arange(5)\n",
    "b[2] = 100\n",
    "print('b=',b)\n",
    "print('a=\\n',a)"
   ]
  },
  {
   "cell_type": "code",
   "execution_count": 10,
   "metadata": {},
   "outputs": [
    {
     "name": "stdout",
     "output_type": "stream",
     "text": [
      "a=\n",
      " [[ 0  1  2  3  4]\n",
      " [ 5  6  7  8  9]\n",
      " [10 11 12 13 14]\n",
      " [15 16 17 18 19]\n",
      " [20 21 22 23 24]]\n",
      "b= [0 1 2 3 4]\n",
      "a=\n",
      " [[ 0  1  2  3  4]\n",
      " [ 5  6  7  8  9]\n",
      " [10 11 12 13 14]\n",
      " [15 16 17 18 19]\n",
      " [20 21 22 23 24]]\n"
     ]
    }
   ],
   "source": [
    "a = np.arange(25).reshape((5,5))\n",
    "print('a=\\n',a)\n",
    "b = np.arange(5)\n",
    "print('b=',b)\n",
    "print('a=\\n',a)"
   ]
  },
  {
   "cell_type": "markdown",
   "metadata": {},
   "source": [
    "## Transposed\n",
    "\n",
    "The matrix transposition operation that swaps rows for columns also produces a *view*\n",
    "of the image, without the need for copying:"
   ]
  },
  {
   "cell_type": "code",
   "execution_count": 11,
   "metadata": {},
   "outputs": [
    {
     "name": "stdout",
     "output_type": "stream",
     "text": [
      "a:\n",
      " [[ 0  1  2  3  4  5]\n",
      " [ 6  7  8  9 10 11]\n",
      " [12 13 14 15 16 17]\n",
      " [18 19 20 21 22 23]]\n",
      "at:\n",
      " [[ 0  6 12 18]\n",
      " [ 1  7 13 19]\n",
      " [ 2  8 14 20]\n",
      " [ 3  9 15 21]\n",
      " [ 4 10 16 22]\n",
      " [ 5 11 17 23]]\n",
      "at.shape (6, 4)\n",
      "np.may_share_memory(a,at): True\n"
     ]
    }
   ],
   "source": [
    "a = np.arange(24).reshape((4,6))\n",
    "print('a:\\n',a)\n",
    "at = a.T\n",
    "print('at:\\n',at)\n",
    "print('at.shape',at.shape)\n",
    "print('np.may_share_memory(a,at):',np.may_share_memory(a,at))"
   ]
  },
  {
   "cell_type": "markdown",
   "metadata": {},
   "source": [
    "##Ravel\n",
    "\n",
    "By applying the ``ravel()`` method to a ``ndarray``, a *view* of the raster is generated\n",
    "linearized (i.e. a single dimension) of the ``ndarray``."
   ]
  },
  {
   "cell_type": "code",
   "execution_count": 12,
   "metadata": {},
   "outputs": [
    {
     "name": "stdout",
     "output_type": "stream",
     "text": [
      "a:\n",
      " [[ 0  1  2  3  4  5]\n",
      " [ 6  7  8  9 10 11]\n",
      " [12 13 14 15 16 17]\n",
      " [18 19 20 21 22 23]]\n",
      "av.shape: (24,)\n",
      "av:\n",
      " [ 0  1  2  3  4  5  6  7  8  9 10 11 12 13 14 15 16 17 18 19 20 21 22 23]\n",
      "np.may_share_memory(a,av): True\n"
     ]
    }
   ],
   "source": [
    "a = np.arange(24).reshape((4,6))\n",
    "print('a:\\n',a)\n",
    "av = a.ravel()\n",
    "print('av.shape:',av.shape)\n",
    "print('av:\\n',av)\n",
    "print('np.may_share_memory(a,av):',np.may_share_memory(a,av))"
   ]
  },
  {
   "cell_type": "markdown",
   "metadata": {},
   "source": [
    "## Deep copy\n",
    "\n",
    "Creates a complete copy of the array, its shape and contents. The recommendation is to use the\n",
    "``copy()`` function to perform the deep copy, however it is possible to achieve the\n",
    "deep copy via ``np.array``."
   ]
  },
  {
   "cell_type": "code",
   "execution_count": 13,
   "metadata": {},
   "outputs": [
    {
     "name": "stdout",
     "output_type": "stream",
     "text": [
      "id de a =  140623606555984\n",
      "id de b =  140623606559344\n",
      "id de c =  140623606558480\n",
      "np.may_share_memory(a,b): False\n",
      "np.may_share_memory(a,c): False\n"
     ]
    }
   ],
   "source": [
    "b = a.copy()\n",
    "c = np.array(a, copy=True)\n",
    "\n",
    "print(\"id de a = \",id(a))\n",
    "print(\"id de b = \",id(b))\n",
    "print(\"id de c = \",id(c))\n",
    "print('np.may_share_memory(a,b):',np.may_share_memory(a,b))\n",
    "print('np.may_share_memory(a,c):',np.may_share_memory(a,c))"
   ]
  },
  {
   "cell_type": "markdown",
   "metadata": {},
   "source": [
    "## Documentação Oficial Numpy\n",
    "\n",
    "[Copies and Views](http://wiki.scipy.org/Tentative_NumPy_Tutorial#head-1529ae93dd5d431ffe3a1001a4ab1a394e70a5f2)"
   ]
  }
 ],
 "metadata": {
  "kernelspec": {
   "display_name": "Python 3 (ipykernel)",
   "language": "python",
   "name": "python3"
  },
  "language_info": {
   "codemirror_mode": {
    "name": "ipython",
    "version": 3
   },
   "file_extension": ".py",
   "mimetype": "text/x-python",
   "name": "python",
   "nbconvert_exporter": "python",
   "pygments_lexer": "ipython3",
   "version": "3.10.12"
  },
  "toc": {
   "colors": {
    "hover_highlight": "#DAA520",
    "running_highlight": "#FF0000",
    "selected_highlight": "#FFD700"
   },
   "moveMenuLeft": true,
   "nav_menu": {
    "height": "190px",
    "width": "252px"
   },
   "navigate_menu": true,
   "number_sections": true,
   "sideBar": true,
   "threshold": 4,
   "toc_cell": true,
   "toc_section_display": "block",
   "toc_window_display": false
  },
  "vscode": {
   "interpreter": {
    "hash": "31f2aee4e71d21fbe5cf8b01ff0e069b9275f58929596ceb00d14d90e3e16cd6"
   }
  }
 },
 "nbformat": 4,
 "nbformat_minor": 2
}
