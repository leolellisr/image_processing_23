{
 "cells": [
  {
   "cell_type": "markdown",
   "metadata": {},
   "source": [
    "# Introduction to NumPy\n",
    "\n",
    "## The ndarray type\n",
    "\n",
    "The ndarray type, or just array, is an arrangement of homogeneous items of dimensionality N, indexed by a tuple of N integers. There are 3 essential pieces of information associated with ndarray: the data type, its dimensions and the data itself. The dtype property allows you to know the type of data while shape is a tuple that indicates the size of each dimension of the arrangement. Access to the data itself must be done by indexing, slicing or by the variable itself.\n",
    "\n",
    "There are several ways to create a variable of type ndarray. For example, you can create one from a list (1D) or list of lists using the array function. The type of resulting array is deduced from the type of elements in the sequences.\n",
    "\n",
    "See below a vector of integers with 5 elements. Note that the vector is a row with 5 columns. Also note that the shape is a tuple of a single element (see the comma that appears because it is a tuple)."
   ]
  },
  {
   "cell_type": "code",
   "execution_count": 1,
   "metadata": {},
   "outputs": [
    {
     "name": "stdout",
     "output_type": "stream",
     "text": [
      "Dimensions: a.shape= (7,)\n",
      "Element type: a.dtype= uint8\n",
      "Printing the complete array:\n",
      " a= [  2   3   4 255 254   0  14]\n",
      "255\n",
      "uint8\n",
      "[0 0 0 1 0 0 0]\n"
     ]
    },
    {
     "name": "stderr",
     "output_type": "stream",
     "text": [
      "/tmp/ipykernel_16939/318144407.py:2: DeprecationWarning: NumPy will stop allowing conversion of out-of-bound Python integers to integer arrays.  The conversion of -1 to uint8 will fail in the future.\n",
      "For the old behavior, usually:\n",
      "    np.array(value).astype(dtype)`\n",
      "will give the desired result (the cast overflows).\n",
      "  a = np.array( [2,3,4,-1,-2,256, 270] ,'uint8')\n",
      "/tmp/ipykernel_16939/318144407.py:2: DeprecationWarning: NumPy will stop allowing conversion of out-of-bound Python integers to integer arrays.  The conversion of -2 to uint8 will fail in the future.\n",
      "For the old behavior, usually:\n",
      "    np.array(value).astype(dtype)`\n",
      "will give the desired result (the cast overflows).\n",
      "  a = np.array( [2,3,4,-1,-2,256, 270] ,'uint8')\n",
      "/tmp/ipykernel_16939/318144407.py:2: DeprecationWarning: NumPy will stop allowing conversion of out-of-bound Python integers to integer arrays.  The conversion of 256 to uint8 will fail in the future.\n",
      "For the old behavior, usually:\n",
      "    np.array(value).astype(dtype)`\n",
      "will give the desired result (the cast overflows).\n",
      "  a = np.array( [2,3,4,-1,-2,256, 270] ,'uint8')\n",
      "/tmp/ipykernel_16939/318144407.py:2: DeprecationWarning: NumPy will stop allowing conversion of out-of-bound Python integers to integer arrays.  The conversion of 270 to uint8 will fail in the future.\n",
      "For the old behavior, usually:\n",
      "    np.array(value).astype(dtype)`\n",
      "will give the desired result (the cast overflows).\n",
      "  a = np.array( [2,3,4,-1,-2,256, 270] ,'uint8')\n"
     ]
    }
   ],
   "source": [
    "import numpy as np\n",
    "a = np.array( [2,3,4,-1,-2,256, 270] ,'uint8')\n",
    "print ('Dimensions: a.shape=', a.shape)\n",
    "print ('Element type: a.dtype=', a.dtype)\n",
    "print ('Printing the complete array:\\n a=',a)\n",
    "m = a.max()\n",
    "print(m)\n",
    "print(m.dtype)\n",
    "b = a//a.max()\n",
    "print (b)"
   ]
  },
  {
   "cell_type": "markdown",
   "metadata": {},
   "source": [
    "Below is a two-dimensional array of floating point data with 2 rows and 3 columns. Note that the shape tuple increases to the left, that is, if I have a vector with 3 elements, its shape is (3,) and if a new dimension is added, for example 2 rows and 3 columns, the shape passes to be (3,2). What previously shape[0] in the one-dimensional vector was columns, in the two-dimensional matrix shape[0] became the number of rows. Thus, the last element of the shape tuple indicates the number of columns, the penultimate the number of rows. So if we always want to search for the number of columns, regardless of the number of dimensions, shape[-1] always informs the number of columns, shape[-2], the number of rows."
   ]
  },
  {
   "cell_type": "code",
   "execution_count": 2,
   "metadata": {},
   "outputs": [
    {
     "name": "stdout",
     "output_type": "stream",
     "text": [
      "A two-dimensional array, dimensions: b.shape= (2, 1, 3)\n",
      "Element type: b.dtype float64\n",
      "Number of columns: 3\n",
      "Number of lines: 1\n",
      "Elements, b=\n",
      " [[[1.5 2.3 5.2]]\n",
      "\n",
      " [[4.2 5.6 4.4]]]\n"
     ]
    }
   ],
   "source": [
    "b = np.array( [ [[1.5, 2.3, 5.2]],\n",
    "                [[4.2, 5.6, 4.4]]] )\n",
    "print ('A two-dimensional array, dimensions: b.shape=', b.shape)\n",
    "print ('Element type: b.dtype', b.dtype)\n",
    "print ('Number of columns:', b.shape[-1])\n",
    "print ('Number of lines:', b.shape[-2])\n",
    "print ('Elements, b=\\n', b)"
   ]
  },
  {
   "cell_type": "markdown",
   "metadata": {},
   "source": [
    "# Manipulação de arrays\n",
    "\n",
    "## Criando arrays inicializados\n",
    "\n",
    "É possível criar arrays de zeros, uns ou valores não inicializados usando as funções zeros, ones ou empty. As dimensões do array são obrigatórias e é dado por uma tupla e o tipo dos elementos é opcional, sendo que o default é tipo float.\n",
    "\n",
    "O código a seguir cria 3 arrays. O primeiro possui 2 linhas e 4 colunas. O segundo tem 3 dimensões: 3 fatias (ou imagens) onde cada uma tem 2 linhas e 5 colunas. Por último, é criado uma matriz booleana (True e False) de valores não inicializados de 2 linhas e 3 colunas. A vantagem do empty é que ele é mais rápido que o zeros ou ones. No caso abaixo, os valores mostrados na matrix criada pelo empty são aleatórios."
   ]
  },
  {
   "cell_type": "code",
   "execution_count": 3,
   "metadata": {},
   "outputs": [
    {
     "name": "stdout",
     "output_type": "stream",
     "text": [
      "Array of 0s: \n",
      " [[0. 0. 0. 0.]\n",
      " [0. 0. 0. 0.]]\n",
      "\n",
      "\n",
      "Array of 1s: \n",
      " [[[1 1 1 1 1]\n",
      "  [1 1 1 1 1]]\n",
      "\n",
      " [[1 1 1 1 1]\n",
      "  [1 1 1 1 1]]\n",
      "\n",
      " [[1 1 1 1 1]\n",
      "  [1 1 1 1 1]]]\n",
      "Uninitialized array (value is undetermined):\n",
      " [[4609434218613702656 4612361558371493478 4617540697942969549]\n",
      " [4616414798036126925 4617991057905706598 4616639978017495450]]\n"
     ]
    }
   ],
   "source": [
    "d = np.zeros( (2,4) )\n",
    "print ('Array of 0s: \\n', d)\n",
    "d = np.ones( (3,2,5), dtype='int16' )\n",
    "print ('\\n\\nArray of 1s: \\n', d)\n",
    "\n",
    "d = np.empty( (2,3), 'int' )\n",
    "print ('Uninitialized array (value is undetermined):\\n', d)"
   ]
  },
  {
   "cell_type": "code",
   "execution_count": 4,
   "metadata": {},
   "outputs": [
    {
     "name": "stdout",
     "output_type": "stream",
     "text": [
      "225 µs ± 22.3 µs per loop (mean ± std. dev. of 7 runs, 1,000 loops each)\n"
     ]
    }
   ],
   "source": [
    "%timeit a = np.zeros((1000000,))"
   ]
  },
  {
   "cell_type": "code",
   "execution_count": 5,
   "metadata": {},
   "outputs": [
    {
     "name": "stdout",
     "output_type": "stream",
     "text": [
      "333 ns ± 2.01 ns per loop (mean ± std. dev. of 7 runs, 1,000,000 loops each)\n"
     ]
    }
   ],
   "source": [
    "%timeit a = np.empty((1000000,))"
   ]
  },
  {
   "cell_type": "markdown",
   "metadata": {},
   "source": [
    "Note that Numpy allows n-dimensional arrays. In gray level images we will work with two-dimensional matrices but if the image is colored, we will represent it in 3 channels, R, G and B, represented in the 3-dimensional structure. If it is a video, that is, a sequence of images, we will have to add another dimension. If it is a tomography, we can also represent it in 3 dimensions: width, height and depth."
   ]
  },
  {
   "cell_type": "markdown",
   "metadata": {},
   "source": [
    "## Creating arrays with sequential values\n",
    "\n",
    "The arange and linspace functions generate a sequential vector. They differ only in parameters. While arange generates a sequence from the initial (included and optional), final (excluding) and step (optional) values, linspace generates a sequence with initial and final values and number of elements. Note the differences in the following examples:"
   ]
  },
  {
   "cell_type": "code",
   "execution_count": 6,
   "metadata": {},
   "outputs": [
    {
     "name": "stdout",
     "output_type": "stream",
     "text": [
      "np.arange( 10) =  [0 1 2 3 4 5 6 7 8 9]\n",
      "np.arange( 3, 8) =  [3 4 5 6 7]\n",
      "np.arange( 0, 2, 0.5) =  [0.  0.5 1.  1.5]\n",
      "np.linspace( 0, 2, 0 ) =  [0.  0.5 1.  1.5 2. ]\n"
     ]
    }
   ],
   "source": [
    "print('np.arange( 10) = ', np.arange(10))\n",
    "print('np.arange( 3, 8) = ', np.arange(3,8))\n",
    "print('np.arange( 0, 2, 0.5) = ', np.arange(0, 2, 0.5))\n",
    "print('np.linspace( 0, 2, 0 ) = ', np.linspace( 0, 2, 5 ))"
   ]
  },
  {
   "cell_type": "markdown",
   "metadata": {},
   "source": [
    "Note that in the last case, using linspace, the sequence starts at 0 and ends at 2 and must have 5 elements. Note that for this the step to be used will be 0.5, calculated automatically. In the previous example, the sequence starts at 0 and must end before 2 and the step is 0.5.\n",
    "\n",
    "## Numpy Official Documentation\n",
    "\n",
    "- [Scipy:numpy array](https://docs.scipy.org/doc/numpy/reference/generated/numpy.array.html)"
   ]
  },
  {
   "cell_type": "code",
   "execution_count": null,
   "metadata": {},
   "outputs": [],
   "source": []
  }
 ],
 "metadata": {
  "kernelspec": {
   "display_name": "Python 3 (ipykernel)",
   "language": "python",
   "name": "python3"
  },
  "language_info": {
   "codemirror_mode": {
    "name": "ipython",
    "version": 3
   },
   "file_extension": ".py",
   "mimetype": "text/x-python",
   "name": "python",
   "nbconvert_exporter": "python",
   "pygments_lexer": "ipython3",
   "version": "3.10.12"
  },
  "toc": {
   "colors": {
    "hover_highlight": "#DAA520",
    "running_highlight": "#FF0000",
    "selected_highlight": "#FFD700"
   },
   "moveMenuLeft": true,
   "nav_menu": {
    "height": "65px",
    "width": "252px"
   },
   "navigate_menu": true,
   "number_sections": true,
   "sideBar": true,
   "threshold": 4,
   "toc_cell": true,
   "toc_section_display": "block",
   "toc_window_display": false
  },
  "vscode": {
   "interpreter": {
    "hash": "31f2aee4e71d21fbe5cf8b01ff0e069b9275f58929596ceb00d14d90e3e16cd6"
   }
  }
 },
 "nbformat": 4,
 "nbformat_minor": 2
}
