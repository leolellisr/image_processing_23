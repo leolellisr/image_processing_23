{
 "cells": [
  {
   "cell_type": "markdown",
   "metadata": {},
   "source": [
    "# Fatiamento no ndarray bidimensional\n",
    "\n",
    "Um recurso importante do numpy é o fatiamento no qual é possível acessar partes do array de diversas formas, como pode ser visto abaixo:\n",
    "\n",
    "## Inicializando um array e mudando o seu shape"
   ]
  },
  {
   "cell_type": "code",
   "execution_count": 1,
   "metadata": {
    "ExecuteTime": {
     "end_time": "2018-05-16T08:44:19.524595Z",
     "start_time": "2018-05-16T08:44:19.002229Z"
    }
   },
   "outputs": [],
   "source": [
    "%matplotlib inline\n",
    "import numpy as np\n",
    "from PIL import Image"
   ]
  },
  {
   "cell_type": "code",
   "execution_count": 2,
   "metadata": {
    "ExecuteTime": {
     "end_time": "2018-05-16T08:44:20.779033Z",
     "start_time": "2018-05-16T08:44:20.773707Z"
    }
   },
   "outputs": [
    {
     "name": "stdout",
     "output_type": "stream",
     "text": [
      "[ 0  1  2  3  4  5  6  7  8  9 10 11 12 13 14 15 16 17 18 19]\n"
     ]
    }
   ],
   "source": [
    "a = np.arange(20) # a é um vetor unidimensional de 20 elementos\n",
    "print(a)"
   ]
  },
  {
   "cell_type": "code",
   "execution_count": 3,
   "metadata": {
    "ExecuteTime": {
     "end_time": "2018-05-16T08:44:22.771996Z",
     "start_time": "2018-05-16T08:44:22.764026Z"
    }
   },
   "outputs": [
    {
     "name": "stdout",
     "output_type": "stream",
     "text": [
      "a.reshape(4,5) = \n",
      " [[ 0  1  2  3  4]\n",
      " [ 5  6  7  8  9]\n",
      " [10 11 12 13 14]\n",
      " [15 16 17 18 19]]\n"
     ]
    }
   ],
   "source": [
    "a = a.reshape(4,5) # a agora é um array 4x5 (4 linhas por 5 colunas)\n",
    "print('a.reshape(4,5) = \\n', a)"
   ]
  },
  {
   "cell_type": "markdown",
   "metadata": {},
   "source": [
    "## Fatiamento de linhas e colunas de um array\n",
    "\n",
    "O operador : indica que todos os elementos naquela dimensão devem ser acessados."
   ]
  },
  {
   "cell_type": "code",
   "execution_count": 4,
   "metadata": {},
   "outputs": [
    {
     "name": "stdout",
     "output_type": "stream",
     "text": [
      "A segunda linha do array: \n",
      " [5 6 7 8 9]\n",
      " A primeira coluna do array: \n",
      " [ 0  5 10 15]\n"
     ]
    }
   ],
   "source": [
    "print('A segunda linha do array: \\n', a[1,:])  # A segunda linha é o índice 1\n",
    "\n",
    "print(' A primeira coluna do array: \\n', a[:,0]) # A primeira coluna corresponde ao índice 0"
   ]
  },
  {
   "cell_type": "markdown",
   "metadata": {},
   "source": [
    "## Fatiamento de elementos específicos de um array"
   ]
  },
  {
   "cell_type": "code",
   "execution_count": 5,
   "metadata": {
    "ExecuteTime": {
     "end_time": "2018-05-16T08:45:11.938269Z",
     "start_time": "2018-05-16T08:45:11.917529Z"
    }
   },
   "outputs": [
    {
     "name": "stdout",
     "output_type": "stream",
     "text": [
      "Acessando as linhas do array de 2 em 2 começando pelo índice 0: \n",
      " [[ 0  1  2  3  4]\n",
      " [10 11 12 13 14]]\n",
      " Acessando as linhas e colunas do array de 2 em 2 começando pela linha 0 e coluna 1: \n",
      " [[ 1  3]\n",
      " [11 13]]\n"
     ]
    }
   ],
   "source": [
    "print('Acessando as linhas do array de 2 em 2 começando pelo índice 0: \\n', \n",
    "      a[0::2,:])\n",
    "\n",
    "print(' Acessando as linhas e colunas do array de 2 em 2 começando pela linha 0 e coluna 1: \\n', \n",
    "      a[0::2,1::2])"
   ]
  },
  {
   "cell_type": "markdown",
   "metadata": {},
   "source": [
    "## Fatiamento com índices invertidos"
   ]
  },
  {
   "cell_type": "code",
   "execution_count": 6,
   "metadata": {
    "ExecuteTime": {
     "end_time": "2018-05-16T08:45:24.748248Z",
     "start_time": "2018-05-16T08:45:24.738838Z"
    }
   },
   "outputs": [
    {
     "name": "stdout",
     "output_type": "stream",
     "text": [
      "Acesso as duas últimas linhas do array em ordem reversa:\n",
      " [[15 16 17 18 19]\n",
      " [10 11 12 13 14]]\n",
      "Acesso elemento na última linha e coluna do array:\n",
      " 19\n",
      "Invertendo a ordem das linhas do array:\n",
      " [[15 16 17 18 19]\n",
      " [10 11 12 13 14]\n",
      " [ 5  6  7  8  9]\n",
      " [ 0  1  2  3  4]]\n"
     ]
    }
   ],
   "source": [
    "print(\"Acesso as duas últimas linhas do array em ordem reversa:\\n\", \n",
    "      a[-1:-3:-1,:])\n",
    "print(\"Acesso elemento na última linha e coluna do array:\\n\", \n",
    "      a[-1,-1])\n",
    "print(\"Invertendo a ordem das linhas do array:\\n\", \n",
    "      a[::-1,:])"
   ]
  },
  {
   "cell_type": "markdown",
   "metadata": {},
   "source": [
    "# Documentação Oficial Numpy\n",
    "\n",
    "[Scipy.org Princípios básicos de indexação de arrays](https://docs.scipy.org/doc/numpy/user/basics.indexing.html)\n",
    "\n",
    "# Links Interessantes\n",
    "\n",
    "[Scipy-lectures: operações avançadas com fatiamento](http://scipy-lectures.github.io/intro/numpy/array_object.html#fancy-indexing)"
   ]
  }
 ],
 "metadata": {
  "kernelspec": {
   "display_name": "Python 3 (ipykernel)",
   "language": "python",
   "name": "python3"
  },
  "language_info": {
   "codemirror_mode": {
    "name": "ipython",
    "version": 3
   },
   "file_extension": ".py",
   "mimetype": "text/x-python",
   "name": "python",
   "nbconvert_exporter": "python",
   "pygments_lexer": "ipython3",
   "version": "3.10.6"
  },
  "toc": {
   "nav_menu": {
    "height": "158px",
    "width": "252px"
   },
   "number_sections": true,
   "sideBar": true,
   "skip_h1_title": false,
   "toc_cell": true,
   "toc_position": {},
   "toc_section_display": "block",
   "toc_window_display": false
  },
  "vscode": {
   "interpreter": {
    "hash": "31f2aee4e71d21fbe5cf8b01ff0e069b9275f58929596ceb00d14d90e3e16cd6"
   }
  }
 },
 "nbformat": 4,
 "nbformat_minor": 2
}
